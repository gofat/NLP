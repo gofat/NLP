{
 "cells": [
  {
   "cell_type": "code",
   "execution_count": 1,
   "metadata": {
    "collapsed": true
   },
   "outputs": [],
   "source": [
    "import nltk"
   ]
  },
  {
   "cell_type": "code",
   "execution_count": 2,
   "metadata": {
    "collapsed": false
   },
   "outputs": [
    {
     "data": {
      "text/plain": [
       "['austen-emma.txt',\n",
       " 'austen-persuasion.txt',\n",
       " 'austen-sense.txt',\n",
       " 'bible-kjv.txt',\n",
       " 'blake-poems.txt',\n",
       " 'bryant-stories.txt',\n",
       " 'burgess-busterbrown.txt',\n",
       " 'carroll-alice.txt',\n",
       " 'chesterton-ball.txt',\n",
       " 'chesterton-brown.txt',\n",
       " 'chesterton-thursday.txt',\n",
       " 'edgeworth-parents.txt',\n",
       " 'melville-moby_dick.txt',\n",
       " 'milton-paradise.txt',\n",
       " 'shakespeare-caesar.txt',\n",
       " 'shakespeare-hamlet.txt',\n",
       " 'shakespeare-macbeth.txt',\n",
       " 'whitman-leaves.txt']"
      ]
     },
     "execution_count": 2,
     "metadata": {},
     "output_type": "execute_result"
    }
   ],
   "source": [
    "nltk.corpus.gutenberg.fileids()"
   ]
  },
  {
   "cell_type": "code",
   "execution_count": 5,
   "metadata": {
    "collapsed": false
   },
   "outputs": [
    {
     "data": {
      "text/plain": [
       "['adventure',\n",
       " 'belles_lettres',\n",
       " 'editorial',\n",
       " 'fiction',\n",
       " 'government',\n",
       " 'hobbies',\n",
       " 'humor',\n",
       " 'learned',\n",
       " 'lore',\n",
       " 'mystery',\n",
       " 'news',\n",
       " 'religion',\n",
       " 'reviews',\n",
       " 'romance',\n",
       " 'science_fiction']"
      ]
     },
     "execution_count": 5,
     "metadata": {},
     "output_type": "execute_result"
    }
   ],
   "source": [
    "nltk.corpus.brown.categories()"
   ]
  },
  {
   "cell_type": "code",
   "execution_count": 3,
   "metadata": {
    "collapsed": true
   },
   "outputs": [],
   "source": [
    "from nltk.collocations import *"
   ]
  },
  {
   "cell_type": "markdown",
   "metadata": {},
   "source": [
    "# Transformations"
   ]
  },
  {
   "cell_type": "code",
   "execution_count": null,
   "metadata": {
    "collapsed": false
   },
   "outputs": [],
   "source": [
    "f=open(r'D:\\Projects\\Natural language processing\\Paustovskiy_Corpus\\Povest_o_zhizni_Knigi_1-3-norm.txt',\n",
    "      encoding='utf-8')\n",
    "s=f.read()\n",
    "f.close()\n",
    "s"
   ]
  },
  {
   "cell_type": "code",
   "execution_count": null,
   "metadata": {
    "collapsed": true
   },
   "outputs": [],
   "source": [
    "import re\n",
    "s=re.sub(r'{|}','',s)"
   ]
  },
  {
   "cell_type": "code",
   "execution_count": null,
   "metadata": {
    "collapsed": false
   },
   "outputs": [],
   "source": [
    "print(s[:1500])"
   ]
  },
  {
   "cell_type": "code",
   "execution_count": null,
   "metadata": {
    "collapsed": false
   },
   "outputs": [],
   "source": [
    "f=open(r'D:\\Projects\\Natural language processing\\Paustovskiy_Corpus\\Povest_o_zhizni_Knigi_1-3-norm.txt','w',\n",
    "      encoding='utf-8')\n",
    "f.write(s)\n",
    "f.close()"
   ]
  },
  {
   "cell_type": "markdown",
   "metadata": {},
   "source": [
    "# Loading corpus"
   ]
  },
  {
   "cell_type": "code",
   "execution_count": 11,
   "metadata": {
    "collapsed": true
   },
   "outputs": [],
   "source": [
    "text = nltk.corpus.gutenberg.words('austen-emma.txt')\n",
    "text = [w.lower() for w in text if w.isalpha()]"
   ]
  },
  {
   "cell_type": "markdown",
   "metadata": {},
   "source": [
    "## Паустовский"
   ]
  },
  {
   "cell_type": "code",
   "execution_count": 24,
   "metadata": {
    "collapsed": false
   },
   "outputs": [
    {
     "data": {
      "text/plain": [
       "['Povest_o_zhizni_Knigi_1-3-norm.txt',\n",
       " 'Povest_o_zhizni_Knigi_1-3.txt',\n",
       " 'Povest_o_zhizni_Knigi_4-6.txt']"
      ]
     },
     "execution_count": 24,
     "metadata": {},
     "output_type": "execute_result"
    }
   ],
   "source": [
    "from nltk.corpus import PlaintextCorpusReader\n",
    "my_corpus = PlaintextCorpusReader(r'D:\\Projects\\Natural language processing\\Paustovskiy_Corpus','.*')\n",
    "my_corpus.fileids()"
   ]
  },
  {
   "cell_type": "code",
   "execution_count": 25,
   "metadata": {
    "collapsed": false
   },
   "outputs": [],
   "source": [
    "text = my_corpus.words('Povest_o_zhizni_Knigi_1-3.txt')"
   ]
  },
  {
   "cell_type": "code",
   "execution_count": null,
   "metadata": {
    "collapsed": true
   },
   "outputs": [],
   "source": [
    "text = my_corpus.words('Povest_o_zhizni_Knigi_1-3-norm.txt')"
   ]
  },
  {
   "cell_type": "code",
   "execution_count": 26,
   "metadata": {
    "collapsed": true
   },
   "outputs": [],
   "source": [
    "text = [w.lower() for w in text if w.isalpha()]"
   ]
  },
  {
   "cell_type": "markdown",
   "metadata": {},
   "source": [
    "# Коллокации"
   ]
  },
  {
   "cell_type": "code",
   "execution_count": 27,
   "metadata": {
    "collapsed": true
   },
   "outputs": [],
   "source": [
    "bigram_measures = nltk.collocations.BigramAssocMeasures()\n",
    "trigram_measures = nltk.collocations.TrigramAssocMeasures()"
   ]
  },
  {
   "cell_type": "code",
   "execution_count": 28,
   "metadata": {
    "collapsed": false
   },
   "outputs": [],
   "source": [
    "finder = BigramCollocationFinder.from_words(text)"
   ]
  },
  {
   "cell_type": "code",
   "execution_count": 29,
   "metadata": {
    "collapsed": false
   },
   "outputs": [
    {
     "data": {
      "text/plain": [
       "<nltk.metrics.association.BigramAssocMeasures at 0x58859e8>"
      ]
     },
     "execution_count": 29,
     "metadata": {},
     "output_type": "execute_result"
    }
   ],
   "source": [
    "bigram_measures"
   ]
  },
  {
   "cell_type": "code",
   "execution_count": 30,
   "metadata": {
    "collapsed": false
   },
   "outputs": [
    {
     "data": {
      "text/plain": [
       "[('aeternam', 'dona'),\n",
       " ('dum', 'sumus'),\n",
       " ('finita', 'la'),\n",
       " ('gaudeamus', 'igitur'),\n",
       " ('igitur', 'juvenes'),\n",
       " ('in', 'illis'),\n",
       " ('juvenes', 'dum'),\n",
       " ('la', 'comedia'),\n",
       " ('lux', 'perpetua'),\n",
       " ('mutamur', 'in')]"
      ]
     },
     "execution_count": 30,
     "metadata": {},
     "output_type": "execute_result"
    }
   ],
   "source": [
    "finder.nbest(bigram_measures.pmi, 10)"
   ]
  },
  {
   "cell_type": "code",
   "execution_count": 31,
   "metadata": {
    "collapsed": true
   },
   "outputs": [],
   "source": [
    "finder.apply_freq_filter(10)"
   ]
  },
  {
   "cell_type": "code",
   "execution_count": 32,
   "metadata": {
    "collapsed": false
   },
   "outputs": [
    {
     "data": {
      "text/plain": [
       "[('викентия', 'ивановна'),\n",
       " ('марина', 'павловна'),\n",
       " ('лазарь', 'борисович'),\n",
       " ('анна', 'петровна'),\n",
       " ('платон', 'федорович'),\n",
       " ('мария', 'трофимовна'),\n",
       " ('дядей', 'колей'),\n",
       " ('мосье', 'говас'),\n",
       " ('дяде', 'коле'),\n",
       " ('тетушка', 'дозя'),\n",
       " ('временного', 'правительства'),\n",
       " ('володя', 'румянцев'),\n",
       " ('инспектор', 'бодянский'),\n",
       " ('вера', 'севастьяновна'),\n",
       " ('дед', 'мыкола'),\n",
       " ('дяди', 'коли'),\n",
       " ('конце', 'концов'),\n",
       " ('пан', 'сотник'),\n",
       " ('самом', 'деле'),\n",
       " ('пан', 'ктуренда'),\n",
       " ('тетя', 'надя'),\n",
       " ('покачал', 'головой'),\n",
       " ('сих', 'пор'),\n",
       " ('белой', 'церкви'),\n",
       " ('передо', 'мной'),\n",
       " ('друг', 'друга'),\n",
       " ('тетя', 'маруся'),\n",
       " ('дядя', 'гриша'),\n",
       " ('дядя', 'юзя'),\n",
       " ('дядя', 'коля')]"
      ]
     },
     "execution_count": 32,
     "metadata": {},
     "output_type": "execute_result"
    }
   ],
   "source": [
    "finder.nbest(bigram_measures.pmi, 30)"
   ]
  },
  {
   "cell_type": "code",
   "execution_count": 33,
   "metadata": {
    "collapsed": false
   },
   "outputs": [
    {
     "data": {
      "text/plain": [
       "[('викентия', 'ивановна'),\n",
       " ('марина', 'павловна'),\n",
       " ('лазарь', 'борисович'),\n",
       " ('анна', 'петровна'),\n",
       " ('платон', 'федорович'),\n",
       " ('мария', 'трофимовна'),\n",
       " ('дядей', 'колей'),\n",
       " ('мосье', 'говас'),\n",
       " ('дяде', 'коле'),\n",
       " ('тетушка', 'дозя'),\n",
       " ('временного', 'правительства'),\n",
       " ('володя', 'румянцев'),\n",
       " ('инспектор', 'бодянский'),\n",
       " ('вера', 'севастьяновна'),\n",
       " ('дед', 'мыкола'),\n",
       " ('дяди', 'коли'),\n",
       " ('конце', 'концов'),\n",
       " ('пан', 'сотник'),\n",
       " ('самом', 'деле'),\n",
       " ('пан', 'ктуренда'),\n",
       " ('тетя', 'надя'),\n",
       " ('покачал', 'головой'),\n",
       " ('сих', 'пор'),\n",
       " ('белой', 'церкви'),\n",
       " ('передо', 'мной'),\n",
       " ('друг', 'друга'),\n",
       " ('тетя', 'маруся'),\n",
       " ('дядя', 'гриша'),\n",
       " ('дядя', 'юзя'),\n",
       " ('дядя', 'коля')]"
      ]
     },
     "execution_count": 33,
     "metadata": {},
     "output_type": "execute_result"
    }
   ],
   "source": [
    "finder.nbest(bigram_measures.pmi, 30)"
   ]
  },
  {
   "cell_type": "code",
   "execution_count": 37,
   "metadata": {
    "collapsed": false
   },
   "outputs": [
    {
     "data": {
      "text/plain": [
       "[('у', 'меня'),\n",
       " ('не', 'было'),\n",
       " ('я', 'не'),\n",
       " ('ничего', 'не'),\n",
       " ('не', 'мог'),\n",
       " ('потому', 'что'),\n",
       " ('может', 'быть'),\n",
       " ('должно', 'быть'),\n",
       " ('он', 'был'),\n",
       " ('у', 'него'),\n",
       " ('сказал', 'он'),\n",
       " ('как', 'бы'),\n",
       " ('об', 'этом'),\n",
       " ('в', 'этом'),\n",
       " ('то', 'время'),\n",
       " ('так', 'же'),\n",
       " ('на', 'меня'),\n",
       " ('что', 'это'),\n",
       " ('никто', 'не'),\n",
       " ('у', 'нас'),\n",
       " ('это', 'было'),\n",
       " ('как', 'будто'),\n",
       " ('вместе', 'с'),\n",
       " ('ко', 'мне'),\n",
       " ('все', 'это'),\n",
       " ('из', 'за'),\n",
       " ('я', 'был'),\n",
       " ('никогда', 'не'),\n",
       " ('смотрел', 'на'),\n",
       " ('о', 'том')]"
      ]
     },
     "execution_count": 37,
     "metadata": {},
     "output_type": "execute_result"
    }
   ],
   "source": [
    "finder.nbest(bigram_measures.student_t, 30)"
   ]
  },
  {
   "cell_type": "code",
   "execution_count": 38,
   "metadata": {
    "collapsed": false
   },
   "outputs": [
    {
     "data": {
      "text/plain": [
       "[('викентия', 'ивановна'),\n",
       " ('лазарь', 'борисович'),\n",
       " ('марина', 'павловна'),\n",
       " ('платон', 'федорович'),\n",
       " ('дяди', 'коли'),\n",
       " ('дядей', 'колей'),\n",
       " ('мосье', 'говас'),\n",
       " ('анна', 'петровна'),\n",
       " ('вера', 'севастьяновна'),\n",
       " ('мария', 'трофимовна'),\n",
       " ('тетушка', 'дозя'),\n",
       " ('конце', 'концов'),\n",
       " ('дяде', 'коле'),\n",
       " ('временного', 'правительства'),\n",
       " ('дядя', 'коля'),\n",
       " ('тех', 'пор'),\n",
       " ('володя', 'румянцев'),\n",
       " ('инспектор', 'бодянский'),\n",
       " ('должно', 'быть'),\n",
       " ('пан', 'ктуренда'),\n",
       " ('тетя', 'маруся'),\n",
       " ('сих', 'пор'),\n",
       " ('тетя', 'надя'),\n",
       " ('дед', 'мыкола'),\n",
       " ('дядя', 'юзя'),\n",
       " ('об', 'этом'),\n",
       " ('может', 'быть'),\n",
       " ('друг', 'друга'),\n",
       " ('пан', 'сотник'),\n",
       " ('самом', 'деле')]"
      ]
     },
     "execution_count": 38,
     "metadata": {},
     "output_type": "execute_result"
    }
   ],
   "source": [
    "finder.nbest(bigram_measures.chi_sq, 30)"
   ]
  },
  {
   "cell_type": "code",
   "execution_count": 39,
   "metadata": {
    "collapsed": false
   },
   "outputs": [
    {
     "data": {
      "text/plain": [
       "[('должно', 'быть'),\n",
       " ('может', 'быть'),\n",
       " ('у', 'меня'),\n",
       " ('об', 'этом'),\n",
       " ('ничего', 'не'),\n",
       " ('потому', 'что'),\n",
       " ('не', 'мог'),\n",
       " ('тех', 'пор'),\n",
       " ('у', 'него'),\n",
       " ('дядя', 'коля'),\n",
       " ('не', 'было'),\n",
       " ('ко', 'мне'),\n",
       " ('то', 'время'),\n",
       " ('дяди', 'коли'),\n",
       " ('о', 'том'),\n",
       " ('со', 'мной'),\n",
       " ('как', 'бы'),\n",
       " ('вместе', 'с'),\n",
       " ('так', 'же'),\n",
       " ('тетя', 'маруся'),\n",
       " ('дядя', 'юзя'),\n",
       " ('сказал', 'он'),\n",
       " ('как', 'будто'),\n",
       " ('конце', 'концов'),\n",
       " ('никто', 'не'),\n",
       " ('сих', 'пор'),\n",
       " ('он', 'был'),\n",
       " ('у', 'нас'),\n",
       " ('у', 'нее'),\n",
       " ('во', 'время')]"
      ]
     },
     "execution_count": 39,
     "metadata": {},
     "output_type": "execute_result"
    }
   ],
   "source": [
    "finder.nbest(bigram_measures.likelihood_ratio, 30)"
   ]
  },
  {
   "cell_type": "markdown",
   "metadata": {},
   "source": [
    "## PyMorphy"
   ]
  },
  {
   "cell_type": "code",
   "execution_count": 42,
   "metadata": {
    "collapsed": false
   },
   "outputs": [],
   "source": [
    "import pymorphy2"
   ]
  },
  {
   "cell_type": "code",
   "execution_count": 43,
   "metadata": {
    "collapsed": true
   },
   "outputs": [],
   "source": [
    "morph = pymorphy2.MorphAnalyzer()"
   ]
  },
  {
   "cell_type": "code",
   "execution_count": 44,
   "metadata": {
    "collapsed": false
   },
   "outputs": [
    {
     "data": {
      "text/plain": [
       "[Parse(word='стали', tag=OpencorporaTag('VERB,perf,intr plur,past,indc'), normal_form='стать', score=0.984662, methods_stack=((<DictionaryAnalyzer>, 'стали', 904, 4),)),\n",
       " Parse(word='стали', tag=OpencorporaTag('NOUN,inan,femn sing,gent'), normal_form='сталь', score=0.003067, methods_stack=((<DictionaryAnalyzer>, 'стали', 13, 1),)),\n",
       " Parse(word='стали', tag=OpencorporaTag('NOUN,inan,femn sing,datv'), normal_form='сталь', score=0.003067, methods_stack=((<DictionaryAnalyzer>, 'стали', 13, 2),)),\n",
       " Parse(word='стали', tag=OpencorporaTag('NOUN,inan,femn sing,loct'), normal_form='сталь', score=0.003067, methods_stack=((<DictionaryAnalyzer>, 'стали', 13, 5),)),\n",
       " Parse(word='стали', tag=OpencorporaTag('NOUN,inan,femn plur,nomn'), normal_form='сталь', score=0.003067, methods_stack=((<DictionaryAnalyzer>, 'стали', 13, 6),)),\n",
       " Parse(word='стали', tag=OpencorporaTag('NOUN,inan,femn plur,accs'), normal_form='сталь', score=0.003067, methods_stack=((<DictionaryAnalyzer>, 'стали', 13, 9),))]"
      ]
     },
     "execution_count": 44,
     "metadata": {},
     "output_type": "execute_result"
    }
   ],
   "source": [
    "morph.parse('стали')"
   ]
  },
  {
   "cell_type": "code",
   "execution_count": 47,
   "metadata": {
    "collapsed": false
   },
   "outputs": [],
   "source": [
    "p = morph.parse('стали')[1]"
   ]
  },
  {
   "cell_type": "code",
   "execution_count": 48,
   "metadata": {
    "collapsed": false
   },
   "outputs": [
    {
     "data": {
      "text/plain": [
       "OpencorporaTag('NOUN,inan,femn sing,gent')"
      ]
     },
     "execution_count": 48,
     "metadata": {},
     "output_type": "execute_result"
    }
   ],
   "source": [
    "p.tag"
   ]
  },
  {
   "cell_type": "code",
   "execution_count": 49,
   "metadata": {
    "collapsed": false
   },
   "outputs": [
    {
     "data": {
      "text/plain": [
       "'NOUN'"
      ]
     },
     "execution_count": 49,
     "metadata": {},
     "output_type": "execute_result"
    }
   ],
   "source": [
    "p.tag.POS"
   ]
  },
  {
   "cell_type": "code",
   "execution_count": null,
   "metadata": {
    "collapsed": false
   },
   "outputs": [],
   "source": [
    "p.tag.number"
   ]
  },
  {
   "cell_type": "code",
   "execution_count": 50,
   "metadata": {
    "collapsed": false
   },
   "outputs": [
    {
     "data": {
      "text/plain": [
       "[Parse(word='стекло', tag=OpencorporaTag('NOUN,inan,neut sing,nomn'), normal_form='стекло', score=0.75, methods_stack=((<DictionaryAnalyzer>, 'стекло', 545, 0),)),\n",
       " Parse(word='стекло', tag=OpencorporaTag('NOUN,inan,neut sing,accs'), normal_form='стекло', score=0.1875, methods_stack=((<DictionaryAnalyzer>, 'стекло', 545, 3),)),\n",
       " Parse(word='стекло', tag=OpencorporaTag('VERB,perf,intr neut,sing,past,indc'), normal_form='стечь', score=0.0625, methods_stack=((<DictionaryAnalyzer>, 'стекло', 968, 3),))]"
      ]
     },
     "execution_count": 50,
     "metadata": {},
     "output_type": "execute_result"
    }
   ],
   "source": [
    "morph.parse('стекло')"
   ]
  },
  {
   "cell_type": "code",
   "execution_count": null,
   "metadata": {
    "collapsed": false
   },
   "outputs": [],
   "source": [
    "morph.parse('стекло')[2].normal_form"
   ]
  },
  {
   "cell_type": "code",
   "execution_count": 51,
   "metadata": {
    "collapsed": false
   },
   "outputs": [
    {
     "data": {
      "text/plain": [
       "[Parse(word='краказябрами', tag=OpencorporaTag('NOUN,inan,femn plur,ablt'), normal_form='краказябра', score=1.0, methods_stack=((<FakeDictionary>, 'краказябрами', 55, 11), (<KnownSuffixAnalyzer>, 'брами')))]"
      ]
     },
     "execution_count": 51,
     "metadata": {},
     "output_type": "execute_result"
    }
   ],
   "source": [
    "morph.parse('краказябрами')"
   ]
  },
  {
   "cell_type": "code",
   "execution_count": 52,
   "metadata": {
    "collapsed": false
   },
   "outputs": [
    {
     "data": {
      "text/plain": [
       "[Parse(word='кривлянского', tag=OpencorporaTag('ADJF masc,sing,gent'), normal_form='кривлянский', score=0.32923503849378033, methods_stack=((<DictionaryAnalyzer>, 'янского', 16, 1), (<UnknownPrefixAnalyzer>, 'кривл'))),\n",
       " Parse(word='кривлянского', tag=OpencorporaTag('ADJF anim,masc,sing,accs'), normal_form='кривлянский', score=0.32923503849378033, methods_stack=((<DictionaryAnalyzer>, 'янского', 16, 3), (<UnknownPrefixAnalyzer>, 'кривл'))),\n",
       " Parse(word='кривлянского', tag=OpencorporaTag('ADJF neut,sing,gent'), normal_form='кривлянский', score=0.32923503849378033, methods_stack=((<DictionaryAnalyzer>, 'янского', 16, 15), (<UnknownPrefixAnalyzer>, 'кривл'))),\n",
       " Parse(word='кривлянского', tag=OpencorporaTag('NOUN,anim,masc,Sgtm,Surn sing,gent'), normal_form='кривлянский', score=0.0061474422593295625, methods_stack=((<FakeDictionary>, 'кривлянского', 102, 1), (<KnownSuffixAnalyzer>, 'ского'))),\n",
       " Parse(word='кривлянского', tag=OpencorporaTag('NOUN,anim,masc,Sgtm,Surn sing,accs'), normal_form='кривлянский', score=0.0061474422593295625, methods_stack=((<FakeDictionary>, 'кривлянского', 102, 3), (<KnownSuffixAnalyzer>, 'ского')))]"
      ]
     },
     "execution_count": 52,
     "metadata": {},
     "output_type": "execute_result"
    }
   ],
   "source": [
    "morph.parse('кривлянского')"
   ]
  },
  {
   "cell_type": "markdown",
   "metadata": {},
   "source": [
    "# MyStem"
   ]
  },
  {
   "cell_type": "markdown",
   "metadata": {},
   "source": [
    "# re module"
   ]
  },
  {
   "cell_type": "code",
   "execution_count": null,
   "metadata": {
    "collapsed": true
   },
   "outputs": [],
   "source": [
    "import re"
   ]
  },
  {
   "cell_type": "code",
   "execution_count": null,
   "metadata": {
    "collapsed": false
   },
   "outputs": [],
   "source": [
    "re.match('вот','вот получилось')"
   ]
  },
  {
   "cell_type": "code",
   "execution_count": null,
   "metadata": {
    "collapsed": false
   },
   "outputs": [],
   "source": [
    "re.match('вот','и вот получилось')"
   ]
  },
  {
   "cell_type": "code",
   "execution_count": null,
   "metadata": {
    "collapsed": false
   },
   "outputs": [],
   "source": [
    "re.search('вот','и вот получилось вот')"
   ]
  },
  {
   "cell_type": "code",
   "execution_count": null,
   "metadata": {
    "collapsed": false
   },
   "outputs": [],
   "source": [
    "re.findall('\\W(\\w{3}) ','и вот получилось вот и так вот')"
   ]
  },
  {
   "cell_type": "code",
   "execution_count": null,
   "metadata": {
    "collapsed": true
   },
   "outputs": [],
   "source": [
    "re.findall?"
   ]
  },
  {
   "cell_type": "code",
   "execution_count": 193,
   "metadata": {
    "collapsed": true
   },
   "outputs": [],
   "source": [
    "m = re.search(r\"зовут (\\w+) (\\w+) (\\w+)\", \"Его зовут Иванов Иван Иванович\")"
   ]
  },
  {
   "cell_type": "code",
   "execution_count": 194,
   "metadata": {
    "collapsed": false
   },
   "outputs": [
    {
     "data": {
      "text/plain": [
       "('Иванов', 'Иван', 'Иванович')"
      ]
     },
     "execution_count": 194,
     "metadata": {},
     "output_type": "execute_result"
    }
   ],
   "source": [
    "m.groups()"
   ]
  },
  {
   "cell_type": "code",
   "execution_count": 195,
   "metadata": {
    "collapsed": false
   },
   "outputs": [
    {
     "data": {
      "text/plain": [
       "'зовут Иванов Иван Иванович'"
      ]
     },
     "execution_count": 195,
     "metadata": {},
     "output_type": "execute_result"
    }
   ],
   "source": [
    "m.group(0)"
   ]
  },
  {
   "cell_type": "code",
   "execution_count": 196,
   "metadata": {
    "collapsed": false
   },
   "outputs": [
    {
     "data": {
      "text/plain": [
       "'Иванов'"
      ]
     },
     "execution_count": 196,
     "metadata": {},
     "output_type": "execute_result"
    }
   ],
   "source": [
    "m.group(1)"
   ]
  },
  {
   "cell_type": "code",
   "execution_count": 197,
   "metadata": {
    "collapsed": false
   },
   "outputs": [
    {
     "data": {
      "text/plain": [
       "('Иван', 'Иванович')"
      ]
     },
     "execution_count": 197,
     "metadata": {},
     "output_type": "execute_result"
    }
   ],
   "source": [
    "m.group(2),m.group(3)"
   ]
  },
  {
   "cell_type": "code",
   "execution_count": 198,
   "metadata": {
    "collapsed": false
   },
   "outputs": [
    {
     "data": {
      "text/plain": [
       "'Он сказал: \"понятно-понятно\"'"
      ]
     },
     "execution_count": 198,
     "metadata": {},
     "output_type": "execute_result"
    }
   ],
   "source": [
    "re.sub(r'понятно',r'понятно-понятно',r'Он сказал: \"понятно\"')"
   ]
  },
  {
   "cell_type": "code",
   "execution_count": 199,
   "metadata": {
    "collapsed": false
   },
   "outputs": [
    {
     "data": {
      "text/plain": [
       "'Он сказал: понятно-понятно'"
      ]
     },
     "execution_count": 199,
     "metadata": {},
     "output_type": "execute_result"
    }
   ],
   "source": [
    "re.sub(r'\"(.+)\"',r'\\1-\\1',r'Он сказал: \"понятно\"')"
   ]
  },
  {
   "cell_type": "code",
   "execution_count": 200,
   "metadata": {
    "collapsed": false
   },
   "outputs": [
    {
     "data": {
      "text/plain": [
       "'Он сказал: хорошо-хорошо'"
      ]
     },
     "execution_count": 200,
     "metadata": {},
     "output_type": "execute_result"
    }
   ],
   "source": [
    "re.sub(r'\"(.+)\"',r'\\1-\\1',r'Он сказал: \"хорошо\"')"
   ]
  },
  {
   "cell_type": "code",
   "execution_count": 201,
   "metadata": {
    "collapsed": true
   },
   "outputs": [],
   "source": [
    "s='some string'"
   ]
  },
  {
   "cell_type": "code",
   "execution_count": 203,
   "metadata": {
    "collapsed": false
   },
   "outputs": [
    {
     "data": {
      "text/plain": [
       "2"
      ]
     },
     "execution_count": 203,
     "metadata": {},
     "output_type": "execute_result"
    }
   ],
   "source": [
    "s.count('s')"
   ]
  },
  {
   "cell_type": "code",
   "execution_count": null,
   "metadata": {
    "collapsed": true
   },
   "outputs": [],
   "source": [
    "re.I\n",
    ". * + ^$ {m} {m,n} [] | ()"
   ]
  },
  {
   "cell_type": "code",
   "execution_count": 205,
   "metadata": {
    "collapsed": false
   },
   "outputs": [
    {
     "data": {
      "text/plain": [
       "<_sre.SRE_Match object; span=(0, 3), match='aaa'>"
      ]
     },
     "execution_count": 205,
     "metadata": {},
     "output_type": "execute_result"
    }
   ],
   "source": [
    "re.match('AAA','aaaaaa',re.I)"
   ]
  },
  {
   "cell_type": "code",
   "execution_count": 214,
   "metadata": {
    "collapsed": false
   },
   "outputs": [],
   "source": [
    "m=re.search(r'is very (.+)', r'House is very big',re.I)"
   ]
  },
  {
   "cell_type": "code",
   "execution_count": 215,
   "metadata": {
    "collapsed": false
   },
   "outputs": [
    {
     "data": {
      "text/plain": [
       "('big',)"
      ]
     },
     "execution_count": 215,
     "metadata": {},
     "output_type": "execute_result"
    }
   ],
   "source": [
    "m.groups()"
   ]
  },
  {
   "cell_type": "code",
   "execution_count": 217,
   "metadata": {
    "collapsed": false
   },
   "outputs": [],
   "source": [
    "m=re.match(r'(\\w).*(\\1)', r'abra',re.I)"
   ]
  },
  {
   "cell_type": "code",
   "execution_count": 218,
   "metadata": {
    "collapsed": false
   },
   "outputs": [
    {
     "data": {
      "text/plain": [
       "('a', 'a')"
      ]
     },
     "execution_count": 218,
     "metadata": {},
     "output_type": "execute_result"
    }
   ],
   "source": [
    "m.groups()"
   ]
  },
  {
   "cell_type": "code",
   "execution_count": null,
   "metadata": {
    "collapsed": true
   },
   "outputs": [],
   "source": [
    "{ab, aabb, aaabbb, ...}"
   ]
  }
 ],
 "metadata": {
  "kernelspec": {
   "display_name": "Python 3",
   "language": "python",
   "name": "python3"
  },
  "language_info": {
   "codemirror_mode": {
    "name": "ipython",
    "version": 3
   },
   "file_extension": ".py",
   "mimetype": "text/x-python",
   "name": "python",
   "nbconvert_exporter": "python",
   "pygments_lexer": "ipython3",
   "version": "3.5.1"
  }
 },
 "nbformat": 4,
 "nbformat_minor": 0
}
