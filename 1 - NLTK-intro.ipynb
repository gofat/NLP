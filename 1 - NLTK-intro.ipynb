{
 "cells": [
  {
   "cell_type": "code",
   "execution_count": 146,
   "metadata": {
    "collapsed": false
   },
   "outputs": [
    {
     "name": "stdout",
     "output_type": "stream",
     "text": [
      "Populating the interactive namespace from numpy and matplotlib\n"
     ]
    },
    {
     "name": "stderr",
     "output_type": "stream",
     "text": [
      "WARNING: pylab import has clobbered these variables: ['shuffle', 'Text']\n",
      "`%matplotlib` prevents importing * from pylab and numpy\n"
     ]
    },
    {
     "data": {
      "text/plain": [
       "'%.6f'"
      ]
     },
     "execution_count": 146,
     "metadata": {},
     "output_type": "execute_result"
    }
   ],
   "source": [
    "%pylab inline\n",
    "%precision 6"
   ]
  },
  {
   "cell_type": "code",
   "execution_count": 147,
   "metadata": {
    "collapsed": true
   },
   "outputs": [],
   "source": [
    "import pandas as pd\n",
    "import sklearn as skl"
   ]
  },
  {
   "cell_type": "code",
   "execution_count": 148,
   "metadata": {
    "collapsed": true
   },
   "outputs": [],
   "source": [
    "from common.iteration import piter\n",
    "from common.serialization import pickle_save, pickle_load\n",
    "from common.classes.Struct import Struct\n",
    "from common.feature_selection import forward_search,backward_search,forward_backward_search\n",
    "from common.feature_transformations import get_category_ids_encoding, get_one_hot_encoding\n",
    "from common.splits import get_train_test_sels,shuffle\n",
    "from common.modelling import fit_method_cv_train_test, evaluate_feature_collections"
   ]
  },
  {
   "cell_type": "code",
   "execution_count": 149,
   "metadata": {
    "collapsed": false
   },
   "outputs": [],
   "source": [
    "pd.options.display.max_colwidth=100\n",
    "np.set_printoptions(linewidth=140,edgeitems=10)\n",
    "pd.set_option('display.max_rows', 500)\n",
    "pd.set_option('display.max_columns', 500)\n",
    "pd.set_option('display.width', 1000)\n",
    "rcParams['figure.figsize'] = (8.0, 5.0)"
   ]
  },
  {
   "cell_type": "code",
   "execution_count": 150,
   "metadata": {
    "collapsed": true
   },
   "outputs": [],
   "source": [
    "#https://nlpub.ru"
   ]
  },
  {
   "cell_type": "code",
   "execution_count": 151,
   "metadata": {
    "collapsed": true
   },
   "outputs": [],
   "source": [
    "import nltk"
   ]
  },
  {
   "cell_type": "code",
   "execution_count": 152,
   "metadata": {
    "collapsed": false
   },
   "outputs": [],
   "source": [
    "#nltk.download()"
   ]
  },
  {
   "cell_type": "code",
   "execution_count": 153,
   "metadata": {
    "collapsed": false,
    "scrolled": true
   },
   "outputs": [],
   "source": [
    "from nltk.book import *"
   ]
  },
  {
   "cell_type": "code",
   "execution_count": 154,
   "metadata": {
    "collapsed": false
   },
   "outputs": [
    {
     "data": {
      "text/plain": [
       "<Text: Moby Dick by Herman Melville 1851>"
      ]
     },
     "execution_count": 154,
     "metadata": {},
     "output_type": "execute_result"
    }
   ],
   "source": [
    "text1"
   ]
  },
  {
   "cell_type": "code",
   "execution_count": 155,
   "metadata": {
    "collapsed": false
   },
   "outputs": [
    {
     "name": "stdout",
     "output_type": "stream",
     "text": [
      "Displaying 11 of 11 matches:\n",
      "ong the former , one was of a most monstrous size . ... This came towards us , \n",
      "ON OF THE PSALMS . \" Touching that monstrous bulk of the whale or ork we have r\n",
      "ll over with a heathenish array of monstrous clubs and spears . Some were thick\n",
      "d as you gazed , and wondered what monstrous cannibal and savage could ever hav\n",
      "that has survived the flood ; most monstrous and most mountainous ! That Himmal\n",
      "they might scout at Moby Dick as a monstrous fable , or still worse and more de\n",
      "th of Radney .'\" CHAPTER 55 Of the Monstrous Pictures of Whales . I shall ere l\n",
      "ing Scenes . In connexion with the monstrous pictures of whales , I am strongly\n",
      "ere to enter upon those still more monstrous stories of them which are to be fo\n",
      "ght have been rummaged out of this monstrous cabinet there is no telling . But \n",
      "of Whale - Bones ; for Whales of a monstrous size are oftentimes cast up dead u\n"
     ]
    }
   ],
   "source": [
    "text1.concordance(\"monstrous\")"
   ]
  },
  {
   "cell_type": "code",
   "execution_count": 156,
   "metadata": {
    "collapsed": false
   },
   "outputs": [
    {
     "name": "stdout",
     "output_type": "stream",
     "text": [
      "Displaying 3 of 3 matches:\n",
      "t he being in other things such an extremely sensible and sagacious savage , it\n",
      " eight months think they have done extremely well , and thank God , if at last \n",
      "a very tidy , and , I may say , an extremely gentlemanlike sort of business tho\n"
     ]
    }
   ],
   "source": [
    "text1.concordance(\"extremely\")"
   ]
  },
  {
   "cell_type": "code",
   "execution_count": 157,
   "metadata": {
    "collapsed": false
   },
   "outputs": [
    {
     "name": "stdout",
     "output_type": "stream",
     "text": [
      "be say see have do me it and as now on take him when them in come were\n",
      "drink what\n"
     ]
    }
   ],
   "source": [
    "text1.similar(\"go\")"
   ]
  },
  {
   "cell_type": "code",
   "execution_count": 158,
   "metadata": {
    "collapsed": false
   },
   "outputs": [
    {
     "name": "stdout",
     "output_type": "stream",
     "text": [
      "can_the and_to to_as to_to we_the you_the must_to to_for to_a you_and\n"
     ]
    }
   ],
   "source": [
    "text1.common_contexts([\"go\",\"see\"])"
   ]
  },
  {
   "cell_type": "code",
   "execution_count": 159,
   "metadata": {
    "collapsed": false
   },
   "outputs": [
    {
     "name": "stdout",
     "output_type": "stream",
     "text": [
      ",_well am_glad him_well\n"
     ]
    }
   ],
   "source": [
    "text2.common_contexts([\"very\",\"extremely\"])"
   ]
  },
  {
   "cell_type": "code",
   "execution_count": 163,
   "metadata": {
    "collapsed": false
   },
   "outputs": [
    {
     "data": {
      "text/plain": [
       "<Text: Inaugural Address Corpus>"
      ]
     },
     "execution_count": 163,
     "metadata": {},
     "output_type": "execute_result"
    }
   ],
   "source": [
    "text4"
   ]
  },
  {
   "cell_type": "code",
   "execution_count": 164,
   "metadata": {
    "collapsed": false
   },
   "outputs": [
    {
     "data": {
      "image/png": "[encoded data removed]",
      "text/plain": [
       "<matplotlib.figure.Figure at 0x201d9da0>"
      ]
     },
     "metadata": {},
     "output_type": "display_data"
    }
   ],
   "source": [
    "text4.dispersion_plot([\"citizens\", \"democracy\", \n",
    "                       \"freedom\", \"duties\", \"America\"])"
   ]
  },
  {
   "cell_type": "code",
   "execution_count": 165,
   "metadata": {
    "collapsed": false
   },
   "outputs": [
    {
     "data": {
      "text/plain": [
       "<Text: The Book of Genesis>"
      ]
     },
     "execution_count": 165,
     "metadata": {},
     "output_type": "execute_result"
    }
   ],
   "source": [
    "text3"
   ]
  },
  {
   "cell_type": "code",
   "execution_count": 166,
   "metadata": {
    "collapsed": false
   },
   "outputs": [
    {
     "data": {
      "text/plain": [
       "44764"
      ]
     },
     "execution_count": 166,
     "metadata": {},
     "output_type": "execute_result"
    }
   ],
   "source": [
    "len(text3) # number of tokens (including punctuation)"
   ]
  },
  {
   "cell_type": "code",
   "execution_count": 168,
   "metadata": {
    "collapsed": false
   },
   "outputs": [
    {
     "data": {
      "text/plain": [
       "['wouldest',\n",
       " 'wounding',\n",
       " 'wrapped',\n",
       " 'wrath',\n",
       " 'wrestled',\n",
       " 'wrestlings',\n",
       " 'wrong',\n",
       " 'wroth',\n",
       " 'wrought',\n",
       " 'y',\n",
       " 'ye',\n",
       " 'yea',\n",
       " 'year',\n",
       " 'yearn',\n",
       " 'years',\n",
       " 'yesternight',\n",
       " 'yet',\n",
       " 'yield',\n",
       " 'yielded',\n",
       " 'yielding',\n",
       " 'yoke',\n",
       " 'yonder',\n",
       " 'you',\n",
       " 'young',\n",
       " 'younge',\n",
       " 'younger',\n",
       " 'youngest',\n",
       " 'your',\n",
       " 'yourselves',\n",
       " 'youth']"
      ]
     },
     "execution_count": 168,
     "metadata": {},
     "output_type": "execute_result"
    }
   ],
   "source": [
    "sorted(set(text3))[-30:]"
   ]
  },
  {
   "cell_type": "code",
   "execution_count": 169,
   "metadata": {
    "collapsed": false
   },
   "outputs": [
    {
     "data": {
      "text/plain": [
       "2789"
      ]
     },
     "execution_count": 169,
     "metadata": {},
     "output_type": "execute_result"
    }
   ],
   "source": [
    "len(set(text3))"
   ]
  },
  {
   "cell_type": "code",
   "execution_count": 170,
   "metadata": {
    "collapsed": true
   },
   "outputs": [],
   "source": [
    "w=sorted(set(text3))"
   ]
  },
  {
   "cell_type": "code",
   "execution_count": 171,
   "metadata": {
    "collapsed": false
   },
   "outputs": [
    {
     "data": {
      "text/plain": [
       "['closed',\n",
       " 'clothed',\n",
       " 'clothes',\n",
       " 'cloud',\n",
       " 'clusters',\n",
       " 'co',\n",
       " 'coat',\n",
       " 'coats',\n",
       " 'coffin',\n",
       " 'cold',\n",
       " 'colours',\n",
       " 'colt',\n",
       " 'colts',\n",
       " 'come',\n",
       " 'comest',\n",
       " 'cometh',\n",
       " 'comfort',\n",
       " 'comforted',\n",
       " 'comi',\n",
       " 'coming',\n",
       " 'command',\n",
       " 'commanded',\n",
       " 'commanding',\n",
       " 'commandment',\n",
       " 'commandments',\n",
       " 'commended',\n",
       " 'committed',\n",
       " 'commune',\n",
       " 'communed',\n",
       " 'communing']"
      ]
     },
     "execution_count": 171,
     "metadata": {},
     "output_type": "execute_result"
    }
   ],
   "source": [
    "w[990:1020]"
   ]
  },
  {
   "cell_type": "code",
   "execution_count": 172,
   "metadata": {
    "collapsed": false
   },
   "outputs": [
    {
     "data": {
      "text/plain": [
       "16.050197"
      ]
     },
     "execution_count": 172,
     "metadata": {},
     "output_type": "execute_result"
    }
   ],
   "source": [
    "len(text3) / len(set(text3)) # number of times each word type was used in the text"
   ]
  },
  {
   "cell_type": "code",
   "execution_count": 173,
   "metadata": {
    "collapsed": false
   },
   "outputs": [
    {
     "data": {
      "text/plain": [
       "129"
      ]
     },
     "execution_count": 173,
     "metadata": {},
     "output_type": "execute_result"
    }
   ],
   "source": [
    "text3.count(\"Abraham\") # how many times a specific word appeared"
   ]
  },
  {
   "cell_type": "code",
   "execution_count": 174,
   "metadata": {
    "collapsed": false
   },
   "outputs": [
    {
     "data": {
      "text/plain": [
       "1.464302"
      ]
     },
     "execution_count": 174,
     "metadata": {},
     "output_type": "execute_result"
    }
   ],
   "source": [
    "100 * text4.count('a') / len(text4)"
   ]
  },
  {
   "cell_type": "code",
   "execution_count": 175,
   "metadata": {
    "collapsed": false
   },
   "outputs": [
    {
     "data": {
      "text/plain": [
       "6.368408"
      ]
     },
     "execution_count": 175,
     "metadata": {},
     "output_type": "execute_result"
    }
   ],
   "source": [
    "100 * text4.count('the') / len(text4)"
   ]
  },
  {
   "cell_type": "code",
   "execution_count": 176,
   "metadata": {
    "collapsed": false
   },
   "outputs": [
    {
     "data": {
      "text/plain": [
       "['Call', 'me', 'Ishmael', '.']"
      ]
     },
     "execution_count": 176,
     "metadata": {},
     "output_type": "execute_result"
    }
   ],
   "source": [
    "sent1"
   ]
  },
  {
   "cell_type": "code",
   "execution_count": 177,
   "metadata": {
    "collapsed": false
   },
   "outputs": [
    {
     "data": {
      "text/plain": [
       "['The',\n",
       " 'family',\n",
       " 'of',\n",
       " 'Dashwood',\n",
       " 'had',\n",
       " 'long',\n",
       " 'been',\n",
       " 'settled',\n",
       " 'in',\n",
       " 'Sussex',\n",
       " '.']"
      ]
     },
     "execution_count": 177,
     "metadata": {},
     "output_type": "execute_result"
    }
   ],
   "source": [
    "sent2"
   ]
  },
  {
   "cell_type": "code",
   "execution_count": 178,
   "metadata": {
    "collapsed": false
   },
   "outputs": [
    {
     "data": {
      "text/plain": [
       "173"
      ]
     },
     "execution_count": 178,
     "metadata": {},
     "output_type": "execute_result"
    }
   ],
   "source": [
    "text4.index('awaken')"
   ]
  },
  {
   "cell_type": "code",
   "execution_count": 179,
   "metadata": {
    "collapsed": false
   },
   "outputs": [
    {
     "data": {
      "text/plain": [
       "'awaken'"
      ]
     },
     "execution_count": 179,
     "metadata": {},
     "output_type": "execute_result"
    }
   ],
   "source": [
    "text4[173]"
   ]
  },
  {
   "cell_type": "code",
   "execution_count": 180,
   "metadata": {
    "collapsed": true
   },
   "outputs": [],
   "source": [
    "fdist1 = FreqDist(text1)"
   ]
  },
  {
   "cell_type": "code",
   "execution_count": 181,
   "metadata": {
    "collapsed": false
   },
   "outputs": [
    {
     "data": {
      "text/plain": [
       "Counter({'annihilating': 1,\n",
       "         'unprovided': 3,\n",
       "         'adventurous': 4,\n",
       "         'coolly': 7,\n",
       "         'Ahoy': 2,\n",
       "         'jet': 32,\n",
       "         'Plenty': 1,\n",
       "         'discoverers': 1,\n",
       "         'strokes': 2,\n",
       "         'lapsed': 1,\n",
       "         'Baltic': 3,\n",
       "         '97': 1,\n",
       "         'hoofs': 3,\n",
       "         'coarse': 1,\n",
       "         'bleeding': 3,\n",
       "         'concluded': 19,\n",
       "         'revery': 1,\n",
       "         'Bottom': 1,\n",
       "         'Impiety': 1,\n",
       "         'gains': 1,\n",
       "         'magnanimous': 3,\n",
       "         'rogues': 1,\n",
       "         'juggling': 3,\n",
       "         'forbidding': 3,\n",
       "         'Elsewhere': 2,\n",
       "         'study': 7,\n",
       "         'nick': 1,\n",
       "         'emptying': 1,\n",
       "         'skirts': 4,\n",
       "         'daunted': 1,\n",
       "         'Merchant': 4,\n",
       "         'seamless': 1,\n",
       "         'spear': 10,\n",
       "         'intimacy': 1,\n",
       "         'perfectly': 6,\n",
       "         'literature': 1,\n",
       "         'capsizings': 1,\n",
       "         'Warden': 4,\n",
       "         'THEOLOGY': 1,\n",
       "         'nineteenth': 2,\n",
       "         'spiritual': 11,\n",
       "         'Humiliation': 1,\n",
       "         'invaded': 1,\n",
       "         'medallion': 1,\n",
       "         'maketh': 5,\n",
       "         'eloquently': 1,\n",
       "         'TO': 21,\n",
       "         'Apply': 1,\n",
       "         'necessitated': 2,\n",
       "         'December': 4,\n",
       "         'outline': 4,\n",
       "         'broods': 2,\n",
       "         'blubber': 34,\n",
       "         'warrior': 4,\n",
       "         'bravely': 2,\n",
       "         'HVALT': 2,\n",
       "         'manipulated': 2,\n",
       "         'greenly': 1,\n",
       "         'supernaturally': 1,\n",
       "         'blackling': 1,\n",
       "         'moisture': 4,\n",
       "         'advent': 1,\n",
       "         'frame': 4,\n",
       "         'widow': 7,\n",
       "         '4TH': 1,\n",
       "         'lipped': 2,\n",
       "         'marksmen': 1,\n",
       "         'creations': 1,\n",
       "         'feature': 5,\n",
       "         'wrath': 6,\n",
       "         'Deliberately': 1,\n",
       "         'nation': 5,\n",
       "         'tu': 1,\n",
       "         'musk': 5,\n",
       "         'Aunt': 4,\n",
       "         'compliments': 2,\n",
       "         'nutmeg': 1,\n",
       "         'TIMES': 1,\n",
       "         'trance': 5,\n",
       "         'Brighggians': 1,\n",
       "         'suddenness': 1,\n",
       "         'gloomiest': 1,\n",
       "         'sinful': 3,\n",
       "         'questioned': 2,\n",
       "         'Dish': 1,\n",
       "         'declared': 14,\n",
       "         'literal': 1,\n",
       "         'changeless': 1,\n",
       "         'topers': 1,\n",
       "         'Nun': 1,\n",
       "         'itself': 84,\n",
       "         'uneasiness': 2,\n",
       "         'embark': 5,\n",
       "         'fissures': 1,\n",
       "         'contemptibly': 1,\n",
       "         'drive': 17,\n",
       "         'oblige': 2,\n",
       "         'seized': 18,\n",
       "         'bowsmen': 1,\n",
       "         'heavens': 17,\n",
       "         'bordering': 1,\n",
       "         'does': 89,\n",
       "         'roar': 5,\n",
       "         'waves': 48,\n",
       "         'interfering': 1,\n",
       "         'sheaf': 1,\n",
       "         'scrupulous': 1,\n",
       "         'Goodwin': 1,\n",
       "         '1788': 1,\n",
       "         'unhealing': 1,\n",
       "         'levels': 3,\n",
       "         'eggs': 1,\n",
       "         'date': 1,\n",
       "         'altogether': 29,\n",
       "         'Joppa': 8,\n",
       "         'policy': 5,\n",
       "         'cabalistically': 1,\n",
       "         'Below': 2,\n",
       "         'jerk': 2,\n",
       "         'everywhere': 7,\n",
       "         'returns': 2,\n",
       "         'WHAT': 2,\n",
       "         'dippers': 1,\n",
       "         'During': 8,\n",
       "         'Fellow': 1,\n",
       "         'adapted': 4,\n",
       "         'recurring': 2,\n",
       "         'solely': 6,\n",
       "         'hardest': 1,\n",
       "         'obedient': 2,\n",
       "         'damply': 1,\n",
       "         'circlings': 2,\n",
       "         'vastly': 1,\n",
       "         'LONG': 4,\n",
       "         'try': 49,\n",
       "         'shadowy': 1,\n",
       "         'assembled': 3,\n",
       "         'egotistical': 2,\n",
       "         'unspeakably': 2,\n",
       "         'Jump': 1,\n",
       "         '113': 1,\n",
       "         'miserable': 8,\n",
       "         'conceived': 3,\n",
       "         'Fishiest': 1,\n",
       "         'fishes': 3,\n",
       "         'unloitering': 1,\n",
       "         'fabricated': 1,\n",
       "         'frightened': 6,\n",
       "         'unwelcome': 1,\n",
       "         'parted': 8,\n",
       "         'father': 16,\n",
       "         'Whose': 1,\n",
       "         'whiteness': 26,\n",
       "         'speculations': 2,\n",
       "         'called': 116,\n",
       "         'flashing': 5,\n",
       "         'pattern': 1,\n",
       "         'sprinkling': 2,\n",
       "         'frost': 8,\n",
       "         'curvicues': 1,\n",
       "         'selecting': 3,\n",
       "         'smiting': 6,\n",
       "         'speculative': 1,\n",
       "         'BLOWS': 1,\n",
       "         'friction': 1,\n",
       "         'descend': 12,\n",
       "         'heaved': 12,\n",
       "         'northwest': 1,\n",
       "         'catcher': 1,\n",
       "         'distinctions': 3,\n",
       "         'Skeleton': 1,\n",
       "         'contradiction': 1,\n",
       "         'appals': 2,\n",
       "         'elbow': 1,\n",
       "         'rumbled': 1,\n",
       "         'ruinous': 2,\n",
       "         'tumultuous': 9,\n",
       "         '79': 1,\n",
       "         'Ceylon': 1,\n",
       "         'apoplexy': 2,\n",
       "         'constructed': 2,\n",
       "         'edges': 3,\n",
       "         'thereby': 15,\n",
       "         'questionably': 1,\n",
       "         'tea': 5,\n",
       "         'peculiarly': 6,\n",
       "         'ERROMANGOAN': 1,\n",
       "         'thickest': 4,\n",
       "         'ravens': 1,\n",
       "         'sash': 1,\n",
       "         'prints': 5,\n",
       "         'gores': 1,\n",
       "         'country': 25,\n",
       "         'superstitiousness': 2,\n",
       "         'tucking': 1,\n",
       "         'forgets': 1,\n",
       "         'Channel': 1,\n",
       "         'bayonets': 1,\n",
       "         'chapter': 23,\n",
       "         'responded': 3,\n",
       "         'elderly': 1,\n",
       "         'rascally': 1,\n",
       "         'Depend': 1,\n",
       "         'thine': 17,\n",
       "         'contrast': 12,\n",
       "         'swiftly': 19,\n",
       "         'Blanc': 1,\n",
       "         'baulks': 1,\n",
       "         'irregularly': 2,\n",
       "         'libertines': 1,\n",
       "         'Solomon': 8,\n",
       "         'dents': 5,\n",
       "         'Shipmates': 5,\n",
       "         'splendors': 1,\n",
       "         'keystone': 1,\n",
       "         'clout': 2,\n",
       "         'critters': 5,\n",
       "         'arrah': 1,\n",
       "         'adult': 2,\n",
       "         'Plate': 1,\n",
       "         'latently': 1,\n",
       "         'lancers': 1,\n",
       "         'whispering': 3,\n",
       "         'Learning': 2,\n",
       "         'blood': 59,\n",
       "         'capturing': 1,\n",
       "         'diligent': 2,\n",
       "         'arrantest': 1,\n",
       "         'graveyards': 1,\n",
       "         'chums': 1,\n",
       "         'except': 31,\n",
       "         'downcast': 2,\n",
       "         'jinglers': 1,\n",
       "         'tales': 4,\n",
       "         'finds': 9,\n",
       "         'wanton': 1,\n",
       "         'silks': 1,\n",
       "         'glided': 14,\n",
       "         'predestinating': 1,\n",
       "         'smaller': 11,\n",
       "         'Antwerp': 1,\n",
       "         \".'\": 36,\n",
       "         'Manilla': 5,\n",
       "         'muttered': 17,\n",
       "         'connexion': 8,\n",
       "         'seat': 18,\n",
       "         'patronising': 1,\n",
       "         'tranquillize': 2,\n",
       "         'mystifying': 1,\n",
       "         'Continents': 1,\n",
       "         'stiver': 1,\n",
       "         'beamed': 1,\n",
       "         'moods': 5,\n",
       "         'gnawed': 1,\n",
       "         'relapses': 1,\n",
       "         'Adverse': 1,\n",
       "         'uncouth': 1,\n",
       "         'comfort': 7,\n",
       "         'Bear': 5,\n",
       "         'possessing': 3,\n",
       "         'Draws': 1,\n",
       "         'baptized': 2,\n",
       "         'old': 436,\n",
       "         'counsellors': 1,\n",
       "         'Fore': 1,\n",
       "         'CANNY': 1,\n",
       "         'breastband': 1,\n",
       "         'sheep': 5,\n",
       "         'concentrations': 1,\n",
       "         'nakedness': 2,\n",
       "         'Paracelsus': 1,\n",
       "         'phospher': 1,\n",
       "         'plug': 4,\n",
       "         'conducted': 2,\n",
       "         'grin': 6,\n",
       "         'Justinian': 2,\n",
       "         'shuddering': 9,\n",
       "         'repugnance': 3,\n",
       "         'WORK': 2,\n",
       "         'skewered': 1,\n",
       "         'dung': 1,\n",
       "         'Tennessee': 1,\n",
       "         'rousing': 1,\n",
       "         'wary': 1,\n",
       "         'Booble': 1,\n",
       "         'guard': 5,\n",
       "         'shad': 2,\n",
       "         'CHORUS': 1,\n",
       "         'emotion': 5,\n",
       "         'pains': 15,\n",
       "         'feet': 125,\n",
       "         'surplus': 2,\n",
       "         'mite': 1,\n",
       "         'impotent': 1,\n",
       "         'notabilities': 1,\n",
       "         'goats': 1,\n",
       "         'gullies': 1,\n",
       "         'overspreading': 2,\n",
       "         'undefiled': 1,\n",
       "         'weeds': 2,\n",
       "         'childhood': 3,\n",
       "         'worker': 1,\n",
       "         'conceited': 1,\n",
       "         'fain': 19,\n",
       "         'Brisson': 1,\n",
       "         'belike': 3,\n",
       "         '---\"': 1,\n",
       "         'monstrous': 10,\n",
       "         'mere': 42,\n",
       "         'drifted': 3,\n",
       "         'SPERMA': 2,\n",
       "         'patrician': 1,\n",
       "         'atmospheric': 4,\n",
       "         'shovel': 3,\n",
       "         'suburbs': 1,\n",
       "         'valiant': 10,\n",
       "         'aside': 24,\n",
       "         'shadowed': 2,\n",
       "         'excellence': 3,\n",
       "         'minutes': 21,\n",
       "         'godhead': 1,\n",
       "         'nods': 2,\n",
       "         'retires': 1,\n",
       "         'slavery': 1,\n",
       "         'matrimonial': 1,\n",
       "         'chest': 26,\n",
       "         'degree': 26,\n",
       "         'dispensed': 1,\n",
       "         'Liberties': 1,\n",
       "         'sanctum': 1,\n",
       "         'views': 3,\n",
       "         'cheerless': 3,\n",
       "         'particulars': 9,\n",
       "         'tidiness': 1,\n",
       "         'sweep': 13,\n",
       "         'bodies': 9,\n",
       "         'indolent': 6,\n",
       "         'Straits': 5,\n",
       "         'pulsations': 1,\n",
       "         'prayed': 2,\n",
       "         'plant': 3,\n",
       "         'opine': 3,\n",
       "         'ultimate': 7,\n",
       "         'blanks': 1,\n",
       "         'isle': 8,\n",
       "         'interchangeably': 1,\n",
       "         'heraldic': 1,\n",
       "         'sinner': 1,\n",
       "         'pottery': 1,\n",
       "         'disasters': 4,\n",
       "         'profitable': 1,\n",
       "         'Beloved': 1,\n",
       "         'salvation': 5,\n",
       "         'cloudy': 1,\n",
       "         'prudent': 7,\n",
       "         'Pagans': 1,\n",
       "         'resided': 1,\n",
       "         'DAM': 1,\n",
       "         'ermine': 1,\n",
       "         'sling': 2,\n",
       "         'Once': 5,\n",
       "         'snorts': 1,\n",
       "         'surround': 2,\n",
       "         'demeanor': 1,\n",
       "         'jury': 1,\n",
       "         'pangs': 2,\n",
       "         'peremptorily': 4,\n",
       "         'feebly': 1,\n",
       "         'accompanying': 5,\n",
       "         'Further': 2,\n",
       "         'unfathomable': 3,\n",
       "         'phrenologist': 1,\n",
       "         'Dismal': 1,\n",
       "         'guise': 3,\n",
       "         'camphorated': 1,\n",
       "         'important': 19,\n",
       "         'Whenever': 1,\n",
       "         'orator': 1,\n",
       "         'VOYAGER': 1,\n",
       "         'Subtilize': 1,\n",
       "         'DEAD': 1,\n",
       "         'Going': 6,\n",
       "         'semicircle': 2,\n",
       "         'Twas': 3,\n",
       "         'hearth': 7,\n",
       "         'sermon': 3,\n",
       "         'prevent': 6,\n",
       "         'snoozing': 1,\n",
       "         'lot': 5,\n",
       "         'coupled': 3,\n",
       "         'Verily': 1,\n",
       "         'whitish': 2,\n",
       "         'shilling': 1,\n",
       "         'wink': 1,\n",
       "         'southerly': 2,\n",
       "         'midship': 1,\n",
       "         'javelins': 2,\n",
       "         'symbolize': 2,\n",
       "         'mounting': 3,\n",
       "         'tarpaulins': 3,\n",
       "         'midnight': 24,\n",
       "         'treacheries': 1,\n",
       "         'Slave': 3,\n",
       "         'SAILOR': 32,\n",
       "         'hurling': 1,\n",
       "         'obscuring': 1,\n",
       "         'APPLICATION': 1,\n",
       "         'seasoning': 1,\n",
       "         'embarked': 3,\n",
       "         'Southerner': 1,\n",
       "         'terra': 2,\n",
       "         'economical': 2,\n",
       "         'dive': 8,\n",
       "         'Sovereign': 2,\n",
       "         'chiselled': 3,\n",
       "         'Bible': 10,\n",
       "         'topmost': 5,\n",
       "         'Phrenologist': 1,\n",
       "         'army': 2,\n",
       "         'thunderous': 1,\n",
       "         'sphere': 2,\n",
       "         'OCEAN': 2,\n",
       "         'Remember': 2,\n",
       "         'meanings': 4,\n",
       "         'CHEEVER': 1,\n",
       "         'Near': 1,\n",
       "         'undergraduate': 1,\n",
       "         'muttering': 4,\n",
       "         'fearful': 12,\n",
       "         'cheeseries': 1,\n",
       "         'HEAD': 1,\n",
       "         'swaths': 2,\n",
       "         'contrived': 4,\n",
       "         'grandmother': 1,\n",
       "         'deliver': 3,\n",
       "         'analyse': 1,\n",
       "         'bamboozle': 1,\n",
       "         'EXCHANGE': 1,\n",
       "         'scolding': 4,\n",
       "         'presence': 6,\n",
       "         'duke': 1,\n",
       "         'reads': 2,\n",
       "         'hopefulness': 1,\n",
       "         'epitaphs': 1,\n",
       "         'shrouds': 8,\n",
       "         'Pip': 68,\n",
       "         'picturesqueness': 2,\n",
       "         'harness': 1,\n",
       "         'primitive': 3,\n",
       "         'slave': 8,\n",
       "         'jewelled': 3,\n",
       "         'ancestress': 1,\n",
       "         'squeezing': 4,\n",
       "         'Pollard': 3,\n",
       "         'Sow': 1,\n",
       "         'rank': 2,\n",
       "         'irksome': 1,\n",
       "         'sold': 3,\n",
       "         'greedy': 1,\n",
       "         'exhumed': 1,\n",
       "         'shocking': 3,\n",
       "         'Nature': 8,\n",
       "         'pate': 1,\n",
       "         'suggested': 2,\n",
       "         'VERBAL': 1,\n",
       "         'ineffectually': 1,\n",
       "         'jobs': 2,\n",
       "         'discrimination': 1,\n",
       "         'stamp': 3,\n",
       "         'compasses': 10,\n",
       "         'pots': 15,\n",
       "         'fireboard': 2,\n",
       "         'Know': 1,\n",
       "         'CIRCUMNAVIGATION': 1,\n",
       "         'crystals': 2,\n",
       "         'riddles': 2,\n",
       "         'swelled': 6,\n",
       "         'listlessness': 1,\n",
       "         'pricking': 3,\n",
       "         'undue': 1,\n",
       "         'ENTER': 1,\n",
       "         'mumblings': 2,\n",
       "         'phrensied': 1,\n",
       "         'mindedness': 1,\n",
       "         'operate': 2,\n",
       "         'inhabitable': 1,\n",
       "         'continual': 14,\n",
       "         'Coronation': 1,\n",
       "         'polishing': 1,\n",
       "         'quoggy': 1,\n",
       "         'declaring': 3,\n",
       "         'Webster': 2,\n",
       "         'Foremost': 1,\n",
       "         'cupbearers': 1,\n",
       "         'destroys': 1,\n",
       "         'depose': 1,\n",
       "         'Find': 1,\n",
       "         'bold': 17,\n",
       "         ';*': 1,\n",
       "         'bottle': 5,\n",
       "         'he': 1661,\n",
       "         'pearl': 3,\n",
       "         'conceits': 4,\n",
       "         'excited': 8,\n",
       "         'unwound': 1,\n",
       "         'Jews': 1,\n",
       "         'know': 151,\n",
       "         'youth': 9,\n",
       "         '68': 1,\n",
       "         'Night': 3,\n",
       "         'saucers': 1,\n",
       "         'haze': 2,\n",
       "         'thieves': 2,\n",
       "         'enlarged': 2,\n",
       "         'little': 247,\n",
       "         'Fine': 2,\n",
       "         'coach': 4,\n",
       "         'tapered': 1,\n",
       "         'Indiaman': 1,\n",
       "         'cargoes': 1,\n",
       "         'princes': 2,\n",
       "         'fired': 2,\n",
       "         'plumage': 4,\n",
       "         'fritters': 3,\n",
       "         'odoriferous': 1,\n",
       "         'joint': 7,\n",
       "         'Greenwich': 1,\n",
       "         'through': 227,\n",
       "         'blunted': 1,\n",
       "         'delights': 2,\n",
       "         'sunsets': 1,\n",
       "         'indignant': 2,\n",
       "         'demigods': 1,\n",
       "         'belonged': 13,\n",
       "         'Do': 32,\n",
       "         'enchanter': 1,\n",
       "         'carrion': 2,\n",
       "         'strides': 2,\n",
       "         'eddyings': 1,\n",
       "         'vaulted': 2,\n",
       "         'unstirring': 1,\n",
       "         'uncomfortable': 3,\n",
       "         'bookbinder': 1,\n",
       "         'Quakers': 3,\n",
       "         'Coffins': 2,\n",
       "         'brained': 1,\n",
       "         'threshold': 4,\n",
       "         'overmanned': 1,\n",
       "         'ASIA': 1,\n",
       "         'crick': 1,\n",
       "         'burning': 12,\n",
       "         '19': 1,\n",
       "         'balena': 1,\n",
       "         'Himmalehs': 2,\n",
       "         'spectral': 1,\n",
       "         'undiscoverable': 1,\n",
       "         'vanity': 2,\n",
       "         'reposes': 1,\n",
       "         'lead': 18,\n",
       "         'Hotel': 1,\n",
       "         'cheerfully': 2,\n",
       "         'It': 310,\n",
       "         'nieces': 1,\n",
       "         'gratitude': 1,\n",
       "         'providing': 2,\n",
       "         'repeating': 1,\n",
       "         'Seizing': 3,\n",
       "         'thronged': 1,\n",
       "         'presided': 2,\n",
       "         'tambourine': 9,\n",
       "         'temporarily': 9,\n",
       "         'Admirals': 1,\n",
       "         'awfulness': 2,\n",
       "         'discourseth': 1,\n",
       "         'Tis': 7,\n",
       "         'piece': 16,\n",
       "         'neglected': 2,\n",
       "         'fellow': 53,\n",
       "         'CONTINUES': 1,\n",
       "         'presides': 1,\n",
       "         'swells': 11,\n",
       "         'discernible': 5,\n",
       "         'plumes': 1,\n",
       "         'just': 110,\n",
       "         'atrocious': 1,\n",
       "         'diaboli': 1,\n",
       "         'Phaedon': 1,\n",
       "         'glared': 4,\n",
       "         'uttermost': 5,\n",
       "         'lists': 1,\n",
       "         'deer': 2,\n",
       "         'accommodate': 2,\n",
       "         'abandon': 3,\n",
       "         'residuary': 1,\n",
       "         'sounds': 12,\n",
       "         'wonderment': 2,\n",
       "         'catched': 1,\n",
       "         'begrimed': 2,\n",
       "         'propelled': 1,\n",
       "         'somewhere': 23,\n",
       "         'solaces': 1,\n",
       "         'watery': 24,\n",
       "         'writing': 2,\n",
       "         'rounder': 1,\n",
       "         'Shark': 3,\n",
       "         'domineer': 1,\n",
       "         'else': 46,\n",
       "         'kindled': 2,\n",
       "         'ERECTION': 1,\n",
       "         'became': 24,\n",
       "         'worst': 2,\n",
       "         'outnumber': 1,\n",
       "         'eat': 11,\n",
       "         'inuendoes': 1,\n",
       "         'veriest': 2,\n",
       "         'squitchy': 1,\n",
       "         'plank': 17,\n",
       "         'Salem': 1,\n",
       "         'whereby': 9,\n",
       "         'andirons': 1,\n",
       "         'concussion': 1,\n",
       "         'nodded': 2,\n",
       "         'EX': 3,\n",
       "         'unseen': 14,\n",
       "         'elaboration': 1,\n",
       "         'sayest': 2,\n",
       "         'everything': 20,\n",
       "         'uncompromisedness': 1,\n",
       "         'god': 20,\n",
       "         'suckingly': 1,\n",
       "         'Olassen': 1,\n",
       "         'Hyena': 3,\n",
       "         'revelation': 3,\n",
       "         'Melville': 1,\n",
       "         'productive': 1,\n",
       "         'Philip': 1,\n",
       "         'grizzly': 1,\n",
       "         'rap': 3,\n",
       "         'manned': 13,\n",
       "         'qualities': 5,\n",
       "         'tailed': 3,\n",
       "         'undress': 1,\n",
       "         'divinely': 2,\n",
       "         'indigestion': 1,\n",
       "         'twigs': 1,\n",
       "         'welcome': 6,\n",
       "         'mumbling': 5,\n",
       "         'Methuselah': 1,\n",
       "         'hunt': 24,\n",
       "         'wore': 11,\n",
       "         'snakes': 1,\n",
       "         'rays': 6,\n",
       "         'denied': 4,\n",
       "         'portents': 5,\n",
       "         'mittens': 1,\n",
       "         'weazel': 1,\n",
       "         'entangle': 1,\n",
       "         'matured': 1,\n",
       "         'riotously': 1,\n",
       "         'appear': 6,\n",
       "         'tasting': 1,\n",
       "         'thought': 149,\n",
       "         'flaming': 5,\n",
       "         'Sharks': 1,\n",
       "         'remembering': 1,\n",
       "         'admonitions': 1,\n",
       "         'frankly': 3,\n",
       "         'wide': 50,\n",
       "         'cogent': 4,\n",
       "         'Another': 8,\n",
       "         'exclaiming': 2,\n",
       "         'inwards': 3,\n",
       "         '44': 1,\n",
       "         'connected': 12,\n",
       "         'Abel': 1,\n",
       "         'Winding': 1,\n",
       "         'excuse': 1,\n",
       "         'foremastmen': 1,\n",
       "         'becomes': 12,\n",
       "         'hone': 1,\n",
       "         'question': 29,\n",
       "         'flume': 1,\n",
       "         'malignantly': 1,\n",
       "         'tangled': 1,\n",
       "         'caressed': 1,\n",
       "         'capsizing': 3,\n",
       "         'wings': 7,\n",
       "         'subtilty': 1,\n",
       "         'furthest': 5,\n",
       "         'Cachalot': 3,\n",
       "         'creak': 1,\n",
       "         'denominated': 4,\n",
       "         'wilfulness': 1,\n",
       "         'repeated': 20,\n",
       "         'quitting': 4,\n",
       "         'stakes': 1,\n",
       "         'nostril': 1,\n",
       "         'peltry': 1,\n",
       "         'BENCH': 3,\n",
       "         'floor': 20,\n",
       "         'interblending': 2,\n",
       "         'slippered': 1,\n",
       "         'promptitude': 1,\n",
       "         'Morquan': 1,\n",
       "         'diversion': 2,\n",
       "         'reality': 6,\n",
       "         'likenesses': 1,\n",
       "         'interlude': 4,\n",
       "         'seventeenth': 1,\n",
       "         'hooroosh': 1,\n",
       "         'blast': 10,\n",
       "         'analogous': 2,\n",
       "         'profession': 5,\n",
       "         'intelligence': 7,\n",
       "         'oddish': 1,\n",
       "         'woven': 8,\n",
       "         'BLOODY': 1,\n",
       "         'billiard': 5,\n",
       "         'bullies': 1,\n",
       "         'erudition': 1,\n",
       "         'Is': 27,\n",
       "         'maziness': 1,\n",
       "         'Guernseyman': 1,\n",
       "         'fades': 1,\n",
       "         'multitude': 4,\n",
       "         'Don': 35,\n",
       "         'O': 28,\n",
       "         'dere': 2,\n",
       "         'youngish': 1,\n",
       "         'excitements': 1,\n",
       "         'level': 23,\n",
       "         'Valparaiso': 1,\n",
       "         'anoint': 2,\n",
       "         'sixteenth': 1,\n",
       "         'threepence': 1,\n",
       "         'hurrah': 2,\n",
       "         'Friesland': 2,\n",
       "         'candelabra': 2,\n",
       "         'Swedes': 1,\n",
       "         'Dick': 84,\n",
       "         'strictly': 5,\n",
       "         'proceeding': 5,\n",
       "         'SLEEP': 1,\n",
       "         'discourse': 1,\n",
       "         'REQUIEM': 1,\n",
       "         'corroded': 3,\n",
       "         'pryed': 1,\n",
       "         'bulge': 1,\n",
       "         'unfrequent': 2,\n",
       "         'circling': 3,\n",
       "         'sojourning': 1,\n",
       "         'gathering': 3,\n",
       "         'renegades': 2,\n",
       "         'chapters': 7,\n",
       "         'thicker': 1,\n",
       "         'consequent': 3,\n",
       "         'trapped': 2,\n",
       "         'marshy': 2,\n",
       "         'jerking': 6,\n",
       "         'gliding': 13,\n",
       "         'observed': 18,\n",
       "         'gag': 2,\n",
       "         '109': 1,\n",
       "         'IVORY': 2,\n",
       "         'transfixed': 1,\n",
       "         'Lights': 1,\n",
       "         'raise': 8,\n",
       "         'livelong': 2,\n",
       "         'sprout': 2,\n",
       "         'gaunt': 5,\n",
       "         'lonesomely': 1,\n",
       "         'swart': 5,\n",
       "         'brass': 3,\n",
       "         'freshened': 1,\n",
       "         'bakers': 1,\n",
       "         'TOP': 1,\n",
       "         'commanders': 5,\n",
       "         'lees': 3,\n",
       "         'Raising': 1,\n",
       "         'miniature': 2,\n",
       "         'tetering': 1,\n",
       "         'pitch': 19,\n",
       "         'tuns': 2,\n",
       "         'beheaded': 6,\n",
       "         'clinging': 8,\n",
       "         'wavings': 1,\n",
       "         'yaw': 2,\n",
       "         'many': 161,\n",
       "         'nominally': 4,\n",
       "         \";--'\": 1,\n",
       "         'adolescence': 1,\n",
       "         'wavingly': 1,\n",
       "         'As': 120,\n",
       "         'articles': 10,\n",
       "         'torments': 4,\n",
       "         'accurate': 1,\n",
       "         'witcheries': 1,\n",
       "         '52': 1,\n",
       "         'gripping': 1,\n",
       "         'sanguinary': 1,\n",
       "         'emerged': 5,\n",
       "         'omitted': 5,\n",
       "         'malicious': 9,\n",
       "         'WITH': 4,\n",
       "         'muddled': 1,\n",
       "         'ringleader': 3,\n",
       "         'determining': 1,\n",
       "         'commodores': 1,\n",
       "         'Sounding': 1,\n",
       "         'perfumed': 1,\n",
       "         'deafened': 2,\n",
       "         'Haarlem': 1,\n",
       "         'moderns': 1,\n",
       "         'hasn': 4,\n",
       "         'Enough': 2,\n",
       "         'kidnapping': 2,\n",
       "         'paramount': 2,\n",
       "         'deadliness': 1,\n",
       "         'asylum': 1,\n",
       "         'utter': 6,\n",
       "         'embarking': 1,\n",
       "         'foremost': 10,\n",
       "         'grazes': 1,\n",
       "         'gang': 1,\n",
       "         'Backs': 1,\n",
       "         'Wafer': 1,\n",
       "         'Teneriffe': 2,\n",
       "         'compose': 1,\n",
       "         'IS': 3,\n",
       "         'truths': 1,\n",
       "         'gay': 13,\n",
       "         'courageous': 2,\n",
       "         'kitchen': 4,\n",
       "         'host': 10,\n",
       "         'imbecility': 1,\n",
       "         'royal': 29,\n",
       "         'Bellies': 1,\n",
       "         'humanities': 1,\n",
       "         'guardian': 1,\n",
       "         'mortality': 1,\n",
       "         'considering': 28,\n",
       "         'discreet': 1,\n",
       "         'cutting': 35,\n",
       "         'Antilles': 3,\n",
       "         'connecting': 3,\n",
       "         'betokening': 1,\n",
       "         'assuming': 4,\n",
       "         'thirds': 5,\n",
       "         'relative': 2,\n",
       "         'Cadiz': 4,\n",
       "         'emperor': 2,\n",
       "         'Who': 44,\n",
       "         'permanent': 4,\n",
       "         'potatoes': 1,\n",
       "         'insert': 2,\n",
       "         'lament': 1,\n",
       "         'round': 242,\n",
       "         'habitatory': 1,\n",
       "         'capering': 2,\n",
       "         'Leviathanic': 4,\n",
       "         'japonicas': 1,\n",
       "         'night': 147,\n",
       "         'carking': 1,\n",
       "         'tongs': 9,\n",
       "         'honesty': 1,\n",
       "         'secrets': 6,\n",
       "         'cigar': 1,\n",
       "         'Certain': 2,\n",
       "         'clerical': 1,\n",
       "         'drunken': 3,\n",
       "         'bidden': 2,\n",
       "         'educated': 1,\n",
       "         'feints': 1,\n",
       "         'bountiful': 1,\n",
       "         'hereditarily': 2,\n",
       "         'chisel': 2,\n",
       "         'Siam': 2,\n",
       "         'hollow': 20,\n",
       "         'pelvis': 1,\n",
       "         'strung': 2,\n",
       "         'Steady': 4,\n",
       "         'doleful': 2,\n",
       "         'tingling': 3,\n",
       "         'christened': 1,\n",
       "         'Story': 2,\n",
       "         'whirlwinds': 1,\n",
       "         'overburdening': 1,\n",
       "         'carefully': 10,\n",
       "         'soever': 1,\n",
       "         'ebbs': 1,\n",
       "         'consign': 1,\n",
       "         'VISIT': 1,\n",
       "         'Siamese': 3,\n",
       "         'frisky': 1,\n",
       "         'sways': 1,\n",
       "         'resembles': 2,\n",
       "         'attention': 9,\n",
       "         'Customs': 1,\n",
       "         'resident': 1,\n",
       "         'shoemaker': 1,\n",
       "         'seizings': 2,\n",
       "         'Sorrows': 1,\n",
       "         'startlingly': 1,\n",
       "         'stead': 1,\n",
       "         'flogging': 2,\n",
       "         'shored': 1,\n",
       "         'stained': 4,\n",
       "         'Squires': 2,\n",
       "         'joky': 3,\n",
       "         'kicks': 2,\n",
       "         'counties': 1,\n",
       "         'sorrowful': 1,\n",
       "         'quarters': 5,\n",
       "         'digesting': 2,\n",
       "         'masonry': 6,\n",
       "         'entreated': 1,\n",
       "         'discoveries': 1,\n",
       "         'moderation': 1,\n",
       "         'Make': 3,\n",
       "         'herein': 3,\n",
       "         'impossibility': 1,\n",
       "         'enacted': 1,\n",
       "         'gamy': 3,\n",
       "         'chances': 8,\n",
       "         'SAIL': 1,\n",
       "         'jetted': 2,\n",
       "         'ought': 8,\n",
       "         'hornpipe': 1,\n",
       "         'inducements': 2,\n",
       "         'opened': 9,\n",
       "         'thank': 9,\n",
       "         'ridden': 2,\n",
       "         'mizentop': 1,\n",
       "         'crying': 3,\n",
       "         'directly': 20,\n",
       "         'savory': 2,\n",
       "         'bits': 9,\n",
       "         'herons': 1,\n",
       "         'thou': 232,\n",
       "         'jumbled': 1,\n",
       "         'stunsails': 2,\n",
       "         'resting': 12,\n",
       "         'Quito': 2,\n",
       "         'baling': 2,\n",
       "         'primary': 2,\n",
       "         'freewill': 1,\n",
       "         'persons': 6,\n",
       "         'presaging': 1,\n",
       "         'pole': 26,\n",
       "         'Thunder': 8,\n",
       "         'chivalrous': 1,\n",
       "         'NOT': 1,\n",
       "         'characterizing': 1,\n",
       "         'Emboldened': 1,\n",
       "         'PROGRESS': 1,\n",
       "         'gras': 1,\n",
       "         'termination': 1,\n",
       "         'mile': 6,\n",
       "         'our': 199,\n",
       "         'confounds': 1,\n",
       "         'slender': 6,\n",
       "         'mildness': 5,\n",
       "         'named': 11,\n",
       "         'height': 17,\n",
       "         'madly': 4,\n",
       "         'clotted': 2,\n",
       "         'obstructed': 1,\n",
       "         'plainly': 39,\n",
       "         'whips': 3,\n",
       "         'tornadoed': 1,\n",
       "         'whiskers': 6,\n",
       "         'legends': 1,\n",
       "         'quest': 10,\n",
       "         'Peleg': 74,\n",
       "         'cockpits': 1,\n",
       "         'decks': 21,\n",
       "         'dry': 14,\n",
       "         'distinguishing': 1,\n",
       "         'turkeys': 1,\n",
       "         'repent': 1,\n",
       "         'harder': 4,\n",
       "         'farrago': 1,\n",
       "         'longing': 4,\n",
       "         'heedfulness': 2,\n",
       "         'COILS': 1,\n",
       "         'worships': 2,\n",
       "         'nondescript': 1,\n",
       "         'resist': 1,\n",
       "         'relish': 4,\n",
       "         'breezeless': 1,\n",
       "         'oneself': 1,\n",
       "         'ashore': 33,\n",
       "         'links': 6,\n",
       "         'warbling': 1,\n",
       "         'Folio': 5,\n",
       "         'slow': 12,\n",
       "         'bustle': 2,\n",
       "         'rambled': 1,\n",
       "         'intemperately': 1,\n",
       "         'joints': 5,\n",
       "         ...})"
      ]
     },
     "execution_count": 181,
     "metadata": {},
     "output_type": "execute_result"
    }
   ],
   "source": [
    "fdist1"
   ]
  },
  {
   "cell_type": "code",
   "execution_count": 182,
   "metadata": {
    "collapsed": false
   },
   "outputs": [
    {
     "data": {
      "text/plain": [
       "[(',', 18713),\n",
       " ('the', 13721),\n",
       " ('.', 6862),\n",
       " ('of', 6536),\n",
       " ('and', 6024),\n",
       " ('a', 4569),\n",
       " ('to', 4542),\n",
       " (';', 4072),\n",
       " ('in', 3916),\n",
       " ('that', 2982),\n",
       " (\"'\", 2684),\n",
       " ('-', 2552),\n",
       " ('his', 2459),\n",
       " ('it', 2209),\n",
       " ('I', 2124),\n",
       " ('s', 1739),\n",
       " ('is', 1695),\n",
       " ('he', 1661),\n",
       " ('with', 1659),\n",
       " ('was', 1632),\n",
       " ('as', 1620),\n",
       " ('\"', 1478),\n",
       " ('all', 1462),\n",
       " ('for', 1414),\n",
       " ('this', 1280),\n",
       " ('!', 1269),\n",
       " ('at', 1231),\n",
       " ('by', 1137),\n",
       " ('but', 1113),\n",
       " ('not', 1103),\n",
       " ('--', 1070),\n",
       " ('him', 1058),\n",
       " ('from', 1052),\n",
       " ('be', 1030),\n",
       " ('on', 1005),\n",
       " ('so', 918),\n",
       " ('whale', 906),\n",
       " ('one', 889),\n",
       " ('you', 841),\n",
       " ('had', 767),\n",
       " ('have', 760),\n",
       " ('there', 715),\n",
       " ('But', 705),\n",
       " ('or', 697),\n",
       " ('were', 680),\n",
       " ('now', 646),\n",
       " ('which', 640),\n",
       " ('?', 637),\n",
       " ('me', 627),\n",
       " ('like', 624)]"
      ]
     },
     "execution_count": 182,
     "metadata": {},
     "output_type": "execute_result"
    }
   ],
   "source": [
    "fdist1.most_common(50)"
   ]
  },
  {
   "cell_type": "code",
   "execution_count": 183,
   "metadata": {
    "collapsed": true
   },
   "outputs": [],
   "source": [
    "common_words = [word for word,_ in fdist1.most_common(50)]"
   ]
  },
  {
   "cell_type": "code",
   "execution_count": 184,
   "metadata": {
    "collapsed": false
   },
   "outputs": [
    {
     "data": {
      "text/plain": [
       "260819"
      ]
     },
     "execution_count": 184,
     "metadata": {},
     "output_type": "execute_result"
    }
   ],
   "source": [
    "len(text1)"
   ]
  },
  {
   "cell_type": "code",
   "execution_count": 185,
   "metadata": {
    "collapsed": false
   },
   "outputs": [
    {
     "data": {
      "image/png": "[encoded data removed]",
      "text/plain": [
       "<matplotlib.figure.Figure at 0x2017f860>"
      ]
     },
     "metadata": {},
     "output_type": "display_data"
    }
   ],
   "source": [
    "fdist1.plot(50, cumulative=True)"
   ]
  },
  {
   "cell_type": "code",
   "execution_count": 186,
   "metadata": {
    "collapsed": false
   },
   "outputs": [
    {
     "data": {
      "text/plain": [
       "['CIRCUMNAVIGATION',\n",
       " 'Physiognomically',\n",
       " 'apprehensiveness',\n",
       " 'cannibalistically',\n",
       " 'characteristically',\n",
       " 'circumnavigating',\n",
       " 'circumnavigation',\n",
       " 'circumnavigations',\n",
       " 'comprehensiveness',\n",
       " 'hermaphroditical',\n",
       " 'indiscriminately',\n",
       " 'indispensableness',\n",
       " 'irresistibleness',\n",
       " 'physiognomically',\n",
       " 'preternaturalness',\n",
       " 'responsibilities',\n",
       " 'simultaneousness',\n",
       " 'subterraneousness',\n",
       " 'supernaturalness',\n",
       " 'superstitiousness',\n",
       " 'uncomfortableness',\n",
       " 'uncompromisedness',\n",
       " 'undiscriminating',\n",
       " 'uninterpenetratingly']"
      ]
     },
     "execution_count": 186,
     "metadata": {},
     "output_type": "execute_result"
    }
   ],
   "source": [
    "V = set(text1)\n",
    "long_words = [w for w in V if len(w) > 15]\n",
    "sorted(long_words)"
   ]
  },
  {
   "cell_type": "code",
   "execution_count": 188,
   "metadata": {
    "collapsed": false
   },
   "outputs": [
    {
     "data": {
      "text/plain": [
       "<Text: Chat Corpus>"
      ]
     },
     "execution_count": 188,
     "metadata": {},
     "output_type": "execute_result"
    }
   ],
   "source": [
    "text5"
   ]
  },
  {
   "cell_type": "code",
   "execution_count": 187,
   "metadata": {
    "collapsed": false
   },
   "outputs": [
    {
     "data": {
      "text/plain": [
       "['#14-19teens',\n",
       " '#talkcity_adults',\n",
       " '((((((((((',\n",
       " '........',\n",
       " 'Question',\n",
       " 'actually',\n",
       " 'anything',\n",
       " 'computer',\n",
       " 'cute.-ass',\n",
       " 'everyone',\n",
       " 'football',\n",
       " 'innocent',\n",
       " 'listening',\n",
       " 'remember',\n",
       " 'seriously',\n",
       " 'something',\n",
       " 'together',\n",
       " 'tomorrow',\n",
       " 'watching']"
      ]
     },
     "execution_count": 187,
     "metadata": {},
     "output_type": "execute_result"
    }
   ],
   "source": [
    "fdist5 = FreqDist(text5) # analyze chat rooms\n",
    "sorted(w for w in set(text5) if len(w) > 7 and fdist5[w] > 7) # long and frequent words from chats"
   ]
  },
  {
   "cell_type": "code",
   "execution_count": 189,
   "metadata": {
    "collapsed": false
   },
   "outputs": [
    {
     "data": {
      "text/plain": [
       "[('more', 'is'), ('is', 'said'), ('said', 'than'), ('than', 'done')]"
      ]
     },
     "execution_count": 189,
     "metadata": {},
     "output_type": "execute_result"
    }
   ],
   "source": [
    "list(nltk.bigrams(['more', 'is', 'said', 'than', 'done']))"
   ]
  },
  {
   "cell_type": "code",
   "execution_count": 190,
   "metadata": {
    "collapsed": false
   },
   "outputs": [
    {
     "name": "stdout",
     "output_type": "stream",
     "text": [
      "United States; fellow citizens; four years; years ago; Federal\n",
      "Government; General Government; American people; Vice President; Old\n",
      "World; Almighty God; Fellow citizens; Chief Magistrate; Chief Justice;\n",
      "God bless; every citizen; Indian tribes; public debt; one another;\n",
      "foreign nations; political parties\n"
     ]
    }
   ],
   "source": [
    "text4.collocations()"
   ]
  },
  {
   "cell_type": "code",
   "execution_count": 191,
   "metadata": {
    "collapsed": true
   },
   "outputs": [],
   "source": [
    "fdist = FreqDist(len(w) for w in text1) # distribution of word-lengths"
   ]
  },
  {
   "cell_type": "code",
   "execution_count": 192,
   "metadata": {
    "collapsed": false
   },
   "outputs": [
    {
     "data": {
      "text/plain": [
       "Counter({1: 47933,\n",
       "         2: 38513,\n",
       "         3: 50223,\n",
       "         4: 42345,\n",
       "         5: 26597,\n",
       "         6: 17111,\n",
       "         7: 14399,\n",
       "         8: 9966,\n",
       "         9: 6428,\n",
       "         10: 3528,\n",
       "         11: 1873,\n",
       "         12: 1053,\n",
       "         13: 567,\n",
       "         14: 177,\n",
       "         15: 70,\n",
       "         16: 22,\n",
       "         17: 12,\n",
       "         18: 1,\n",
       "         20: 1})"
      ]
     },
     "execution_count": 192,
     "metadata": {},
     "output_type": "execute_result"
    }
   ],
   "source": [
    "fdist"
   ]
  },
  {
   "cell_type": "code",
   "execution_count": 193,
   "metadata": {
    "collapsed": false
   },
   "outputs": [
    {
     "data": {
      "text/plain": [
       "[(3, 50223),\n",
       " (1, 47933),\n",
       " (4, 42345),\n",
       " (2, 38513),\n",
       " (5, 26597),\n",
       " (6, 17111),\n",
       " (7, 14399),\n",
       " (8, 9966),\n",
       " (9, 6428),\n",
       " (10, 3528),\n",
       " (11, 1873),\n",
       " (12, 1053),\n",
       " (13, 567),\n",
       " (14, 177),\n",
       " (15, 70),\n",
       " (16, 22),\n",
       " (17, 12),\n",
       " (18, 1),\n",
       " (20, 1)]"
      ]
     },
     "execution_count": 193,
     "metadata": {},
     "output_type": "execute_result"
    }
   ],
   "source": [
    "fdist.most_common()"
   ]
  },
  {
   "cell_type": "code",
   "execution_count": 194,
   "metadata": {
    "collapsed": false
   },
   "outputs": [
    {
     "data": {
      "text/plain": [
       "True"
      ]
     },
     "execution_count": 194,
     "metadata": {},
     "output_type": "execute_result"
    }
   ],
   "source": [
    "'aska' in 'Madagaskar'"
   ]
  },
  {
   "cell_type": "code",
   "execution_count": 196,
   "metadata": {
    "collapsed": false
   },
   "outputs": [
    {
     "data": {
      "text/plain": [
       "19317"
      ]
     },
     "execution_count": 196,
     "metadata": {},
     "output_type": "execute_result"
    }
   ],
   "source": [
    "len(set(text1)) # all distinct words and punctuation tokens"
   ]
  },
  {
   "cell_type": "code",
   "execution_count": null,
   "metadata": {
    "collapsed": false
   },
   "outputs": [],
   "source": [
    "len(set(word.lower() for word in text1))  # all lowercased tokens"
   ]
  },
  {
   "cell_type": "code",
   "execution_count": 195,
   "metadata": {
    "collapsed": false
   },
   "outputs": [
    {
     "data": {
      "text/plain": [
       "16948"
      ]
     },
     "execution_count": 195,
     "metadata": {},
     "output_type": "execute_result"
    }
   ],
   "source": [
    "len(set(word.lower() for word in text1 if word.isalpha()))  # all lowercased tokens without punctuation \n",
    "                                                           # only alphabetic words counted"
   ]
  },
  {
   "cell_type": "code",
   "execution_count": 198,
   "metadata": {
    "collapsed": true
   },
   "outputs": [],
   "source": [
    "from nltk.chat.util import Chat\n",
    "from nltk.chat.eliza import eliza_chat\n",
    "from nltk.chat.iesha import iesha_chat\n",
    "from nltk.chat.rude import rude_chat\n",
    "from nltk.chat.suntsu import suntsu_chat\n",
    "from nltk.chat.zen import zen_chat"
   ]
  },
  {
   "cell_type": "code",
   "execution_count": 199,
   "metadata": {
    "collapsed": false
   },
   "outputs": [
    {
     "name": "stdout",
     "output_type": "stream",
     "text": [
      "Therapist\n",
      "---------\n",
      "Talk to the program by typing in plain English, using normal upper-\n",
      "and lower-case letters and punctuation.  Enter \"quit\" when done.\n",
      "========================================================================\n",
      "Hello.  How are you feeling today?\n",
      ">fine thanks\n",
      "Please tell me more.\n",
      ">I had a busy weekend\n",
      "How do you feel when you say that?\n",
      ">and how do you think?\n",
      "Perhaps the answer lies within yourself?\n",
      ">q\n",
      "I see.  And what does that tell you?\n",
      ">quit\n",
      "Good-bye.\n"
     ]
    }
   ],
   "source": [
    "eliza_chat()"
   ]
  },
  {
   "cell_type": "code",
   "execution_count": null,
   "metadata": {
    "collapsed": false
   },
   "outputs": [],
   "source": [
    "iesha_chat()"
   ]
  },
  {
   "cell_type": "code",
   "execution_count": 200,
   "metadata": {
    "collapsed": false
   },
   "outputs": [
    {
     "name": "stdout",
     "output_type": "stream",
     "text": [
      "Talk to the program by typing in plain English, using normal upper-\n",
      "and lower-case letters and punctuation.  Enter \"quit\" when done.\n",
      "========================================================================\n",
      "I suppose I should say hello.\n",
      ">hello\n",
      "Oh good, somebody else to talk to. Joy.\n",
      ">why are you so rude?\n",
      "That's so obvious I thought even you'd have already figured it out.\n",
      ">quit\n",
      "Either become more thrilling or get lost, buddy.\n"
     ]
    }
   ],
   "source": [
    "rude_chat()"
   ]
  },
  {
   "cell_type": "code",
   "execution_count": null,
   "metadata": {
    "collapsed": false
   },
   "outputs": [],
   "source": [
    "suntsu_chat()"
   ]
  },
  {
   "cell_type": "code",
   "execution_count": null,
   "metadata": {
    "collapsed": false
   },
   "outputs": [],
   "source": [
    "zen_chat()"
   ]
  },
  {
   "cell_type": "code",
   "execution_count": 201,
   "metadata": {
    "collapsed": false
   },
   "outputs": [],
   "source": [
    "txt = nltk.text.Text(['I','want','to','go ','home','.','I','want','to','go','abroad','.'])"
   ]
  },
  {
   "cell_type": "code",
   "execution_count": 202,
   "metadata": {
    "collapsed": false
   },
   "outputs": [
    {
     "data": {
      "text/plain": [
       "12"
      ]
     },
     "execution_count": 202,
     "metadata": {},
     "output_type": "execute_result"
    }
   ],
   "source": [
    "len(txt)"
   ]
  },
  {
   "cell_type": "code",
   "execution_count": 203,
   "metadata": {
    "collapsed": false
   },
   "outputs": [
    {
     "data": {
      "text/plain": [
       "{'.', 'I', 'abroad', 'go', 'go ', 'home', 'to', 'want'}"
      ]
     },
     "execution_count": 203,
     "metadata": {},
     "output_type": "execute_result"
    }
   ],
   "source": [
    "set(txt)"
   ]
  },
  {
   "cell_type": "code",
   "execution_count": 204,
   "metadata": {
    "collapsed": false
   },
   "outputs": [
    {
     "name": "stdout",
     "output_type": "stream",
     "text": [
      "Displaying 2 of 2 matches:\n",
      "                                       I want to go  home . I want to go abroad\n",
      "                  I want to go  home . I want to go abroad .\n"
     ]
    }
   ],
   "source": [
    "txt.concordance(\"I\")"
   ]
  },
  {
   "cell_type": "code",
   "execution_count": null,
   "metadata": {
    "collapsed": true
   },
   "outputs": [],
   "source": [
    "#wiki: collocations, the Turing Test, the type-token distinction"
   ]
  },
  {
   "cell_type": "code",
   "execution_count": 205,
   "metadata": {
    "collapsed": true
   },
   "outputs": [],
   "source": [
    "from nltk.corpus import gutenberg"
   ]
  },
  {
   "cell_type": "code",
   "execution_count": 206,
   "metadata": {
    "collapsed": false
   },
   "outputs": [
    {
     "data": {
      "text/plain": [
       "['austen-emma.txt',\n",
       " 'austen-persuasion.txt',\n",
       " 'austen-sense.txt',\n",
       " 'bible-kjv.txt',\n",
       " 'blake-poems.txt',\n",
       " 'bryant-stories.txt',\n",
       " 'burgess-busterbrown.txt',\n",
       " 'carroll-alice.txt',\n",
       " 'chesterton-ball.txt',\n",
       " 'chesterton-brown.txt',\n",
       " 'chesterton-thursday.txt',\n",
       " 'edgeworth-parents.txt',\n",
       " 'melville-moby_dick.txt',\n",
       " 'milton-paradise.txt',\n",
       " 'shakespeare-caesar.txt',\n",
       " 'shakespeare-hamlet.txt',\n",
       " 'shakespeare-macbeth.txt',\n",
       " 'whitman-leaves.txt']"
      ]
     },
     "execution_count": 206,
     "metadata": {},
     "output_type": "execute_result"
    }
   ],
   "source": [
    "gutenberg.fileids()"
   ]
  },
  {
   "cell_type": "code",
   "execution_count": 207,
   "metadata": {
    "collapsed": true
   },
   "outputs": [],
   "source": [
    "emma = nltk.Text(gutenberg.words('austen-emma.txt'))"
   ]
  },
  {
   "cell_type": "code",
   "execution_count": 208,
   "metadata": {
    "collapsed": false
   },
   "outputs": [
    {
     "data": {
      "text/plain": [
       "['[', 'Emma', 'by', 'Jane', 'Austen', '1816', ']', ...]"
      ]
     },
     "execution_count": 208,
     "metadata": {},
     "output_type": "execute_result"
    }
   ],
   "source": [
    "nltk.corpus.gutenberg.words('austen-emma.txt')"
   ]
  },
  {
   "cell_type": "code",
   "execution_count": 209,
   "metadata": {
    "collapsed": false
   },
   "outputs": [
    {
     "name": "stdout",
     "output_type": "stream",
     "text": [
      "Displaying 25 of 37 matches:\n",
      "er father , was sometimes taken by surprize at his being still able to pity ` \n",
      "hem do the other any good .\" \" You surprize me ! Emma must do Harriet good : a\n",
      "Knightley actually looked red with surprize and displeasure , as he stood up ,\n",
      "r . Elton , and found to his great surprize , that Mr . Elton was actually on \n",
      "d aid .\" Emma saw Mrs . Weston ' s surprize , and felt that it must be great ,\n",
      "father was quite taken up with the surprize of so sudden a journey , and his f\n",
      "y , in all the favouring warmth of surprize and conjecture . She was , moreove\n",
      "he appeared , to have her share of surprize , introduction , and pleasure . Th\n",
      "ir plans ; and it was an agreeable surprize to her , therefore , to perceive t\n",
      "talking aunt had taken me quite by surprize , it must have been the death of m\n",
      "f all the dialogue which ensued of surprize , and inquiry , and congratulation\n",
      " the present . They might chuse to surprize her .\" Mrs . Cole had many to agre\n",
      "the mode of it , the mystery , the surprize , is more like a young woman ' s s\n",
      " to her song took her agreeably by surprize -- a second , slightly but correct\n",
      "\" \" Oh ! no -- there is nothing to surprize one at all .-- A pretty fortune ; \n",
      "t to be considered . Emma ' s only surprize was that Jane Fairfax should accep\n",
      "of your admiration may take you by surprize some day or other .\" Mr . Knightle\n",
      "ation for her will ever take me by surprize .-- I never had a thought of her i\n",
      " expected by the best judges , for surprize -- but there was great joy . Mr . \n",
      " sound of at first , without great surprize . \" So unreasonably early !\" she w\n",
      "d Frank Churchill , with a look of surprize and displeasure .-- \" That is easy\n",
      "; and Emma could imagine with what surprize and mortification she must be retu\n",
      "tled that Jane should go . Quite a surprize to me ! I had not the least idea !\n",
      " . It is impossible to express our surprize . He came to speak to his father o\n",
      "g engaged !\" Emma even jumped with surprize ;-- and , horror - struck , exclai\n"
     ]
    }
   ],
   "source": [
    "emma.concordance(\"surprize\")"
   ]
  },
  {
   "cell_type": "code",
   "execution_count": 210,
   "metadata": {
    "collapsed": false
   },
   "outputs": [
    {
     "name": "stdout",
     "output_type": "stream",
     "text": [
      "Chars per word, Words per sentense, Num of word usages, Filename\n",
      "5 25 26 austen-emma.txt\n",
      "5 26 17 austen-persuasion.txt\n",
      "5 28 22 austen-sense.txt\n",
      "4 34 79 bible-kjv.txt\n",
      "5 19 5 blake-poems.txt\n",
      "4 19 14 bryant-stories.txt\n",
      "4 18 12 burgess-busterbrown.txt\n",
      "4 20 13 carroll-alice.txt\n",
      "5 20 12 chesterton-ball.txt\n",
      "5 23 11 chesterton-brown.txt\n",
      "5 18 11 chesterton-thursday.txt\n",
      "4 21 25 edgeworth-parents.txt\n",
      "5 26 15 melville-moby_dick.txt\n",
      "5 52 11 milton-paradise.txt\n",
      "4 12 9 shakespeare-caesar.txt\n",
      "4 12 8 shakespeare-hamlet.txt\n",
      "4 12 7 shakespeare-macbeth.txt\n",
      "5 36 12 whitman-leaves.txt\n"
     ]
    }
   ],
   "source": [
    "print('Chars per word, Words per sentense, Num of word usages, Filename')\n",
    "for fileid in gutenberg.fileids():\n",
    "    num_chars = len(gutenberg.raw(fileid))\n",
    "    num_words = len(gutenberg.words(fileid))\n",
    "    num_sents = len(gutenberg.sents(fileid))\n",
    "    num_vocab = len(set(w.lower() for w \n",
    "                        in gutenberg.words(fileid)))\n",
    "    print(round(num_chars/num_words), \n",
    "          round(num_words/num_sents), \n",
    "          round(num_words/num_vocab), fileid)"
   ]
  },
  {
   "cell_type": "code",
   "execution_count": null,
   "metadata": {
    "collapsed": false
   },
   "outputs": [],
   "source": [
    "from nltk.corpus import webtext\n",
    "\n",
    "for fileid in webtext.fileids():\n",
    "    print(fileid, webtext.raw(fileid)[:70], '...')\n"
   ]
  },
  {
   "cell_type": "code",
   "execution_count": null,
   "metadata": {
    "collapsed": false
   },
   "outputs": [],
   "source": [
    "from nltk.corpus import nps_chat\n",
    "chatroom = nps_chat.posts('10-19-20s_706posts.xml')\n",
    "chatroom[4]"
   ]
  },
  {
   "cell_type": "code",
   "execution_count": null,
   "metadata": {
    "collapsed": true
   },
   "outputs": [],
   "source": [
    "# Brown corpus, Reuters corpus\n",
    "# frequencies of modal words in Brown corpus"
   ]
  },
  {
   "cell_type": "code",
   "execution_count": null,
   "metadata": {
    "collapsed": false
   },
   "outputs": [],
   "source": [
    "[w for w in nltk.corpus.udhr.fileids() if 'Russian' in w]"
   ]
  },
  {
   "cell_type": "code",
   "execution_count": 211,
   "metadata": {
    "collapsed": false
   },
   "outputs": [
    {
     "data": {
      "text/plain": [
       "['Abkhaz-Cyrillic+Abkh',\n",
       " 'Abkhaz-UTF8',\n",
       " 'Achehnese-Latin1',\n",
       " 'Achuar-Shiwiar-Latin1',\n",
       " 'Adja-UTF8',\n",
       " 'Afaan_Oromo_Oromiffa-Latin1',\n",
       " 'Afrikaans-Latin1',\n",
       " 'Aguaruna-Latin1',\n",
       " 'Akuapem_Twi-UTF8',\n",
       " 'Albanian_Shqip-Latin1',\n",
       " 'Amahuaca',\n",
       " 'Amahuaca-Latin1',\n",
       " 'Amarakaeri-Latin1',\n",
       " 'Amuesha-Yanesha-UTF8',\n",
       " 'Arabela-Latin1',\n",
       " 'Arabic_Alarabia-Arabic',\n",
       " 'Asante-UTF8',\n",
       " 'Ashaninca-Latin1',\n",
       " 'Asheninca-Latin1',\n",
       " 'Asturian_Bable-Latin1',\n",
       " 'Aymara-Latin1',\n",
       " 'Balinese-Latin1',\n",
       " 'Bambara-UTF8',\n",
       " 'Baoule-UTF8',\n",
       " 'Basque_Euskara-Latin1',\n",
       " 'Batonu_Bariba-UTF8',\n",
       " 'Belorus_Belaruski-Cyrillic',\n",
       " 'Belorus_Belaruski-UTF8',\n",
       " 'Bemba-Latin1',\n",
       " 'Bengali-UTF8',\n",
       " 'Beti-UTF8',\n",
       " 'Bichelamar-Latin1',\n",
       " 'Bikol_Bicolano-Latin1',\n",
       " 'Bora-Latin1',\n",
       " 'Bosnian_Bosanski-Cyrillic',\n",
       " 'Bosnian_Bosanski-Latin2',\n",
       " 'Bosnian_Bosanski-UTF8',\n",
       " 'Breton-Latin1',\n",
       " 'Bugisnese-Latin1',\n",
       " 'Bulgarian_Balgarski-Cyrillic',\n",
       " 'Bulgarian_Balgarski-UTF8',\n",
       " 'Cakchiquel-Latin1',\n",
       " 'Campa_Pajonalino-Latin1',\n",
       " 'Candoshi-Shapra-Latin1',\n",
       " 'Caquinte-Latin1',\n",
       " 'Cashibo-Cacataibo-Latin1',\n",
       " 'Cashinahua-Latin1',\n",
       " 'Catalan-Latin1',\n",
       " 'Catalan_Catala-Latin1',\n",
       " 'Cebuano-Latin1',\n",
       " 'Chamorro-Latin1',\n",
       " 'Chayahuita-Latin1',\n",
       " 'Chechewa_Nyanja-Latin1',\n",
       " 'Chickasaw-Latin1',\n",
       " 'Chinanteco-Ajitlan-Latin1',\n",
       " 'Chinanteco-UTF8',\n",
       " 'Chinese_Mandarin-GB2312',\n",
       " 'Chuuk_Trukese-Latin1',\n",
       " 'Cokwe-Latin1',\n",
       " 'Corsican-Latin1',\n",
       " 'Croatian_Hrvatski-Latin2',\n",
       " 'Czech-Latin2',\n",
       " 'Czech-UTF8',\n",
       " 'Czech_Cesky-Latin2',\n",
       " 'Czech_Cesky-UTF8',\n",
       " 'Dagaare-UTF8',\n",
       " 'Dagbani-UTF8',\n",
       " 'Dangme-UTF8',\n",
       " 'Danish_Dansk-Latin1',\n",
       " 'Dendi-UTF8',\n",
       " 'Ditammari-UTF8',\n",
       " 'Dutch_Nederlands-Latin1',\n",
       " 'Edo-Latin1',\n",
       " 'English-Latin1',\n",
       " 'Esperanto-UTF8',\n",
       " 'Estonian_Eesti-Latin1',\n",
       " 'Ewe_Eve-UTF8',\n",
       " 'Fante-UTF8',\n",
       " 'Faroese-Latin1',\n",
       " 'Farsi_Persian-UTF8',\n",
       " 'Farsi_Persian-v2-UTF8',\n",
       " 'Fijian-Latin1',\n",
       " 'Filipino_Tagalog-Latin1',\n",
       " 'Finnish_Suomi-Latin1',\n",
       " 'Fon-UTF8',\n",
       " 'French_Francais-Latin1',\n",
       " 'Frisian-Latin1',\n",
       " 'Friulian_Friulano-Latin1',\n",
       " 'Ga-UTF8',\n",
       " 'Gagauz_Gagauzi-UTF8',\n",
       " 'Galician_Galego-Latin1',\n",
       " 'Garifuna_Garifuna-Latin1',\n",
       " 'German_Deutsch-Latin1',\n",
       " 'Gonja-UTF8',\n",
       " 'Greek_Ellinika-Greek',\n",
       " 'Greek_Ellinika-UTF8',\n",
       " 'Greenlandic_Inuktikut-Latin1',\n",
       " 'Guarani-Latin1',\n",
       " 'Guen_Mina-UTF8',\n",
       " 'HaitianCreole_Kreyol-Latin1',\n",
       " 'HaitianCreole_Popular-Latin1',\n",
       " 'Hani-Latin1',\n",
       " 'Hausa_Haoussa-Latin1',\n",
       " 'Hawaiian-UTF8',\n",
       " 'Hebrew_Ivrit-Hebrew',\n",
       " 'Hebrew_Ivrit-UTF8',\n",
       " 'Hiligaynon-Latin1',\n",
       " 'Hindi-UTF8',\n",
       " 'Hindi_web-UTF8',\n",
       " 'Hmong_Miao-Sichuan-Guizhou-Yunnan-Latin1',\n",
       " 'Hmong_Miao-SouthernEast-Guizhou-Latin1',\n",
       " 'Hmong_Miao_Northern-East-Guizhou-Latin1',\n",
       " 'Hrvatski_Croatian-Latin2',\n",
       " 'Huasteco-Latin1',\n",
       " 'Huitoto_Murui-Latin1',\n",
       " 'Hungarian_Magyar-Latin1',\n",
       " 'Hungarian_Magyar-Latin2',\n",
       " 'Hungarian_Magyar-UTF8',\n",
       " 'Ibibio_Efik-Latin1',\n",
       " 'Icelandic_Yslenska-Latin1',\n",
       " 'Ido-Latin1',\n",
       " 'Igbo-UTF8',\n",
       " 'Iloko_Ilocano-Latin1',\n",
       " 'Indonesian-Latin1',\n",
       " 'Interlingua-Latin1',\n",
       " 'Inuktikut_Greenlandic-Latin1',\n",
       " 'IrishGaelic_Gaeilge-Latin1',\n",
       " 'Italian-Latin1',\n",
       " 'Italian_Italiano-Latin1',\n",
       " 'Japanese_Nihongo-EUC',\n",
       " 'Japanese_Nihongo-SJIS',\n",
       " 'Japanese_Nihongo-UTF8',\n",
       " 'Javanese-Latin1',\n",
       " 'Jola-Fogny_Diola-UTF8',\n",
       " 'Kabye-UTF8',\n",
       " 'Kannada-UTF8',\n",
       " 'Kaonde-Latin1',\n",
       " 'Kapampangan-Latin1',\n",
       " 'Kasem-UTF8',\n",
       " 'Kazakh-Cyrillic',\n",
       " 'Kazakh-UTF8',\n",
       " 'Kiche_Quiche-Latin1',\n",
       " 'Kicongo-Latin1',\n",
       " 'Kimbundu_Mbundu-Latin1',\n",
       " 'Kinyamwezi_Nyamwezi-Latin1',\n",
       " 'Kinyarwanda-Latin1',\n",
       " 'Kituba-Latin1',\n",
       " 'Korean_Hankuko-UTF8',\n",
       " 'Kpelewo-UTF8',\n",
       " 'Krio-UTF8',\n",
       " 'Kurdish-UTF8',\n",
       " 'Lamnso_Lam-nso-UTF8',\n",
       " 'Latin_Latina-Latin1',\n",
       " 'Latin_Latina-v2-Latin1',\n",
       " 'Latvian-Latin1',\n",
       " 'Limba-UTF8',\n",
       " 'Lingala-Latin1',\n",
       " 'Lithuanian_Lietuviskai-Baltic',\n",
       " 'Lozi-Latin1',\n",
       " 'Luba-Kasai_Tshiluba-Latin1',\n",
       " 'Luganda_Ganda-Latin1',\n",
       " 'Lunda_Chokwe-lunda-Latin1',\n",
       " 'Luvale-Latin1',\n",
       " 'Luxembourgish_Letzebuergeusch-Latin1',\n",
       " 'Macedonian-UTF8',\n",
       " 'Madurese-Latin1',\n",
       " 'Makonde-Latin1',\n",
       " 'Malagasy-Latin1',\n",
       " 'Malay_BahasaMelayu-Latin1',\n",
       " 'Maltese-UTF8',\n",
       " 'Mam-Latin1',\n",
       " 'Maninka-UTF8',\n",
       " 'Maori-Latin1',\n",
       " 'Mapudungun_Mapuzgun-Latin1',\n",
       " 'Mapudungun_Mapuzgun-UTF8',\n",
       " 'Marshallese-Latin1',\n",
       " 'Matses-Latin1',\n",
       " 'Mayan_Yucateco-Latin1',\n",
       " 'Mazahua_Jnatrjo-UTF8',\n",
       " 'Mazateco-Latin1',\n",
       " 'Mende-UTF8',\n",
       " 'Mikmaq_Micmac-Mikmaq-Latin1',\n",
       " 'Minangkabau-Latin1',\n",
       " 'Miskito_Miskito-Latin1',\n",
       " 'Mixteco-Latin1',\n",
       " 'Mongolian_Khalkha-Cyrillic',\n",
       " 'Mongolian_Khalkha-UTF8',\n",
       " 'Moore_More-UTF8',\n",
       " 'Nahuatl-Latin1',\n",
       " 'Ndebele-Latin1',\n",
       " 'Nepali-UTF8',\n",
       " 'Ngangela_Nyemba-Latin1',\n",
       " 'NigerianPidginEnglish-Latin1',\n",
       " 'Nomatsiguenga-Latin1',\n",
       " 'NorthernSotho_Pedi-Sepedi-Latin1',\n",
       " 'Norwegian-Latin1',\n",
       " 'Norwegian_Norsk-Bokmal-Latin1',\n",
       " 'Norwegian_Norsk-Nynorsk-Latin1',\n",
       " 'Nyanja_Chechewa-Latin1',\n",
       " 'Nyanja_Chinyanja-Latin1',\n",
       " 'Nzema-UTF8',\n",
       " 'OccitanAuvergnat-Latin1',\n",
       " 'OccitanLanguedocien-Latin1',\n",
       " 'Oromiffa_AfaanOromo-Latin1',\n",
       " 'Osetin_Ossetian-UTF8',\n",
       " 'Oshiwambo_Ndonga-Latin1',\n",
       " 'Otomi_Nahnu-Latin1',\n",
       " 'Paez-Latin1',\n",
       " 'Palauan-Latin1',\n",
       " 'Peuhl-UTF8',\n",
       " 'Picard-Latin1',\n",
       " 'Pipil-Latin1',\n",
       " 'Polish-Latin2',\n",
       " 'Polish_Polski-Latin2',\n",
       " 'Ponapean-Latin1',\n",
       " 'Portuguese_Portugues-Latin1',\n",
       " 'Pulaar-UTF8',\n",
       " 'Punjabi_Panjabi-UTF8',\n",
       " 'Purhepecha-UTF8',\n",
       " 'Qechi_Kekchi-Latin1',\n",
       " 'Quechua-Latin1',\n",
       " 'Quichua-Latin1',\n",
       " 'Rarotongan_MaoriCookIslands-Latin1',\n",
       " 'Rhaeto-Romance_Rumantsch-Latin1',\n",
       " 'Romani-Latin1',\n",
       " 'Romani-UTF8',\n",
       " 'Romanian-Latin2',\n",
       " 'Romanian_Romana-Latin2',\n",
       " 'Rukonzo_Konjo-Latin1',\n",
       " 'Rundi_Kirundi-Latin1',\n",
       " 'Runyankore-rukiga_Nkore-kiga-Latin1',\n",
       " 'Russian-Cyrillic',\n",
       " 'Russian-UTF8',\n",
       " 'Russian_Russky-Cyrillic',\n",
       " 'Russian_Russky-UTF8',\n",
       " 'Sami_Lappish-UTF8',\n",
       " 'Sammarinese-Latin1',\n",
       " 'Samoan-Latin1',\n",
       " 'Sango_Sangho-Latin1',\n",
       " 'Sanskrit-UTF8',\n",
       " 'Saraiki-UTF8',\n",
       " 'Sardinian-Latin1',\n",
       " 'ScottishGaelic_GaidhligAlbanach-Latin1',\n",
       " 'Seereer-UTF8',\n",
       " 'Serbian_Srpski-Cyrillic',\n",
       " 'Serbian_Srpski-Latin2',\n",
       " 'Serbian_Srpski-UTF8',\n",
       " 'Sharanahua-Latin1',\n",
       " 'Shipibo-Conibo-Latin1',\n",
       " 'Shona-Latin1',\n",
       " 'Sinhala-UTF8',\n",
       " 'Siswati-Latin1',\n",
       " 'Slovak-Latin2',\n",
       " 'Slovak_Slovencina-Latin2',\n",
       " 'Slovenian_Slovenscina-Latin2',\n",
       " 'SolomonsPidgin_Pijin-Latin1',\n",
       " 'Somali-Latin1',\n",
       " 'Soninke_Soninkanxaane-UTF8',\n",
       " 'Sorbian-Latin2',\n",
       " 'SouthernSotho_Sotho-Sesotho-Sutu-Sesutu-Latin1',\n",
       " 'Spanish-Latin1',\n",
       " 'Spanish_Espanol-Latin1',\n",
       " 'Sukuma-Latin1',\n",
       " 'Sundanese-Latin1',\n",
       " 'Sussu_Soussou-Sosso-Soso-Susu-UTF8',\n",
       " 'Swaheli-Latin1',\n",
       " 'Swahili_Kiswahili-Latin1',\n",
       " 'Swedish_Svenska-Latin1',\n",
       " 'Tahitian-UTF8',\n",
       " 'Tenek_Huasteco-Latin1',\n",
       " 'Tetum-Latin1',\n",
       " 'Themne_Temne-UTF8',\n",
       " 'Tiv-Latin1',\n",
       " 'Toba-UTF8',\n",
       " 'Tojol-abal-Latin1',\n",
       " 'TokPisin-Latin1',\n",
       " 'Tonga-Latin1',\n",
       " 'Tongan_Tonga-Latin1',\n",
       " 'Totonaco-Latin1',\n",
       " 'Trukese_Chuuk-Latin1',\n",
       " 'Turkish_Turkce-Turkish',\n",
       " 'Turkish_Turkce-UTF8',\n",
       " 'Tzeltal-Latin1',\n",
       " 'Tzotzil-Latin1',\n",
       " 'Uighur_Uyghur-Latin1',\n",
       " 'Uighur_Uyghur-UTF8',\n",
       " 'Ukrainian-Cyrillic',\n",
       " 'Ukrainian-UTF8',\n",
       " 'Umbundu-Latin1',\n",
       " 'Urarina-Latin1',\n",
       " 'Uzbek-Latin1',\n",
       " 'Vietnamese-ALRN-UTF8',\n",
       " 'Vietnamese-UTF8',\n",
       " 'Vlach-Latin1',\n",
       " 'Walloon_Wallon-Latin1',\n",
       " 'Wama-UTF8',\n",
       " 'Waray-Latin1',\n",
       " 'Wayuu-Latin1',\n",
       " 'Welsh_Cymraeg-Latin1',\n",
       " 'WesternSotho_Tswana-Setswana-Latin1',\n",
       " 'Wolof-Latin1',\n",
       " 'Xhosa-Latin1',\n",
       " 'Yagua-Latin1',\n",
       " 'Yao-Latin1',\n",
       " 'Yapese-Latin1',\n",
       " 'Yoruba-UTF8',\n",
       " 'Zapoteco-Latin1',\n",
       " 'Zapoteco-SanLucasQuiavini-Latin1',\n",
       " 'Zhuang-Latin1',\n",
       " 'Zulu-Latin1']"
      ]
     },
     "execution_count": 211,
     "metadata": {},
     "output_type": "execute_result"
    }
   ],
   "source": [
    "nltk.corpus.udhr.fileids()"
   ]
  },
  {
   "cell_type": "code",
   "execution_count": 212,
   "metadata": {
    "collapsed": true
   },
   "outputs": [],
   "source": [
    "languages = ['Russian-UTF8','Serbian_Srpski-UTF8','English-Latin1',#'French_Francais-Latin1',\n",
    "             'Greek_Ellinika-UTF8','Vietnamese-UTF8','Turkish_Turkce-UTF8','Nepali-UTF8']\n",
    "#              'Czech-UTF8','Italian-Latin1']\n",
    "#              'Norwegian-Latin1','Swedish_Svenska-Latin1',\n",
    "#              'Portuguese_Portugues-Latin1',\n",
    "             "
   ]
  },
  {
   "cell_type": "code",
   "execution_count": 213,
   "metadata": {
    "collapsed": true
   },
   "outputs": [],
   "source": [
    "languages = ['Russian-UTF8','German_Deutsch-Latin1','Czech-UTF8',\n",
    "             'Norwegian-Latin1','Swedish_Svenska-Latin1',\n",
    "              'Portuguese_Portugues-Latin1']"
   ]
  },
  {
   "cell_type": "code",
   "execution_count": 214,
   "metadata": {
    "collapsed": false
   },
   "outputs": [
    {
     "data": {
      "image/png": "[encoded data removed]",
      "text/plain": [
       "<matplotlib.figure.Figure at 0x21c06358>"
      ]
     },
     "metadata": {},
     "output_type": "display_data"
    }
   ],
   "source": [
    "cfd = nltk.ConditionalFreqDist(\n",
    "           (lang, len(word))\n",
    "           for lang in languages\n",
    "           for word in nltk.corpus.udhr.words(lang))\n",
    "cfd.plot(cumulative=True)"
   ]
  },
  {
   "cell_type": "code",
   "execution_count": 215,
   "metadata": {
    "collapsed": false
   },
   "outputs": [],
   "source": [
    "rus = nltk.Text(nltk.corpus.udhr.words('Russian-UTF8'))"
   ]
  },
  {
   "cell_type": "code",
   "execution_count": 216,
   "metadata": {
    "collapsed": false
   },
   "outputs": [
    {
     "data": {
      "text/plain": [
       "['провозглашенными',\n",
       " 'несамоуправляющейся',\n",
       " 'неприкосновенность',\n",
       " 'правосубъектности',\n",
       " 'подстрекательства',\n",
       " 'предоставленных',\n",
       " 'беспристрастным',\n",
       " 'разбирательства',\n",
       " 'посягательствам',\n",
       " 'неприкосновенность',\n",
       " 'корреспонденции',\n",
       " 'местожительство']"
      ]
     },
     "execution_count": 216,
     "metadata": {},
     "output_type": "execute_result"
    }
   ],
   "source": [
    "[w for w in rus if len(w)>14]"
   ]
  },
  {
   "cell_type": "code",
   "execution_count": 217,
   "metadata": {
    "collapsed": false
   },
   "outputs": [
    {
     "name": "stdout",
     "output_type": "stream",
     "text": [
      "Displaying 12 of 12 matches:\n",
      "на в целях обеспечения того , чтобы человек не был вынужден прибегать , в качес\n",
      " и государства с тем , чтобы каждый человек и каждый орган общества , постоянно\n",
      "а в духе братства . Статья 2 Каждый человек должен обладать всеми правами и все\n",
      "а страны или территории , к которой человек принадлежит , независимо от того , \n",
      "воем суверенитете . Статья 3 Каждый человек имеет право на жизнь , на свободу и\n",
      "щению и наказанию . Статья 6 Каждый человек , где бы он ни находился , имеет пр\n",
      "кой дискриминации . Статья 8 Каждый человек имеет право на эффективное восстано\n",
      "нию или изгнанию . Статья 10 Каждый человек , для определения его прав и обязан\n",
      "истрастным судом . Статья 11 Каждый человек , обвиняемый в совершении преступле\n",
      "и на его честь и репутацию . Каждый человек имеет право на защиту закона от так\n",
      "их посягательств . Статья 13 Каждый человек имеет право свободно передвигаться \n",
      "еделах каждого государства . Каждый человек имеет право покидать любую страну ,\n"
     ]
    }
   ],
   "source": [
    "rus.concordance('человек')"
   ]
  },
  {
   "cell_type": "code",
   "execution_count": 218,
   "metadata": {
    "collapsed": false
   },
   "outputs": [
    {
     "name": "stdout",
     "output_type": "stream",
     "text": [
      "\n"
     ]
    }
   ],
   "source": [
    "rus.similar('дискриминации')"
   ]
  },
  {
   "cell_type": "code",
   "execution_count": 219,
   "metadata": {
    "collapsed": false
   },
   "outputs": [
    {
     "name": "stdout",
     "output_type": "stream",
     "text": [
      "его_и\n"
     ]
    }
   ],
   "source": [
    "rus.common_contexts(['честь'])"
   ]
  },
  {
   "cell_type": "code",
   "execution_count": 220,
   "metadata": {
    "collapsed": false
   },
   "outputs": [
    {
     "data": {
      "image/png": "[encoded data removed]",
      "text/plain": [
       "<matplotlib.figure.Figure at 0x22e23be0>"
      ]
     },
     "metadata": {},
     "output_type": "display_data"
    }
   ],
   "source": [
    "from nltk.corpus import udhr\n",
    ">>> languages = ['Chickasaw', 'English', 'German_Deutsch',\n",
    "...     'Greenlandic_Inuktikut', 'Hungarian_Magyar', 'Ibibio_Efik']\n",
    ">>> cfd = nltk.ConditionalFreqDist(\n",
    "...           (lang, len(word))\n",
    "...           for lang in languages\n",
    "...           for word in udhr.words(lang + '-Latin1'))\n",
    ">>> cfd.plot(cumulative=True)"
   ]
  },
  {
   "cell_type": "code",
   "execution_count": null,
   "metadata": {
    "collapsed": false
   },
   "outputs": [],
   "source": [
    "keys"
   ]
  },
  {
   "cell_type": "code",
   "execution_count": 222,
   "metadata": {
    "collapsed": false
   },
   "outputs": [
    {
     "data": {
      "text/plain": [
       "<matplotlib.legend.Legend at 0x22fa0a90>"
      ]
     },
     "execution_count": 222,
     "metadata": {},
     "output_type": "execute_result"
    },
    {
     "data": {
      "image/png": "[encoded data removed]",
      "text/plain": [
       "<matplotlib.figure.Figure at 0x22f07cf8>"
      ]
     },
     "metadata": {},
     "output_type": "display_data"
    }
   ],
   "source": [
    "#for lang in []: # ,\n",
    "for lang in ['English-Latin1','German_Deutsch-Latin1']:\n",
    "    raw_text = nltk.corpus.udhr.raw(lang).lower()\n",
    "    d = nltk.FreqDist(raw_text)\n",
    "    keys = sorted(sorted(d.keys()))\n",
    "    keys='abcdefghijklmnopqrstuvwxyz'\n",
    "    plot([d[k] for k in keys],label=lang)\n",
    "    gca().set_xticks(range(len(keys)))\n",
    "    gca().set_xticklabels(keys)\n",
    "legend()"
   ]
  },
  {
   "cell_type": "code",
   "execution_count": 223,
   "metadata": {
    "collapsed": false,
    "scrolled": true
   },
   "outputs": [
    {
     "data": {
      "text/plain": [
       "'die allgemeine erklärung der menschenrechte\\nresolution 217 a (iii) vom 10.12.1948 \\n\\npräambel\\nda die anerkennung der angeborenen würde und der gleichen und unveräußerlichen rechte aller mitglieder der gemeinschaft der menschen die grundlage von freiheit, gerechtigkeit und frieden in der welt bildet, \\n\\nda die nichtanerkennung und verachtung der menschenrechte zu akten der barbarei geführt haben, die das gewissen der menschheit mit empörung erfüllen, und da verkündet worden ist, daß einer welt, in der die menschen rede- und glaubensfreiheit und freiheit von furcht und not genießen, das höchste streben des menschen gilt, \\n\\nda es notwendig ist, die menschenrechte durch die herrschaft des rechtes zu schützen, damit der mensch nicht gezwungen wird, als letztes mittel zum aufstand gegen tyrannei und unterdrückung zu greifen, \\n\\nda es notwendig ist, die entwicklung freundschaftlicher beziehungen zwischen den nationen zu fördern, \\n\\nda die völker der vereinten nationen in der charta ihren glauben an die grundlegenden menschenrechte, an die würde und den wert der menschlichen person und an die gleichberechtigung von mann und frau erneut bekräftigt und beschlossen haben, den sozialen forschritt und bessere lebensbedingungen in größerer freiheit zu fördern, \\n\\nda die mitgliedstaaten sich verpflichtet haben, in zusammenarbeit mit den vereinten nationen auf die allgemeine achtung und einhaltung der menschenrechte und grundfreiheiten hinzuwirken, \\n\\nda ein gemeinsames verständnis dieser rechte und freiheiten von größter wichtigkeit für die volle erfüllung dieser verpflichtung ist, \\n\\nverkündet die generalversammlung \\n\\ndiese allgemeine erklärung der menschenrechte als das von allen völkern und nationen zu erreichende gemeinsame ideal, damit jeder einzelne und alle organe der gesellschaft sich diese erklärung stets gegenwärtig halten und sich bemühen, durch unterricht und erziehung die achtung vor diesen rechten und freiheiten zu fördern und durch fortschreitende nationale und internationale maßnahmen ihre allgemeine und tatsächliche anerkennung und einhaltung durch die bevölkerung der mitgliedstaaten selbst wie auch durch die bevölkerung der ihrer hoheitsgewalt unterstehenden gebiete zu gewährleisten. \\n\\nartikel 1\\nalle menschen sind frei und gleich an würde und rechten geboren. sie sind mit vernunft und gewissen begabt und sollen einander im geist der brüderlichkeit begegnen. \\n\\nartikel 2\\njeder hat anspruch auf die in dieser erklärung verkündeten rechte und freiheiten ohne irgendeinen unterschied, etwa nach rasse, hautfarbe, geschlecht, sprache, religion, politischer oder sonstiger überzeugung, nationaler oder sozialer herkunft, vermögen, geburt oder sonstigem stand. \\n\\ndes weiteren darf kein unterschied gemacht werden auf grund der politischen, rechtlichen oder internationalen stellung des landes oder gebiets, dem eine person angehört, gleichgültig ob dieses unabhängig ist, unter treuhandschaft steht, keine selbstregierung besitzt oder sonst in seiner souveränität eingeschränkt ist ist. \\n\\nartikel 3\\njeder hat das recht auf leben, freiheit und sicherheit der person. \\n\\nartikel 4\\nniemand darf in sklaverei oder leibeigenschaft gehalten werden; sklaverei und sklavenhandel sind in allen ihren formen verboten. \\n\\nartikel 5\\nniemand darf der folter oder grausamer, unmenschlicher oder erniedrigender behandlung oder strafe unterworfen werden. \\n\\nartikel 6\\njeder hat das recht, überall als rechtsfähig anerkannt zu werden. \\n\\nartikel 7\\nalle menschen sind vor dem gesetz gleich und haben ohne unterschied anspruch auf gleichen schutz durch das gesetz. alle haben anspruch auf gleichen schutz gegen jede diskriminierung, die gegen diese erklärung verstößt, und gegen jede aufhetzung zu einer derartigen diskriminierung. \\n\\nartikel 8\\njeder hat anspruch auf einen wirksamen rechtsbehelf bei den zuständigen innerstaatlichen gerichten gegen handlungen, durch die seine ihm nach der verfassung oder nach dem gesetz zustehenen grundrechte verletzt werden. \\n\\nartikel 9\\nniemand darf willkürlich festgenommen, in haft gehalten oder des landes verwiesen werden. \\n\\nartikel 10\\njeder hat bei der feststellung seiner rechte und pflichten sowie bei einer gegen ihn erhobenen strafrechtlichen beschuldigung in voller gleichheit anspruch auf ein gerechtes und öffentliches verfahren vor einem unabhängigen und unparteiischen gericht. \\n\\nartikel 11\\njeder, der wegen einer strafbaren handlung beschuldigt wird, hat das recht, als unschuldig zu gelten, solange seine schuld nicht in einem öffentlichen verfahren, in dem er alle für seine verteidigung notwendigen garantien gehabt hat, gemäß dem gesetz nachgewiesen ist. \\nniemand darf wegen einer handlung oder unterlassung verurteilt werden, die zur zeit ihrer begehung nach innerstaatlichem oder internationalem recht nicht strafbar war. ebenso darf keine schwerere strafe als die zum zeitpunkt der begehung der strafbaren handlung angedrohte strafe verhängt werden. \\nartikel 12\\nniemand darf willkürlichen eingriffen in sein privatleben, seine familie, seine wohnung und seinen schriftverkehr oder beeinträchtigungen seiner ehre und seines rufes ausgesetzt werden. jeder hat anspruch auf rechtlichen schutz gegen solche eingriffe oder beeinträchtigungen. \\n\\nartikel 13\\njeder hat das recht, sich innerhalb eines staates frei zu bewegen und seinen aufenthaltsort frei zu wählen. \\njeder hat das recht, jedes land, einschließlich seines eigenen, zu verlassen und in sein land zurückzukehren. \\nartikel 14\\njeder hat das recht, in anderen ländern vor verfolgung asyl zu suchen und zu genießen. \\ndieses recht kann nicht in anspruch genommen werden im falle einer strafverfolgung, die tatsächlich auf grund von verbrechen nichtpolitischer art oder auf grund von handlungen erfolgt, die gegen die ziele und grundsätze der vereinten nationen verstoßen. \\nartikel 15\\njeder hat das recht auf eine staatsangehörigkeit. \\nniemandem darf seine staatsangehörigkeit willkürlich entzogen noch das recht versagt werden, seine staatsanghörigkeit zu wechseln. \\nartikel 16\\nheiratsfähige frauen und männer haben ohne beschränkung auf grund der rasse, der staatsangehörigkeit oder der religion das recht zu heiraten und eine familie zu gründen. sie haben bei der eheschließung, während der ehe und bei deren auflösung gleiche rechte. \\neine ehe darf nur bei freier und uneingeschränkter willenseinigung der künftigen ehegatten geschlossen werden. \\ndie familie ist die natürliche grundeinheit der gesellschaft und hat anspruch auf schutz durch gesellschaft und staat. \\nartikel 17\\njeder hat das recht, sowohl allein als auch in gemeinschaft mit anderen eigentum innezuhaben. \\nniemand darf willkürlich seines eigentums beraubt werden. \\nartikel 18\\njeder hat das recht auf gedanken-, gewissens- und religionsfreiheit; dieses recht schließt die freiheit ein, seine religion oder überzeugung zu wechseln, sowie die freiheit, seine religion oder weltanschauung allein oder in gemeinschaft mit anderen, öffentlich oder privat durch lehre, ausübung, gottesdienst und kulthandlungen zu bekennen. \\n\\nartikel 19\\njeder hat das recht auf meinungsfreiheit und freie meinungsäußerung; dieses recht schließt die freiheit ein, meinungen ungehindert anzuhängen sowie über medien jeder art und ohne rücksicht auf grenzen informationen und gedankengut zu suchen, zu empfangen und zu verbreiten. \\n\\nartikel 20\\nalle menschen haben das recht, sich friedlich zu versammeln und zu vereinigungen zusammenzuschließen. \\nniemand darf gezwungen werden, einer vereinigung anzugehören. \\nartikel 21\\njeder hat das recht, an der gestaltung der öffentlichen angelegenheiten seines landes unmittelbar oder durch frei gewählte vertreter mitzuwirken. \\njeder hat das recht auf gleichen zugang zu öffentlichen ämtern in seinem lande. \\nder wille des volkes bildet die grundlage für die autorität der öffentlichen gewalt; dieser wille muß durch regelmäßige, unverfälschte, allgemeine und gleiche wahlen mit geheimer stimmabgabe oder in einem gleichwertigen freien wahlverfahren zum ausdruck kommen. \\nartikel 22\\njeder hat als mitglied der gesellschaft das recht auf soziale sicherheit und anspruch darauf, durch innerstaatliche maßnahmen und internationale zusammenarbeit sowie unter berücksichtigung der organisation und der mittel jedes staates in den genuß der wirtschaftlichen, sozialen und kulturellen rechte zu gelangen, die für seine würde und die freie entwicklung seiner persönlichkeit unentbehrlich sind. \\n\\nartikel 23\\njeder hat das recht auf arbeit, auf freie berufswahl, auf gerechte und befriedigende arbeitsbedingungen sowie auf schutz vor arbeitslosigkeit. \\njeder, ohne unterschied, hat das recht auf gleichen lohn für gleiche arbeit. \\njeder, der arbeitet, hat das recht auf gerechte und befriedigende entlohnung, die ihm und seiner familie eine der menschlichen würde entsprechende existenz sichert, gegebenenfalls ergänzt durch andere soziale schutzmaßnahmen. \\njeder hat das recht, zum schutz seiner interessen gewerkschaften zu bilden und solchen beizutreten. \\nartikel 24 \\njeder hat das recht auf erholung und freizeit und insbesondere auf eine vernünftige begrenzung der arbeitszeit und regelmäßigen bezahlten urlaub. \\n\\nartikel 25\\njeder hat das recht auf einen lebensstandard, der seine und seiner familie gesundheit und wohl gewährleistet, einschließlich nahrung, kleidung, wohnung, ärztliche versorgung und notwendige soziale leistungen gewährleistet sowie das recht auf sicherheit im falle von arbeitslosigkeit, krankheit, invalidität oder verwitwung, im alter sowie bei anderweitigem verlust seiner unterhaltsmittel durch unverschuldete umstände. \\nmütter und kinder haben anspruch auf besondere fürsorge und unterstützung. alle kinder, eheliche wie außereheliche, genießen den gleichen sozialen schutz. \\nartikel 26\\njeder hat das recht auf bildung. die bildung ist unentgeltlich, zum mindesten der grundschulunterricht und die grundlegende bildung. der grundschulunterricht ist obligatorisch. fach- und berufsschulunterricht müssen allgemein verfügbar gemacht werden, und der hochschulunterricht muß allen'"
      ]
     },
     "execution_count": 223,
     "metadata": {},
     "output_type": "execute_result"
    }
   ],
   "source": [
    "nltk.corpus.udhr.raw(lang).lower()"
   ]
  },
  {
   "cell_type": "code",
   "execution_count": null,
   "metadata": {
    "collapsed": true
   },
   "outputs": [],
   "source": [
    "d"
   ]
  },
  {
   "cell_type": "code",
   "execution_count": 224,
   "metadata": {
    "collapsed": false
   },
   "outputs": [
    {
     "data": {
      "text/plain": [
       "['1789-Washington.txt',\n",
       " '1793-Washington.txt',\n",
       " '1797-Adams.txt',\n",
       " '1801-Jefferson.txt',\n",
       " '1805-Jefferson.txt',\n",
       " '1809-Madison.txt',\n",
       " '1813-Madison.txt',\n",
       " '1817-Monroe.txt',\n",
       " '1821-Monroe.txt',\n",
       " '1825-Adams.txt',\n",
       " '1829-Jackson.txt',\n",
       " '1833-Jackson.txt',\n",
       " '1837-VanBuren.txt',\n",
       " '1841-Harrison.txt',\n",
       " '1845-Polk.txt',\n",
       " '1849-Taylor.txt',\n",
       " '1853-Pierce.txt',\n",
       " '1857-Buchanan.txt',\n",
       " '1861-Lincoln.txt',\n",
       " '1865-Lincoln.txt',\n",
       " '1869-Grant.txt',\n",
       " '1873-Grant.txt',\n",
       " '1877-Hayes.txt',\n",
       " '1881-Garfield.txt',\n",
       " '1885-Cleveland.txt',\n",
       " '1889-Harrison.txt',\n",
       " '1893-Cleveland.txt',\n",
       " '1897-McKinley.txt',\n",
       " '1901-McKinley.txt',\n",
       " '1905-Roosevelt.txt',\n",
       " '1909-Taft.txt',\n",
       " '1913-Wilson.txt',\n",
       " '1917-Wilson.txt',\n",
       " '1921-Harding.txt',\n",
       " '1925-Coolidge.txt',\n",
       " '1929-Hoover.txt',\n",
       " '1933-Roosevelt.txt',\n",
       " '1937-Roosevelt.txt',\n",
       " '1941-Roosevelt.txt',\n",
       " '1945-Roosevelt.txt',\n",
       " '1949-Truman.txt',\n",
       " '1953-Eisenhower.txt',\n",
       " '1957-Eisenhower.txt',\n",
       " '1961-Kennedy.txt',\n",
       " '1965-Johnson.txt',\n",
       " '1969-Nixon.txt',\n",
       " '1973-Nixon.txt',\n",
       " '1977-Carter.txt',\n",
       " '1981-Reagan.txt',\n",
       " '1985-Reagan.txt',\n",
       " '1989-Bush.txt',\n",
       " '1993-Clinton.txt',\n",
       " '1997-Clinton.txt',\n",
       " '2001-Bush.txt',\n",
       " '2005-Bush.txt',\n",
       " '2009-Obama.txt']"
      ]
     },
     "execution_count": 224,
     "metadata": {},
     "output_type": "execute_result"
    }
   ],
   "source": [
    "inaugural.fileids()"
   ]
  },
  {
   "cell_type": "code",
   "execution_count": 225,
   "metadata": {
    "collapsed": false
   },
   "outputs": [],
   "source": [
    "from nltk.corpus import inaugural\n",
    "cfd = nltk.ConditionalFreqDist(\n",
    "                (target, fileid[:4])\n",
    "                for fileid in inaugural.fileids()\n",
    "                for w in inaugural.words(fileid)\n",
    "                for target in ['america', 'citizen']\n",
    "                if w.lower().startswith(target))"
   ]
  },
  {
   "cell_type": "code",
   "execution_count": 226,
   "metadata": {
    "collapsed": true
   },
   "outputs": [],
   "source": [
    "# pymorphy\n",
    "# Russian dictionaries, WordNet and other resources\n",
    "# FreqDist, ConditionalFreqDist classes"
   ]
  },
  {
   "cell_type": "code",
   "execution_count": 227,
   "metadata": {
    "collapsed": false
   },
   "outputs": [],
   "source": [
    "L= [target for w in ['I','america', '2citizen2','you']\n",
    "    for target in ['america', 'citizen']\n",
    "    if w.lower().startswith(target)]"
   ]
  },
  {
   "cell_type": "code",
   "execution_count": 228,
   "metadata": {
    "collapsed": false
   },
   "outputs": [
    {
     "data": {
      "text/plain": [
       "['america']"
      ]
     },
     "execution_count": 228,
     "metadata": {},
     "output_type": "execute_result"
    }
   ],
   "source": [
    "L"
   ]
  },
  {
   "cell_type": "code",
   "execution_count": 229,
   "metadata": {
    "collapsed": false
   },
   "outputs": [],
   "source": [
    "corpus = nltk.corpus.brown"
   ]
  },
  {
   "cell_type": "code",
   "execution_count": 230,
   "metadata": {
    "collapsed": false
   },
   "outputs": [
    {
     "data": {
      "text/plain": [
       "['ca01',\n",
       " 'ca02',\n",
       " 'ca03',\n",
       " 'ca04',\n",
       " 'ca05',\n",
       " 'ca06',\n",
       " 'ca07',\n",
       " 'ca08',\n",
       " 'ca09',\n",
       " 'ca10',\n",
       " 'ca11',\n",
       " 'ca12',\n",
       " 'ca13',\n",
       " 'ca14',\n",
       " 'ca15',\n",
       " 'ca16',\n",
       " 'ca17',\n",
       " 'ca18',\n",
       " 'ca19',\n",
       " 'ca20',\n",
       " 'ca21',\n",
       " 'ca22',\n",
       " 'ca23',\n",
       " 'ca24',\n",
       " 'ca25',\n",
       " 'ca26',\n",
       " 'ca27',\n",
       " 'ca28',\n",
       " 'ca29',\n",
       " 'ca30',\n",
       " 'ca31',\n",
       " 'ca32',\n",
       " 'ca33',\n",
       " 'ca34',\n",
       " 'ca35',\n",
       " 'ca36',\n",
       " 'ca37',\n",
       " 'ca38',\n",
       " 'ca39',\n",
       " 'ca40',\n",
       " 'ca41',\n",
       " 'ca42',\n",
       " 'ca43',\n",
       " 'ca44',\n",
       " 'cb01',\n",
       " 'cb02',\n",
       " 'cb03',\n",
       " 'cb04',\n",
       " 'cb05',\n",
       " 'cb06',\n",
       " 'cb07',\n",
       " 'cb08',\n",
       " 'cb09',\n",
       " 'cb10',\n",
       " 'cb11',\n",
       " 'cb12',\n",
       " 'cb13',\n",
       " 'cb14',\n",
       " 'cb15',\n",
       " 'cb16',\n",
       " 'cb17',\n",
       " 'cb18',\n",
       " 'cb19',\n",
       " 'cb20',\n",
       " 'cb21',\n",
       " 'cb22',\n",
       " 'cb23',\n",
       " 'cb24',\n",
       " 'cb25',\n",
       " 'cb26',\n",
       " 'cb27',\n",
       " 'cc01',\n",
       " 'cc02',\n",
       " 'cc03',\n",
       " 'cc04',\n",
       " 'cc05',\n",
       " 'cc06',\n",
       " 'cc07',\n",
       " 'cc08',\n",
       " 'cc09',\n",
       " 'cc10',\n",
       " 'cc11',\n",
       " 'cc12',\n",
       " 'cc13',\n",
       " 'cc14',\n",
       " 'cc15',\n",
       " 'cc16',\n",
       " 'cc17',\n",
       " 'cd01',\n",
       " 'cd02',\n",
       " 'cd03',\n",
       " 'cd04',\n",
       " 'cd05',\n",
       " 'cd06',\n",
       " 'cd07',\n",
       " 'cd08',\n",
       " 'cd09',\n",
       " 'cd10',\n",
       " 'cd11',\n",
       " 'cd12',\n",
       " 'cd13',\n",
       " 'cd14',\n",
       " 'cd15',\n",
       " 'cd16',\n",
       " 'cd17',\n",
       " 'ce01',\n",
       " 'ce02',\n",
       " 'ce03',\n",
       " 'ce04',\n",
       " 'ce05',\n",
       " 'ce06',\n",
       " 'ce07',\n",
       " 'ce08',\n",
       " 'ce09',\n",
       " 'ce10',\n",
       " 'ce11',\n",
       " 'ce12',\n",
       " 'ce13',\n",
       " 'ce14',\n",
       " 'ce15',\n",
       " 'ce16',\n",
       " 'ce17',\n",
       " 'ce18',\n",
       " 'ce19',\n",
       " 'ce20',\n",
       " 'ce21',\n",
       " 'ce22',\n",
       " 'ce23',\n",
       " 'ce24',\n",
       " 'ce25',\n",
       " 'ce26',\n",
       " 'ce27',\n",
       " 'ce28',\n",
       " 'ce29',\n",
       " 'ce30',\n",
       " 'ce31',\n",
       " 'ce32',\n",
       " 'ce33',\n",
       " 'ce34',\n",
       " 'ce35',\n",
       " 'ce36',\n",
       " 'cf01',\n",
       " 'cf02',\n",
       " 'cf03',\n",
       " 'cf04',\n",
       " 'cf05',\n",
       " 'cf06',\n",
       " 'cf07',\n",
       " 'cf08',\n",
       " 'cf09',\n",
       " 'cf10',\n",
       " 'cf11',\n",
       " 'cf12',\n",
       " 'cf13',\n",
       " 'cf14',\n",
       " 'cf15',\n",
       " 'cf16',\n",
       " 'cf17',\n",
       " 'cf18',\n",
       " 'cf19',\n",
       " 'cf20',\n",
       " 'cf21',\n",
       " 'cf22',\n",
       " 'cf23',\n",
       " 'cf24',\n",
       " 'cf25',\n",
       " 'cf26',\n",
       " 'cf27',\n",
       " 'cf28',\n",
       " 'cf29',\n",
       " 'cf30',\n",
       " 'cf31',\n",
       " 'cf32',\n",
       " 'cf33',\n",
       " 'cf34',\n",
       " 'cf35',\n",
       " 'cf36',\n",
       " 'cf37',\n",
       " 'cf38',\n",
       " 'cf39',\n",
       " 'cf40',\n",
       " 'cf41',\n",
       " 'cf42',\n",
       " 'cf43',\n",
       " 'cf44',\n",
       " 'cf45',\n",
       " 'cf46',\n",
       " 'cf47',\n",
       " 'cf48',\n",
       " 'cg01',\n",
       " 'cg02',\n",
       " 'cg03',\n",
       " 'cg04',\n",
       " 'cg05',\n",
       " 'cg06',\n",
       " 'cg07',\n",
       " 'cg08',\n",
       " 'cg09',\n",
       " 'cg10',\n",
       " 'cg11',\n",
       " 'cg12',\n",
       " 'cg13',\n",
       " 'cg14',\n",
       " 'cg15',\n",
       " 'cg16',\n",
       " 'cg17',\n",
       " 'cg18',\n",
       " 'cg19',\n",
       " 'cg20',\n",
       " 'cg21',\n",
       " 'cg22',\n",
       " 'cg23',\n",
       " 'cg24',\n",
       " 'cg25',\n",
       " 'cg26',\n",
       " 'cg27',\n",
       " 'cg28',\n",
       " 'cg29',\n",
       " 'cg30',\n",
       " 'cg31',\n",
       " 'cg32',\n",
       " 'cg33',\n",
       " 'cg34',\n",
       " 'cg35',\n",
       " 'cg36',\n",
       " 'cg37',\n",
       " 'cg38',\n",
       " 'cg39',\n",
       " 'cg40',\n",
       " 'cg41',\n",
       " 'cg42',\n",
       " 'cg43',\n",
       " 'cg44',\n",
       " 'cg45',\n",
       " 'cg46',\n",
       " 'cg47',\n",
       " 'cg48',\n",
       " 'cg49',\n",
       " 'cg50',\n",
       " 'cg51',\n",
       " 'cg52',\n",
       " 'cg53',\n",
       " 'cg54',\n",
       " 'cg55',\n",
       " 'cg56',\n",
       " 'cg57',\n",
       " 'cg58',\n",
       " 'cg59',\n",
       " 'cg60',\n",
       " 'cg61',\n",
       " 'cg62',\n",
       " 'cg63',\n",
       " 'cg64',\n",
       " 'cg65',\n",
       " 'cg66',\n",
       " 'cg67',\n",
       " 'cg68',\n",
       " 'cg69',\n",
       " 'cg70',\n",
       " 'cg71',\n",
       " 'cg72',\n",
       " 'cg73',\n",
       " 'cg74',\n",
       " 'cg75',\n",
       " 'ch01',\n",
       " 'ch02',\n",
       " 'ch03',\n",
       " 'ch04',\n",
       " 'ch05',\n",
       " 'ch06',\n",
       " 'ch07',\n",
       " 'ch08',\n",
       " 'ch09',\n",
       " 'ch10',\n",
       " 'ch11',\n",
       " 'ch12',\n",
       " 'ch13',\n",
       " 'ch14',\n",
       " 'ch15',\n",
       " 'ch16',\n",
       " 'ch17',\n",
       " 'ch18',\n",
       " 'ch19',\n",
       " 'ch20',\n",
       " 'ch21',\n",
       " 'ch22',\n",
       " 'ch23',\n",
       " 'ch24',\n",
       " 'ch25',\n",
       " 'ch26',\n",
       " 'ch27',\n",
       " 'ch28',\n",
       " 'ch29',\n",
       " 'ch30',\n",
       " 'cj01',\n",
       " 'cj02',\n",
       " 'cj03',\n",
       " 'cj04',\n",
       " 'cj05',\n",
       " 'cj06',\n",
       " 'cj07',\n",
       " 'cj08',\n",
       " 'cj09',\n",
       " 'cj10',\n",
       " 'cj11',\n",
       " 'cj12',\n",
       " 'cj13',\n",
       " 'cj14',\n",
       " 'cj15',\n",
       " 'cj16',\n",
       " 'cj17',\n",
       " 'cj18',\n",
       " 'cj19',\n",
       " 'cj20',\n",
       " 'cj21',\n",
       " 'cj22',\n",
       " 'cj23',\n",
       " 'cj24',\n",
       " 'cj25',\n",
       " 'cj26',\n",
       " 'cj27',\n",
       " 'cj28',\n",
       " 'cj29',\n",
       " 'cj30',\n",
       " 'cj31',\n",
       " 'cj32',\n",
       " 'cj33',\n",
       " 'cj34',\n",
       " 'cj35',\n",
       " 'cj36',\n",
       " 'cj37',\n",
       " 'cj38',\n",
       " 'cj39',\n",
       " 'cj40',\n",
       " 'cj41',\n",
       " 'cj42',\n",
       " 'cj43',\n",
       " 'cj44',\n",
       " 'cj45',\n",
       " 'cj46',\n",
       " 'cj47',\n",
       " 'cj48',\n",
       " 'cj49',\n",
       " 'cj50',\n",
       " 'cj51',\n",
       " 'cj52',\n",
       " 'cj53',\n",
       " 'cj54',\n",
       " 'cj55',\n",
       " 'cj56',\n",
       " 'cj57',\n",
       " 'cj58',\n",
       " 'cj59',\n",
       " 'cj60',\n",
       " 'cj61',\n",
       " 'cj62',\n",
       " 'cj63',\n",
       " 'cj64',\n",
       " 'cj65',\n",
       " 'cj66',\n",
       " 'cj67',\n",
       " 'cj68',\n",
       " 'cj69',\n",
       " 'cj70',\n",
       " 'cj71',\n",
       " 'cj72',\n",
       " 'cj73',\n",
       " 'cj74',\n",
       " 'cj75',\n",
       " 'cj76',\n",
       " 'cj77',\n",
       " 'cj78',\n",
       " 'cj79',\n",
       " 'cj80',\n",
       " 'ck01',\n",
       " 'ck02',\n",
       " 'ck03',\n",
       " 'ck04',\n",
       " 'ck05',\n",
       " 'ck06',\n",
       " 'ck07',\n",
       " 'ck08',\n",
       " 'ck09',\n",
       " 'ck10',\n",
       " 'ck11',\n",
       " 'ck12',\n",
       " 'ck13',\n",
       " 'ck14',\n",
       " 'ck15',\n",
       " 'ck16',\n",
       " 'ck17',\n",
       " 'ck18',\n",
       " 'ck19',\n",
       " 'ck20',\n",
       " 'ck21',\n",
       " 'ck22',\n",
       " 'ck23',\n",
       " 'ck24',\n",
       " 'ck25',\n",
       " 'ck26',\n",
       " 'ck27',\n",
       " 'ck28',\n",
       " 'ck29',\n",
       " 'cl01',\n",
       " 'cl02',\n",
       " 'cl03',\n",
       " 'cl04',\n",
       " 'cl05',\n",
       " 'cl06',\n",
       " 'cl07',\n",
       " 'cl08',\n",
       " 'cl09',\n",
       " 'cl10',\n",
       " 'cl11',\n",
       " 'cl12',\n",
       " 'cl13',\n",
       " 'cl14',\n",
       " 'cl15',\n",
       " 'cl16',\n",
       " 'cl17',\n",
       " 'cl18',\n",
       " 'cl19',\n",
       " 'cl20',\n",
       " 'cl21',\n",
       " 'cl22',\n",
       " 'cl23',\n",
       " 'cl24',\n",
       " 'cm01',\n",
       " 'cm02',\n",
       " 'cm03',\n",
       " 'cm04',\n",
       " 'cm05',\n",
       " 'cm06',\n",
       " 'cn01',\n",
       " 'cn02',\n",
       " 'cn03',\n",
       " 'cn04',\n",
       " 'cn05',\n",
       " 'cn06',\n",
       " 'cn07',\n",
       " 'cn08',\n",
       " 'cn09',\n",
       " 'cn10',\n",
       " 'cn11',\n",
       " 'cn12',\n",
       " 'cn13',\n",
       " 'cn14',\n",
       " 'cn15',\n",
       " 'cn16',\n",
       " 'cn17',\n",
       " 'cn18',\n",
       " 'cn19',\n",
       " 'cn20',\n",
       " 'cn21',\n",
       " 'cn22',\n",
       " 'cn23',\n",
       " 'cn24',\n",
       " 'cn25',\n",
       " 'cn26',\n",
       " 'cn27',\n",
       " 'cn28',\n",
       " 'cn29',\n",
       " 'cp01',\n",
       " 'cp02',\n",
       " 'cp03',\n",
       " 'cp04',\n",
       " 'cp05',\n",
       " 'cp06',\n",
       " 'cp07',\n",
       " 'cp08',\n",
       " 'cp09',\n",
       " 'cp10',\n",
       " 'cp11',\n",
       " 'cp12',\n",
       " 'cp13',\n",
       " 'cp14',\n",
       " 'cp15',\n",
       " 'cp16',\n",
       " 'cp17',\n",
       " 'cp18',\n",
       " 'cp19',\n",
       " 'cp20',\n",
       " 'cp21',\n",
       " 'cp22',\n",
       " 'cp23',\n",
       " 'cp24',\n",
       " 'cp25',\n",
       " 'cp26',\n",
       " 'cp27',\n",
       " 'cp28',\n",
       " 'cp29',\n",
       " 'cr01',\n",
       " 'cr02',\n",
       " 'cr03',\n",
       " 'cr04',\n",
       " 'cr05',\n",
       " 'cr06',\n",
       " 'cr07',\n",
       " 'cr08',\n",
       " 'cr09']"
      ]
     },
     "execution_count": 230,
     "metadata": {},
     "output_type": "execute_result"
    }
   ],
   "source": [
    "corpus.fileids()"
   ]
  },
  {
   "cell_type": "code",
   "execution_count": 231,
   "metadata": {
    "collapsed": false
   },
   "outputs": [
    {
     "data": {
      "text/plain": [
       "['adventure',\n",
       " 'belles_lettres',\n",
       " 'editorial',\n",
       " 'fiction',\n",
       " 'government',\n",
       " 'hobbies',\n",
       " 'humor',\n",
       " 'learned',\n",
       " 'lore',\n",
       " 'mystery',\n",
       " 'news',\n",
       " 'religion',\n",
       " 'reviews',\n",
       " 'romance',\n",
       " 'science_fiction']"
      ]
     },
     "execution_count": 231,
     "metadata": {},
     "output_type": "execute_result"
    }
   ],
   "source": [
    "corpus.categories()"
   ]
  },
  {
   "cell_type": "code",
   "execution_count": 232,
   "metadata": {
    "collapsed": false
   },
   "outputs": [
    {
     "data": {
      "text/plain": [
       "70022"
      ]
     },
     "execution_count": 232,
     "metadata": {},
     "output_type": "execute_result"
    }
   ],
   "source": [
    "len(corpus.words(categories='romance'))"
   ]
  },
  {
   "cell_type": "code",
   "execution_count": 233,
   "metadata": {
    "collapsed": false
   },
   "outputs": [
    {
     "data": {
      "text/plain": [
       "\"\\n\\n\\tThey/ppss neither/cc liked/vbd nor/cc disliked/vbd the/at Old/jj-tl Man/nn-tl ./.\\nTo/in them/ppo he/pps could/md have/hv been/ben the/at broken/vbn bell/nn in/in the/at church/nn tower/nn which/wdt rang/vbd before/in and/cc after/in Mass/nn-tl ,/, and/cc at/in noon/nn ,/, and/cc at/in six/cd each/dt evening/nn --/-- its/pp$ tone/nn ,/, repetitive/jj ,/, monotonous/jj ,/, never/rb breaking/vbg the/at boredom/nn of/in the/at streets/nns ./.\\nThe/at Old/jj-tl Man/nn-tl was/bedz unimportant/jj ./.\\n\\n\\n\\tYet/rb if/cs he/pps were/bed not/* there/rb ,/, they/ppss would/md have/hv missed/vbn him/ppo ,/, as/cs they/ppss would/md have/hv missed/vbn the/at sounds/nns of/in bees/nns buzzing/vbg against/in the/at screen/nn door/nn in/in early/jj June/np ;/. ;/.\\nor/cc the/at smell/nn of/in thick/jj tomato/nn paste/nn --/-- the/at ripe/jj smell/nn that/wps was/bedz both/abx sweet/jj and/cc sour/jj --/-- rising/vbg up/rp from/in aluminum/nn trays/nns wrapped/vbn in/in fly-dotted/jj cheesecloth/nn ./.\\nOr/cc the/at surging/vbg whirling/vbg sounds/nns of/in bats/nns at/in night/nn ,/, when/wrb their/pp$ black/jj bodies/nns dived/vbd into/in the/at blackness/nn above/in and/cc below/in the/at amber/jj street/nn lights/nns ./.\\nOr/cc the/at bay/nn of/in female/nn dogs/nns in/in heat/nn ./.\\n\\n\\n\\tThey/ppss never/rb called/vbd him/ppo by/in name/nn ,/, although/cs he/pps had/hvd one/pn ./.\\nFilippo/np Rossi/np ,/, that's/dt+bez what/wdt he/pps was/bedz called/vbn in/in the/at old/jj country/nn ;/. ;/.\\nbut/cc here/rb he/pps was/bedz just/rb Signore/np or/cc the/at Old/jj-tl Man/nn-tl ./.\\nBut/cc this/dt was/bedz not/* unusual/jj ,/, because/cs youth/nn in/in these/dts quarters/nns was/bedz always/rb pushed/vbn at/in a/at distance/nn from/in its/pp$ elders/nns ./.\\nYouth/nn obeyed/vbd when/wrb commanded/vbn ./.\\nIt/pps went/vbd to/in church/nn on/in Sunday/nr and/cc one/cd Saturday/nr a/at month/nn went/vbd to/in confession/nn ./.\\nBut/cc youth/nn asked/vbd nothing/pn of/in its/pp$ parents/nns --/-- not/* a/at touch/nn of/in the/at hand/nn or/cc a/at kiss/nn given/vbn in/in passing/vbg ./.\\n\\n\\n\\tThe/at only/ap thing/nn unusual/jj about/in the/at Old/jj-tl Man/nn-tl had/hvd long/jj since/rb happened/vbn ./.\\nBut/cc the/at past/nn was/bedz dead/jj here/rb as/cs the/at present/jj was/bedz dead/jj ./.\\nOnce/cs the/at Old/jj-tl Man/nn-tl had/hvd had/hvn a/at wife/nn ./.\\nAnd/cc once/cs she/pps ,/, too/rb ,/, ignored/vbd him/ppo ./.\\nWith/in a/at tiny/jj fur-piece/nn wrapped/vbd around/in her/pp$ shoulders/nns ,/, she/pps wiggled/vbd her/pp$ satin-covered/jj buttocks/nns down/in the/at street/nn before/in him/ppo and/cc didn't/dod* stop/vb ./.\\nIn/in one/cd hand/nn she/pps clutched/vbd a/at hundred/cd dollar/nn bill/nn and/cc in/in the/at other/ap a/at straw/nn suitcase/nn ./.\\nThe/at way/nn she/pps strutted/vbd down/in the/at street/nn ,/, the/at Old/jj-tl Man/nn-tl would/md have/hv been/ben blind/jj not/* to/to have/hv noticed/vbn both/abx ./.\\nWithout/in looking/vbg at/in him/ppo ,/, without/in looking/vbg at/in anything/pn except/in Drexel/np-tl Street/nn-tl directly/rb in/in front/nn of/in her/ppo ,/, she/pps climbed/vbd up/rp into/in one/cd of/in those/dts orange/jj streetcars/nns ,/, rode/vbd away/rb in/in it/ppo ,/, and/cc never/rb came/vbd back/rb ./.\\n\\n\\n\\t``/`` But/cc she/pps shouldn't/md* have/hv come/vbn here/rb in/in the/at first/od place/nn ''/'' ,/, the/at women/nns had/hvd said/vbn ./.\\n\\n\\n\\t``/`` No/rb ,/, no/rb ./.\\nNot/* that/dt one/pn ./.\\nShe/pps thought/vbd she/pps was/bedz bigger/jjr than/cs we/ppss are/ber because/cs she/pps came/vbd from/in Torino/np ''/'' ./.\\n\\n\\n\\t``/`` Eh/uh ,/, Torino/np !/. !/.\\nShe/pps gave/vbd herself/ppl fancy/jj airs/nns !/. !/.\\nJust/rb because/cs she/pps had/hvd a/at part/nn on/in the/at stage/nn in/in the/at old/jj country/nn ,/, she/pps thought/vbd she/pps could/md carry/vb her/pp$ head/nn higher/rbr than/cs ours/pp$$ ''/'' ./.\\nThey/ppss had/hvd slapped/vbn their/pp$ thighs/nns ./.\\n\\n\\n\\t``/`` It's/pps+bez not/* for/in making/vbg pretty/jj speeches/nns about/in Dante/np those/dts actresses/nns get/vb paid/vbn so/ql good/rb ''/'' ./.\\n\\n\\n\\t``/`` Henh/uh ''/'' !/. !/.\\nCalloused/vbn fingers/nns ,/, caressed/vbn only/rb by/in the/at smoothness/nn of/in polished/vbn rosaries/nns ,/, had/hvd swayed/vbn excitedly/rb beneath/in puckered/vbn chins/nns where/wrb tiny/jj black/jj hairs/nns sprouted/vbd ,/, never/rb to/to be/be tweezed/vbn away/rb ./.\\nMauve-colored/jj mouths/nns that/wps had/hvd never/rb known/vbn anything/pn sweeter/jjr than/cs the/at taste/nn of/in new/jj wine/nn and/cc the/at passion/nn of/in man's/nn$ tongue/nn had/hvd not/* smiled/vbn ,/, but/cc had/hvd condemned/vbn again/rb and/cc again/rb ./.\\n``/`` Puttana/fw-nn ''/'' !/. !/.\\n\\n\\n\\tBut/cc if/cs the/at Old/jj-tl Man/nn-tl even/rb thought/vbd about/in his/pp$ wife/nn now/rb ,/, nobody/pn cared/vbd a/at fig/nn ./.\\nIt/pps was/bedz enough/ap for/in people/nns to/to know/vb that/cs at/in one/cd time/nn he/pps had/hvd looked/vbn down/in the/at street/nn at/in the/at fleshy/jj suppleness/nn of/in a/at woman/nn he/pps had/hvd consumed/vbn --/-- watching/vbg her/ppo become/vb thinner/jjr and/cc thinner/jjr in/in the/at distance/nn ,/, as/ql thin/jj as/cs the/at seams/nns on/in her/pp$ stockings/nns ,/, and/cc still/rb thinner/jjr ./.\\nHis/pp$ voice/nn had/hvd not/* commanded/vbn her/ppo to/to stop/vb ./.\\nIt/pps had/hvd not/* questioned/vbn why/wrb ./.\\nThe/at women/nns said/vbd they/ppss had/hvd seen/vbn him/ppo wave/vb an/at exhausted/vbn farewell/nn ;/. ;/.\\nbut/cc he/pps might/md have/hv been/ben shooing/vbg away/rb the/at fleas/nns that/wps hopped/vbd from/in his/pp$ yellow/jj dog/nn onto/in him/ppo ./.\\n(/( He/pps was/bedz never/rb without/in that/dt dog/nn ./.\\n)/) And/cc his/pp$ eyes/nns --/-- those/dts miniature/jj sundials/nns of/in variegated/vbn yellow/jj --/-- had/hvd not/* altered/vbn their/pp$ expression/nn or/cc direction/nn ./.\\nThe/at Old/jj-tl Man's/nn$-tl very/ap soul/nn could/md have/hv left/vbn him/ppo and/cc flown/vbn down/in that/dt street/nn ,/, but/cc he/pps wouldn't/md* have/hv had/hvn anyone/pn know/vb it/ppo ./.\\n\\n\\n\\tPerhaps/rb he/pps had/hvd known/vbn then/rb where/wrb that/dt hundred/cd dollar/nn bill/nn had/hvd come/vbn from/in and/cc where/wrb it/pps was/bedz taking/vbg his/pp$ wife/nn ./.\\nBut/cc when/wrb he/pps called/vbd for/in his/pp$ withered/vbn ,/, wrinkled/vbn sister/nn Rose/np to/to care/vb for/in him/ppo and/cc the/at children/nns ,/, had/hvd he/pps guessed/vbd that/cs all/abn he/pps would/md remember/vb of/in his/pp$ woman/nn was/bedz the/at memory/nn of/in her/ppo climbing/vbg into/in that/dt streetcar/nn ?/. ?/.\\n\\n\\n\\tThere/ex seemed/vbd to/to be/be a/at contemptuous/jj purpose/nn in/in the/at way/nn he/pps sat/vbd there/rb with/in his/pp$ eyes/nns glued/vbn to/in Drexel/np-tl Street/nn-tl and/cc his/pp$ back/nn in/in opposition/nn to/in the/at church/nn behind/in him/ppo ./.\\nFor/cs all/abn he/pps saw/vbd or/cc cared/vbd to/to see/vb ,/, this/dt could/md have/hv been/ben a/at town/nn in/in Italy/np ,/, not/* the/at outskirts/nns of/in Philadelphia/np ./.\\nIt/pps could/md have/hv been/ben Bari/np or/cc Chieti/np for/cs the/at way/nn it/pps smelled/vbd ./.\\nWhat/wdt did/dod it/pps matter/vb to/in him/ppo that/cs the/at park/nn at/in the/at foot/nn of/in Ash/nn-tl Road/nn-tl stretched/vbd beneath/in elevated/vbn trains/nns that/wps roared/vbd from/in the/at stucco/nn station/nn into/in the/at city's/nn$ center/nn at/in half-hour/nn intervals/nns ?/. ?/.\\nOr/cc that/cs the/at tiny/jj creek/nn spun/vbd its/pp$ silent/jj course/nn toward/in the/at Schuylkill/np ?/. ?/.\\nThis/dt place/nn was/bedz hatred/nn to/in him/ppo ,/, just/rb as/cs hatred/nn was/bedz his/pp$ only/ap companion/nn in/in his/pp$ aloneness/nn ./.\\nTo/in him/ppo they/ppss were/bed one/pn and/cc the/at same/ap ./.\\n\\n\\n\\tSameness/nn for/in the/at Old/jj-tl Man/nn-tl was/bedz framed/vbn in/rp by/in a/at wall/nn of/in ginkgo/nn trees/nns which/wdt divided/vbd these/dts quarters/nns from/in the/at city/nn ./.\\nSameness/nn lined/vbd the/at streets/nns with/in two-story/jj houses/nns the/at color/nn of/in ash/nn ./.\\nIt/pps slashed/vbd the/at sloping/vbg manure-scented/jj lawns/nns with/in concrete/nn steps/nns which/wdt climbed/vbd upward/rb to/in white/jj wooden/jj porches/nns ./.\\nIt/pps swayed/vbd with/in the/at wicker/nn swings/nns and/cc screeched/vbd with/in the/at rusted/vbn hinges/nns of/in screen/nn doors/nns ./.\\n\\n\\n\\tEven/rb the/at stable-garage/nn ,/, which/wdt housed/vbd nothing/pn now/rb but/in the/at scent/nn of/in rot/nn ,/, had/hvd a/at lawn/nn before/in it/ppo ./.\\nAnd/cc the/at coffee/nn shop/nn on/in Drexel/np-tl Street/nn-tl ,/, where/wrb the/at men/nns spent/vbd their/pp$ evenings/nns and/cc Sundays/nrs playing/vbg cards/nns ,/, had/hvd a/at rose/nn hedge/nn beneath/in its/pp$ window/nn ./.\\nThe/at hedge/nn reeked/vbd of/in coffee/nn dregs/nns thrown/vbn against/in it/ppo ./.\\n\\n\\n\\tOnly/rb one/cd house/nn on/in the/at street/nn had/hvd no/at lawn/nn before/in it/ppo ./.\\nIt/pps squatted/vbd low/jj and/cc square/jj upon/in the/at sidewalk/nn with/in a/at heavy/jj iron/nn grating/nn supporting/vbg a/at glass/nn facade/nn ./.\\nThat/dt was/bedz Bartoli's/np$ shop/nn ./.\\nAbove/in it/ppo ,/, from/in a/at second-story/nn showroom/nn ,/, wooden/jj angels/nns surveyed/vbd the/at neighborhood/nn ./.\\nDid/dod the/at Old/jj-tl Man/nn-tl remember/vb them/ppo there/rb ?/. ?/.\\n\\n\\n\\tYet/rb everywhere/rb else/rb sameness/nn was/bedz stucco/nn and/cc wood/nn in/in square/nn blocks/nns --/-- like/cs fortresses/nns perched/vbd against/in the/at slant/nn of/in the/at hill/nn ,/, rising/vbg with/in the/at hill/nn to/in the/at top/nn where/wrb the/at church/nn was/bedz and/cc beyond/in that/dt to/in the/at cemetery/nn ./.\\nOnly/rb paved/vbn alleyways/nns tunneled/vbd through/in the/at walls/nns of/in those/dts fortresses/nns into/in the/at mysterious/jj core/nn of/in intimacy/nn behind/in the/at houses/nns where/wrb backyards/nns owned/vbd no/at fences/nns ,/, where/wrb one/cd man's/nn$ property/nn blended/vbd with/in the/at next/ap to/to form/vb courtyards/nns in/in which/wdt no/at one/pn knew/vbd privacy/nn ./.\\nLove/nn and/cc hatred/nn and/cc fear/nn were/bed one/cd here/rb ,/, shaded/vbn only/rb by/in fig/nn trees/nns and/cc grape/nn vines/nns ./.\\nAnd/cc the/at forked/vbn tongue/nn of/in gossip/nn licked/vbd its/pp$ sinister/jj way/nn from/in back/jj porch/nn to/in back/jj porch/nn ./.\\n\\n\\n\\tThe/at Old/jj-tl Man/nn-tl silently/rb fed/vbd upon/in these/dts streets/nns ./.\\nThey/ppss kept/vbd him/ppo alive/jj ,/, waiting/vbg ./.\\nWaiting/vbg for/in what/wdt and/cc for/in whom/wpo ,/, only/rb he/pps could/md tell/vb and/cc would/md not/* ./.\\nIt/pps was/bedz as/cs though/cs he/pps had/hvd made/vbn a/at pact/nn with/in the/at devil/nn himself/ppl ,/, but/cc it/pps was/bedz not/* yet/rb time/vb to/to pay/vb the/at price/nn ./.\\nHe/pps was/bedz holding/vbg out/rp for/in something/pn ./.\\nHe/pps was/bedz determined/vbn to/to hold/vb out/rp ./.\\n\\n\\n\\n\\nThe/at Old/jj-tl Man's/nn$-tl son/nn threw/vbd himself/ppl down/rp ,/, belly/nn first/rb ,/, upon/in a/at concrete/nn step/nn ,/, taking/vbg in/rp the/at coolness/nn of/in it/ppo ,/, and/cc dreaming/vbg of/in the/at day/nn he/pps would/md be/be rich/jj ./.\\nAt/in fifteen/cd he/pps didn't/dod* care/vb that/cs he/pps had/hvd no/at mother/nn ,/, that/cs he/pps couldn't/md* remember/vb her/pp$ face/nn or/cc her/pp$ touch/nn ;/. ;/.\\nneither/cc did/dod he/pps care/vb that/cs Aunt/nn-tl Rose/np provided/vbd for/in him/ppo ./.\\n\\n\\n\\tHe/pps was/bedz named/vbn Pompeii/np as/cs a/at tribute/nn to/in his/pp$ heritage/nn ,/, and/cc he/pps couldn't/md* have/hv cared/vbn less/ap about/in that/dt either/rb ./.\\nTo/in him/ppo life/nn was/bedz a/at restless/jj boredom/nn that/wps began/vbd with/in the/at rising/vbg sun/nn and/cc ended/vbd only/rb with/in sleep/nn ./.\\n\\n\\n\\tWhen/wrb he/pps would/md be/be a/at man/nn ,/, he/pps would/md be/be a/at rich/jj man/nn ./.\\nHe/pps would/md not/* be/be like/cs the/at ``/`` rich/jj Americans/nps ''/'' who/wps lived/vbd in/in white-columned/jj houses/nns on/in the/at other/ap side/nn of/in the/at park/nn ./.\\nHe/pps would/md not/* ride/vb the/at eight-thirty/cd local/jj to/in the/at city/nn each/dt morning/nn ./.\\nHe/pps would/md not/* carry/vb a/at brief/nn case/nn ./.\\nNor/cc would/md he/pps work/vb at/in all/abn ./.\\nHe/pps would/md square/vb his/pp$ shoulders/nns and/cc carry/vb a/at cane/nn before/in each/dt step/nn ./.\\nHe/pps would/md sit/vb inside/in the/at coffee/nn shop/nn and/cc pound/vb a/at gloved/vbn fist/nn upon/in the/at table/nn and/cc a/at girl/nn would/md hear/vb him/ppo and/cc come/vb running/vbg ,/, bowing/vbg with/in her/pp$ running/vbg ,/, calling/vbg out/rp in/in her/pp$ bowing/nn ,/, ``/`` At/in your/pp$ service/nn ''/'' ./.\\nHe/pps would/md order/vb her/ppo to/to bring/vb coffee/nn ,/, and/cc would/md take/vb from/in his/pp$ vest/nn pocket/nn a/at thin/jj black/jj pipe/nn which/wdt he/pps would/md stuff/vb --/-- he/pps would/md not/* remove/vb his/pp$ gloves/nns --/-- and/cc light/vb and/cc smoke/vb ./.\\nHe/pps could/md do/do that/dt when/wrb he/pps would/md be/be a/at man/nn ./.\\n\\n\\n\\t``/`` Hey/uh ,/, Laura/np ''/'' !/. !/.\\nHe/pps called/vbd to/in his/pp$ sister/nn on/in the/at porch/nn above/in the/at steps/nns ./.\\nShe/pps was/bedz only/rb ten/cd months/nns older/jjr than/cs he/pps ./.\\n``/`` Laura/np ,/, what/wdt would/md you/ppss say/vb if/cs I/ppss smoked/vbd a/at pipe/nn ''/'' ?/. ?/.\\n\\n\\n\\tLaura/np did/dod not/* answer/vb him/ppo ./.\\nShe/pps leaned/vbd unconcerned/jj against/in the/at broken/vbn porch/nn fence/nn ,/, brushing/vbg and/cc drying/vbg her/pp$ wet/jj ,/, gilded/vbn hair/nn in/in the/at sun/nn ./.\\nOne/cd lithe/jj leg/nn straddled/vbd the/at railing/nn and/cc swung/vbd loosely/rb before/in the/at creaking/vbg ,/, torn/vbn pales/nns ./.\\nHer/pp$ tanned/vbn foot/nn ,/, whose/wp$ arch/nn swept/vbd high/jj and/cc white/jj ,/, pointed/vbd artfully/rb toward/in tapering/vbg toes/nns --/-- toes/nns like/cs fingers/nns ,/, whose/wp$ tips/nns glowed/vbd white/jj ./.\\nAll/ql the/at while/nn she/pps sat/vbd there/rb ,/, her/pp$ sinewy/jj arms/nns swirled/vbd before/in her/pp$ chest/nn ./.\\n\\n\\n\\tHer/pp$ face/nn showed/vbd no/at sign/nn of/in having/hvg heard/vbn Pompeii/np ./.\\nIt/pps was/bedz a/at face/nn that/wps had/hvd lost/vbn its/pp$ childlike/jj softness/nn and/cc was/bedz beginning/vbg to/to fold/vb within/in its/pp$ fragile/jj features/nns a/at harshness/nn that/wps belied/vbd the/at lyric/jj lines/nns of/in its/pp$ contours/nns ./.\\nThe/at eyes/nns ,/, blue/jj and/cc always/rb somewhat/ql downcast/jj ,/, possessed/vbd a/at sullen/jj quality/nn ./.\\nEven/rb though/cs the/at boy/nn could/md not/* see/vb them/ppo ,/, he/pps knew/vbd they/ppss were/bed clouded/vbn by/in distance/nn ./.\\nHe/pps was/bedz never/rb sure/jj they/ppss fully/rb took/vbd him/ppo in/rp ./.\\n\\n\\n\\tPompeii/np called/vbd again/rb ,/, ``/`` Laura/np ''/'' !/. !/.\\nBut/cc the/at only/ap answer/nn that/wps reached/vbd him/ppo was/bedz the/at screeching/vbg of/in the/at porch/nn rail/nn from/in her/pp$ leg/nn moving/vbg against/in it/ppo ./.\\n\\n\\n\\t``/`` She's/pps+bez in/in a/at mood/nn ''/'' ,/, he/pps thought/vbd ``/`` There's/ex+bez not/* a/at month/nn she/pps doesn't/doz* get/vb herself/ppl in/in a/at mood/nn ''/'' ./.\\n\\n\\n\\tWell/uh ,/, what/wdt did/dod that/dt matter/vb when/wrb the/at sun/nn was/bedz shining/vbg and/cc there/ex were/bed dreams/nns to/to dream/vb about/rb ?/. ?/.\\nAnd/cc as/cs for/in his/pp$ pipe/nn ,/, if/cs he/pps wanted/vbd to/to smoke/vb one/pn ,/, nobody/pn would/md stop/vb him/ppo ./.\\nNot/* even/rb Laura/np ./.\\n\\n\\n\\tSuddenly/rb he/pps was/bedz interrupted/vbn in/in his/pp$ daydreaming/nn by/in a/at warm/jj wetness/nn lapping/vbg against/in his/pp$ chin/nn ,/, and/cc his/pp$ eyes/nns opened/vbd wide/rb and/cc long/rb at/in the/at sight/nn of/in a/at goat's/nn$ claret/jj tongue/nn ,/, feasting/vbg against/in the/at salt/nn taste/nn of/in him/ppo ./.\\nAbove/in the/at tongue/nn ,/, an/at aged/vbn yellow/jj eye/nn ,/, sallow/jj and/cc time-cast/jj ,/, encrusted/vbn within/in a/at sphere/nn of/in marbleized/vbn pink/jj skin/nn ,/, stared/vbd unfalteringly/rb at/in him/ppo ./.\\n\\n\\n\\t``/`` Christ/uh sake/uh ,/, goat/nn ,/, git/vb ''/'' !/. !/.\\nBut/cc the/at goat/nn would/md not/* ./.\\n\\n\\n\\t``/`` You're/ppss+ber boiling/vbg milk/nn ,/, ain't/ber* you/ppo ''/'' ?/. ?/.\\nSoothing/vbg it/ppo with/in his/pp$ hand/nn ,/, knowing/vbg the/at whiskered/jj jowls/nns and/cc the/at swollen/vbn smoothness/nn of/in teats/nns that/wps wrinkled/vbd expectantly/rb to/in his/pp$ touch/nn ./.\\nPompeii/np rolled/vbd over/rp ./.\\nHis/pp$ head/nn undulated/vbd gradually/rb ,/, covering/vbg space/nn ,/, to/to come/vb straining/vbg beneath/in the/at taut/jj belly/nn within/in the/at warmth/nn of/in those/dts teats/nns ./.\\nWith/in his/pp$ mouth/nn opened/vbn wide/jj ,/, he/pps squirted/vbd the/at warm/jj white/jj milk/nn against/in the/at roof/nn of/in his/pp$ mouth/nn and/cc his/pp$ tongue/nn savored/vbd the/at light/jj ,/, earthy/jj taste/nn of/in it/ppo ./.\\nThe/at boy's/nn$ fingers/nns and/cc mouth/nn operated/vbd with/in the/at skilled/jj unity/nn of/in a/at bagpipe/nn player/nn ,/, pressing/vbg and/cc pulling/vbg ,/, delighting/vbg in/in what/wdt he/pps did/dod ./.\\n\\n\\n\\tAbove/in him/ppo slid/vbd the/at evasive/jj shadow/nn of/in a/at storm/nn cloud/nn ./.\\nIts/pp$ form/nn was/bedz a/at heavy/jj figure/nn in/in a/at fluttering/vbg soutane/nn ./.\\nBut/cc the/at boy/nn could/md see/vb only/rb the/at goat's/nn$ belly/nn ./.\\n\\n\\n\\tThe/at Old/jj-tl Man/nn-tl near/in the/at corner/nn let/vbd the/at shadow/nn pass/nn over/in him/ppo ,/, sensing/vbg something/pn portentous/jj in/in it/ppo ./.\\nHe/pps knew/vbd it/pps was/bedz there/rb ,/, knew/vbd also/rb what/wdt it/pps was/bedz about/in ,/, but/cc he/pps wouldn't/md* raise/vb a/at finger/nn except/in to/to smooth/vb his/pp$ yellow/jj dog's/nn$ back/nn ./.\\nThere/ex would/md be/be time/nn enough/ap ,/, perhaps/rb the/at Old/jj-tl Man/nn-tl reassured/vbd himself/ppl ,/, to/to pay/vb the/at devil/nn his/pp$ due/nn ./.\\nTime/nn enough/ap to/to give/vb up/rp his/pp$ soul/nn ./.\\n\\n\\n\\tIn/in the/at meantime/nn ,/, six/cd sandals/nns ,/, stained/vbn an/at ocher/nn ,/, the/at same/ap color/nn as/cs Pompeii's/np$ shaved/vbn hair/nn ,/, edged/vbd up/rp close/rb to/in him/ppo ./.\\nThe/at clapping/nn they/ppss made/vbd on/in the/at concrete/nn interrupted/vbd him/ppo in/in the/at ecstatic/jj pleasure/nn he/pps knew/vbd ,/, so/cs that/cs he/pps quickly/rb released/vbd his/pp$ hold/nn on/in the/at goat/nn and/cc pretended/vbd to/to be/be examining/vbg its/pp$ haunches/nns for/in ticks/nns ./.\\n\\n\\n\\tHe/pps knew/vbd at/in a/at glance/nn that/cs the/at biggest/jjt sandals/nns belonged/vbd to/in Niobe/np ,/, the/at neatest/jjt ones/nns to/in Concetta/np ,/, and/cc the/at laced/vbn ones/nns to/in Romeo/np ,/, Concetta's/np$ idiot/nn brother/nn ./.\\nPompeii/np expected/vbd Romeo's/np$ small/jj body/nn to/to sink/vb closer/rbr and/cc closer/rbr to/in the/at ground/nn ./.\\nHe/pps expected/vbd Concetta's/np$ thin/jj hand/nn to/to reach/vb down/rp to/to grasp/vb the/at boy/nn ,/, and/cc her/pp$ shrill/jj ,/, impetuous/jj voice/nn to/to sound/vb against/in the/at rotundity/nn of/in his/pp$ disfigured/vbn flesh/nn that/wps was/bedz never/rb sure/jj of/in hearing/vbg anything/pn ./.\\n\\n\\n\\n\\tPeople/nns came/vbd in/rp and/cc out/rp all/abn evening/nn to/to see/vb the/at baby/nn and/cc hold/vb it/ppo ./.\\nThe/at room/nn filled/vbd with/in smoke/nn ,/, and/cc Maggie's/np$ head/nn throbbed/vbd with/in excitement/nn and/cc fatigue/nn ,/, but/cc Stuart/np had/hvd such/abl a/at happy/jj ,/, earnest/jj look/nn of/in proud/jj possession/nn on/in his/pp$ face/nn that/cs Maggie/np couldn't/md* bear/vb to/to do/do anything/pn to/to quench/vb it/ppo ./.\\n\\n\\n\\tLittle/jj Anne/np rapidly/rb outdistanced/vbd her/pp$ mother/nn in/in recovery/nn ./.\\nIn/in two/cd months/nns she/pps became/vbd a/at fat/jj highly/ql social/jj baby/nn ,/, with/in a/at fuzz/nn of/in flaxen/jj hair/nn all/abn over/in her/pp$ head/nn ./.\\nShe/pps stopped/vbd flying/vbg into/in rages/nns and/cc started/vbd digesting/vbg her/pp$ food/nn ;/. ;/.\\nshe/pps developed/vbd a/at peaches/nns and/cc cream/nn complexion/nn and/cc a/at sunny/jj disposition/nn ,/, and/cc she/pps asked/vbd for/in nothing/pn more/ap of/in life/nn than/cs that/cs she/pps be/be kept/vbn dry/jj and/cc comfortable/jj and/cc fed/vbn huge/jj amounts/nns of/in food/nn at/in stated/vbn intervals/nns and/cc be/be carried/vbn to/to where/wrb she/pps could/md watch/vb activity/nn going/vbg on/rp around/in her/ppo ./.\\n\\n\\n\\tShe/pps was/bedz so/ql heavy/jj that/cs Maggie's/np$ arms/nns shook/vbd from/in lifting/vbg her/ppo and/cc taking/vbg care/nn of/in her/ppo ./.\\nMaggie/np couldn't/md* seem/vb to/to get/vb her/pp$ strength/nn back/rb or/cc catch/vb up/rp with/in herself/ppl with/in all/abn she/pps had/hvd to/to do/do :/: there/ex was/bedz the/at big/jj basket/nn of/in clothes/nns to/to be/be coaxed/vbn through/in the/at rackety/jj old/jj washer/nn and/cc lugged/vbn out/rp and/cc lugged/vbn back/rb ;/. ;/.\\nthere/ex was/bedz the/at daily/jj round/nn of/in household/nn chores/nns in/in which/wdt Maggie/np insisted/vbd on/in participating/vbg ./.\\nWorry/nn had/hvd a/at great/jj deal/nn to/to do/do with/in it/ppo ;/. ;/.\\nStuart/np had/hvd been/ben laid/vbn off/rp at/in the/at produce/nn company/nn and/cc had/hvd to/to go/vb back/rb to/in sitting/vbg in/in his/pp$ father's/nn$ office/nn ,/, taking/vbg what/wdt salary/nn his/pp$ father/nn could/md hand/vb out/rp to/in him/ppo ./.\\nMr./np Clifton/np would/md have/hv preferred/vbn death/nn and/cc bankruptcy/nn to/in having/hvg his/pp$ son/nn stay/vb with/in his/pp$ wife's/nn$ people/nns without/in contributing/vbg to/in his/pp$ and/cc his/pp$ family's/nn$ upkeep/nn ,/, and/cc besides/in that/dt there/ex were/bed the/at things/nns that/wps had/hvd to/to be/be bought/vbn for/in the/at baby/nn ,/, milk/nn and/cc orange/nn juice/nn and/cc vitamins/nns and/cc soap/nn ,/, just/rb plain/jj soap/nn ./.\\nMaggie/np and/cc Stuart/np pored/vbd over/in figures/nns every/at night/nn ,/, trying/vbg to/to find/vb how/wrb they/ppss could/md squeeze/vb out/rp a/at few/ap pennies/nns more/ap ./.\\n\\n\\n\\tIn/in desperation/nn Maggie/np consulted/vbd Eugenia/np one/cd afternoon/nn :/: ``/`` Do/do you/ppss think/vb you/ppss could/md find/vb me/ppo something/pn I/ppss could/md do/do here/rb at/in home/nr to/to make/vb some/dti money/nn ,/, so/cs I/ppss could/md still/rb watch/vb the/at baby/nn and/cc do/do the/at rest/nn of/in the/at things/nns ''/'' ?/. ?/.\\n\\n\\n\\t``/`` It/pps seems/vbz to/in me/ppo you/ppss have/hv enough/ap to/to do/do as/cs it/pps is/bez ''/'' ,/, Eugenia/np said/vbd ./.\\nShe/pps had/hvd been/ben watching/vbg Maggie/np go/vb from/in the/at washing/vbg machine/nn to/in the/at baby/nn to/in the/at stove/nn and/cc back/rb again/rb ./.\\n\\n\\n\\t``/`` I/ppss have/hv plenty/nn of/in odd/jj moments/nns when/wrb I/ppss could/md be/be doing/vbg something/pn ''/'' ,/, Maggie/np said/vbd ./.\\n``/`` It/pps would/md make/vb me/ppo feel/vb a/at lot/nn better/rbr ,/, but/cc the/at Woman's/nn$-tl Exchange/nn-tl isn't/bez* taking/vbg baked/vbn goods/nns any/dti more/rbr and/cc I/ppss can't/md* leave/vb the/at baby/nn with/in Grandma/nn-tl because/cs she/pps isn't/bez* strong/jj enough/qlp and/cc the/at baby's/nn$ too/ql young/jj to/to be/be put/vbn in/in a/at nursery/nn ''/'' ./.\\n\\n\\n\\t``/`` I/ppss should/md think/vb so/rb ''/'' ,/, Eugenia/np said/vbd ./.\\n``/`` For/in one/cd thing/nn you/ppss can/md stop/vb keeping/vbg that/dt child/nn in/in starched/vbn dresses/nns and/cc changed/vbn from/in the/at skin/nn out/rp nineteen/cd times/nns a/at day/nn ''/'' ./.\\n\\n\\n\\t``/`` She's/pps+bez so/ql beautiful/jj ,/, and/cc I/ppss do/do like/vb to/to keep/vb her/ppo looking/vbg nice/jj ''/'' ./.\\nMaggie/np said/vbd ./.\\nShe/pps picked/vbd up/rp the/at baby/nn and/cc nuzzled/vbd her/pp$ fat/jj warm/jj little/jj neck/nn ./.\\n\\n\\n\\t``/`` She'll/pps+md be/be just/rb as/ql beautiful/jj in/in something/pn that/dt doesn't/doz* have/hv to/to be/be ironed/vbn ''/'' ,/, Eugenia/np said/vbd ./.\\n``/`` Evadna/np Mae/np Evans/np said/vbd she/pps didn't/dod* put/vb a/at thing/nn on/in her/pp$ child/nn but/in a/at flannel/nn wrapper/nn until/cs it/pps was/bedz nine/cd months/nns old/jj ''/'' ./.\\n\\n\\n\\t``/`` Evadna/np Mae/np Evans/np got/vbd all/abn her/pp$ baby/nn clothes/nns from/in Best's/np$ Liliputian/jj-tl Bazaar/nn-tl in/in New/jj-tl York/np-tl ,/, and/cc I'm/ppss+bem sick/jj and/cc tired/vbn of/in hearing/vbg about/in Evadna/np Mae/np Evans/np ''/'' ./.\\n\\n\\n\\t``/`` Well/uh now/rb ,/, Maggie/np ,/, you/ppss don't/do* have/hv to/to snap/vb at/in me/ppo ''/'' ,/, Eugenia/np said/vbd ./.\\n``/`` I'm/ppss+bem just/rb thinking/vbg of/in a/at way/nn for/in you/ppo to/to be/be sensible/jj ''/'' ./.\\n\\n\\n\\t``/`` I'm/ppss+bem sorry/jj ./.\\nI/ppss do/do seem/vb to/to snap/vb at/in everybody/pn these/dts days/nns ,/, but/cc I/ppss would/md like/vb to/to think/vb of/in a/at way/nn to/to make/vb a/at little/ap extra/jj money/nn ''/'' ./.\\n\\n\\n\\t``/`` Well/uh ,/, let's/vb+ppo see/vb ./.\\nLet's/vb+ppo make/vb a/at list/nn of/in your/pp$ assets/nns ''/'' ./.\\n\\n\\n\\tMaggie/np started/vbd laughing/vbg ,/, and/cc she/pps laughed/vbd so/ql hard/rb she/pps couldn't/md* stop/vb ,/, and/cc she/pps kept/vbd on/in laughing/vbg while/cs she/pps lugged/vbd the/at clothes/nns out/rp to/in the/at yard/nn to/to hang/vb them/ppo up/rp while/cs the/at sun/nn was/bedz still/rb shining/vbg ./.\\nWhen/wrb she/pps came/vbd back/rb Eugenia/np was/bedz sitting/vbg at/in the/at kitchen/nn table/nn with/in a/at pencil/nn and/cc envelope/nn jotting/vbg down/rp words/nns and/cc figures/nns ./.\\n\\n\\n\\t``/`` I/ppss have/hv here/rb that/cs you/ppss could/md run/vb a/at nursery/nn of/in your/pp$ own/jj for/in working/vbg mothers/nns ''/'' ,/, Eugenia/np said/vbd ./.\\n``/`` We/ppss could/md put/vb up/rp cribs/nns on/in the/at second/od floor/nn sleeping/vbg porch/nn and/cc turn/vb the/at front/jj bedroom/nn into/in a/at playroom/nn where/wrb it's/pps+bez nice/jj and/cc sunny/jj ,/, but/cc of/in course/nn it/pps would/md entail/vb quite/abl a/at bit/nn of/in running/vbg up/in and/cc down/in stairs/nns and/cc Chris/np said/vbd you/ppss were/bed to/to be/be careful/jj about/in that/dt ''/'' ./.\\n\\n\\n\\t``/`` What/wdt else/rb ''/'' ?/. ?/.\\n\\n\\n\\t``/`` You/ppss might/md set/vb up/in a/at dress/nn shop/nn in/in the/at living/vbg room/nn ''/'' ./.\\n\\n\\n\\t``/`` Every/at woman/nn in/in the/at block/nn has/hvz tried/vbn that/dt ''/'' ./.\\n\\n\\n\\t``/`` What/wdt about/in a/at tea/nn room/nn ,/, then/rb ?/. ?/.\\nYou/ppss could/md set/vb up/rp tables/nns in/in the/at front/jj room/nn and/cc serve/vb salads/nns and/cc your/pp$ baked/vbn beans/nns and/cc brown/jj bread/nn and/cc Grandma/nn-tl could/md dress/vb like/cs a/at gypsy/nn and/cc tell/vb fortunes/nns ''/'' ./.\\n\\n\\n\\t``/`` It's/pps+bez too/ql elaborate/jj ./.\\nAnd/cc Grandma/nn-tl isn't/bez* strong/jj enough/qlp to/to take/vb on/rp something/pn like/cs that/dt ,/, and/cc to/to tell/vb you/ppo the/at truth/nn neither/cc am/bem I/ppss ''/'' ./.\\n\\n\\n\\tEugenia/np sighed/vbd ./.\\nShe/pps said/vbd ,/, ``/`` Well/uh ,/, those/dts are/ber the/at really/ql interesting/jj things/nns ,/, but/cc if/cs you/ppss don't/do* like/vb any/dti of/in those/dts I/ppss can/md turn/vb over/rp some/dti of/in my/pp$ extra/jj typing/vbg jobs/nns to/in you/ppo ,/, if/cs you/ppss think/vb you/ppo can/md type/vb well/rb enough/qlp ''/'' ./.\\n\\n\\n\\t``/`` Oh/uh ,/, I'm/ppss+bem sure/jj I/ppss could/md do/do that/dt ''/'' ,/, Maggie/np said/vbd ./.\\n``/`` But/cc it/pps really/rb wouldn't/md* be/be fair/jj ,/, taking/vbg your/pp$ jobs/nns away/rb from/in you/ppo ''/'' ./.\\n\\n\\n\\t``/`` Don't/do* worry/vb ,/, I/ppss can/md get/vb plenty/nn more/ap ''/'' ,/, Eugenia/np said/vbd ,/, wondering/vbg where/wrb in/in the/at world/nn she/pps could/md ./.\\nMaggie/np was/bedz looking/vbg much/ql happier/jjr already/rb ,/, clearing/vbg a/at space/nn on/in the/at table/nn and/cc chattering/vbg about/in how/wrb she/pps could/md put/vb up/rp a/at typewriter/nn right/ql there/rb ,/, and/cc be/be brushing/vbg up/rp on/in her/pp$ typing/vbg so/cs Eugenia/np wouldn't/md* be/be ashamed/jj of/in it/ppo ./.\\n``/`` And/cc then/rb whenever/wrb I/ppss have/hv a/at minute/nn I/ppss can/md be/be working/vbg at/in it/ppo ,/, and/cc keep/vb an/at eye/nn on/in the/at baby/nn and/cc the/at stove/nn at/in the/at same/ap time/nn ./.\\nAnd/cc I/ppss can/md go/vb back/rb to/in my/pp$ contests/nns and/cc be/be thinking/vbg while/cs I'm/ppss+bem doing/vbg the/at washing/nn ''/'' ./.\\n\\n\\n\\t``/`` What/wdt are/ber you/ppss going/vbg to/to do/do with/in your/pp$ feet/nns so/cs you/ppss don't/do* waste/vb anything/pn ''/'' ?/. ?/.\\n\\n\\n\\tMaggie/np laughed/vbd ./.\\nShe/pps said/vbd ,/, ``/`` Oh/uh Eugenia/np ,/, I/ppss wish/vb ''/'' \\n\\n\\t``/`` What/wdt ''/'' ?/. ?/.\\n\\n\\n\\t``/`` I/ppss wish/vb I/ppss had/hvd three/cd wishes/nns ''/'' ,/, Maggie/np said/vbd ./.\\n``/`` All/abn of/in them/ppo for/in you/ppo ''/'' ./.\\n\\n\\n\\n\\nIt/pps grew/vbd bitterly/ql cold/jj toward/in the/at end/nn of/in November/np ,/, contributing/vbg to/in the/at miseries/nns of/in countless/jj numbers/nns of/in people/nns ./.\\nThe/at temperature/nn dropped/vbd to/in twenty/cd below/rb at/in night/nn and/cc stood/vbd at/in zero/nn during/in the/at days/nns ./.\\nThe/at cold/nn settled/vbd like/cs a/at tangible/jj pall/nn over/in the/at Mile/nn-tl High/jj-tl City/nn-tl ,/, locking/vbg it/ppo in/in an/at icy/jj grip/nn that/wps harshened/vbd its/pp$ outlines/nns and/cc altered/vbd its/pp$ physical/jj appearance/nn ;/. ;/.\\nit/pps had/hvd a/at look/nn of/in grim/jj stark/jj realism/nn ,/, resembling/vbg other/ap cities/nns whose/wp$ habitual/jj climate/nn was/bedz cold/jj ,/, instead/rb of/in the/at sprawling/vbg bumptious/jj open-handed/jj greedy/jj Western/jj-tl city/nn basking/vbg in/in eternal/jj sunshine/nn at/in the/at foot/nn of/in mountains/nns stored/vbn with/in endless/jj riches/nns and/cc resources/nns ./.\\n\\n\\n\\tThe/at jobless/jj huddled/vbd in/in the/at streets/nns outside/in of/in employment/nn offices/nns ,/, outside/in newspaper/nn buildings/nns ,/, in/in parks/nns ,/, in/in relief/nn lines/nns ,/, outside/in government/nn agencies/nns ./.\\nThere/ex weren't/bed* facilities/nns to/to take/vb care/nn of/in them/ppo ;/. ;/.\\nthere/ex never/rb had/hvd been/ben a/at need/nn felt/vbn for/in such/jj facilities/nns ./.\\nThat/dt kind/nn of/in poverty/nn was/bedz regarded/vbn as/cs the/at exclusive/jj property/nn of/in the/at East/nr-tl ,/, which/wdt created/vbd depressions/nns with/in their/pp$ stock/nn markets/nns and/cc their/pp$ congested/vbn populations/nns and/cc their/pp$ greedy/jj centralization/nn of/in industries/nns ,/, protected/vbn by/in discriminatory/jj freight/nn rates/nns ./.\\nThe/at East/nr-tl was/bedz popularly/rb supposed/vbn to/to have/hv got/vbn the/at country/nn into/in war/nn and/cc into/in depression/nn ,/, dragging/vbg the/at west/nr along/rb ;/. ;/.\\nand/cc now/rb the/at East/nr-tl was/bedz creating/vbg government/nn agencies/nns for/in which/wdt the/at West/nr-tl doubtless/rb would/md have/hv to/to pay/vb ./.\\n\\n\\n\\tThe/at government/nn offices/nns were/bed being/beg opened/vbn but/cc they/ppss weren't/bed* being/beg opened/vbn fast/rb enough/qlp and/cc meanwhile/rb the/at cold/nn penetrated/vbd everything/pn ./.\\nShivering/vbg ,/, people/nns talked/vbd and/cc argued/vbd ;/. ;/.\\nall/ql this/dt government/nn spending/nn would/md have/hv to/to be/be paid/vbn for/in somehow/rb ,/, but/cc on/in the/at other/ap hand/nn desperate/jj circumstances/nns called/vbd for/in desperate/jj remedies/nns and/cc something/pn had/hvd to/to be/be done/vbn ./.\\n\\n\\n\\tSomething/pn had/hvd to/to be/be done/vbn ;/. ;/.\\nit/pps was/bedz the/at theme/nn song/nn of/in millions/nns of/in American/jj people/nns ,/, their/pp$ personal/jj problems/nns no/at less/ql urgent/jj than/cs those/dts of/in the/at government/nn ./.\\nSomething/pn had/hvd to/to be/be done/vbn ./.\\nThe/at Abernathys/nps said/vbd it/ppo to/in each/dt other/ap a/at dozen/nn times/nns a/at day/nn ./.\\n\\n\\n\\tSomething/pn had/hvd to/to be/be done/vbn about/in the/at furnace/nn ,/, the/at fuel/nn bills/nns ,/, the/at washing/vbg machine/nn ,/, the/at doctor/nn and/cc dentist/nn bills/nns ,/, about/in making/vbg money/nn stretch/vb for/in food/nn ,/, for/in the/at mortgage/nn ,/, for/in taxes/nns ,/, for/in shoes/nns ,/, for/in half/abn soles/nns ,/, for/in overshoes/nns ,/, for/in clothes/nns ,/, for/in the/at new/jj leaks/nns in/in the/at roof/nn ,/, for/in gas/nn and/cc light/nn bills/nns ;/. ;/.\\nabout/in keeping/vbg warm/jj ,/, about/in keeping/vbg well/jj ,/, about/in meeting/vbg the/at minor/jj emergencies/nns that/wps came/vbd up/rp once/rb ,/, twice/rb ,/, fifty/cd times/nns a/at day/nn ./.\\nJust/rb dropping/vbg the/at baby's/nn$ bottle/nn and/cc breaking/vbg it/pps became/vbd a/at catastrophe/nn ,/, and/cc Stuart/np wore/vbd out/rp his/pp$ shoes/nns so/ql fast/rb that/cs he/pps was/bedz termed/vbn a/at major/jj disaster/nn ./.\\n\\n\\n\\tThe/at Abernathy/np furnace/nn consumed/vbd fuel/nn like/cs a/at giant/jj ravenous/jj maw/nn that/wps had/hvd to/to be/be appeased/vbn by/in hurling/vbg tons/nns of/in coal/nn into/in its/pp$ evil/jj red/jj depths/nns ,/, and/cc no/at matter/nn how/wrb much/ap coal/nn they/ppss put/vbd in/rp the/at house/nn remained/vbd cold/jj ./.\\nCold/nn came/vbd in/in the/at innumerable/jj cracks/nns that/wps seemed/vbd to/to have/hv sprung/vbn up/rp ,/, under/in doors/nns ,/, around/in loosened/vbn window/nn frames/nns ,/, from/in the/at sleeping/vbg porches/nns ,/, the/at attic/nn ,/, from/in the/at widened/vbn cracks/nns between/in shingles/nns on/in the/at roof/nn ./.\\nPresently/rb they/ppss had/hvd to/to give/vb up/rp running/vbg the/at furnace/nn at/in full/jj capacity/nn and/cc depend/vb on/in the/at old/jj coal/nn range/nn in/in the/at kitchen/nn ,/, which/wdt had/hvd never/rb been/ben removed/vbn when/wrb the/at new/jj gas/nn range/nn was/bedz installed/vbn ,/, and/cc the/at fireplaces/nns and/cc an/at electric/jj heater/nn in/in Grandma's/nn$-tl room/nn ./.\\nIt/pps was/bedz so/ql cold/jj and/cc so/ql wretched/jj that/cs a/at sort/nn of/in desperate/jj gaiety/nn infected/vbd all/abn of/in them/ppo ,/, like/cs people/nns stormbound/jj or/cc shipwrecked/vbn or/cc caught/vbn in/in some/dti other/ap freak/nn of/in circumstance/nn so/cs that/cs time/nn stood/vbd still/rb and/cc minor/jj anxieties/nns fell/vbd away/rb and/cc the/at only/rb important/jj thing/nn was/bedz to/to cling/vb together/rb and/cc survive/vb ./.\\n\\n\\n\\tThe/at pipes/nns burst/vb and/cc they/ppss all/abn laughed/vbd and/cc stood/vbd in/in ice/nn water/nn to/in their/pp$ ankles/nns while/cs they/ppss swabbed/vbd the/at bathrooms/nns ./.\\nThey/ppss lived/vbd mainly/rb in/in the/at kitchen/nn ;/. ;/.\\nthey/ppss moved/vbd Maggie's/np$ bed/nn and/cc the/at baby's/nn$ basket/nn there/rb ,/, and/cc the/at rest/nn of/in them/ppo undressed/vbd by/in the/at stove/nn and/cc ran/vbd groaning/vbg and/cc shivering/vbg to/in the/at upper/jj polar/jj regions/nns and/cc plunged/vbd into/in icy/jj beds/nns ./.\\nGrandma/nn-tl said/vbd it/pps was/bedz just/rb like/cs the/at early/jj mining/vbg camp/nn days/nns ,/, and/cc it/pps was/bedz the/at way/nn people/nns ought/md to/to live/vb ,/, only/rb she/pps was/bedz getting/vbg too/ql old/jj to/to take/vb the/at pleasure/nn from/in it/ppo that/cs she/pps used/vbd to/to ./.\\n\\n\\n\\t``/`` You/ppss said/vbd a/at mouthful/nn ''/'' ,/, Eugenia/np said/vbd grimly/rb ./.\\nEugenia/np hated/vbd being/beg cold/jj worse/jjr than/in anything/pn ,/, and/cc she/pps was/bedz beginning/vbg to/to find/vb the/at joys/nns of/in poverty/nn wearing/vbg thin/jj ./.\\nShe/pps said/vbd to/in Maggie/np that/cs it/pps was/bedz one/cd thing/nn to/to meet/vb an/at emergency/nn and/cc another/dt to/to wallow/vb in/in it/ppo ,/, and/cc it/pps was/bedz beginning/vbg to/to look/vb at/in if/cs this/dt one/pn was/bedz going/vbg to/to last/vb forever/rb ./.\\n\\n\\n\\t``/`` Plenty/nn of/in people/nns are/ber poor/jj all/abn their/pp$ lives/nns ''/'' ./.\\n\\n\\n\\t``/`` Plenty/nn of/in people/nns haven't/hv* our/pp$ brains/nns and/cc talent/nn ''/'' ./.\\n\\n\\n\\t``/`` I/ppss know/vb you/ppo when/wrb you/ppss start/vb talking/vbg about/in brains/nns and/cc talent/nn ''/'' ,/, Maggie/np said/vbd ./.\\n``/`` You're/ppss+ber working/vbg up/in to/in something/pn ,/, and/cc if/cs you/ppss don't/do* watch/vb out/rp you'll/ppss+md ruin/vb your/pp$ whole/jj life/nn one/cd of/in these/dts days/nns just/rb to/to prove/vb that/cs the/at Abernathy/np family/nn is/bez superior/jj to/in everything/pn ,/, even/rb a/at depression/nn ''/'' ./.\\n\\n\\n\\t``/`` The/at only/ap thing/nn that/wps worries/vbz me/ppo is/bez how/wrb I'm/ppss+bem going/vbg to/to prove/vb it/ppo ''/'' ,/, Eugenia/np said/vbd ./.\\n\\n\\n\\tThey/ppss begged/vbd Grandma/nn-tl to/to let/vb them/ppo put/vb a/at bed/nn in/in the/at kitchen/nn for/in her/ppo ,/, but/cc Grandma/nn-tl said/vbd she/pps was/bedz getting/vbg too/ql old/jj to/to sleep/vb in/in strange/jj beds/nns and/cc be/be seen/vbn with/in her/ppo teeth/nns out/rp ,/, and/cc that/cs she/pps hoped/vbd to/to die/vb in/in privacy/nn like/cs a/at Christian/np and/cc if/cs the/at Lord/nn-tl willed/vbd it/ppo to/to be/be of/in pneumonia/nn than/cs it/pps would/md have/hv to/to be/be that/dt way/nn ./.\\nShe/pps didn't/dod* want/vb to/to be/be the/at only/ap one/pn with/in a/at stove/nn in/in her/pp$ room/nn ,/, especially/rb as/cs her/pp$ life/nn span/nn was/bedz nearly/rb run/vbn out/rp anyway/rb ,/, and/cc she/pps insisted/vbd that/cs Hope/nn-tl have/hv the/at heater/nn ./.\\nHope/nn-tl wouldn't/md* hear/vb of/in it/ppo ,/, and/cc she/pps took/vbd the/at heater/nn back/rb to/in Grandma's/nn$-tl room/nn ,/, and/cc Grandma/nn-tl took/vbd it/ppo back/rb to/in Hope's/np$ room/nn ,/, and/cc the/at two/cd of/in them/ppo dragged/vbn it/ppo back/rb and/cc forth/rb until/cs Grandma/nn-tl tipped/vbd it/ppo over/rp and/cc almost/rb set/vbd her/pp$ bedspread/nn on/in fire/nn ./.\\nShe/pps said/vbd that/dt proved/vbd she/pps wasn't/bedz* to/to be/be trusted/vbn with/in a/at fire/nn in/in her/pp$ room/nn ,/, and/cc she/pps could/md be/be burned/vbn to/in a/at crisp/nn without/in anybody/pn knowing/vbg it/ppo ./.\\nEugenia/np suspected/vbd her/ppo of/in deliberately/rb overturning/vbg the/at heater/nn because/cs she/pps was/bedz getting/vbg tired/vbn of/in dragging/vbg it/ppo back/rb and/cc forth/rb and/cc still/rb wanted/vbd her/pp$ own/jj way/nn ,/, but/cc Hope/np said/vbd if/cs Grandma/nn-tl wouldn't/md* have/hv the/at heater/nn nobody/pn would/md have/hv it/ppo ,/, so/cs Grandma/nn-tl had/hvd to/to give/vb in/rp ./.\\n\\n\\n\\n\\t``/`` Thrifty/jj of/in her/ppo to/to use/vb it/ppo up/rp ./.\\nUnusual/jj in/in a/at case/nn like/cs this/dt ,/, but/cc ''/'' --/-- \\n\\n\\t``/`` You/ppss can/md joke/vb !/. !/.\\nDidn't/dod* you/ppss read/vb it/ppo ?/. ?/.\\nShe's/pps+hvz married/vbn that/dt tenant/nn !/. !/.\\n''/'' \\n\\n\\t``/`` I/ppss read/vbd it/ppo ,/, yes/rb ./.\\nThis/dt ought/md to/to simplify/vb Tolley's/np$ life/nn ''/'' ./.\\n\\n\\n\\tLaban/np had/hvd more/ap to/to say/vb ./.\\nTolley/np had/hvd gone/vbn to/to live/vb in/in California/np ./.\\nHe'd/pps+hvd mentioned/vbn it/ppo ,/, himself/ppl ,/, at/in church/nn and/cc everybody/pn seemed/vbd to/to have/hv the/at idea/nn that/cs Tolley/np had/hvd left/vbn because/cs Jenny/np had/hvd jilted/vbn him/ppo for/in Roy/np Robards/np ./.\\n``/`` It/pps was/bedz plain/jj as/cs the/at nose/nn on/in your/pp$ face/nn that/cs they're/ppss+ber laughing/vbg about/in it/ppo ,/, Mamma/nn-tl ./.\\nZion/np stayed/vbd to/to get/vb my/pp$ pin/nn ,/, but/cc it'll/pps+md be/be a/at cold/jj day/nn in/in June/np when/wrb I/ppss go/vb back/rb ''/'' ./.\\n``/`` We/ppss will/md both/abx go/vb back/rb ,/, Laban/np ''/'' !/. !/.\\nKizzie/np turned/vbd to/to go/vb inside/rb ./.\\n``/`` Let/vb me/ppo stay/vb and/cc take/vb the/at pictures/nns you/ppss wanted/vbd ,/, Mamma/nn-tl ./.\\nThe/at sun's/nn+bez right/jj ''/'' --/-- \\n\\n\\t``/`` Pictures/nns ''/'' ?/. ?/.\\nShe/pps swung/vbd around/rb ./.\\n``/`` What/wdt pictures/nns ''/'' ?/. ?/.\\n\\n\\n\\t``/`` In/in Brace's/np$ room/nn !/. !/.\\nYou/ppss told/vbd me/ppo to/to bring/vb my/pp$ camera/nn ./.\\nI'm/ppss+bem not/* going/vbg back/rb ''/'' --/-- \\n\\n\\t``/`` Indeed/rb you/ppss are/ber !/. !/.\\nWhy/wrb should/md I/ppss want/vb pictures/nns of/in an/at empty/jj room/nn now/rb ?/. ?/.\\nTolley/np had/hvd no/at idea/nn of/in marrying/vbg that/dt sneaky/jj little/ap Jenny/np !/. !/.\\nThis/dt --/-- trip/nn of/in his/pp$$ had/hvd nothing/pn to/to do/do with/in her/ppo consorting/vbg with/in tenants/nns ,/, and/cc I/ppss am/bem going/vbg to/to see/vb that/cs everybody/pn at/in Mt./nn-tl Pleasant/np understands/vbz that/dt simple/jj fact/nn ./.\\nWait/vb for/in me/ppo ,/, Laban/np ,/, I'll/ppss+md be/be dressed/vbn in/in half/abn a/at second/nn ''/'' !/. !/.\\n\\n\\n\\tFrank/np followed/vbd her/ppo into/in the/at bedroom/nn ,/, hooked/vbd her/pp$ dress/nn up/in the/at back/nn ./.\\n\\n\\n\\t``/`` Hurry/vb ,/, Frank/np !/. !/.\\nThey're/ppss+ber not/* going/vbg to/to laugh/vb at/in the/at Fairbrothers/nps and/cc Labans/nps very/ql long/jj !/. !/.\\nTolley's/np$ going/nn is/bez my/pp$ fault/nn ./.\\nI/ppss drove/vbd him/ppo away/rb ./.\\nYou/ppss know/vb it/ppo and/cc I'll/ppss+md tell/vb everybody/pn exactly/rb how/wrb it/pps happened/vbd ''/'' ./.\\n\\n\\n\\tShe/pps was/bedz so/ql beautiful/jj ,/, so/ql valiant/jj ,/, so/ql pitiable/jj ./.\\nHe/pps kissed/vbd her/ppo ./.\\n``/`` Make/vb your/pp$ confession/nn to/in God/np ,/, Kizzie/np dear/jj ,/, not/* to/in the/at congregation/nn ''/'' ./.\\n\\n\\n\\t``/`` I'll/ppss+md decide/vb that/dt when/wrb I/ppss get/vb there/rb ./.\\nI/ppss was/bedz so/ql cruel/jj to/in Tolley/np ,/, so/ql unfair/jj ./.\\nBut/cc I'll/ppss+md be/be fair/jj now/rb !/. !/.\\nHe/pps is/bez coming/vbg back/rb ,/, isn't/bez* he/pps ,/, Frank/np ''/'' ?/. ?/.\\n\\n\\n\\tYes/rb ,/, oh/uh yes/rb ./.\\nWhat/wdt else/rb was/bedz there/ex to/to say/vb ?/. ?/.\\nReturning/vbg to/in the/at log-house/nn he/pps found/vbd some/dti favorite/jj lines/nns from/in Jonathan/np Swift/np on/in his/pp$ lips/nns :/: \\n\\n\\t``/`` Under/in the/at window/nn in/in stormy/jj weather/nn \\n\\n\\tI/ppss marry/vb this/dt man/nn and/cc woman/nn together/rb ./.\\n\\n\\n\\tLet/vb none/pn but/in Him/ppo who/wps rules/vbz the/at thunder/nn \\n\\n\\tPut/vb this/dt man/nn and/cc woman/nn asunder/rb ''/'' ./.\\n\\n\\n\\tAbsolution/nn for/in his/pp$ lie/nn ?/. ?/.\\nHe/pps questioned/vbd God's/np$ taking/vbg time/nn to/to telegraph/vb the/at message/nn ,/, but/cc he/pps felt/vbd better/rbr about/in Kizzie/np ,/, and/cc he/pps took/vbd the/at sealed/vbn envelope/nn from/in its/pp$ pigeonhole/nn ,/, wondering/vbg why/wrb he/pps had/hvd preserved/vbn it/ppo ./.\\nIf/cs he/pps died/vbd before/cs she/pps did/dod ,/, she/pps would/md never/rb be/be unable/jj to/to resist/vb opening/vbg it/ppo ./.\\nIn/in any/dti case/nn he/pps would/md be/be thrusting/vbg a/at burden/nn on/in his/pp$ remaining/vbg sons/nns ,/, making/vbg them/ppo parties/nns to/in a/at deception/nn peculiarly/rb his/pp$ own/jj ./.\\nIt/pps was/bedz simply/rb his/pp$ necessity/nn to/to confess/vb which/wdt had/hvd made/vbn him/ppo write/vb and/cc keep/vb this/dt thing/nn ./.\\n``/`` You've/ppss+hv told/vbn God/np ,/, Frank/np ''/'' ,/, he/pps said/vbd ./.\\n``/`` Why/wrb lacerate/vb the/at --/-- congregation/nn ''/'' ?/. ?/.\\n\\n\\n\\tReaching/vbg for/in an/at old/jj clay/nn pot/nn ,/, relic/nn of/in pioneer/nn days/nns ,/, he/pps tore/vbd the/at envelope/nn in/in pieces/nns ,/, dropping/vbg them/ppo into/in it/ppo ,/, touching/vbg the/at little/jj pyre/nn to/to flame/vb ,/, watching/vbg it/ppo curl/vb ,/, the/at red/jj sealing/vbg wax/nn melting/vbg and/cc bubbling/vbg in/in the/at feathery/jj ash/nn ./.\\nSurely/rb now/rb his/pp$ beloved/jj son/nn could/md rest/vb in/in peace/nn ./.\\n\\n\\n\\t``/`` '/' And/cc let/vb me/ppo go/vb ,/, for/in the/at night/nn gathers/vbz me/ppo ,/, and/cc in/in the/at night/nn shall/md no/at man/nn gather/vb fruit/nn '/' ''/'' ./.\\nA/at beautiful/jj and/cc haunting/jj line/nn ,/, a/at subtle/jj genius/nn ,/, Swinburne/np ,/, difficult/jj not/* to/to envy/vb a/at gifted/jj man/nn ,/, and/cc perhaps/rb he/pps did/dod ./.\\n\\n\\n\\tBut/cc there/ex were/bed great/jj satisfactions/nns ,/, even/rb for/in a/at small/jj man/nn ./.\\nBeyond/in his/pp$ window/nn were/bed the/at greening/vbg trees/nns ,/, new/jj spring/nn ,/, eternal/jj hope/nn ,/, eternal/jj life/nn ./.\\nThere/ex lay/vbd Grand/jj-tl Fair's/nn$-tl Quinzaine/np-tl ,/, his/pp$ own/jj young/jj parents'/nns$ graves/nns ,/, but/cc new/jj life/nn and/cc promise/nn for/in his/pp$ sons/nns ,/, grandsons/nns ./.\\nHe/pps poured/vbd his/pp$ thimble/nn of/in wine/nn for/in the/at toast/nn he'd/pps+hvd made/vbn so/ql often/rb ./.\\n``/`` To/in absent/jj loved/vbn ones/nns ''/'' ./.\\nBut/cc this/dt last/ap time/nn he/pps drank/vbd not/* to/in Brace/np but/cc ``/`` To/in Tolley/np ''/'' !/. !/.\\n\\n\\n\\n\\nMr./np Robards/np --/-- Jenny/np was/bedz the/at only/ap person/nn she/pps knew/vbd of/in in/in the/at Mt./nn-tl Pleasant/np neighborhood/nn who/wps called/vbd him/ppo that/dt --/-- was/bedz kind/jj but/cc too/ql easygoing/jj ./.\\nIt/pps didn't/dod* bother/vb him/ppo for/cs everybody/pn from/in the/at blacksmith/nn to/in the/at preacher/nn to/to say/vb ,/, ``/`` Howdy/uh ,/, Miss/np Jenny/np ''/'' ,/, adding/vbg a/at careless/jj ``/`` Roy/np ''/'' ,/, but/cc it/pps did/dod her/ppo ./.\\n\\n\\n\\tHe/pps could/md put/vb a/at stop/nn to/in it/ppo ,/, she/pps told/vbd him/ppo again/rb and/cc again/rb ./.\\nSimply/rb call/vb Mr./np Whipsnade/np Oscar/np ,/, and/cc Dr./nn-tl Dunne/np P.GA/np ,/, and/cc C'un/nn-tl Major/np Frank/np ./.\\nMr./np Robards/np laughed/vbd ,/, said/vbd he'd/pps+md feel/vb a/at damn/jj fool/nn ,/, plain-out/rb couldn't/md* do/do that/dt even/rb to/to please/vb her/ppo ./.\\n\\n\\n\\t``/`` You/ppss could/md try/vb ./.\\nAnd/cc if/cs I/ppss ever/rb hear/vb you/ppo say/vb '/' Mist/nn-tl Laban/np '/' again/rb I'll/ppss+md scream/vb ./.\\nAnd/cc don't/do* tell/vb me/ppo you/ppss didn't/dod* at/in church/nn Sunday/nr ./.\\nI/ppss heard/vbd you/ppo ''/'' !/. !/.\\n\\n\\n\\tHe/pps really/rb hadn't/hvd* meant/vbn to/to ,/, he/pps assured/vbd her/ppo ,/, but/cc it/pps was/bedz plain/jj to/in her/ppo that/cs the/at importance/nn of/in these/dts small/jj things/nns was/bedz lost/vbn on/in Mr./np Robards/np ./.\\nHow/wrb strange/jj it/pps was/bedz that/cs he/pps could/md give/vb her/ppo this/dt handsome/jj house/nn and/cc carte/nn blanche/jj as/in to/in its/pp$ beautiful/jj furnishings/nns ,/, and/cc fail/vb her/ppo in/in --/-- spiritual/jj ways/nns ./.\\n\\n\\n\\tAnother/dt weakness/nn --/-- far/ql more/rbr irritating/jj than/cs his/pp$ manner/nn of/in speaking/vbg ,/, which/wdt he/pps made/vbd only/ap token/jj effort/nn to/to change/vb --/-- was/bedz his/pp$ devotion/nn to/in that/ql old/jj horse/nn of/in Tolley's/np$ ./.\\nHer/pp$ horse/nn ,/, rather/rb ./.\\nBut/cc Mr./np Robards'/np$ now/rb ,/, oh/uh my/pp$ yes/rb ,/, indeed/rb ,/, yes/rb !/. !/.\\nHe/pps called/vbd her/ppo ``/`` the/at Mare/nn-tl ''/'' much/rb as/cs Mrs./np Whipsnade/np spoke/vbd of/in ``/`` the/at Queen/nn-tl ,/, God/np bless/vb her/ppo ''/'' ./.\\nHe/pps ,/, with/in fifteen/cd or/cc twenty/cd horses/nns or/cc mares/nns or/cc geldings/nns or/cc what-nots/nns out/rp there/rb in/in the/at barn/nn ,/, was/bedz reverent/jj only/rb of/in ``/`` the/at Mare/nn-tl ''/'' ,/, ``/`` the/at Racin'/vbg-tl Mare/nn-tl ''/'' ,/, the/at revolting/jj Gunny/np ./.\\n\\n\\n\\tFor/in the/at first/od few/ap months/nns of/in their/pp$ marriage/nn she/pps had/hvd tried/vbn to/to be/be nice/jj about/in Gunny/np ,/, going/vbg out/rp with/in him/ppo to/to watch/vb this/dt pearl/nn without/in price/nn stamp/vb imperiously/rb around/rb in/in her/pp$ stall/nn ./.\\nAnd/cc what/wdt had/hvd happened/vbn ?/. ?/.\\nGunny/np invariably/rb tried/vbd to/to bite/vb her/ppo ./.\\nNerves/nns ,/, Mr./np Robards/np said/vbd ,/, just/rb a/at nip/nn anyway/rb ./.\\n``/`` Stand/vb back/rb ,/, Miss/np Jen/np ,/, she's/pps+bez oneasy/jj of/in your/pp$ scarf/nn ''/'' ./.\\nNever/rb ,/, ``/`` Quit/vb that/dt ,/, you/ppss sor'l/jj devil/nn ''/'' !/. !/.\\nNever/rb concern/nn for/in his/pp$ wife's/nn$ nerves/nns ,/, or/cc the/at danger/nn that/cs the/at curled/vbn lip/nn and/cc big/jj teeth/nns might/md mark/vb their/pp$ own/jj dear/jj baby/nn due/jj in/in January/np ./.\\nShe/pps musn't/md* annoy/vb Gunny/np whose/wp$ foal/nn was/bedz due/jj then/rb too/rb !/. !/.\\n\\n\\n\\tListening/vbg for/in hours/nns to/in his/pp$ laments/nns that/cs the/at war/nn and/cc ``/`` Mist/nn-tl Fair's/nn$-tl ''/'' poverty/nn afterwards/rb had/hvd robbed/vbn the/at mare/nn of/in many/abn a/at racing/vbg triumph/nn ,/, and/cc to/in his/pp$ predictions/nns of/in greatness/nn for/in the/at procession/nn of/in foals/nns to/to come/vb ,/, Jenny/np could/md look/vb forward/rb to/in years/nns of/in conflict/nn with/in an/at animal/nn who/wps disliked/vbd her/ppo intensely/rb and/cc showed/vbd it/ppo ./.\\nGunny/np symbolized/vbd so/ql much/ap that/dt was/bedz unpleasant/jj --/-- Tolley/np ,/, the/at indifference/nn with/in which/wdt the/at Fairbrothers/nps and/cc indeed/rb the/at whole/jj neighborhood/nn now/rb treated/vbd her/ppo and/cc which/wdt she/pps would/md die/vb rather/rb than/cs acknowledge/vb to/in her/pp$ husband/nn ,/, his/pp$ lack/nn of/in understanding/nn and/cc sympathy/nn in/in her/pp$ present/jj condition/nn ,/, her/pp$ disgusting/jj swollen/vbn stomach/nn ./.\\n\\n\\n\\tHuman/nn birth/nn was/bedz no/at novelty/nn to/in Mr./np Robards/np ./.\\nTillie/np was/bedz a/at fine/jj midwife/nn and/cc could/md get/vb here/rb quick/rb ,/, he/pps suggested/vbd ./.\\nJenny's/np$ aversion/nn to/in having/hvg Dr./nn-tl Dunne/np ,/, a/at former/ap admirer/nn ,/, seemed/vbd silly/jj to/in him/ppo ,/, but/cc he/pps would/md humor/vb her/ppo ,/, get/vb anybody/pn she/pps wanted/vbd ,/, the/at best/jjt never/rb being/beg too/ql good/jj for/in her/ppo ./.\\n\\n\\n\\tThe/at chances/nns were/bed against/in his/pp$ being/beg here/rb to/in humor/vb her/ppo when/wrb her/pp$ time/nn came/vbd ,/, she/pps was/bedz sure/jj ./.\\nHe/pps would/md be/be in/in the/at barn/nn ,/, or/cc riding/vbg for/in the/at veterinarian/nn !/. !/.\\nNight/nn after/in night/nn he/pps stayed/vbd with/in Gunny/np in/in the/at dead/nn of/in winter/nn ,/, rubbing/vbg her/ppo with/in quarts/nns of/in expensive/jj liniment/nn ,/, fussing/vbg over/in her/pp$ bran/nn mash/nn as/cs the/at cook/nn did/dod over/in charlotte/nn russe/nn ,/, tracking/vbg manure/nn on/in the/at pretty/ql new/jj carpet/nn when/wrb he/pps did/dod come/vb to/in the/at house/nn ./.\\nYet/rb when/wrb the/at dear/jj baby/nn came/vbd ,/, he/pps had/hvd Tillie/np over/in here/rb in/in a/at jiffy/nn ,/, and/cc was/bedz as/ql attentive/jj and/cc sweet/jj and/cc worried/vbn and/cc happy/jj when/wrb it/pps was/bedz all/ql over/rp as/cs any/dti husband/nn could/md have/hv been/ben ./.\\n\\n\\n\\tJenny/np wished/vbd now/rb that/cs she/pps had/hvd had/hvn Dr./nn-tl Dunne/np ,/, feeling/vbg that/cs somehow/rb he/pps wouldn't/md* have/hv allowed/vbn the/at dear/jj baby/nn to/to turn/vb into/in triplets/nns ./.\\nThere/ex was/bedz something/pn not/* nice/jj about/in triplets/nns ,/, though/cs their/pp$ father/nn seemed/vbd pleased/vbn ,/, showing/vbg no/at disappointment/nn that/cs they/ppss hadn't/hvd* been/ben the/at son/nn he/pps wanted/vbd ,/, saying/vbg ,/, ``/`` You/ppss don't/do* see/vb triplets/nns trippin'/vbg down/in the/at pike/nn ever'/at day/nn ,/, Miss/np Jen/np ,/, hon/nn ./.\\nRhyme/vb 'em/ppo up/rp cute/jj --/-- Arcilla/np ,/, Flotilla/np ''/'' \\nEdmonia/np for/in her/pp$ mother/nn ,/, she/pps said/vbd firmly/rb ,/, Jennifer/np ,/, for/in herself/ppl ,/, and/cc --/-- \\n\\n\\t``/`` Kezziah/np ,/, for/in Miss/np Kizzie/np ''/'' ,/, he/pps suggested/vbd ./.\\n``/`` She/pps was/bedz mighty/ql good/jj to/in you/ppo past/jj times/nns ,/, an'/cc this'll/dt+md fetch/vb her/ppo ''/'' ./.\\nNow/rb she/pps must/md be/be thinking/vbg of/in a/at boy-name/nn ,/, something/pn special/jj ./.\\nJust/rb wait/vb till/cs she/pps saw/vbd the/at Mare's/nn$-tl foal/nn ./.\\nHandsomest/jjt colt/nn in/in all/abn Kentucky/np ./.\\nStrong/jj too/rb ,/, up/rp on/in his/pp$ legs/nns when/wrb he/pps was/bedz an/at hour/nn old/jj ./.\\nWhat/wdt about/in Royal/np Robards/np ?/. ?/.\\n\\n\\n\\t``/`` Why/wrb don't/do* you/ppo name/vb him/ppo Jesus/np Christ/np !/. !/.\\n''/'' She/pps burst/vbd into/in tears/nns ./.\\n\\n\\n\\tRoy/np was/bedz deeply/rb distressed/vbn ./.\\nHe'd/pps+hvd had/hvn no/at idea/nn how/wrb unhappy/jj his/pp$ sweet/jj peach/nn had/hvd been/ben ./.\\nOf/in course/nn she/pps wasn't/bedz* herself/ppl right/ql now/rb ,/, but/cc as/cs her/pp$ strength/nn came/vbd back/rb her/pp$ spirits/nns didn't/dod* seem/vb to/to rise/vb with/in it/ppo ./.\\nHe/pps had/hvd a/at good/jj idea/nn why/wrb not/* ./.\\nThose/dts elegant/jj ``/`` At/in-tl Home/nn-tl ''/'' cards/nns she/pps sent/vbd out/rp ,/, now/rb she/pps could/md wear/vb her/pp$ pretty/jj clothes/nns again/rb ,/, and/cc had/hvd the/at house/nn all/ql trimmed/vbn up/rp ,/, hadn't/hvd* brought/vbn many/ap callers/nns in/in two/cd whole/jj months/nns ./.\\n\\n\\n\\tDoc/np Dunne/np and/cc Miss/np Sis/np had/hvd come/vbn ./.\\nSo/rb had/hvd Miss/np Shawnee/np Rakestraw/np ,/, full/jj of/in criticisms/nns about/in the/at changes/nns here/rb ,/, giving/vbg thanks/nns that/cs her/pp$ dear/jj old/jj father/nn had/hvd gone/vbn to/in his/pp$ Heavenly/jj-tl Rest/nn-tl last/ap year/nn ,/, saying/vbg how/wrb much/ap she/pps enjoyed/vbd her/pp$ boarding/vbg house/nn in/in town/nn in/in inclement/jj weather/nn ,/, was/bedz looking/vbg forward/rb to/in Quinzaine/np-tl Spa/nn-tl this/dt summer/nn ./.\\n\\n\\n\\tThere/ex was/bedz an/at idea/nn ./.\\nMiss/np Kizzie/np had/hvd been/ben right/ql snippy/jj ever/rb since/cs they/ppss were/bed married/vbn ,/, though/cs you'd/ppss+md have/hv thought/vbn a/at namesake/nn would/md have/hv brought/vbn her/ppo round/rb ./.\\nOh/uh ,/, she'd/pps+hvd come/vbn to/to see/vb them/ppo once/rb ,/, left/vbd silver/nn teething/vbg rings/nns for/in all/abn of/in the/at trips/nns ./.\\nBut/cc when/wrb Miss/np Jen/np went/vbd over/rp right/ql away/rb to/to return/vb the/at call/nn ,/, Miss/np Kiz/np couldn't/md* have/hv been/ben very/ql cordial/jj ,/, for/cs she'd/pps+hvd come/vbn back/rb before/cs she/pps hardly/rb had/hvd time/nn to/to get/vb there/rb ./.\\nMore/rbr and/cc more/rbr ,/, these/dts days/nns ,/, she'd/pps+hvd been/ben driving/vbg that/dt pretty/jj little/ap mare/nn that/wps looked/vbd like/in her/ppo ,/, over/rp to/in Tillie's/np$ and/cc Nick's/np$ --/-- his/pp$ own/jj old/jj square/nn frame/nn box/nn on/in posts/nns ,/, chickens/nns and/cc cats/nns and/cc pups/nns under/in the/at house/nn ,/, everybody/pn friendly/jj inside/rb ,/, making/vbg a/at to-do/nn over/in the/at babies/nns dressed/vbn like/cs dollies/nns ./.\\nThough/cs he/pps was/bedz glad/jj she/pps got/vbd on/rp well/rb with/in his/pp$ young/jj folks/nns ,/, she/pps ought/md to/to be/be welcome/jj at/in the/at finest/jjt house/nn in/in the/at land/nn ,/, too/rb ./.\\n\\n\\n\\tIt/pps made/vbd him/ppo pretty/ql hot/jj under/in the/at collar/nn ,/, after/cs the/at idea/nn Miss/np Sis/np had/hvd given/vbn him/ppo ,/, to/to be/be told/vbn by/in Miss/np Kiz/np that/cs her/pp$ holy/jj spa/nn was/bedz all/ql reserved/vbn for/in this/dt summer/nn and/cc next/ap ,/, if/cs you/ppss please/vb ,/, and/cc that/dt much/ap as/cs she/pps regretted/vbd it/ppo ,/, they/ppss would/md be/be unable/jj to/to entertain/vb Mrs./np Robards/np and/cc the/at children/nns ./.\\nShe/pps hoped/vbd they/ppss were/bed well/rb ./.\\n\\n\\n\\tHe/pps didn't/dod* tell/vb Miss/np Jen/np ,/, but/cc she/pps must/md have/hv got/vbn word/nn from/in the/at cook/nn or/cc nurse/nn ,/, who/wps of/in course/nn knew/vbd those/dts Quinzaine/np nigs/nns ,/, and/cc she/pps really/rb took/vbd a/at fit/nn ./.\\nIf/cs he/pps ever/rb did/dod such/abl a/at thing/nn again/rb she'd/pps+md die/vb of/in shame/nn ./.\\n\\n\\n\\t``/`` Have/hv a/at party/nn an'/cc leave/vb 'em/ppo out/rp ,/, hon/nn ''/'' ,/, he/pps suggested/vbd ./.\\n``/`` A/at swell/jj party/nn ,/, send/vb an/at invite/nn to/in ever'body/pn but/in them/ppo --/-- those/dts folks/nns you/ppss met/vbd at/in the/at Galt/np-tl House/nn-tl ,/, the/at ones/nns I've/ppss+hv got/vbn to/to know/vb in/in this/dt new/jj Jockey/nn-tl Club/nn-tl affair/nn ,/, the/at whole/jj dang/jj neighborhood/nn ./.\\nWe'll/ppss+md have/hv oystchers/nns --/-- couple/nn bar'l/nn oystchers'll/nns+md fetch/vb in/rp a/at crowd/nn any/dti time/nn ./.\\nI'll/ppss+md see/vb word/nn gets/vbz round/rb ''/'' ./.\\n\\n\\n\\t``/`` Don't/do* you/ppss dare/vb !/. !/.\\n''/'' \\n\\n\\tMiss/np Jen/np was/bedz funny/jj that/dt way/nn ,/, funny/jj that/cs she/pps didn't/dod* seem/vb to/to take/vb to/in his/pp$ ideas/nns and/cc perk/vb up/rp ./.\\nHe/pps was/bedz downright/ql worried/vbn about/in her/ppo ,/, but/cc there/ex was/bedz one/cd more/ap thing/nn he/pps could/md try/vb ./.\\n\\n\\n\\tZion/np was/bedz surprised/vbn when/wrb Roy's/np$ buggy/nn stopped/vbd beside/in her/ppo on/in the/at pike/nn one/cd early/jj summer/nn day/nn as/cs she/pps was/bedz walking/vbg home/nr from/in the/at country/nn school/nn where/wrb she/pps was/bedz teaching/vbg now/rb that/cs Eph/np Showers/np had/hvd had/hvn a/at call/nn to/to preach/vb in/in some/dti mountain/nn town/nn ./.\\n\\n\\n\\tRoy/np smiled/vbd --/-- he/pps did/dod have/hv a/at nice/jj smile/nn --/-- took/vbd off/rp his/pp$ hat/nn most/ql politely/rb ,/, told/vbd her/ppo to/to hop/vb in/rp ,/, and/cc he'd/pps+md give/vb her/ppo a/at lift/nn to/in Quinzaine/np ./.\\nHer/pp$ hesitation/nn was/bedz only/ql momentary/jj and/cc she/pps hoped/vbd he/pps didn't/dod* notice/vb it/ppo ,/, as/cs she/pps settled/vbd herself/ppl ,/, asked/vbd quickly/rb how/wrb Miss/np Jenny/np and/cc the/at babies/nns were/bed getting/vbg on/rp ./.\\n\\n\\n\\t``/`` See/vb for/in yourself/ppl ,/, Miss/np Zion/np ./.\\nIt/pps won't/md* take/vb a/at minute/nn ''/'' ./.\\nHe/pps swung/vbd in/rp through/in his/pp$ own/jj wide/jj gateway/nn ./.\\n``/`` Them's/dts+bez the/at purtiest/jjt babes/nns you/ppss ever/rb did/dod see/vb ,/, but/cc Miss/np Jen/np gets/vbz mighty/ql lonesome/jj ./.\\nShe'll/pps+md relish/vb the/at sight/nn of/in a/at friendly/jj face/nn ./.\\nMiss/np Kiz/np won't/md* care/vb your/pp$ comin'/nn ,/, will/md she/pps ''/'' ?/. ?/.\\n\\n\\n\\t``/`` Why/wrb of/in course/nn not/* ''/'' ,/, Zion/np said/vbd uncomfortably/rb ./.\\n\\n\\n\\n\\t``/`` He/pps must/md have/hv forgiven/vbn me/ppo ''/'' ,/, Henrietta/np murmured/vbd to/in the/at room/nn ./.\\nThe/at absolution/nn of/in Doaty's/np$ last/ap will/nn and/cc testament/nn was/bedz proof/nn enough/ap of/in that/dt ;/. ;/.\\nDoaty/np would/md never/rb have/hv left/vbn her/pp$ house/nn to/in a/at godless/jj woman/nn ./.\\n\\n\\n\\tShe/pps found/vbd herself/ppl wishing/vbg an/at old/jj wish/nn ,/, that/cs she/pps had/hvd told/vbn Doaty/np she/pps was/bedz running/vbg away/rb ,/, that/cs she/pps had/hvd left/vbn something/pn more/ap behind/in her/ppo than/cs the/at loving/vbg ,/, sorry/jj note/nn and/cc her/pp$ best/jjt garnet/nn pin/nn ./.\\nPerhaps/rb Doaty/np had/hvd guessed/vbn already/rb and/cc kept/vbn her/pp$ counsel/nn ./.\\n\\n\\n\\tHenrietta/np thought/vbd ,/, It's/pps+bez extraordinary/jj how/wrb much/ap she/pps always/rb knew/vbd about/in both/abx of/in us/ppo ./.\\nThere/ex had/hvd been/ben more/ap to/to know/vb about/in Hetty/np ,/, inevitably/rb ,/, and/cc most/ap of/in it/ppo unfavorable/jj ./.\\nAdelia/np was/bedz the/at good/jj one/pn ,/, or/cc ,/, if/cs not/* always/rb good/jj ,/, less/ql frequently/rb tempted/vbn ./.\\nTheir/pp$ childhood/nn would/md have/hv been/ben quite/ql circumspect/jj without/in Hetty's/np$ flair/nn for/in drama/nn ,/, especially/rb through/in the/at long/jj summers/nns ./.\\nIn/in winter/nn ,/, in/in the/at city/nn ,/, there/ex had/hvd been/ben the/at Maneret/np-tl School/nn-tl ,/, which/wdt taught/vbd excellently/rb with/in a/at kind/nn of/in austere/jj passion/nn for/in knowledge/nn ;/. ;/.\\nthere/ex had/hvd been/ben lessons/nns in/in French/np from/in a/at small/jj Polish/jj nobleman/nn with/in a/at really/ql profound/jj distaste/nn for/in his/pp$ pupils/nns ;/. ;/.\\nthere/ex had/hvd been/ben the/at dancing/vbg class/nn --/-- Miss/np Craddock/np ,/, thin/jj and/cc tireless/jj ,/, with/in her/pp$ supervising/vbg wand/nn and/cc her/pp$ everlasting/jj one-two-three/nn ,/, one-two-three/nn ./.\\nThere/ex had/hvd been/ben supper/nn parties/nns and/cc teas/nns ,/, fetes/nns and/cc little/ap balls/nns ,/, Mama/nn-tl small/jj and/cc pretty/jj and/cc gay/jj and/cc Papa/np enormously/ql jocular/jj ,/, enormously/rb possessive/jj ,/, the/at sun/nn around/in which/wdt the/at Blackwell/np planets/nns revolved/vbd ./.\\n\\n\\n\\tMama/nn-tl had/hvd died/vbn before/in the/at corruption/nn of/in the/at family/nn circle/nn ,/, the/at interruption/nn of/in Charles/np ./.\\nIt/pps was/bedz safe/jj to/to assume/vb that/cs Papa/np ,/, sighing/vbg heavily/rb ,/, had/hvd said/vbn many/ap times/nns to/in his/pp$ remaining/vbg daughter/nn ,/, ``/`` Thank/vb God/np your/pp$ poor/jj mother/nn was/bedz spared/vbn this/dt ''/'' ,/, and/cc indeed/rb it/pps might/md be/be true/jj that/cs it/pps had/hvd been/ben easier/jjr for/in Henrietta/np to/to leave/vb ,/, with/in her/pp$ hand/nn in/in Charles'/np$ hand/nn ,/, just/rb because/cs her/pp$ ``/`` poor/jj mother/nn ''/'' was/bedz gone/vbn already/rb and/cc would/md never/rb know/vb ./.\\nMama/nn-tl was/bedz vulnerable/jj ;/. ;/.\\none/pn had/hvd always/rb felt/vbn the/at need/nn to/to make/vb a/at safe/jj world/nn around/in her/ppo ./.\\n\\n\\n\\tBut/cc I/ppss would/md have/hv gone/vbn anyway/rb ,/, thought/vbd Henrietta/np ./.\\nShe/pps had/hvd always/rb been/ben able/jj to/to ignore/vb the/at moral/jj question/nn because/cs there/ex had/hvd been/ben no/at choice/nn ./.\\nOnly/rb at/in this/dt moment/nn --/-- perhaps/rb because/cs it/pps was/bedz before/in dawn/nn and/cc she/pps was/bedz lying/vbg in/in Doaty's/np$ bed/nn --/-- she/pps found/vbd herself/ppl examining/vbg how/wrb others/nns might/md regard/vb her/ppo ./.\\nPerhaps/rb they/ppss would/md argue/vb that/cs morality/nn consisted/vbd just/rb of/in that/dt ability/nn to/to see/vb a/at choice/nn ./.\\n\\n\\n\\tShe/pps turned/vbd on/in her/pp$ side/nn ,/, finding/vbg the/at idea/nn oppressive/jj ./.\\nIf/cs Adelia/np had/hvd felt/vbn about/in someone/pn as/cs Henrietta/np felt/vbd about/in Charles/np ,/, would/md she/pps have/hv run/vbn away/rb with/in him/ppo ?/. ?/.\\n\\n\\n\\tImpossible/jj to/to imagine/vb Adelia/np feeling/vbg so/rb about/in anyone/pn ./.\\nNo/at temptation/nn ,/, no/at sin/nn ./.\\n\\n\\n\\tNo/at temptation/nn ,/, no/at virtue/nn ?/. ?/.\\n\\n\\n\\tA/at curious/jj thought/nn to/to end/vb a/at curious/jj night/nn ./.\\nThe/at birds/nns were/bed really/ql awake/rb now/rb in/in a/at colloquy/nn of/in music/nn ,/, and/cc light/nn was/bedz beginning/vbg to/to creep/vb across/in the/at room/nn ,/, touching/vbg sill/nn and/cc door/nn ,/, table/nn and/cc chair/nn and/cc all/abn of/in Doaty's/np$ flowers/nns in/in their/pp$ artificial/jj blossom/nn and/cc leaf/nn ./.\\n\\n\\n\\tBefore/in anything/pn else/rb ,/, she/pps would/md go/vb to/in Doaty's/np$ grave/nn with/in flowers/nns from/in Doaty's/np$ forgotten/vbn garden/nn ./.\\nEverything/pn must/md wait/vb upon/in this/dt mission/nn ,/, this/dt sentimental/jj duty/nn of/in a/at pilgrim/nn whose/wp$ nature/nn avoided/vbd graveyards/nns ./.\\nShe/pps closed/vbd her/pp$ eyes/nns ,/, remembering/vbg the/at small/jj French/jj cemetery/nn ,/, enclosed/vbn by/in stone/nn walls/nns ./.\\nIt/pps had/hvd always/rb seemed/vbn to/to rain/vb there/rb ,/, and/cc even/rb the/at grass/nn was/bedz gray/jj ./.\\n\\n\\n\\tAfter/in the/at sad/jj impatient/jj moment/nn ,/, waiting/vbg for/in comfort/nn which/wdt could/md not/* come/vb ,/, she/pps slipped/vbd out/in of/in bed/nn and/cc went/vbd to/in the/at open/jj window/nn ./.\\nThe/at garden/nn below/rb was/bedz lacy/jj with/in dew/nn and/cc enchanting/jj in/in its/pp$ small/jj wildness/nn ./.\\nLeaning/vbg out/rp ,/, she/pps could/md see/vb a/at tangle/nn of/in rosebush/nn and/cc honeysuckle/nn ,/, one/cd not/* quite/rb come/vbn to/in bloom/nn ,/, one/cd just/rb beyond/in it/ppo ./.\\nOn/in a/at thrusting/vbg spray/nn thick/jj with/in thorns/nns and/cc dewdrops/nns and/cc swelling/vbg pink/jj buds/nns ,/, like/cs a/at summer/nn Valentine/np ,/, a/at bird/nn balanced/vbd and/cc sang/vbd ,/, nondescriptly/rb brown/jj and/cc alive/jj with/in its/pp$ own/jj music/nn ,/, a/at little/ap engine/nn of/in song/nn ./.\\n\\n\\n\\tIt/pps was/bedz so/ql pretty/jj and/cc artless/jj that/cs she/pps felt/vbd like/in a/at child/nn again/rb and/cc would/md have/hv enjoyed/vbn running/vbg out/rp barefoot/rb to/to play/vb on/in the/at wet/jj grass/nn with/in all/abn the/at growing/vbg things/nns ,/, but/cc Doaty/np never/rb permitted/vbd bare/jj feet/nns and/cc she/pps was/bedz decidedly/rb not/* a/at child/nn but/cc une/fw-at femme/fw-nn d'un/fw-in+at certain/fw-jj age/fw-nn ./.\\nFeeling/vbg suddenly/rb neat/jj and/cc subdued/vbn ,/, she/pps dressed/vbd quite/ql soberly/rb and/cc went/vbd downstairs/rb ./.\\n\\n\\n\\tRosa/np ,/, unbelievably/rb ,/, was/bedz not/* yet/rb up/rp and/cc about/rb ,/, reassurance/nn that/wps Rosa/np was/bedz human/jj ./.\\nFeeling/vbg protective/jj toward/in this/dt sleeping/vbg being/beg ,/, Henrietta/np found/vbd a/at yesterday/nr bun/nn and/cc milk/nn in/in a/at white/jj jug/nn ,/, a/at breakfast/nn which/wdt was/bedz somewhat/rb the/at equivalent/jj of/in going/vbg barefoot/rb ./.\\n\\n\\n\\tOutside/rb ,/, the/at garden/nn ,/, the/at tame/jj wilderness/nn ,/, yielded/vbd a/at patchwork/nn bouquet/nn of/in daisies/nns ,/, sweet/jj william/nn ,/, scented/vbn stock/nn and/cc lady's/nn$ bedstraw/nn ,/, which/wdt she/pps tied/vbd with/in long/jj grasses/nns and/cc took/vbd back/rb to/to show/vb Rosa/np ,/, who/wps was/bedz now/rb stirring/vbg about/in the/at kitchen/nn and/cc haranguing/vbg Folly/nn-tl ./.\\nThe/at poodle/nn came/vbd gleefully/rb to/in Henrietta/np and/cc begged/vbd for/in the/at flowers/nns ,/, supplicating/vbg the/at air/nn with/in prayerful/jj forepaws/nns ./.\\n\\n\\n\\tHenrietta/np held/vbd her/pp$ bouquet/nn out/in of/in reach/nn and/cc said/vbd it/pps was/bedz for/in Doaty/np ./.\\n``/`` Rummaging/vbg in/in the/at dew/nn ''/'' ,/, said/vbd Rosa/np coldly/rb ./.\\n``/`` Go/vb change/vb your/pp$ shoes/nns before/cs you/ppss turn/vb around/rb ''/'' ./.\\nShe/pps sounded/vbd so/ql exactly/rb like/cs Doaty/np that/cs Henrietta/np obeyed/vbd her/ppo under/in the/at clear/jj impression/nn that/cs she/pps could/md either/cc comply/vb or/cc stay/vb home/nr ./.\\nFolly/nn-tl danced/vbd ,/, eager/jj for/in whatever/wdt lay/vbd beyond/in the/at door/nn ./.\\n\\n\\n\\tTo/in a/at Blackwell/np ,/, there/ex was/bedz only/rb one/cd church/nn ./.\\nThe/at cemetery/nn slumbered/vbd just/rb behind/in it/ppo ,/, and/cc the/at way/nn lay/vbd through/in the/at village/nn and/cc close/rb to/in the/at sea/nn ./.\\nFor/in the/at first/od time/nn in/in thirty/cd years/nns ,/, Henrietta/np walked/vbd down/in the/at narrow/jj street/nn with/in its/pp$ shuttered/vbn shops/nns just/rb stirring/vbg and/cc its/pp$ inhabitants/nns eying/vbg her/ppo with/in the/at frankest/jjt curiosity/nn ./.\\nShe/pps smiled/vbd and/cc bowed/vbd ,/, recalling/vbg the/at princess-in-a-carriage/nn feeling/nn she/pps had/hvd enjoyed/vbn when/wrb she/pps was/bedz a/at child/nn ./.\\nNow/rb ,/, some/dti of/in the/at acknowledgments/nns were/bed cautious/jj ,/, but/cc all/abn were/bed interested/vbn ./.\\n\\n\\n\\tAn/at old/jj man/nn ,/, sitting/vbg against/in the/at wall/nn of/in a/at cottage/nn and/cc waiting/vbg for/in the/at sun/nn to/to find/vb him/ppo ,/, gave/vbd her/ppo a/at more/ap than/in reflective/jj look/nn as/cs she/pps passed/vbd ,/, the/at sap/nn still/rb plainly/rb rising/vbg in/in his/pp$ branches/nns ./.\\nOn/in an/at impulse/nn ,/, she/pps turned/vbd back/rb and/cc said/vbd good/jj morning/nn ./.\\n\\n\\n\\tHe/pps cupped/vbd his/pp$ ear/nn and/cc shook/vbd his/pp$ head/nn at/in her/pp$ repetition/nn ,/, announcing/vbg in/in a/at nettled/vbn way/nn that/cs he/pps had/hvd heard/vbn her/ppo the/at first/od time/nn ./.\\nHe/pps then/rb offered/vbd his/pp$ own/jj estimate/nn of/in the/at weather/nn ,/, which/wdt was/bedz unenthusiastic/jj ./.\\n``/`` Summer's/nn+hvz been/ben slow/jj to/to come/vb ''/'' ,/, he/pps said/vbd ./.\\n``/`` It's/pps+bez my/pp$ dryin'/vbg out/rp time/nn ''/'' ./.\\nHe/pps scowled/vbd at/in her/pp$ flowers/nns ./.\\n\\n\\n\\t``/`` I'm/ppss+bem taking/vbg them/ppo to/in the/at cemetery/nn ''/'' ,/, said/vbd Henrietta/np ,/, out/in of/in a/at vague/jj feeling/nn of/in hospitality/nn ./.\\n\\n\\n\\t``/`` They'll/ppss+md be/be takin'/vbg me/ppo next/rb ''/'' ,/, he/pps said/vbd pleasantly/rb ,/, ``/`` but/cc not/* so/ql soon's/rb+cs they/ppss plan/vb ./.\\nSee/vb half/abn of/in 'em/ppo in/in their/pp$ graves/nns before/cs I/ppss choose/vb my/pp$ own/jj coffin/nn ./.\\nIt's/pps+bez dryin'/vbg myself/ppl out/rp that/wps does/doz it/ppo ''/'' ./.\\nHe/pps regarded/vbd her/ppo with/in rising/vbg hope/nn ./.\\n``/`` You'd/ppss+md like/vb to/to hear/vb how/wrb I/ppss go/vb about/in it/ppo ''/'' ./.\\n\\n\\n\\t``/`` It's/pps+bez nice/jj of/in you/ppo ''/'' ,/, Henrietta/np said/vbd doubtfully/rb ./.\\n\\n\\n\\t``/`` Y're/ppss+ber welcome/jj ''/'' ./.\\nHe/pps straightened/vbd himself/ppl ,/, soldierly/jj against/in the/at wall/nn ,/, and/cc pulled/vbd his/pp$ sprawled/vbn feet/nns together/rb so/cs they/ppss stood/vbd side/nn by/in side/nn in/in their/pp$ old/jj boots/nns ./.\\nHis/pp$ stick/nn ceased/vbd to/to be/be a/at thing/nn to/to rest/vb his/pp$ chin/nn on/in and/cc became/vbd a/at pointer/nn for/in emphasizing/vbg the/at finer/jjr aspects/nns of/in his/pp$ text/nn ./.\\n``/`` Every/at month/nn ,/, f'r/in three/cd days/nns ''/'' ,/, he/pps said/vbd happily/rb ,/, ``/`` I/ppss take/vb no/at water/nn into/in my/pp$ system/nn ,/, no/at water/nn whatsoever/wps ./.\\nIt/pps rests/vbz the/at tissues/nns ''/'' ./.\\n\\n\\n\\tHenrietta/np murmured/vbd that/cs she/pps could/md quite/abl see/vb how/wrb it/pps would/md ,/, and/cc he/pps nodded/vbd approval/nn of/in her/pp$ womanly/jj good/jj sense/nn ./.\\n``/`` Rests/vbz the/at tissues/nns ''/'' ,/, he/pps said/vbd ,/, ``/`` and/cc pacifies/vbz the/at system/nn ./.\\nMy/pp$ dad/nn did/dod it/ppo ,/, and/cc he/pps lived/vbd to/in a/at great/jj age/nn ''/'' ./.\\nHe/pps looked/vbd up/rp at/in her/ppo sharply/rb ./.\\n``/`` Don't/do* remember/vb ,/, do/do you/ppo ''/'' ?/. ?/.\\n\\n\\n\\tShe/pps did/dod suddenly/rb ,/, through/in the/at link/nn of/in memory/nn with/in his/pp$ father/nn ,/, old/jj Titus/np ,/, who/wps must/md have/hv been/ben in/in his/pp$ nineties/nns when/wrb Henrietta/np ran/vbd away/rb ./.\\nNext/in to/in the/at Blackwells/nps ,/, Titus/np had/hvd owned/vbn the/at island/nn most/rbt ,/, and/cc she/pps and/cc Adelia/np had/hvd often/rb stood/vbn in/in front/nn of/in him/ppo ,/, silenced/vbn by/in his/pp$ terrible/jj years/nns --/-- a/at scanty/jj man/nn with/in a/at thin/jj beard/nn and/cc very/ql deep-set/jj blue/jj eyes/nns like/cs a/at mariner/nn ,/, more/ql aged/vbn than/cs possible/jj ./.\\nHe/pps had/hvd never/rb spoken/vbn once/rb to/in the/at awed/vbn sisters/nns ,/, but/cc his/pp$ son/nn had/hvd been/ben friendly/jj ,/, a/at big/jj fellow/nn of/in fifty/cd or/cc more/ap ,/, a/at fishing-boat/nn captain/nn and/cc powerful/jj like/cs the/at sea/nn ./.\\nIt/pps must/md be/be that/cs son/nn who/wps sat/vbd before/in her/ppo now/rb ,/, shriveled/vbn to/in half/abn his/pp$ size/nn and/cc half/abn his/pp$ senses/nns ./.\\n\\n\\n\\tShe/pps said/vbd gently/rb ,/, ``/`` Of/in course/nn I/ppss remember/vb you/ppo ''/'' ./.\\n\\n\\n\\t``/`` Not/* so/ql well's/rb+cs I/ppss remember/vb you/ppo ''/'' ,/, he/pps said/vbd ./.\\n``/`` Y're/ppss+ber the/at young/jj Blackwell/np woman/nn ./.\\nRan/vbd away/rb on/in a/at black/jj night/nn with/in a/at lawful/jj wedded/vbn man/nn ./.\\nI/ppss know/vb all/abn about/in you/ppo ''/'' ./.\\n\\n\\n\\t``/`` You/ppss do/do seem/vb to/to ''/'' ,/, said/vbd Henrietta/np ,/, impressed/vbn ./.\\n\\n\\n\\t``/`` Can't/md* blame/vb a/at man/nn for/in leavin'/vbg his/pp$ wife/nn ''/'' ,/, he/pps said/vbd quite/ql cheerfully/rb ./.\\n``/`` Left/vbd mine/pp$$ many/abn a/at time/nn ,/, only/rb she/pps never/rb knew/vbd it/ppo ./.\\nMan/nn in/in a/at boat/nn ,/, there's/ex+bez a/at lot/nn of/in places/nns he/pps can/md put/vb in/rp at/in and/cc a/at lot/nn of/in reasons/nns he/pps can/md be/be away/rb for/in a/at bit/nn ./.\\nAny/dti harm/nn in/in that/dt ''/'' ?/. ?/.\\n\\n\\n\\t``/`` Probably/rb ''/'' ,/, said/vbd Henrietta/np dryly/rb ./.\\n\\n\\n\\tHe/pps gave/vbd a/at short/jj hard/jj laugh/nn and/cc looked/vbd at/in her/ppo knowingly/rb ./.\\n``/`` You'd/ppss+md be/be the/at one/pn to/to say/vb ''/'' ,/, he/pps observed/vbd ,/, and/cc she/pps found/vbd herself/ppl liking/vbg his/pp$ approval/nn none/pn too/ql well/rb ,/, but/cc she/pps could/md not/* defend/vb herself/ppl and/cc say/vb that/cs her/pp$ actions/nns were/bed ``/`` different/jj ''/'' ,/, since/cs all/abn actions/nns had/hvd their/pp$ own/jj laws/nns ./.\\nOnly/rb ,/, this/dt old/jj man's/nn$ connivance/nn was/bedz even/ql less/ap to/in her/pp$ taste/nn than/cs Selma/np Cotter's/np$ open/jj censure/nn ./.\\nWell/uh ,/, she/pps had/hvd not/* come/vbn back/rb to/in Great/jj-tl Island/nn-tl to/to be/be understood/vbn ,/, praised/vbn or/cc condemned/vbn ./.\\nShe/pps had/hvd come/vbn to/to make/vb her/pp$ peace/nn with/in the/at past/nn ,/, and/cc of/in that/dt past/nn this/dt ancient/nn of/in the/at earth/nn was/bedz only/rb a/at kind/nn of/in shadow/nn ./.\\n\\n\\n\\tShe/pps started/vbd to/to move/vb away/rb ,/, just/rb as/cs a/at woman/nn came/vbd out/in of/in the/at cottage/nn ,/, a/at big-boned/jj ,/, drab-haired/jj figure/nn with/in a/at clean/jj apron/nn tied/vbn over/in her/pp$ limp/jj print/nn dress/nn ./.\\nShe/pps smiled/vbd vaguely/rb at/in Henrietta/np and/cc spoke/vbd to/in the/at old/jj man/nn ./.\\n``/`` You've/ppss+hv not/* had/hvn your/pp$ breakfast/nn yet/rb ,/, gran'dad/np ''/'' ./.\\n\\n\\n\\t``/`` Y'r/pp$ dam'/jj porridge/nn is/bez no/at breakfast/nn ''/'' ,/, he/pps said/vbd ./.\\n``/`` Milk/nn and/cc sops/nns ''/'' !/. !/.\\nHe/pps beat/vbd the/at air/nn with/in his/pp$ stick/nn ,/, and/cc it/pps fell/vbd from/in his/pp$ claws/nns and/cc clattered/vbd on/in the/at stones/nns ./.\\n\\n\\n\\t``/`` He's/pps+bez lowly/jj today/nr ''/'' ,/, his/pp$ grand-daughter/nn said/vbd wearily/rb ,/, and/cc bent/vbd to/to pick/vb it/ppo up/rp ./.\\n``/`` He's/pps+hvz got/vbn this/dt idea/nn about/in drying/vbg out/rp ''/'' \\n\\n\\t``/`` It/pps ain't/bez* an/at idea/nn ''/'' !/. !/.\\n\\n\\n\\t``/`` If/cs it/pps ain't/bez* an/at idea/nn ''/'' ,/, she/pps said/vbd ,/, ``/`` how/wrb comes/vbz it/ppo you/ppss can/md drink/vb beer/nn but/cc not/* water/nn ''/'' ?/. ?/.\\n\\n\\n\\tHe/pps looked/vbd piously/rb to/in heaven/nn and/cc said/vbd ,/, ``/`` Beer/nn don't/do* affect/vb the/at tissues/nns none/pn ''/'' ,/, and/cc the/at ingenious/jj hypocrisy/nn of/in this/dt defense/nn pleased/vbd Henrietta/np so/rb that/cs she/pps forgave/vbd him/ppo his/pp$ stint/nn of/in malevolence/nn ./.\\n\\n\\n\\tHis/pp$ grand-daughter/nn sighed/vbd ./.\\n``/`` Come/vb on/rp ,/, do/do ./.\\nThe/at children/nns are/ber eating/vbg ,/, and/cc Miss/np Blackwell's/np+bez on/in her/pp$ way/nn somewheres/rb ''/'' ./.\\n\\n\\n\\t``/`` To/in the/at graveyard/nn ./.\\nWho/wps ain't/hvz* ''/'' ?/. ?/.\\n\\n\\n\\t``/`` Not/* me/ppo ./.\\nI've/ppss+hv got/vbn a/at day's/nn$ work/nn to/to do/do ./.\\n--/-- You'll/ppss+md be/be visiting/vbg Miss/np Doaty/np ,/, Ma'am/nn-tl ''/'' ?/. ?/.\\n\\n\\n\\tHenrietta/np nodded/vbd ./.\\nHow/wrb much/rb they/ppss knew/vbd about/in her/ppo !/. !/.\\n\\n\\n\\tThe/at woman/nn (/( she/pps must/md have/hv been/ben a/at tiny/jj baby/nn when/wrb Hetty/np and/cc Delia/np had/hvd stood/vbn arm/nn in/in arm/nn ,/, watching/vbg great/jj age/nn grow/vb small/jj )/) answered/vbd the/at nod/nn with/in her/pp$ own/jj ./.\\n``/`` God/np rest/vb her/pp$ soul/nn ,/, she/pps was/bedz a/at sweet/jj one/pn ./.\\nCome/vb on/rp now/rb ''/'' ./.\\nShe/pps put/vbd a/at strong/jj hand/nn under/in the/at old/jj man's/nn$ arm/nn and/cc lifted/vbd him/ppo up/rp ,/, patiently/rb ,/, with/in the/at gentle/jj cruelty/nn and/cc necessary/jj tyranny/nn that/cs the/at young/jj show/nn toward/in the/at very/ql old/jj ./.\\nHe/pps mumbled/vbd at/in her/ppo but/cc let/vbd himself/ppl be/be led/vbn off/rp inside/in the/at house/nn ,/, shuffling/vbg mightily/rb to/to make/vb it/ppo clear/jj how/wrb weak/jj and/cc aged/vbn he/pps was/bedz and/cc how/wrb he/pps was/bedz buffeted/vbn about/rb by/in those/dts who/wps still/rb had/hvd their/pp$ wicked/jj strength/nn ./.\\n\\n\\n\\tThere/ex was/bedz a/at gabble/nn of/in voices/nns from/in indoors/rb ,/, young/jj hungry/jj sounds/nns like/cs cats/nns after/in fish/nn ,/, and/cc a/at burst/nn of/in swearing/vbg from/in the/at old/jj man/nn ./.\\nHenrietta/np looked/vbd down/rp at/in her/pp$ bouquet/nn ,/, still/rb lively/rb with/in its/pp$ color/nn and/cc scent/nn ,/, and/cc set/vbd her/pp$ feet/nns on/in their/pp$ journey's/nn$ way/nn again/rb ,/, leaving/vbg the/at village/nn street/nn and/cc crossing/vbg the/at first/od field/nn ,/, Folly/nn-tl dancing/vbg ahead/rb of/in her/ppo ./.\\n\\n\\n\\tAt/in the/at edge/nn of/in the/at field/nn ,/, the/at wild/jj rolling/vbg land/nn took/vbd over/rp ,/, dotted/vbn with/in fat/jj round/jj bushes/nns like/cs sheep/nn ./.\\nThey/ppss were/bed covered/vbn with/in tiny/jj white/jj blossoms/nns ,/, their/pp$ scant/jj roots/nns clawing/vbg at/in the/at stony/jj ground/nn ,/, and/cc wild/jj birds/nns darted/vbd in/in and/cc about/in and/cc through/in them/ppo so/cs they/ppss were/bed nearly/rb alive/jj with/in the/at rustle/nn and/cc cry/nn ./.\\n\\n\\n\\tThe/at air/nn was/bedz full/jj of/in sounds/nns too/rb but/cc placid/jj ones/nns ,/, a/at terrestrial/jj humming/nn as/ql much/rb out/in of/in the/at earth/nn as/cs out/in of/in the/at blue/jj sky/nn ./.\\nShe/pps felt/vbd mindless/jj ,/, walking/vbg ,/, and/cc almost/rb easy/jj until/cs the/at church/nn spire/nn told/vbd her/ppo she/pps was/bedz near/in the/at cemetery/nn ,/, and/cc she/pps caught/vbd herself/ppl wondering/vbg what/wdt she/pps would/md say/vb to/in Doaty/np ./.\\n\\n\\n\\tBoth/abx church/nn and/cc graveyard/nn were/bed smaller/jjr than/cs she/pps remembered/vbd them/ppo (/( how/wrb many/ap things/nns had/hvd lessened/vbn while/cs she/pps was/bedz gone/vbn away/rb )/) but/cc the/at headstones/nns had/hvd grown/vbn so/ql thick/jj in/in thirty/cd years/nns that/cs to/to find/vb one/pn named/vbn ``/`` Dorothy/np Tredding/np ''/'' seemed/vbd suddenly/rb impossible/jj ./.\\n\\n\\n\\tShe/pps sat/vbd down/rp on/in the/at nearest/jjt ,/, fallen/vbn with/in age/nn and/cc gray/jj with/in sea-damp/nn ,/, her/pp$ fingers/nns tracing/vbg the/at indecipherable/jj carved/vbn letters/nns padded/vbn with/in green/jj moss/nn ./.\\nThe/at day's/nn$ sun/nn was/bedz gathering/vbg its/pp$ strength/nn in/in gold/nn ,/, and/cc she/pps wished/vbd she/pps had/hvd brought/vbn her/pp$ parasol/nn ,/, if/cs only/rb to/to shade/vb Doaty's/np$ flowers/nns ./.\\nA/at small/jj ,/, rock-carved/jj angel/nn watched/vbd her/ppo from/in a/at nearby/jj tomb/nn ,/, the/at only/ap angel/nn in/in the/at cemetery/nn ./.\\n\\n\\n\\tShe/pps remembered/vbd ,/, suddenly/rb ,/, a/at night/nn of/in savage/jj moonlight/nn and/cc scudding/vbg clouds/nns when/wrb she/pps and/cc Adelia/np ,/, having/hvg dared/vbn each/dt other/ap ,/, had/hvd stolen/vbn out/in of/in their/pp$ great/jj safe/jj house/nn and/cc come/vbn here/rb ,/, hand/nn in/in hand/nn ,/, hoping/vbg and/cc fearing/vbg ghosts/nns ./.\\n\\n\\n\\n\\tThe/at Momoyama/np family/nn had/hvd come/vbn from/in Miyagi/np-tl Prefecture/nn-tl ,/, in/in the/at northeast/nr of/in the/at main/nn Japanese/jj island/nn of/in Honshu/np ,/, where/wrb there/ex are/ber still/rb traces/nns of/in the/at mysterious/jj Ainu/np strain/nn ./.\\nThe/at Ainus/nps were/bed a/at primitive/jj people/nns ,/, already/rb living/vbg on/in the/at island/nn before/cs the/at principal/jjs ancestors/nns of/in the/at Japanese/nps came/vbd from/in Southern/jj-tl Asia/np-tl ./.\\nApparently/rb they/ppss were/bed of/in Caucasian/jj blood/nn ./.\\nThey/ppss had/hvd white/jj skins/nns and/cc blue/jj eyes/nns ;/. ;/.\\nall/abn their/pp$ men/nns were/bed bearded/vbn ,/, and/cc many/ap of/in their/pp$ women/nns were/bed beautiful/jj ./.\\nA/at pitiful/jj few/ap of/in them/ppo are/ber left/vbn now/rb ,/, to/to subsist/vb mainly/rb on/in the/at tourist/nn trade/nn and/cc to/to sing/vb their/pp$ ancient/jj tribal/jj chants/nns ,/, which/wdt have/hv the/at same/ap haunting/jj sadness/nn as/cs the/at laments/nns of/in the/at American/jj-tl Indians/nps-tl ./.\\nMost/ap of/in them/ppo have/hv been/ben assimilated/vbn ,/, but/cc sometimes/rb a/at man/nn in/in Miyagi/np or/cc Akita/np prefectures/nns is/bez much/ql more/ql hairy/jj than/cs the/at average/jj Japanese/np ,/, and/cc occasionally/rb a/at girl/nn will/md be/be strikingly/rb lovely/jj ,/, her/pp$ coloring/nn warmed/vbn and/cc improved/vbn by/in a/at little/ap of/in the/at tawny/jj honey-in-the-sun/jj tint/nn of/in the/at invaders/nns from/in the/at South/nr-tl ./.\\n\\n\\n\\tTommy/np Momoyama/np was/bedz one/pn of/in these/dts fortunate/jj occasions/nns ./.\\nShe/pps was/bedz taller/jjr than/cs most/ap Japanese/jj girls/nns ,/, and/cc had/hvd the/at exquisitely/rb willowy/jj form/nn of/in the/at Japanese/jj girl/nn who/wps is/bez lucky/jj enough/qlp to/to be/be tall/jj ./.\\nHer/pp$ nose/nn was/bedz higher/jjr of/in bridge/nn ,/, her/pp$ complexion/nn so/ql pale/jj as/cs to/to be/be quite/ql susceptible/jj to/in sunburn/nn ,/, and/cc the/at fish/nn and/cc vegetable/nn diet/nn of/in her/pp$ forebears/nns had/hvd given/vbn her/ppo teeth/nns that/wps were/bed white/jj and/cc regular/jj and/cc strong/jj ./.\\nHer/pp$ mouth/nn ,/, soft/jj and/cc full/jj ,/, was/bedz something/pn for/in any/dti man/nn to/to dream/vb about/rb ./.\\nShe/pps had/hvd black/jj eyes/nns ,/, long/jj and/cc intriguingly/rb tilted/vbn ,/, and/cc the/at way/nn she/pps walked/vbd was/bedz melody/nn ./.\\n\\n\\n\\tShe/pps had/hvd been/ben in/in Japan/np just/rb one/cd week/nn ./.\\nIt/pps was/bedz an/at alien/jj land/nn ,/, and/cc she/pps hated/vbd it/ppo intensely/rb ;/. ;/.\\nshe/pps was/bedz already/rb considering/vbg putting/vbg in/rp rebellious/jj requests/nns for/in duty/nn at/in San/np Diego/np ,/, Bremerton/np ,/, the/at Great/jj-tl Lakes/nns-tl ,/, Pensacola/np --/-- any/dti place/nn the/at Navy/nn-tl had/hvd a/at hospital/nn --/-- with/in a/at threat/nn to/to resign/vb her/pp$ commission/nn if/cs the/at request/nn were/bed not/* granted/vbn ./.\\nAnywhere/rb would/md be/be better/jjr than/cs the/at land/nn of/in her/pp$ ancestors/nns ./.\\n\\n\\n\\tThere/ex was/bedz nothing/pn wrong/jj with/in her/pp$ job/nn ./.\\nTommy/np had/hvd been/ben assigned/vbn to/in the/at psychopathic/jj ward/nn ./.\\nThere/ex were/bed no/at depressingly/rb serious/jj cases/nns :/: the/at ward/nn doctor/nn sometimes/rb teamed/vbd up/rp with/in the/at chaplain/nn to/to serve/vb as/cs a/at marriage/nn counselor/nn --/-- sometimes/rb the/at Navy/nn-tl sent/vbd people/nns back/vb to/in the/at States/nns-tl to/to preserve/vb a/at marriage/nn --/-- but/cc mental/jj health/nn as/in a/at rule/nn was/bedz very/ql high/jj ./.\\nAt/in present/jj the/at doctor's/nn$ main/jjs concern/nn was/bedz in/in seeing/vbg to/in it/ppo that/cs Japanese/jj salvage/nn firms/nns were/bed not/* permitted/vbn to/to operate/vb on/in the/at hulks/nns of/in warships/nns sunk/vbn too/ql close/rb inshore/rb ,/, because/cs the/at work/nn involved/vbd setting/vbg off/rp nerve-shattering/jj blasts/nns at/in all/abn hours/nns ./.\\nTommy/np was/bedz interested/vbn in/in psychiatry/nn ,/, because/cs there/ex was/bedz much/ap an/at understanding/vbg nurse/nn could/md do/do to/to help/vb the/at patients/nns ./.\\n\\n\\n\\tBut/cc she/pps suffered/vbd in/in her/pp$ off-duty/jj hours/nns ./.\\nSuch/jj as/cs now/rb ,/, when/wrb she/pps sat/vbd at/in a/at table/nn in/in the/at coffee/nn shop/nn at/in the/at Officers'/nns$-tl Club/nn-tl ,/, having/hvg coffee/nn and/cc a/at hamburger/nn to/to sustain/vb her/ppo until/in dinnertime/nn ./.\\nShe/pps had/hvd changed/vbn into/in a/at cocktail/nn dress/nn ,/, and/cc the/at whole/jj evening/nn should/md have/hv been/ben before/in her/ppo ,/, but/cc already/rb she/pps was/bedz beginning/vbg to/to get/vb a/at tight/jj feeling/nn at/in the/at back/nn of/in her/pp$ neck/nn ./.\\nThis/dt was/bedz one/cd of/in the/at Navy's/nn$-tl crossroads/nns --/-- you/ppss find/vb them/ppo all/abn around/in the/at world/nn ./.\\nShips/nns from/in the/at West/jj-tl Coast/nn-tl rotated/vbd on/in six-month/jj tours/nns of/in duty/nn with/in the/at Seventh/od-tl Fleet/nn-tl ,/, and/cc Yokosuka/np was/bedz the/at Seventh/od-tl Fleet's/nn$-tl principal/jjs port/nn for/in maintenance/nn ,/, upkeep/nn and/cc shore/nn liberty/nn ./.\\nSooner/rbr or/cc later/rbr ,/, all/abn the/at gray/jj Navy/nn-tl ships/nns came/vbd in/in here/rb ;/. ;/.\\nif/cs Tommy/np sat/vbd long/jj enough/qlp ,/, she/pps would/md be/be sure/jj to/to see/vb all/abn the/at young/jj officers/nns she/pps had/hvd met/vbn in/in San/np Diego/np and/cc Long/jj-tl Beach/nn-tl ./.\\nAnd/cc she/pps wanted/vbd desperately/rb to/to see/vb someone/pn she/pps had/hvd known/vbn back/rb there/rb ./.\\n\\n\\n\\tShe/pps felt/vbd ,/, rather/in than/cs saw/vbd ,/, the/at approach/nn of/in the/at good-looking/jj young/jj man/nn ./.\\nHe/pps came/vbd through/rp from/in the/at Fleet/nn-tl Bar/nn-tl ,/, which/wdt was/bedz stag/nn ,/, with/in the/at ice/nn cubes/nns tinkling/vbg in/in a/at glass/nn he/pps carried/vbd ./.\\nWhen/wrb he/pps saw/vbd Tommy/np sitting/vbg alone/rb ,/, the/at tinkling/vbg sound/nn stopped/vbd ./.\\nHe/pps was/bedz perhaps/rb a/at trifle/nn tipsy/jj ,/, having/hvg been/ben long/jj at/in sea/nn where/wrb drinking/vbg is/bez not/* permitted/vbn ,/, and/cc consequently/rb out/in of/in practice/nn ;/. ;/.\\nhe/pps wore/vbd a/at brown/jj tweed/nn sports/nns jacket/nn obviously/rb tailored/vbn in/in Hong/np Kong/np ,/, and/cc he/pps was/bedz of/in an/at age/nn that/wps marked/vbd him/ppo as/cs a/at lieutenant/nn ./.\\nProbably/rb off/in one/cd of/in the/at carriers/nns --/-- an/at aviator/nn ./.\\nThere/ex was/bedz a/at fifty-fifty/jj chance/nn ,/, perhaps/rb ,/, that/cs he/pps would/md be/be unmarried/jj ,/, and/cc an/at even/ql more/ql slender/jj chance/nn that/cs his/pp$ approach/nn would/md be/be different/jj ./.\\nJapan/np did/dod something/pn to/in a/at man/nn --/-- and/cc it/pps wasn't/bedz* just/rb Japan/np ,/, either/rb ,/, because/cs the/at same/ap thing/nn applied/vbd anywhere/rb overseas/rb ./.\\nIt/pps was/bedz as/cs if/cs foreign/jj duty/nn implied/vbd and/cc excused/vbd license/nn ;/. ;/.\\nit/pps intimated/vbd that/cs the/at folks/nns at/in home/nr would/md never/rb know/vb about/in it/ppo ,/, and/cc ,/, therefore/rb ,/, why/wrb not/* ?/. ?/.\\n\\n\\n\\tThen/rb the/at young/jj man/nn in/in the/at brown/jj sports/nns jacket/nn spoke/vbd ,/, and/cc it/pps was/bedz no/rb different/jj ./.\\n\\n\\n\\t``/`` Harro/uh ,/, girl-san/nn ''/'' !/. !/.\\nHe/pps said/vbd ,/, turning/vbg on/rp what/wdt was/bedz meant/vbn to/to be/be charm/nn ./.\\n``/`` You/ppss catchee/vb boy-furiendo/nn ?/. ?/.\\nMaybe/rb you/ppss likee/vb date/nn with/in me/ppo ''/'' ?/. ?/.\\n\\n\\n\\t``/`` I/ppss beg/vb your/pp$ pardon/nn ''/'' !/. !/.\\nTommy/np said/vbd out/in of/in her/pp$ cold/jj rage/nn ./.\\n``/`` I/ppss don't/do* believe/vb I/ppss know/vb you/ppo ,/, and/cc I/ppss can't/md* understand/vb your/pp$ quaint/jj brand/nn of/in English/np --/-- it/pps was/bedz meant/vbn to/to be/be English/np ,/, wasn't/bedz* it/pps ''/'' ?/. ?/.\\n\\n\\n\\tThe/at nice-looking/jj young/jj officer/nn fell/vbd back/rb on/in his/pp$ heels/nns ,/, open-mouthed/jj and/cc blushing/vbg ./.\\nAt/in least/ap ,/, he/pps had/hvd the/at decency/nn to/to blush/vb ,/, she/pps thought/vbd ./.\\n\\n\\n\\t``/`` Oh/uh --/-- I'm/ppss+bem sorry/jj !/. !/.\\nYou/ppss see/vb ,/, I/ppss thought/vbd --/-- I/ppss mean/vb I/ppss really/rb had/hvd no/at idea/nn ''/'' --/-- \\n\\n\\t``/`` Oh/uh ,/, yes/rb --/-- you/ppss had/hvd ideas/nns ''/'' !/. !/.\\nTommy/np interrupted/vbd furiously/rb ./.\\n``/`` All/ql wrong/jj ones/nns ''/'' !/. !/.\\nThen/rb she/pps jerked/vbd her/pp$ thumb/nn toward/in the/at door/nn in/in a/at very/ql American/jj gesture/nn ,/, and/cc dropped/vbd into/in Navy/nn-tl slang/nn ./.\\n``/`` Take/vb off/rp ,/, fly-boy/nn ''/'' !/. !/.\\n\\n\\n\\t``/`` Uh/uh --/-- sorry/jj ''/'' !/. !/.\\nHe/pps muttered/vbd ,/, and/cc took/vbd off/rp ,/, obviously/rb feeling/vbg like/cs a/at fool/nn ./.\\nThe/at trouble/nn was/bedz that/cs there/ex was/bedz no/at lasting/vbg satisfaction/nn in/in this/dt for/in Tommy/np ./.\\nShe/pps felt/vbd like/cs a/at fool/nn ,/, too/rb ./.\\n\\n\\n\\tIt/pps hadn't/hvd* been/ben this/dt way/nn in/in college/nn ,/, or/cc in/in nurses'/nns$ training/nn ;/. ;/.\\nit/pps wasn't/bedz* this/dt way/nn in/in the/at hospital/nn at/in San/np Diego/np ./.\\nEverybody/pn had/hvd accepted/vbn her/ppo for/cs what/wdt she/pps was/bedz --/-- a/at very/ql charming/jj girl/nn ./.\\nNobody/pn had/hvd addressed/vbn her/ppo in/in broken/vbn English/np at/in any/dti of/in those/dts places/nns ,/, nobody/pn had/hvd suggested/vbn that/cs she/pps wasn't/bedz* American/jj ./.\\nThere/ex are/ber Spanish/jj girls/nns who/wps look/vb like/cs Tommy/np Momoyama/np ,/, brunettes/nns with/in a/at Moorish/jj hint/nn of/in the/at Orient/np in/in their/pp$ faces/nns ;/. ;/.\\nthere/ex are/ber beauties/nns from/in the/at Balkan/np states/nns who/wps are/ber similarly/rb endowed/vbn ,/, and/cc --/-- back/rb in/in the/at blessed/vbn United/vbn-tl States/nns-tl --/-- they/ppss were/bed regarded/vbn simply/rb as/cs pretty/jj women/nns ./.\\nNow/rb ,/, having/hvg been/ben sent/vbn halfway/rb around/in the/at world/nn on/in a/at job/nn she/pps had/hvd not/* asked/vbn for/in ,/, Tommy/np was/bedz being/beg humiliated/vbn at/in every/at turn/nn ./.\\n\\n\\n\\tShe/pps looked/vbd around/rb ,/, self-consciously/rb ./.\\nFour/cd little/jj Japanese/jj waitresses/nns were/bed murdering/vbg the/at English/np language/nn at/in the/at counter/nn --/-- Yuki/np Kobayashi/np happened/vbd to/to be/be one/pn of/in them/ppo ./.\\nEverybody/pn but/in Tommy/np seemed/vbd to/to think/vb it/pps was/bedz charming/jj when/wrb they/ppss called/vbd ,/, ``/`` Bifutek-san/np ''/'' !/. !/.\\nFor/in a/at steak/nn sandwich/nn ,/, or/cc ``/`` Kohi/np Futotsu/np ''/'' !/. !/.\\nFor/in one/cd cup/nn of/in coffee/nn ./.\\nTwo/cd other/ap Japanese/jj girls/nns were/bed sitting/vbg at/in the/at tables/nns ,/, both/abx quite/ql pretty/jj and/cc well/rb groomed/vbn ./.\\nOne/cd was/bedz with/in a/at whitehaired/jj and/cc doting/vbg lieutenant/nn commander/nn ;/. ;/.\\nthe/at other/ap was/bedz with/in her/ppo American/jj husband/nn and/cc their/pp$ exceptionally/ql appealing/jj children/nns ./.\\nSeeing/vbg these/dts did/dod nothing/pn for/in Tommy's/np$ mood/nn ./.\\nShe/pps told/vbd herself/ppl rebelliously/rb ,/, and/cc with/in pride/nn ,/, I/ppss am/bem an/at American/np !/. !/.\\n\\n\\n\\tAnd/cc so/rb she/pps was/bedz ,/, and/cc would/md remain/vb ./.\\nBut/cc she/pps was/bedz learning/vbg that/cs so/ql long/jj as/cs she/pps was/bedz in/in this/dt country/nn ,/, and/cc wore/vbd civilian/nn dress/nn in/in the/at Club/nn-tl ,/, there/ex would/md always/rb be/be transient/jj young/jj men/nns who/wps would/md approach/vb her/ppo with/in broken/vbn English/np ./.\\nThere/ex had/hvd been/ben occasions/nns when/wrb some/dti of/in the/at more/ql experienced/vbn had/hvd even/rb addressed/vbn her/ppo in/in what/wdt might/md have/hv been/ben perfectly/ql good/jj Japanese/np ./.\\nTommy/np wouldn't/md* know/vb ;/. ;/.\\nafter/cs coming/vbg to/in America/np ,/, her/pp$ parents/nns had/hvd spoken/vbn only/rb English/np ./.\\n\\n\\n\\tOne/cd thing/nn was/bedz becoming/vbg increasingly/rb sure/jj ./.\\nShe/pps had/hvd been/ben sent/vbn to/in the/at wrong/jj place/nn for/in duty/nn ./.\\nThere/ex was/bedz more/ap to/in service/nn in/in the/at Navy/nn-tl Nurse/nn-tl Corps/nn-tl than/cs the/at hours/nns in/in the/at ward/nn ./.\\nOne/pn had/hvd to/to have/hv friends/nns ,/, and/cc a/at congenial/jj life/nn in/in after-duty/jj hours/nns ./.\\n\\n\\n\\tNow/rb there/ex was/bedz raucous/jj male/nn singing/nn from/in the/at Fleet/nn-tl Bar/nn-tl ./.\\nIt/pps was/bedz terribly/rb off/in key/nn ,/, and/cc poorly/rb done/vbn ,/, and/cc Tommy/np could/md never/rb admit/vb to/in herself/ppl that/cs male/nn companionship/nn was/bedz a/at very/ql natural/jj and/cc important/jj thing/nn ,/, but/cc all/abn at/in once/cs she/pps felt/vbd lonesome/jj and/cc put-upon/jj ./.\\nShe/pps finished/vbd her/pp$ hamburger/nn and/cc drank/vbd her/pp$ coffee/nn and/cc paid/vbd her/pp$ check/nn ;/. ;/.\\nshe/pps got/vbd out/in of/in the/at coffee/nn shop/nn before/cs the/at incident/nn could/md be/be repeated/vbn ./.\\nEating/vbg while/cs angry/jj had/hvd given/vbn her/ppo a/at slight/jj indigestion/nn ./.\\nBack/rb in/in her/pp$ living/vbg quarters/nns at/in the/at hospital/nn she/pps took/vbd bicarbonate/nn of/in soda/nn ,/, and/cc sulked/vbd ./.\\n\\n\\n\\tThen/rb ,/, after/in a/at while/nn ,/, she/pps went/vbd to/in her/pp$ mirror/nn ./.\\nIt/pps was/bedz all/ql true/jj ./.\\nShe/pps certainly/rb looked/vbd Japanese/jj ,/, and/cc perhaps/rb she/pps could/md not/* really/rb blame/vb the/at young/jj men/nns ./.\\nAnd/cc ,/, still/rb ,/, they/ppss did/dod not/* have/hv to/to be/be so/ql crude/jj in/in their/pp$ approach/nn ./.\\n\\n\\n\\tThere/ex was/bedz a/at letter/nn to/to write/vb to/in her/pp$ mother/nn ,/, and/cc she/pps tried/vbd to/to make/vb its/pp$ tone/nn cheerful/jj ./.\\nShe/pps promised/vbd that/cs she/pps would/md soon/rb take/vb a/at few/ap day's/nn$ leave/nn and/cc visit/vb the/at uncle/nn she/pps had/hvd never/rb seen/vbn ,/, on/in the/at island/nn of/in Oyajima/np --/-- which/wdt was/bedz not/* very/ql far/rb from/in Yokosuka/np ./.\\nAnd/cc tomorrow/nr she/pps would/md take/vb time/nn to/to shop/vb for/in the/at kimono/nn her/pp$ mother/nn wanted/vbd to/to present/vb to/in the/at young/jj wife/nn of/in a/at faculty/nn member/nn as/cs a/at hostess/nn gown/nn ./.\\n\\n\\n\\tTommy/np ,/, of/in course/nn ,/, had/hvd never/rb heard/vbn of/in a/at kotowaza/fw-nn ,/, or/cc Japanese/jj proverb/nn ,/, which/wdt says/vbz ,/, ``/`` Tanin/fw-nns yori/fw-nns miuchi/fw-vb ''/'' ,/, and/cc is/bez literally/rb translated/vbn as/cs ``/`` Relatives/nns are/ber better/jjr than/cs strangers/nns ''/'' ./.\\n\\n\\n\\tActually/rb ,/, this/dt is/bez only/rb another/dt way/nn of/in saying/vbg that/cs blood/nn is/bez thicker/jjr than/cs water/nn ./.\\n\\n\\n\\n\\nDoc/np Doolittle's/np$ scheduled/vbn appearance/nn at/in captain's/nn$ mast/nn was/bedz a/at very/ql unusual/jj thing/nn ,/, because/cs the/at discipline/nn dispensed/vbn there/rb is/bez ordinarily/rb for/in the/at young/jj and/cc immature/jj ,/, and/cc a/at chief/nn is/bez naturally/rb expected/vbn to/to stay/vb off/in the/at report/nn ./.\\nBut/cc the/at beer/nn hall/nn riot/nn in/in Subic/np had/hvd been/ben unusual/jj ,/, too/rb ,/, and/cc Walt/np Perry/np was/bedz convinced/vbn that/cs Doc/np had/hvd started/vbn it/ppo through/in some/dti expert/jj tactics/nns in/in rabble/nn rousing/vbg ./.\\nJust/rb why/wrb anybody/pn should/md wish/vb to/to start/vb a/at riot/nn the/at executive/nn officer/nn didn't/dod* know/vb ./.\\nIn/in his/pp$ opinion/nn ,/, Doc/np had/hvd not/* grown/vbn up/rp ./.\\n\\n\\n\\tThe/at lieutenant/nn was/bedz not/* entirely/ql wrong/jj in/in the/at belief/nn ./.\\nThere/ex had/hvd never/rb been/ben a/at good/jj reason/nn for/in Doc/np Doolittle/np to/to grow/vb up/rp ./.\\nHe/pps had/hvd come/vbn into/in the/at Navy/nn-tl too/ql young/jj ,/, with/in the/at image/nn of/in the/at fun-loving/jj Guns/nns-tl Appleby/np before/in him/ppo ./.\\nThe/at war/nn found/vbd him/ppo much/ql too/ql early/rb ,/, and/cc its/pp$ perils/nns --/-- and/cc especially/rb its/pp$ awful/jj boredom/nn --/-- were/bed best/rbt forgotten/vbn in/in horseplay/nn and/cc elaborate/jj practical/jj jokes/nns ,/, and/cc even/ql now/rb Doc/np had/hvd never/rb found/vbn any/dti stabilizing/vbg ,/, sobering/vbg influence/nn ./.\\nHe/pps remained/vbd young/jj at/in heart/nn ,/, with/in an/at overdeveloped/vbn sense/nn of/in humor/nn ./.\\nHe/pps wisecracked/vbd about/in the/at captain's/nn$ indoctrination/nn of/in new/jj men/nns ,/, took/vbd great/jj delight/nn in/in slaughtering/vbg cockroaches/nns with/in ethyl/nn chloride/nn ,/, and/cc gave/vbd no/at thought/nn for/in tomorrow/nr ./.\\nHe/pps was/bedz doing/vbg thirty/cd years/nns ,/, and/cc the/at Navy/nn-tl would/md take/vb care/nn of/in him/ppo ./.\\nThe/at job/nn security/nn enjoyed/vbn by/in Doc/np Doolittle/np ,/, and/cc nearly/rb all/abn members/nns of/in the/at Armed/vbn-tl Forces/nns-tl ,/, is/bez a/at wonderful/jj thing/nn ./.\\nActually/rb ,/, all/abn a/at man/nn in/in uniform/nn has/hvz to/to do/do is/bez to/to get/vb by/rb ./.\\nHe/pps may/md not/* rise/vb to/in the/at heights/nns ,/, but/cc he/pps can/md get/vb by/rb ,/, and/cc eventually/rb be/be retired/vbn ./.\\n\\n\\n\\tDoc/np had/hvd been/ben under/in restriction/nn to/in the/at ship/nn since/cs the/at Bustard/np left/vbd Subic/np ./.\\nThis/dt deprived/vbd him/ppo of/in liberty/nn in/in Hong/np Kong/np ,/, but/cc he/pps told/vbd Boats/np McCafferty/np that/cs Hong/np Kong/np was/bedz a/at book/nn he/pps had/hvd read/vbn before/rb ,/, and/cc the/at Navy/nn-tl would/md always/rb bring/vb him/ppo there/rb again/rb ,/, some/dti day/nn ./.\\nAt/in Yokosuka/np he/pps was/bedz restricted/vbn to/in the/at confines/nns of/in the/at Base/nn-tl because/cs Walt/np Perry/np ,/, being/beg thoughtful/jj ,/, knew/vbd that/cs Doc/np might/md have/hv to/to draw/vb some/dti medical/jj supplies/nns from/in the/at hospital/nn or/cc the/at Supply/nn-tl Base/nn-tl ./.\\nThis/dt gave/vbd Doc/np the/at whole/jj range/nn of/in the/at naval/jj establishment/nn ,/, and/cc suited/vbd him/ppo quite/ql well/rb ./.\\nThere/ex were/bed two/cd things/nns he/pps wanted/vbd to/to do/do :/: inspect/vb one/cd of/in the/at many/ap caves/nns that/wps had/hvd been/ben dug/vbn into/in the/at hills/nns on/in the/at Naval/jj-tl Base/nn-tl ,/, and/cc visit/vb an/at old/jj shipmate/nn ./.\\n\\n\\n\\tA/at telephone/nn line/nn had/hvd been/ben hooked/vbn up/rp to/to connect/vb the/at ship/nn with/in the/at Base/nn-tl exchange/nn ./.\\nAfter/in supper/nn ,/, Doc/np called/vbd Whitey/np Gresham/np ,/, who/wps was/bedz now/rb a/at lieutenant/nn and/cc had/hvd a/at family/nn ./.\\n\\n\\n\\t``/`` Well/uh ,/, Doc/np ,/, you/ppss old/jj sonofabitch/nn ''/'' !/. !/.\\nWhitey/np exclaimed/vbd ,/, with/in true/jj affection/nn ./.\\n``/`` Come/vb over/rp and/cc have/hv a/at drink/nn ./.\\nWe/ppss live/vb down/rp by/in the/at Base/nn-tl commissary/nn ./.\\nGrab/vb a/at taxi/nn ''/'' ./.\\n\\n\\n\\t``/`` I'll/ppss+md be/be there/rb ,/, but/cc I'll/ppss+md walk/vb ''/'' ,/, Doc/np said/vbd ./.\\n``/`` I've/ppss+hv got/vbn to/to run/vb an/at errand/nn on/in the/at way/nn ./.\\nSee/vb you/ppo in/in about/rb an/at hour/nn ''/'' ./.\\n\\n\\n\\tHe/pps threw/vbd a/at smart/jj salute/nn at/in the/at gangway/nn ,/, went/vbd up/in the/at dock/nn ,/, and/cc turned/vbd down/in the/at wide/jj street/nn in/in front/nn of/in the/at Petty/jj-tl Officers'/nns$-tl Club/nn-tl ./.\\n\\n\\n\\n\\tHow/wrb ,/, he/pps wondered/vbd ,/, does/doz one/pn enjoy/vb one's/pn$ spare/jj time/nn ?/. ?/.\\nHe/pps considered/vbd some/dti interesting/jj excursion/nn but/cc he/pps was/bedz on/in the/at road/nn every/at day/nn from/in dawn/nn to/in dusk/nn ./.\\nThen/rb there/ex was/bedz exercise/nn ,/, boating/vbg and/cc hiking/vbg ,/, which/wdt was/bedz not/* only/rb good/jj for/in you/ppo but/cc also/rb made/vbd you/ppo more/ql virile/jj :/: the/at thought/nn of/in strenuous/jj activity/nn left/vbd him/ppo exhausted/vbn ./.\\nPerhaps/rb golf/nn ,/, with/in a/at fashionable/jj companion/nn --/-- but/cc he'd/pps+hvd lost/vbn his/pp$ clubs/nns ,/, hadn't/hvd* played/vbn in/in years/nns ./.\\nThere/ex was/bedz swimming/vbg over/in at/in the/at Riverside/np-tl Hotel/nn-tl ,/, but/cc his/pp$ skin/nn was/bedz so/ql white/jj he/pps looked/vbd like/cs the/at bottom/nn of/in a/at frog/nn ./.\\nPerhaps/rb a/at packing/vbg trip/nn into/in the/at Sierras/nps ,/, let/vb his/pp$ beard/nn grow/vb --/-- but/cc that/dt was/bedz too/ql stark/jj ./.\\nI/ppss could/md ,/, he/pps thought/vbd ,/, take/vb a/at long/jj walk/nn --/-- but/cc where/wrb ?/. ?/.\\n\\n\\n\\tThe/at telephone/nn rang/vbd ./.\\n\\n\\n\\t``/`` You/ppss missed/vbd it/ppo ''/'' ,/, Buzz's/np$ voice/nn said/vbd ,/, ``/`` You/ppss should/md have/hv gone/vbn over/rp to/in the/at Pagan/nn-tl Room/nn-tl with/in us/ppo ./.\\nWow/uh ./.\\nStrippers/nns ,/, but/cc scrumptious/jj ,/, and/cc Toodle/np Williams/np and/cc her/pp$ all-lesbian/jj band/nn ''/'' ./.\\n\\n\\n\\t``/`` Hi/uh ,/, Buzz/np ''/'' ,/, Owen/np said/vbd ./.\\n``/`` I/ppss went/vbd over/rp to/in the/at Willows/nns-tl and/cc dropped/vbd two/cd notes/nns ''/'' ./.\\n\\n\\n\\t``/`` Tough/jj ''/'' ,/, Buzz/np said/vbd ,/, ``/`` Listen/vb ,/, we're/ppss+ber having/hvg a/at stag/nn dinner/nn over/rp at/in the/at Pagan/nn-tl Room/nn-tl on/in Friday/nr ./.\\nImagine/vb a/at stag/nn dinner/nn with/in Toodle/np Williams/np ''/'' ./.\\nHe/pps laughed/vbd and/cc laughed/vbd ./.\\n\\n\\n\\tOwen/np wanted/vbd to/to be/be pleasant/jj because/cs Buzz/np worked/vbd the/at territory/nn next/in to/in his/pp$$ ,/, but/cc he/pps hadn't/hvd* come/vbn to/in Reno/np for/in stag/nn dinners/nns ./.\\n``/`` Thanks/nns ''/'' ,/, Owen/np said/vbd ,/, ``/`` but/cc Friday/nr is/bez a/at long/jj way/nn off/rp and/cc anything/pn can/md happen/vb ''/'' ./.\\n\\n\\n\\tBuzz/np was/bedz a/at tireless/jj instigator/nn who/wps never/rb let/vb his/pp$ victims/nns rest/vb ./.\\nWhen/wrb Owen/np was/bedz finally/rb rid/jj of/in him/ppo ,/, there/ex was/bedz a/at timid/jj rap/nn at/in the/at door/nn ./.\\n\\n\\n\\t``/`` Yes/rb ''/'' ,/, Owen/np called/vbd out/rp ./.\\n``/`` Yes/rb ''/'' ?/. ?/.\\n\\n\\n\\t``/`` I'm/ppss+bem Mrs./np Gertrude/np Parker/np ''/'' ,/, a/at soft/jj voice/nn explained/vbd ,/, ``/`` And/cc I'd/ppss+md like/vb to/to talk/vb to/in you/ppo for/in a/at few/ap minutes/nns ,/, please/vb ''/'' ./.\\n\\n\\n\\tAhah/uh ,/, he/pps thought/vbd ,/, a/at lush/jj divorcee/nn at/in last/ap ./.\\nProbably/rb saw/vbd me/ppo in/in the/at lobby/nn ./.\\nHe/pps was/bedz disappointed/vbn to/to find/vb a/at nervous/jj ,/, scrawny/jj woman/nn with/in a/at big/jj hat/nn standing/vbg at/in the/at door/nn ./.\\nShe/pps frowned/vbd at/in his/pp$ green/jj pajamas/nns with/in the/at yellow/jj moons/nns ./.\\n\\n\\n\\t``/`` How/wrb do/do you/ppo do/do ''/'' ?/. ?/.\\nShe/pps said/vbd ,/, semi-professionally/rb ./.\\n``/`` Our/pp$ church/nn is/bez sponsoring/vbg a/at group/nn of/in very/ql courageous/jj women/nns up/rp in/in Alaska/np ./.\\nWe/ppss call/vb them/ppo lay-sisters/nns and/cc they/ppss go/vb among/in the/at Eskimos/nps making/vbg friends/nns and/cc bringing/vbg the/at light/nn ./.\\nThey're/ppss+ber up/rp there/rb in/in that/dt freezing/vbg climate/nn and/cc all/abn of/in us/ppo have/hv to/to try/vb and/cc help/vb them/ppo ''/'' ./.\\n\\n\\n\\t``/`` Oh/uh ''/'' ?/. ?/.\\n\\n\\n\\t``/`` You/ppss see/vb ''/'' ,/, she/pps said/vbd ,/, looking/vbg past/in him/ppo into/in the/at room/nn ,/, where/wrb the/at highball/nn glasses/nns sparkled/vbd dully/rb in/in the/at bright/jj light/nn ,/, ``/`` you/ppss and/cc I/ppss can't/md* understand/vb the/at many/ap hardships/nns they/ppss have/hv to/to undergo/vb ''/'' ./.\\n\\n\\n\\t``/`` Why/wrb is/bez that/dt ''/'' ?/. ?/.\\n\\n\\n\\tShe/pps apparently/rb wasn't/bedz* satisfied/vbn with/in his/pp$ reaction/nn ./.\\nSmug/jj ,/, Owen/np thought/vbd ,/, smug/jj and/cc sappy/jj ./.\\nThere/ex was/bedz a/at slight/jj nervous/jj twitch/nn in/in the/at region/nn of/in her/pp$ left/jj eye/nn ./.\\nIt/pps gave/vbd her/ppo a/at lewd/jj ,/, winking/vbg effect/nn ./.\\n\\n\\n\\t``/`` Have/hv you/ppss ever/rb tried/vbn to/to reason/vb with/in an/at Eskimo/np ''/'' ?/. ?/.\\nShe/pps asked/vbd ,/, winking/vbg wildly/rb ./.\\n``/`` They/ppss are/ber a/at very/ql difficult/jj group/nn of/in people/nns ''/'' ./.\\n\\n\\n\\t``/`` I/ppss don't/do* know/vb much/ap about/in them/ppo ''/'' ,/, Owen/np admitted/vbd ,/, ``/`` but/cc I/ppss suppose/vb they/ppss have/hv their/pp$ own/jj religion/nn and/cc they/ppss probably/rb resent/vb outsiders/nns coming/vbg in/rp and/cc telling/vbg them/ppo what/wdt to/to do/do and/cc what/wdt not/* to/to do/do ''/'' ./.\\n\\n\\n\\tShe/pps smiled/vbd in/in a/at sickly-tolerant/jj fashion/nn ./.\\n``/`` You/ppss know/vb ,/, that's/dt+bez very/ql interesting/jj ./.\\nPeople/nns don't/do* know/vb how/wrb much/ap they/ppss give/vb away/rb about/in themselves/ppls by/in remarks/nns like/cs that/dt ./.\\nThe/at more/ap canvassing/nn I/ppss do/do ,/, the/at more/ap I/ppss note/vb how/wrb far/rb most/ap people/nns are/ber from/in their/pp$ personal/jj God/np ''/'' ./.\\n\\n\\n\\tForebearing/vbg ,/, Owen/np kept/vbd his/pp$ peace/nn ./.\\nWhat/wdt would/md happen/vb next/rb ?/. ?/.\\nThat/cs she/pps was/bedz out/rp for/in a/at touch/nn was/bedz certain/jj ,/, but/cc when/wrb did/dod she/pps get/vb to/in the/at pitch/nn ?/. ?/.\\nSeveral/ap people/nns passed/vbd in/in the/at hall/nn and/cc stared/vbd as/cs he/pps slowly/rb retreated/vbd ,/, trying/vbg to/to close/vb the/at door/nn a/at little/ap ,/, and/cc she/pps slowly/rb leaned/vbd toward/in him/ppo and/cc raised/vbd her/pp$ voice/nn ./.\\n\\n\\n\\t``/`` How/wrb did/dod you/ppo get/vb by/in the/at desk/nn ''/'' ?/. ?/.\\nHe/pps asked/vbd curiously/rb ./.\\n``/`` I'm/ppss+bem sure/jj the/at hotel/nn doesn't/doz* know/vb you're/ppss+ber wandering/vbg around/in the/at corridors/nns ,/, knocking/vbg on/in strangers'/nns$ doors/nns and/cc talking/vbg down/rp Eskimos/nps ''/'' ./.\\n\\n\\n\\t``/`` Oh/uh ,/, I/ppss just/rb come/vb once/rb a/at week/nn ./.\\nEvery/at day/nn I/ppss visit/vb a/at different/jj hotel/nn ./.\\nI/ppss feel/vb it's/pps+bez my/pp$ duty/nn ./.\\nI/ppss do/do this/dt work/vb all/abn on/in my/pp$ own/jj ,/, because/cs I/ppss understand/vb the/at difficulties/nns and/cc I/ppss want/vb to/to help/vb these/dts lay-sisters/nns ./.\\nDo/do you/ppss know/vb these/dts women/nns go/vb all/abn through/in Alaska/np ,/, and/cc they/ppss don't/do* have/hv the/at proper/jj facilities/nns ?/. ?/.\\nThey/ppss travel/vb in/in pairs/nns as/ql much/ap as/cs a/at hundred-and-fifty/cd miles/nns a/at day/nn ''/'' ./.\\n\\n\\n\\t``/`` Do/do you/ppss have/hv any/dti idea/nn how/wrb far/rb I/ppss travel/vb every/at day/nn ?/. ?/.\\nI/ppss have/hv the/at whole/jj Pacific/jj-tl Northwest/nr-tl ''/'' ./.\\nOwen/np was/bedz aware/jj he/pps was/bedz getting/vbg overexcited/vbn but/cc he/pps couldn't/md* help/vb himself/ppl ./.\\n\\n\\n\\tMrs./np Gertrude/np Parker/np drew/vbd back/rb ./.\\n``/`` That's/dt+bez hardly/rb a/at Christian/jj approach/nn ''/'' ,/, she/pps remonstrated/vbd ./.\\n``/`` You're/ppss+ber in/in the/at secular/jj world/nn ''/'' ./.\\n\\n\\n\\t``/`` I/ppss didn't/dod* say/vb it/pps was/bedz Christian/jj ./.\\nI/ppss don't/do* think/vb you'll/ppss+md find/vb many/ap active/jj Christian/jj salesmen/nns ./.\\nNot/* that/dt religion/nn isn't/bez* big/jj business/nn ;/. ;/.\\nthose/dts bibles/nns and/cc prayer/nn books/nns make/vb a/at lot/nn of/in money/nn for/in publishing/vbg houses/nns ,/, but/cc they/ppss don't/do* get/vb top/jjs personnel/nns ./.\\nOur/pp$ key/nn salesmen/nns are/ber in/in appliances/nns and/cc cosmetics/nns ''/'' ./.\\n\\n\\n\\t``/`` God/np ,/, I/ppss take/vb it/ppo ,/, plays/vbz no/at part/nn in/in this/dt ''/'' ,/, she/pps said/vbd waspishly/rb ./.\\n\\n\\n\\t``/`` God/np doesn't/doz* have/hv any/dti appliance/nn or/cc cosmetics/nns ''/'' ,/, he/pps said/vbd heatedly/rb before/cs he/pps caught/vbd himself/ppl ./.\\nIt/pps sounded/vbd silly/jj ;/. ;/.\\nwhy/wrb go/vb on/rp ?/. ?/.\\nMore/ap people/nns were/bed passing/vbg ;/. ;/.\\nhe/pps had/hvd to/to find/vb some/dti way/nn to/to close/vb this/dt impossible/jj conversation/nn ./.\\n\\n\\n\\t``/`` And/cc whiskey/nn ''/'' ,/, she/pps said/vbd ,/, smiling/vbg and/cc blinking/vbg at/in the/at highball/nn glasses/nns ./.\\n``/`` Don't/do* forget/vb whiskey/nn ;/. ;/.\\nit's/pps+bez such/abl a/at big/jj seller/nn ''/'' ./.\\n\\n\\n\\t``/`` You/ppss know/vb ''/'' ,/, he/pps said/vbd ,/, getting/vbg a/at grip/nn on/in himself/ppl ,/, ``/`` I/ppss think/vb you're/ppss+ber going/vbg to/to have/hv to/to excuse/vb me/ppo ./.\\nI/ppss have/hv an/at appointment/nn ''/'' ./.\\n\\n\\n\\t``/`` I/ppss can/md imagine/vb ''/'' ,/, she/pps said/vbd ./.\\n``/`` Probably/rb down/rp at/in the/at bar/nn ./.\\nBut/cc what/wdt do/do you/ppss want/vb to/to do/do about/in the/at lay-sisters/nns ?/. ?/.\\nThey/ppss must/md be/be freezing/vbg up/rp there/rb now/rb ./.\\nCan't/md* you/ppss help/vb them/ppo ''/'' ?/. ?/.\\n\\n\\n\\t``/`` Leave/vb a/at card/nn or/cc something/pn ./.\\nI'll/ppss+md think/vb it/ppo over/rp ''/'' ./.\\n\\n\\n\\t``/`` I/ppss have/hv no/at card/nn ''/'' ,/, she/pps said/vbd bitterly/rb ./.\\n``/`` You/ppss haven't/hv* been/ben listening/vbg to/in what/wdt I've/ppss+hv been/ben telling/vbg you/ppo ./.\\nI/ppss only/rb hope/vb my/pp$ talking/vbg to/in you/ppo has/hvz helped/vbn you/ppo a/at little/ap ,/, anyway/rb ,/, because/cs you/ppss need/vb spiritual/jj bucking-up/nn ''/'' ./.\\nShe/pps looked/vbd crestfallen/jj ,/, as/cs if/cs he/pps had/hvd somehow/rb disappointed/vbn the/at whole/jj human/nn race/nn ./.\\nShe/pps stood/vbd indecisively/rb for/in a/at moment/nn ,/, then/rb walked/vbd down/in the/at hall/nn ;/. ;/.\\nhe/pps heard/vbd her/ppo knocking/vbg on/in another/dt door/nn ./.\\n\\n\\n\\tIt/pps took/vbd him/ppo about/in fifteen/cd minutes/nns to/to calm/vb himself/ppl ;/. ;/.\\nthen/rb he/pps realized/vbd he/pps was/bedz hungry/jj ./.\\nHe/pps showered/vbd ,/, shaved/vbd ,/, dressed/vbd and/cc went/vbd down/rp to/in the/at dining/vbg room/nn for/in breakfast/nn ./.\\nOn/in the/at way/nn he/pps stopped/vbd at/in the/at desk/nn to/to receive/vb his/pp$ mail/nn ./.\\nThere/ex was/bedz a/at check/nn from/in his/pp$ company/nn ,/, and/cc the/at usual/jj enthusiastic/jj bulletins/nns on/in new/jj lines/nns they/ppss always/rb issued/vbd ./.\\nHis/pp$ lawyer/nn had/hvd sent/vbn him/ppo a/at statement/nn on/in his/pp$ overdue/jj alimony/nn ,/, and/cc there/ex was/bedz a/at letter/nn from/in the/at Collector/nn-tl of/in-tl Internal/jj-tl Revenue/nn-tl asking/vbg him/ppo to/to stop/vb in/in his/pp$ office/nn and/cc explain/vb last/ap year's/nn$ exemptions/nns ./.\\n\\n\\n\\tHe/pps ate/vbd breakfast/nn in/in a/at sullen/jj mood/nn ,/, but/cc afterwards/rb ,/, when/wrb he/pps walked/vbd out/rp onto/in Virginia/np-tl Street/nn-tl ,/, he/pps felt/vbd braced/vbn ./.\\nHe/pps looked/vbd off/rp to/in the/at crest/nn of/in the/at Sierras/nps ,/, still/rb white-topped/jj ;/. ;/.\\nthe/at glisten/nn of/in the/at Truckee/np-tl River/nn-tl made/vbd a/at wide/jj spangle/nn ./.\\nHe/pps felt/vbd suddenly/rb elated/vbn ,/, adventurous/jj ./.\\nWith/in any/dti luck/nn at/in all/abn he/pps could/md easily/rb find/vb a/at flowerpot/nn ./.\\n\\n\\n\\tAlthough/cs it/pps was/bedz only/rb three/cd o'clock/rb ,/, he/pps stopped/vbd in/rp at/in the/at Golden/jj-tl Calf/nn-tl ./.\\nThe/at tables/nns were/bed all/abn spinning/vbg ,/, the/at dice/nns rattling/vbg ,/, the/at bar/nn crowded/vbn ./.\\nJust/rb to/to test/vb himself/ppl ,/, he/pps played/vbd roulette/nn for/in quarters/nns on/in his/pp$ old/jj combination/nn ,/, five/cd and/cc seventeen/cd ,/, and/cc within/in an/at hour/nn ,/, he/pps had/hvd won/vbn ,/, surprisingly/rb ,/, twenty/cd dollars/nns ./.\\nThe/at way/nn was/bedz opening/vbg up/rp ;/. ;/.\\nwhen/wrb the/at management/nn brought/vbd around/rb champagne/nn ,/, the/at breakfast/nn settled/vbd its/pp$ whirling/nn around/rb in/in his/pp$ stomach/nn ./.\\n\\n\\n\\tThe/at Golden/jj-tl Calf/nn-tl was/bedz dimly/rb lit/vbn with/in shaded/vbn neon/nn ./.\\nThere/ex were/bed more/ap women/nns than/cs men/nns in/in the/at place/nn ,/, but/cc he/pps couldn't/md* find/vb a/at flowerpot/nn ./.\\nThey/ppss all/abn had/hvd the/at hard/jj look/nn of/in gamblers/nns who/wps had/hvd stopped/vbn dreaming/vbg ,/, who/wps automatically/rb turned/vbd the/at cards/nns ,/, hardly/rb caring/vbg what/wdt showed/vbd up/rp ./.\\nThe/at mural/nn around/in the/at wall/nn depicted/vbd early/jj settlers/nns in/in covered/vbn wagons/nns ,/, who/wps appeared/vbd much/ql more/ql animated/vbn than/cs the/at gamblers/nns ./.\\nThe/at women/nns had/hvd a/at bright/jj shining/vbg expectancy/nn as/cs they/ppss leaned/vbd out/rp from/in the/at wall/nn and/cc gazed/vbd splendidly/rb into/in the/at distance/nn ,/, while/cs the/at men/nns were/bed stern/jj but/cc hopeful/jj ./.\\nAll/abn ,/, of/in course/nn ,/, except/in the/at Donner/np party/nn who/wps were/bed bent/vbn on/in starving/vbg to/in death/nn ./.\\n\\n\\n\\t``/`` I/ppss wonder/vb if/cs they/ppss did/dod eat/vb each/dt other/ap at/in the/at end/nn ''/'' ,/, Owen/np mused/vbd ./.\\n\\n\\n\\tHe/pps sat/vbd down/rp next/in to/in a/at heavily-upholstered/jj blonde/nn ,/, but/cc she/pps was/bedz cleaned/vbn out/rp in/in twenty/cd minutes/nns ./.\\nShe/pps sighed/vbd a/at dirty/jj word/nn and/cc left/vbd ./.\\nOwen/np was/bedz surprised/vbn to/to see/vb Mrs./np Gertrude/np Parker/np playing/vbg the/at one-arm/nn bandits/nns that/wps were/bed cunningly/rb arranged/vbn by/in the/at entrance/nn ./.\\nShe/pps sat/vbd down/rp and/cc played/vbd two/cd slots/nns at/in once/rb ,/, looking/vbg grim/jj ,/, as/cs if/cs bested/vbn by/in mechanical/jj devices/nns ,/, and/cc Owen/np felt/vbd sorry/jj for/in the/at lay-sisters/nns depending/vbg on/in her/pp$ support/nn ./.\\n\\n\\n\\tA/at dried-up/jj cowboy/nn sat/vbd down/rp next/in to/in him/ppo in/in the/at blonde's/nn$ place/nn ./.\\nHe/pps was/bedz a/at little/ap more/ql authentic/jj than/cs usual/jj because/cs he/pps smelled/vbd slightly/rb of/in the/at stables/nns ./.\\n``/`` What/wdt you/ppss need/md is/bez a/at steady/jj martingale/nn ''/'' ,/, the/at cowboy/nn announced/vbd after/cs watching/vbg Owen/np play/vb ./.\\n``/`` You/ppss can't/md* build/vb on/in your/pp$ hit-and-miss/jj five-seventeen/cd ''/'' ./.\\n\\n\\n\\t``/`` What/wdt are/ber you/ppss playing/vbg ''/'' ?/. ?/.\\nOwen/np asked/vbd ./.\\n\\n\\n\\t``/`` I'm/ppss+bem just/rb logging/vbg ''/'' ,/, the/at cowboy/nn explained/vbd ./.\\n``/`` I/ppss keep/vb all/abn these/dts plays/nns in/in this/dt little/jj black/jj book/nn ,/, and/cc I/ppss watch/vb over/in a/at twelve-hour/jj period/nn to/to find/vb out/rp what/wdt numbers/nns are/ber repeating/vbg ./.\\nBut/cc roulette's/nn+bez not/* my/pp$ game/nn ./.\\nI'm/ppss+bem always/rb trying/vbg to/to find/vb a/at breaking/vbg table/nn in/in blackjack/nn ./.\\nIncidentally/rb ,/, I'm/ppss+bem pretty/ql famous/jj in/in these/dts parts/nns :/: I'm/ppss+bem called/vbn The/at-tl Wrangler/nn-tl ''/'' ./.\\n\\n\\n\\t``/`` Nice/jj to/to know/vb you/ppo ./.\\nDon't/do* you/ppo have/hv to/to spend/vb any/dti time/nn on/in your/pp$ ranch/nn ''/'' ?/. ?/.\\n\\n\\n\\t``/`` Well/uh ,/, of/in course/nn I/ppss do/do ./.\\nI'm/ppss+bem with/in the/at Bar-H/np ,/, pushing/vbg a/at horse/nn called/vbn Sparky/np ./.\\nHe's/pps+bez my/pp$ own/jj horse/nn ,/, and/cc what/wdt I/ppss collect/vb from/in him/ppo I/ppss use/vb on/in blackjack/nn ./.\\nThis/dt Sparky/np can/md rack/vb and/cc single-foot/vb and/cc he's/pps+bez the/at fastest/jjt thing/nn in/in Washoe/np-tl County/nn-tl ./.\\nI/ppss figure/vb if/cs I/ppss can/md get/vb any/dti kind/nn of/in publicity/nn campaign/nn going/vbg ,/, I'll/ppss+md land/vb him/ppo on/in TV/np-tl --/-- you/ppss know/vb ,/, one/pn of/in those/dts favorite/jj horses/nns for/in some/dti Western/jj-tl hero/nn ./.\\nI/ppss once/rb trained/vbd a/at horse/nn for/in Hoot/np Gibson/np ,/, but/cc nothing/pn like/cs Sparky/np ./.\\nHe's/pps+bez a/at pinto/nn and/cc he/pps photographs/vbz wonderfully/rb ''/'' ./.\\n\\n\\n\\tFive/cd came/vbd up/rp while/cs Owen/np was/bedz listening/vbg to/in The/at-tl Wrangler/nn-tl and/cc he/pps neglected/vbd to/to play/vb ,/, a/at loss/nn of/in ten/cd dollars/nns ./.\\nThis/dt proved/vbd conclusively/rb that/cs The/at-tl Wrangler/nn-tl was/bedz a/at jinx/nn ,/, so/cs he/pps walked/vbd on/rp down/in to/in Hurrays/np ,/, an/at even/ql more/ql glorified/vbn gambling/vbg den/nn than/cs the/at Golden/jj-tl Calf/nn-tl ./.\\nWhen/wrb he/pps looked/vbd in/in the/at back/nn ,/, Mrs./np Gertrude/np Parker/np was/bedz marking/vbg keno/nn cards/nns ./.\\n\\n\\n\\tHis/pp$ adventurous/jj spirit/nn had/hvd waned/vbn ;/. ;/.\\nhe/pps studied/vbd the/at pistol/nn exhibition/nn that/wps Hurrays/np featured/vbd as/cs an/at added/vbn attraction/nn ./.\\nHe/pps ogled/vbd a/at long/jj redhead/nn with/in green/jj eyes/nns ,/, but/cc she/pps was/bedz a/at shill/nn with/in her/pp$ money/nn in/in front/nn of/in her/ppo ./.\\nHe/pps had/hvd no/at great/jj prejudice/nn against/in shills/nns ;/. ;/.\\nit/pps just/rb seemed/vbd such/abl a/at dry/jj run/nn ./.\\n\\n\\n\\tThere/ex was/bedz no/at cash/nn around/rb ;/. ;/.\\neveryone/pn was/bedz flipping/vbg silver/nn dollars/nns ./.\\nThe/at management/nn discreetly/rb withdrew/vbd the/at green/jj stuff/nn into/in the/at office/nn and/cc gave/vbd the/at customers/nns chips/nns or/cc checks/nns or/cc premium/nn points/nns ./.\\nHe/pps read/vbd a/at special/jj announcement/nn whereby/wrb Hurrays/np would/md feature/vb a/at special/jj floorshow/nn at/in three/cd A.M./rb starring/vbg Adele/np (/( The/at-tl Body/nn-tl )/) Brenner/np and/cc fourteen/cd glamorous/jj schoolgirls/nns ./.\\n\\n\\n\\tHe/pps wondered/vbd if/cs he/pps might/md bag/vb a/at tourist/nn ,/, but/cc they/ppss looked/vbd frightened/vbn of/in him/ppo ./.\\nHe/pps passed/vbd two/cd brides/nns ,/, both/abx wearing/vbg orchids/nns ,/, and/cc they/ppss made/vbd him/ppo feel/vb a/at little/ql sad/jj ./.\\n\\n\\n\\tOwen/np found/vbd Buzz/np watching/vbg chuck-a-luck/nn ./.\\nBuzz/np had/hvd on/rp a/at Hawaiian/jj shirt/nn and/cc was/bedz carrying/vbg some/dti sun-tan/nn oil/nn and/cc dark/jj glasses/nns ./.\\nHe/pps was/bedz shorter/jjr and/cc fatter/jjr than/cs Owen/np ,/, who/wps felt/vbd good/rb standing/vbg next/in to/in him/ppo ./.\\n``/`` We're/ppss+ber all/abn going/vbg over/rp to/in Lake/nn-tl Tahoe/np-tl and/cc try/vb our/pp$ luck/nn at/in Cal-Neva/np ''/'' ,/, Buzz/np explained/vbd ,/, still/rb instigating/vbg ./.\\n``/`` We/ppss ran/vbd into/in a/at guy/nn at/in the/at Pagan/nn-tl Room/nn-tl who/wps guarantees/nns we/ppss can/md beat/vb the/at wheel/nn ./.\\nHe/pps started/vbd out/rp as/cs a/at stickman/nn ,/, then/rb became/vbd a/at pit/nn boss/nn until/cs the/at Club/nn-tl found/vbd him/ppo crossroading/vbg ./.\\nHe/pps was/bedz knocking/vbg down/rp checks/nns at/in faro/nn ''/'' ./.\\n\\n\\n\\t``/`` I'm/ppss+bem allergic/jj to/in Tahoe/np ''/'' ,/, Owen/np explained/vbd ./.\\n``/`` Something/pn about/in the/at pollen/nn ''/'' ./.\\n\\n\\n\\t``/`` Well/uh ,/, okay/uh ''/'' ,/, Buzz/np said/vbd ./.\\n``/`` We'll/ppss+md see/vb you/ppo around/rb later/rbr ''/'' ./.\\n\\n\\n\\tOwen/np went/vbd over/rp to/in the/at crap/nn table/nn and/cc the/at dice/nns were/bed hot/jj ,/, but/cc he/pps couldn't/md* pyramid/vb with/in any/dti consecutive/jj success/nn ./.\\n\\n\\n\\t``/`` How's/wrb+bez your/pp$ luck/nn ,/, honey/nn ''/'' ?/. ?/.\\nA/at short/jj platinum/nn blonde/nn in/in a/at bursting/vbg sun-suit/nn addressed/vbd him/ppo ./.\\nShe/pps looked/vbd well-fed/jj and/cc prosperous/jj ,/, but/cc he/pps didn't/dod* get/vb the/at impression/nn he/pps was/bedz being/beg propositioned/vbn the/at way/nn he'd/pps+hvd been/ben hoping/vbg ./.\\n\\n\\n\\t``/`` I/ppss haven't/hv* had/hvn any/dti luck/nn since/cs I/ppss was/bedz a/at baby/nn ''/'' ./.\\n\\n\\n\\t``/`` Stake/vb me/ppo ''/'' ,/, she/pps said/vbd ,/, ``/`` and/cc let/vb me/ppo at/in those/dts dice/vb ./.\\nI'll/ppss+md make/vb them/ppo dance/vb the/at tango/nn ./.\\nWe'll/ppss+md get/vb it/ppo in/in a/at hurry/nn and/cc get/vb it/ppo out/rp ''/'' ./.\\n\\n\\n\\t``/`` Let's/vb+ppo have/hv a/at drink/nn and/cc discuss/vb a/at merger/nn ''/'' ./.\\n\\n\\n\\t``/`` If/cs you/ppss go/vb broke/jj ''/'' ,/, she/pps said/vbd ,/, smiling/vbg up/rp at/in him/ppo ,/, ``/`` I'll/ppss+md leave/vb you/ppo ''/'' ./.\\n\\n\\n\\t``/`` Sounds/nns like/vb real/jj love/nn ''/'' ,/, Owen/np said/vbd ./.\\n``/`` It/pps sort/rb of/in brings/vbz a/at lump/nn to/in my/pp$ throat/nn ''/'' ./.\\n\\n\\n\\t``/`` My/pp$ name's/nn+bez Gisele/np ''/'' ,/, the/at blonde/nn said/vbd after/cs she/pps ordered/vbd a/at Scotch/np ./.\\n``/`` Named/vbn after/in the/at ballet/nn ./.\\nMy/pp$ mother/nn wanted/vbd to/to call/vb me/ppo Sylphide/np ,/, but/cc it/pps sounded/vbd too/ql affected/vbn ''/'' ./.\\n\\n\\n\\n\\tSpencer/np said/vbd nothing/pn ./.\\n\\n\\n\\t``/`` Is/bez there/ex any/dti word/nn you/ppss would/md like/vb to/to offer/vb in/in your/pp$ own/jj defense/nn ''/'' ?/. ?/.\\n\\n\\n\\tSpencer/np shook/vbd his/pp$ head/nn ./.\\n\\n\\n\\tAlexander/np said/vbd ,/, ``/`` Answer/vb me/ppo properly/rb ,/, Spencer/np ''/'' ./.\\n\\n\\n\\tSpencer/np was/bedz quiet/jj for/in a/at moment/nn longer/jjr ,/, then/rb he/pps said/vbd ,/, ``/`` There/ex is/bez nothing/pn I/ppss want/vb to/to say/vb ,/, Captain/nn-tl ''/'' ./.\\n\\n\\n\\t``/`` Very/ql well/rb ''/'' ./.\\nAlexander/np walked/vbd away/rb ./.\\nNaval/jj procedure/nn ,/, he/pps thought/vbd ,/, had/hvd its/pp$ moments/nns of/in grim/jj humor/nn ./.\\nPhilip/np Spencer/np had/hvd cold-bloodedly/rb planned/vbn the/at murder/nn of/in his/pp$ captain/nn ,/, yet/rb it/pps seemed/vbd in/in order/nn to/to chide/vb him/ppo for/in a/at lapse/nn of/in proper/jj address/nn ./.\\n\\n\\n\\tDuring/in the/at morning/nn hours/nns ,/, it/pps became/vbd clear/jj that/cs the/at arrest/nn of/in Spencer/np was/bedz having/hvg no/at sobering/vbg effect/nn upon/in the/at men/nns of/in the/at Somers/np-tl ./.\\nThose/dts named/vbn in/in the/at Greek/jj paper/nn were/bed manufacturing/vbg reasons/nns to/to steal/vb aft/rb under/in pretence/nn of/in some/dti call/nn of/in duty/nn ,/, so/cs as/cs to/to be/be near/in Spencer/np ,/, watching/vbg an/at opportunity/nn to/to communicate/vb with/in him/ppo ./.\\nHostile/jj glances/nns were/bed flashed/vbn at/in both/abx Alexander/np and/cc Gansevoort/np ./.\\nThe/at two/cd met/vbd in/in the/at Captain's/nn$-tl cabin/nn ./.\\n\\n\\n\\t``/`` What/wdt is/bez the/at next/ap step/nn ,/, Captain/nn-tl ''/'' ?/. ?/.\\n\\n\\n\\t``/`` More/ap arrests/nns ,/, I/ppss fear/vb ''/'' ./.\\n\\n\\n\\tIn/in your/pp$ opinion/nn ,/, who/wps is/bez this/dt E./np Andrews/np on/in the/at '/' certain/jj '/' list/nn ''/'' ?/. ?/.\\n\\n\\n\\t``/`` Cromwell/np ,/, of/in course/nn ./.\\nHe/pps is/bez the/at oldest/jjt and/cc most/ql experienced/vbn of/in the/at lot/nn ./.\\nHe/pps saw/vbd the/at dangers/nns ,/, not/* the/at glories/nns of/in being/beg identified/vbn as/cs a/at mutineer/nn ./.\\nSomehow/rb he/pps talked/vbd Spencer/np into/in letting/vbg him/ppo use/vb another/dt name/nn ''/'' ./.\\n\\n\\n\\tThere/ex was/bedz a/at tap/nn at/in the/at door/nn and/cc Oliver/np entered/vbd with/in the/at word/nn that/cs Heiser/np wished/vbd to/to see/vb the/at Captain/nn-tl ./.\\n\\n\\n\\t``/`` Have/hv him/ppo come/vb in/rp ''/'' ./.\\n\\n\\n\\tHeiser/np ,/, breathless/jj and/cc wild-eyed/jj ,/, brought/vbd the/at chilling/vbg news/nn that/cs the/at handspikes/nns ,/, heavers/nns and/cc holystones/nns had/hvd been/ben mysteriously/rb removed/vbn from/in their/pp$ customary/jj places/nns ./.\\n\\n\\n\\t``/`` And/cc also/rb ,/, sir/nn ,/, two/cd articles/nns which/wdt were/bed considered/vbn souvenirs/nns now/rb must/md be/be regarded/vbn in/in another/dt light/nn entirely/rb ./.\\nAn/at African/jj knife/nn and/cc battle-ax/nn are/ber at/in this/dt moment/nn being/beg sharpened/vbn by/in McKinley/np and/cc Green/np ./.\\nMcKinley/np was/bedz overheard/vbn to/to say/vb that/cs he/pps would/md like/vb to/to get/vb the/at knife/nn into/in Spencer's/np$ possession/nn and/cc that/cs ''/'' --/-- \\n\\n\\t``/`` Where/wrb did/dod you/ppss gather/vb all/abn this/dt information/nn ,/, Heiser/np ?/. ?/.\\nWho/wps reported/vbd to/in you/ppo the/at disappearance/nn of/in handspikes/nns and/cc heavers/nns and/cc who/wps ''/'' --/-- \\n\\n\\tHe/pps was/bedz interrupted/vbn by/in a/at crash/nn from/in the/at deck/nn and/cc sprang/vbd toward/in the/at ladder/nn ,/, with/in Gansevoort/np and/cc Heiser/np behind/in him/ppo ./.\\nA/at glance/nn revealed/vbd that/cs the/at main/jjs topgallant/nn mast/nn had/hvd been/ben carried/vbn away/rb ./.\\nThe/at aimless/jj milling/vbg about/rb of/in what/wdt had/hvd been/ben a/at well-trained/jj ,/, well-organized/jj crew/nn struck/vbd Alexander/np with/in horror/nn ./.\\nHe/pps bellowed/vbd orders/nns and/cc watched/vbd the/at alert/jj response/nn of/in some/dti of/in his/pp$ men/nns and/cc watched/vbd ,/, too/rb ,/, the/at way/nn a/at dozen/nn or/cc more/ap turned/vbd their/pp$ heads/nns questioningly/rb toward/in the/at shackled/vbn figure/nn as/cs though/cs for/in further/jjr instruction/nn ./.\\n\\n\\n\\tAdrien/np Deslonde/np hastened/vbd to/in Alexander's/np$ side/nn ./.\\n``/`` Small/np violently/rb jerked/vbd the/at weather-royal/jj brace/nn with/in full/jj intention/nn to/to carry/vb away/rb the/at mast/nn ./.\\nI/ppss saw/vbd him/ppo myself/ppl and/cc it/pps was/bedz done/vbn after/in consultation/nn with/in Cromwell/np ./.\\nI/ppss swear/vb it/ppo ,/, sir/nn ''/'' ./.\\n\\n\\n\\tAnd/cc it/pps was/bedz clear/jj that/cs Adrien/np was/bedz not/* mistaken/vbn ,/, for/cs both/abx Small/np and/cc Cromwell/np took/vbd no/at step/nn toward/in aiding/vbg in/in the/at sending/nn up/rp of/in the/at new/jj topgallant/nn mast/nn till/cs Philip/np Spencer/np had/hvd given/vbn the/at signal/nn to/to obey/vb ./.\\nThen/rb ,/, with/in disappointment/nn evident/jj upon/in their/pp$ faces/nns ,/, they/ppss moved/vbd to/in the/at work/nn ./.\\nAlexander/np guessed/vbd that/cs they/ppss had/hvd planned/vbn confusion/nn and/cc turmoil/nn ,/, thinking/vbg it/ppo the/at ideal/jj climate/nn in/in which/wdt to/to begin/vb battle/nn and/cc bloodshed/nn ./.\\nTheir/pp$ strategy/nn was/bedz sound/jj enough/qlp and/cc ,/, he/pps reasoned/vbd ,/, had/hvd been/ben defeated/vbn only/rb by/in Philip/np Spencer's/np$ unwillingness/nn to/to sanction/vb an/at idea/nn he/pps had/hvd not/* originated/vbn ./.\\n\\n\\n\\tWhen/wrb the/at mast/nn was/bedz raised/vbn ,/, Alexander/np gave/vbd the/at order/nn for/in Small/np and/cc Cromwell/np to/to be/be placed/vbn under/in arrest/nn ,/, and/cc now/rb three/cd figures/nns in/in irons/nns sprawled/vbd upon/in the/at open/jj deck/nn and/cc terror/nn stalked/vbd the/at Somers/np-tl ./.\\n\\n\\n\\tSpencer's/np$ potential/jj followers/nns were/bed openly/rb sullen/jj and/cc morose/jj ,/, missing/vbg muster/nn without/in excuse/nn ,/, expressing/vbg in/in ominous/jj tones/nns their/pp$ displeasure/nn at/in the/at prisoners/nns being/beg kept/vbn in/in irons/nns ,/, communicating/vbg with/in the/at three/cd by/in glance/nn and/cc signal/nn ./.\\nOne/cd of/in the/at missing/vbg handspikes/nns came/vbd out/in of/in its/pp$ hiding/vbg place/nn after/cs Midshipman/nn-tl Tillotson/np had/hvd been/ben insolently/rb disobeyed/vbn by/in Seaman/nn-tl Wilson/np ./.\\nTillotson/np had/hvd reported/vbn the/at man/nn to/in Gansevoort/np and/cc an/at hour/nn later/rbr ,/, with/in back/nn turned/vbn ,/, had/hvd been/ben attacked/vbn by/in Wilson/np ,/, brandishing/vbg the/at weapon/nn ./.\\nWilson/np ,/, shackled/vbn and/cc snarling/vbg ,/, was/bedz thrown/vbn with/in the/at other/ap prisoners/nns and/cc was/bedz soon/rb joined/vbn by/in Green/np ,/, McKee/np and/cc McKinley/np ./.\\nNot/* a/at man/nn on/in the/at brig/nn ,/, loyal/jj or/cc villainous/jj ,/, could/md be/be unaffected/jj by/in the/at sight/nn of/in seven/cd men/nns involved/vbn in/in the/at crime/nn of/in mutiny/nn ./.\\n\\n\\n\\tIn/in the/at tiny/jj cabin/nn ,/, Alexander/np met/vbd with/in Gansevoort/np ,/, Heiser/np and/cc Wales/np to/to speak/vb and/cc to/to listen/vb ./.\\nThree/cd days/nns had/hvd passed/vbn since/in Spencer's/np$ arrest/nn and/cc each/dt day/nn had/hvd brought/vbn new/jj dangers/nns ,/, new/jj fears/nns ./.\\n\\n\\n\\tGansevoort/np said/vbd ,/, ``/`` It/pps requires/vbz an/at omniscient/jj eye/nn to/to select/vb those/dts if/cs any/dti on/in whom/wpo we/ppss can/md now/rb rely/vb ./.\\nTo/to have/hv the/at Greek/jj paper/nn is/bez not/* the/at great/jj help/nn that/cs at/in first/od flush/nn it/pps seemed/vbd ./.\\nFrom/in actions/nns aboard/rb ,/, it/pps is/bez easy/jj to/to guess/vb that/cs Spencer's/np$ boast/nn of/in twenty/cd staunch/jj followers/nns was/bedz a/at modest/jj estimate/nn ''/'' ./.\\n\\n\\n\\t``/`` Well/uh ''/'' ,/, Heiser/np ventured/vbd ,/, ``/`` why/wrb don't/do* we/ppss hold/vb an/at investigation/nn with/in questioning/vbg and/cc ''/'' --/-- \\n\\n\\t``/`` That/dt would/md be/be worse/jjr than/cs useless/jj ''/'' ,/, Alexander/np broke/vbd in/rp ./.\\n``/`` There/ex is/bez not/* space/nn to/to hold/vb or/cc force/nn to/to guard/vb any/dti increased/vbn number/nn of/in prisoners/nns ./.\\nBesides/rb ,/, suppose/vb we/ppss hold/vb a/at court/nn of/in inquiry/nn ,/, then/rb what/wdt ?/. ?/.\\nThen/rb we/ppss have/hv informed/vbn a/at large/jj number/nn of/in our/pp$ crew/nn that/cs when/wrb they/ppss reach/vb the/at United/vbn-tl States/nns-tl ,/, they/ppss will/md be/be punished/vbn but/cc that/cs in/in the/at meanwhile/rb ,/, they/ppss may/md run/vb loose/jj and/cc are/ber expected/vbn to/to perform/vb their/pp$ jobs/nns in/in good/jj order/nn ./.\\nMr./np Heiser/np ,/, does/doz this/dt sound/vb like/cs a/at truly/ql workable/jj plan/nn to/in you/ppo ?/. ?/.\\nDo/do you/ppss not/* think/vb these/dts men/nns might/md choose/vb the/at black/jj flag/nn here/rb and/cc now/rb ''/'' ?/. ?/.\\n\\n\\n\\tWales/np said/vbd ,/, ``/`` Of/in course/nn they/ppss would/md ./.\\nThey/ppss are/ber about/rb to/to do/do so/rb at/in any/dti moment/nn as/cs it/pps is/bez ./.\\nAll/ql that/dt is/bez needed/vbn is/bez for/cs one/cd man/nn to/to feel/vb self-confident/jj enough/qlp to/to take/vb the/at lead/nn ./.\\nAs/ql soon/rb as/cs that/dt one/cd man/nn is/bez appointed/vbn by/in himself/ppl or/cc the/at others/nns or/cc by/in a/at signal/nn from/in Spencer/np ,/, we/ppss are/ber going/vbg to/to be/be rushed/vbn ./.\\nWe/ppss are/ber going/vbg to/to be/be rushed/vbn and/cc murdered/vbn ''/'' ./.\\n\\n\\n\\t``/`` That/dt is/bez extravagant/jj language/nn ,/, Mr./np Wales/np ./.\\nWe/ppss are/ber not/* going/vbg to/to be/be rushed/vbn and/cc murdered/vbn ''/'' ,/, Alexander/np said/vbd ./.\\n``/`` We/ppss are/ber going/vbg to/to bring/vb the/at Somers/np-tl into/in New/jj-tl York/np-tl harbor/nn safe/jj and/cc sound/jj ''/'' ./.\\n\\n\\n\\t``/`` Of/in course/nn ,/, I/ppss agree/vb with/in the/at Captain/nn-tl ''/'' ,/, Gansevoort/np said/vbd thoughtfully/rb ,/, ``/`` but/cc the/at conspiracy/nn is/bez ferocious/jj and/cc desperate/jj ./.\\nThe/at instinct/nn of/in discipline/nn has/hvz been/ben lost/vbn ./.\\nAnything/pn is/bez possible/jj when/wrb anarchy/nn has/hvz the/at upper/jj hand/nn ''/'' ./.\\nHe/pps paused/vbd ,/, then/rb added/vbd ,/, ``/`` Everything/pn on/in a/at ship/nn is/bez a/at weapon/nn ./.\\nImplements/nns of/in wood/nn and/cc iron/nn are/ber available/jj for/in close/jj and/cc hasty/jj combat/nn no/at matter/nn where/wrb a/at man/nn stands/vbz ./.\\nAnd/cc we/ppss are/ber positive/jj of/in so/ql few/ap and/cc suspicious/jj of/in so/ql many/ap ''/'' ./.\\n\\n\\n\\t``/`` We/ppss ourselves/ppls must/md stand/vb sentinel/nn ''/'' ./.\\nAlexander/np said/vbd ./.\\n``/`` Under/in arms/nns day/nn and/cc night/nn ,/, watch/vb and/cc watch/vb about/rb ./.\\nThose/dts of/in us/ppo present/rb ,/, the/at Perry/np brothers/nns ,/, Deslonde/np and/cc the/at other/ap midshipmen/nns now/rb have/hv the/at responsibility/nn of/in the/at Somers/np-tl ./.\\nA/at great/jj deal/nn of/in labor/nn we/ppss have/hv as/ql well/rb ,/, for/cs we/ppss are/ber too/ql uncertain/jj of/in where/wrb trust/nn may/md be/be placed/vbn ''/'' ./.\\n\\n\\n\\tAnd/cc when/wrb he/pps was/bedz alone/jj again/rb in/in the/at cabin/nn ,/, Alexander/np lowered/vbd his/pp$ head/nn into/in his/pp$ arms/nns and/cc wept/vbd ,/, for/cs he/pps knew/vbd full/ql well/rb what/wdt must/md be/be done/vbn ,/, what/wdt in/in the/at end/nn would/md be/be done/vbn ./.\\nWith/in all/abn his/pp$ heart/nn he/pps had/hvd loved/vbn the/at Navy/nn-tl and/cc now/rb he/pps must/md act/vb in/in accordance/nn with/in the/at Navy's/nn$-tl implacable/jj laws/nns ./.\\nAnd/cc when/wrb he/pps did/dod ,/, when/wrb he/pps gave/vbd to/in his/pp$ ship/nn that/dt protection/nn necessary/jj to/to preserve/vb her/pp$ honor/nn ,/, he/pps knew/vbd he/pps would/md lose/vb forever/rb the/at Navy/nn-tl to/in which/wdt he/pps had/hvd dedicated/vbn his/pp$ soul/nn ./.\\n\\n\\n\\tWhere/wrb had/hvd he/pps failed/vbd ?/. ?/.\\nHow/wrb had/hvd he/pps failed/vbd ?/. ?/.\\nHe/pps who/wps had/hvd tried/vbn so/ql hard/rb ,/, who/wps had/hvd yearned/vbn so/ql passionately/rb to/to be/be a/at great/jj officer/nn ./.\\nIt/pps came/vbd to/in him/ppo as/cs he/pps wept/vbd there/rb aboard/in the/at Somers/np-tl that/cs it/pps was/bedz as/ql foolish/jj to/to strive/vb for/in greatness/nn as/cs to/to seek/vb to/to storm/vb the/at gates/nns of/in heaven/nn ./.\\nIt/pps was/bedz given/vbn or/cc it/pps was/bedz not/* given/vbn ./.\\nOne/pn did/dod one's/pn$ best/jjt and/cc if/cs fortune/nn smiled/vbd ,/, there/ex was/bedz a/at reward/nn ./.\\nOne/pn did/dod one's/pn$ best/jjt and/cc if/cs fortune/nn frowned/vbd ,/, an/at eighteen-year-old/nn boy/nn with/in murder/nn in/in his/pp$ heart/nn sailed/vbd aboard/in one's/pn$ ship/nn ./.\\nAnd/cc Alexander/np sobbed/vbd like/cs a/at girl/nn for/in the/at dreams/nns he/pps had/hvd had/hvn ,/, and/cc he/pps felt/vbd no/at shame/nn ./.\\nGod/np knew/vbd his/pp$ tears/nns were/bed his/pp$$ to/to shed/vb if/cs he/pps so/rb desired/vbd ,/, for/cs it/pps had/hvd not/* been/ben with/in an/at egotist's/nn$ rage/nn for/in fame/nn that/cs he/pps had/hvd held/vbn precious/jj his/pp$ naval/jj career/nn ./.\\nAnother/dt field/nn had/hvd given/vbn him/ppo fame/nn enough/qlp to/to satisfy/vb any/dti egotist/nn ./.\\nIt/pps was/bedz for/in love/nn that/cs he/pps had/hvd served/vbn the/at Navy/nn-tl ./.\\nTo/to have/hv someday/rb that/dt love/nn returned/vbn was/bedz what/wdt he/pps had/hvd lived/vbn for/in ./.\\nNow/rb the/at hope/nn was/bedz gone/vbn ./.\\nYes/rb ,/, he/pps would/md bring/vb the/at Somers/np-tl safely/rb into/in New/jj-tl York/np-tl harbor/nn but/cc at/in a/at price/nn ./.\\nDear/jj God/np ,/, at/in what/wdt a/at price/nn ./.\\n\\n\\n\\tAnd/cc after/in a/at while/nn ,/, he/pps dried/vbd his/pp$ tears/nns and/cc walked/vbd the/at deck/nn as/cs a/at captain/nn should/md with/in assurance/nn and/cc dignity/nn ./.\\nStern-faced/jj ,/, he/pps inspected/vbd the/at prisoners/nns ,/, satisfying/vbg himself/ppl that/cs they/ppss were/bed clean/jj ,/, well/rb fed/vbn and/cc comfortable/jj within/in reason/nn ./.\\nThe/at prisoners/nns averted/vbd their/pp$ eyes/nns but/cc not/* before/cs he/pps had/hvd glimpsed/vbn hatred/nn and/cc anger/nn ./.\\nOnly/rb Cromwell/np ,/, the/at giant/jj boatswain/nn ,/, was/bedz mild-mannered/jj and/cc respectful/jj ./.\\n\\n\\n\\tHe/pps said/vbd ,/, ``/`` Captain/nn-tl ,/, may/md I/ppss speak/vb ,/, please/uh ?/. ?/.\\nCaptain/nn ,/, I/ppss am/bem innocent/jj of/in any/dti plot/nn against/in you/ppo or/cc the/at ship/nn ''/'' ./.\\n\\n\\n\\t``/`` Are/ber you/ppss ,/, Cromwell/np ''/'' ?/. ?/.\\n\\n\\n\\t``/`` Yes/rb ,/, sir/nn ./.\\nBefore/in God/np I/ppss swear/vb I/ppss am/bem innocent/jj ./.\\nI/ppss know/vb nothing/pn of/in any/dti plot/nn ,/, if/cs there/ex is/bez such/abl a/at thing/nn ''/'' ./.\\n\\n\\n\\t``/`` You/ppss are/ber the/at only/ap man/nn aboard/rb who/wps can/md be/be in/in doubt/nn ''/'' ./.\\n\\n\\n\\t``/`` I/ppss cannot/md* speak/vb for/in others/nns ,/, sir/nn ,/, but/cc I/ppss am/bem innocent/jj ''/'' ./.\\nHe/pps leaned/vbd closer/rbr to/in Alexander/np ,/, squinting/vbg up/rp at/in him/ppo from/in the/at deck/nn ./.\\n``/`` Surely/rb ,/, Captain/nn-tl ,/, you/ppss did/dod not/* find/vb my/pp$ name/nn on/in any/dti suspicious/jj paper/nn or/cc anything/pn ''/'' ./.\\n\\n\\n\\t``/`` No/rb ,/, Cromwell/np ,/, I/ppss did/dod not/* find/vb your/pp$ name/nn ./.\\nYou/ppss were/bed careful/jj about/in that/dt ''/'' ./.\\n\\n\\n\\tNow/rb Spencer/np ,/, seeming/vbg with/in effort/nn to/to shake/vb himself/ppl from/in lethargy/nn ,/, spoke/vbd ./.\\nHe/pps said/vbd ,/, ``/`` Cromwell/np is/bez telling/vbg you/ppss the/at truth/nn ./.\\nHe/pps is/bez innocent/jj ''/'' ./.\\n\\n\\n\\tAlexander/np shifted/vbd his/pp$ gaze/nn to/in Spencer/np ./.\\nThe/at calmness/nn and/cc detachment/nn of/in his/pp$ tone/nn suggested/vbd unawareness/nn of/in how/wrb implicit/jj was/bedz his/pp$ own/jj guilt/nn in/in the/at words/nns he/pps had/hvd used/vbn to/to defend/vb Cromwell/np ./.\\nAlexander/np knew/vbd Spencer/np too/ql well/rb to/to think/vb him/ppo naive/jj or/cc thick-skulled/jj ./.\\nAnd/cc in/in a/at sudden/jj wave/nn of/in painful/jj clarity/nn ,/, Alexander/np recognized/vbd a/at kinship/nn with/in Spencer/np ./.\\nHere/rb was/bedz another/dt human/nn who/wps understood/vbd the/at stupidity/nn of/in quarreling/vbg with/in the/at inevitable/jj ./.\\nThere/ex was/bedz good/jj fortune/nn and/cc there/ex was/bedz bad/jj and/cc Philip/np Spencer/np ,/, in/in handcuffs/nns and/cc ankle/nn irons/nns ,/, knew/vbd it/ppo to/to be/be a/at truth/nn ./.\\nHe/pps expected/vbd nothing/pn for/in himself/ppl but/in that/dt which/wdt naturally/rb follows/vbz those/dts marked/vbn for/in misfortune/nn ./.\\nThe/at red-haired/jj captain/nn ,/, towering/vbg above/in the/at prisoner/nn as/cs a/at symbol/nn of/in decency/nn and/cc authority/nn ,/, was/bedz shocked/vbn to/to find/vb himself/ppl looking/vbg with/in sympathy/nn upon/in Philip/np Spencer/np ./.\\nThis/dt tragic/jj lad/nn had/hvd forged/vbn his/pp$ own/jj shackles/nns ./.\\nBut/cc he/pps could/md not/* have/hv done/vbn so/rb ,/, could/md not/* have/hv found/vbn the/at way/nn ,/, had/hvd fortune/nn favored/vbn him/ppo ./.\\nAnd/cc because/cs fortune/nn had/hvd favored/vbn neither/cc the/at prisoner/nn nor/cc the/at red-haired/jj captain/nn ,/, they/ppss would/md be/be each/dt other's/ap$ undoing/nn ./.\\n\\n\\n\\t``/`` Spencer/np ,/, if/cs there/ex is/bez guilt/nn ,/, if/cs you/ppss do/do not/* deny/vb your/pp$ own/jj ,/, how/wrb is/bez it/pps possible/jj for/in Cromwell/np to/to be/be innocent/jj ?/. ?/.\\nHe/pps was/bedz your/pp$ constant/jj companion/nn ''/'' ./.\\n\\n\\n\\tThe/at hazel/nn eyes/nns met/vbd Alexander's/np$ ./.\\n``/`` I/ppss tell/vb you/ppo he/pps is/bez innocent/jj ''/'' ./.\\n\\n\\n\\t``/`` And/cc do/do you/ppo think/vb there/ex is/bez a/at reason/nn why/wrb I/ppss should/md accept/vb your/pp$ word/nn ''/'' ?/. ?/.\\n\\n\\n\\t``/`` Yes/rb ./.\\nI/ppss have/hv nothing/pn to/to gain/vb by/in defending/vbg Cromwell/np ''/'' ./.\\n\\n\\n\\t``/`` Nothing/pn to/to lose/vb ,/, either/rb ,/, Spencer/np ''/'' ./.\\n\\n\\n\\t``/`` That's/dt+bez true/jj ''/'' ,/, Spencer/np agreed/vbd and/cc withdrew/vbd himself/ppl from/in the/at conversation/nn ./.\\nHis/pp$ eyes/nns went/vbd back/rb to/in contemplation/nn of/in the/at sea/nn ./.\\n\\n\\n\\t``/`` I/ppss am/bem innocent/jj ,/, Captain/nn-tl ''/'' ,/, Cromwell/np said/vbd again/rb ./.\\n``/`` Before/in God/np ,/, Captain/nn-tl ,/, I/ppss am/bem innocent/jj ''/'' ./.\\n\\n\\n\\tAnd/cc though/cs it/pps was/bedz logical/jj that/cs a/at man/nn who/wps could/md plot/vb mass/nn murder/nn would/md not/* hesitate/vb to/to speak/vb an/at untruth/nn ,/, still/rb it/pps was/bedz difficult/jj to/to understand/vb why/wrb Spencer/np spoke/vbd only/rb for/in Cromwell/np ./.\\nThe/at boatswain/nn was/bedz as/ql guilty/jj as/cs any/dti ./.\\nNo/at action/nn of/in his/pp$$ could/md be/be interpreted/vbn in/in his/pp$ favor/nn and/cc four/cd midshipmen/nns ,/, prior/rb to/in their/pp$ knowing/vbg the/at significance/nn of/in the/at Greek/jj paper/nn ,/, had/hvd seen/vbn it/ppo in/in Cromwell's/np$ hands/nns while/cs Spencer/np whispered/vbd explanations/nns ./.\\n\\n\\n\\t``/`` I/ppss thought/vbd ''/'' ,/, Midshipman/nn-tl Rogers/np had/hvd told/vbn Alexander/np ,/, ``/`` that/cs Spencer/np was/bedz teaching/vbg him/ppo geometry/nn ''/'' ./.\\n\\n\\n\\tIt/pps was/bedz fantastic/jj to/to turn/vb from/in the/at seven/cd men/nns in/in shackles/nns to/in the/at wardroom/nn ,/, where/wrb a/at class/nn of/in apprentices/nns awaited/vbd him/ppo ./.\\nThis/dt was/bedz a/at training/vbg ship/nn and/cc the/at training/nn would/md continue/vb ,/, but/cc there/ex was/bedz an/at element/nn of/in frightful/jj absurdity/nn here/rb which/wdt Alexander/np recognized/vbd ./.\\nSome/dti of/in these/dts apprentices/nns were/bed ,/, in/in physical/jj strength/nn ,/, already/rb men/nns and/cc doubtless/rb a/at percentage/nn of/in them/ppo were/bed Spencer's/np$ followers/nns ./.\\n\\nRachel/np steered/vbd me/ppo along/rb toward/in a/at school/nn for/in young/jj boys/nns beginning/vbg to/to study/vb the/at Torah/np ./.\\nBits/nns of/in trash/nn lay/vbd in/in the/at roadway/nn ./.\\nThe/at air/nn smelled/vbd warmish/jj and/cc foul/jj ./.\\n\\n\\n\\tA/at young/jj man/nn appeared/vbd out/in of/in a/at side/nn alley/nn and/cc walked/vbd toward/in us/ppo with/in quick/jj strides/nns ./.\\nHe/pps wore/vbd a/at long/jj double-breasted/jj coat/nn of/in a/at heavy/jj material/nn ,/, dark/jj trousers/nns ,/, and/cc black/jj boots/nns with/in buckles/nns ./.\\nHis/pp$ black/jj hat/nn with/in its/pp$ wide/jj brim/nn ,/, high/jj crown/nn ,/, and/cc fur/nn trim/nn rode/vbd high/rb ./.\\nWith/in his/pp$ head/nn erect/jj ,/, he/pps approached/vbd ,/, not/* glancing/vbg at/in us/ppo ,/, and/cc passed/vbd by/rb with/in his/pp$ clear/jj eyes/nns raised/vbn and/cc fixed/vbn straight/rb ahead/rb ./.\\nHe/pps had/hvd a/at pinkish-white/jj complexion/nn ,/, a/at small/jj straight/jj nose/nn ,/, a/at short/jj black/jj beard/nn ,/, and/cc tightly/rb curled/vbn paot/fw-nn ./.\\nI/ppss was/bedz suddenly/rb conscious/jj of/in my/pp$ bare/jj arms/nns ./.\\nThe/at girls/nns in/in the/at market/nn place/nn wore/vbd long-sleeved/jj dresses/nns and/cc covered/vbd their/pp$ legs/nns with/in cloth/nn stockings/nns ./.\\nI/ppss turned/vbd and/cc watched/vbd him/ppo stride/vb down/in the/at center/nn of/in the/at road/nn ./.\\nHis/pp$ hands/nns were/bed swinging/vbg at/in his/pp$ sides/nns ,/, and/cc he/pps passed/vbd through/in the/at dingy/jj market/nn place/nn with/in his/pp$ back/nn straight/jj and/cc ,/, pivoting/vbg on/in his/pp$ heel/nn ,/, he/pps entered/vbd an/at old/jj stone/nn building/nn ./.\\n\\n\\n\\tRachel/np had/hvd seen/vbn me/ppo watching/vbg the/at young/jj man/nn ./.\\nShe/pps smiled/vbd ./.\\n``/`` When/wrb your/pp$ mother/nn was/bedz here/rb he/pps must/md have/hv been/ben a/at young/jj boy/nn ./.\\nLike/cs the/at ones/nns you/ppss will/md see/vb now/rb ''/'' ./.\\n\\n\\n\\tI/ppss swallowed/vbd hard/rb and/cc looked/vbd down/rp at/in my/pp$ feet/nns plodding/vbg along/rb beside/in Rachel/np ./.\\nShe/pps led/vbd me/ppo into/in a/at twisting/vbg side/nn alley/nn ./.\\nThe/at dirty/jj ,/, discolored/vbn buildings/nns looked/vbd boarded/vbn up/rp ,/, and/cc their/pp$ few/ap windows/nns stood/vbd high/rb above/in our/pp$ heads/nns ./.\\nRachel/np said/vbd that/cs schools/nns and/cc synagogues/nns occupied/vbd most/ap of/in the/at buildings/nns ./.\\nWe/ppss entered/vbd one/cd where/wrb the/at front/jj door/nn stood/vbd ajar/rb and/cc climbed/vbd a/at flight/nn of/in steep/jj steps/nns to/in the/at main/jjs floor/nn ./.\\nAn/at old/jj man/nn with/in a/at white/jj beard/nn and/cc dressed/vbn in/in a/at long/jj shabby/jj coat/nn ,/, baggy/jj trousers/nns ,/, and/cc a/at black/jj skullcap/nn greeted/vbd us/ppo ./.\\nRachel/np talked/vbd to/in him/ppo ./.\\nHe/pps nodded/vbd ,/, clasping/vbg and/cc unclasping/vbg his/pp$ hands/nns over/in his/pp$ paunch/nn ,/, and/cc flicked/vbd glances/nns at/in me/ppo ./.\\nI/ppss thought/vbd he/pps would/md ask/vb us/ppo to/to leave/vb because/cs Rachel/np and/cc I/ppss were/bed bare-armed/jj ,/, but/cc he/pps looked/vbd down/rp into/in his/pp$ beard/nn and/cc preceded/vbd us/ppo down/in the/at corridor/nn ./.\\nHis/pp$ toes/nns pointed/vbd out/rp toward/in the/at walls/nns ./.\\nHe/pps stopped/vbd in/in front/nn of/in a/at door/nn ,/, placed/vbd a/at finger/nn on/in his/pp$ lips/nns ,/, and/cc ,/, still/rb peering/vbg down/rp into/in his/pp$ beard/nn ,/, pushed/vbd open/jj the/at door/nn to/in a/at classroom/nn ./.\\nWe/ppss stepped/vbd inside/rb ./.\\nHe/pps left/vbd us/ppo ./.\\n\\n\\n\\tLittle/jj boys/nns crowded/vbd together/rb on/in long/jj wooden/jj benches/nns ,/, and/cc in/in the/at center/nn of/in the/at room/nn sat/vbd the/at teacher/nn ./.\\nHis/pp$ black/jj beard/nn dripped/vbd down/rp over/in the/at front/nn of/in his/pp$ coat/nn ./.\\nOne/cd white/jj hand/nn poised/vbd a/at stick/nn above/in his/pp$ desk/nn ./.\\nHe/pps turned/vbd his/pp$ surly/jj ,/, half-closed/jj eyes/nns toward/in us/ppo ,/, stared/vbd for/in a/at second/nn ,/, then/rb shouted/vbd in/in Yiddish/np ,/, ``/`` One/cd ,/, two/cd ,/, three/cd ''/'' !/. !/.\\nRapping/vbg the/at stick/nn against/in the/at desk/nn ./.\\nThe/at little/jj boys/nns shrilled/vbd out/rp a/at Yiddish/jj translation/nn or/cc interpretation/nn of/in the/at Five/cd-tl Books/nns-tl of/in-tl Moses/np-tl ,/, which/wdt they/ppss had/hvd previously/rb chanted/vbn in/in Hebrew/np ./.\\nThey/ppss chanted/vbd a/at fixed/vbn tune/nn in/in time/nn to/in the/at report/nn of/in the/at stick/nn ./.\\nEach/dt boy/nn opened/vbd his/pp$ small/jj mouth/nn wide/jj and/cc rocked/vbd back/rb and/cc forth/rb on/in the/at bench/nn in/in the/at way/nn his/pp$ grandfather/nn and/cc great-grandfather/nn had/hvd studied/vbn and/cc prayed/vbn in/in the/at ghettos/nns of/in Europe/np ./.\\nThe/at boys/nns were/bed tiny/jj ./.\\nThey/ppss had/hvd large/jj bright/jj eyes/nns ,/, the/at small/jj upturned/jj noses/nns of/in all/abn babies/nns everywhere/rb ,/, and/cc hair/nn cropped/vbn short/jj except/in for/in the/at long/jj ringlets/nns of/in paot/fw-nn framing/vbg their/pp$ little/jj white/jj faces/nns ./.\\nThey/ppss bent/vbd over/rp yellowed/vbn prayerbooks/nns and/cc looked/vbd up/rp only/rb to/to watch/vb the/at teacher/nn ./.\\nSince/cs they/ppss did/dod not/* glance/vb curiously/rb at/in us/ppo once/rb ,/, I/ppss guessed/vbd that/cs there/ex was/bedz a/at penalty/nn for/in distraction/nn ./.\\nThe/at guttural/jj language/nn from/in the/at ghetto/nn stopped/vbd ./.\\nThe/at teacher/nn plunged/vbd the/at children/nns into/in a/at new/jj portion/nn ,/, this/dt time/nn in/in Hebrew/np ,/, rapping/vbg the/at stick/nn incessantly/rb ./.\\n\\n\\n\\tOne/cd boy/nn who/wps rocked/vbd back/rb and/cc forth/rb over/in his/pp$ worn/vbn book/nn had/hvd bright/jj red/jj hair/nn and/cc freckles/nns ./.\\nHis/pp$ tightly/rb curled/vbn paot/fw-nn hung/vbd down/rp to/in his/pp$ narrow/jj shoulders/nns ./.\\nIn/in the/at center/nn of/in his/pp$ brilliant/jj curls/nns sat/vbd a/at small/jj black/jj skullcap/nn ./.\\nHis/pp$ head/nn barely/rb rose/vbd above/in the/at table/nn ./.\\nI/ppss stared/vbd at/in him/ppo for/in a/at long/jj time/nn ./.\\nHe/pps did/dod not/* return/vb my/pp$ interest/nn ./.\\nMy/pp$ eyes/nns traveled/vbd over/in the/at bare/jj walls/nns and/cc up/in to/in the/at one/cd partially/rb open/jj window/nn high/rb above/in the/at little/jj figures/nns and/cc back/rb to/in the/at boys/nns ./.\\nSome/dti of/in them/ppo ignored/vbn the/at texts/nns and/cc had/hvd apparently/rb memorized/vbn the/at words/nns long/vb ago/rb ./.\\nThey/ppss singsonged/vbd the/at portion/nn at/in the/at teacher/nn ,/, who/wps accompanied/vbd them/ppo in/in an/at off-key/jj baritone/nn and/cc spurred/vbd them/ppo on/rp with/in the/at stick/nn ./.\\nThe/at tapping/nn defined/vbd the/at rhythm/nn and/cc kept/vbd the/at boys/nns awake/rb ./.\\nI/ppss could/md not/* keep/vb my/pp$ eyes/nns away/rb from/in the/at boy/nn with/in the/at red/jj hair/nn ./.\\nHis/pp$ body/nn pitched/vbd back/rb and/cc forth/rb on/in the/at bench/nn ./.\\nHis/pp$ front/jj teeth/nns were/bed missing/vbg ./.\\n\\n\\n\\tI/ppss shuddered/vbd and/cc backed/vbd out/in of/in the/at room/nn ./.\\nRachel/np followed/vbd ,/, looked/vbd at/in me/ppo ,/, and/cc clucked/vbd with/in her/pp$ tongue/nn ./.\\nWe/ppss walked/vbd down/in the/at cool/jj hall/nn silently/rb ./.\\nFrom/in behind/in us/ppo came/vbd the/at rapping/nn of/in the/at stick/nn and/cc the/at high-pitched/jj voices/nns of/in the/at boys/nns who/wps would/md grow/vb to/to devote/vb their/pp$ lives/nns to/in rigid/jj study/nn and/cc prayer/nn ./.\\n\\n\\n\\tI/ppss said/vbd ,/, ``/`` How/wrb long/jj do/do they/ppss keep/vb that/dt up/rp ''/'' ?/. ?/.\\n\\n\\n\\t``/`` All/abn day/nn ''/'' ,/, she/pps said/vbd ./.\\n``/`` Except/in for/in Shabbat/np ,/, when/wrb they/ppss are/ber praying/vbg all/abn day/nn ''/'' ./.\\n\\n\\n\\tI/ppss rubbed/vbd my/pp$ hands/nns together/rb ./.\\nThey/ppss had/hvd turned/vbn numb/jj and/cc prickly/rb in/in the/at classroom/nn ./.\\nThe/at old/jj man/nn in/in the/at baggy/jj clothes/nns waited/vbd at/in the/at foot/nn of/in the/at steps/nns ./.\\nHe/pps glanced/vbd down/rp into/in his/pp$ beard/nn and/cc muttered/vbd something/pn in/in Yiddish/np ./.\\n\\n\\n\\tRachel/np said/vbd ,/, ``/`` He/pps asks/vbz for/in money/nn ''/'' ./.\\n\\n\\n\\tShe/pps passed/vbd by/in him/ppo ./.\\nI/ppss reached/vbd into/in the/at pocket/nn of/in my/pp$ skirt/nn ,/, fingered/vbd ten/cd pruta/fw-nns ,/, and/cc dropped/vbd the/at coin/nn ./.\\nThen/rb I/ppss picked/vbd it/ppo up/rp again/rb and/cc handed/vbd it/ppo to/in the/at old/jj man/nn ./.\\nHe/pps thanked/vbd me/ppo ./.\\nI/ppss didn't/dod* look/vb at/in him/ppo ./.\\n\\n\\n\\tI/ppss grinned/vbd at/in Rachel/np ./.\\n``/`` Does/doz this/dt bother/vb you/ppo ''/'' ?/. ?/.\\nI/ppss said/vbd ./.\\n\\n\\n\\tShe/pps smiled/vbd to/in herself/ppl ./.\\n``/`` Most/ap of/in our/pp$ Sabras/nps think/vb it's/pps+bez horrible/jj ./.\\nWhen/wrb we/ppss were/bed fighting/vbg ,/, a/at few/ap of/in our/pp$ orthodox/jj people/nns were/bed lying/vbg down/rp in/in the/at roads/nns so/cs we/ppss could/md not/* pass/vb ./.\\nThey/ppss said/vbd that/cs we/ppss must/md not/* fight/vb but/cc wait/vb for/in the/at Messiah/np ''/'' ./.\\n\\n\\n\\tI/ppss was/bedz amazed/vbn ./.\\nYou/ppss had/hvd to/to have/hv convictions/nns to/to lie/vb down/rp in/in the/at road/nn in/in all/abn those/dts clothes/nns and/cc appear/vb as/cs though/cs you/ppss might/md wish/vb to/to turn/vb yourself/ppl out/in of/in your/pp$ own/jj home/nr ./.\\nYou/ppss had/hvd to/to be/be stupid/jj or/cc crazy/jj or/cc immortal/jj ./.\\nAnd/cc I/ppss wasn't/bedz* ./.\\nI/ppss was/bedz American/jj ./.\\nYou/ppss had/hvd to/to know/vb ,/, also/rb ,/, that/cs you/ppss were/bed going/vbg to/to fail/vb ./.\\nAll/abn of/in it/ppo might/md have/hv been/ben heroic/jj ,/, but/cc they/ppss had/hvd done/vbn it/ppo in/in the/at wrong/jj place/nn ./.\\nI/ppss resented/vbd them/ppo ./.\\n\\n\\n\\tRachel/np faced/vbd me/ppo ./.\\nHer/pp$ bright/jj eyes/nns were/bed twinkling/vbg ./.\\nShe/pps said/vbd ,/, ``/`` Sometimes/rb I/ppss think/vb they/ppss are/ber keeping/vbg religion/nn for/in us/ppo while/cs we/ppss play/vb around/rb ./.\\nYour/pp$ mother/nn hated/vbd this/dt way/nn of/in life/nn ./.\\nShe/pps wished/vbd to/to change/vb much/rb for/in the/at children/nns here/rb ''/'' ./.\\n\\n\\n\\tI/ppss said/vbd quietly/rb ,/, respectfully/rb ,/, ``/`` What/wps did/dod she/pps do/do here/rb ?/. ?/.\\nIn/in this/dt section/nn ''/'' ?/. ?/.\\n\\n\\n\\tRachel/np clicked/vbd her/pp$ tongue/nn behind/in her/pp$ teeth/nns ./.\\n``/`` Here/rb ,/, nothing/pn ./.\\nBut/cc when/wrb she/pps saw/vbd the/at children/nns you/ppss have/hv just/rb visited/vbn ,/, she/pps wanted/vbd to/to take/vb them/ppo away/rb and/cc put/vb them/ppo out/in in/in the/at country/nn ,/, in/in the/at kibbutzim/nns ./.\\nShe/pps loved/vbd the/at children/nns ./.\\nShe/pps was/bedz a/at strange/jj woman/nn ,/, your/pp$ mother/nn ./.\\nWhen/wrb she/pps loved/vbd ,/, it/pps was/bedz with/in a/at passion/nn that/wps drove/vbd her/ppo along/rb and/cc carried/vbd along/rb with/in her/ppo those/dts things/nns she/pps loved/vbd ./.\\nNothing/pn was/bedz too/ql impossible/jj for/in her/ppo to/to do/do when/wrb she/pps wanted/vbd ./.\\nShe/pps stayed/vbd here/rb to/to work/vb for/in Aliah/np ./.\\nFor/in many/ap immigrants/nns ,/, for/in many/ap children/nns ,/, the/at first/od thing/nn they/ppss knew/vbd of/in Israel/np and/cc freedom/nn was/bedz your/pp$ mother/nn ./.\\nSometimes/rb it/pps was/bedz dangerous/jj for/in her/ppo ''/'' ./.\\nRachel/np grinned/vbd slyly/rb ./.\\n``/`` But/cc she/pps loved/vbd danger/nn ./.\\nShe/pps took/vbd it/ppo with/in her/ppo wherever/wrb she/pps went/vbd ;/. ;/.\\nshe/pps chose/vbd it/ppo ./.\\nAnd/cc I/ppss think/vb she/pps sought/vbd out/rp danger/nn as/ql much/rb as/cs she/pps sought/vbd out/rp helping/vbg other/ap people/nns ./.\\nShe/pps was/bedz most/ql strange/jj woman/nn ./.\\nReady/jj to/to follow/vb her/pp$ impulse/nn ./.\\nIt/pps was/bedz an/at impulse/nn when/wrb she/pps was/bedz here/rb in/in Me'a/np She'arim/np --/-- I/ppss was/bedz with/in her/ppo --/-- that/wps led/vbd her/ppo to/to stay/vb in/in Israel/np ./.\\nYour/pp$ mother/nn wanted/vbd to/to bring/vb children/nns to/in Israel/np so/cs that/cs they/ppss could/md leave/vb their/pp$ ghettos/nns ./.\\nHere/rb they/ppss did/dod not/* need/vb to/to be/be in/in ghettos/nns ./.\\nIf/cs she/pps could/md not/* take/vb the/at children/nns out/in of/in this/dt section/nn ,/, at/in least/ap she/pps could/md take/vb other/ap children/nns out/in of/in their/pp$ countries/nns and/cc put/vb them/ppo on/in the/at farms/nns ./.\\nShe/pps set/vbd out/rp to/to make/vb sure/jj that/cs no/at Jewish/jj child/nn anyplace/rb in/in the/at world/nn had/hvd to/to live/vb in/in a/at place/nn such/jj as/cs this/dt ''/'' ./.\\n\\n\\n\\tI/ppss said/vbd quietly/rb ,/, gaining/vbg nerve/nn ,/, ready/jj to/to ask/vb any/dti question/nn at/in all/abn ,/, no/at matter/nn how/wrb intimate/jj ,/, ready/jj to/to be/be rebuffed/vbn ,/, ``/`` Then/rb why/wrb did/dod she/pps leave/vb Israel/np ?/. ?/.\\nI'd/ppss+md like/vb to/to know/vb that/dt very/ql much/rb ''/'' ./.\\n\\n\\n\\tRachel/np clasped/vbd her/pp$ hands/nns together/rb and/cc slowed/vbd her/pp$ pace/nn ./.\\nThe/at soles/nns of/in her/pp$ sandals/nns reported/vbd sharply/rb on/in the/at cobblestones/nns ./.\\nShe/pps pursed/vbd her/ppo lips/nns ,/, then/rb clamped/vbd them/ppo together/rb so/ql tightly/rb that/cs I/ppss thought/vbd she/pps was/bedz angry/jj with/in me/ppo ./.\\nBut/cc she/pps sighed/vbd and/cc her/pp$ face/nn relaxed/vbd ./.\\n``/`` Trouble/nn came/vbd into/in her/pp$ life/nn ./.\\nShe/pps had/hvd good/jj friends/nns here/rb ,/, people/nns who/wps liked/vbd her/ppo ./.\\nWho/wps loved/vbd her/ppo ./.\\nBut/cc she/pps had/hvd to/to go/vb out/rp and/cc hurt/vb herself/ppl ./.\\nThere/ex was/bedz a/at man/nn here/rb in/in town/nn ./.\\nHe/pps helped/vbd her/ppo meet/vb people/nns so/cs she/pps could/md go/vb out/rp and/cc do/do the/at work/nn she/pps wanted/vbd ./.\\nShe/pps worked/vbd very/ql hard/rb ./.\\nThere/ex was/bedz a/at refugee/nn who/wps was/bedz able/jj to/to come/vb here/rb because/cs of/in her/ppo ./.\\nHe/pps came/vbd with/in his/pp$ son/nn ./.\\nAt/in first/rb I/ppss thought/vbd they/ppss were/bed relatives/nns of/in your/pp$ mother/nn ,/, but/cc it/pps was/bedz not/* so/rb ./.\\nThis/dt refugee/nn was/bedz a/at middle-aged/jj man/nn ,/, a/at big/jj ,/, handsome/jj man/nn with/in a/at strut/nn to/in his/pp$ walk/nn as/cs I/ppss have/hv never/rb before/rb seen/vbn ./.\\nHe/pps had/hvd the/at black/jj numerals/nns on/in his/pp$ arm/nn ,/, so/cs he/pps had/hvd been/ben branded/vbn in/in a/at concentration/nn camp/nn ./.\\nYet/rb he/pps walked/vbd like/cs a/at young/jj man/nn ./.\\nOften/rb he/pps was/bedz terribly/ql despondent/jj and/cc talked/vbd to/in no/at one/pn ./.\\nThen/rb he/pps would/md walk/vb off/rp for/in a/at few/ap days/nns alone/rb in/in the/at direction/nn of/in Europe/np ./.\\nAll/abn his/pp$ family/nn was/bedz dead/jj ,/, except/in for/in his/pp$ son/nn ./.\\nYour/pp$ mother/nn would/md always/rb retrieve/vb him/ppo when/wrb he/pps wandered/vbd off/rp ,/, and/cc she/pps would/md send/vb him/ppo home/nr to/in his/pp$ son/nn ./.\\nHe/pps loved/vbd the/at son/nn and/cc was/bedz always/rb glad/jj to/to be/be sent/vbn back/rb to/in him/ppo ./.\\nThen/rb his/pp$ son/nn did/dod something/pn ''/'' --/-- Rachel/np threw/vbd up/rp her/pp$ hands/nns --/-- ``/`` I/ppss don't/do* know/vb what/wdt ,/, but/cc something/pn ,/, to/in an/at official/nn here/rb --/-- it/pps was/bedz during/in the/at Mandate/nn-tl --/-- and/cc the/at son/nn was/bedz imprisoned/vbn ./.\\nA/at few/ap hours/nns after/cs the/at son/nn was/bedz arrested/vbn ,/, your/pp$ mother/nn was/bedz informed/vbn ./.\\nShe/pps ran/vbd from/in a/at little/jj group/nn of/in us/ppo ./.\\nWe/ppss were/bed sitting/vbg together/rb ,/, talking/vbg ./.\\nShe/pps went/vbd to/in the/at father/nn and/cc found/vbd he/pps had/hvd hanged/vbn himself/ppl ''/'' ./.\\nRachel/np paused/vbd ./.\\nIt/pps was/bedz silent/jj in/in the/at stone/nn alley/nn ./.\\nThen/rb she/pps continued/vbd with/in energy/nn ,/, ``/`` I/ppss myself/ppl did/dod not/* see/vb her/ppo until/cs a/at week/nn after/cs she/pps had/hvd run/vbn off/rp to/to find/vb the/at father/nn ./.\\nNo/at one/pn saw/vbd her/ppo except/in the/at man/nn Reuveni/np ''/'' ./.\\n\\n\\n\\t``/`` Yes/rb ''/'' ,/, I/ppss said/vbd ./.\\n``/`` I/ppss know/vb him/ppo ''/'' ./.\\n\\n\\n\\tRachel/np gave/vbd me/ppo a/at direct/jj ,/, bright-eyed/jj look/nn ./.\\nShe/pps said/vbd ,/, ``/`` Reuveni/np wanted/vbd your/pp$ mother/nn to/to give/vb up/rp her/pp$ deep/jj interest/nn in/in this/dt refugee/nn ./.\\nHe/pps said/vbd she/pps would/md only/rb hurt/vb herself/ppl ./.\\nHe/pps complained/vbd to/in me/ppo once/rb that/cs I/ppss must/md talk/vb to/in her/ppo ./.\\nWhen/wrb I/ppss did/dod ,/, she/pps shrugged/vbd her/pp$ shoulders/nns and/cc said/vbd that/cs Reuveni/np wanted/vbd her/ppo to/to marry/vb him/ppo ./.\\nI/ppss asked/vbd her/ppo if/cs she/pps would/md ,/, and/cc she/pps said/vbd she/pps would/md not/* ./.\\nHe/pps had/hvd known/vbn when/wrb he/pps first/rb helped/vbd her/ppo to/to meet/vb the/at right/jj people/nns and/cc work/vb with/in them/ppo that/cs she/pps did/dod not/* intend/vb to/to marry/vb him/ppo ./.\\nAnyway/rb ,/, I/ppss did/dod not/* see/vb her/ppo until/cs two/cd weeks/nns after/cs the/at refugee/nn hanged/vbd himself/ppl ./.\\nShe/pps came/vbd to/in me/ppo one/cd day/nn ./.\\nShe/pps was/bedz pale/jj and/cc skinny/jj ;/. ;/.\\nshe/pps was/bedz terribly/ql alone/rb ./.\\nAnd/cc she/pps said/vbd that/cs after/cs this/dt man/nn had/hvd been/ben dead/jj for/in a/at week/nn she/pps had/hvd gone/vbn to/in Reuveni/np and/cc accepted/vbd his/pp$ proposal/nn ./.\\nHe/pps shouted/vbd at/in her/ppo and/cc told/vbd her/ppo he/pps loved/vbd her/ppo and/cc couldn't/md* understand/vb why/wrb she/pps had/hvd upset/vbn herself/ppl ./.\\nBut/cc now/rb he/pps was/bedz happy/jj she/pps would/md let/vb him/ppo straighten/vb out/rp her/pp$ life/nn and/cc take/vb care/nn of/in her/ppo ./.\\nHe/pps would/md never/rb let/vb her/ppo harm/nn herself/ppl again/rb ./.\\nFor/cs one/cd whole/jj week/nn he/pps never/rb let/vbd her/ppo stay/vb alone/rb ./.\\nShe/pps let/vbd him/ppo lead/vb her/ppo around/rb ./.\\nHe/pps took/vbd her/ppo to/in a/at doctor/nn ,/, for/cs she/pps was/bedz run/vbn down/rp ,/, nervous/jj ,/, did/dod not/* care/vb where/wrb she/pps was/bedz ./.\\nReuveni/np took/vbd her/ppo with/in him/ppo wherever/wrb he/pps went/vbd ./.\\nHe/pps did/dod not/* let/vb her/ppo talk/vb to/in people/nns ;/. ;/.\\nhe/pps did/dod not/* let/vb her/ppo choose/vb her/pp$ own/jj food/nn ./.\\nShe/pps was/bedz limp/jj and/cc beaten/vbn from/in her/pp$ loss/nn ;/. ;/.\\nshe/pps did/dod not/* care/vb ./.\\n\\n``/`` And/cc I'll/ppss+md take/vb you/ppo with/in me/ppo ''/'' ./.\\nThe/at two/cd of/in them/ppo against/in the/at world/nn ./.\\nThat/dt had/hvd been/ben how/wrb she/pps imagined/vbd it/ppo ./.\\nFor/cs when/wrb he/pps began/vbd to/to talk/vb and/cc dream/vb all/abn at/in the/at same/ap time/nn ,/, making/vbg his/pp$ plans/nns as/cs he/pps went/vbd ,/, she/pps had/hvd begun/vbn dreaming/vbg too/rb ./.\\nBut/cc now/rb the/at dream/nn was/bedz over/rp ./.\\nThe/at big/jj waking/vbg up/rp had/hvd happened/vbn ./.\\n\\n\\n\\t``/`` What/wdt did/dod I/ppss imagine/vb ''/'' ?/. ?/.\\nShe/pps thought/vbd ./.\\n``/`` Did/dod I/ppss see/vb him/ppo about/rb to/to swing/vb low/rb in/in a/at chariot/nn ?/. ?/.\\nOr/cc maybe/rb poling/vbg up/in the/at south/nr fork/nn of/in the/at Forked/vbn-tl Deer/nn-tl River/nn-tl braving/vbg the/at wastes/nns dumped/vbn in/in it/ppo ?/. ?/.\\nMaybe/rb I/ppss saw/vbd him/ppo on/in a/at barge/nn with/in a/at gang/nn of/in Ethiopians/nps poling/vbg it/ppo ''/'' ./.\\n\\n\\n\\tAnd/cc I'll/ppss+md take/vb you/ppo with/in me/ppo ./.\\nHe/pps had/hvd taken/vbn her/ppo all/ql right/rb ./.\\nWednesday/nr nights/nns after/in youth/nn fellowship/nn ./.\\nOut/in of/in the/at church/nn and/cc into/in his/pp$ big/jj car/nn ,/, it/pps tooling/vbg over/in the/at road/nn with/in him/ppo driving/vbg and/cc the/at headlights/nns sweeping/vbg the/at pike/nn ahead/rb and/cc after/cs he/pps hit/vbd college/nn ,/, his/pp$ expansiveness/nn ,/, the/at quaint/jj little/ap pine/nn board/nn tourist/nn courts/nns ,/, cabins/nns really/rb ,/, with/in a/at cute/jj naked/jj light/nn bulb/nn in/in the/at ceiling/nn (/( unfrosted/jj and/cc naked/jj as/cs a/at streetlight/nn ,/, like/cs the/at one/pn on/in the/at corner/nn where/wrb you/ppss used/vbd to/to play/vb when/wrb you/ppss were/bed a/at kid/nn ,/, where/wrb you/ppss watched/vbd the/at bats/nns swooping/vbg in/rp after/in the/at bugs/nns ,/, watching/vbg in/in between/in your/pp$ bouts/nns at/in hopscotch/nn )/) ,/, a/at room/nn complete/jj with/in moths/nns pinging/vbg the/at light/nn and/cc the/at few/ap casual/jj cockroaches/nns cruising/vbg the/at walls/nns ,/, an/at insect/nn Highway/nn-tl Patrol/nn-tl with/in feelers/nns waving/vbg ./.\\nAnd/cc the/at bed/nn that/wps sagged/vbd in/in a/at certain/jj place/nn where/wrb all/abn the/at weight/nn had/hvd been/ben put/vbn too/ql many/ap times/nns before/rb and/cc the/at walls/nns fine/vb and/cc thin/jj for/in overhearing/vbg talk/nn in/in the/at next/ap room/nn when/wrb Gratt/np went/vbd out/rp for/in ice/nn ,/, the/at sound/nn coming/vbg through/in the/at walls/nns like/vb something/pn on/in the/at other/ap side/nn of/in the/at curtain/nn ,/, so/cs you/ppss knew/vbd they/ppss heard/vbd you/ppss when/wrb they/ppss were/bed quiet/jj and/cc while/cs you/ppss lay/vbd wondering/vbg what/wdt they/ppss had/hvd heard/vbn you/ppss listened/vbd ./.\\n\\n\\n\\tAnd/cc Gratt/np Shafer/np would/md be/be in/in Memphis/np today/nr for/in the/at wedding/nn rehearsal/nn and/cc then/rb tomorrow/nr he/pps would/md marry/vb just/rb like/cs everybody/pn knew/vbd he/pps would/md ,/, just/rb like/cs everybody/pn knew/vbd all/abn along/rb ./.\\nLike/cs Mattie/np and/cc the/at mayor/nn up/rp there/rb gripping/vbg the/at microphone/nn and/cc Toonker/np Burkette/np back/rb in/in his/pp$ office/nn yanking/vbg out/rp teeth/nns ,/, like/cs they/ppss all/abn knew/vbd he/pps would/md ./.\\nJust/rb like/cs the/at balloon/nn would/md go/vb up/rp and/cc you/ppss could/md sit/vb all/abn day/nn and/cc wish/vb it/pps would/md spring/vb a/at leak/nn or/cc blow/vb to/in hell/nn up/rp and/cc burn/vb and/cc nothing/pn like/cs that/dt would/md happen/vb ./.\\nOr/cc you/ppss could/md hope/vb the/at parachute/nn wouldn't/md* open/vb just/rb so/cs you/ppss could/md say/vb you/ppss saw/vbd it/ppo not/* open/jj ,/, not/* because/cs you/ppss meant/vbd any/dti harm/nn to/in Starkey/np Poe/np in/in his/pp$ suit/nn of/in red/jj underwear/nn ,/, but/cc mainly/rb because/cs you/ppss were/bed tired/vbn of/in being/beg an/at old/jj maid/nn --/-- a/at thing/nn which/wdt cannot/md* admit/vb when/wrb it/pps thinks/vbz it/ppo might/md be/be pregnant/jj ,/, but/cc must/md stand/vb the/at dizzy/jj feeling/nn all/ql alone/rb and/cc go/vb on/rp like/cs everything/pn is/bez all/ql right/jj instead/rb of/in being/beg able/jj to/to say/vb to/in somebody/pn in/in a/at normal/jj voice/nn :/: ``/`` I/ppss think/vb I'm/ppss+bem pregnant/jj ''/'' ./.\\nYou/ppss could/md wish/vb that/dt ./.\\nOr/cc you/ppss could/md wish/vb your/pp$ daddy/nn would/md really/rb do/do it/ppo --/-- kill/vb Gratt/np Shafer/np like/cs he/pps said/vbd when/wrb you/ppss all/abn the/at time/nn ,/, all/abn along/rb ,/, could/md feel/vb the/at nerve/nn draining/vbg out/in of/in him/ppo like/cs air/nn out/in of/in a/at punctured/vbn tire/nn when/wrb you/ppss are/ber on/in a/at muddy/jj road/nn alone/rb and/cc it/pps is/bez raining/vbg and/cc at/in night/nn ./.\\nSo/cs you/ppss sit/vb in/in the/at car/nn and/cc listen/vb to/in the/at air/nn run/vb out/rp and/cc listen/vb to/in the/at rain/nn and/cc see/vb the/at mud/nn in/in front/nn of/in the/at headlights/nns ,/, waiting/vbg for/in you/ppo ,/, for/in your/pp$ new/jj spectator/nn pumps/nns ,/, waiting/vbg for/in you/ppo to/to squat/vb by/in yourself/ppl out/rp there/rb in/in your/pp$ tight/jj skirt/nn ,/, crying/vbg and/cc afraid/jj and/cc trying/vbg to/to get/vb that/dt damned/vbn son-of-a-bitch/nn tire/nn off/rp ,/, because/cs that/dt is/bez being/beg an/at old/jj maid/nn too/rb ,/, if/cs you/ppss happen/vb to/to drive/vb a/at car/nn ,/, it/pps is/bez changing/vbg the/at tire/nn yourself/ppl in/in the/at night/nn ,/, and/cc in/in the/at mud/nn and/cc the/at rain/nn ,/, hating/vbg to/to get/vb out/rp in/in it/ppo but/cc afraid/jj to/to stay/vb and/cc afraid/jj to/to try/vb to/to walk/vb out/rp for/in help/nn ./.\\nAnd/cc every/at sound/nn that/wps might/md be/be the/at rain/nn also/rb might/md be/be the/at man/nn who/wps thinks/vbz after/cs he/pps has/hvz raped/vbn you/ppo he/pps has/hvz to/to beat/vb your/pp$ brains/nns out/rp with/in a/at tire/nn tool/nn so/cs you/ppss won't/md* tell/vb ,/, a/at combination/nn like/cs ham/nn and/cc eggs/nns ,/, rape/vb her/ppo and/cc kill/vb her/ppo ,/, and/cc that/dt is/bez being/beg an/at old/jj maid/nn too/rb ./.\\nIt/pps is/bez not/* having/hvg his/pp$ baby/nn nestled/vbn warm/jj and/cc fat/jj against/in your/pp$ breast/nn and/cc it/pps is/bez not/* having/hvg somebody/pn that/wps really/rb gives/vbz a/at damn/nn whether/cs some/dti tramp/nn cracks/vbz your/pp$ skull/nn ./.\\nAnd/cc most/ap of/in all/abn it/pps is/bez not/* having/hvg the/at only/ap man/nn you/ppss could/md love/vb ,/, whether/cs he/pps drives/vbz a/at bread/nn truck/nn or/cc delivers/vbz the/at mail/nn or/cc checks/vbz the/at berry/nn crates/nns down/rp at/in the/at sheds/nns ,/, or/cc owns/vbz seventeen/cd oil/nn wells/nns and/cc six/cd diamond/nn mines/nns ,/, for/cs if/cs you/ppss are/ber anybody/pn what/wdt he/pps is/bez or/cc does/doz makes/vbz no/at difference/nn if/cs he/pps is/bez the/at one/pn ./.\\nHe/pps can/md even/rb be/be a/at mild-voiced/jj little-town/nn guy/nn with/in big-town/nn ideas/nns and/cc level/jj gray/jj eyes/nns and/cc a/at heart/nn even/rb Houdini/np couldn't/md* figure/vb out/rp ,/, how/wrb it/pps is/bez unlocked/vbn ./.\\nAnd/cc he/pps can/md be/be on/in the/at way/nn to/in Memphis/np ,/, your/pp$ Gratt/np Shafer/np can/md ,/, and/cc you/ppss discover/vb you/ppss can/md stay/vb alive/jj and/cc hate/vb him/ppo and/cc love/vb him/ppo and/cc want/vb him/ppo even/rb if/cs it/pps means/vbz you/ppss want/vb him/ppo --/-- really/rb want/vb him/ppo --/-- dead/jj ./.\\nBecause/cs if/cs you/ppss can't/md* then/rb nobody/pn else/rb can/md either/rb ,/, nobody/pn else/rb can/md have/hv him/ppo ./.\\nFor/cs you/ppss don't/do* share/vb him/ppo ,/, not/* even/rb with/in God/np ./.\\nIf/cs it/pps is/bez love/nn ,/, you/ppss don't/do* ./.\\n\\n\\n\\tAnd/cc I'll/ppss+md take/vb you/ppo with/in me/ppo ./.\\nEven/rb if/cs that's/dt+bez all/abn the/at promise/nn he/pps ever/rb gave/vbd or/cc ever/rb will/md give/vb ,/, the/at giving/nn of/in it/ppo once/rb was/bedz enough/ap and/cc you/ppss believed/vbd it/ppo then/rb and/cc you/ppss will/md always/rb believe/vb it/ppo ,/, even/rb when/wrb it/pps is/bez finally/rb the/at only/ap thing/nn in/in the/at world/nn you/ppss have/hv left/vbn to/to believe/vb ,/, and/cc the/at whole/jj world/nn is/bez telling/vbg you/ppo that/dt one/pn was/bedz a/at lie/nn ./.\\nEven/rb when/wrb he/pps is/bez on/in the/at way/nn to/in Memphis/np you/ppss will/md still/rb have/hv the/at promise/nn resting/vbg inside/in you/ppo like/cs a/at gift/nn ,/, and/cc it/pps is/bez he/pps inside/in of/in you/ppo ./.\\nAnd/cc in/in a/at way/nn the/at promise/nn works/vbz out/rp true/jj ,/, for/cs whether/cs he/pps wants/vbz you/ppo or/cc not/* ,/, you/ppss go/vb with/in him/ppo in/in your/pp$ heart/nn ./.\\nYou/ppss feel/vb him/ppo every/at mile/nn further/rbr away/rb ./.\\nYou/ppss feel/vb where/wrb he/pps is/bez and/cc what/wdt he/pps sees/vbz ,/, and/cc at/in night/nn you/ppss feel/vb when/wrb he/pps is/bez asleep/rb or/cc with/in the/at other/ap woman/nn ,/, the/at one/pn that/wps never/rb could/md love/vb him/ppo the/at way/nn you/ppss do/do ,/, the/at one/pn who/wps got/vbd him/ppo because/cs she/pps didn't/dod* particularly/rb give/vb a/at damn/nn whether/cs she/pps got/vbd him/ppo or/cc didn't/dod* ./.\\nAnd/cc you/ppss know/vb you/ppss will/md always/rb wonder/vb all/abn of/in your/pp$ life/nn whether/cs it/pps was/bedz because/cs you/ppss wanted/vbd him/ppo so/ql bad/rb that/cs you/ppss didn't/dod* get/vb him/ppo ,/, and/cc you/ppss can/md feel/vb nearly/rb sorry/jj enough/qlp to/to cry/vb when/wrb you/ppss think/vb of/in that/dt other/ap guy/nn ,/, the/at chump/nn who/wps begged/vbd you/ppo to/to marry/vb him/ppo ,/, the/at one/pn with/in the/at plastered/vbn hair/nn and/cc the/at car/nn he/pps couldn't/md* afford/vb and/cc the/at too-shiny/jj shoes/nns ./.\\nYou/ppss think/vb :/: ``/`` Did/dod he/pps feel/vb that/dt way/nn about/in me/ppo ''/'' ?/. ?/.\\nIt/pps comes/vbz to/in you/ppo that/cs probably/rb he/pps did/dod feel/vb that/dt way/nn to/to let/vb you/ppss use/vb him/ppo like/cs you/ppss did/dod when/wrb you/ppss couldn't/md* have/hv Gratt/np Shafer/np ;/. ;/.\\nthat/cs he/pps must/md have/hv since/cs he/pps was/bedz there/rb like/cs the/at radio/nn for/in you/ppo to/to turn/vb on/rp or/cc snap/vb off/rp when/wrb you/ppss got/vbd tired/vbn of/in him/ppo ,/, that/dt other/ap guy/nn ./.\\nIt/pps dawns/vbz on/in you/ppo that/cs instead/rb of/in a/at lump/nn to/to fill/vb the/at seat/nn across/in the/at bridge/nn table/nn from/in you/ppo ,/, he/pps was/bedz a/at man/nn ,/, and/cc that/cs because/cs Gratt/np Shafer/np was/bedz making/vbg you/ppo miserable/jj ,/, you/ppss were/bed passing/vbg it/ppo down/rp to/in him/ppo ,/, to/in Gratt/np Shafer's/np$ substitute/nn ,/, that/dt other/ap guy/nn ./.\\nAnd/cc you/ppss wonder/vb if/cs that/dt is/bez why/wrb the/at little/ap man/nn lost/vbd his/pp$ job/nn and/cc his/pp$ car/nn and/cc stayed/vbd drunk/jj about/in a/at year/nn before/cs he/pps straightened/vbd out/rp and/cc moved/vbd to/in St./np Louis/np ,/, where/wrb he/pps got/vbd to/to be/be a/at big/jj unhappy/jj success/nn ./.\\nYou/ppss wonder/vb if/cs he/pps looks/vbz at/in his/pp$ wife/nn now/rb and/cc thinks/vbz of/in you/ppo ./.\\nYou/ppss wonder/vb about/in the/at Christmas/np card/nn with/in no/at name/nn on/in it/ppo ,/, and/cc it/pps comes/vbz to/in you/ppo that/cs maybe/rb it/pps would/md have/hv been/ben better/rbr to/to have/hv made/vbn somebody/pn else/rb happy/jj if/cs you/ppss couldn't/md* be/be happy/jj yourself/ppl ,/, to/to give/vb somebody/pn else/rb the/at one/pn they/ppss wanted/vbd --/-- to/to give/vb them/ppo you/ppo ./.\\n\\n\\n\\t``/`` Damn/vb the/at world/nn ''/'' ,/, she/pps thought/vbd ./.\\nShe/pps looked/vbd out/rp at/in the/at corn/nn field/nn ,/, the/at great/jj green/jj deep/jj acres/nns of/in it/ppo rolled/vbn out/rp like/cs the/at sea/nn in/in the/at field/nn beyond/in the/at whitewashed/vbn fence/nn bordering/vbg the/at grounds/nns ./.\\nThe/at mayor/nn envisioned/vbd factories/nns there/rb ./.\\nHomes/nns and/cc factories/nns and/cc schools/nns and/cc a/at big/jj wide/jj federal/jj highway/nn ,/, instead/rb of/in peaceful/jj corn/nn to/to rest/vb your/pp$ eyes/nns on/rp while/cs you/ppss tried/vbd to/to rest/vb your/pp$ heart/nn ,/, while/cs you/ppss tried/vbd not/* to/to look/vb at/in the/at balloon/nn and/cc the/at bandstand/nn and/cc the/at uniforms/nns and/cc the/at flash/nn of/in the/at instruments/nns ./.\\nThe/at bands/nns were/bed impatient/jj ,/, but/cc they/ppss were/bed the/at only/ap ones/nns ./.\\nThe/at others/nns ,/, the/at ones/nns in/in the/at stands/nns ,/, were/bed spellbound/vbn ,/, for/cs hearing/vbg the/at mayor/nn was/bedz for/in them/ppo like/cs listening/vbg to/in a/at symphony/nn was/bedz for/in sophisticated/jj folks/nns in/in New/jj-tl York/np-tl City/nn-tl ./.\\nIt/pps was/bedz like/cs being/beg in/in the/at concert/nn hall/nn in/in the/at afternoon/nn and/cc hearing/vbg the/at piano/nn virtuoso/nn rehearsing/vbg ./.\\nHe/pps was/bedz good/jj and/cc they/ppss knew/vbd that/cs what/wdt he/pps was/bedz doing/vbg for/in them/ppo he/pps would/md do/do all/abn over/in the/at United/vbn-tl States/nns-tl some/dti day/nn ./.\\nSo/cs they/ppss stayed/vbd quiet/jj and/cc hung/vbd not/* on/in what/wdt he/pps said/vbd but/cc on/in how/wrb he/pps said/vbd it/ppo ,/, not/* listening/vbg exactly/rb ,/, but/cc rather/rb ,/, feeling/vbg ./.\\nIf/cs a/at man/nn was/bedz good/jj ,/, if/cs he/pps was/bedz going/vbg to/to be/be governor/nn ,/, you/ppss felt/vbd it/ppo and/cc you/ppss wanted/vbd him/ppo to/to go/vb on/rp forever/rb ./.\\nYou/ppss were/bed sorry/jj when/wrb he/pps finished/vbd talking/vbg because/cs while/cs he/pps was/bedz up/rp there/rb you/ppss were/bed someone/pn else/rb and/cc the/at world/nn was/bedz something/pn else/rb too/rb ./.\\nIt/pps was/bedz a/at place/nn full/jj of/in courage/nn and/cc hope/nn and/cc you/ppss were/bed part/nn of/in it/ppo ./.\\nYou/ppss laughed/vbd and/cc then/rb your/pp$ chest/nn swelled/vbd and/cc you/ppss felt/vbd you/ppss could/md cry/vb for/in a/at little/ap bit/nn ,/, and/cc then/rb a/at feeling/nn hit/vbd you/ppo like/cs a/at chill/nn in/in your/pp$ stomach/nn and/cc the/at goose/nn bumps/nns rippled/vbd along/in your/pp$ arm/nn ./.\\nHe/pps hit/vbd the/at theme/nn about/in dying/vbg to/to defend/vb your/pp$ country/nn ,/, and/cc you/ppss were/bed ready/jj to/to do/do it/ppo right/ql then/rb ,/, without/in a/at second/od thought/nn ./.\\nWhile/cs he/pps talked/vbd you/ppss wouldn't/md* trade/vb being/beg a/at West/jj-tl Tennessee/np-tl farmer/nn for/in being/beg anything/pn else/rb in/in the/at whole/jj damned/vbn world/nn ,/, no/at matter/nn if/cs it/pps hadn't/hvd* ,/, in/in six/cd weeks/nns ,/, rained/vbd enough/qlp to/to wet/vb a/at rat's/nn$ ass/nn ./.\\n\\n\\n\\tShe/pps glanced/vbd at/in the/at man/nn nodding/vbg beside/in her/ppo ,/, a/at man/nn with/in weather/nn cracks/nns furrowed/vbd into/in his/pp$ lean/jj cheeks/nns ,/, with/in powdery/jj pale/jj eyes/nns reflecting/vbg all/abn the/at droughts/nns he/pps had/hvd seen/vbn ,/, reflecting/vbg the/at sky/nn and/cc the/at drought/nn which/wdt must/md follow/vb now/rb in/in August/np --/-- yes/rb ,/, with/in eyes/nns predicting/vbg the/at drought/nn and/cc here/rb it/pps was/bedz only/rb June/np ,/, only/rb festival/nn time/nn again/rb and/cc thoughts/nns of/in Gratt/np Shafer/np would/md not/* leave/vb her/ppo ./.\\n``/`` I/ppss should/md have/hv stayed/vbn at/in the/at store/nn ''/'' ,/, she/pps thought/vbd ./.\\n\\n\\n\\tBack/rb at/in the/at Factory-to-You/nn-tl with/in the/at other/ap old/jj maids/nns ,/, back/rb there/rb she/pps was/bedz the/at youngest/jjt clerk/nn and/cc she/pps was/bedz thirty-four/cd ,/, which/wdt made/vbd her/ppo young/jj enough/qlp to/to resent/vb the/at usual/jj ideal/jj working/vbg conditions/nns ,/, like/cs the/at unventilated/jj toilet/nn with/in the/at door/nn you/ppss had/hvd to/to hold/vb shut/vbn while/cs you/ppss sat/vbd down/rp ./.\\nThere/ex was/bedz no/at lock/nn because/cs Herman/np didn't/dod* allow/vb a/at lock/nn ./.\\nA/at lock/nn on/in the/at toilet/nn would/md encourage/vb malingering/nn and/cc primping/vbg ./.\\nThe/at toilet/nn hadn't/hvd* had/hvn a/at sincere/jj scrubbing/nn in/in years/nns and/cc there/ex were/bed things/nns written/vbn on/in the/at walls/nns of/in the/at little/jj boxed-in/jj place/nn because/cs you/ppss couldn't/md* keep/vb the/at public/nn out/rp --/-- entirely/rb ./.\\nShe/pps could/md not/* count/vb the/at times/nns Herman/np had/hvd rapped/vbn on/in the/at door/nn ,/, just/rb a/at couple/nn of/in bangs/nns that/wps shook/vbd the/at whole/jj damned/vbn closet/nn and/cc might/md ,/, someday/rb ,/, break/vb away/rb the/at pipe/nn connections/nns from/in the/at wall/nn ./.\\nThe/at two/cd little/jj bangs/nns meant/vbd that/cs he/pps was/bedz getting/vbg impatient/jj to/to have/hv a/at crowd/nn of/in customers/nns waited/vbd on/rp and/cc that/cs if/cs he/pps had/hvd to/in he/pps would/md jerk/vb open/vb the/at door/nn and/cc drag/vb out/rp ,/, by/in the/at opposite/jj door/nn handle/nn which/wdt she/pps would/md be/be clutching/vbg ,/, whichever-the-hell/wdt clerk/nn it/pps was/bedz who/wps thought/vbd she/pps could/md waste/vb so/ql much/ap store/nn time/nn on/in the/at pot/nn ./.\\n\\n\\n\\tAnd/cc the/at hours/nns were/bed six-thirty/cd in/in the/at morning/nn until/in eleven/cd at/in night/nn on/in Saturdays/nrs and/cc during/in sales/nns ,/, and/cc there/ex were/bed no/at chairs/nns and/cc you/ppss couldn't/md* smoke/vb and/cc the/at cooling/vbg was/bedz overhead/jj fans/nns and/cc there/ex was/bedz no/at porter/nn or/cc janitor/nn ./.\\n\\n\\n\\n\\tAmong/in us/ppo ,/, we/ppss three/cd handled/vbd quite/abl a/at few/ap small/jj commissions/nns ,/, from/in spot/nn drawings/nns for/in advertising/vbg agencies/nns uptown/rb to/in magazine/nn work/nn and/cc quick/jj lettering/vbg jobs/nns ./.\\nEach/dt of/in us/ppo had/hvn his/pp$ own/jj specialty/nn besides/rb ./.\\nGeorge/np did/dod wonderful/jj complicated/vbn pen-and-ink/nn drawings/nns like/vb something/pn out/in of/in a/at medieval/jj miniature/nn :/: hundreds/nns of/in delicate/jj details/nns crammed/vbn into/in an/at eight-by-ten/cd sheet/nn and/cc looking/vbg as/cs if/cs they/ppss had/hvd been/ben done/vbn under/in a/at jeweler's/nn$ glass/nn ./.\\nHe/pps also/rb drew/vbd precise/jj crisp/nn spots/nns ,/, which/wdt he/pps sold/vbd to/in various/jj literary/jj and/cc artistic/jj journals/nns ,/, The/at-tl New/jj-tl Yorker/np-tl ,/, for/in instance/nn ,/, or/cc Esquire/np ./.\\nI/ppss did/dod book/nn jackets/nns and/cc covers/nns for/in paperback/nn reprints/nns :/: naked/jj girls/nns huddling/vbg in/in corners/nns of/in dingy/jj furnished/vbn rooms/nns while/cs at/in the/at doorway/nn ,/, daring/vbg the/at cops/nns to/to take/vb him/ppo ,/, is/bez the/at guy/nn in/in shirt/nn sleeves/nns clutching/vbg a/at revolver/nn ./.\\nThe/at book/nn could/md be/be The/at-tl Brothers/nns-tl Karamazov/np-tl ,/, but/cc it/pps would/md still/rb have/hv the/at same/ap jacket/nn illustration/nn ./.\\nI/ppss remember/vb once/cs I/ppss did/dod a/at jacket/nn for/in Magpie/np-tl Press/nn-tl ;/. ;/.\\nthe/at book/nn was/bedz a/at fine/jj historical/jj novel/nn about/in Edward/np-tl 3/cd-tl ,/, ,/, and/cc I/ppss did/dod a/at week/nn of/in research/nn to/to get/vb the/at details/nns just/ql right/jj :/: the/at fifteenth-century/nn armor/nn ,/, furnishings/nns ,/, clothes/nns ./.\\nI/ppss even/rb ferreted/vbd out/rp the/at materials/nns from/in which/wdt shields/nns were/bed made/vbn --/-- linden/nn wood/nn covered/vbn with/in leather/nn --/-- so/cs I'd/ppss+md get/vb the/at light/nn reflections/nns accurate/jj ./.\\nMcKenzie/np ,/, the/at art/nn editor/nn ,/, took/vbd one/cd look/nn at/in my/pp$ finished/vbn sketch/nn and/cc said/vbd ,/, ``/`` Nothing/pn doing/vbg ,/, Rufus/np ./.\\nIn/in the/at first/od place/nn ,/, it's/pps+bez static/jj ;/. ;/.\\nin/in the/at second/od place/nn ,/, it/pps doesn't/doz* look/vb authentic/jj ;/. ;/.\\nand/cc in/in the/at third/od place/nn ,/, it/pps would/md cost/vb a/at fortune/nn to/to reproduce/vb in/in the/at first/od place/nn --/-- you've/ppss+hv got/vbn six/cd colors/nns there/rb including/in gold/nn ''/'' ./.\\nI/ppss said/vbd ,/, ``/`` Mr./np McKenzie/np ,/, it/pps is/bez as/cs authentic/jj as/cs careful/jj research/nn can/md make/vb it/ppo ''/'' ./.\\nHe/pps said/vbd ,/, ``/`` That/wps may/md be/be ,/, but/cc it/pps isn't/bez* authentic/jj the/at way/nn readers/nns think/vb ./.\\nThey/ppss know/vb from/in their/pp$ researches/nns into/in television/nn and/cc the/at movies/nns that/cs knights/nns in/in the/at middle/jj ages/nns had/hvd beautiful/jj flowing/vbg haircuts/nns like/cs Little/jj-tl Lord/nn-tl Fauntleroy/np-tl ,/, and/cc only/ap the/at villains/nns had/hvd beards/nns ./.\\nAnd/cc girls/nns couldn't/md* have/hv dressed/vbn like/cs that/dt --/-- it/pps isn't/bez* transparent/jj enough/qlp ''/'' ./.\\nIn/in the/at end/nn ,/, I/ppss did/dod the/at same/ap old/jj picture/nn ,/, the/at naked/jj girl/nn and/cc the/at guy/nn in/in the/at doorway/nn ,/, only/rb I/ppss put/vbd a/at Lord/nn-tl Byron/np shirt/nn on/in the/at guy/nn ,/, gave/vbd him/ppo a/at sword/nn instead/rb of/in a/at pistol/nn ,/, and/cc painted/vbn in/rp furniture/nn from/in the/at stills/nns of/in a/at costume/nn movie/nn ./.\\nMcKenzie/np was/bedz as/cs happy/jj as/cs a/at clam/nn ./.\\n``/`` That's/dt+bez authenticity/nn ''/'' ,/, he/pps said/vbd ./.\\n\\n\\n\\tAs/in for/in Donald/np ,/, he/pps actually/rb sold/vbd paintings/nns ./.\\nWe/ppss all/abn painted/vbd in/in our/pp$ spare/jj time/nn ,/, and/cc we/ppss had/hvd all/abn started/vbn as/cs easel/nn painters/nns with/in scholarships/nns ,/, but/cc he/pps was/bedz the/at only/ap one/pn of/in us/ppo who/wps made/vbd any/dti regular/jj money/nn at/in it/ppo ./.\\nNot/* much/ap ;/. ;/.\\nhe/pps sold/vbd perhaps/rb three/cd or/cc four/cd a/at year/nn ,/, and/cc usually/rb all/abn to/in Joyce/np Monmouth/np or/cc her/pp$ friends/nns ./.\\nHe/pps had/hvd style/nn ,/, a/at real/jj inner/jj vision/nn of/in his/pp$ very/ql own/jj ./.\\nIt/pps was/bedz strange/jj stuff/nn --/-- it/pps reminded/vbd me/ppo of/in the/at pictures/nns of/in a/at child/nn ,/, but/cc a/at child/nn who/wps has/hvz never/rb played/vbn with/in other/ap kids/nns and/cc has/hvz lived/vbn all/abn its/pp$ life/nn with/in adults/nns ./.\\nThere/ex was/bedz the/at freshness/nn of/in color/nn ,/, the/at freedom/nn of/in perception/nn ,/, the/at lack/nn of/in self-consciousness/nn ,/, but/cc with/in a/at twist/nn that/cs made/vbd the/at forms/nns leap/vb from/in the/at page/nn and/cc smack/vb you/ppo in/in the/at eye/nn ./.\\nWe/ppss used/vbd to/to kid/vb him/ppo by/in saying/vbg he/pps only/rb painted/vbd that/dt way/nn because/cs he/pps was/bedz so/ql nearsighted/jj ./.\\nIt/pps may/md have/hv been/ben true/jj for/in all/abn I/ppss know/vb ,/, because/cs his/pp$ glasses/nns were/bed like/cs the/at bottoms/nns of/in milk/nn bottles/nns ,/, but/cc it/pps didn't/dod* prevent/vb the/at paintings/nns from/in being/beg exciting/jj ./.\\nHe/pps also/rb had/hvd ,/, at/in times/nns ,/, an/at uncanny/jj absent-minded/jj air/nn like/cs a/at sleepwalker/nn ;/. ;/.\\nhe/pps would/md look/vb right/ql through/in you/ppo while/cs you/ppss were/bed talking/vbg to/in him/ppo ,/, and/cc if/cs you/ppss said/vbd ,/, ``/`` For/in Christ's/np$ sake/nn ,/, Donald/np ,/, you've/ppss+hv got/vbn Prussian/jj blue/jj all/abn over/in your/pp$ shirt/nn ''/'' ,/, he/pps would/md smile/vb ,/, and/cc nod/vb ,/, and/cc an/at hour/nn later/rbr the/at paint/nn would/md be/be all/abn over/in his/pp$ pants/nns as/ql well/rb ./.\\nMrs./np Monmouth/np thought/vbd of/in him/ppo as/cs her/pp$ discovery/nn ,/, and/cc she/pps paid/vbd two/cd to/in three/cd hundred/cd dollars/nns for/in a/at painting/nn ./.\\nIt/pps was/bedz all/abn gravy/nn ,/, and/cc Donald/np didn't/dod* need/vb much/ap to/to live/vb on/in ;/. ;/.\\nnone/pn of/in us/ppo did/dod ./.\\nWe/ppss shared/vbd the/at expenses/nns of/in the/at studio/nn ,/, and/cc we/ppss all/abn lived/vbd within/in walking/vbg distance/nn of/in it/ppo ,/, in/in cheap/jj lodgings/nns of/in one/cd kind/nn or/cc another/dt ./.\\n\\n\\n\\tAttending/vbg the/at life/nn class/nn was/bedz my/pp$ idea/nn --/-- or/cc rather/rb ,/, Askington's/np$ idea/nn ,/, but/cc I/ppss was/bedz ripe/jj for/in it/ppo ,/, and/cc the/at other/ap two/cd wouldn't/md* have/hv gone/vbn if/cs I/ppss hadn't/hvd* talked/vbn them/ppo into/in it/ppo ./.\\nI/ppss wanted/vbd to/to paint/vb again/rb ./.\\nI/ppss hadn't/hvd* done/vbn a/at serious/jj picture/nn in/in almost/rb a/at year/nn ./.\\nIt/pps wasn't/bedz* just/rb the/at pressure/nn of/in work/nn ,/, although/cs that/dt was/bedz the/at excuse/nn I/ppss often/rb used/vbd ,/, even/rb to/in myself/ppl ./.\\nIt/pps was/bedz the/at kind/nn of/in work/nn I/ppss was/bedz doing/vbg ,/, the/at quality/nn of/in the/at ambition/nn it/pps awoke/vbd in/in me/ppo ,/, that/wps kept/vbd me/ppo from/in painting/vbg ./.\\nI/ppss kept/vbd saying/vbg ,/, ``/`` If/cs I/ppss could/md just/rb build/vb up/rp a/at reputation/nn for/in myself/ppl ,/, make/vb some/dti real/jj money/nn ,/, get/vb to/to be/be well/rb known/vbn as/cs an/at illustrator/nn --/-- like/cs Peter/np Askington/np ,/, for/in instance/nn --/-- then/rb I/ppss could/md take/vb some/dti time/nn off/rp and/cc paint/vb ''/'' ./.\\nAskington/np was/bedz a/at kind/nn of/in goal/nn I/ppss set/vbd myself/ppl ;/. ;/.\\nI/ppss had/hvd admired/vbn him/ppo long/rb before/cs I/ppss talked/vbd to/in him/ppo ./.\\nIt/pps looked/vbd to/in me/ppo as/cs though/cs he/pps had/hvd everything/pn an/at artist/nn could/md want/vb ,/, joy/nn in/in his/pp$ work/nn ,/, standing/nn in/in the/at profession/nn ,/, a/at large/jj and/cc steady/jj income/nn ./.\\nThe/at night/nn we/ppss first/od met/vbd ,/, at/in one/pn of/in Mrs./np Monmouth's/np$ giant/jj parties/nns ,/, he/pps was/bedz wearing/vbg a/at brown/jj cashmere/nn jacket/nn with/in silver/nn buttons/nns and/cc a/at soft/jj pink/jj Viyella/np shirt/nn ;/. ;/.\\ninstead/rb of/in a/at necktie/nn he/pps wore/vbd a/at leather/nn bolo/nn drawn/vbn through/in a/at golden/jj ring/nn in/in which/wdt was/bedz set/vbn a/at lump/nn of/in pale/jj pure/jj jade/nn ./.\\nThis/dt set/vbd his/pp$ tone/nn :/: richness/nn of/in texture/nn and/cc color/nn ,/, and/cc another/dt kind/nn of/in richness/nn as/ql well/rb ,/, for/cs his/pp$ clothing/nn and/cc decorations/nns would/md have/hv paid/vbn the/at Brush-off's/np$ rent/nn for/in a/at year/nn ./.\\nHe/pps was/bedz fifteen/cd years/nns older/jjr than/cs I/ppss --/-- forty-four/cd --/-- but/cc full/jj of/in spring/nn and/cc sparkle/nn ./.\\nHe/pps didn't/dod* look/vb like/cs what/wdt I/ppss thought/vbd of/in as/cs an/at old/jj man/nn ,/, and/cc his/pp$ lively/rb and/cc erudite/jj speech/nn made/vbd him/ppo seem/vb even/rb younger/jjr ./.\\nHe/pps was/bedz one/pn of/in the/at most/ql prominent/jj magazine/nn illustrators/nns in/in America/np ;/. ;/.\\nyou/ppss saw/vbd one/pn of/in his/pp$ paintings/nns on/in the/at cover/nn of/in one/pn or/cc another/dt of/in the/at slick/jj national/jj magazines/nns every/at month/nn ./.\\nLife/nn-tl had/hvd included/vbn him/ppo in/in its/pp$ ``/`` Modern/jj-tl American/jj-tl Artists/nns-tl ''/'' series/nn and/cc had/hvd photographed/vbn him/ppo at/in his/pp$ studio/nn in/in the/at East/jj-tl Sixties/nns-tl ;/. ;/.\\nthe/at corner/nn of/in it/ppo you/ppss could/md see/vb in/in the/at photograph/nn looked/vbd as/cs though/cs it/pps ought/md to/to have/hv Velasquez/np in/in it/ppo painting/vbg the/at royalty/nn of/in Spain/np ./.\\n\\n\\n\\tI/ppss had/hvd a/at long/jj talk/nn with/in him/ppo ./.\\nWe/ppss went/vbd into/in Mrs./np Monmouth's/np$ library/nn ,/, which/wdt had/hvd low/jj bookshelves/nns all/abn along/in the/at walls/nns ,/, and/cc above/in them/ppo a/at Modigliani/np portrait/nn ,/, a/at Jackson/np Pollock/np twelve/cd feet/nns long/vb ,/, and/cc a/at gorgeous/jj Miro/np with/in a/at yellow/jj background/nn ,/, that/wps looked/vbd like/cs an/at inscription/nn from/in a/at Martian/jj tomb/nn ./.\\nThe/at fireplace/nn had/hvd tiles/nns made/vbn for/in Mrs./np Monmouth/np by/in Picasso/np himself/ppl ./.\\nLike/cs certain/jj expensive/jj restaurants/nns ,/, just/rb sitting/vbg there/rb gave/vbd you/ppo the/at illusion/nn of/in being/beg wealthy/jj yourself/ppl ./.\\n\\n\\n\\tIn/in the/at course/nn of/in our/pp$ talk/nn ,/, Askington/np mentioned/vbd that/cs he/pps spent/vbd part/nn of/in each/dt week/nn studying/vbg ./.\\n``/`` By/in yourself/ppl ''/'' ?/. ?/.\\nI/ppss asked/vbd ./.\\n``/`` No/rb ,/, I/ppss take/vb classes/nns with/in different/jj people/nns ''/'' ,/, he/pps said/vbd ./.\\n``/`` I/ppss don't/do* think/vb I've/ppss+hv reached/vbn the/at point/nn ,/, yet/rb ,/, where/wrb I/ppss can/md say/vb I/ppss know/vb everything/pn I/ppss ought/md to/to know/vb about/in the/at craft/nn ./.\\nBesides/rb ,/, it's/pps+bez important/jj to/in the/at way/nn a/at painter/nn thinks/vbz that/cs he/pps should/md move/vb in/in a/at certain/jj atmosphere/nn ,/, an/at atmosphere/nn in/in which/wdt he/pps may/md absorb/vb the/at ideas/nns of/in other/ap masters/nns ,/, as/cs Durer/np went/vbd to/in Italy/np to/to meet/vb Bellini/np and/cc Mantegna/np ''/'' ./.\\n\\n\\n\\tHe/pps made/vbd a/at circle/nn with/in his/pp$ thumb/nn and/cc fingers/nns ./.\\n``/`` Painting/vbg isn't/bez* this/dt big/jj ,/, you/ppss know/vb ./.\\nIt/pps doesn't/doz* embrace/vb only/rb the/at artist/nn ,/, alone/rb before/in his/pp$ easel/nn ./.\\nIt/pps is/bez as/ql large/jj as/cs all/abn of/in art/nn ,/, interdependent/jj ,/, varied/vbn ,/, multitudinous/jj ''/'' ./.\\nHe/pps threw/vbd his/pp$ arms/nns wide/jj ,/, his/pp$ face/nn shining/vbg ./.\\n``/`` The/at artist/nn is/bez like/cs a/at fragment/nn of/in a/at mosaic/nn --/-- no/rb ,/, he/pps is/bez more/ap than/in that/dt ,/, a/at virtuoso/nn performer/nn in/in some/dti vast/jj philharmonic/nn ./.\\nOne/pn of/in these/dts days/nns ,/, I'm/ppss+bem going/vbg to/to organize/vb a/at gigantic/jj exhibition/nn that/wps will/md span/vb everything/pn that's/wps+bez being/beg painted/vbn these/dts days/nns ,/, from/in extreme/jj abstract/jj expressionism/nn to/in extreme/jj photorealism/nn ,/, and/cc then/rb you'll/ppss+md be/be able/jj to/to see/vb at/in a/at glance/nn how/wrb much/ap artists/nns have/hv in/in common/jj with/in each/dt other/ap ./.\\nThe/at eye/nn is/bez all/abn ,/, inward/rb or/cc outward/rb ./.\\nAh/uh ,/, what/wdt a/at title/nn for/in the/at exhibition/nn :/: The/at-tl Eye/nn-tl is/bez-tl All/abn-tl ''/'' !/. !/.\\n\\n\\n\\t``/`` What/wdt do/do you/ppss study/vb ''/'' ?/. ?/.\\nI/ppss asked/vbd ./.\\nI/ppss was/bedz fascinated/vbn ;/. ;/.\\njust/rb listening/vbg to/in him/ppo made/vbn me/ppo feel/vb intelligent/jj ./.\\n\\n\\n\\t``/`` I'm/ppss+bem studying/vbg anatomy/nn with/in Burns/np ''/'' ,/, he/pps replied/vbd ./.\\n``/`` Maybe/rb you/ppss know/vb him/ppo ./.\\nHe/pps teaches/vbz at/in the/at Manhattan/np-tl School/nn-tl of/in-tl Art/nn-tl ''/'' ./.\\nI/ppss nodded/vbd ./.\\nI/ppss had/hvd studied/vbn with/in Burns/np ten/cd years/nns before/rb ,/, during/in the/at scholarship/nn year/nn the/at Manhattan/np gave/vbd me/ppo ,/, along/in with/in the/at five-hundred-dollar/jj prize/nn for/in my/pp$ paintings/nns of/in bums/nns on/in Hudson/np-tl Street/nn-tl ./.\\nBurns/np and/cc I/ppss had/hvd not/* loved/vbn each/dt other/ap ./.\\n``/`` I'm/ppss+bem also/rb studying/vbg enameling/vbg with/in Hajime/np Iijima/np ''/'' ,/, he/pps went/vbd on/rp ,/, ``/`` and/cc twice/rb a/at week/nn I/ppss go/vb to/in a/at life/nn class/nn taught/vbn by/in Pendleton/np ''/'' ./.\\n\\n\\n\\t``/`` Osric/np Pendleton/np ''/'' ?/. ?/.\\nI/ppss said/vbd ./.\\n``/`` My/pp$ God/np ,/, is/bez he/pps still/rb alive/jj ?/. ?/.\\nHe/pps must/md be/be a/at million/cd years/nns old/jj ./.\\nI/ppss went/vbd to/in a/at retrospective/nn of/in his/pp$ work/nn when/wrb I/ppss was/bedz eighteen/cd ,/, and/cc I/ppss thought/vbd he/pps was/bedz a/at contemporary/nn of/in Cezanne's/np$ ''/'' ./.\\n\\n\\n\\t``/`` Not/* quite/abl ''/'' ./.\\nAskington/np laughed/vbd ./.\\n``/`` He's/pps+bez about/in sixty/cd ,/, now/rb ./.\\nStill/rb painting/vbg ,/, still/rb a/at kind/nn of/in modern/jj impressionist/nn ,/, beautiful/jj canvases/nns of/in mountains/nns and/cc farms/nns ./.\\nHe/pps even/rb makes/vbz the/at city/nn look/nn like/cs one/pn of/in Thoreau's/np$ hangouts/nns ./.\\nI've/ppss+hv always/rb admired/vbn him/ppo ,/, and/cc when/wrb I/ppss heard/vbd he/pps was/bedz taking/vbg a/at few/ap pupils/nns ,/, I/ppss went/vbd to/in him/ppo and/cc joined/vbd his/pp$ class/nn ''/'' ./.\\n\\n\\n\\t``/`` Yes/rb ,/, it/pps sounds/vbz great/jj ''/'' ,/, I/ppss said/vbd ,/, ``/`` but/cc suppose/vb you/ppss don't/do* think/vb of/in yourself/ppl as/cs an/at impressionist/nn painter/nn ''/'' ?/. ?/.\\n\\n\\n\\t``/`` You're/ppss+ber missing/vbg the/at point/nn ''/'' ,/, he/pps said/vbd ./.\\n``/`` He/pps has/hvz the/at magical/jj eye/nn ./.\\nAnd/cc he/pps is/bez a/at great/jj man/nn ./.\\nContact/nn with/in him/ppo is/bez stimulating/jj ./.\\nAnd/cc that's/dt+bez the/at trouble/nn with/in so/ql many/ap artists/nns today/nr ./.\\nThey/ppss lack/vb stimulation/nn ./.\\nThey/ppss sit/vb alone/rb in/in their/pp$ rooms/nns and/cc try/vb to/to paint/vb ,/, and/cc only/rb succeed/vb in/in isolating/vbg themselves/ppls still/ql farther/rbr from/in life/nn ./.\\nThat's/dt+bez one/pn of/in the/at reasons/nns art/nn is/bez becoming/vbg a/at useless/jj occupation/nn ./.\\nIn/in the/at Middle/jj-tl Ages/nns-tl ,/, in/in the/at Renaissance/np ,/, right/ql up/rp to/in the/at early/jj nineteenth/od century/nn ,/, the/at painter/nn was/bedz a/at giant/nn in/in the/at world/nn ./.\\nHe/pps was/bedz an/at artisan/nn ,/, a/at man/nn who/wps studied/vbd his/pp$ trade/nn and/cc developed/vbd his/pp$ craftsmanship/nn the/at way/nn a/at goldsmith/nn or/cc a/at wood/nn carver/nn did/dod ./.\\nHe/pps filled/vbd a/at real/jj need/nn ,/, showing/vbg society/nn what/wdt it/pps looked/vbd like/cs ,/, turning/vbg it/ppo inside/rb out/rp ,/, portraying/vbg its/pp$ wars/nns and/cc its/pp$ leaders/nns ,/, its/pp$ ugliness/nn and/cc its/pp$ beauties/nns ,/, reflecting/vbg its/pp$ profound/jj religious/jj impulses/nns ./.\\nHe/pps was/bedz a/at propagandist/nn --/-- they/ppss weren't/bed* afraid/jj of/in the/at word/nn ,/, then/rb --/-- satirist/nn ,/, nature/nn lover/nn ,/, philosopher/nn ,/, scientist/nn ,/, what/wdt you/ppss will/vb ,/, a/at member/nn of/in every/at party/nn and/cc of/in no/at party/nn ./.\\nBut/cc look/vb at/in us/ppo today/nr !/. !/.\\nWe/ppss hold/vb safe/jj little/ap jobs/nns illustrating/vbg tooth-paste/nn ads/nns or/cc the/at salacious/jj incidents/nns in/in trivial/jj novels/nns ,/, and/cc most/ap of/in our/pp$ easel/nn painting/nn is/bez nothing/pn but/cc picking/vbg the/at fluff/nn out/in of/in the/at navel/nn so/cs it/pps can/md be/be contemplated/vbn in/in greater/jjr purity/nn ./.\\nA/at bunch/nn of/in amateur/nn dervishes/nns !/. !/.\\nWhat/wdt we/ppss need/md is/bez to/to get/vb back/rb to/in the/at group/nn ,/, to/in learning/vbg and/cc apprenticeship/nn ,/, to/in the/at cafe/nn and/cc the/at school/nn ''/'' ./.\\n\\n\\n\\tHe/pps could/md certainly/rb talk/vb ./.\\nThe/at upshot/nn of/in the/at evening/nn was/bedz that/cs I/ppss got/vbd the/at address/nn of/in Pendleton's/np$ studio/nn --/-- or/cc rather/rb ,/, of/in the/at studio/nn in/in which/wdt he/pps gave/vbd his/pp$ classes/nns ,/, for/cs he/pps didn't/dod* work/vb there/rb himself/ppl --/-- and/cc joined/vbd the/at life/nn class/nn ,/, which/wdt met/vbd every/at Tuesday/nr and/cc Thursday/nr from/in ten/cd to/in twelve/cd in/in the/at morning/nn ./.\\nIt/pps was/bedz an/at awkward/jj hour/nn ,/, but/cc I/ppss didn't/dod* have/hv to/to punch/vb any/dti time/nn clock/nn ,/, and/cc it/pps only/rb meant/vbd that/cs sometimes/rb I/ppss had/hvd to/to stay/vb a/at couple/nn of/in hours/nns later/rbr at/in the/at drawing/vbg board/nn to/to finish/vb up/rp a/at job/nn ./.\\nAfter/in a/at short/jj time/nn ,/, both/abx George/np and/cc Donald/np joined/vbd the/at class/nn with/in me/ppo so/cs they/ppss wouldn't/md* feel/vb lonely/jj ,/, and/cc we/ppss used/vbd to/to hang/vb a/at sign/nn on/in the/at door/nn of/in the/at Brush-off/np reading/vbg out/rp to/to work/vb ./.\\nIt/pps was/bedz mostly/rb for/in the/at benefit/nn of/in the/at mailman/nn ,/, because/cs hardly/rb anybody/pn else/rb ever/rb visited/vbd us/ppo ./.\\n\\n\\n\\tIn/in a/at way/nn ,/, Askington/np was/bedz right/jj ./.\\n``/`` Stimulating/jj ''/'' was/bedz the/at word/nn for/in it/ppo ./.\\nI/ppss don't/do* know/vb that/cs it/pps was/bedz always/rb as/ql rewarding/jj as/cs I/ppss had/hvd expected/vbn it/ppo to/to be/be ./.\\nPartly/rb ,/, it/pps was/bedz because/cs Pendleton/np himself/ppl wasn't/bedz* what/wdt I/ppss anticipated/vbd ./.\\nI/ppss had/hvd come/vbn prepared/vbn to/to worship/vb at/in the/at feet/nns of/in this/dt classic/nn ,/, and/cc he/pps turned/vbd out/rp to/to be/be a/at rather/ql bitter/jj old/jj man/nn who/wps smelled/vbd of/in dead/jj cigars/nns ./.\\n\\n\\n\\tNo/rb ,/, that/dt isn't/bez* quite/ql fair/jj ./.\\nActually/rb ,/, there/ex was/bedz a/at lot/nn of/in force/nn in/in him/ppo ,/, which/wdt is/bez why/wrb I/ppss kept/vbd on/rp in/in that/dt class/nn instead/rb of/in quitting/vbg after/in a/at week/nn ./.\\n\\n\\n\\n\\n\\nSuch/abl a/at little/ap thing/nn to/to start/vb with/in --/-- the/at car/nn registration/nn ./.\\n\\n\\n\\t``/`` Ida/np ,/, where/wrb is/bez the/at car/nn license/nn ''/'' ?/. ?/.\\nShe/pps asked/vbd ./.\\n``/`` I/ppss can't/md* find/vb it/ppo in/in the/at glove/nn compartment/nn ''/'' ./.\\n\\n\\n\\t``/`` Via/np must/md have/hv it/ppo ''/'' ,/, I/ppss answered/vbd readily/rb enough/qlp ,/, recalling/vbg her/pp$ last/ap visit/nn ./.\\n\\n\\n\\t``/`` Via/np ''/'' ,/, she/pps was/bedz frowning/vbg ./.\\n``/`` Why/wrb should/md Via/np have/hv it/ppo ''/'' ?/. ?/.\\n\\n\\n\\tHad/hvd she/pps forgotten/vbn she/pps had/hvd signed/vbn the/at car/nn away/rb ,/, that/cs whatever/wdt they/ppss mutually/rb owned/vbd had/hvd been/ben divided/vbn among/in the/at children/nns ?/. ?/.\\n\\n\\n\\tI/ppss was/bedz silent/jj ./.\\nI/ppss didn't/dod* want/vb to/to stir/vb things/nns up/rp ./.\\n\\n\\n\\t``/`` I/ppss drive/vb my/pp$ own/jj car/nn by/in courtesy/nn of/in Via/np ''/'' ?/. ?/.\\n\\n\\n\\t``/`` I'm/ppss+bem sure/jj she'd/pps+md turn/vb it/ppo over/in to/to you/ppo ,/, if/cs you'd/ppss+md rather/rb ./.\\nYou/ppss know/vb that/dt ''/'' ./.\\n\\n\\n\\tShe/pps looked/vbd as/cs if/cs she/pps were/bed accusing/vbg me/ppo of/in some/dti fraud/nn ./.\\n\\n\\n\\t``/`` She/pps must/md have/hv taken/vbn the/at registration/nn when/wrb she/pps went/vbd to/in Walter's/np$ ./.\\nI'll/ppss+md call/vb her/ppo ''/'' ./.\\n\\n\\n\\t``/`` No/rb ,/, thank/vb you/ppo ./.\\nI/ppss want/vb nothing/pn of/in Via's/np$ ''/'' ./.\\n\\n\\n\\tWhy/wrb should/md this/dt suddenly/rb assail/vb her/ppo ?/. ?/.\\nWalter/np was/bedz giving/vbg me/ppo checks/nns for/in my/pp$ pay/nn ,/, the/at household/nn bills/nns ./.\\nHad/hvd she/pps been/ben in/in such/abl a/at turmoil/nn that/cs this/dt had/hvd slipped/vbn her/pp$ mind/nn ?/. ?/.\\n\\n\\n\\t``/`` What/wdt a/at fool/nn I've/ppss+hv been/ben ''/'' ,/, she/pps said/vbd quietly/rb ./.\\n``/`` I/ppss knew/vbd all/abn this/dt ,/, but/cc I/ppss paid/vbd no/at attention/nn ./.\\nI/ppss don't/do* even/vb own/vb the/at house/nn I'm/ppss+bem standing/vbg in/rp ./.\\nI/ppss was/bedz so/ql sure/jj it/pps was/bedz all/abn temporary/jj that/cs we/ppss would/md all/abn embrace/vb ,/, and/cc then/rb the/at lawyer/nn would/md tear/vb up/rp all/abn those/dts things/nns \\n\\n\\t``/`` It/pps narrows/vbz down/rp down/rp down/rp and/cc finally/rb there/ex is/bez no/at way/nn out/rp ./.\\nIf/cs I/ppss am/bem not/* to/to be/be Mrs./np Salter/np I/ppss am/bem nothing/pn ''/'' ./.\\n\\n\\n\\tI/ppss suppose/vb I/ppss should/md have/hv paid/vbn attention/nn to/in that/ql half-murmured/jj remark/nn ,/, but/cc it/pps seemed/vbd one/pn of/in those/dts extreme/jj statements/nns women/nns under/in stress/nn indulge/vb in/rp ./.\\nI/ppss love/vb you/ppo ,/, I/ppss hate/vb you/ppo ,/, I/ppss feel/vb like/cs killing/vbg you/ppo and/cc myself/ppl ,/, and/cc in/in the/at same/ap sequence/nn I/ppss love/vb you/ppo I/ppss think/vb you're/ppss+ber the/at most/ql wonderful/jj the/at most/ql noble/jj and/cc so/rb on/rp and/cc on/rp ,/, meanwhile/rb eating/vbg a/at good/jj breakfast/nn and/cc dinner/nn and/cc enjoying/vbg living/vbg ./.\\nSo/cs I/ppss went/vbd about/in my/pp$ business/nn ./.\\nI/ppss made/vbd a/at lemon/nn sponge/nn ,/, a/at light/jj dessert/nn ,/, roasted/vbd a/at chicken/nn ,/, parboiled/vbd some/dti frozen/vbn vegetables/nns ,/, so/cs there/ex would/md be/be something/pn nice/jj in/in the/at icebox/nn for/in the/at weekend/nn ./.\\n``/`` Don't/do* bother/vb ,/, Ida/np ''/'' ,/, she/pps said/vbd ./.\\n``/`` I/ppss have/hv these/dts appointments/nns in/in town/nn for/in Saturday/nr ,/, and/cc I'll/ppss+md probably/rb spend/vb Sunday/nr with/in Dolly/np or/cc the/at Thaxters/nps ''/'' ./.\\n\\n\\n\\tAt/in last/ap ,/, I/ppss thought/vbd ,/, she's/pps+bez recovering/vbg her/pp$ spirits/nns ./.\\nWith/in this/dt movie-to-be/nn in/in London/np ,/, and/cc new/jj faces/nns about/in her/ppo there/rb ,/, she/pps would/md soon/rb be/be a/at more/ql tranquil/jj ,/, a/at wiser/jjr person/nn ,/, all/abn the/at better/jjr for/in her/pp$ stay/nn out/rp here/rb ./.\\nI/ppss felt/vbd more/ql cheerful/jj ,/, as/cs if/cs I/ppss had/hvd had/hvn a/at part/nn in/in bringing/vbg her/ppo through/in to/in a/at greater/jjr tolerance/nn of/in herself/ppl ./.\\nAnd/cc I/ppss went/vbd back/rb to/in my/pp$ own/jj cottage/nn to/to live/vb my/pp$ own/jj little/jj patch/nn of/in life/nn ./.\\n\\n\\n\\tIt/pps was/bedz foggy/jj that/dt evening/nn ,/, but/cc the/at path/nn to/in my/pp$ house/nn was/bedz so/ql well/rb grooved/vbn that/cs I/ppss could/md feel/vb my/pp$ way/nn ,/, accustomed/vbn as/cs I/ppss was/bedz to/in the/at dense/jj mists/nns that/wps rise/vb from/in the/at sun-warmed/jj palisades/nns of/in the/at river/nn and/cc sometimes/rb last/vb for/in days/nns ./.\\nIn/in the/at morning/nn the/at fog/nn was/bedz still/ql thick/jj so/cs that/cs to/to go/vb to/in the/at village/nn I/ppss crept/vbd along/rb with/in my/pp$ headlights/nns full/ql on/rp ./.\\n\\n\\n\\tI/ppss did/dod notice/vb a/at twinkle/nn of/in light/nn from/in the/at big/jj house/nn through/in the/at woods/nns but/cc as/cs I/ppss had/hvd left/vbn a/at light/nn on/rp in/in my/pp$ own/jj house/nn because/cs of/in the/at fog/nn I/ppss assumed/vbd Mrs./np Salter/np had/hvd done/vbn the/at same/ap before/cs she/pps left/vbd for/in town/nn ./.\\nI/ppss did/dod my/pp$ shopping/nn ,/, had/hvd my/pp$ dentist/nn appointment/nn ,/, and/cc from/in there/rb I/ppss went/vbd to/in the/at women's/nns$ lunch/nn at/in our/pp$ parish/nn church/nn where/wrb we/ppss discussed/vbd plans/nns for/in the/at annual/jj Christmas/np bazaar/nn ,/, so/cs that/dt dusk/nn was/bedz beginning/vbg to/to gather/vb when/wrb I/ppss drove/vbd home/nr in/in the/at late/jj afternoon/nn ./.\\n\\n\\n\\tBut/cc the/at next/ap day/nn --/-- Sunday/nr ./.\\nWhy/wrb ,/, when/wrb I/ppss drove/vbd down/rp to/in church/nn ,/, didn't/dod* it/ppo speak/vb to/in me/ppo ,/, seeing/vbg the/at lights/nns still/rb on/rp and/cc the/at day/nn crisp/nn and/cc clear/jj ?/. ?/.\\nPrisoners/nns brought/vbn to/in the/at dock/nn accused/vbn of/in murder/nn or/cc accident/nn say/vb they/ppss cannot/md* remember/vb ,/, and/cc reading/vbg the/at accounts/nns of/in their/pp$ testimony/nn you/ppss cannot/md* believe/vb that/cs the/at mind/nn can/md remove/vb ,/, absent/vb itself/ppl ,/, unsee/vb ./.\\nWhen/wrb I/ppss came/vbd back/rb from/in church/nn at/in noon/nn Mrs./np Thaxter/np was/bedz turning/vbg into/in the/at Salter/np driveway/nn ./.\\nEven/rb at/in a/at car's/nn$ length/nn I/ppss could/md sense/vb that/cs something/pn was/bedz wrong/jj ,/, and/cc so/cs I/ppss followed/vbd her/ppo up/in to/in the/at turnaround/nn in/in front/nn of/in the/at house/nn ./.\\n\\n\\n\\tDolly/np Engisch/np was/bedz waiting/vbg there/rb on/in the/at steps/nns and/cc she/pps came/vbd running/vbg toward/in us/ppo ./.\\n\\n\\n\\t``/`` She's/pps+bez nowhere/rb ,/, nowhere/rb ''/'' !/. !/.\\nShe/pps screamed/vbd ,/, and/cc both/abx women/nns ran/vbd up/in to/in the/at house/nn ,/, and/cc I/ppss followed/vbd ./.\\n\\n\\n\\tThe/at search/nn began/vbd ,/, in/in all/abn the/at rooms/nns ,/, running/vbg upstairs/rb ,/, down/rp ,/, opening/vbg closets/nns ,/, talking/vbg ,/, exclaiming/vbg in/in rushes/nns and/cc gasps/nns ./.\\n\\n\\n\\tEverything/pn was/bedz as/cs I/ppss had/hvd left/vbn it/ppo the/at night/nn before/in last/ap --/-- her/pp$ portfolio/nn and/cc bag/nn for/in town/nn ,/, her/pp$ lingerie/nn and/cc dress/nn and/cc shoes/nns laid/vbn out/rp only/rb her/pp$ mink/nn coat/nn was/bedz missing/vbg ./.\\nAnd/cc she/pps ./.\\n\\n\\n\\tThen/rb the/at telephoning/nn began/vbd ./.\\nI/ppss ,/, who/wps until/cs that/dt day/nn before/rb had/hvd been/ben Mrs./np Salter's/np$ friend/nn ,/, her/pp$ equal/nn ,/, was/bedz the/at servant/nn now/rb ./.\\nIt/pps was/bedz Dolly/np and/cc Mrs./np Thaxter/np who/wps were/bed calling/vbg Via/np ,/, everybody/pn ./.\\nAnd/cc when/wrb they/ppss spoke/vbd they/ppss spoke/vbd to/in each/dt other/ap and/cc not/* to/in me/ppo ./.\\nAnd/cc after/cs I/ppss brought/vbd them/ppo sandwiches/nns and/cc coffee/nn I/ppss had/hvd to/to go/vb back/rb to/in my/pp$ place/nn in/in the/at kitchen/nn and/cc wait/vb ./.\\n\\n\\n\\tSitting/vbg in/in the/at kitchen/nn I/ppss recalled/vbd every/at word/nn Mrs./np Salter/np said/vbd that/dt could/md have/hv been/ben a/at sign/nn to/in me/ppo ./.\\n``/`` If/cs I/ppss am/bem not/* to/to be/be Mrs./np Salter/np then/rb I/ppss am/bem nothing/pn ''/'' ./.\\nWhy/wrb didn't/dod* that/dt alarm/vb me/ppo then/rb ?/. ?/.\\nAnd/cc when/wrb she/pps returned/vbd from/in taking/vbg her/pp$ guests/nns back/vb to/in New/jj-tl York/np-tl she/pps had/hvd said/vbn ,/, ``/`` All/abn they/ppss talked/vbd about/rb was/bedz Harvie/np Harvie/np this/dt ,/, Harvie/np that/dt When/wrb they/ppss know/vb the/at truth/nn will/md they/ppss drop/vb away/rb from/in me/ppo ,/, will/md I/ppss become/vb a/at nothing/pn ''/'' ?/. ?/.\\nAnd/cc then/rb I/ppss remembered/vbd a/at few/ap years/nns before/rb after/in their/pp$ return/nn from/in a/at short/jj trip/nn to/in Rome/np I/ppss had/hvd heard/vbn her/ppo boast/vb ,/, over/rp and/cc over/rp again/rb ,/, ``/`` On/in the/at boat/nn people/nns liked/vbd me/ppo for/in myself/ppl ''/'' ./.\\n\\n\\n\\tI/ppss had/hvd made/vbn a/at habit/nn of/in calling/vbg her/ppo at/in night/nn from/in my/pp$ cottage/nn ,/, just/rb to/to check/vb ./.\\nThe/at last/ap night/nn I/ppss had/hvd called/vbn ,/, but/cc the/at line/nn was/bedz always/rb busy/jj and/cc it/pps reassured/vbd me/ppo ./.\\nI/ppss assumed/vbd it/pps was/bedz one/pn of/in those/dts hour-long/jj conversations/nns with/in Dolly/np or/cc Constance/np ,/, she/pps comfortable/jj in/in bed/nn ./.\\nBut/cc it/pps seemed/vbd not/* from/in what/wdt they/ppss were/bed saying/vbg ./.\\nThen/rb was/bedz it/pps a/at final/jj desperate/jj plea/nn from/in her/ppo ,/, to/in whom/wpo ?/. ?/.\\nHanging/vbg on/rp and/cc on/rp past/in any/dti man's/nn$ patience/nn some/dti final/jj stab/nn of/in conclusion/nn ?/. ?/.\\n\\n\\n\\tShe/pps was/bedz found/vbn the/at day/nn after/rb at/in the/at bottom/nn of/in the/at cliff/nn ./.\\nI/ppss tried/vbd to/to believe/vb that/cs what/wdt must/md have/hv happened/vbn was/bedz that/cs ,/, restless/jj ,/, disturbed/vbn by/in this/dt telephone/nn call/nn or/cc whatever/wdt ,/, she/pps walked/vbd out/rp in/in the/at night/nn ,/, as/cs she/pps had/hvd a/at habit/nn of/in doing/vbg ./.\\nSometimes/rb she/pps took/vbd the/at path/nn that/cs winds/vbz up/rp around/in my/pp$ cottage/nn to/in the/at walk/nn at/in the/at edge/nn of/in the/at cliff/nn ./.\\nIt's/pps+bez so/ql romantic/jj up/rp there/rb ,/, she/pps used/vbd to/to say/vb ,/, with/in the/at broad/jj river/nn gleaming/vbg in/in its/pp$ moontrack/nn like/cs an/at enormous/jj dark/jj mirror/nn and/cc all/abn the/at sounds/nns of/in the/at night/nn ,/, so/ql poetic/jj ./.\\nWith/in all/abn that/dt warm/jj rain/nn and/cc the/at fog/nn it/pps might/md have/hv been/ben as/ql simple/jj as/cs a/at loosened/vbn rock/nn ,/, a/at misstep/nn ./.\\n\\n\\n\\tBut/cc I/ppss didn't/dod* really/rb think/vb it/pps was/bedz as/ql simple/jj as/cs that/dt ,/, nor/cc did/dod anyone/pn else/rb ./.\\nWhen/wrb a/at fisherman/nn brought/vbd her/ppo up/rp in/in his/pp$ arms/nns ,/, still/jj ,/, small/jj ,/, as/cs if/cs she/pps were/bed a/at child/nn asleep/rb ,/, I/ppss began/vbd to/to shudder/vb with/in a/at terrible/jj excitement/nn ,/, almost/rb triumphant/jj ,/, that/cs I/ppss still/rb cannot/md* account/vb for/in ./.\\nWas/bedz it/pps a/at hysterical/jj release/nn from/in the/at long/jj strain/nn of/in vigilance/nn of/in those/dts weeks/nns ?/. ?/.\\nThat/cs at/in last/ap the/at vigilance/nn ,/, the/at will/nn gives/vbz way/nn ?/. ?/.\\nOr/cc what/wdt was/bedz it/pps that/cs ,/, before/in Via/np ,/, Sonny/np ,/, Walter/np and/cc all/abn ,/, I/ppss began/vbd almost/rb to/to dance/vb with/in shuddering/vbg and/cc cry/vb out/rp ,/, ``/`` I/ppss knew/vbd she'd/pps+md do/do it/ppo !/. !/.\\nI/ppss knew/vbd ''/'' !/. !/.\\n\\n\\n\\tEveryone/pn stared/vbd at/in me/ppo and/cc drew/vbd back/rb ./.\\nTheir/pp$ eyes/nns turned/vbd cold/jj and/cc accusing/vbg ,/, even/rb Via's/np$ ./.\\nAnd/cc they/ppss have/hv never/rb changed/vbn ./.\\n\\n\\n\\tAt/in the/at same/ap time/nn that/cs I/ppss thought/vbd I/ppss understood/vbd her/ppo at/in long/jj last/ap and/cc pitied/vbd her/ppo ,/, underneath/in this/dt knowing/vbg had/hvd there/ex burned/vbn unquenched/jj by/in my/pp$ pity/nn a/at fire/nn of/in hate/nn ,/, an/at enduring/vbg envy/nn that/cs burst/vbd out/rp in/in that/dt ghastly/jj outcry/nn ?/. ?/.\\nWas/bedz that/dt what/wdt had/hvd given/vbn way/nn in/in me/ppo ?/. ?/.\\nEven/rb now/rb I/ppss am/bem appalled/vbn at/in how/wrb little/ap anyone/pn knows/vbz of/in what/wdt they/ppss really/rb are/ber ./.\\nIt/pps is/bez absurd/jj of/in course/nn to/to say/vb that/cs that/dt one/cd exclamation/nn estranged/vbd me/ppo from/in the/at family/nn I/ppss considered/vbd my/pp$ very/ql own/jj ,/, but/cc there/rb it/pps hangs/vbz ,/, a/at cooling/vbg void/nn that/wps broke/vbd our/pp$ close/jj connection/nn with/in each/dt other/ap ./.\\nAt/in the/at time/nn I/ppss was/bedz filled/vbn with/in self-pity/nn at/in this/dt separation/nn ,/, but/cc in/in the/at years/nns since/in I/ppss have/hv come/vbn to/to understand/vb that/cs the/at sight/nn of/in me/ppo was/bedz painful/jj to/in them/ppo after/in that/dt outcry/nn ./.\\nIn/in my/pp$ person/nn they/ppss would/md always/rb remember/vb that/dt last/ap long/jj time/nn of/in me/ppo alone/rb with/in her/ppo ,/, so/cs if/cs they/ppss told/vbd themselves/ppls that/cs I/ppss could/md have/hv prevented/vbn it/ppo ,/, I/ppss can/md understand/vb that/cs by/in now/rb and/cc love/vb them/ppo still/rb ,/, because/cs everyone/pn must/md justify/vb ,/, have/hv a/at scapegoat/nn for/in what/wdt is/bez not/* to/to be/be borne/vbn ./.\\n\\n\\n\\tIt/pps is/bez not/* their/pp$ avoidance/nn that/wps rankles/vbz ;/. ;/.\\nit/pps is/bez when/wrb I/ppss meet/vb someone/pn who/wps was/bedz a/at close/jj friend/nn of/in the/at family/nn ,/, and/cc therefore/rb of/in mine/pp$$ ,/, and/cc they/ppss nod/vb to/in me/ppo so/ql coolly/rb and/cc walk/vb away/rb ,/, that/cs it/pps hurts/vbz ./.\\nI/ppss could/md tell/vb them/ppo ,/, but/cc no/at one/pn ever/rb asked/vbd ,/, why/wrb I/ppss had/hvd cried/vbn out/rp so/ql triumphantly/rb at/in the/at sight/nn of/in her/pp$ body/nn ./.\\nNo/rb ,/, I/ppss forget/vb Mrs./np Mathias/np ,/, who/wps had/hvd been/ben away/rb visiting/vbg a/at married/vbn daughter/nn when/wrb it/pps happened/vbd ./.\\nShe/pps haunted/vbd me/ppo ;/. ;/.\\nshe/pps persisted/vbd in/in explaining/vbg how/wrb and/cc why/wrb she/pps had/hvd advised/vbn Mrs./np Salter/np to/to return/vb to/in the/at country/nn ./.\\n\\n\\n\\t``/`` We/ppss all/abn feel/vb guilty/jj ''/'' ,/, I/ppss turned/vbd away/rb from/in her/ppo coldly/rb ./.\\n``/`` It/pps was/bedz nobody's/pn$ fault/nn ./.\\nShe/pps overplayed/vbd her/pp$ hand/nn ''/'' ./.\\n\\n\\n\\t``/`` What/wdt do/do you/ppss mean/vb ''/'' ?/. ?/.\\nShe/pps frowned/vbd ./.\\n\\n\\n\\t``/`` Why/wrb put/vb such/abl a/at high/jj value/nn on/in being/beg top/jjs dog/nn ''/'' ?/. ?/.\\nI/ppss added/vbd ./.\\nIt/pps was/bedz coarse/jj ,/, almost/rb insulting/jj ,/, this/dt harsh/jj appraisal/nn ,/, and/cc she/pps has/hvz never/rb come/vbn to/to see/vb me/ppo since/in ./.\\n\\n\\n\\tBut/cc suppose/vb she/pps had/hvd not/* taken/vbn Mrs./np Mathias'/np$ advice/nn and/cc lived/vbd on/rp like/cs thousands/nns of/in women/nns in/in towns/nns ,/, dispossessed/vbn of/in love/nn ,/, hanging/vbg on/in to/in makeshifts/nns ,/, and/cc altogether/rb and/cc finally/rb arid/jj ./.\\nIf/cs she/pps chose/vbd ,/, and/cc in/in that/dt final/jj decision/nn discarded/vbd ,/, what/wdt ,/, above/in all/abn ,/, all/abn of/in us/ppo value/vb ,/, life/nn itself/ppl ,/, must/md she/pps not/* have/hv risen/vbn to/in her/pp$ fullest/jjt height/nn ,/, and/cc transcending/vbg her/pp$ murky/jj self/nn ,/, felt/vbd at/in last/ap the/at passion/nn of/in a/at great/jj moral/jj decision/nn ?/. ?/.\\nIf/cs they/ppss say/vb I/ppss could/md have/hv stopped/vbn her/ppo it/pps is/bez because/cs they/ppss are/ber ignorant/jj of/in her/pp$ last/ap weeks/nns of/in self-examination/nn ,/, her/pp$ search/nn into/in herself/ppl and/cc its/pp$ conclusions/nns ./.\\n\\n\\n\\tYes/rb ,/, I/ppss had/hvd cried/vbn out/rp that/cs I/ppss knew/vbd she'd/pps+md do/do it/ppo ,/, but/cc without/in my/pp$ fully/rb realizing/vbg it/ppo at/in the/at time/nn ,/, it/pps was/bedz a/at cry/nn of/in triumph/nn for/in her/ppo ,/, praise/vb at/in her/pp$ deliverance/nn from/in pettiness/nn and/cc greed/nn --/-- and/cc guilt/nn ./.\\nShe/pps was/bedz finally/rb at/in rest/nn in/in truth/nn ,/, of/in her/pp$ own/jj proud/jj free/jj choice/nn ./.\\nAt/in rest/nn with/in my/pp$ darling/jj Ellen/np ,/, the/at first/od Mrs./np Salter/np ./.\\n\\n\\n\\n\\nMr./np Salter/np came/vbd home/nr ./.\\nThe/at funeral/nn service/nn was/bedz in/in the/at house/nn ,/, the/at Methodist/jj minister/nn ,/, how/wrb clean/jj and/cc glistening/vbg his/pp$ eyeglasses/nns and/cc his/pp$ neat/jj body/nn standing/vbg beside/in that/dt coffin/nn with/in that/dt doll/nn inside/rb ,/, a/at stranger/nn speaking/vbg to/in strangers/nns the/at old/jj sacred/jj words/nns ,/, and/cc the/at rain/nn drumming/vbg incessantly/rb in/in accompaniment/nn ,/, seven/cd days/nns of/in relentless/jj rain/nn that/wps turned/vbd the/at ground/nn to/in mud/nn so/cs the/at burial/nn had/hvd to/to be/be postponed/vbn ./.\\nI/ppss waited/vbd ./.\\nThen/jj Via/np called/vbd to/to say/vb they/ppss had/hvd decided/vbn to/to cremate/vb her/ppo --/-- as/cs they/ppss had/hvd Ellen/np ,/, the/at thought/nn leaped/vbd to/in my/pp$ mind/nn --/-- and/cc did/dod I/ppss want/vb to/to meet/vb her/ppo at/in the/at funeral/jj home/nn the/at next/ap morning/nn ./.\\n\\n\\n\\tThe/at coffin/nn stood/vbd on/in trestles/nns in/in a/at corner/nn of/in the/at long/jj low/jj dimly/rb lit/vbn funeral/jj parlor/nn ,/, on/in its/pp$ dark/jj shining/vbg surface/nn the/at sheaf/nn of/in white/jj roses/nns I/ppss had/hvd ordered/vbn ./.\\nI/ppss knelt/vbd ,/, just/rb for/in decency/nn I/ppss thought/vbd at/in the/at time/nn ,/, but/cc found/vbd myself/ppl whispering/vbg ,/, ``/`` Our/pp$ Father/nn which/wdt Art/ber in/in Heaven/nn ''/'' And/cc it/pps was/bedz only/rb after/in that/dt that/cs something/pn unlocked/vbd in/in me/ppo and/cc I/ppss felt/vbd a/at grief/nn ./.\\n\\n\\n\\tVia/np was/bedz in/in the/at parking/vbg lot/nn when/wrb I/ppss went/vbd outside/rb ./.\\nTogether/rb we/ppss waited/vbd in/in her/pp$ car/nn until/cs the/at hearse/nn moved/vbd out/rp and/cc we/ppss followed/vbd it/ppo down/rp into/in the/at heavy/jj traffic/nn of/in New/jj-tl Jersey/np-tl ./.\\n\\n\\n\\tBy/in the/at time/nn we/ppss arrived/vbd and/cc entered/vbd the/at building/nn sacred/jj music/nn was/bedz already/rb swelling/vbg out/rp into/in the/at chapel-like/jj auditorium/nn with/in its/pp$ discreet/jj symbols/nns of/in religious/jj faiths/nns ./.\\nAgain/rb I/ppss felt/vbd impelled/vbn to/to kneel/vb ,/, and/cc reached/vbd back/rb and/cc pulled/vbd Via/np down/rp ./.\\nSomething/pn would/md come/vb into/in her/pp$ heart/nn if/cs nothing/pn else/rb the/at sounds/nns of/in Bach/np would/md give/vb her/ppo some/dti healing/nn ./.\\n\\n``/`` I/ppss had/hvd a/at rather/ql small/jj place/nn of/in my/pp$ own/jj ./.\\nA/at nice/jj bachelor/nn apartment/nn in/in a/at place/nn called/vbn the/at Lancaster/np-tl Arms/nns-tl ''/'' ./.\\n\\n\\n\\t``/`` Uhhu/uh ''/'' ,/, she/pps said/vbd ,/, hardly/rb listening/vbg as/cs she/pps studied/vbd her/pp$ left/jj eyelid/nn ./.\\n\\n\\n\\t``/`` And/cc then/rb I/ppss had/hvd another/dt place/nn farther/rbr downtown/nr I/ppss used/vbd as/cs a/at studio/nn ''/'' ./.\\n\\n\\n\\t``/`` Uhhu/uh ''/'' ./.\\n\\n\\n\\t``/`` I'm/ppss+bem not/* a/at man/nn who/wps has/hvz many/ap close/jj intimate/jj friends/nns ,/, Carla/np ''/'' ,/, he/pps said/vbd ,/, wanting/vbg her/ppo to/to know/vb all/abn about/in him/ppo ./.\\n``/`` Oh/uh ,/, I'd/ppss+md drink/vb with/in newspaper/nn people/nns ./.\\nI/ppss think/vb I/ppss was/bedz what/wdt you/ppss might/md call/vb a/at convivial/jj man/nn ,/, and/cc yet/rb it/pps was/bedz when/wrb I/ppss was/bedz alone/rb in/in my/pp$ studio/nn ,/, doing/vbg my/pp$ work/nn ,/, that/cs I/ppss really/rb felt/vbd alive/jj ./.\\nBut/cc I/ppss think/vb a/at man/nn needs/vbz at/in least/ap one/cd intimate/jj friend/nn to/to communicate/vb with/in ''/'' ./.\\nPausing/vbg ,/, he/pps waited/vbd for/in her/ppo to/to turn/vb ,/, to/to ask/vb a/at question/nn ./.\\nShe/pps showed/vbd no/at interest/nn at/in all/abn in/in the/at life/nn he/pps had/hvd led/vbn back/rb home/nr ,/, and/cc it/pps hurt/vb him/ppo a/at little/ap ./.\\n``/`` Well/uh ,/, what/wdt about/in you/ppo ,/, Carla/np ''/'' ?/. ?/.\\n\\n\\n\\t``/`` Me/ppo ''/'' ?/. ?/.\\nShe/pps asked/vbd ,/, turning/vbg slowly/rb ./.\\n``/`` What/wdt about/in me/ppo ''/'' ?/. ?/.\\n\\n\\n\\t``/`` Did/dod you/ppss make/vb friends/nns easily/rb ''/'' ?/. ?/.\\n\\n\\n\\t``/`` Umm/uh ,/, uhhu/uh ''/'' ./.\\n\\n\\n\\t``/`` Somehow/rb I/ppss imagine/vb that/cs as/cs you/ppss grew/vbd up/rp you/ppss were/bed alone/rb a/at lot/nn ./.\\nHow/wrb about/in it/ppo ''/'' ?/. ?/.\\n\\n\\n\\t``/`` I/ppss guess/vb so/rb ''/'' ,/, she/pps said/vbd taking/vbg a/at Kleenex/np from/in her/pp$ purse/nn ./.\\nWhen/wrb she/pps had/hvd wiped/vbn some/dti of/in the/at lipstick/nn from/in her/pp$ mouth/nn ,/, she/pps stared/vbd solemnly/rb at/in her/pp$ image/nn in/in the/at mirror/nn ./.\\n\\n\\n\\t``/`` Are/ber your/pp$ people/nns still/rb alive/jj ''/'' ?/. ?/.\\nHe/pps asked/vbd ,/, trying/vbg to/to touch/vb a/at part/nn of/in her/ppo life/nn Alberto/np hadn't/hvd* discussed/vbn ;/. ;/.\\nso/cs he/pps could/md have/hv something/pn of/in her/ppo for/in himself/ppl ./.\\n``/`` You/ppss talk/vb so/ql well/rb ,/, Carla/np ''/'' ,/, he/pps went/vbd on/rp ./.\\n``/`` You/ppss seem/vb to/to have/hv read/vbn so/ql much/rb ,/, you/ppss have/hv a/at natural/jj gift/nn for/in words/nns ''/'' ,/, he/pps added/vbd ,/, trying/vbg to/to flatter/vb her/pp$ vanity/nn ./.\\n``/`` You/ppss must/md have/hv been/ben good/jj at/in history/nn at/in school/nn ./.\\nWhere/wrb did/dod you/ppo go/vb to/in school/nn ''/'' ?/. ?/.\\n\\n\\n\\t``/`` What/wdt is/bez this/dt ''/'' ?/. ?/.\\nShe/pps asked/vbd ,/, turning/vbg suddenly/rb ./.\\n``/`` Don't/do* you/ppss know/vb all/abn about/in me/ppo by/in this/dt time/nn ?/. ?/.\\nMy/pp$ name's/nn+bez Carla/np Caneli/np ./.\\nThis/dt is/bez my/pp$ town/nn ./.\\nI/ppss sleep/vb with/in you/ppo ./.\\nYou/ppss know/vb something/pn more/ap about/in me/ppo every/at day/nn ,/, don't/do* you/ppo ?/. ?/.\\nWould/md you/ppo be/be happier/jjr if/cs I/ppss made/vbd up/rp some/dti stories/nns about/in my/pp$ life/nn ,/, told/vbd you/ppo some/dti lies/nns ?/. ?/.\\nWhy/wrb are/ber you/ppss trying/vbg to/to worry/vb me/ppo ''/'' ?/. ?/.\\n\\n\\n\\t``/`` I'm/ppss+bem not/* trying/vbg to/to worry/vb you/ppo ''/'' ./.\\n\\n\\n\\t``/`` Well/uh ,/, all/ql right/rb then/rb ''/'' ./.\\n\\n\\n\\tThe/at cleansing/vbg tissues/nns she/pps had/hvd been/ben using/vbg had/hvd been/ben falling/vbg on/in the/at floor/nn ,/, and/cc he/pps got/vbd up/rp and/cc picked/vbd up/rp one/cd ,/, then/rb another/dt ,/, hoping/vbg she/pps would/md notice/vb what/wdt he/pps was/bedz doing/vbg ./.\\nAt/in home/nr he/pps had/hvd been/ben a/at clean/jj orderly/jj man/nn ,/, and/cc now/rb he/pps had/hvd to/to hide/vb his/pp$ annoyance/nn ./.\\nWas/bedz she/pps just/rb naturally/rb sloppy/jj about/in everything/pn but/in her/pp$ physical/jj appearance/nn ?/. ?/.\\nHe/pps wondered/vbd ./.\\nWould/md he/pps have/hv to/to clean/vb up/rp after/in her/ppo every/at day/nn ,/, clean/vb the/at kitchen/nn ,/, the/at bathroom/nn ,/, and/cc get/vb down/rp on/in his/pp$ knees/nns and/cc scrub/vb the/at kitchen/nn floor/nn ,/, then/rb hang/vb up/rp her/pp$ dresses/nns ,/, pick/vb up/rp her/pp$ stockings/nns ,/, make/vb the/at bed/nn while/cs she/pps lay/vbd around/rb ?/. ?/.\\nHe/pps straightened/vbd up/rp ,/, ready/jj to/to vent/vb his/pp$ exasperation/nn ,/, then/rb grew/vbd afraid/jj ./.\\nIf/cs he/pps dwelt/vbd on/in the/at indignities/nns he/pps suffered/vbd he/pps would/md lose/vb all/abn respect/nn for/in her/ppo ,/, and/cc without/in the/at respect/nn he/pps might/md lose/vb his/pp$ view/nn of/in her/ppo ,/, too/rb ./.\\n\\n\\n\\t``/`` What's/wdt+bez the/at matter/nn ''/'' ?/. ?/.\\nShe/pps asked/vbd suddenly/rb ./.\\n\\n\\n\\t``/`` Nothing/pn ./.\\nNothing/pn at/in all/abn ''/'' ,/, he/pps said/vbd quietly/rb ./.\\n``/`` Let's/vb+ppo go/vb out/rp ''/'' ./.\\n\\n\\n\\t``/`` Are/ber those/dts the/at only/ap shoes/nns you/ppss have/hv ,/, Sam/np ''/'' ?/. ?/.\\n\\n\\n\\t``/`` What's/wdt+bez the/at matter/nn with/in them/ppo ''/'' ?/. ?/.\\n\\n\\n\\t``/`` The/at heavy/jj thick/jj soles/nns ./.\\nLook/vb at/in them/ppo ''/'' ./.\\n\\n\\n\\t``/`` They're/ppss+ber an/at expensive/jj English/jj shoe/nn for/in walking/vbg around/rb a/at lot/nn ./.\\nI/ppss like/vb them/ppo ''/'' ./.\\n\\n\\n\\t``/`` Sam/np ,/, no/at one/pn around/in here/rb wears/vbz such/jj heavy/jj soles/nns ./.\\nCan't/md* you/ppss get/vb another/dt pair/nn ''/'' ?/. ?/.\\n\\n\\n\\t``/`` Maybe/rb I/ppss could/md ''/'' ,/, he/pps said/vbd ,/, surprised/vbn that/cs she/pps could/md turn/vb from/in herself/ppl and/cc notice/vb anything/pn about/in him/ppo ./.\\n``/`` I'll/ppss+md get/vb an/at elegant/jj pair/nn of/in thin-soled/jj Italian/jj shoes/nns tomorrow/nr ,/, Carla/np ''/'' ./.\\n\\n\\n\\t``/`` And/cc I/ppss don't/do* know/vb why/wrb you/ppss want/vb to/to go/vb on/rp wearing/vbg that/dt outfit/nn ''/'' ,/, she/pps said/vbd ,/, making/vbg a/at face/nn ./.\\n\\n\\n\\t``/`` What's/wdt+bez the/at matter/nn with/in it/ppo ''/'' ?/. ?/.\\nHe/pps had/hvd put/vbn on/rp the/at gray/jj jacket/nn and/cc the/at dark-gray/jj slacks/nns and/cc the/at fawn-colored/jj shirt/nn he/pps had/hvd worn/vbn that/dt first/od night/nn in/in Rome/np when/wrb he/pps had/hvd encountered/vbn her/ppo on/in the/at street/nn ./.\\n\\n\\n\\t``/`` Oh/uh ,/, Sam/np ./.\\nYou/ppss look/vb like/cs a/at tweedy/jj Englishman/np ./.\\nCan't/md* you/ppss wear/vb something/pn else/rb and/cc look/vb a/at little/ap more/rbr as/cs though/cs you/ppss belonged/vbd ''/'' ?/. ?/.\\n\\n\\n\\t``/`` I/ppss don't/do* mind/vb at/in all/abn ''/'' ,/, he/pps said/vbd ,/, delighted/vbn with/in her/pp$ attention/nn ./.\\nChanging/vbg his/pp$ clothes/nns ,/, he/pps put/vbd on/rp his/pp$ dark-blue/jj flannel/nn suit/nn ,/, and/cc laid/vbd away/rb the/at gray/jj jacket/nn with/in the/at feeling/nn that/cs he/pps might/md be/be putting/vbg it/ppo aside/rb for/in good/jj ./.\\nBut/cc it/pps was/bedz a/at hopeful/jj sign/nn ,/, he/pps told/vbd himself/ppl ./.\\nShe/pps no/at longer/jjr wanted/vbd anything/pn about/in him/ppo to/to remind/vb her/ppo of/in the/at circumstances/nns of/in their/pp$ meeting/nn that/dt first/od night/nn in/in Parioli/np ./.\\n\\n\\n\\tThat/dt day/nn they/ppss loafed/vbd around/rb ,/, just/rb getting/vbg the/at feel/nn of/in the/at city/nn ./.\\nThey/ppss looked/vbd at/in the/at ruins/nns of/in the/at old/jj Roman/jj wall/nn on/in the/at lower/jjr Via/fw-nn-tl Veneto/np-tl ,/, then/rb they/ppss went/vbd to/in the/at Farnese/np-tl Gardens/nns-tl ./.\\nShe/pps had/hvd some/dti amusing/jj scandal/nn about/in the/at Farneses/nps in/in the/at old/jj days/nns ./.\\nThen/rb they/ppss took/vbd a/at taxi/nn to/in Trastevere/np ./.\\n``/`` There's/ex+bez a/at church/nn you/ppss should/md see/vb ''/'' ,/, she/pps said/vbd ./.\\nAnd/cc when/wrb they/ppss stood/vbd by/in the/at fountain/nn in/in the/at piazza/nn looking/vbg at/in Santa/np Maria/np he/pps had/hvd to/to keep/vb a/at straight/jj face/nn ,/, not/* letting/vbg on/rp he/pps had/hvd been/ben there/rb with/in Alberto/np ./.\\nHe/pps let/vbd her/ppo tell/vb him/ppo all/abn about/in the/at church/nn ./.\\nThen/rb they/ppss had/hvd dinner/nn ./.\\nAll/abn evening/nn she/pps was/bedz eloquent/jj and/cc pleased/vbn with/in herself/ppl ./.\\nWhen/wrb they/ppss got/vbd home/nr at/in midnight/nn she/pps was/bedz tired/vbn out/rp ./.\\nAnd/cc in/in the/at morning/nn when/wrb he/pps woke/vbd up/rp at/in ten/cd the/at church/nn bells/nns were/bed ringing/vbg ./.\\n\\n\\n\\tHe/pps had/hvd never/rb heard/vbn so/ql many/ap bells/nns ,/, and/cc as/cs he/pps lay/vbd there/rb listening/vbg ,/, he/pps thought/vbd of/in her/ppo scolding/vbg him/ppo for/in his/pp$ remarks/nns when/wrb he/pps had/hvd looked/vbn up/rp at/in the/at obelisk/nn and/cc the/at church/nn at/in the/at top/nn of/in the/at Spanish/jj-tl Steps/nns-tl ./.\\nIt/pps was/bedz a/at good/jj thing/nn that/cs she/pps clung/vbd to/in her/pp$ religion/nn ,/, he/pps thought/vbd ./.\\nShe/pps might/md like/vb to/to take/vb him/ppo to/in St./nn-tl Peter's/np$-tl ./.\\n\\n\\n\\t``/`` Carla/np ,/, wake/vb up/rp ''/'' ,/, he/pps said/vbd shaking/vbg her/ppo ./.\\n``/`` It's/pps+bez ten/cd o'clock/rb ./.\\nAren't/ber* you/ppss going/vbg out/rp to/in mass/nn ?/. ?/.\\nYou/ppss could/md take/vb me/ppo to/in St./nn-tl Peter's/np$-tl ''/'' ./.\\n\\n\\n\\t``/`` Uhhu/uh ''/'' ,/, she/pps muttered/vbd ./.\\n\\n\\n\\t``/`` Come/vb on/rp ,/, you'll/ppss+md be/be late/rb ''/'' ./.\\n\\n\\n\\t``/`` I/ppss think/vb I'll/ppss+md sleep/vb in/rp this/dt morning/nn ''/'' ,/, she/pps said/vbd drowsily/rb ,/, and/cc as/cs she/pps snuggled/vbd against/in him/ppo ,/, he/pps wondered/vbd if/cs she/pps ever/rb went/vbd to/in church/nn ./.\\nWhy/wrb did/dod he/pps want/vb her/ppo to/to go/vb to/in church/nn ?/. ?/.\\nHe/pps wondered/vbd Probably/rb because/cs it/pps was/bedz a/at place/nn where/wrb she/pps might/md get/vb a/at feeling/nn of/in certainty/nn and/cc security/nn ./.\\nIt/pps would/md be/be good/jj for/in her/ppo ./.\\nIt/pps was/bedz too/ql bad/jj he/pps had/hvd no/at feeling/nn himself/ppl for/in church/nn ./.\\nNot/* his/pp$ poor/jj mother's/nn$ fault/nn ./.\\nShe/pps would/md have/hv been/ben better/rbr off/rp if/cs she/pps had/hvd stuck/vbn to/in her/pp$ Bible/np ./.\\nAs/in for/in himself/ppl ,/, he/pps just/rb didn't/dod* have/hv the/at temperament/nn for/in it/ppo ./.\\nFrom/in the/at time/nn he/pps had/hvd been/ben at/in college/nn he/pps had/hvd achieved/vbn a/at certain/jj tranquility/nn and/cc composure/nn by/in accepting/vbg the/at fact/nn that/cs there/ex were/bed certain/jj things/nns he/pps could/md never/rb know/vb ./.\\nThen/rb he/pps thought/vbd of/in those/dts Old/jj-tl Testament/nn-tl figures/nns on/in the/at ceiling/nn of/in the/at Sistine/jj-tl Chapel/nn-tl ./.\\nJust/rb figures/nns out/in of/in a/at tribal/jj folklore/nn ./.\\nCould/md he/pps honestly/rb believe/vb it/pps would/md be/be good/jj for/in Carla/np to/to have/hv those/dts old/jj prophets/nns gripping/vbg her/pp$ imagination/nn now/rb ?/. ?/.\\nBeing/beg a/at woman/nn though/rb ,/, she/pps would/md take/vb only/rb what/wdt she/pps needed/vbd from/in church/nn ./.\\nIt/pps was/bedz too/ql bad/jj he/pps wasn't/bedz* a/at Catholic/jj himself/ppl ./.\\nOr/cc a/at Protestant/np ,/, or/cc one/cd of/in those/dts amusing/jj dogmatic/jj atheists/nns ,/, or/cc a/at strict/jj orthodox/jj Communist/nn-tl ./.\\nWhat/wdt was/bedz the/at matter/nn with/in him/ppo that/cs they/ppss all/abn wearied/vbd him/ppo ?/. ?/.\\nIt/pps was/bedz the/at times/nns ,/, he/pps was/bedz sure/jj ./.\\nAll/ql the/at ideologies/nns changing/vbg from/in day/nn to/in day/nn ,/, right/ql under/in his/pp$ eyes/nns ,/, so/cs how/wrb could/md a/at man/nn look/nn to/in any/dti one/pn of/in them/ppo for/in an/at enlargement/nn of/in his/pp$ freedom/nn ?/. ?/.\\nIt/pps was/bedz all/abn too/ql wearying/vbg ./.\\nLook/vb somewhere/rb else/rb ./.\\nBut/cc where/wrb ?/. ?/.\\nJust/rb the/at same/ap ,/, he/pps thought/vbd ,/, pondering/vbg over/in it/ppo ,/, it/pps would/md be/be a/at good/jj thing/nn for/in a/at girl/nn like/cs Carla/np if/cs she/pps got/vbd up/rp and/cc went/vbd to/in church/nn ./.\\n\\n\\n\\tA/at half/abn hour/nn later/rbr he/pps got/vbd her/ppo up/rp to/to go/vb out/rp for/in breakfast/nn so/cs the/at Ferraros/nps ,/, hearing/vbg them/ppo hurrying/vbg down/in the/at stairs/nns ,/, would/md think/vb they/ppss were/bed going/vbg to/in a/at late/jj mass/nn ./.\\nIt/pps seemed/vbd to/in him/ppo that/cs if/cs the/at Ferraros/nps felt/vbd sure/jj of/in them/ppo ,/, could/md place/vb them/ppo ,/, it/pps would/md help/vb him/ppo to/to feel/vb more/ql sure/jj of/in himself/ppl with/in Carla/np ./.\\n\\n\\n\\t``/`` Since/cs we're/ppss+ber having/hvg coffee/nn with/in them/ppo this/dt afternoon/nn ''/'' ,/, he/pps said/vbd ,/, ``/`` I/ppss think/vb I'll/ppss+md ask/vb the/at daughter/nn if/cs we/ppss can/md pay/vb her/ppo to/to come/vb in/rp every/at day/nn to/to clean/vb for/in us/ppo ''/'' ./.\\nAnd/cc he/pps waited/vbd for/in her/ppo to/to say/vb ,/, ``/`` Oh/uh ,/, no/rb ,/, I/ppss can/md do/do it/ppo ,/, Sam/np ./.\\nThere's/ex+bez so/ql little/ap to/to do/do ''/'' ./.\\n\\n\\n\\t``/`` Why/wrb not/* ''/'' ?/. ?/.\\nShe/pps said/vbd ./.\\n``/`` I'm/ppss+bem not/* good/jj at/in that/dt kind/nn of/in thing/nn ''/'' ./.\\n\\n\\n\\t``/`` This/dt afternoon/nn let's/vb+ppo take/vb an/at air/nn with/in them/ppo ./.\\nLet's/vb+ppo be/be fine/jj superior/jj people/nns of/in great/jj dignity/nn ''/'' ,/, he/pps said/vbd as/cs if/cs he/pps were/bed joking/vbg ./.\\n\\n\\n\\t``/`` If/cs you/ppss find/nn it/pps necessary/jj ,/, Sam/np ,/, go/vb ahead/rb ''/'' ,/, she/pps said/vbd ,/, turning/vbg on/in the/at stair/nn ./.\\n``/`` I/ppss am/bem what/wdt I/ppss am/bem ./.\\nI/ppss can't/md* help/vb it/ppo ''/'' ./.\\nHer/pp$ words/nns remained/vbd with/in him/ppo ,/, worrying/vbg him/ppo for/in hours/nns ./.\\nHe/pps didn't/dod* know/vb how/wrb she/pps would/md behave/vb with/in other/ap people/nns ./.\\n\\n\\n\\tWhen/wrb they/ppss walked/vbd into/in the/at Ferraro/np apartment/nn ,/, the/at old/jj lady/nn ,/, bowing/vbg and/cc smiling/vbg ,/, said/vbd softly/rb ./.\\n``/`` Ciao/fw-uh ,/, ''/'' and/cc put/vbd out/rp her/pp$ hand/nn ./.\\nHer/pp$ little/jj brown/jj face/nn wrinkled/vbd up/rp ,/, her/pp$ brown/jj eyes/nns gleamed/vbd ,/, and/cc with/in her/pp$ little/jj gestures/nns she/pps said/vbd all/abn the/at courteous/jj things/nns ./.\\nAgnese/np ,/, smiling/vbg too/rb ,/, said/vbd ,/, ``/`` 'ello/uh ''/'' ,/, and/cc then/rb more/ql slowly/rb ,/, ``/`` I/ppss am/bem happy/jj ''/'' ./.\\nAnd/cc they/ppss sat/vbd down/rp and/cc began/vbd their/pp$ little/jj coffee/nn party/nn ./.\\nThe/at Ferraros/nps offered/vbd them/ppo biscuits/nns with/in the/at coffee/nn ./.\\nActing/vbg only/rb as/cs interpreter/nn Carla/np ,/, her/pp$ hands/nns folded/vbn on/in her/pp$ lap/nn ,/, was/bedz utterly/rb impersonal/jj ./.\\nShe/pps would/md turn/vb to/in them/ppo ,/, then/rb turn/vb to/in him/ppo ,/, then/rb turn/vb again/rb ./.\\nWatching/vbg her/ppo ,/, he/pps felt/vbd like/cs a/at spectator/nn at/in a/at tennis/nn game/nn ,/, with/in the/at ball/nn being/beg bounced/vbn back/rb and/cc forth/rb ./.\\nSignora/np Ferraro/np ,/, bobbing/vbg her/pp$ head/nn encouragingly/rb ,/, asked/vbd Sam/np about/in Canada/np ,/, having/hvg a/at special/jj interest/nn ./.\\nCarla/np translated/vbd ./.\\nThe/at old/jj woman/nn had/hvd a/at nephew/nn from/in North/jj-tl Italy/np-tl ,/, a/at poor/jj boy/nn from/in a/at lumber/nn mill/nn who/wps had/hvd got/vbn tired/vbn of/in the/at seasonal/jj unemployment/nn ,/, and/cc who/wps had/hvd migrated/vbn to/in Canada/np to/to work/vb on/in the/at railway/nn ./.\\nFor/in a/at year/nn the/at boy/nn had/hvd lived/vbn in/in the/at bush/nn in/in a/at boxcar/nn ./.\\nDid/dod many/ap of/in Sam's/np$ countrymen/nns live/vb in/in boxcars/nns in/in the/at bush/nn ?/. ?/.\\nHad/hvd Sam/np ever/rb lived/vbn in/in a/at boxcar/nn ?/. ?/.\\nShe/pps wanted/vbd to/to know/vb ./.\\nRegretfully/rb Sam/np explained/vbd that/cs he/pps had/hvd no/at experience/nn with/in boxcars/nns ./.\\nJust/rb the/at same/ap ,/, the/at old/jj woman/nn said/vbd ,/, she/pps would/md write/vb to/in her/pp$ nephew/nn in/in his/pp$ boxcar/nn and/cc tell/vb him/ppo she/pps had/hvd met/vbn a/at nice/jj man/nn from/in his/pp$ adopted/vbn country/nn ./.\\nAnd/cc Sam/np thanked/vbd her/ppo ,/, and/cc hoped/vbd he/pps might/md meet/vb her/pp$ nephew/nn back/rb home/nr ,/, and/cc asked/vbd her/ppo if/cs she/pps had/hvd any/dti further/jjr news/nn of/in the/at Pope/nn-tl ./.\\n\\n\\n\\tA/at very/ql great/jj Pope/nn-tl ,/, this/dt one/pn ,/, the/at old/jj woman/nn explained/vbd ,/, her/pp$ black/jj eyes/nns sparkling/vbg ./.\\nAn/at intellectual/nn ./.\\nBut/cc very/ql mystical/jj too/rb ./.\\nIt/pps was/bedz said/vbn that/cs he/pps had/hvd had/hvn a/at vision/nn ./.\\nJust/rb as/cs thousands/nns that/dt day/nn in/in Portugal/np had/hvd seen/vbn the/at sun/nn dancing/vbg in/in the/at sky/nn ,/, he/pps had/hvd seen/vbn the/at same/ap thing/nn later/rbr in/in his/pp$ own/jj garden/nn ,/, and/cc she/pps turned/vbd to/in Agnese/np for/in confirmation/nn ./.\\nAgnese/np had/hvd been/ben sitting/vbg quietly/rb ,/, listening/vbg with/in the/at serenity/nn of/in the/at unaware/jj ./.\\nNow/rb a/at little/jj flush/nn came/vbd on/in her/pp$ pale/jj homely/jj face/nn and/cc enchantment/nn in/in her/pp$ eyes/nns ./.\\nThe/at Holy/jj-tl Father/nn-tl would/md die/vb soon/rb ,/, she/pps said/vbd to/in Carla/np ,/, so/cs she/pps could/md translate/vb for/in Sam/np ,/, although/cs he/pps had/hvd a/at brilliant/jj doctor/nn ,/, a/at man/nn who/wps did/dod not/* need/vb the/at assistance/nn of/in those/dts doctors/nns offered/vbn by/in the/at great/jj rulers/nns of/in the/at world/nn ./.\\nYes/rb ,/, the/at Pope/nn-tl could/md die/vb and/cc quickly/rb be/be made/vbn a/at saint/nn ./.\\nNo/rb ,/, he/pps was/bedz indeed/rb a/at saint/nn now/rb ./.\\nNodding/vbg approvingly/rb and/cc swelling/vbg with/in importance/nn ,/, the/at old/jj lady/nn whispered/vbd confidentially/rb ./.\\nThere/ex was/bedz a/at certain/jj discontent/nn among/in the/at cardinals/nns ./.\\nThe/at Pope/nn-tl ,/, in/in the/at splendor/nn of/in his/pp$ great/jj intellect/nn ,/, had/hvd neglected/vbn them/ppo a/at little/ap ./.\\nThere/ex would/md be/be changes/nns made/vbn ,/, and/cc Signor/np Raymond/np should/md understand/vb that/cs when/wrb the/at Pope/nn-tl died/vbd it/pps was/bedz like/cs the/at end/nn of/in a/at regime/nn in/in Rome/np ./.\\nJobs/nns would/md be/be lost/vbn and/cc new/jj faces/nns would/md become/vb prominent/jj ./.\\n\\n\\n\\tDid/dod Signor/np Raymond/np understand/vb ?/. ?/.\\nIndeed/rb he/pps did/dod ,/, Sam/np said/vbd solemnly/rb ,/, trying/vbg to/to get/vb Carla's/np$ eye/nn ./.\\nSurely/rb she/pps could/md see/vb that/cs these/dts women/nns were/bed her/pp$ Italians/nps ,/, too/rb ,/, he/pps thought/vbd ./.\\nDevout/jj ,/, orthodox/jj and/cc plain/jj like/cs a/at family/nn she/pps might/md meet/vb in/in Brooklyn/np or/cc Malta/np or/cc Ireland/np ./.\\nBut/cc Carla's/np$ eyes/nns were/bed on/in Agnese/np whose/wp$ glowing/vbg face/nn and/cc softening/vbg eyes/nns gave/vbd her/ppo a/at look/nn of/in warmth/nn and/cc happiness/nn ./.\\nAnd/cc Carla/np ,/, watching/vbg in/in wonder/nn ,/, turned/vbd to/in Sam/np ./.\\n``/`` It/pps means/vbz so/ql much/ap to/in her/ppo ./.\\nIt's/pps+bez like/cs a/at flame/nn ,/, I/ppss guess/vb ''/'' ,/, she/pps said/vbd in/in a/at dreamy/jj tone/nn ./.\\n\\n\\n\\n\\tBut/cc one/cd night/nn Dookiyoon/np moved/vbd in/in the/at direction/nn of/in the/at women's/nns$ lodge/nn ,/, where/wrb Shades/nns-tl of/in-tl Night/nn-tl had/hvd gone/vbn to/to purify/vb herself/ppl ./.\\n\\n\\n\\tWith/in the/at blue/jj flesh/nn of/in night/nn touching/vbg him/ppo he/pps stood/vbd under/in a/at gentle/jj hill/nn caressing/vbg the/at flageolet/nn with/in his/pp$ lips/nns ,/, making/vbg it/ppo whisper/vb ./.\\nHe/pps saw/vbd her/ppo emerge/vb suddenly/rb ,/, coming/vbg in/in her/pp$ unhesitant/jj fashion/nn ,/, her/pp$ back/nn stiff/jj ,/, her/pp$ head/nn erect/jj ,/, facing/vbg with/in contempt/nn the/at night/nn and/cc whatever/wdt she/pps would/md encounter/vb ,/, as/cs if/cs in/in her/pp$ extreme/jj disdain/nn and/cc indifference/nn she/pps would/md pass/vb by/rb all/abn the/at outraged/vbn looks/nns of/in those/dts whom/wpo she/pps might/md approach/vb ./.\\nIn/in her/ppo dark/jj ,/, scornful/jj fashion/nn she/pps proceeded/vbd to/in her/pp$ destination/nn ,/, afraid/jj of/in nothing/pn ,/, not/* even/rb the/at evil/jj spirits/nns which/wdt kept/vbd her/ppo company/nn in/in her/pp$ time/nn of/in bleeding/vbg ./.\\n\\n\\n\\tSeeing/vbg her/ppo come/vb ,/, he/pps caught/vbd his/pp$ breath/nn ,/, feeling/vbg his/pp$ heart/nn bounce/vb in/in him/ppo ,/, and/cc turned/vbd away/rb ,/, afraid/jj now/rb ./.\\nEven/rb he/pps ,/, wanting/vbg her/ppo ,/, afraid/jj of/in her/ppo and/cc not/* knowing/vbg how/wrb to/to press/vb his/pp$ suit/nn ,/, feared/vbd the/at evil/jj presences/nns in/in her/pp$ metabolism/nn more/rbr ./.\\nHis/pp$ breath/nn caught/vbd ,/, and/cc ,/, trembling/vbg ,/, he/pps closed/vbd his/pp$ eyes/nns and/cc stumbled/vbd off/rp ./.\\nGoing/vbg ,/, he/pps saw/vbd as/cs often/rb before/rb some/dti queer/jj ,/, hideous/jj yellow/jj face/nn over/in his/pp$ head/nn ,/, shining/vbg and/cc weird/jj like/cs the/at old/jj images/nns which/wdt had/hvd invested/vbn him/ppo at/in other/ap times/nns like/vb those/dts that/wps appear/vb sometimes/rb near/in the/at eyeballs/nns when/wrb they/ppss are/ber perhaps/rb pressed/vbn by/in the/at thumbs/nns ./.\\n\\n\\n\\tHe/pps cried/vbd out/rp to/in her/ppo ,/, his/pp$ back/nn turned/vbn ./.\\nThen/rb he/pps fled/vbd ,/, not/* waiting/vbg to/to see/vb if/cs she/pps minded/vbd him/ppo or/cc took/vbd notice/nn of/in his/pp$ cry/nn ./.\\n\\n\\n\\tBut/cc she/pps heard/vbd him/ppo go/vb ./.\\nYet/rb she/pps did/dod not/* hesitate/vb and/cc only/rb turned/vbd slightly/rb ,/, her/pp$ neck/nn tall/jj as/cs she/pps looked/vbd in/in his/pp$ direction/nn ,/, and/cc continued/vbd on/in her/pp$ way/nn toward/in the/at end/nn of/in the/at camp/nn ./.\\n\\n\\n\\tElsewhere/nn others/nns heard/vbn and/cc stopped/vbd and/cc waited/vbd ,/, the/at women/nns peering/vbg from/in their/pp$ lodges/nns then/rb gathering/vbg in/in small/jj ,/, curious/jj clusters/nns ./.\\nEarly/jj-tl Spring/nn-tl came/vbd from/in her/pp$ bed/nn ,/, from/in beside/in her/ppo half-drunk/jj husband/nn ,/, Walitzee/np ,/, and/cc stood/vbd at/in the/at entrance/nn way/nn to/in her/pp$ lodge/nn hearing/vbg the/at mild/jj commotion/nn ,/, the/at sound/nn of/in hushed/vbn voices/nns ./.\\nStanding/vbg there/rb she/pps saw/vbd Shades/nns-tl of/in-tl Night/nn-tl come/vb through/in the/at trees/nns and/cc stop/vb beside/in the/at lodge/nn ,/, silent/jj ,/, almost/rb imperious/jj ,/, her/pp$ body/nn taut/jj ,/, simply/rb standing/vbg without/in speaking/vbg or/cc moving/vbg while/cs the/at wife/nn of/in Walitzee/np waited/vbd ,/, perhaps/rb denying/vbg the/at dread/nn that/wps moved/vbd in/in her/ppo ./.\\nWhen/wrb at/in last/ap she/pps could/md suffer/vb the/at insult/nn no/at longer/jjr ,/, nor/cc face/vb the/at girl's/nn$ scorn/nn ,/, she/pps said/vbd in/in a/at voice/nn overloud/jj :/: \\n\\n\\t``/`` I/ppss shall/md call/vb your/pp$ father/nn !/. !/.\\nGo/vb back/rb where/wrb you/ppss can/md bring/vb no/at harm/nn ,/, or/cc I/ppss will/md go/vb and/cc get/vb the/at old/jj man/nn from/in his/pp$ bed/nn so/cs he/pps can/md see/vb your/pp$ shame/nn ''/'' !/. !/.\\n\\n\\n\\tBut/cc the/at girl/nn said/vbd only/rb ,/, ``/`` Tell/vb him/ppo I/ppss am/bem here/rb ,/, that/cs I/ppss have/hv come/vbn ''/'' ./.\\nAnd/cc it/pps was/bedz not/* Pile/nn-tl of/in-tl Clouds/nns-tl she/pps meant/vbd ./.\\n\\n\\n\\tBut/cc now/rb with/in real/jj anger/nn at/in last/ap ,/, something/pn proud/jj and/cc indignant/jj ,/, Early/jj-tl Spring/nn-tl stood/vbd like/cs a/at she/pps wolf/nn before/in her/pp$ den/nn and/cc cried/vbd ,/, ``/`` I/ppss will/md not/* shriek/vb at/in you/ppo !/. !/.\\nI/ppss will/md tell/vb you/ppo to/to go/vb ,/, not/* begging/vbg ./.\\nTelling/vbg you/ppo ''/'' !/. !/.\\nAnd/cc unsheathing/vbg the/at knife/nn she/pps used/vbd for/in curing/vbg hides/nns she/pps stepped/vbd away/rb from/in the/at lodge/nn ,/, holding/vbg the/at knife/nn at/in her/pp$ side/nn ./.\\n\\n\\n\\t``/`` You/ppss bring/vb only/rb wickedness/nn ''/'' ,/, she/pps said/vbd and/cc it/pps was/bedz not/* to/in a/at child/nn any/dti longer/jjr but/cc to/in another/dt woman/nn who/wps had/hvd come/vbn to/to skirt/vb her/pp$ lodge/nn with/in the/at cunning/jj hunger/nn of/in a/at wild/jj animal/nn ./.\\nSpeaking/vbg in/in a/at low/jj voice/nn of/in loathing/vbg she/pps went/vbd up/in to/in the/at girl/nn ,/, who/wps stood/vbd with/in the/at same/ap upright/nn ,/, scornful/jj bearing/nn and/cc did/dod not/* even/vb look/vb at/in the/at knife/nn ./.\\n\\n\\n\\t``/`` Go/vb take/vb helsq'iyokom/fw-nn ,/, your/pp$ evil/jj spirit/nn ,/, to/in the/at young/jj boys/nns ''/'' ,/, the/at woman/nn said/vbd ./.\\n``/`` They/ppss do/do not/* have/hv to/to face/vb battle/nn ./.\\nI/ppss will/md not/* let/vb your/pp$ evil/nn in/rp ./.\\nI/ppss will/md simply/rb kill/vb you/ppo first/rb ./.\\nNow/rb go/vb ''/'' !/. !/.\\n\\n\\n\\tThe/at other/ap women/nns had/hvd come/vbn close/rb now/rb ,/, their/pp$ voices/nns murmuring/vbg together/rb until/cs they/ppss stood/vbd buzzing/vbg in/in an/at angry/jj knot/nn ,/, their/pp$ threats/nns mingling/vbg ,/, rising/vbg ,/, nagging/vbg at/in each/dt other/ap ,/, each/dt trying/vbg to/to make/vb her/pp$ indignation/nn and/cc anger/nn felt/vbn ./.\\nThey/ppss picked/vbd up/rp sticks/nns and/cc hurled/vbd them/ppo at/in the/at girl/nn ./.\\nThe/at sticks/nns fell/vb like/cs a/at shower/nn around/in her/ppo and/cc she/pps felt/vbd them/ppo sting/vb her/pp$ flesh/nn and/cc send/vb tiny/jj points/nns of/in pain/nn along/in her/pp$ thighs/nns ./.\\nThey/ppss were/bed all/abn shouting/vbg at/in her/ppo as/cs if/cs she/pps were/bed the/at embodiment/nn of/in the/at evil/nn she/pps brought/vbd ./.\\nBut/cc she/pps did/dod not/* move/vb ,/, taking/vbg the/at words/nns and/cc the/at sticks/nns in/in that/dt old/jj defiance/nn of/in her/pp$ extreme/jj youth/nn until/cs suddenly/rb Pile/nn-tl of/in-tl Clouds/nns-tl came/vbd howling/vbg among/in them/ppo ,/, swinging/vbg a/at great/jj bullhide/nn whip/nn ./.\\n\\n\\n\\t``/`` Go/vb back/rb to/in your/pp$ lodges/nns ''/'' !/. !/.\\nHe/pps shouted/vbd ./.\\n``/`` A/at pack/nn of/in dogs/nns makes/vbz less/ap noise/nn ''/'' !/. !/.\\nHe/pps made/vbd the/at long/jj whip/nn sing/vb and/cc snap/vb around/in their/pp$ heads/nns so/cs that/cs they/ppss ran/vbd screaming/vbg ,/, some/dti tripping/vbg over/in themselves/ppls in/in their/pp$ flight/nn ./.\\nAnd/cc Early/jj-tl Spring/nn-tl seized/vbd the/at whip/nn and/cc said/vbd :/: \\n\\n\\t``/`` If/cs you/ppss must/md flog/vb someone/pn ,/, let/vb it/pps be/be her/ppo ,/, your/pp$ daughter/nn ./.\\nDrive/vb the/at demons/nns out/in of/in her/ppo and/cc teach/vb her/ppo to/to stay/vb away/rb from/in my/pp$ husband/nn ''/'' !/. !/.\\nBut/cc the/at old/jj man/nn turned/vbd on/in her/ppo ,/, jerking/vbg the/at whip/nn from/in her/pp$ hand/nn ./.\\n\\n\\n\\t``/`` Get/vb into/in your/pp$ hovel/nn ''/'' !/. !/.\\nHe/pps spat/vbd ./.\\n``/`` Go/vb back/rb to/in that/dt double-married/jj man/nn of/in yours/pp$$ who/wps so/ql parades/vbz his/pp$ fine/jj body/nn among/in the/at young/jj women/nns ./.\\nKeep/vb him/ppo back/rb ,/, if/cs you/ppss must/md tell/vb me/ppo what/wdt to/to do/do ./.\\nI/ppss will/md be/be the/at one/pn to/to confront/vb my/pp$ daughter/nn ,/, not/* the/at wife/nn of/in him/ppo who/wps leads/vbz her/ppo to/in sin/nn ''/'' !/. !/.\\n\\n\\n\\tShe/pps retreated/vbd before/cs the/at naked/jj shame/nn in/in the/at old/jj man/nn and/cc the/at fury/nn beyond/in it/ppo and/cc sank/vbd into/in the/at darkness/nn of/in her/pp$ lodge/nn where/wrb Walitzee/np stirred/vbd ,/, mumbling/vbg ,/, sitting/vbg up/rp in/in a/at half/abn stupor/nn to/to say/vb :/: \\n\\n\\t``/`` What/wdt worrisome/jj thing/nn happens/vbz ?/. ?/.\\nI/ppss thought/vbd I/ppss dreamed/vbd of/in wolves/nns fighting/vbg ''/'' ./.\\nBut/cc she/pps went/vbd to/in him/ppo and/cc pressed/vbd herself/ppl against/in his/pp$ nakedness/nn ,/, smelling/vbg the/at stale/jj odor/nn of/in the/at whisky/nn he/pps had/hvd stolen/vbn from/in TuHulHulZote/np ./.\\n\\n\\n\\tShe/pps said/vbd ,/, ``/`` There/ex is/bez nothing/pn that/cs concerns/vbz you/ppo here/rb ./.\\nLie/vb back/rb and/cc go/vb to/to sleep/vb ./.\\nBut/cc do/do not/* dream/vb ./.\\nDo/do not/* let/vb the/at wicked/jj spirits/nns enter/vb your/pp$ brain/nn ''/'' ./.\\n\\n\\n\\tHe/pps sank/vbd back/rb ,/, sighing/vbg ,/, and/cc was/bedz soon/rb asleep/rb again/rb ./.\\n\\n\\n\\tOutside/rb ,/, the/at old/jj man/nn ,/, beyond/in all/abn the/at curses/nns of/in the/at spirits/nns his/pp$ daughter/nn bore/vbd ,/, went/vbd to/in her/ppo and/cc twisted/vbd the/at gnarled/jj talons/nns of/in his/pp$ fingers/nns in/in her/pp$ hair/nn and/cc turned/vbd her/ppo and/cc pushed/vbd her/ppo rudely/rb ahead/rb of/in him/ppo into/in the/at trees/nns where/wrb the/at moon/nn sent/vbd out/rp a/at thousand/cd arms/nns ./.\\nAnd/cc ,/, shoving/vbg her/ppo against/in a/at spruce/nn ,/, her/pp$ back/nn to/in him/ppo ,/, he/pps retreated/vbd with/in the/at whip/nn and/cc made/vbd it/ppo whine/vb and/cc crack/vb in/in the/at damp/jj air/nn ,/, shortening/vbg its/pp$ arc/nn until/cs it/pps narrowed/vbd to/to her/pp$ flesh/nn and/cc the/at sound/nn of/in it/ppo snarled/vbd and/cc cracked/vbd ,/, settling/vbg its/pp$ own/jj cruel/jj demons/nns on/in her/pp$ shoulders/nns while/cs she/pps stood/vbd as/ql unchanged/jj ,/, as/ql dark/jj and/cc motionless/jj as/cs ever/rb ,/, her/pp$ eyes/nns open/vb and/cc staring/vbg at/in the/at pale/jj delineaments/nns of/in the/at bark/nn so/ql close/jj to/in her/pp$ face/nn ./.\\n\\n\\n\\tShe/pps said/vbd to/in him/ppo ,/, her/pp$ father/nn ,/, ``/`` How/wrb was/bedz I/ppss begotten/vbn ,/, in/in pain/nn or/cc joy/nn ?/. ?/.\\nIs/bez it/pps for/in me/ppo to/to be/be forbidden/vbn the/at flesh/nn you/ppss made/vbd grow/vb on/in me/ppo ?/. ?/.\\nThey/ppss all/abn know/vb your/pp$ foolish/jj name/nn ''/'' !/. !/.\\n\\n\\n\\tShe/pps stared/vbd at/in the/at pale/jj tracings/nns on/in the/at tree/nn ,/, hearing/vbg her/pp$ breath/nn refracted/vbn from/in it/ppo ,/, her/pp$ face/nn close/rb and/cc touching/vbg at/in time/nn the/at rough/jj edges/nns of/in the/at bark/nn ./.\\nShe/pps felt/vbd the/at lash/nn bite/vb and/cc heard/vbd her/pp$ father/nn say/vb in/in crazed/vbn monosyllables/nns words/nns which/wdt had/hvd no/at meaning/nn ,/, like/in ,/, ``/`` unnnt/uh !/. !/.\\nSssshoo/uh ''/'' !/. !/.\\nThe/at sounds/nns of/in an/at animal/nn in/in rage/nn and/cc despair/nn ./.\\n\\n\\n\\tSuddenly/rb the/at lash/nn stopped/vbd fighting/vbg the/at air/nn and/cc she/pps heard/vbd Pile/nn-tl of/in Clouds/nns-tl say/vb in/in his/pp$ high/jj ,/, quavering/vbg voice/nn :/: \\n\\n\\t``/`` Did/dod you/ppss follow/vb me/ppo to/to see/vb my/pp$ shame/nn ?/. ?/.\\nMove/vb from/in the/at line/nn or/cc I/ppss will/md settle/vb the/at whip/nn on/in you/ppo ./.\\nMove/vb !/. !/.\\nDo/do you/ppo hear/vb the/at anger/nn of/in the/at whip's/nn$ whine/nn ''/'' ?/. ?/.\\n\\n\\n\\tTurning/vbg ,/, the/at girl/nn saw/vbd Dookiyoon/np standing/vbg between/in ,/, his/pp$ narrow/jj shoulders/nns unbent/vbn ,/, his/pp$ arms/nns hanging/vbg long/jj and/cc resigned/vbn ./.\\nHe/pps said/vbd ,/, ``/`` Let/vb me/ppo take/vb her/pp$ blows/nns ,/, for/cs there/ex are/ber demons/nns in/in me/ppo too/rb ''/'' ./.\\n\\n\\n\\tThen/rb ,/, without/in knowing/vbg why/wrb ,/, she/pps found/vbd herself/ppl running/vbg from/in them/ppo ,/, fleeing/vbg wildly/rb through/in the/at trees/nns ,/, dodging/vbg her/pp$ own/jj shadows/nns until/cs she/pps came/vbd to/in a/at little/jj hollow/nn in/in the/at rocky/jj ground/nn with/in a/at big/jj stone/nn in/in the/at center/nn behind/in which/wdt she/pps knelt/vbd and/cc hid/vbd ,/, listening/vbg to/in the/at madness/nn of/in her/pp$ heart/nn and/cc wanting/vbg for/in once/rb to/to cry/vb ./.\\n\\n\\n\\n\\nFor/in a/at while/nn the/at young/jj men/nns waited/vbd outside/in the/at lodge/nn of/in TuHulHulZote/np ,/, glorying/vbg in/in his/pp$ harsh/jj language/nn as/cs he/pps talked/vbd with/in himself/ppl ./.\\nHe/pps shouted/vbd like/cs a/at hoarse/jj old/jj mastiff/nn ,/, his/pp$ hair/nn stiff/jj and/cc bristling/vbg ./.\\nHe/pps ranted/vbd and/cc prophesied/vbd the/at doom/nn of/in his/pp$ enemies/nns ,/, walking/vbg in/in circles/nns in/in and/cc out/in of/in his/pp$ living/vbg place/nn ,/, drinking/vbg stolen/vbn whisky/nn in/in great/jj ,/, gasping/vbg draughts/nns until/cs finally/rb ,/, incoherent/jj and/cc sick/jj ,/, he/pps fell/vbd into/in his/pp$ own/jj oblivion/nn ./.\\nHe/pps amused/vbd the/at young/jj men/nns who/wps had/hvd been/ben silent/jj long/rb enough/qlp ./.\\nBut/cc they/ppss could/md taste/vb the/at appeasement/nn of/in violence/nn and/cc retribution/nn through/in his/pp$ antics/nns ./.\\nNow/rb they/ppss moved/vbd ,/, rubbing/vbg their/pp$ flesh/nn alive/jj again/rb ,/, disdaining/vbg the/at gloom/nn they/ppss saw/vbd in/in the/at faces/nns around/in them/ppo ./.\\n\\n\\n\\tThey/ppss came/vbd out/rp and/cc held/vbd their/pp$ games/nns and/cc races/nns ./.\\nIt/pps was/bedz they/ppss who/wps held/vbd the/at future/nn in/in their/pp$ hands/nns ./.\\nThey/ppss went/vbd into/in the/at sun/nn together/rb and/cc paraded/vbd grandly/rb in/in their/pp$ war/nn clothes/nns ,/, painting/vbg their/pp$ faces/nns with/in the/at sacred/jj attis/fw-nn dug/vbn far/rb off/rp in/in the/at cave/nn of/in skeletons/nns ./.\\nThey/ppss danced/vbd the/at paxam/fw-nn wildly/rb at/in night/nn ,/, the/at war/nn dance/nn ,/, and/cc dipped/vbd their/pp$ arrowheads/nns in/in the/at venom/nn of/in rattlesnakes/nns and/cc rode/vbd their/pp$ horses/nns in/in swift/jj maneuvers/nns ,/, firing/vbg their/pp$ few/ap guns/nns in/in unison/nn at/in some/dti indeterminate/jj signal/nn ./.\\n\\n\\n\\tWalitzee/np was/bedz among/in them/ppo ,/, and/cc Sarpsis/np ,/, and/cc they/ppss wore/vbd red/jj blankets/nns which/wdt flew/vbd like/cs broad/jj wings/nns in/in the/at air/nn of/in their/pp$ passing/nn ./.\\nAnd/cc a/at very/ql young/jj one/pn ,/, Swan/nn-tl Necklace/nn-tl ,/, tried/vbd to/to emulate/vb them/ppo and/cc followed/vbd timidly/rb ./.\\nYellow/jj-tl Wolf/nn-tl was/bedz there/rb ,/, nephew/nn of/in the/at young/jj chief/nn by/in an/at older/jjr brother/nn long/rb dead/jj ,/, in/in whom/wpo also/rb the/at disordered/vbn chemistries/nns of/in youth/nn worked/vbd ./.\\nHe/pps would/md spring/vb bolt/nn upright/rb suddenly/rb after/cs sitting/vbg quietly/rb with/in inaction/nn ,/, because/cs something/pn had/hvd boiled/vbn over/rp in/in his/pp$ fermenting/vbg juices/nns ./.\\n\\n\\n\\tAll/ql the/at young/jj men/nns ,/, Alokut/np among/in them/ppo ,/, challenged/vbd them/ppo in/in matched/vbn racing/nn ./.\\nThey/ppss raced/vbd and/cc maneuvered/vbd for/in war/nn ,/, swinging/vbg their/pp$ horses/nns in/in single/ap file/nn and/cc then/rb abreast/rb like/cs cavalry/nn ./.\\nAt/in times/nns they/ppss would/md ride/vb frenziedly/rb through/in the/at camp/nn ,/, letting/vbg the/at women/nns see/vb their/pp$ courage/nn ,/, how/wrb handsome/jj they/ppss were/bed in/in their/pp$ regalia/nns ./.\\nThen/rb again/rb they/ppss would/md stand/vb in/in circles/nns making/vbg other/ap preparations/nns ./.\\nThey/ppss combed/vbd their/pp$ hair/nn and/cc streaked/vbd it/ppo at/in the/at part/nn and/cc greased/vbd the/at bangs/nns so/cs that/cs the/at hair/nn above/in their/pp$ foreheads/nns stood/vbd rigid/jj like/cs the/at tails/nns of/in sage/nn hens/nns making/vbg love/nn ./.\\n\\n\\n\\tWalitzee/np whitened/vbd his/pp$ leggings/nns with/in clay/nn ,/, knowing/vbg the/at girl/nn watched/vbd from/in her/pp$ place/nn in/in the/at trees/nns ./.\\nHe/pps saw/vbd himself/ppl in/in a/at superior/jj reflection/nn ,/, and/cc he/pps was/bedz as/cs a/at speeding/vbg arrow/nn from/in the/at taut/jj bow/nn ,/, hurtling/vbg with/in a/at mad/jj grace/nn ,/, his/pp$ maleness/nn shining/vbg and/cc scented/vbn with/in meadow/nn rue/nn ./.\\nHe/pps was/bedz always/rb aware/jj of/in the/at women's/nns$ eyes/nns which/wdt followed/vbd him/ppo ,/, admiring/vbg him/ppo ./.\\nAnd/cc the/at suspicious/jj ,/, envenomed/vbn eyes/nns of/in Pile/nn-tl of/in-tl Clouds/nns-tl ./.\\nAnd/cc those/dts of/in Early/jj-tl Spring/nn-tl ,/, haunted/vbn and/cc now/rb full/jj of/in hurt/nn and/cc envy/nn ./.\\nHe/pps felt/vbd so/ql much/rb like/cs laughing/vbg ;/. ;/.\\neven/rb like/cs shouting/vbg and/cc crying/vbg out/rp from/in the/at hilltops/nns from/in which/wdt he/pps could/md descend/vb as/cs an/at eagle/nn in/in a/at mad/jj caper/nn from/in the/at cliffs/nns ./.\\n\\n\\n\\tHe/pps and/cc Sarpsis/np planned/vbd a/at great/jj parade/nn with/in the/at young/jj men/nns ./.\\nThey/ppss would/md give/vb one/cd final/jj testimony/nn of/in their/pp$ challenge/nn to/to let/vb the/at people/nns see/vb their/pp$ arrogance/nn ./.\\nThey/ppss would/md ride/vb with/in streaming/vbg amulets/nns ,/, their/pp$ colors/nns ripening/vbg in/in the/at sun/nn ,/, shouting/vbg the/at last/ap bellicosity/nn of/in a/at nation/nn in/in the/at throes/nns of/in death/nn ./.\\n\\n\\n\\tAnd/cc so/cs the/at sun/nn came/vbd up/rp again/rb and/cc for/in a/at moment/nn its/pp$ color/nn was/bedz the/at young/jj men's/nns$ blood/nn ,/, shifting/vbg then/rb into/in the/at full/jj heat/nn and/cc outcry/nn which/wdt ran/vbd with/in their/pp$ hearts/nns ./.\\nThey/ppss mounted/vbd their/pp$ horses/nns and/cc rode/vbd off/rp into/in the/at hills/nns ./.\\n\\n\\n\\nThe/at ,/, \\nyoung/jj chief/nn stared/vbd at/in the/at wall/nn of/in his/pp$ lodge/nn ,/, ,/, listening/vbg ./.\\nThe/at sound/nn rose/vbd on/in the/at other/ap side/nn of/in the/at hills/nns ,/, vanished/vbd and/cc rose/vbd again/rb and/cc he/pps could/md imagine/vb the/at mad/jj ,/, disheveled/vbn hoofs/nns of/in the/at Appaloosas/nps ,/, horses/nns the/at white/jj men/nns once/rb had/hvd called/vbn the/at Dogs/nns-tl of/in-tl Hell/nn-tl ./.\\nHe/pps saw/vbd them/ppo in/in fleet/jj images/nns as/cs they/ppss came/vbd rolling/vbg and/cc now/rb burst/vbd across/in the/at ridge/nn ./.\\nStanding/vbg then/rb with/in the/at others/nns ,/, peering/vbg into/in the/at sun/nn ,/, he/pps saw/vbd the/at bright/jj ,/, multicolored/jj legion/nn ,/, their/pp$ hair/nn flying/vbg like/cs dark/jj banners/nns ,/, only/rb the/at thunder/nn ,/, the/at roll/nn of/in drums/nns ,/, the/at mad/jj cacophony/nn of/in the/at hoofs/nns accompanying/vbg them/ppo ./.\\nThey/ppss leaned/vbd into/in the/at wind/nn and/cc seemed/vbd like/cs one/cd thousand-legged/jj monster/nn hurtling/vbg and/cc plunging/vbg until/cs suddenly/rb they/ppss rose/vbd straight/rb in/in their/pp$ saddles/nns and/cc in/in one/cd terrifying/vbg voice/nn shouted/vbd ,/, ejaculated/vbd their/pp$ grotesque/jj cry/nn of/in war/nn ./.\\n\\n\\n\\n\\tShe/pps was/bedz moving/vbg through/in a/at screen/nn of/in hemlocks/nns ,/, in/rp among/in the/at white/jj birch/nn and/cc maples/nns ./.\\nThe/at sounds/nns from/in the/at quarry/nn began/vbd to/to pulse/vb in/in her/pp$ ears/nns ./.\\nShe/pps stood/vbd ,/, once/rb more/rbr listening/vbg ./.\\nShe/pps had/hvd never/rb been/ben here/rb at/in this/dt hour/nn ./.\\nShe/pps felt/vbd as/cs if/cs some/dti dark/jj ,/, totally/rb unfamiliar/jj shape/nn would/md clutch/vb at/in her/pp$ arm/nn ;/. ;/.\\nbut/cc she/pps found/vbd the/at path/nn she/pps always/rb used/vbd ,/, the/at stubs/nns of/in branches/nns she/pps had/hvd broken/vbn ,/, those/dts she/pps had/hvd pushed/vbn aside/rb ;/. ;/.\\nand/cc she/pps walked/vbd easily/rb now/rb ,/, and/cc more/ql slowly/rb ,/, until/cs she/pps could/md see/vb the/at dark/jj glisten/nn of/in water/nn beneath/in her/ppo ./.\\n\\n\\n\\tIf/cs I/ppss ever/rb committed/vbd suicide/nn ,/, she/pps thought/vbd ,/, I/ppss would/md dive/vb straight/rb down/rp from/in here/rb --/-- and/cc no/at one/pn would/md find/vb me/ppo for/in days/nns ./.\\nShe/pps smiled/vbd ,/, and/cc expertly/rb let/vbd herself/ppl downward/rb ,/, holding/vbg this/dt known/vbn root/nn or/cc that/dt ,/, her/pp$ sneakers/nns sliding/vbg in/in the/at leaves/nns ./.\\n\\n\\n\\tShe/pps jumped/vbd out/rp onto/in the/at flat/jj expanse/nn of/in rock/nn and/cc ,/, seating/vbg herself/ppl ,/, shook/vbd her/ppo short-cut/jj brown/jj hair/nn and/cc tilted/vbd her/pp$ chin/nn far/ql upward/rb ./.\\nThe/at reedy/jj music/nn of/in the/at frogs/nns had/hvd faded/vbn ,/, but/cc presently/rb it/pps began/vbd again/rb ,/, growing/vbg in/in volume/nn until/cs it/pps was/bedz vibrant/jj ./.\\nJulia/np felt/vbd at/in peace/nn and/cc drew/vbd her/ppo legs/nns up/rp and/cc clasped/vbd her/pp$ hands/nns tightly/rb around/in the/at bent/vbn knees/nns ./.\\nShe/pps had/hvd accomplished/vbn a/at miracle/nn ./.\\nThis/dt was/bedz her/pp$ place/nn ./.\\nThe/at hour/nn couldn't/md* change/vb it/ppo ./.\\nOnly/rb --/-- only/rb --/-- her/pp$ thoughts/nns were/bed a/at little/ql strange/jj ./.\\nThey/ppss were/bed becoming/vbg confused/vbn ./.\\nPerhaps/rb it/pps was/bedz because/cs it/pps was/bedz so/ql late/jj ,/, and/cc because/cs she/pps had/hvd no/at business/nn to/to be/be here/rb now/rb ./.\\n\\n\\n\\tShe/pps was/bedz thinking/vbg of/in Paul/np a/at few/ap weeks/nns ago/rb ,/, in/in the/at Easter/np holidays/nns ,/, with/in her/ppo at/in one/cd of/in those/dts awful/jj Friday/nr-tl Evening/nn-tl Dancing/vbg-tl Class/nn-tl parties/nns her/pp$ mother/nn had/hvd made/vbn her/pp$ attend/vb ./.\\n``/`` Hello/uh ,/, Julie/np ,/, how/wrb are/ber you/ppo ''/'' ?/. ?/.\\nAnd/cc then/rb off/rp he/pps went/vbd so/ql casually/rb ,/, to/in someone/pn else/rb with/in breasts/nns better/vb developed/vbn ,/, more/ql obvious/jj in/in a/at lower-cut/jjr dress/nn ,/, someone/pn without/in a/at mouthful/nn of/in wire/nn bands/nns and/cc an/at inability/nn to/to find/vb words/nns that/wps would/md hold/vb him/ppo ./.\\nI/ppss wish/vb he/pps was/bedz with/in me/ppo now/rb ,/, she/pps thought/vbd ,/, and/cc that/cs we/ppss were/bed both/abx the/at ages/nns we/ppss are/ber and/cc doing/vbg what/wdt was/bedz once/rb only/rb pretense/nn and/cc acute/jj embarrassment/nn ./.\\nOh/uh God/np !/. !/.\\nI/ppss wish/vb I/ppss were/bed older/jjr or/cc younger/jjr ,/, Julia/np Bentley/np thought/vbd ./.\\nI/ppss wish/vb so/ql much/rb someone/pn loved/vbd me/ppo ./.\\n\\n\\n\\n\\nGeorge/np Rawlings/np remembered/vbd seeing/vbg the/at door/nn open/jj sometime/rb during/in the/at night/nn --/-- Millie/np ,/, in/in a/at white/jj robe/nn ,/, standing/vbg like/cs a/at ghost/nn at/in the/at threshold/nn ./.\\nShe/pps had/hvd vanished/vbn ;/. ;/.\\nhe/pps must/md have/hv slept/vbn again/rb ./.\\nHe/pps was/bedz staring/vbg at/in the/at blue/jj china/nn lamp/nn left/vbn on/rp beside/in him/ppo ./.\\nIt/pps seemed/vbd too/ql much/ap trouble/nn even/rb to/to reach/vb for/in the/at switch/nn ;/. ;/.\\nbut/cc of/in course/nn the/at impossible/jj effort/nn of/in leaving/vbg would/md have/hv to/to be/be made/vbn on/in this/dt Monday/nr morning/nn ./.\\nThis/dt room/nn was/bedz like/cs a/at prison/nn ./.\\nHe/pps would/md not/* be/be indebted/jj to/in Sam/np !/. !/.\\nBelow/in him/ppo ,/, as/cs if/cs at/in the/at end/nn of/in some/dti remote/jj tunnel/nn ,/, he/pps heard/vbd the/at humming/nn of/in a/at vacuum/nn cleaner/nn ./.\\nHis/pp$ fingers/nns fumbled/vbd across/in the/at bandages/nns ./.\\nThey/ppss had/hvd left/vbn both/abx of/in his/pp$ eyes/nns uncovered/vbn ./.\\nWell/uh ,/, he/pps told/vbd himself/ppl ,/, let's/vb+ppo put/vb the/at show/nn on/in the/at road/nn ./.\\n\\n\\n\\tHe/pps was/bedz walking/vbg across/in to/in the/at bathroom/nn ./.\\nHe/pps drank/vbd a/at glass/nn of/in water/nn and/cc gripped/vbd the/at sink/nn with/in both/abx hands/nns ./.\\nA/at fearful/jj pain/nn had/hvd come/vbn from/in his/pp$ head/nn ,/, as/cs if/cs the/at water/nn were/bed coursing/vbg up/rp through/in the/at blood/nn vessels/nns and/cc expanding/vbg them/ppo ./.\\nHe/pps recognized/vbd his/pp$ jacket/nn and/cc trousers/nns ./.\\nThe/at fabric/nn was/bedz dark/jj ;/. ;/.\\nthe/at stains/nns weren't/bed* too/ql apparent/jj ;/. ;/.\\nand/cc there/ex were/bed his/pp$ shoes/nns ,/, thank/vb God/np ,/, but/cc his/pp$ shirt/nn was/bedz one/cd terrible/jj mess/nn ./.\\n\\n\\n\\tHe/pps shivered/vbd ,/, and/cc then/rb tore/vbd away/rb the/at blood-soaked/jj parts/nns and/cc wound/vbd the/at rest/nn around/in his/pp$ neck/nn like/cs a/at scarf/nn ./.\\nSam/np would/md be/be amazed/vbn to/to find/vb him/ppo gone/vbn ./.\\nMillie/np would/md have/hv to/to understand/vb ./.\\nShe/pps must/md have/hv put/vbn his/pp$ clothes/nns in/in the/at closet/nn ./.\\nHe/pps found/vbd a/at lump/nn rising/vbg in/in his/pp$ throat/nn because/rb of/in that/dt one/cd simple/jj act/nn of/in tidiness/nn ./.\\nHe/pps was/bedz on/in the/at verge/nn of/in tears/nns ./.\\nAlex/np Poldowski/np --/-- in/in a/at fashion/nn he/pps owed/vbd a/at debt/nn to/in that/dt effete/jj gentleman/nn ./.\\nAt/in least/ap Alex/np had/hvd told/vbn him/ppo he/pps wasn't/bedz* dying/vbg ./.\\nPerhaps/rb George/np Rawlings/np would/md be/be better/rbr off/rp dead/jj ./.\\n\\n\\n\\tWhat/wdt time/nn was/bedz it/pps ?/. ?/.\\nHe/pps peered/vbd at/in his/pp$ wristwatch/nn ./.\\nStrange/jj ,/, it/pps was/bedz still/rb running/vbg ./.\\nA/at quarter/nn to/in seven/cd ./.\\nToo/ql early/rb for/in a/at vacuum/nn cleaner/nn ,/, but/cc probably/rb Sam/np wanted/vbd the/at whole/jj house/nn in/in order/nn before/cs he/pps came/vbd downstairs/rb ./.\\nHe/pps was/bedz kneeling/vbg to/to tie/vb his/pp$ shoelaces/nns ./.\\nHis/pp$ fingers/nns felt/vbd absurdly/rb thick/jj and/cc clumsy/jj ./.\\nHe/pps rose/vbd slowly/rb and/cc looked/vbd into/in the/at mirror/nn on/in the/at inside/nn of/in the/at closet/nn door/nn ./.\\nHe/pps barely/rb knew/vbd himself/ppl ./.\\nThis/dt was/bedz some/dti freak/nn ,/, two/cd strands/nns of/in adhesive/jj tape/nn across/in his/pp$ nose/nn ,/, like/cs ugly/jj roots/nns from/in the/at mass/nn of/in gauze/nn ,/, suddenly/rb moist/jj over/in his/pp$ cheekbones/nns ./.\\nThe/at surface/nn ,/, however/wrb ,/, was/bedz perfectly/ql white/jj ./.\\n\\n\\n\\tHe/pps was/bedz drinking/vbg another/dt glass/nn of/in water/nn ./.\\nIt/pps was/bedz after/in seven/cd o'clock/rb ./.\\nHe/pps was/bedz supposed/vbn to/to be/be in/in court/nn this/dt afternoon/nn ,/, at/in City/nn-tl Hall/nn-tl ./.\\nWho/wps would/md take/vb over/rp ?/. ?/.\\nHe'd/pps+md have/hv to/to think/vb ,/, but/cc the/at main/jjs thing/nn ,/, the/at imperative/jj necessity/nn ,/, was/bedz to/to leave/vb before/cs Sam/np Bentley/np was/bedz up/rp and/cc about/rb ,/, and/cc before/cs Millie/np detained/vbd him/ppo with/in sympathy/nn ./.\\n\\n\\n\\tHe/pps entered/vbd the/at hallway/nn ./.\\nHe/pps was/bedz actually/rb walking/vbg down/in the/at stairs/nns ./.\\nA/at plane/nn up/rp in/in the/at sky/nn ,/, above/in the/at clouds/nns ,/, and/cc this/dt freakish/jj wreck/nn of/in a/at man/nn desperately/rb trying/vbg to/to get/vb away/rb ./.\\n\\n\\n\\t``/`` Father/nn ,/, is/bez that/dt you/ppss ''/'' ?/. ?/.\\nThe/at voice/nn issued/vbd from/in the/at cavern/nn of/in the/at hall/nn below/rb ./.\\nGeorge/np did/dod not/* reply/vb ./.\\n``/`` Is/bez that/dt you/ppss ,/, Father/nn ?/. ?/.\\nWho's/wps+bez there/rb ''/'' ?/. ?/.\\n\\n\\n\\tFor/in a/at moment/nn he/pps felt/vbd like/in a/at thief/nn discovered/vbn ./.\\nThen/rb Julia/np appeared/vbd under/in the/at arch/nn leading/vbg to/in the/at dining/vbg room/nn ./.\\nShe/pps stood/vbd gazing/vbg at/in him/ppo ./.\\n\\n\\n\\t``/`` Uncle/nn-tl George/np ''/'' !/. !/.\\n\\n\\n\\tHe/pps was/bedz trying/vbg to/to smile/vb at/in her/ppo ./.\\n\\n\\n\\t``/`` Gosh/uh !/. !/.\\nYou/ppss shouldn't/md* be/be up/rp ,/, should/md you/ppss ''/'' ?/. ?/.\\n\\n\\n\\t``/`` I/ppss --/-- I/ppss was/bedz just/rb leaving/vbg here/rb ,/, Julie/np ./.\\nI'm/ppss+bem all/ql set/vbn ./.\\nJust/rb about/rb to/to call/vb a/at taxi/nn ''/'' ./.\\n\\n\\n\\tShe/pps was/bedz wearing/vbg some/dti sort/nn of/in gray/jj blazer/nn ./.\\nShe/pps seemed/vbd overly/ql tall/jj ,/, her/pp$ brow/nn knitted/vbn in/in concern/nn ./.\\n``/`` Well/uh ,/, at/in least/ap you/ppss won't/md* have/hv to/to do/do that/dt ''/'' ,/, she/pps was/bedz saying/vbg ./.\\n``/`` I'm/ppss+bem about/rb to/to leave/vb myself/ppl ./.\\nI'll/ppss+md drop/vb you/ppo off/rp ''/'' ./.\\n\\n\\n\\t``/`` You're/ppss+ber leaving/vbg ''/'' ?/. ?/.\\n\\n\\n\\t``/`` I'm/ppss+bem going/vbg back/rb to/in school/nn ''/'' ,/, she/pps answered/vbd ./.\\n``/`` Pietro's/np+bez driving/vbg me/ppo ./.\\nI'm/ppss+bem just/rb finishing/vbg breakfast/nn ./.\\nBut/cc have/hv you/ppss told/vbn Mother/nn-tl you/ppss were/bed going/vbg ''/'' ?/. ?/.\\nShe/pps asked/vbd him/ppo ./.\\n\\n\\n\\t``/`` No/rb ./.\\nI/ppss just/rb don't/do* want/vb anyone/pn disturbed/vbn ,/, Julie/np ./.\\nThat's/dt+bez my/pp$ wish/nn ./.\\nIt's/pps+bez quite/abl a/at big/jj one/pn ''/'' ,/, he/pps added/vbd ./.\\n\\n\\n\\tHer/pp$ face/nn seemed/vbd to/to float/vb in/in an/at implausibly/rb bright/jj shaft/nn of/in sunlight/nn ./.\\n``/`` Well/uh ,/, won't/md* you/ppss come/vb in/rp then/rb ,/, have/hv a/at cup/nn of/in coffee/nn --/-- or/cc something/pn ?/. ?/.\\nOr/cc maybe/rb a/at drink/nn ''/'' ?/. ?/.\\nShe/pps asked/vbd ,/, in/in a/at way/nn that/wps seemed/vbd oddly/rb sophisticated/jj ,/, considerate/jj ,/, and/cc yet/rb perhaps/rb partly/ql scornful/jj ./.\\nHe/pps tried/vbd to/to see/vb her/pp$ face/nn more/ql clearly/rb ./.\\n\\n\\n\\t``/`` No/rb --/-- nothing/pn at/in all/abn ''/'' ,/, he/pps said/vbd after/in a/at moment's/nn$ hesitation/nn ./.\\n``/`` I'll/ppss+md just/rb wait/vb for/in you/ppo here/rb ''/'' ./.\\n\\n\\n\\tHe/pps leaned/vbd his/pp$ head/nn against/in the/at wood/nn paneling/nn behind/in him/ppo ,/, but/cc the/at vivid/jj red/jj images/nns of/in pain/nn inserted/vbd themselves/ppls against/in his/pp$ eyelids/nns ./.\\nHe/pps raised/vbd them/ppo ./.\\nJulia/np moved/vbd past/rb ./.\\n\\n\\n\\t``/`` I/ppss have/hv to/to say/vb good-bye/uh upstairs/rb ./.\\nI/ppss won't/md* be/be long/rb ''/'' ./.\\n\\n\\n\\t``/`` As/in a/at great/jj favor/nn ,/, Julie/np ''/'' ,/, he/pps said/vbd ,/, ``/`` please/vb don't/do* mention/vb you've/ppss+hv seen/vbn me/ppo ''/'' ./.\\n\\n\\n\\t``/`` Not/* to/in anyone/pn ''/'' ?/. ?/.\\n\\n\\n\\t``/`` No/rb --/-- please/uh ./.\\n``/`` I'll/ppss+md call/vb your/pp$ mother/nn as/ql soon/rb as/cs I/ppss get/vb home/nr ./.\\nIt'll/pps+md be/be so/ql much/ql easier/jjr ''/'' ./.\\n\\n\\n\\t``/`` All/ql right/rb ''/'' She/pps was/bedz staring/vbg at/in him/ppo ./.\\n\\n\\n\\t``/`` I'm/ppss+bem fine/jj ,/, Julie/np ./.\\nPlease/uh ,/, you/ppss just/rb go/vb ahead/rb ''/'' ./.\\n\\n\\n\\tShe/pps had/hvd disappeared/vbn ./.\\nHe/pps could/md feel/vb a/at pulse/nn pounding/vbg against/in the/at bandages/nns ./.\\nHe/pps imagined/vbd Sam's/np$ voice/nn :/: ``/`` George/np ,/, what/wdt the/at hell/nn goes/vbz on/rp ''/'' ?/. ?/.\\nI/ppss wouldn't/md* have/hv the/at strength/nn to/to answer/vb ,/, he/pps thought/vbd ./.\\nMaybe/rb I/ppss couldn't/md* have/hv called/vbn a/at taxi/nn ./.\\n\\n\\n\\tHe/pps could/md hear/vb the/at footsteps/nns overhead/rb ./.\\nHe/pps saw/vbd the/at suitcase/nn ,/, which/wdt Julia/np was/bedz holding/vbg ./.\\nHe/pps stood/vbd up/rp ./.\\n\\n\\n\\t``/`` I'll/ppss+md take/vb that/dt ,/, Julie/np --/-- for/in you/ppo ''/'' ./.\\n\\n\\n\\t``/`` Oh/uh no/rb ''/'' ,/, she/pps said/vbd ./.\\n``/`` I/ppss can/md manage/vb ''/'' ./.\\n\\n\\n\\tShe/pps went/vbd ahead/rb of/in him/ppo ./.\\nOutside/rb the/at Lincoln/np was/bedz parked/vbn ./.\\nHe/pps could/md hardly/rb believe/vb he/pps was/bedz getting/vbg in/rp ./.\\nPietro/np was/bedz gazing/vbg at/in him/ppo in/in an/at insolent/jj ,/, disdainful/jj fashion/nn ;/. ;/.\\nbut/cc that/dt didn't/dod* matter/vb ./.\\n\\n\\n\\tWe'll/ppss+md drop/vb Mr./np Rawlings/np off/rp in/in Ardmore/np ''/'' ,/, Julia/np said/vbd ,/, and/cc for/in the/at merest/jjt second/nn George/np was/bedz reminded/vbn of/in her/pp$ father's/nn$ tone/nn with/in servants/nns ./.\\nTo/in the/at manner/nn born/vbn --/-- odd/jj to/to have/hv such/abl a/at thought/nn at/in a/at time/nn like/in this/dt ;/. ;/.\\nyet/rb her/pp$ inflection/nn seemed/vbd forced/vbn or/cc rehearsed/vbn ./.\\nHe/pps could/md not/* stop/vb to/to analyze/vb ./.\\nHe/pps had/hvd never/rb felt/vbn particularly/rb close/jj to/in her/ppo ./.\\nCarrie/np seemed/vbd more/ql affectionate/jj ,/, but/cc obviously/rb Julia/np had/hvd respected/vbn his/pp$ request/nn ./.\\nHe/pps took/vbd her/pp$ hand/nn ./.\\n\\n\\n\\t``/`` I/ppss wish/vb I/ppss didn't/dod* have/hv to/to go/vb back/rb to/in school/nn ''/'' ,/, she/pps said/vbd ,/, and/cc then/rb ,/, ``/`` I/ppss wish/vb you/ppo lived/vbn in/in New/jj-tl York/np-tl ./.\\nThat's/dt+bez in/in the/at opposite/jj direction/nn ''/'' ./.\\n\\n\\n\\t``/`` I/ppss wish/vb I/ppss did/dod ''/'' ,/, he/pps responded/vbd ./.\\n``/`` I/ppss wish/vb I/ppss wasn't/bedz* wearing/vbg this/dt ridiculous/jj costume/nn ,/, and/cc that/cs we/ppss could/md go/vb to/in a/at theater/nn together/rb ,/, or/cc a/at nice/jj restaurant/nn ,/, forget/vb we/ppss knew/vbd ''/'' He/pps stopped/vbd speaking/vbg ./.\\n\\n\\n\\t``/`` Forget/vb we/ppss ever/rb knew/vbd what/wdt ''/'' ?/. ?/.\\n\\n\\n\\t``/`` Oh/uh ,/, just/rb sort/nn of/in everything/pn in/in general/jj ''/'' ./.\\n\\n\\n\\tShe/pps said/vbd nothing/pn until/cs Pietro/np had/hvd slackened/vbn their/pp$ pace/nn ./.\\n``/`` I/ppss know/vb you/ppo feel/vb badly/rb ,/, but/cc that/dt sounds/vbz like/cs such/abl a/at queer/jj thing/nn for/in you/ppo to/to say/vb ''/'' ./.\\n\\n\\n\\t``/`` Does/doz it/pps ''/'' ?/. ?/.\\nHe/pps asked/vbd ./.\\n``/`` Yes/rb ,/, perhaps/rb ./.\\nI'm/ppss+bem supposed/vbn to/to joke/vb about/in things/nns ,/, aren't/ber* I/ppss ?/. ?/.\\nBut/cc sometimes/rb life/nn can/md be/be rather/abl a/at disappointing/jj business/nn ''/'' ./.\\n\\n\\n\\tHis/pp$ voice/nn seemed/vbd thick/jj and/cc purposeless/jj ./.\\nHe/pps relinquished/vbd her/pp$ hand/nn ./.\\nHe/pps could/md see/vb the/at stone/nn building/nn where/wrb he/pps lived/vbd ./.\\nJust/rb a/at few/ap more/ap steps/nns ./.\\nAbruptly/rb he/pps reached/vbd into/in his/pp$ pocket/nn ./.\\nYes/rb ,/, there/ex was/bedz the/at key/nn ./.\\n\\n\\n\\t``/`` Are/ber you/ppss positive/jj you'll/ppss+md be/be all/ql right/jj by/in yourself/ppl ''/'' ?/. ?/.\\nShe/pps asked/vbd him/ppo ./.\\n\\n\\n\\tFor/in a/at moment/nn he/pps smiled/vbd ./.\\n``/`` Yes/rb ,/, Julie/np dear/jj ./.\\nYou've/ppss+hv done/vbn me/ppo the/at greatest/jjt possible/jj service/nn ./.\\nBy/in myself/ppl I'll/ppss+md be/be fine/jj ''/'' ./.\\n\\n\\n\\t``/`` Take/vb care/nn of/in yourself/ppl then/rb ''/'' ./.\\n\\n\\n\\t``/`` I/ppss will/md ./.\\nYou/ppss ,/, also/rb ./.\\nDon't/do* work/vb too/ql hard/rb ''/'' ./.\\n\\n\\n\\tIt/pps was/bedz an/at automatic/jj phrase/nn ;/. ;/.\\nas/cs he/pps crossed/vbd through/in the/at courtyard/nn he/pps regretted/vbd it/ppo ./.\\nHe/pps should/md have/hv discovered/vbn a/at more/ql tender/jj farewell/nn ./.\\nSomeone/pn shouted/vbd at/in him/ppo ,/, ``/`` Well/uh !/. !/.\\nWill/md you/ppss look/vb at/in George/np Rawlings/np !/. !/.\\nWhat/wdt happened/vbd to/in you/ppo ''/'' ?/. ?/.\\n\\n\\n\\t``/`` I/ppss bumped/vbd into/in a/at door/nn handle/nn ''/'' ,/, George/np said/vbd ./.\\n\\n\\n\\tSomeone/pn laughed/vbd ./.\\nGeorge/np walked/vbd steadily/rb ahead/rb into/in his/pp$ entry/nn ./.\\nHis/pp$ bandages/nns seemed/vbd on/in fire/nn ./.\\nHe/pps had/hvd shut/vbn his/pp$ door/nn with/in the/at brass/nn number/nn screwed/vbn to/in it/ppo ./.\\nIn/in the/at kitchenette/nn the/at raw/jj whiskey/nn made/vbd him/ppo gasp/vb ./.\\nJust/rb one/cd or/cc two/cd swallows/nns ,/, he/pps told/vbd himself/ppl ,/, enough/ap to/to lessen/vb some/dti of/in the/at pain/nn ./.\\n\\n\\n\\tHe/pps was/bedz telephoning/vbg ./.\\n``/`` No/rb ,/, Millie/np ,/, I'm/ppss+bem home/nr ./.\\nNo/rb ,/, really/rb ,/, right/jj as/cs rain/nn ./.\\nTell/vb Sam/np not/* to/to worry/vb about/in the/at car/nn ./.\\nI'll/ppss+md get/vb it/ppo hauled/vbn away/rb ./.\\nNo/rb ,/, please/uh --/-- no/at visit/nn today/nr --/-- I'll/ppss+md be/be asleep/rb ./.\\nFor/in God's/np$ sake/nn ,/, don't/do* worry/vb ./.\\nThat/dt upsets/vbz me/ppo more/rbr than/in anything/pn ./.\\nYes/rb ,/, sure/rb ,/, I'll/ppss+md see/vb the/at doctor/nn --/-- this/dt evening/nn ,/, if/cs you/ppss insist/vb ./.\\n''/'' \\n\\n\\tThere/ex was/bedz one/cd more/ap call/nn to/to make/vb ./.\\n\\n\\n\\t``/`` Joan/np ,/, did/dod I/ppss wake/vb you/ppo ''/'' ?/. ?/.\\nHe/pps asked/vbd ./.\\n``/`` Yes/rb ,/, I/ppss thought/vbd you'd/ppss+md probably/rb be/be up/rp ./.\\nLook/vb ,/, sweetheart/nn ,/, some/dti fool/nn was/bedz ./.\\nHappened/vbn to/to be/be driving/vbg somewhat/ql intoxicated/vbn last/ap night/nn ./.\\nUnfortunately/rb it/pps turned/vbd out/rp to/to be/be me/ppo ,/, but/cc I/ppss wouldn't/md* quite/rb put/vb it/ppo that/dt way/nn to/in the/at boss/nn ./.\\nOh/uh hell/nn no/rb ,/, I'm/ppss+bem not/* in/in a/at hospital/nn ./.\\nI/ppss won't/md* be/be in/in town/nn for/in a/at couple/nn of/in days/nns ,/, though/rb ,/, and/cc there's/ex+bez that/dt case/nn I/ppss was/bedz supposed/vbn to/to handle/vb this/dt afternoon/nn ./.\\nToo/ql bad/jj a/at jury/nn isn't/bez* involved/vbn ./.\\nI/ppss might/md struggle/vb in/rp for/in a/at jury/nn ./.\\nI'd/ppss+md win/vb hands/nns down/rp ./.\\nBut/cc I/ppss thought/vbd maybe/rb Tony/np Elliott/np could/md pinch-hit/vb for/in me/ppo ./.\\nHe'll/pps+md understand/vb --/-- you/ppss might/md give/vb him/ppo sort/nn of/in a/at tactful/jj nudge/nn ./.\\nHe's/pps+hvz got/vbn all/abn the/at facts/nns ./.\\nI/ppss wouldn't/md* want/vb to/to ask/vb for/in a/at postponement/nn --/-- it's/pps+bez really/rb just/rb a/at routine/jj thing/nn ./.\\nWhat/wdt ?/. ?/.\\nNo/rb ,/, darling/nn I'd/ppss+md rather/rb you/ppss didn't/dod* come/vb out/rp ''/'' ./.\\nA/at smile/nn pulled/vbd at/in the/at lower/jjr strip/nn of/in adhesive/jj tape/nn ./.\\n``/`` Don't/do* even/rb send/vb flowers/nns ./.\\nI'll/ppss+md see/vb you/ppo Wednesday/nr ./.\\nI'll/ppss+md bribe/vb you/ppo with/in a/at nice/jj ''/'' --/-- He/pps was/bedz about/rb to/to say/vb ``/`` double/jj martini/nn ''/'' but/cc thought/vbd better/rbr of/in it/ppo ./.\\n``/`` I'll/ppss+md take/vb you/ppo out/rp to/in dinner/nn ./.\\nOkay/uh ?/. ?/.\\n''/'' \\n\\n\\tHe/pps had/hvd put/vbn down/rp the/at receiver/nn ./.\\nA/at strange/jj relationship/nn between/in Joan/np Fulbright/np and/cc himself/ppl ./.\\nWho/wps knew/vbd about/in it/ppo ?/. ?/.\\nShe/pps lived/vbd alone/rb in/in the/at older/jjr part/nn of/in the/at city/nn ,/, in/in one/cd of/in those/dts renovated/vbn houses/nns whose/wp$ brick/nn facade/nn some/dti early/jj settler/nn had/hvd constructed/vbn ./.\\nShe/pps had/hvd two/cd tiny/jj rooms/nns on/in the/at second/od floor/nn ./.\\nShe/pps was/bedz a/at clever/jj girl/nn ,/, a/at most/ql efficient/jj secretary/nn ./.\\nShe/pps let/vbd him/ppo come/vb and/cc go/vb as/cs he/pps pleased/vbd ,/, or/cc as/cs it/pps pleased/vbd her/ppo ./.\\nIn/in the/at office/nn you/ppss might/md have/hv thought/vbn them/ppo only/rb casual/jj friends/nns ;/. ;/.\\nyet/rb if/cs he/pps said/vbd :/: Make/vb an/at excuse/nn yourself/ppl ,/, come/vb out/rp here/rb today/nr ,/, she/pps would/md have/hv been/ben on/in the/at next/ap train/nn --/-- and/cc ,/, similarly/rb ,/, if/cs she/pps had/hvd been/ben in/in need/nn ,/, he/pps would/md have/hv gone/vbn to/in her/ppo ./.\\n\\n``/`` They/ppss make/vb us/ppo conformists/nns look/vb good/rb ''/'' ./.\\n\\n\\n\\t``/`` That's/dt+bez a/at peculiar/jj way/nn to/to think/vb ''/'' ./.\\nIt/pps wasn't/bedz* just/rb the/at obnoxious/jj birds/nns that/wps had/hvd ruffled/vbn her/pp$ own/jj feathers/nns ,/, of/in course/nn ;/. ;/.\\nshe/pps knew/vbd that/dt ./.\\nIt/pps was/bedz Jim's/np$ ``/`` little/jj ''/'' sister/nn Myra/np ,/, the/at unreliable/jj ,/, irresponsible/jj ,/, forever/rb flyaway/jj ,/, Myra/np ./.\\nShe's/pps+bez a/at year/nn older/jjr than/cs I/ppss am/bem ,/, Lucy/np told/vbd herself/ppl ./.\\n\\n\\n\\t``/`` Come/vb ,/, come/vb ''/'' ,/, Jim/np said/vbd ,/, jollying/vbg Lucy/np a/at little/ap ./.\\n``/`` I/ppss love/vb you/ppo ./.\\nSusan/np ready/jj ''/'' ?/. ?/.\\n\\n\\n\\tLucy/np listened/vbd ./.\\nObviously/rb ,/, Susan/np was/bedz not/* ./.\\nUpstairs/rb ,/, busy/jj feet/nns ,/, showering/vbg like/cs raindrops/nns ,/, pattered/vbd around/in her/pp$ room/nn ./.\\nSusan/np would/md be/be visiting/vbg her/pp$ grandmother/nn for/in only/rb a/at few/ap days/nns ,/, but/cc even/rb at/in seven/cd she/pps was/bedz a/at prudent/jj soul/nn ;/. ;/.\\nshe/pps always/rb packed/vbd for/in a/at lifetime/nn ,/, just/rb in/in case/nn ./.\\n``/`` Not/* yet/rb ./.\\nEvery/at doll/nn in/in the/at house/nn must/md be/be going/vbg with/in her/ppo ''/'' ./.\\n\\n\\n\\t``/`` She'd/pps+hvd better/rbr step/vb on/in it/ppo ./.\\nIt's/pps+bez a/at long/jj way/nn to/in Websterville/np ''/'' ./.\\nJim's/np$ fine/jj young/jj face/nn was/bedz an/at expressive/jj one/pn ,/, too/rb ;/. ;/.\\nas/cs he/pps looked/vbd at/in her/ppo ,/, it/pps registered/vbd anxiety/nn ./.\\n``/`` You/ppss know/vb ''/'' ,/, he/pps said/vbd ./.\\n``/`` Myra/np wanted/vbd me/ppo to/to thank/vb you/ppo for/in taking/vbg Cathy/np ./.\\nIt'll/pps+md be/be only/rb a/at couple/nn of/in weeks/nns before/cs she/pps finds/vbz a/at home/nr for/in them/ppo in/in Paris/np --/-- but/cc even/rb so/rb ,/, she/pps wants/vbz you/ppo to/to know/vb that/cs she's/pps+bez awfully/ql grateful/jj ''/'' ./.\\n\\n\\n\\tLucy/np did/dod not/* believe/vb him/ppo ;/. ;/.\\nMyra/np appreciated/vbd nothing/pn ./.\\nJim/np had/hvd put/vbn the/at thanks/nns in/in his/pp$ sister's/nn$ mouth/nn ./.\\n\\n\\n\\t``/`` Darling/nn ''/'' --/-- she/pps said/vbd ,/, and/cc the/at single/ap word/nn mingled/vbd love/nn and/cc exasperation/nn in/in an/at equal/jj blend/nn ./.\\n``/`` She/pps should/md have/hv told/vbn me/ppo herself/ppl ./.\\nAnd/cc will/md it/pps be/be only/rb a/at couple/nn of/in weeks/nns ?/. ?/.\\nRemember/vb what/wdt happened/vbd the/at last/ap time/nn ''/'' ?/. ?/.\\n\\n\\n\\tLeaving/vbg Cathy/np with/in them/ppo ,/, Myra/np had/hvd gone/vbn out/rp to/in the/at Coast/nn-tl for/in a/at supposedly/rb brief/jj visit/nn ;/. ;/.\\nbut/cc she/pps had/hvd stayed/vbn all/abn winter/nn ,/, and/cc Cathy/np had/hvd stayed/vbn all/abn winter/nn too/rb --/-- with/in them/ppo ./.\\nLucy/np suspected/vbd that/cs Myra/np would/md never/rb have/hv come/vbn home/nr if/cs Gregg/np ,/, Myra's/np$ husband/nn ,/, hadn't/hvd* gone/vbn out/rp to/to fetch/vb her/ppo ./.\\n``/`` That/dt was/bedz an/at awfully/ql long/jj two/cd weeks/nns ''/'' ./.\\n\\n\\n\\n\\nFor/in an/at otherwise/rb silent/jj moment/nn ,/, Jim's/np$ keys/nns jingled/vbd nervously/rb in/in his/pp$ pocket/nn ./.\\n``/`` But/cc she/pps promised/vbd --/-- This/dt will/nn be/be different/jj ''/'' ,/, he/pps said/vbd at/in last/rb ./.\\n``/`` You've/ppss+hv got/vbn to/to admit/vb she/pps was/bedz smart/jj to/to scare/vb up/rp this/dt fine/nn government/nn job/nn over/in there/rb --/-- she'll/pps+md get/vb a/at home/nr for/in herself/ppl and/cc Cathy/np in/in no/at time/nn ./.\\nYou'll/ppss+md see/vb ,/, Myra's/np+bez settling/vbg down/rp ''/'' ./.\\nOn/in the/at defensive/jj ,/, he/pps added/vbd ,/, ``/`` I/ppss wish/vb you'd/ppss+md think/vb what/wdt it/pps must/md be/be like/cs for/in her/ppo to/to be/be without/in Greg/np ,/, to/to be/be a/at new/jj widow/nn ,/, a/at young/jj widow/nn ''/'' ./.\\n\\n\\n\\t``/`` It/pps depends/vbz on/in the/at widow/nn ''/'' ./.\\nLucy/np had/hvd an/at idea/nn that/cs Myra/np loved/vbd it/ppo ./.\\nAnd/cc not/* for/in one/cd moment/nn did/dod she/pps believe/vb that/cs Myra/np had/hvd settled/vbn down/rp ./.\\nIt/pps seemed/vbd to/in Lucy/np that/cs all/abn their/pp$ married/vbn life/nn ,/, she/pps and/cc Jim/np had/hvd been/ben doing/vbg nothing/pn but/cc rescue/vb his/pp$ sister/nn from/in the/at constant/jj crises/nns that/wps were/bed her/pp$ way/nn of/in life/nn ./.\\nRemembering/vbg that/dt succession/nn of/in disasters/nns ,/, she/pps now/rb considered/vbd Cathy/np ,/, an/at ominous/jj child-cloud/nn on/in her/pp$ horizon/nn ./.\\n\\n\\n\\tIt/pps was/bedz not/* that/cs she/pps disliked/vbd Cathy/np ./.\\nThe/at youngster/nn drew/vbd her/ppo ,/, troubled/vbd her/pp$ depths/nns ;/. ;/.\\nwhenever/wrb Lucy/np saw/vbd her/ppo ,/, she/pps tried/vbd ,/, without/in noise/nn or/cc fuss/nn ,/, to/to give/vb her/ppo the/at warmth/nn she/pps had/hvd never/rb had/hvn from/in Myra/np ./.\\nBut/cc Cathy/np was/bedz Myra's/np$ responsibility/nn ,/, not/* hers/pp$$ ./.\\n\\n\\n\\t``/`` I/ppss wouldn't/md* even/rb be/be surprised/vbn ''/'' ,/, she/pps said/vbd unhappily/rb ,/, ``/`` if/cs Myra/np tried/vbd to/to leave/vb her/ppo with/in us/ppo forever/rb ''/'' ./.\\nMyra/np loved/vbd big/jj cities/nns ;/. ;/.\\nthousands/nns of/in miles/nns away/rb --/-- in/in Paris/np ,/, of/in all/abn places/nns --/-- she/pps might/md forget/vb she/pps had/hvd ever/rb been/ben a/at mother/nn ./.\\nLucy/np knew/vbd her/ppo too/ql well/rb to/to find/vb it/ppo impossible/jj ./.\\n\\n\\n\\t``/`` That's/dt+bez a/at horrible/jj thing/nn to/to accuse/vb her/ppo of/in ''/'' !/. !/.\\nJim/np was/bedz so/ql indignant/jj it/pps was/bedz obvious/jj that/cs no/at matter/nn what/wdt he/pps said/vbd ,/, he/pps too/rb had/hvd seen/vbn the/at looming/vbg specter/nn of/in a/at forever-Cathy/np ./.\\nHe/pps went/vbd to/in the/at foot/nn of/in the/at stairs/nns and/cc shouted/vbd up/rp ,/, fiercely/rb ,/, ``/`` Susan/np !/. !/.\\nSusan/np !/. !/.\\nGet/vb moving/vbg ''/'' !/. !/.\\n\\n\\n\\tA/at startled/vbn piping/vbg sound/nn returned/vbd ./.\\n\\n\\n\\t``/`` Don't/do* yell/vb at/in Susan/np ''/'' ,/, Lucy/np said/vbd ./.\\nWas/bedz it/pps only/rb a/at few/ap nights/nns ago/rb that/cs they/ppss had/hvd been/ben standing/vbg together/rb in/in front/nn of/in the/at house/nn looking/vbg at/in the/at moon-washed/jj river/nn ?/. ?/.\\nTheir/pp$ arms/nns around/in each/dt other/ap ,/, they/ppss had/hvd been/ben talking/vbg of/in the/at present/nn and/cc the/at future/nn ;/. ;/.\\ntheir/pp$ talk/nn and/cc their/pp$ feeling/nn had/hvd been/ben as/cs deep/jj and/cc warm/jj ,/, as/cs steeped/vbn in/in light/nn ,/, as/cs the/at air/nn around/in them/ppo ./.\\nThen/rb ,/, from/in within/in the/at still/jj ,/, sleeping/vbg house/nn ,/, the/at telephone/nn had/hvd rung/vbn ;/. ;/.\\nMyra/np ,/, with/in her/pp$ news/nn ,/, was/bedz on/in the/at other/ap end/nn of/in the/at line/nn ./.\\n\\n\\n\\tJim/np turned/vbd back/rb from/in the/at stairway/nn and/cc looked/vbd at/in her/ppo ./.\\nHis/pp$ dark/jj brows/nns ,/, which/wdt had/hvd been/ben lowered/vbn in/in anger/nn ,/, smoothed/vbd ./.\\n``/`` Please/uh ''/'' ,/, he/pps said/vbd ./.\\n``/`` There/ex isn't/bez* a/at chance/nn of/in Myra's/np$ letting/vbg anything/pn like/cs that/dt happen/vb ./.\\nLet's/vb+ppo stay/vb friends/nns ''/'' ./.\\n\\n\\n\\tBut/cc they/ppss weren't/bed* just/rb friends/nns ,/, Lucy/np thought/vbd ;/. ;/.\\nthey/ppss were/bed husband/nn and/cc wife/nn ,/, and/cc Myra/np had/hvd no/at right/nn muddling/vbg and/cc chilling/vbg their/pp$ marriage/nn ./.\\nThe/at only/jj thing/nn that/wps had/hvd ever/rb come/vbn between/in them/ppo was/bedz that/ql worthless/jj ,/, selfish/jj sister/nn of/in his/pp$$ ./.\\nLucy/np was/bedz sick/jj of/in it/ppo ./.\\n\\n\\n\\t``/`` Well/uh ,/, at/in last/ap ''/'' ,/, she/pps said/vbd ,/, because/cs Susan/np was/bedz clattering/vbg down/in the/at stairs/nns ./.\\n\\n\\n\\n\\nSusan/np looked/vbd like/cs an/at overwhelmed/vbn baby/nn nurse/nn ;/. ;/.\\nher/pp$ arms/nns were/bed straining/vbg with/in a/at burden/nn of/in dolls/nns ./.\\n``/`` I'm/ppss+bem ready/jj ''/'' ,/, she/pps announced/vbd ./.\\n\\n\\n\\t``/`` Do/do you/ppss need/md that/dt big/jj bundle/nn ''/'' ?/. ?/.\\nJim/np said/vbd ./.\\nHis/pp$ voice/nn had/hvd sharp/jj edges/nns ,/, as/cs though/cs he/pps knew/vbd very/ql well/rb Lucy/np and/cc he/pps were/bed not/* friends/nns at/in the/at moment/nn ./.\\n``/`` All/abn that/dt junk/nn ''/'' ?/. ?/.\\n\\n\\n\\tSusan/np stared/vbd at/in him/ppo with/in hurt/vbn blue/jj eyes/nns that/wps gushed/vbd an/at instant/jj grief/nn ;/. ;/.\\nto/in her/ppo ,/, each/dt of/in her/pp$ dolls/nns was/bedz a/at real/jj person/nn with/in a/at living/vbg heart/nn ./.\\n\\n\\n\\t``/`` Now/rb ,/, now/rb ''/'' ,/, Lucy/np said/vbd ,/, approaching/vbg Susan/np with/in a/at handkerchief/nn ,/, mopping/vbg skillfully/rb ./.\\n``/`` Your/pp$ father/nn didn't/dod* mean/vb it/ppo ,/, Susan/np ''/'' ./.\\nShe/pps gave/vbd Jim/np a/at quick/jj ,/, shape-up/jj look/nn of/in warning/vbg ./.\\n``/`` She'll/pps+md take/vb every/at one/pn of/in them/ppo ''/'' ./.\\n\\n\\n\\tJim/np groaned/vbd ,/, but/cc he/pps lifted/vbd Susan's/np$ suitcase/nn and/cc said/vbd ,/, in/in a/at gentler/jjr tone/nn ,/, ``/`` Sure/rb --/-- the/at entire/jj thousand/cd ./.\\nAnd/cc when/wrb you/ppss get/vb back/rb from/in Grandma's/nn$-tl ,/, Cathy/np will/md be/be here/rb to/to play/vb with/in you/ppo ./.\\nNice/jj ''/'' ?/. ?/.\\n\\n\\n\\t``/`` No/rb ''/'' ,/, Susan/np said/vbd ,/, grappling/vbg with/in her/ppo outsized/jj armload/nn of/in dolls/nns with/in a/at Scrooge-like/jj effect/nn ./.\\n\\n\\n\\tAnd/cc at/in this/dt point/nn ,/, Lucy/np thought/vbd ,/, there/ex should/md be/be a/at lecture/nn on/in little/jj cousins'/nns$ sharing/vbg dolls/nns --/-- but/cc she/pps could/md sympathize/vb with/in Susan/np ;/. ;/.\\nthere/ex ought/md to/to be/be a/at limit/nn to/in sharing/vbg ,/, too/rb ./.\\n\\n\\n\\tThat/dt was/bedz one/cd more/ap reason/nn she/pps didn't/dod* look/vb forward/rb to/in Cathy's/np$ visit/nn ,/, short/jj or/cc long/jj ;/. ;/.\\nthe/at last/ap one/pn had/hvd been/ben a/at Lilliputian/jj war/nn ./.\\nShe/pps suspected/vbd that/cs Cathy/np had/hvd been/ben competing/vbg with/in Susan/np for/in attention/nn that/cs she/pps had/hvd never/rb had/hvn ./.\\n\\n\\n\\t``/`` Well/uh ''/'' ,/, Jim/np said/vbd ,/, out/in of/in the/at silence/nn ,/, ``/`` let's/vb+ppo get/vb going/vbg ,/, dolls/nns and/cc all/abn ''/'' ./.\\n\\n\\n\\tWhen/wrb the/at car/nn ,/, with/in Susan's/np$ hands/nns waving/vbg wildly/rb from/in the/at rear/jj window/nn ,/, disappeared/vbd down/in the/at driveway/nn ,/, Lucy/np stood/vbd looking/vbg after/in its/pp$ pale/jj dust/nn ./.\\nThe/at day/nn was/bedz brilliant/jj around/in her/ppo --/-- flower-scented/jj ,/, crisp/jj with/in breeze/nn --/-- yet/rb her/pp$ inner/jj turmoil/nn darkened/vbd it/ppo ./.\\nShe/pps had/hvd let/nn Jim/np go/vb with/in a/at chilly/jj good-by/nn ,/, a/at chillier/jjr kiss/nn ./.\\nShe/pps was/bedz sorry/jj ,/, and/cc angry/jj at/in herself/ppl ,/, because/cs never/rb in/in their/pp$ life/nn together/rb had/hvd she/pps done/vbn that/dt ./.\\nShe/pps turned/vbd and/cc began/vbd to/to walk/vb toward/in the/at house/nn ./.\\n\\n\\n\\tAt/in the/at feeding/vbg station/nn ,/, the/at raffish/jj group/nn of/in cowbirds/nns again/rb bobbed/vbd and/cc gobbled/vbd over/in the/at ground/nn ,/, but/cc now/rb ,/, gorgeous/jj among/in them/ppo ,/, was/bedz a/at beautiful/jj red/jj cardinal/nn ,/, radiant/jj in/in its/pp$ feathered/vbn vestments/nns ./.\\nThe/at handsome/jj bird/nn was/bedz solitary/jj ;/. ;/.\\nits/pp$ mate/nn must/md be/be at/in home/nr ,/, silently/rb guarding/vbg their/pp$ nest/nn ./.\\nShe/pps had/hvd better/rbr stay/vb there/rb ,/, Lucy/np thought/vbd ;/. ;/.\\nthe/at sly/jj female/nn cowbirds/nns took/vbd instant/jj advantage/nn of/in nests/nns without/in sentinels/nns ./.\\n\\n\\n\\tWell/uh ,/, Lucy/np ?/. ?/.\\nShe/pps said/vbd to/in herself/ppl ,/, abandoning/vbg the/at cardinals/nns and/cc the/at cowbirds/nns ./.\\nShe/pps had/hvd a/at day/nn of/in things/nns to/to do/do ;/. ;/.\\namong/in them/ppo ,/, she/pps had/hvd to/to prepare/vb the/at guest/nn room/nn ./.\\nHow/wrb long/jj would/md it/ppo be/be occupied/vbn ?/. ?/.\\nShe/pps wondered/vbd ,/, with/in a/at baffled/vbn feeling/nn of/in helplessness/nn ./.\\nAs/ql long/jj as/cs the/at unscrupulous/jj Myra/np chose/vbd ?/. ?/.\\nFor/in a/at moment/nn ,/, her/pp$ mind/nn returned/vbd again/rb to/in the/at strange/jj ,/, flying/vbg world/nn of/in birds/nns ,/, and/cc she/pps said/vbd to/in herself/ppl ./.\\nIt/pps isn't/bez* only/rb birds/nns that/wps dump/vb their/pp$ children/nns in/in other/ap people's/nns$ nests/nns ./.\\n\\n\\n\\tIn/in the/at sunshine/nn of/in late/jj afternoon/nn ,/, Lucy/np stood/vbd looking/vbg at/in the/at ready/jj guest/nn room/nn ./.\\nThere/ex were/bed new/jj yellow/jj curtains/nns ,/, bright/jj as/cs a/at child's/nn$ life/nn ought/md to/to be/be ,/, a/at new/jj bedspread/nn ,/, lively/rb with/in hopping/vbg rabbits/nns ,/, and/cc hanging/vbg from/in the/at ceiling/nn was/bedz an/at airy/jj Mother/nn-tl Goose/nn-tl Mobile/nn-tl ,/, spinning/vbg slowly/rb in/in the/at breeze/nn ./.\\nA/at row/nn of/in little/jj hangers/nns waited/vbd for/in a/at child's/nn$ clothes/nns in/in the/at neatly/rb empty/jj closet/nn ;/. ;/.\\nsince/cs Myra/np had/hvd always/rb put/vbn most/ap of/in Greg's/np$ money/nn on/in her/pp$ own/jj back/nn ,/, Lucy/np suspected/vbd that/cs no/at more/ap than/in a/at few/ap of/in that/dt long/jj row/nn would/md be/be needed/vbn ./.\\nThe/at closet/nn was/bedz faintly/rb fragrant/jj with/in lavender/nn ,/, and/cc as/cs Lucy/np shut/vbd the/at door/nn an/at unhappy/jj memory/nn slipped/vbd into/in her/pp$ mind/nn ,/, like/cs a/at lavender/nn ghost/nn :/: Greg's/np$ house/nn ,/, on/in the/at day/nn he/pps was/bedz buried/vbn ,/, and/cc the/at child/nn ,/, pale/jj ,/, silent/jj ,/, baffled/vbn ,/, watching/vbg the/at funeral/nn guests/nns with/in panicky/jj eyes/nns ./.\\nMany/ap times/nns since/in his/pp$ death/nn that/dt memory/nn had/hvd worried/vbn and/cc troubled/vbd her/ppo ./.\\n\\n\\n\\tOut/in in/in the/at hall/nn ,/, the/at upstairs/jj phone/nn shrilled/vbd ,/, and/cc the/at small/jj ghost/nn vanished/vbd ./.\\nWhen/wrb she/pps picked/vbd up/rp the/at receiver/nn ,/, her/pp$ mother's/nn$ cheerful/jj voice/nn was/bedz there/rb ./.\\n\\n\\n\\t``/`` Websterville/np-tl Junction/nn-tl calling/vbg ''/'' ,/, she/pps said/vbd ./.\\n``/`` I/ppss just/rb thought/vbd I'd/ppss+md let/vb you/ppo know/vb ./.\\nMyra/np dropped/vbd Cathy/np this/dt morning/nn ,/, and/cc Jim/np picked/vbd Cathy/np up/rp and/cc left/vbd Susan/np a/at few/ap hours/nns ago/rb ./.\\nI'd/ppss+md have/hv phoned/vbn sooner/rbr but/cc I've/ppss+hv been/ben busy/jj ''/'' ./.\\n\\n\\n\\t``/`` I/ppss can/md imagine/vb ''/'' !/. !/.\\nSusan/np was/bedz an/at active/jj character/nn ;/. ;/.\\nfor/in Mother/nn-tl to/to be/be able/jj to/to call/vb ,/, Susan/np must/md be/be napping/vbg now/rb ,/, surrounded/vbn by/in her/pp$ multitude/nn of/in dolls/nns ./.\\nLucy/np drew/vbd out/rp the/at chair/nn and/cc sat/vbd down/rp ;/. ;/.\\nshe/pps relaxed/vbd a/at little/ap ,/, and/cc some/dti of/in the/at tension/nn went/vbd out/in of/in her/ppo ./.\\nYou/ppss could/md think/vb yourself/ppl as/ql grown/vbn up/rp as/cs Methuselah/np ,/, yet/rb the/at maternal/jj voice/nn still/rb kept/vbd its/pp$ comforting/vbg magic/nn ./.\\n``/`` How/wrb was/bedz Cathy/np ''/'' ?/. ?/.\\n\\n\\n\\t``/`` Subdued/vbn ./.\\nBut/cc Myra/np was/bedz the/at merriest/jjt widow/nn I/ppss ever/rb saw/vbd ''/'' ./.\\n\\n\\n\\tOn/in her/pp$ way/nn to/in the/at airport/nn ,/, on/in her/pp$ way/nn to/in Paris/np --/-- you/ppss bet/vb ,/, Lucy/np said/vbd to/in herself/ppl ./.\\n``/`` I've/ppss+hv been/ben fixing/vbg up/rp the/at guest/nn room/nn for/in Cathy/np ''/'' ./.\\n\\n\\n\\tThere/ex was/bedz a/at momentary/jj pause/nn ,/, and/cc then/rb her/pp$ mother/nn said/vbd ,/, ``/`` How/wrb long/jj is/bez she/pps supposed/vbd to/to stay/vb ''/'' ?/. ?/.\\n\\n\\n\\t``/`` Just/rb for/in a/at couple/nn of/in weeks/nns ,/, till/cs Myra/np finds/vbz a/at place/nn for/in them/ppo ''/'' ./.\\n\\n\\n\\t``/`` Well/uh ''/'' --/-- This/dt time/nn there/ex was/bedz a/at long/jj silence/nn ,/, while/cs the/at telephone/nn hummed/vbd faintly/rb with/in a/at voiceless/jj life/nn ./.\\n\\n\\n\\tPuzzled/vbn ,/, Lucy/np stared/vbd at/in the/at flowered/vbn wallpaper/nn ;/. ;/.\\nher/pp$ mother/nn was/bedz forthright/jj ;/. ;/.\\nshe/pps was/bedz not/* usually/rb given/vbn to/in mysterious/jj silences/nns ./.\\nWas/bedz she/pps thinking/vbg along/in the/at same/ap lines/nns Lucy/np was/bedz --/-- that/cs it/pps was/bedz quite/ql possible/jj Cathy/np might/md be/be left/vbn with/in her/ppo for/in good/jj ?/. ?/.\\n``/`` You/ppss mean/vb once/rb Myra/np gets/vbz to/in Paris/np ''/'' ?/. ?/.\\nOnce/cs the/at soft/jj ,/, pretty/jj moth/nn found/vbd the/at bright/jj light/nn she/pps had/hvd always/rb wanted/vbn ?/. ?/.\\n\\n\\n\\tSuddenly/rb ,/, seekingly/rb ,/, Lucy/np asked/vbd ,/, ``/`` Mother/nn-tl ,/, do/do you/ppss know/vb something/pn I/ppss don't/do* know/vb ''/'' ?/. ?/.\\n\\n\\n\\tAgain/rb there/ex was/bedz that/ql curious/jj pause/nn ,/, and/cc then/rb her/pp$ mother/nn said/vbd ,/, ``/`` I/ppss guess/vb I/ppss do/do ./.\\nJust/rb before/cs Myra/np left/vbd --/-- She/pps was/bedz saying/vbg good-by/uh to/in Cathy/np ,/, and/cc she/pps didn't/dod* realize/vb I/ppss was/bedz near/rb ''/'' ./.\\nShe/pps hesitated/vbd ,/, as/cs though/cs hunting/vbg over/in words/nns and/cc ways/nns of/in putting/vbg them/ppo ./.\\n``/`` Cathy/np was/bedz in/in tears/nns ,/, of/in course/nn ,/, and/cc I/ppss heard/vbd Myra/np say/vb ,/, '/' Now/rb be/be good/jj ,/, and/cc at/in Christmastime/np I'll/ppss+md send/vb you/ppo a/at wonderful/jj present/nn from/in Paris/np '/' ''/'' ./.\\n\\n\\n\\tShocked/vbn speechless/jj ,/, Lucy/np sat/vbd there/rb ./.\\nThen/rb she/pps jumped/vbd to/in her/pp$ feet/nns ,/, the/at elastic/jj phone/nn cord/nn uncoiling/vbg like/cs a/at black/jj snake/nn ./.\\n``/`` Christmastime/np !/. !/.\\n''/'' Then/rb it/pps was/bedz no/at bogey/nn she/pps had/hvd dreamed/vbn up/rp ;/. ;/.\\nit/pps was/bedz only/rb too/ql true/jj ./.\\nMyra/np had/hvd no/at intention/nn whatever/wdt of/in sending/vbg for/in Cathy/np in/in two/cd weeks/nns ./.\\n\\n\\n\\tFor/in a/at moment/nn ,/, anger/nn darkened/vbd the/at hallway/nn about/in her/ppo ,/, and/cc when/wrb she/pps found/vbd her/pp$ voice/nn ,/, anger/nn thickened/vbd it/ppo ./.\\n``/`` That/dt does/doz it/ppo ''/'' !/. !/.\\nShe/pps said/vbd ./.\\n``/`` I'll/ppss+md keep/vb Cathy/np for/in two/cd weeks/nns ./.\\nThen/rb ,/, if/cs Myra/np does/doz nothing/pn about/in fetching/vbg her/ppo ,/, I'll/ppss+md pack/vb her/ppo right/ql back/rb to/in her/pp$ mother/nn --/-- if/cs I/ppss have/hv to/to take/vb her/ppo myself/ppl ''/'' !/. !/.\\nHer/pp$ hand/nn tightened/vbd on/in the/at receiver/nn ./.\\n``/`` And/cc that's/dt+bez what/wdt I'm/ppss+bem going/vbg to/to tell/vb Jim/np ''/'' ./.\\nFor/in Lucy/np ,/, the/at day's/nn$ nagging/nn to-and-fro/rb had/hvd come/vbn to/in an/at abrupt/jj end/nn ./.\\n\\n\\n\\tAs/cs she/pps hung/vbd up/rp ,/, she/pps saw/vbd through/in the/at hall's/nn$ open/jj window/nn the/at purple-black/jj flying/nn of/in the/at cowbirds'/nns$ wings/nns ,/, and/cc heard/vbd their/pp$ grotesque/jj singing/nn ./.\\nCowbird/nn Myra/np !/. !/.\\nShe's/pps+bez not/* going/vbg to/to get/vb away/rb with/in it/ppo ./.\\n\\n\\n\\n\\nCathy/np is/bez tired/vbn ,/, Lucy/np thought/vbd ,/, watching/vbg them/ppo come/vb slowly/rb up/in the/at path/nn ./.\\nThe/at child's/nn$ thin/jj legs/nns were/bed plodding/vbg ./.\\nShe/pps trudged/vbd along/rb slowly/rb ,/, both/abx hands/nns clutching/vbg a/at tired/vbn teddy/nn bear/nn ./.\\nShe/pps was/bedz at/in the/at moment/nn just/rb a/at small/jj ,/, walking/vbg package/nn ,/, being/beg delivered/vbn to/in her/pp$ aunt's/nn$ and/cc uncle's/nn$ house/nn ./.\\nUnlike/in Susan/np ,/, she/pps was/bedz traveling/vbg light/jj ;/. ;/.\\nthe/at worn/vbn teddy/nn bear/nn ,/, a/at tiny/jj suitcase/nn that/wps Jim/np carried/vbd ,/, and/cc the/at clothes/nns she/pps wore/vbd ,/, were/bed all/abn she/pps had/hvd ./.\\nLucy/np glancing/vbg at/in the/at miniature/jj case/nn ,/, knew/vbd there/ex would/md not/* be/be enough/ap in/in it/ppo for/in the/at shortest/jjt of/in stays/nns ;/. ;/.\\nthey/ppss would/md have/hv to/to buy/vb things/nns for/in her/ppo ./.\\nShe/pps opened/vbd the/at door/nn ./.\\n\\n\\n\\n\\tUnimpressed/jj ,/, the/at dog/nn plopped/vbd on/in the/at sand/nn ./.\\nQuint/np couldn't/md* blame/vb Maggie/np for/in disbelieving/vbg ./.\\nFor/in eleven/cd days/nns they'd/ppss+hvd done/vbn the/at same/ap thing/nn ,/, leaving/vbg the/at cottage/nn quietly/rb before/in breakfast/nn ,/, before/cs Esperanza/np-tl Beach/nn-tl got/vbd jammed/vbn with/in tourists/nns and/cc beach/nn balls/nns and/cc show-offy/jj lifeguards/nns ./.\\nThe/at swirling/vbg sand/nn made/vbd Quint's/np$ limp/nn more/ql pronounced/vbn ./.\\nThey/ppss walked/vbd slowly/rb past/in the/at sherbet-colored/jj cottages/nns --/-- eleven/cd lemon/nn ,/, nine/cd mint/nn ,/, seven/cd orange/nn --/-- around/in the/at curve/nn to/in a/at deserted/vbn stand/nn with/in an/at ``/`` Eats/nns-tl ''/'' sign/nn jiggling/vbg in/in the/at wind/nn ./.\\n\\n\\n\\tNow/rb they/ppss were/bed in/in friendly/jj territory/nn ./.\\nNobody/pn around/rb ./.\\nNothing/pn but/in sand/nn and/cc a/at ridge/nn of/in rocks/nns sloping/vbg jaggedly/rb to/in the/at water's/nn$ edge/nn ./.\\nHis/pp$ rock/nn was/bedz to/in the/at right/nr of/in a/at V-shaped/jj inlet/nn ,/, a/at big/jj ,/, brown/jj ,/, lumpy/jj rock/nn trailing/vbg seaweed/nn whiskers/nns ./.\\nHis/pp$ rock/nn was/bedz special/jj because/cs no/at one/pn on/in the/at beach/nn could/md see/vb him/ppo here/rb ./.\\nHere/rb he/pps was/bedz enclosed/vbn and/cc safe/jj ./.\\n(/( If/cs a/at dragon/nn or/cc a/at sea/nn monster/nn came/vbd along/rb ,/, didn't/dod* he/pps have/hv a/at red/jj Swiss/jj hunting/vbg knife/nn on/in his/pp$ belt/nn --/-- ten/cd blades/nns and/cc a/at corkscrew/nn ?/. ?/.\\n)/) \\n\\n\\tHere/rb was/bedz a/at perfect/jj place/nn to/to lie/vb down/rp and/cc make/vb believe/vb ./.\\nHe/pps was/bedz Canute/np controlling/vbg the/at waves/nns ./.\\nHe/pps was/bedz a/at knight/nn of/in the/at Round/jj-tl Table/nn-tl ,/, ``/`` Sir/np-tl Quintus/np-tl the/at-tl Brave/jj-tl ''/'' ,/, slaying/vbg evil/jj spirits/nns and/cc banshees/nns and/cc vampires/nns and/cc witches/nns with/in warty/jj noses/nns ./.\\n(/( One/cd good/jj thing/nn about/in a/at suit/nn of/in armor/nn ,/, his/pp$ leg/nn wouldn't/md* show/vb ./.\\n)/) He/pps was/bedz the/at first/od astronaut/nn on/in the/at moon/nn ,/, chosen/vbn because/cs of/in his/pp$ small/jj size/nn and/cc intrepid/jj nature/nn ./.\\nHe/pps was/bedz six/cd feet/nns one/cd like/cs his/pp$ father/nn ,/, with/in big/jj hands/nns and/cc a/at hairy/jj chest/nn ,/, a/at man/nn the/at weak/jj and/cc persecuted/vbn would/md turn/vb to/in ./.\\nFearless/jj ./.\\nEvery/at night/nn when/wrb he/pps wanted/vbd a/at drink/nn of/in water/nn ,/, didn't/dod* he/pps practice/vb being/beg fearless/jj by/in not/* turning/vbg on/rp the/at bathroom/nn light/nn ?/. ?/.\\nA/at dark/jj bathroom/nn can/md be/be pretty/ql scary/jj ,/, and/cc he'd/pps+md creep/vb back/rb to/in bed/nn ,/, proud/jj of/in himself/ppl ,/, thinking/vbg :/: Tomorrow/nr ,/, for/in sure/jj ,/, I'll/ppss+md go/vb down/rp to/in the/at rock/nn and/cc keep/vb my/pp$ promise/nn to/in Dad/nn-tl ./.\\n\\n\\n\\tHe/pps hadn't/hvd* intended/vbn to/to make/vb the/at promise/nn ./.\\nIt/pps happened/vbd two/cd weeks/nns ago/rb ,/, the/at night/nn before/cs his/pp$ father/nn left/vbd on/in a/at business/nn trip/nn to/in South/jj-tl America/np-tl ./.\\nEvery/at piece/nn of/in the/at nightmare/nn was/bedz clear/jj ,/, in/in place/nn ;/. ;/.\\nand/cc when/wrb he/pps woke/vbd up/rp ,/, his/pp$ father/nn was/bedz saying/vbg ,/, ``/`` Stop/vb screaming/vbg ,/, Quint/np ./.\\nIt's/pps+bez all/ql right/rb ./.\\nStop/vb shaking/vbg ''/'' ./.\\n\\n\\n\\tHe/pps could/md remember/vb the/at feel/nn of/in his/pp$ father's/nn$ big/jj hands/nns ,/, the/at thump/nn of/in his/pp$ father's/nn$ heart/nn sending/vbg out/rp signals/nns --/-- regular/jj ,/, like/cs radar/nn ./.\\n``/`` Let's/vb+ppo talk/vb about/in the/at beach/nn ./.\\nSon/nn ./.\\nWhile/cs I'm/ppss+bem gone/vbn you/ppss get/vb brown/jj and/cc fat/jj as/cs a/at pig/nn ,/, hear/vb ?/. ?/.\\nLook/vb ,/, I/ppss can/md put/vb two/cd fingers/nns between/in the/at cords/nns in/in the/at back/nn of/in your/pp$ neck/nn ./.\\nDr./nn-tl Fortman/np says/vbz swimming/vbg would/md help/vb your/pp$ leg/nn ./.\\nHe/pps says/vbz you're/ppss+ber limping/vbg more/rbr than/cs you/ppss need/vb to/to ''/'' ./.\\n\\n\\n\\t``/`` How/wrb does/doz he/pps know/vb ?/. ?/.\\nBig/jj dumb/jj nut/nn ./.\\nHe/pps never/rb had/hvd polio/nn ''/'' ./.\\n\\n\\n\\tIn/in the/at light/nn from/in the/at bedside/nn table/nn his/pp$ father/nn looked/vbd so/ql worried/vbn that/cs the/at promise/nn spilled/vbd out/rp ./.\\n``/`` You/ppss just/rb wait/vb ,/, Dad/nn-tl ./.\\nWhen/wrb you/ppss get/vb back/rb I'll/ppss+md probly/rb be/be swimming/vbg better/rbr than/cs Victoria/np ./.\\nWait/vb and/cc see/vb ,/, Dad/nn-tl ''/'' ./.\\n\\n\\n\\tVictoria/np was/bedz fourteen/cd months/nns younger/jjr than/cs Quint/np ,/, a/at head/nn taller/jjr ,/, and/cc could/md lick/vb any/dti boy/nn or/cc girl/nn on/in the/at beach/nn ./.\\nHe/pps called/vbd her/ppo ``/`` Fatso/np ''/'' ./.\\nShe/pps called/vbd him/ppo ``/`` Stuck-up/jj-tl --/-- that's/dt+bez why/wrb nobody/pn plays/vbz with/in you/ppo ,/, Mister/np-tl Stuck-up/jj-tl ''/'' ./.\\nOr/cc ,/, what/wdt was/bedz worse/jjr ,/, she/pps prayed/vbd for/in him/ppo out/rp loud/rb at/in bedtime/nn :/: ``/`` Please/uh ,/, Lord/nn-tl Gord/np-tl ,/, please/uh give/vb my/pp$ brother/nn the/at strength/nn to/to go/vb swimming/vbg like/cs he/pps promised/vbd ''/'' ./.\\n\\n\\n\\t``/`` She's/pps+hvz got/vbn a/at nerve/nn ''/'' ./.\\nQuint/np said/vbd now/rb to/in the/at clouds/nns ./.\\nStrength/nn began/vbd to/to zip/vb up/in and/cc down/in his/pp$ chest/nn ./.\\nHe/pps felt/vbd strong/jj as/cs a/at giant/nn ./.\\nHe/pps unlaced/vbd his/pp$ high/jj brown/jj shoes/nns and/cc took/vbd off/rp the/at metal/nn brace/nn on/in his/pp$ leg/nn ./.\\nHe/pps wadded/vbd his/pp$ sweat/nn shirt/nn into/in a/at ball/nn and/cc stripped/vbd down/rp to/in his/pp$ swimming/vbg trunks/nns ./.\\n\\n\\n\\t``/`` Goolick/uh ,/, goooolick/uh ''/'' ,/, creaked/vbd a/at sea/nn gull/nn ./.\\n\\n\\n\\t``/`` Aw/uh ,/, shut/vb up/rp ''/'' ,/, he/pps said/vbd ./.\\n\\n\\n\\tHe/pps stood/vbd on/in the/at rock/nn ,/, a/at skinny/jj ,/, dignified/vbn boy/nn surrounded/vbn by/in the/at ocean/nn ./.\\nThe/at wind/nn bored/vbd a/at hole/nn between/in his/pp$ shoulder/nn blades/nns ,/, and/cc when/wrb he/pps looked/vbd at/in the/at choppy/jj waves/nns coming/vbg and/cc going/vbg and/cc crossing/vbg each/dt other/ap he/pps could/md see/vb his/pp$ head/nn down/rp there/rb ,/, bleeding/vbg ,/, wedged/vbn between/in the/at rocks/nns and/cc the/at waves/nns ./.\\n\\n\\n\\tI/ppss can't/md* go/vb in/rp ./.\\nI'm/ppss+bem scared/vbn of/in the/at nightmare/nn ./.\\n\\n\\n\\n\\nShivering/vbg ,/, he/pps put/vbd on/rp his/pp$ clothes/nns ./.\\nAnd/cc shivering/vbg with/in shame/nn ,/, he/pps crawled/vbd to/in the/at narrow/jj end/nn of/in the/at rock/nn and/cc spat/vbd into/in the/at water/nn ./.\\n\\n\\n\\t``/`` Watch/vb it/ppo ,/, big/jj shot/nn ''/'' ,/, a/at hoarse/jj voice/nn yelled/vbd back/rb ./.\\nShe/pps was/bedz holding/vbg on/rp to/in his/pp$ rock/nn with/in one/cd hand/nn ./.\\nShe/pps smelled/vbd of/in peppermints/nns ./.\\nShe/pps wore/vbd a/at bathing/vbg suit/nn like/cs his/pp$ mother's/nn$ ,/, no/at straps/nns on/in the/at shouders/nns ./.\\n\\n\\n\\t``/`` Why/wrb didn't/dod* you/ppss duck/vb ''/'' ?/. ?/.\\nHe/pps snapped/vbd ./.\\n``/`` This/dt is/bez my/pp$ rock/nn ''/'' ./.\\n\\n\\n\\t``/`` Isn't/bez* ''/'' ./.\\n\\n\\n\\t``/`` Is/bez ''/'' ./.\\n\\n\\n\\t``/`` Isn't/bez* ''/'' ./.\\n\\n\\n\\t``/`` Is/bez ''/'' ./.\\n\\n\\n\\tShe/pps was/bedz sore/jj as/cs a/at boil/nn ./.\\n``/`` Ever/rb hear/vb of/in squatter's/nn$ rights/nns ''/'' ?/. ?/.\\n\\n\\n\\t``/`` Sure/rb ./.\\nThey/ppss started/vbd with/in the/at Kansas-Nebraska/np-tl Bill/nn-tl of/in eighteen/cd ''/'' --/-- \\n\\n\\t``/`` Mister/np-tl Big/jj-tl Britches/nns-tl ,/, aren't/ber* you/ppo ''/'' ?/. ?/.\\n\\n\\n\\t``/`` I'm/ppss+bem Mark/np Gordon/np Peters/np the/at-tl Fifth/od-tl ./.\\nThey/ppss call/vb me/ppo Quint/np ''/'' ./.\\n\\n\\n\\t``/`` Then/rb why/wrb don't/do* you/ppss stop/vb squinting/vbg ''/'' ?/. ?/.\\n\\n\\n\\t``/`` I/ppss said/vbd Quint/np ./.\\nThat's/dt+bez short/jj for/in Quintus/fw-od-tl ./.\\nQuintus/fw-od-nc in/in Latin/np means/vbz ''/'' --/-- \\n\\n\\t``/`` I/ppss can/md speak/vb both/abx kinds/nns of/in Latin/np ,/, smart/jj aleck/nn ''/'' ./.\\nHer/pp$ cough/nn sounded/vbd like/cs cloth/nn ripping/vbg ./.\\n\\n\\n\\t``/`` You/ppss shouldn't/md* smoke/vb so/ql much/rb ''/'' ,/, he/pps said/vbd ,/, unconsciously/rb imitating/vbg Victoria's/np$ holier-than-thou/jj voice/nn ./.\\n\\n\\n\\t``/`` I/ppss don't/do* smoke/vb ''/'' ./.\\nShe/pps was/bedz horrified/vbn ./.\\n``/`` Do/do you/ppss ''/'' ?/. ?/.\\n\\n\\n\\t``/`` Hell/uh ,/, yes/rb ''/'' ./.\\nNot/* having/hvg said/vbn ``/`` hell/nn ''/'' before/rb ,/, he/pps stumbled/vbd a/at bit/nn before/in gathering/vbg momentum/nn ./.\\n``/`` Sometimes/rb eleven/cd ,/, fourteen/cd a/at day/nn ''/'' ./.\\n\\n\\n\\t``/`` If/cs I/ppss was/bedz your/pp$ mama/nn ,/, I'd/ppss+md wop/vb your/pp$ tail/nn off/rp ''/'' ./.\\n\\n\\n\\t``/`` My/pp$ mother/nn never/rb wops/vbz me/ppo ./.\\nI've/ppss+hv got/vbn this/dt leg/nn brace/nn ''/'' ./.\\n\\n\\n\\tShe/pps seemed/vbd so/cs unimpressed/jj that/cs he/pps was/bedz obliged/vbn to/to roll/vb up/rp his/pp$ blue/jj jeans/nns so/cs she/pps could/md see/vb his/pp$ brace/nn ./.\\n\\n\\n\\t``/`` Dingy-looking/jj ''/'' ,/, was/bedz what/wdt she/pps said/vbd ./.\\n``/`` Why/wrb don't/do* you/ppss paint/vb it/ppo red/jj and/cc white/jj like/cs a/at barber/nn pole/nn ''/'' ?/. ?/.\\n\\n\\n\\t``/`` Because/cs maybe/rb I/ppss won't/md* have/hv to/to wear/vb it/ppo always/rb ./.\\nDr./nn-tl Fortman/np says/vbz if/cs I/ppss exercise/vb my/pp$ leg/nn more/rbr ,/, maybe/rb I/ppss can/md use/vb a/at cane/nn when/wrb I'm/ppss+bem big/jj ''/'' ./.\\n\\n\\n\\tShe/pps spouted/vbd a/at mouthful/nn of/in water/nn into/in the/at air/nn ./.\\n``/`` A/at cane's/nn+bez mighty/ql handy/jj ./.\\nSomeone's/pn+bez walking/vbg past/rb ,/, you/ppss want/vb to/to stop/vb him/ppo ,/, zoooop/uh ,/, snag/vb him/ppo around/in the/at neck/nn with/in the/at crook/nn in/in your/pp$ cane/nn ./.\\nOr/cc say/vb a/at waiter/nn brings/vbz you/ppo a/at bowl/nn of/in soup/nn with/in a/at dead/jj fly/nn in/in it/ppo --/-- all/abn you/ppss got/vbd to/to do/do is/bez bannnnnng/uh ,/, stooooomp/vb your/pp$ cane/nn on/in the/at floor/nn ./.\\nHey/uh ,/, will/md you/ppss look/vb at/in that/dt ''/'' ?/. ?/.\\n\\n\\n\\tMaggie/np had/hvd shaken/vbn himself/ppl awake/rb and/cc was/bedz licking/vbg the/at sand/nn off/in his/pp$ stubby/jj whiskers/nns and/cc his/pp$ long/jj plume/nn of/in a/at tail/nn ./.\\n\\n\\n\\t``/`` That's/dt+bez some/dti dog/nn ./.\\nWhat/wdt kind/nn ''/'' ?/. ?/.\\n\\n\\n\\t``/`` Part/nn collie/nn ,/, part/nn wire-haired/jj terrier/nn ''/'' ./.\\nQuint/np glared/vbd ./.\\nHe/pps always/rb did/dod when/wrb people/nns asked/vbd ./.\\n\\n\\n\\t``/`` Holy/jj mackerel/nn ,/, that's/dt+bez the/at most/ql unique/jj dog/nn I/ppss ever/rb saw/vbd ''/'' ,/, she/pps said/vbd firmly/rb ./.\\n\\n\\n\\t``/`` His/pp$ real/jj name's/nn+bez DiMaggio/np ,/, only/rb we/ppss call/vb him/ppo Maggie/np because/cs he/pps has/hvz to/to take/vb tranquilizers/nns ./.\\nHe's/pps+bez braver/jjr than/cs he/pps looks/vbz ./.\\nHe's/pps+hvz been/ben sick/jj lately/rb ./.\\nLast/ap Tuesday/nr he/pps went/vbd on/in a/at ham/nn jag/nn ''/'' ./.\\n\\n\\n\\t``/`` A/at what/wdt ''/'' ?/. ?/.\\n\\n\\n\\tHe/pps would/md have/hv told/vbn her/ppo ,/, but/cc Victoria/np was/bedz yodeling/vbg ./.\\nThat/dt meant/vbd ``/`` Mama/nn-tl wants/vbz you/ppo Quint/np ./.\\nCome/vb home/nr or/cc I'll/ppss+md come/vb find/vb you/ppo ''/'' ./.\\n\\n\\n\\t``/`` I/ppss gotta/vbn+to go/vb ./.\\nEven/rb though/cs this/dt is/bez my/pp$ rock/nn ,/, you/ppss can/md use/vb it/ppo sometimes/rb ./.\\nI/ppss come/vb early/rb in/in the/at morning/nn ''/'' ./.\\n\\n\\n\\t``/`` So/rb do/do I/ppss ./.\\nSee/vb you/ppo around/rb ,/, Mister/np Squint/np ''/'' ./.\\n\\n\\n\\n\\nThat/dt was/bedz how/wrb they/ppss started/vbd being/beg friends/nns ./.\\nThey/ppss met/vbd next/ap morning/nn and/cc all/abn the/at mornings/nns thereafter/rb ./.\\nSame/ap time/nn ,/, early/rb ,/, before/cs the/at fog/nn burned/vbd off/rp ,/, because/cs she/pps didn't/dod* like/vb the/at sun/nn ;/. ;/.\\nit/pps made/vbd her/ppo blister/vb ./.\\nHer/pp$ name/nn was/bedz Sabella/np ,/, and/cc the/at strip/nn of/in seaweed/nn around/in her/pp$ neck/nn was/bedz an/at emerald/nn necklace/nn the/at King/nn-tl gave/vbd her/ppo as/cs a/at token/nn of/in his/pp$ undying/jj love/nn ./.\\n\\n\\n\\t``/`` You/ppss going/vbg to/to marry/vb the/at King/nn-tl ''/'' ?/. ?/.\\n``/`` No/rb ./.\\nHe's/pps+hvz got/vbn a/at long/jj beard/nn and/cc picks/vbz his/pp$ teeth/nns with/in a/at fork/nn ./.\\nMy/pp$ hair/nn is/bez what/wdt he's/pps+bez nuts/nns about/rb ./.\\nNaturally/rb curly/jj hair/nn runs/vbz in/in my/pp$ family/nn ./.\\nPersonally/rb ,/, I/ppss prefer/vb straight/jj hair/nn like/cs yours/pp$$ ,/, but/cc as/cs they/ppss say/vb on/in the/at Continent/nn-tl ,/, '/' What/wdt can/md one/pn do/do '/' ''/'' ?/. ?/.\\n\\n\\n\\t``/`` Which/wdt continent/nn ''/'' ?/. ?/.\\n\\n\\n\\t``/`` Name/vb one/cd ,/, I/ppss been/ben there/rb ''/'' ./.\\nJapan/np ,/, she/pps said/vbd ,/, smelled/vbd pugh/uh because/cs people/nns let/vb dead/jj fish/nn lie/vb on/in the/at beaches/nns till/cs the/at fish/nn got/vbd hard/jj as/cs rocks/nns ;/. ;/.\\nthen/rb they/ppss scraped/vbd off/rp the/at mold/nn and/cc made/vbd fish/nn soup/nn ./.\\nPugh/uh ./.\\nCamels/nns in/in Tripoli/np had/hvd harelips/nns ./.\\nNear/in Galway/np the/at tinkers/nns drove/vbd their/pp$ caravans/nns down/rp to/in the/at beach/nn and/cc sang/vbd and/cc drank/vbd and/cc fought/vbd all/abn night/nn ./.\\nAs/cs for/in dancing/vbg --/-- holy/jj mackerel/nn ,/, he/pps ought/md to/to see/vb the/at gypsies/nns in/in Jerez/np ;/. ;/.\\nthey/ppss danced/vbd on/in the/at sand/nn till/cs your/pp$ blood/nn got/vbd hot/jj and/cc danced/vbd with/in them/ppo ./.\\n\\n\\n\\t``/`` Really/rb ''/'' ./.\\nQuint/np smothered/vbd a/at yawn/nn ./.\\nShe/pps made/vbd better/jjr pictures/nns than/cs any/dti book/nn he'd/pps+hvd read/vbn ,/, but/cc he/pps didn't/dod* say/vb so/rb ./.\\nArtfully/rb ,/, as/cs the/at days/nns went/vbd by/rb ,/, he/pps found/vbd occasion/nn to/to tell/vb her/ppo that/cs his/pp$ father/nn had/hvd won/vbn the/at Navy/nn-tl Cross/nn-tl in/in the/at Korean/jj-tl War/nn-tl ;/. ;/.\\nthat/cs his/pp$ baby/nn sister/nn could/md spit/vb up/rp through/in her/pp$ nose/nn when/wrb she/pps felt/vbd like/cs it/pps ;/. ;/.\\nthat/cs he/pps personally/rb had/hvd an/at IQ/np-tl of/in 141/cd and/cc was/bedz currently/rb reading/vbg the/at Mushr/np to/in Ozon/np volume/nn of/in the/at encyclopedia/nn ./.\\n\\n\\n\\t``/`` Books/nns are/ber for/in schnooks/nns ''/'' ./.\\nShe/pps skipped/vbd a/at piece/nn of/in water/nn at/in him/ppo and/cc laughed/vbd ,/, a/at funny/jj ,/, hoarse/jj laugh/nn he/pps liked/vbd to/to hear/vb ./.\\n\\n\\n\\tNobody/pn ever/rb appreciated/vbd his/pp$ jokes/nns as/ql much/rb as/cs Sabella/np ./.\\n(/( ``/`` What/wdt did/dod one/cd tonsil/nn say/vb to/in the/at other/ap tonsil/nn ?/. ?/.\\nLet's/vb+ppo get/vb dressed/vbn up/rp --/-- the/at doctor's/nn+bez taking/vbg us/ppo out/rp tonight/nr ''/'' ./.\\nAnd/cc ``/`` What/wdt time/nn did/dod the/at Chinaman/np go/vb to/in the/at dentist/nn ?/. ?/.\\nTooth-hurty/nn ''/'' ./.\\n)/) Encouraged/vbn by/in her/pp$ giggles/nns he/pps imitated/vbd Maggie/np who/wps was/bedz crazy/jj about/in ham/nn ./.\\nHe/pps described/vbd the/at ham/nn decorated/vbn with/in pineapple/nn and/cc cherries/nns ,/, cooling/vbg on/in the/at porch/nn ./.\\nHe/pps snuck/vbd up/rp on/in the/at ham/nn like/cs Maggie/np ,/, gumming/vbg it/ppo with/in soft/jj ,/, stumpy/jj teeth/nns ,/, then/rb panting/vbg with/in thirst/nn ,/, lapping/vbg up/rp the/at water/nn in/in the/at lagoon/nn ,/, swelling/vbg up/rp like/cs a/at balloon/nn ,/, staggering/vbg home/nr to/to be/be sick/jj ,/, while/cs his/pp$ mother/nn said/vbd ,/, ``/`` That/dt does/doz it/ppo ./.\\nThat/dt dog/nn has/hvz to/to go/vb ''/'' ./.\\n\\n\\n\\t``/`` Say/vb ,/, you're/ppss+ber quite/abl a/at comic/nn ''/'' ,/, Sabella/np said/vbd admiringly/rb ./.\\n``/`` Ever/rb thought/vbn about/in going/vbg on/in the/at stage/nn ''/'' ?/. ?/.\\n\\n\\n\\tHe/pps hadn't/hvd* ./.\\nBut/cc it/pps was/bedz such/abl a/at nice/jj thought/nn that/cs he/pps nodded/vbd his/pp$ head/nn ./.\\n``/`` Either/cc that/dt or/cc a/at veterinarian/nn ''/'' ./.\\n\\n\\n\\t``/`` Better/rbr make/vb up/rp your/pp$ mind/nn ,/, son/nn ''/'' ,/, Sabella/np said/vbd ./.\\n``/`` You/ppss can't/md* serve/vb cod/nn and/cc salmon/nn ''/'' ./.\\n\\n\\n\\tSometimes/rb they/ppss argued/vbd ./.\\nShe/pps said/vbd sharks/nns have/hv no/at bones/nns and/cc shrimp/nn swam/vbd backward/rb ./.\\nHis/pp$ encylopedia/nn agreed/vbd with/in Sabella/np ./.\\nNext/ap morning/nn he/pps tied/vbd a/at bunch/nn of/in sea/nn daisies/nns with/in string/nn and/cc threw/vbd them/ppo across/in the/at V-shaped/np-tl inlet/nn to/in the/at rock/nn where/wrb she/pps was/bedz swimming/vbg around/rb ./.\\nBoy/nn ,/, could/md she/pps catch/vb !/. !/.\\nLike/cs Willie/np Mays/np in/in the/at outfield/nn ./.\\n\\n\\n\\t``/`` Nobody/pn gave/vbd me/ppo flowers/nns before/rb ./.\\nThank/vb you/ppo ,/, Quint/np ''/'' ./.\\nHer/pp$ face/nn turned/vbd pink/jj with/in pleasure/nn and/cc a/at smothered/vbn cough/nn ./.\\n``/`` You/ppss can/md always/rb tell/vb a/at real/jj gentleman/nn --/-- they/ppss got/vbd a/at certain/jj je/fw-ppss ne/fw-* say/fw-vb quok/fw-wdt ''/'' ./.\\n\\n\\n\\tSometimes/rb they/ppss didn't/dod* talk/vb at/in all/abn ./.\\nHe/pps daydreamed/vbd on/in the/at rock/nn while/cs she/pps swam/vbd and/cc splashed/vbd around/rb ./.\\nOnce/rb when/wrb she/pps asked/vbd why/wrb he/pps never/rb went/vbd swimming/vbg and/cc he/pps answered/vbd ,/, ``/`` Don't/do* feel/vb like/cs it/pps ''/'' ,/, he/pps was/bedz tempted/vbn to/to tell/vb her/ppo about/in being/beg scared/vbn ./.\\nBut/cc Victoria/np began/vbd yodeling/vbg just/rb then/rb and/cc he/pps went/vbd home/nr ,/, carrying/vbg Sabella/np in/in the/at back/nn of/in his/pp$ head/nn ,/, not/* thinking/vbg about/in her/ppo ,/, just/rb knowing/vbg she/pps was/bedz there/rb ,/, smiling/vbg ,/, smelling/vbg of/in peppermints/nns ./.\\nAs/in for/in his/pp$ promise/nn --/-- oh/uh ,/, he/pps had/hvd plenty/nn of/in time/nn ,/, buckets/nns of/in time/nn ./.\\n\\n\\n\\n\\nWednesday/nr morning/nn it/pps happened/vbd ./.\\nThey/ppss were/bed eating/vbg breakfast/nn ./.\\n``/`` We/ppss beseech/vb thee/ppo ,/, Lord/nn-tl Gord/np-tl ,/, to/in bless/vb this/dt food/nn ''/'' --/-- that/dt was/bedz Victoria/np saying/vbg grace/nn while/cs the/at baby/nn sprayed/vbd raisin/nn toast/nn on/in her/pp$ plastic/jj bib/nn ./.\\nSame/ap old/jj breakfast/nn till/cs the/at phone/nn rang/vbd ,/, making/vbg his/pp$ mother's/nn$ voice/nn shake/vb with/in excitement/nn ./.\\n\\n\\n\\t``/`` Your/pp$ Daddy's/nn$-tl in/in San/np Francisco/np ''/'' ,/, she/pps told/vbd them/ppo ./.\\n``/`` He/pps says/vbz he'll/pps+md be/be here/rb on/in the/at one-o'clock/nn plane/nn ./.\\nFifteen/cd days/nns early/rb --/-- isn't/bez* that/ql wonderful/jj ''/'' ?/. ?/.\\n\\n\\n\\t``/`` Yeah/rb ,/, keen/jj ''/'' ./.\\nA/at cave/nn seemed/vbd to/to be/be opening/vbg in/in Quint's/np$ stomach/nn ./.\\n\\n\\n\\t``/`` Children/nns ,/, we'll/ppss+md have/hv to/to get/vb organized/vbn ./.\\nThe/at baby/nn can/md have/hv an/at early/jj nap/nn ./.\\nVictoria/np ,/, I/ppss want/vb you/ppo to/to --/-- ''/'' \\n\\n\\tQuint/np closed/vbd the/at screen/nn door/nn quietly/rb so/cs Maggie/np wouldn't/md* be/be scared/vbn ./.\\n``/`` Hurry/vb up/rp ,/, we're/ppss+ber late/rb ''/'' ,/, he/pps said/vbd ,/, noticing/vbg with/in a/at chill/nn how/wrb gray/jj the/at sky/nn was/bedz this/dt morning/nn ,/, the/at fog/nn like/cs a/at rope/nn along/in the/at horizon/nn ,/, the/at choppy/jj waves/nns sending/vbg off/rp sheets/nns of/in blue/jj and/cc Kool-Aid/np green/jj ./.\\n\\n\\n\\tThe/at cave/nn in/in his/pp$ stomach/nn hurt/vbd ./.\\nHe/pps had/hvd to/to go/vb into/in the/at water/nn ./.\\nHe'd/pps+md tell/vb Sabella/np about/in the/at nightmare/nn ./.\\nIt/pps had/hvd started/vbn two/cd years/nns ago/rb when/wrb he/pps was/bedz in/in an/at iron/nn lung/nn ./.\\nWhat/wdt caused/vbd it/ppo ,/, he/pps didn't/dod* know/vb ./.\\nThe/at metal/nn collar/nn gagging/vbg his/pp$ neck/nn ?/. ?/.\\nSweating/vbg so/ql much/rb ?/. ?/.\\nThe/at unbearable/jj weight/nn on/in his/pp$ chest/nn ?/. ?/.\\nAll/abn of/in it/ppo together/rb meant/vbd drowning/vbg ./.\\nThe/at first/od time/nn the/at nurse/nn took/vbd him/ppo out/in of/in the/at lung/nn ,/, she/pps said/vbd if/cs he/pps got/vbd frightened/vbn ,/, she'd/pps+md put/vb him/ppo back/rb for/in a/at second/nn ./.\\n\\n\\n\\n\\n\\nWhen/wrb Bobbie/np Evans/np smashed/vbd up/rp his/pp$ car/nn ,/, the/at Jaguar/np his/pp$ wife/nn Linda/np had/hvd given/vbn him/ppo for/in his/pp$ last/ap birthday/nn ,/, and/cc himself/ppl quite/ql thoroughly/rb with/in it/ppo ,/, driving/vbg back/rb from/in an/at afternoon's/nn$ golf/nn at/in Oakmont/np ,/, it/pps seemed/vbd to/to mark/vb the/at end/nn of/in a/at long/jj ,/, miswritten/vbn chapter/nn in/in the/at social/jj life/nn of/in the/at community/nn ./.\\nLinda/np looked/vbd remote/jj yet/rb lovely/jj in/in black/jj ,/, and/cc everyone/pn held/vbd his/pp$ or/cc her/pp$ breath/nn ./.\\n\\n\\n\\tNot/* that/cs Linda/np was/bedz heartless/jj ,/, not/* that/cs she/pps would/md do/do anything/pn prematurely/rb or/cc in/in bad/jj taste/nn any/dti more/rbr than/cs John/np Cooper/np would/md ./.\\nHadn't/hvd* Linda/np been/ben a/at perfect/jj wife/nn to/in Bobbie/np ,/, who/wps was/bedz the/at least/ap bit/nn of/in a/at disappointment/nn all/abn these/dts years/nns ?/. ?/.\\n\\n\\n\\tWasn't/bedz* John/np Cooper/np even/ql more/ql attractive/jj at/in forty-seven/cd than/cs he/pps had/hvd been/ben twenty-five/cd years/nns earlier/rbr ?/. ?/.\\nAnd/cc wasn't/bedz* John's/np$ wife/nn ,/, Edythe/np ,/, even/ql more/ql appalling/jj ,/, if/cs possible/jj ?/. ?/.\\nDidn't/dod* John/np Cooper/np ,/, after/in all/abn this/dt time/nn ,/, deserve/vb something/pn better/jjr of/in life/nn ?/. ?/.\\nWasn't/bedz* it/pps adult/jj and/cc realistic/jj to/to look/vb at/in it/ppo that/dt way/nn ?/. ?/.\\nAnd/cc romantic/jj ?/. ?/.\\n\\n\\n\\tEverybody/pn knew/vbd that/cs John/np Cooper/np had/hvd married/vbn Edythe/np on/in the/at rebound/nn ./.\\nIt/pps was/bedz the/at kind/nn of/in thing/nn that/wps could/md ruin/vb a/at man's/nn$ life/nn ,/, and/cc it/pps was/bedz a/at tribute/nn to/in John's/np$ strength/nn of/in character/nn and/cc very/ql real/jj business/nn ability/nn that/cs it/pps hadn't/hvd* ruined/vbn his/pp$$ ./.\\n``/`` Of/in course/nn ,/, there/ex was/bedz nothing/pn you/ppss could/md do/do ,/, but/cc you/ppss still/rb ought/md to/to be/be ashamed/jj of/in yourself/ppl for/in letting/vbg it/pps happen/vb ''/'' ,/, Mousie/np Chandler/np said/vbd to/in Linda/np Stuart/np ./.\\n``/`` Poor/jj John/np ''/'' !/. !/.\\nLinda/np accepted/vbd the/at reproach/nn ,/, which/wdt was/bedz something/pn she/pps did/dod rarely/rb in/in all/abn her/pp$ life/nn and/cc most/ql rarely/rb in/in that/dt summer/nn of/in 1936/cd when/wrb she/pps was/bedz by/in all/abn odds/nns the/at prettiest/jjt and/cc brightest/jjt young/jj woman/nn west/nr of/in the/at Allegheny/np-tl Mountains/nns-tl ,/, and/cc John/np was/bedz surely/rb one/pn of/in the/at handsomer/jjr and/cc brighter/jjr young/jj men/nns around/in Pittsburgh/np ./.\\n\\n\\n\\tFor/cs it/pps had/hvd been/ben John/np and/cc Linda/np ever/rb since/cs she/pps had/hvd come/vbn out/rp two/cd seasons/nns before/rb at/in the/at Golf/nn-tl Club/nn-tl to/in the/at goggle-eyed/jj admiration/nn not/* only/rb of/in the/at stag/nn line/nn but/cc even/rb of/in her/pp$ fellow/nn debs/nns ./.\\nJohn/np had/hvd claimed/vbn her/ppo from/in the/at stag/nn line/nn ,/, a/at young/jj man/nn a/at year/nn out/in of/in Dartmouth/np with/in skiing/vbg crinkles/nns still/rb around/in his/pp$ eyes/nns ./.\\n\\n\\n\\tYou/ppss saw/vbd them/ppo always/rb together/rb those/dts years/nns ./.\\nYou/ppss talked/vbd about/in John-and-Linda/nps as/cs an/at entity/nn ./.\\nJohn-and-Linda/nps were/bed at/in Longue/np Vue/np last/ap night/nn ;/. ;/.\\nJohn-and-Linda/nps drove/vbd to/in Conneaut/np in/in three/cd and/cc a/at half/abn hours/nns ./.\\nThen/rb there/ex was/bedz a/at spat/nn over/in something/pn ,/, as/cs there/ex had/hvd been/ben lovers'/nns$ spats/nns before/rb ;/. ;/.\\nonly/rb this/dt one/pn didn't/dod* heal/vb ./.\\n\\n\\n\\tYou/ppss still/rb said/vbd ``/`` John-and-Linda/nps ''/'' ,/, but/cc as/cs if/cs you/ppss were/bed speaking/vbg of/in a/at national/jj catastrophe/nn such/jj as/cs the/at depression/nn or/cc Dillinger/np ./.\\nIt/pps got/vbd worse/jjr instead/rb of/in better/rbr ./.\\nFirst/od ,/, it/pps came/vbd out/rp after/cs Mr./np Cooper's/np$ will/nn was/bedz settled/vbn --/-- he/pps had/hvd died/vbn the/at year/nn before/rb --/-- that/cs John/np and/cc his/pp$ mother/nn weren't/bed* rich/jj any/dti more/rbr ./.\\nAnd/cc then/rb there/ex was/bedz Linda's/np$ engagement/nn to/in Bobbie/np Evans/np ./.\\n\\n\\n\\tThere/ex was/bedz no/at connection/nn between/in the/at two/cd events/nns ,/, because/cs Bobbie/np wasn't/bedz* rich/jj ,/, either/rb ,/, though/cs he/pps was/bedz more/ql aggressive/jj than/cs John/np ./.\\nHe/pps was/bedz a/at bright/jj and/cc handsome/jj young/jj man/nn from/in New/jj-tl York/np-tl ,/, who/wps worked/vbd for/in the/at same/ap steel/nn company/nn as/cs John/np did/dod ./.\\n\\n\\n\\tSome/dti people/nns said/vbd Linda/np had/hvd just/rb announced/vbn the/at engagement/nn to/to jolt/vb John/np into/in some/dti action/nn ,/, but/cc when/wrb John/np came/vbd home/nr from/in a/at business/nn trip/nn to/in Cleveland/np with/in Edythe/np ,/, with/in Edythe/np his/pp$ bride/nn ,/, it/pps could/md no/at longer/jjr be/be John-and-Linda/nps even/rb to/in sentimental/jj wishful/jj thinkers/nns ./.\\nIt/pps wasn't/bedz* even/rb John/np and/cc Edythe/np ./.\\nIt/pps was/bedz simply/rb Poor/jj-tl John/np-tl ./.\\n\\n\\n\\tThere/ex was/bedz nothing/pn specifically/rb wrong/jj with/in Edythe/np ,/, but/cc there/ex was/bedz absolutely/rb nothing/pn right/jj about/in her/ppo either/rb ./.\\nMousie/np Chandler/np had/hvd been/ben to/in school/nn with/in her/ppo someplace/rb near/in Baltimore/np and/cc tried/vbd to/to explain/vb rather/rb than/cs defend/vb her/pp$ to/to the/at gang/nn having/hvg lunch/nn at/in Horne's/np$ ./.\\n\\n\\n\\t``/`` Well/uh ,/, you/ppss shouldn't/md* underestimate/vb Edythe/np ''/'' ,/, Mousie/np said/vbd ./.\\n``/`` I/ppss know/vb she/pps gives/vbz the/at impression/nn of/in being/beg shallow/jj and/cc frivolous/jj and/cc scatterbrained/jj ./.\\nShe/pps is/bez frivolous/jj and/cc scatterbrained/jj ,/, but/cc she/pps really/rb isn't/bez* shallow/jj ''/'' ./.\\n\\n\\n\\tBobbie/np and/cc Linda/np looked/vbd magnificent/jj at/in their/pp$ wedding/nn ./.\\nJohn/np was/bedz at/in the/at church/nn with/in Edythe/np ./.\\nShe/pps giggled/vbd during/in the/at ceremony/nn ,/, and/cc Mousie/np Chandler/np ,/, who/wps was/bedz one/pn of/in Linda's/np$ bridesmaids/nns ,/, said/vbd John/np glared/vbd black/jj as/cs death/nn at/in her/ppo ./.\\n``/`` As/cs if/cs he/pps were/bed choking/vbg ''/'' ,/, she/pps said/vbd ./.\\n``/`` Poor/jj John/np ''/'' !/. !/.\\n\\n\\n\\tEdythe/np settled/vbd down/rp to/to become/vb a/at social/jj myth/nn and/cc a/at horrible/jj example/nn ./.\\nHer/pp$ hair/nn never/rb seemed/vbd to/to be/be in/in place/nn and/cc her/pp$ skirts/nns were/bed never/rb quite/abl the/at correct/jj length/nn ./.\\nShe/pps didn't/dod* have/hv a/at bad/jj shape/nn when/wrb you/ppss caught/vbd her/ppo at/in the/at pool/nn at/in Longue/np Vue/np ,/, but/cc her/pp$ bathing/vbg suits/nns were/bed far/rb from/in smart/jj ./.\\nAnd/cc you/ppss didn't/dod* see/vb her/ppo much/rb at/in Longue/np Vue/np or/cc anywhere/rb ,/, for/cs John/np had/hvd drifted/vbn away/rb from/in the/at gang/nn ./.\\nMousie/np said/vbd it/pps was/bedz because/cs he/pps was/bedz too/ql proud/jj to/to stand/vb pity/nn ./.\\nOthers/nns thought/vbd he/pps couldn't/md* stand/vb seeing/vbg Linda/np ,/, Mrs./np Bobbie/np Evans/np ,/, still/rb so/ql beautiful/jj ,/, so/ql much/rb in/in command/nn of/in everything/pn ./.\\n\\n\\n\\tThere/ex were/bed less-dramatic/jj reasons/nns too/rb ./.\\nJohn's/np$ mother/nn died/vbd not/* long/jj after/in his/pp$ marriage/nn ,/, and/cc there/ex was/bedz even/rb less/ap Cooper/np money/nn left/vbn ./.\\nJohn/np sold/vbd the/at big/jj old/jj place/nn in/in Sewickley/np and/cc bought/vbd a/at smaller/jjr house/nn in/in Fox/nn-tl Chapel/nn-tl ./.\\nHe/pps was/bedz not/* reduced/vbn to/in poverty/nn ,/, but/cc his/pp$ job/nn at/in the/at steel/nn company/nn had/hvd become/vbn a/at real/jj job/nn and/cc not/* a/at method/nn of/in passing/vbg the/at day/nn ./.\\n\\n\\n\\tJohn/np was/bedz good/jj at/in his/pp$ job/nn ./.\\nIt/pps probably/rb wasn't/bedz* hard/jj for/in him/ppo to/to keep/vb his/pp$ nose/nn to/in the/at grindstone/nn with/in nothing/pn but/cc Edythe/np to/to come/vb home/nr to/in ./.\\nThough/cs that/dt may/md be/be unfair/jj since/cs Ben/np Cooper/np ,/, John's/np$ first/od son/nn ,/, came/vbd along/rb early/rb in/in 1938/cd ,/, the/at cutest/jjt baby/nn you/ppss ever/rb saw/vbd and/cc a/at blessing/nn that/cs he/pps looked/vbd all/abn Cooper/np from/in fontanel/nn to/in pink/jj toes/nns ,/, nary/abn a/at trace/nn of/in Edythe/np ./.\\n\\n\\n\\tBut/cc the/at continuing/vbg charm/nn of/in the/at other/ap children/nns --/-- Sally/np in/in 1940/cd and/cc Jack/np in/in 1944/cd --/-- and/cc all/abn John's/np$ success/nn at/in his/pp$ work/nn only/rb made/vbd Edythe's/np$ dizziness/nn and/cc general/jj uselessness/nn more/ql glaring/vbg ./.\\nShe/pps never/rb could/md fit/vb into/in a/at crowd/nn which/wdt had/hvd known/vbn ,/, which/wdt still/rb knew/vbd and/cc admired/vbd Linda/np ./.\\n\\n\\n\\tWhen/wrb there/ex was/bedz bridge/nn at/in Edythe's/np$ house/nn ,/, the/at cards/nns shuffled/vbd like/cs wet/jj graham/nn crackers/nns and/cc the/at food/nn probably/rb was/bedz wet/jj graham/nn crackers/nns ./.\\nShe/pps managed/vbd a/at missionary/nn drive/nn for/in the/at church/nn once/rb and/cc got/vbd the/at books/nns so/ql confused/vbn that/ql old/jj Mr./np Webber/np ,/, the/at eldest/jjt elder/nn ,/, who'd/wps+hvd never/rb donated/vbn more/ap than/in five/cd dollars/nns to/in anything/pn ,/, had/hvd to/to cough/vb up/rp five/cd hundred/cd dollars/nns to/to avoid/vb a/at scandal/nn in/in what/wdt Edythe/np called/vbd ``/`` the/at bosoms/nns of/in the/at church/nn ''/'' ./.\\nJohn/np did/dod find/vb the/at missing/vbg checks/nns and/cc money/nn afterward/rb ,/, and/cc the/at drive/nn was/bedz actually/rb oversubscribed/vbn ,/, which/wdt was/bedz a/at real/jj bit/nn of/in luck/nn for/in the/at missionaries/nns ./.\\n\\n\\n\\n\\nBeing/beg an/at intelligent/jj man/nn ,/, John/np must/md have/hv guessed/vbn what/wdt everyone/pn thought/vbd about/in Edythe/np ,/, but/cc he/pps never/rb let/vbd on/rp by/in so/ql much/ap as/cs a/at brave/jj smile/nn ./.\\nPoor/jj John/np was/bedz the/at kind/nn of/in stock/nn that/wps keeps/vbz a/at bargain/nn without/in whimpering/vbg and/cc maybe/rb bends/vbz over/rp backward/rb to/to keep/vb a/at bad/jj one/pn ./.\\nHe/pps was/bedz an/at attentive/jj and/cc generous/jj husband/nn ,/, overgenerous/jj ,/, a/at lot/nn of/in people/nns felt/vbd ,/, because/cs they/ppss knew/vbd that/cs money/nn must/md be/be a/at problem/nn to/in him/ppo ./.\\nBut/cc he/pps got/vbd ahead/rb in/in business/nn :/: on/in leave/nn from/in his/pp$ job/nn to/in an/at important/jj Washington/np assignment/nn during/in the/at war/nn ;/. ;/.\\nafter/in the/at war/nn back/rb to/in the/at heir/nn apparency/nn of/in the/at steel/nn company/nn ./.\\n\\n\\n\\tThe/at Coopers/nps saw/vbd Bobbie/np and/cc Linda/np socially/rb ,/, but/cc no/at more/rbr than/cs was/bedz necessary/jj ./.\\nBobbie/np had/hvd been/ben successful/jj ,/, too/rb ,/, though/cs he/pps didn't/dod* match/vb John's/np$ pace/nn ,/, and/cc after/in all/abn he/pps didn't/dod* need/vb to/to ,/, with/in all/abn the/at Stuart/np money/nn ./.\\nHe/pps and/cc Linda/np settled/vbd down/rp to/in being/beg social/jj leaders/nns ,/, and/cc Linda/np managed/vbd to/to look/vb a/at little/ql more/ql beautiful/jj each/dt year/nn ./.\\n\\n\\n\\tAnd/cc then/rb came/vbd the/at hairpin/nn turn/nn ,/, the/at smashed/vbn Jaguar/np and/cc Linda/np ,/, mourning/vbg alone/rb and/cc lovely/jj ./.\\n\\n\\n\\tEveryone/pn held/vbd his/pp$ or/cc her/pp$ breath/nn ./.\\n\\n\\n\\t``/`` Don't/do* think/vb Linda/np couldn't/md* have/hv got/vbn John/np back/rb any/dti time/nn ,/, if/cs she'd/pps+hvd tried/vbn ''/'' ,/, Mousie/np Gordon/np ,/, who/wps had/hvd been/ben Mousie/np Chandler/np ,/, said/vbd between/in bites/nns of/in a/at chicken/nn sandwich/nn at/in a/at luncheon/nn table/nn at/in Le/np Mont/np ./.\\n``/`` Now/rb you/ppss know/vb she/pps could've/md+hv ,/, but/cc she/pps isn't/bez* that/dt kind/nn of/in girl/nn ./.\\nBut/cc now/rb --/-- well/uh ,/, it/pps would/md be/be a/at blessing/nn ,/, I/ppss think/vb ./.\\nPoor/jj John/np ''/'' ./.\\n\\n\\n\\tLinda/np Evans/np felt/vbd more/ql wretched/jj than/cs she/pps had/hvd ever/rb dreamed/vbn Bobbie's/np$ death/nn could/md move/vb her/ppo to/in feeling/vbg ./.\\nWhat/wdt she/pps felt/vbd was/bedz a/at bone-deep/jj loss/nn with/in a/at sense/nn of/in waste/nn to/in it/ppo ,/, not/* so/ql much/ap sorrow/nn for/in handsome/jj ,/, ambitious/jj Bobbie/np ,/, but/cc for/in the/at lost/vbn years/nns that/wps had/hvd been/ben brought/vbn into/in high/jj relief/nn by/in his/pp$ death/nn ./.\\n\\n\\n\\tShe/pps knew/vbd what/wdt people/nns were/bed thinking/vbg ;/. ;/.\\nit/pps was/bedz what/wdt she/pps had/hvd been/ben thinking/vbg herself/ppl ./.\\nIt/pps was/bedz up/rp to/in her/ppo to/to save/vb Poor/jj-tl John/np-tl ,/, dear/jj John/np ,/, to/to undo/vb the/at wrong/jj she/pps had/hvd done/vbn ,/, but/cc she/pps trembled/vbd at/in the/at decision/nn as/cs at/in the/at brink/nn of/in a/at cold/jj stream/nn ./.\\n\\n\\n\\tThere/ex was/bedz no/at one/pn who/wps would/md blame/vb her/ppo or/cc John/np ;/. ;/.\\nshe/pps could/md be/be sure/jj of/in that/dt ./.\\nIt/pps might/md be/be rough/jj on/in Edythe/np at/in first/od ,/, but/cc Linda/np and/cc John/np between/in them/ppo could/md make/vb a/at settlement/nn handsome/jj enough/qlp to/to soothe/vb her/ppo ,/, to/to send/vb her/ppo back/rb to/in Cleveland/np or/cc anywhere/rb ./.\\nAnd/cc Linda/np felt/vbd capable/jj of/in capturing/vbg the/at affection/nn of/in the/at children/nns ,/, anxious/jj even/rb ,/, since/cs she/pps and/cc Bobbie/np had/hvd had/hvn none/pn of/in their/pp$ own/jj ./.\\nIt/pps would/md be/be good/jj for/in them/ppo to/to have/hv a/at mother/nn they/ppss need/md not/* be/be ashamed/jj of/in ./.\\n\\n\\n\\tLinda/np would/md have/hv to/to wait/vb ,/, she/pps knew/vbd ./.\\nBut/cc what/wdt was/bedz a/at decent/jj six/cd months/nns or/cc so/rb after/cs the/at more/ap than/in twenty/cd years/nns gone/vbn by/rb ?/. ?/.\\nYears/nns of/in watching/vbg while/cs Poor/jj-tl John/np-tl struggled/vbd without/in the/at help/nn and/cc understanding/nn of/in the/at kind/nn of/in wife/nn a/at man/nn needed/vbd to/to get/vb ahead/rb ./.\\nOf/in course/nn ,/, he/pps had/hvd done/vbn wonders/nns ./.\\n\\n\\n\\n\\nAlloy/nn steels/nns and/cc regular/jj steels/nns had/hvd different/jj sales/nns departments/nns at/in Smith/np-tl &/cc-tl MacIsaacs/np-tl ,/, where/wrb John/np and/cc Bobbie/np both/abx worked/vbd ./.\\nBobbie/np had/hvd been/ben head/nn of/in the/at alloy/nn division/nn ,/, while/cs John/np was/bedz just/rb another/dt good/nn salesman/nn in/in the/at regular/jj branch/nn ./.\\nSo/cs when/wrb old/jj Mr./np Lovejoy/np ,/, the/at company/nn president/nn ,/, talked/vbd about/in putting/vbg in/in a/at single/ap sales/nns manager/nn for/in both/abx branches/nns after/in the/at head/nn of/in the/at regular/jj steels/nns had/hvd gone/vbn with/in Carnegie-Illinois/np ,/, it/pps looked/vbd like/cs the/at perfect/jj chance/nn for/in Bobbie/np ./.\\nFor/cs Linda/np knew/vbd how/wrb to/to help/vb her/pp$ husband/nn ,/, not/* just/rb the/at Stuart-family/jj contacts/nns but/cc also/rb the/at little/jj dinners/nns for/in Reuben/np Lovejoy/np ./.\\n\\n\\n\\tShe/pps was/bedz almost/ql sick/jj when/wrb Bobbie/np came/vbd home/nr with/in the/at news/nn that/cs Poor/jj-tl John/np-tl had/hvd won/vbn the/at job/nn ./.\\n``/`` What/wdt did/dod you/ppo do/do ''/'' ?/. ?/.\\nShe/pps asked/vbd Bobbie/np ./.\\n``/`` You/ppss must/md have/hv done/vbn something/pn ,/, something/pn wrong/jj ./.\\nLord/nn-tl knows/vbz I/ppss had/hvd everything/pn set/vbn for/in you/ppo ''/'' ./.\\n\\n\\n\\tBobbie/np said/vbd something/pn about/in damned/vbn Pittsburghers/nps sticking/vbg together/rb ,/, and/cc Linda/np got/vbd angry/jj at/in him/ppo ./.\\nThey/ppss had/hvd their/pp$ first/od real/jj fight/nn ,/, and/cc Bobbie/np went/vbd off/rp to/to get/vb drunk/jj ./.\\n\\n\\n\\tLinda/np dragooned/vbd her/pp$ uncle/nn ,/, Donald/np Murkland/np ,/, into/in a/at lunch/nn the/at next/ap day/nn to/to find/vb out/rp what/wdt had/hvd happened/vbn ./.\\nHe/pps was/bedz a/at director/nn of/in S./np-tl &/cc-tl M./np-tl and/cc must/md have/hv been/ben in/in on/in the/at decision/nn ./.\\nBut/cc jolly/jj old/jj Uncle/nn-tl Donald/np would/md tell/vb her/ppo no/rb more/ap than/cs that/cs Bobbie/np had/hvd certainly/rb been/ben considered/vbn for/in the/at job/nn ,/, but/cc there/ex were/bed factors/nns in/in a/at large/jj company/nn which/wdt outsiders/nns and/cc even/rb some/dti insiders/nns couldn't/md* understand/vb ./.\\n\\n\\n\\tHe/pps didn't/dod* tell/vb her/ppo of/in the/at long/jj board/nn meeting/nn where/wrb Bobbie/np and/cc John/np were/bed weighed/vbn one/pn against/in the/at other/ap ./.\\n\\n\\n\\t``/`` I'm/ppss+bem behind/in John/np Cooper/np ''/'' ,/, Mr./np Lovejoy/np said/vbd finally/rb ./.\\n``/`` I/ppss think/vb we're/ppss+ber agreed/vbn that/cs he/pps and/cc Evans/np are/ber equal/jj in/in ability/nn ,/, so/cs we/ppss have/hv to/to look/vb at/in the/at thing/nn in/in terms/nns of/in incentive/nn ./.\\n\\n\\n\\t``/`` Now/rb ,/, I/ppss believe/vb Poor/jj-tl John'll/np+md work/vb just/rb a/at little/ap harder/rbr ./.\\nWith/in that/dt wife/nn of/in his/pp$$ ,/, I/ppss think/vb he/pps feels/vbz every/at chance/nn he/pps gets/vbz is/bez his/pp$ big/jj chance/nn ./.\\nBobbie/np ,/, with/in Linda/np behind/in him/ppo ,/, will/md have/hv plenty/nn of/in other/ap opportunities/nns ./.\\nAnd/cc also/rb ,/, the/at money/nn can't/md* mean/vb as/ql much/rb to/in Bobbie/np ./.\\n\\n\\n\\t``/`` Bobbie/np will/md take/vb the/at job/nn as/cs his/pp$ just/jj reward/nn and/cc work/vb hard/rb at/in it/ppo ;/. ;/.\\nPoor/jj-tl John/np will/md take/vb it/ppo as/cs a/at miracle/nn and/cc have/hv every/at other/ap independent/jj steel/nn company/nn sitting/vbg up/rp nights/nns worrying/vbg about/in us/ppo ''/'' ./.\\n\\n\\n\\tMost/ap of/in the/at directors/nns nodded/vbd ./.\\nUncle/np Donald/np Murkland/np found/vbd himself/ppl nodding/vbg agreement/nn too/rb ./.\\n\\n\\n\\tAfter/cs the/at surprise/nn was/bedz over/rp ,/, Linda/np was/bedz almost/ql as/ql pleased/vbn as/cs anyone/pn with/in John's/np$ good/jj luck/nn ,/, though/cs she/pps agreed/vbd with/in Bobbie's/np$ decision/nn some/dti months/nns later/rbr to/to move/vb to/in Funk/np-tl Furnaces/nns-tl ./.\\nThe/at job/nn at/in Funk/np wasn't/bedz* particularly/ql better/jjr ,/, but/cc it/pps got/vbd him/ppo away/rb from/in being/beg subordinate/jj to/in John/np and/cc assured/vbd him/ppo steady/jj advancement/nn ,/, since/cs Funk/np was/bedz owned/vbn to/in a/at large/jj degree/nn by/in various/jj branches/nns of/in Linda's/np$ family/nn ./.\\n\\n\\n\\tPoor/jj-tl John's/np$-tl rise/nn continued/vbd to/to be/be meteoric/jj ./.\\nWhen/wrb he/pps was/bedz made/vbn a/at vice/nn president/nn only/rb a/at year/nn after/in the/at new/jj sales/nns job/nn ,/, a/at leading/vbg business/nn magazine/nn ran/vbd his/pp$ photograph/nn with/in a/at brief/jj biography/nn in/in a/at series/nn on/in national/jj business/nn leaders/nns of/in the/at future/nn ./.\\n\\nShe/pps called/vbd then/rb to/to say/vb she/pps had/hvd a/at baby-sitter/nn for/in that/dt night/nn ./.\\n``/`` Shirley/np appreciated/vbd the/at chance/nn to/to make/vb some/dti money/nn ./.\\nSuch/abl a/at nice/jj little/jj thing/nn --/-- lives/vbz right/ql in/in the/at building/nn ''/'' ./.\\n\\n\\n\\t``/`` That's/dt+bez swell/jj ''/'' ,/, I/ppss said/vbd sweetly/rb ./.\\nI/ppss could/md get/vb along/rb without/in that/dt three/cd dollars/nns ./.\\nIn/in some/dti ways/nns it/pps was/bedz worth/jj being/beg out/in the/at money/nn --/-- just/rb knowing/vbg I/ppss was/bedz no/at longer/jjr obligated/vbd to/in Nadine/np !/. !/.\\n\\n\\n\\tIt/pps was/bedz past/in midnight/nn and/cc we/ppss were/bed in/in bed/nn when/wrb the/at phone/nn rang/vbd ./.\\nI/ppss stumbled/vbd through/in the/at hall/nn ,/, wondering/vbg who/wps would/md be/be calling/vbg at/in this/dt hour/nn ./.\\nI/ppss answered/vbd to/to find/vb Nadine/np at/in the/at other/ap end/nn ./.\\n``/`` You/ppss scared/vbd me/ppo half/abn to/in death/nn ''/'' ,/, I/ppss said/vbd shakily/rb ./.\\n``/`` What's/wdt+bez wrong/jj ''/'' ?/. ?/.\\n\\n\\n\\t``/`` Janice/np ,/, nobody/pn answers/vbz at/in the/at apartment/nn ''/'' !/. !/.\\nHer/pp$ voice/nn came/vbd shrill/jj ./.\\n``/`` I'm/ppss+bem absolutely/ql frantic/jj !/. !/.\\nThat/dt stupid/jj girl/nn might/md have/hv gone/vbn off/rp and/cc left/vbd Francie/np ''/'' !/. !/.\\n\\n\\n\\t``/`` Oh/uh ,/, she/pps wouldn't/md* do/do that/dt ''/'' ,/, I/ppss said/vbd ./.\\n``/`` She's/pps+hvz probably/rb fallen/vbn asleep/rb and/cc doesn't/doz* hear/vb the/at phone/nn ./.\\nBut/cc if/cs you're/ppss+ber worried/vbn you/ppss can/md go/vb home/nr and/cc check/vb ''/'' --/-- \\n\\n\\t``/`` I/ppss can't/md* leave/vb the/at party/nn !/. !/.\\nWe're/ppss+ber at/in Ken/np Thom's/np$ apartment/nn ,/, and/cc when/wrb one/cd couple/nn leaves/vbz early/rb everything/pn falls/vbz flat/rb !/. !/.\\nOld/jj Mr./np Thom/np is/bez already/rb down/in on/in Wally/np ,/, and/cc we/ppss simply/rb can't/md* afford/vb to/to get/vb Ken/np mad/jj at/in us/ppo ''/'' --/-- \\n\\n\\tI/ppss was/bedz all/ql set/vbn for/in what/wdt came/vbd next/ap ./.\\n``/`` Janice/np ,/, could/md you/ppss possibly/rb go/vb over/rp and/cc make/vb sure/jj everything's/pn+bez all/ql right/jj ?/. ?/.\\nI'll/ppss+md call/vb you/ppo there/rb in/in ten/cd minutes/nns ''/'' --/-- \\n\\n\\t``/`` I/ppss can't/md* make/vb it/ppo in/in ten/cd minutes/nns ''/'' --/-- Wondering/vbg ,/, as/cs I/ppss said/vbd it/ppo ,/, why/wrb I/ppss should/md make/vb it/ppo at/in all/abn ./.\\nWhy/wrb should/md I/ppss go/vb over/rp at/in midnight/nn to/to check/vb on/in Francie/np ,/, when/wrb her/pp$ parents/nns didn't/dod* care/vb enough/ap to/to leave/vb a/at party/nn ?/. ?/.\\n\\n\\n\\t``/`` Fifteen/cd minutes/nns ,/, then/rb !/. !/.\\nPlease/uh ,/, Janice/np ./.\\nI'll/ppss+md be/be glad/jj to/to pay/vb you/ppo ''/'' --/-- \\n\\n\\tSo/ql sure/jj that/dt money/nn could/md do/do anything/pn !/. !/.\\n``/`` All/ql right/rb ''/'' ,/, I/ppss said/vbd ./.\\nI'd/ppss+md do/do it/ppo ./.\\nNot/* for/in the/at dollar/nn or/cc so/rb Nadine/np would/md give/vb me/ppo ./.\\nBut/cc because/cs there/ex was/bedz the/at chance/nn that/cs something/pn had/hvd gone/vbn wrong/jj at/in the/at apartment/nn ,/, and/cc if/cs I/ppss didn't/dod* go/vb over/rp ,/, who/wps would/md ?/. ?/.\\n\\n\\n\\n\\nChris/np was/bedz sound/jj asleep/rb ,/, and/cc I/ppss didn't/dod* see/vb any/dti sense/nn in/in waking/vbg him/ppo ./.\\nI/ppss dressed/vbd in/in the/at kitchen/nn ,/, then/rb left/vbd a/at note/nn on/in the/at table/nn telling/vbg him/ppo what/wdt had/hvd happened/vbn ./.\\nI/ppss drove/vbd off/rp through/in the/at cool/jj darkness/nn to/in Nadine's/np$ apartment/nn and/cc rang/vbd the/at bell/nn ,/, and/cc in/in a/at few/ap seconds/nns a/at young/jj girl/nn opened/vbd the/at door/nn ./.\\nHer/pp$ face/nn was/bedz flushed/vbn from/in sleep/nn ./.\\n``/`` It's/pps+bez all/ql right/rb ''/'' ,/, I/ppss said/vbd ,/, as/cs she/pps started/vbd to/to look/vb scared/vbn ./.\\n``/`` Mrs./np Roberts/np had/hvd called/vbn ,/, and/cc couldn't/md* wake/vb you/ppo ./.\\nI/ppss just/rb came/vbd over/rp to/to make/vb sure/jj everything/pn was/bedz all/ql right/rb ''/'' ./.\\n\\n\\n\\t``/`` I'm/ppss+bem --/-- hard/jj to/to wake/vb up/rp ''/'' ,/, she/pps faltered/vbd ./.\\nShe/pps didn't/dod* look/vb over/in thirteen/cd ./.\\nAnd/cc Nadine/np insisted/vbd that/cs her/pp$ sitters/nns be/be reliable/jj !/. !/.\\n``/`` I/ppss have/hv to/to get/vb up/rp early/rb for/in church/nn tomorrow/nr ''/'' ,/, she/pps went/vbd on/rp ./.\\n``/`` I/ppss didn't/dod* know/vb it/pps was/bedz going/vbg to/to be/be this/dt late/jj ''/'' !/. !/.\\n\\n\\n\\tThe/at phone/nn started/vbd ringing/vbg ./.\\n``/`` That's/dt+bez Mrs./np Roberts/np again/rb ''/'' ,/, I/ppss said/vbd ./.\\n``/`` I'll/ppss+md answer/vb it/ppo ''/'' ./.\\nI/ppss crossed/vbd the/at beautifully/rb furnished/vbn living/nn room/nn to/in the/at pale/jj yellow/jj phone/nn ./.\\nI/ppss told/vbd Nadine/np everything/pn was/bedz fine/jj ,/, and/cc that/cs I'd/ppss+md be/be getting/vbg on/in home/nr ./.\\n\\n\\n\\t``/`` Janice/np ,/, would/md you/ppss mind/vb staying/vbg ''/'' ?/. ?/.\\nThere/ex was/bedz a/at ragged/jj edge/nn to/in her/pp$ voice/nn now/rb ,/, as/cs if/cs she'd/pps+hvd been/ben crying/vbg ./.\\n``/`` Wally's/np+bez drunk/jj --/-- I'll/ppss+md get/vb him/ppo out/in of/in here/rb as/ql soon/rb as/cs I/ppss possibly/rb can/md ,/, but/cc I/ppss don't/do* want/vb Shirley/np to/to see/vb him/ppo like/cs this/dt ./.\\nYou/ppss know/vb how/wrb gossip/nn of/in that/dt sort/nn spreads/vbz through/in an/at apartment/nn building/nn ''/'' --/-- \\n\\n\\tNot/* a/at word/nn of/in thanks/nns for/in what/wdt I'd/ppss+hvd already/rb done/vbn ./.\\nThe/at receiver/nn clicked/vbd in/in my/pp$ ear/nn ./.\\nShe/pps didn't/dod* even/vb give/vb me/ppo a/at chance/nn to/to refuse/vb ./.\\nWell/uh ,/, there/ex wasn't/bedz* any/dti law/nn that/wps said/vbd I/ppss had/hvd to/to stay/vb !/. !/.\\nBut/cc then/rb I/ppss looked/vbd at/in Shirley/np and/cc thought/vbd that/cs I/ppss might/md as/ql well/rb --/-- the/at child/nn needed/vbd her/pp$ sleep/nn ,/, and/cc Heaven/nn-tl knew/vbd what/wdt kind/nn of/in a/at mess/nn it/pps would/md be/be ,/, with/in Wally/np coming/vbg home/nr drunk/jj ./.\\nSo/cs I/ppss told/vbd her/ppo Mrs./np Roberts/np would/md pay/vb her/ppo in/in the/at morning/nn ,/, and/cc she/pps scooted/vbd off/rp to/in her/pp$ own/jj apartment/nn ./.\\n\\n\\n\\tAfter/cs I/ppss looked/vbd in/rp at/in Francie/np ,/, I/ppss went/vbd into/in the/at living/nn room/nn and/cc waited/vbd ./.\\nI/ppss must/md have/hv dozed/vbn off/rp ,/, because/cs I/ppss came/vbd to/in with/in a/at start/nn at/in the/at sound/nn of/in voices/nns ./.\\nNadine's/np$ ,/, shrill/jj with/in anger/nn --/-- Wally's/np$ loud/jj and/cc thick/jj --/-- As/cs I/ppss went/vbd to/in the/at door/nn I/ppss heard/vbd the/at clock/nn strike/nn two/cd ./.\\nI/ppss opened/vbd the/at door/nn ,/, and/cc Wally/np stumbled/vbd in/rp --/-- fast/rb --/-- as/cs if/cs Nadine/np had/hvd pushed/vbn him/ppo ./.\\n\\n\\n\\tI/ppss had/hvd always/rb thought/vbn she/pps was/bedz so/ql beautiful/jj ./.\\nBut/cc now/rb she/pps looked/vbd ugly/jj ./.\\nHer/pp$ skin/nn was/bedz stretched/vbn so/ql tight/jj that/cs her/pp$ cheekbones/nns stuck/vbd out/rp ,/, and/cc if/cs looks/nns could/md kill/vb ,/, Wally/np would/md have/hv been/ben dead/jj ./.\\n``/`` Pack/vb your/pp$ clothes/nns ''/'' ,/, she/pps hissed/vbd ./.\\n``/`` Pack/vb --/-- and/cc get/vb out/rp ''/'' !/. !/.\\n\\n\\n\\t``/`` You're/ppss+ber crazy/jj ''/'' ,/, Wally/np said/vbd thickly/rb ./.\\nHe/pps lurched/vbd and/cc stumbled/vbd to/in the/at davenport/nn and/cc sank/vbd down/rp on/in it/ppo ,/, and/cc was/bedz instantly/rb asleep/rb ./.\\nNadine/np strode/vbd over/rp to/in him/ppo ,/, and/cc her/pp$ pointed/vbn nails/nns raked/vbd across/in his/pp$ face/nn ./.\\nI/ppss grabbed/vbd her/pp$ arm/nn and/cc she/pps turned/vbd on/in me/ppo and/cc for/in a/at scared/vbn second/od I/ppss thought/vbd that/cs maybe/rb Wally/np was/bedz right/jj ,/, and/cc she/pps was/bedz crazy/jj ./.\\n\\n\\n\\t``/`` You/ppss stay/vb out/in of/in this/dt ''/'' ,/, she/pps spat/vbd at/in me/ppo ./.\\n``/`` He's/pps+hvz ruined/vbn us/ppo --/-- do/do you/ppo hear/vb me/ppo --/-- he's/pps+hvz ruined/vbn us/ppo !/. !/.\\nHe/pps insulted/vbd Ken/np Thom/np ''/'' !/. !/.\\nHer/pp$ eyes/nns were/bed wild/jj ./.\\n``/`` He/pps told/vbd Ken/np to/in his/pp$ face/nn that/cs he/pps doesn't/doz* have/hv what/wdt it/pps takes/vbz to/to get/vb a/at woman/nn !/. !/.\\nAnd/cc the/at other/ap people/nns there/rb were/bed listening/vbg !/. !/.\\nWe're/ppss+ber ruined/vbn and/cc he's/pps+bez going/vbg to/to get/vb out/rp if/cs I/ppss have/hv to/to throw/vb him/ppo down/in the/at stairs/nns ''/'' --/-- \\n\\n\\n\\n``/`` you'd/ppss+hvd better/rbr simmer/vb down/rp ''/'' ,/, I/ppss said/vbd nervously/rb ./.\\nI/ppss was/bedz plenty/rb scared/vbn ./.\\nIn/in the/at state/nn she/pps was/bedz in/in ,/, she/pps could/md actually/rb kill/vb him/ppo !/. !/.\\n``/`` Now/rb you/ppss just/rb take/vb it/ppo easy/rb ,/, and/cc I'll/ppss+md make/vb you/ppo some/dti tea/nn ''/'' --/-- \\n\\n\\t``/`` Tea/nn ,/, ''/'' Nadine/np screeched/vbd ./.\\n``/`` How/wrb can/md you/ppss be/be so/ql damn/jj stupid/jj ?/. ?/.\\nWally's/np+hvz lost/vbn his/pp$ job/nn !/. !/.\\nKen/np will/md never/rb forgive/vb him/ppo --/-- never/rb !/. !/.\\nAnd/cc we/ppss don't/do* have/hv any/dti money/nn --/-- we/ppss don't/do* have/hv a/at dime/nn !/. !/.\\nAll/abn we/ppss own/vb is/bez Francie's/np$ bedroom/nn set/nn and/cc the/at televison-record/nn player/nn and/cc we/ppss even/rb owe/vb on/in them/ppo ./.\\nAnd/cc we'll/ppss+md be/be poor/jj and/cc have/hv to/to live/vb in/in a/at grubby/jj little/ap house/nn like/cs yours/pp$$ --/-- and/cc all/abn because/cs of/in that/dt ''/'' --/-- \\n\\n\\tI/ppss clamped/vbd my/pp$ hand/nn over/in her/pp$ mouth/nn to/to stop/vb the/at stream/nn of/in filth/nn ./.\\n``/`` Stop/vb that/dt !/. !/.\\nYou'll/ppss+md wake/vb up/rp the/at whole/jj building/nn ./.\\nWally/np can't/md* go/vb any/dti place/nn at/in this/dt hour/nn ''/'' --/-- \\n\\n\\t``/`` Well/rb then/rb ,/, I'll/ppss+md get/vb out/rp ''/'' --/-- But/cc she/pps looked/vbd uncertain/jj ./.\\nShe/pps was/bedz coming/vbg to/to her/pp$ senses/nns enough/qlp to/to realize/vb that/cs you/ppss don't/do* go/vb traipsing/vbg off/rp anywhere/rb at/in two/cd in/in the/at morning/nn ./.\\n\\n\\n\\t``/`` You/ppss go/vb to/in bed/nn ''/'' ,/, I/ppss said/vbd curtly/rb ./.\\n``/`` In/in the/at morning/nn you/ppss and/cc Wally/np can/md talk/vb things/nns out/rp ''/'' --/-- \\n\\n\\tShe/pps collapsed/vbd against/in me/ppo ,/, as/cs if/cs everything/pn inside/in her/ppo snapped/vbd ./.\\nI/ppss got/vbd her/ppo into/in bed/nn ,/, and/cc sat/vbd with/in her/ppo until/cs she/pps had/hvd sobbed/vbn herself/ppl out/rp ./.\\nIt/pps was/bedz three/cd o'clock/rb before/cs I/ppss figured/vbd it/pps was/bedz all/ql right/jj to/to go/vb ./.\\nI/ppss left/vbd her/ppo ,/, a/at limp/jj bundle/nn of/in self-pity/nn ,/, shivering/vbg with/in terror/nn because/cs her/pp$ bubble/nn had/hvd burst/vbn around/in her/ppo ./.\\nWally/np was/bedz snoring/vbg on/in the/at davenport/nn ./.\\nI/ppss had/hvd done/vbn all/abn I/ppss could/md ./.\\nI/ppss had/hvd done/vbn all/abn I/ppss was/bedz going/vbg to/to do/do ./.\\nWhether/cs or/cc not/* Wally/np lost/vbd his/pp$ job/nn was/bedz no/at concern/nn of/in mine/pp$$ ./.\\nI/ppss drove/vbd home/nr ,/, found/vbd Chris/np still/rb asleep/rb ./.\\nI/ppss snuggled/vbd up/rp close/rb to/in him/ppo --/-- loving/vbg him/ppo --/-- thankful/jj for/in a/at man/nn like/cs him/ppo ./.\\nThankful/jj I/ppss wasn't/bedz* Nadine/np ./.\\n\\n\\n\\tI/ppss kept/vbd on/in being/beg thankful/jj ./.\\nIn/in the/at afternoon/nn Nadine/np and/cc Wally/np came/vbd over/rp with/in Francie/np ./.\\nWally/np sat/vbd in/in our/pp$ big/jj chair/nn ,/, his/pp$ hands/nns between/in his/pp$ knees/nns ,/, looking/vbg ready/jj to/to cry/vb ./.\\n``/`` I'd/ppss+hvd had/hvn all/abn this/dt trouble/nn with/in the/at old/jj man/nn ,/, that's/dt+bez why/wrb I/ppss drank/vbd so/ql much/ap ./.\\nI/ppss --/-- got/vbd fired/vbn yesterday/nr for/in not/* attending/vbg to/in business/nn ''/'' --/-- \\n\\n\\tOld/jj Mr./np Thom/np himself/ppl had/hvd stopped/vbn at/in the/at service/nn station/nn for/in a/at grease/nn job/nn ,/, Wally/np confessed/vbd ,/, and/cc couldn't/md* get/vb one/pn because/cs there/ex were/bed cars/nns on/in the/at pits/nns waiting/vbg to/to be/be repaired/vbn ./.\\nSeems/vbz that/cs the/at kid/nn Wally/np had/hvd hired/vbn had/hvd a/at repair/nn business/nn of/in his/pp$ own/jj going/vbg on/in the/at side/nn ./.\\nMr./np Thom/np had/hvd gotten/vbn Wally/np on/in the/at phone/nn ,/, and/cc fired/vbd him/ppo ./.\\n``/`` I/ppss thought/vbd I'd/ppss+md smooth/vb things/nns over/rp through/in Ken/np ''/'' ,/, Wally/np said/vbd miserably/rb ./.\\n``/`` But/cc Ken/np got/vbd coy/jj and/cc wouldn't/md* make/vb any/dti promises/nns ./.\\nAnd/cc I/ppss was/bedz plastered/vbn and/cc I/ppss blew/vbd my/pp$ stack/nn ''/'' --/-- \\n\\n\\t``/`` And/cc told/vbd him/ppo right/rb to/in his/pp$ face/nn he'd/pps+hvd never/rb slept/vbn with/in a/at woman/nn ''/'' !/. !/.\\nI/ppss tried/vbd to/to quiet/vb Nadine/np because/cs the/at children/nns were/bed there/rb ./.\\nBut/cc she/pps was/bedz beyond/in caring/vbg what/wdt she/pps said/vbd ./.\\n\\n\\n\\t``/`` Things/nns may/md smooth/vb over/rp yet/rb ''/'' ,/, Chris/np said/vbd ,/, his/pp$ nice/jj lean/jj face/nn grave/jj with/in honest/jj concern/nn ./.\\nBut/cc I/ppss couldn't/md* help/vb thinking/vbg that/cs Nadine/np and/cc Wally/np were/bed getting/vbg just/rb what/wdt they/ppss deserved/vbd ./.\\nNow/rb maybe/rb they'd/ppss+md realize/vb that/cs life/nn can/md be/be tough/jj ./.\\n\\n\\n\\n\\nWhen/wrb A/at bubble/nn breaks/vbz ,/, there's/ex+bez nothing/pn ./.\\nLittle/ap by/in little/ap ,/, during/in the/at week/nn ,/, Chris/np and/cc I/ppss discovered/vbd the/at crazy/jj unbelievable/jj way/nn Nadine/np and/cc Wally/np had/hvd lived/vbn ./.\\nThey/ppss had/hvd not/* only/rb spent/vbn every/at cent/nn --/-- they/ppss were/bed in/in debt/nn up/in to/in their/pp$ necks/nns ,/, owing/vbg on/in everything/pn they/ppss owned/vbd ./.\\n\\n\\n\\tOn/in top/nn of/in everything/pn else/rb they/ppss were/bed two/cd months/nns behind/rb on/in their/pp$ apartment/nn rent/nn ,/, and/cc the/at day/nn Wally/np received/vbd written/vbn notice/nn that/cs he/pps was/bedz fired/vbn ,/, they/ppss were/bed evicted/vbn ./.\\n\\n\\n\\tWorst/jjt of/in all/abn ,/, Wally/np had/hvd no/at training/nn for/in any/dti kind/nn of/in work/nn ./.\\nHe/pps had/hvd fallen/vbn into/in a/at soft/jj job/nn ,/, and/cc now/rb the/at job/nn was/bedz gone/vbn and/cc he/pps was/bedz stranded/vbn ./.\\n\\n\\n\\tChris/np fretted/vbd ./.\\n``/`` I/ppss wish/vb we/ppss were/bed in/in a/at position/nn to/to offer/vb a/at little/ap money/nn to/to tide/vb them/ppo over/rp ''/'' ./.\\n\\n\\n\\tI/ppss said/vbd I/ppss wished/vbd we/ppss were/bed ,/, too/rb ./.\\nIt/pps was/bedz easy/jj enough/qlp to/to say/vb it/ppo ,/, because/cs of/in course/nn we/ppss couldn't/md* spare/vb a/at cent/nn ./.\\nBut/cc Chris/np brightened/vbd up/rp like/cs a/at candle/nn ./.\\n``/`` I'm/ppss+bem glad/jj you/ppss feel/vb that/dt way/nn ,/, honey/nn ./.\\nThere/ex is/bez one/cd big/jj way/nn we/ppss can/md help/vb them/ppo ./.\\nWe/ppss can/md let/vb them/ppo move/vb in/in with/in us/ppo ''/'' --/-- \\n\\n\\tSomething/pn I/ppss had/hvd simply/rb never/rb thought/vbn of/in ./.\\nSomething/pn so/ql incredible/jj --/-- \\n\\n\\tI/ppss just/rb stared/vbd at/in him/ppo ./.\\nIt/pps was/bedz incredible/jj --/-- He/pps gave/vbd me/ppo an/at embarrassed/vbn ,/, pleading/vbg look/nn ./.\\n``/`` I/ppss know/vb we'd/ppss+md be/be pretty/ql crowded/vbn ./.\\nBut/cc it/pps would/md only/rb be/be for/in a/at couple/nn of/in weeks/nns --/-- until/cs they/ppss get/vb straightened/vbn out/rp ''/'' ./.\\n\\n\\n\\tStraightened/vbn out/rp --/-- They'd/ppss+hvd had/hvn years/nns of/in making/vbg all/abn that/dt money/nn !/. !/.\\n``/`` I/ppss won't/md* do/do it/ppo ''/'' ,/, I/ppss said/vbd flatly/rb ./.\\n``/`` Nadine/np was/bedz always/rb too/ql good/jj to/to live/vb in/in a/at little/ap house/nn like/cs this/dt !/. !/.\\nWell/uh ,/, now/rb she/pps can/md sleep/vb in/in the/at street/nn for/cs all/abn I/ppss care/vb ''/'' !/. !/.\\n\\n\\n\\t``/`` That/dt isn't/bez* like/cs you/ppss ,/, Janice/np ''/'' ,/, Chris/np said/vbd uncomfortably/rb ./.\\nThen/rb I/ppss felt/vbd uncomfortable/jj ,/, too/rb ./.\\nI/ppss didn't/dod* want/vb to/to be/be like/cs that/dt ,/, mean/jj and/cc bitter/jj ./.\\nBut/cc ,/, darn/vb it/ppo all/abn ,/, why/wrb should/md we/ppss help/vb a/at couple/nn of/in spoiled/vbn snobs/nns who/wps had/hvd looked/vbn down/in their/pp$ noses/nns at/in us/ppo ?/. ?/.\\n\\n\\n\\tBut/cc ,/, in/in the/at end/nn ,/, we/ppss did/dod ./.\\nIt/pps just/rb seemed/vbd as/cs if/cs there/ex was/bedz nothing/pn else/rb to/to do/do ./.\\nThe/at finance/nn company/nn took/vbd all/abn their/pp$ furniture/nn --/-- and/cc they/ppss didn't/dod* have/hv a/at cent/nn to/in their/pp$ name/nn ./.\\n\\n\\n\\tThen/jj Wally/np got/vbd sick/jj ./.\\nTo/in my/pp$ way/nn of/in thinking/vbg ,/, he/pps was/bedz scared/vbn sick/jj ./.\\nHis/pp$ luck/nn had/hvd failed/vbn him/ppo ,/, and/cc it/pps was/bedz easier/rbr to/to crawl/vb off/rp into/in bed/nn than/cs to/to get/vb out/rp and/cc fight/vb the/at world/nn ./.\\n\\n\\n\\tChris/np made/vbd trip/nn after/in trip/nn in/in our/pp$ old/jj car/nn ,/, moving/vbg the/at clothes/nns and/cc dishes/nns and/cc the/at stock/nn of/in groceries/nns Nadine/np had/hvd bought/vbn on/in special/nn ./.\\nAt/in least/ap we'll/ppss+md eat/vb ,/, I/ppss thought/vbd grimly/rb as/cs I/ppss put/vbd all/abn the/at food/nn away/rb ./.\\n\\n\\n\\tWhile/cs I/ppss worked/vbd ,/, Nadine/np sat/vbd and/cc cried/vbd ./.\\nWhen/wrb she/pps wasn't/bedz* crying/vbg ,/, she/pps was/bedz in/in our/pp$ bedroom/nn fighting/vbg with/in Wally/np ./.\\n``/`` Virus/nn infection/nn nothing/pn ''/'' ,/, she'd/pps+md scream/vb at/in him/ppo ./.\\n``/`` You're/ppss+ber too/ql lazy/jj to/to go/vb out/rp and/cc look/vb for/in another/dt job/nn ./.\\nYou're/ppss+ber just/rb a/at no-good/jj bum/nn ''/'' !/. !/.\\n\\n\\n\\tIt/pps was/bedz a/at mess/nn ,/, all/ql right/rb ./.\\nBut/cc it/pps couldn't/md* go/vb on/rp forever/rb --/-- A/at couple/nn of/in weeks/nns ,/, Chris/np had/hvd said/vbn ./.\\nI/ppss figured/vbd I/ppss could/md stand/vb practically/rb anything/pn for/in a/at couple/nn of/in weeks/nns ./.\\n\\n\\n\\tBut/cc the/at two/cd weeks/nns dragged/vbd into/in three/cd ,/, and/cc they/ppss were/bed still/rb with/in us/ppo ./.\\nNadine's/np$ constant/jj nagging/nn had/hvd finally/rb gotten/vbn Wally/np out/in of/in bed/nn ./.\\nHe/pps set/vbd out/rp every/at morning/nn looking/vbg for/in work/nn ,/, and/cc come/vb home/nr around/in noon/nn ,/, full/jj of/in alibis/nns and/cc excuses/nns ./.\\nWendell/np Thom/np had/hvd black-balled/vbn him/ppo ./.\\nNobody/pn would/md even/rb take/vb his/pp$ application/nn ./.\\n\\n\\n\\t``/`` You/ppss can/md get/vb something/pn ,/, ''/'' Nadine/np would/md snap/vb ./.\\n``/`` You/ppss can/md get/vb a/at job/nn working/vbg in/in a/at grocery/nn store/nn ,/, if/cs nothing/pn else/rb ''/'' ./.\\n\\n\\n\\t``/`` The/at high/jj school/nn kids/nns have/hv got/vbn everything/pn sewed/vbn up/rp ''/'' ,/, he/pps said/vbd ,/, a/at whine/nn in/in his/pp$ voice/nn ./.\\n``/`` Those/dts damn/jj punks/nns --/-- taking/vbg work/nn away/rb from/in men/nns who/wps need/vb it/ppo ''/'' ./.\\n\\n\\n\\n\\n``/`` By/in fall/nn they'll/ppss+md be/be back/rb in/in school/nn ''/'' ,/, I'd/ppss+md say/vb ,/, trying/vbg to/to sound/vb encouraging/jj ./.\\nBut/cc this/dt was/bedz only/rb the/at middle/nn of/in July/np ./.\\n\\n\\n\\tAnd/cc I/ppss couldn't/md* take/vb six/cd more/ap weeks/nns of/in this/dt ./.\\nI/ppss mentioned/vbd it/ppo to/in Chris/np one/cd stifling/vbg hot/jj night/nn ,/, when/wrb I/ppss had/hvd slipped/vbn outside/rb for/in a/at breath/nn of/in fresh/jj air/nn ./.\\n\\n\\n\\n\\n\\nI/ppss don't/do* really/rb believe/vb in/in intuition/nn ./.\\nBut/cc I/ppss swear/vb to/in you/ppo from/in the/at moment/nn I/ppss opened/vbd my/pp$ eyes/nns ,/, I/ppss knew/vbd it/pps was/bedz going/vbg to/to be/be a/at bad/jj day/nn ./.\\nPart/nn of/in it/ppo was/bedz the/at weather/nn ,/, so/ql foggy/jj it/pps would/md take/vb me/ppo twice/rb as/ql long/jj to/to get/vb to/in the/at hospital/nn ./.\\nPart/nn of/in it/ppo was/bedz being/beg so/ql tired/vbn --/-- I'd/ppss+hvd not/* only/rb had/hvn my/pp$ usual/jj full/jj day/nn yesterday/nr ,/, but/cc a/at dinner/nn meeting/nn as/ql well/rb ,/, that/wps kept/vbd me/ppo up/rp late/rb ./.\\nBut/cc the/at rest/nn of/in it/ppo ,/, the/at main/jjs part/nn ,/, wasn't/bedz* based/vbn on/in logic/nn at/in all/abn ./.\\nIt/pps was/bedz just/rb going/vbg to/to be/be one/pn of/in those/dts days/nns ./.\\n\\n\\n\\tFor/in the/at thousandth/od time/nn ,/, I/ppss wished/vbd I'd/ppss+hvd chosen/vbn some/dti nice/jj ,/, nine-to-five/jj ,/, five-days-a-week/jj profession/nn ./.\\nAnd/cc for/in the/at thousandth/od time/nn ,/, I/ppss answered/vbd myself/ppl ./.\\nI/ppss hadn't/hvd* chosen/vbn medicine/nn --/-- it/pps had/hvd chosen/vbn me/ppo ./.\\n\\n\\n\\tActually/rb ,/, I/ppss shouldn't/md* complain/vb ,/, I/ppss told/vbd myself/ppl in/in the/at shaving/vbg mirror/nn ./.\\nI/ppss had/hvd a/at lot/nn to/to be/be thankful/jj for/in ./.\\nA/at profession/nn that/wps brought/vbd me/ppo as/ql good/jj an/at income/nn as/cs mine/pp$$ wasn't/bedz* to/to be/be sneezed/vbn at/in ./.\\nMaybe/rb I/ppss didn't/dod* see/vb as/ql much/ap of/in Gladdy/np as/cs I'd/ppss+md like/vb ,/, but/cc how/wrb much/ql worse/jjr it/pps would/md have/hv been/ben if/cs I'd/ppss+hvd had/hvn to/to board/vb her/ppo out/rp somewhere/rb after/in Alice/np went/vbd --/-- send/vb my/pp$ daughter/nn to/in an/at orphanage/nn or/cc a/at boarding-home/nn ./.\\nAt/in least/ap ,/, we/ppss were/bed together/rb and/cc we/ppss had/hvd Mrs./np Hodges/np ,/, bless/vb her/ppo ,/, to/to look/vb after/in us/ppo --/-- no/at mother/nn could/md be/be fonder/jjr of/in Gladdy/np than/cs Mrs./np Hodges/np was/bedz ./.\\nI/ppss was/bedz lucky/jj in/in lots/nns of/in ways/nns ,/, no/at doubt/nn about/in it/ppo ./.\\n\\n\\n\\tEspecially/rb in/in the/at way/nn Gladdy/np had/hvd turned/vbn out/rp ./.\\nGrowing/vbg up/rp without/in a/at mother/nn from/in the/at time/nn she/pps was/bedz three/cd --/-- it/pps wasn't/bedz* a/at good/jj thing/nn for/in a/at child/nn ,/, even/rb knowing/vbg the/at kind/nn of/in mother/nn Alice/np had/hvd been/ben ./.\\nBut/cc I/ppss mustn't/md* start/vb on/in Alice/np ./.\\nShe/pps is/bez a/at closed/vbn book/nn ,/, a/at picture/nn I/ppss keep/vb on/in my/pp$ bureau/nn ,/, but/cc never/rb look/vb at/in ./.\\nIf/cs she'd/pps+hvd kept/vbn on/rp as/cs she'd/pps+hvd been/ben going/vbg ,/, the/at story/nn I'd/ppss+hvd told/vbn Gladdy/np would/md probably/rb have/hv been/ben true/jj by/in now/rb ,/, anyhow/rb \\n\\n\\tAs/ql usual/jj ,/, Gladdy's/np$ bright/jj smile/nn greeted/vbd me/ppo at/in the/at breakfast/nn table/nn ./.\\nHer/pp$ first/od class/nn wasn't/bedz* until/in ten/cd ,/, but/cc she/pps always/rb got/vbd up/rp to/to have/hv breakfast/nn with/in me/ppo ./.\\nIt/pps made/vbd me/ppo feel/vb good/rb and/cc knowing/vbg that/cs she'd/pps+hvd decided/vbn ,/, all/abn on/in her/pp$ own/jj ,/, to/to go/vb to/in college/nn right/ql here/rb in/in town/nn made/vbd me/ppo feel/vb good/rb ,/, too/rb ./.\\nOh/uh ,/, I/ppss knew/vbd that/cs I/ppss couldn't/md* give/vb myself/ppl all/abn the/at credit/nn for/in her/pp$ decision/nn ./.\\nI/ppss had/hvd a/at feeling/nn that/ql young/jj Pete/np Michelson/np ,/, the/at most/ql promising/jj intern/nn at/in Fairview/np ,/, had/hvd something/pn to/to do/do with/in it/ppo ,/, too/rb ./.\\n\\n\\n\\tShe'd/pps+hvd been/ben out/rp with/in Pete/np the/at night/nn before/rb and/cc her/pp$ gay/jj chatter/nn about/in their/pp$ date/nn lightened/vbd my/pp$ mood/nn a/at little/ap ./.\\nBut/cc once/cs I/ppss was/bedz alone/rb again/rb ,/, driving/vbg to/in the/at hospital/nn ,/, the/at heaviness/nn returned/vbd ./.\\nIf/cs she/pps and/cc Pete/np were/bed really/rb getting/vbg serious/jj ,/, I'd/ppss+md have/hv to/to do/do some/dti hard/jj thinking/nn ./.\\nShould/md I/ppss tell/vb him/ppo the/at truth/nn about/in Alice/np ?/. ?/.\\nDid/dod he/pps have/hv a/at right/nn to/to know/vb the/at secret/nn I'd/ppss+hvd kept/vbn from/in Gladdy/np all/abn these/dts years/nns ?/. ?/.\\n\\n\\n\\tThe/at boys/nns were/bed already/rb waiting/vbg in/in the/at corridor/nn outside/in my/pp$ office/nn when/wrb I/ppss got/vbd to/in Fairview/np ./.\\nTwo/cd interns/nns and/cc Dick/np Ishii/np ,/, the/at other/ap resident/nn ./.\\nI'm/ppss+bem Chief/nn-tl of/in-tl Medicine/nn-tl here/rb and/cc this/dt morning/nn would/md start/vb like/cs all/abn others/nns ,/, with/in me/ppo taking/vbg the/at boys/nns on/in the/at rounds/nns ./.\\nPete/np was/bedz down/rp on/in Seven/cd-tl ,/, Dick/np told/vbd me/ppo ,/, and/cc he'd/pps+md meet/vb us/ppo there/rb ./.\\n\\n\\n\\tThere/ex wasn't/bedz* anything/pn of/in special/jj interest/nn that/dt morning/nn ,/, no/at one/pn sicker/jjr than/cs they/ppss should/md have/hv been/ben ./.\\nPete/np came/vbd to/to meet/vb us/ppo when/wrb we/ppss stepped/vbd out/in of/in the/at elevator/nn on/in Seven/cd-tl --/-- he'd/pps+hvd had/hvn a/at case/nn of/in post-operative/jj shock/nn ,/, but/cc it/pps was/bedz all/ql taken/vbn care/nn of/in now/rb ./.\\nSeven/cd-tl is/bez a/at women's/nns$ floor/nn and/cc ,/, as/cs it/pps happened/vbd ,/, not/* very/ql busy/jj right/ql then/rb ./.\\nWhen/wrb we'd/ppss+hvd finished/vbn our/pp$ regular/jj rounds/nns ,/, Pete/np pointed/vbd me/ppo toward/in the/at small/jj ward/nn at/in the/at end/nn of/in the/at floor/nn ./.\\n\\n\\n\\t``/`` Got/vbd a/at new/jj one/pn in/in last/ap night/nn ''/'' ,/, he/pps said/vbd ./.\\n``/`` I/ppss haven't/hv* seen/vbn her/ppo yet/rb ,/, but/cc I/ppss hear/vb she's/pps+bez a/at lulu/nn ''/'' !/. !/.\\n\\n\\n\\tI/ppss wasn't/bedz* surprised/vbn ./.\\nThe/at ward/nn was/bedz a/at small/jj one/pn ,/, four/cd beds/nns ,/, kept/vbn reserved/vbn for/in female/nn alcoholics/nns ./.\\nWe/ppss didn't/dod* get/vb many/ap at/in Fairview/np and/cc they/ppss were/bed never/rb pretty/jj sights/nns ./.\\nIt/pps was/bedz thought/vbn wiser/jjr to/to keep/vb them/ppo segregated/vbn from/in the/at patients/nns in/in the/at regular/jj charity/nn ward/nn ./.\\n\\n\\n\\tThe/at moment/nn I/ppss walked/vbd in/rp ,/, the/at whole/jj miserable/jj feeling/nn of/in the/at day/nn seemed/vbd to/to focus/vb on/in the/at woman/nn in/in the/at bed/nn ./.\\nThey'd/ppss+hvd cleaned/vbn her/ppo up/rp some/dti ,/, of/in course/nn ,/, and/cc she'd/pps+hvd pretty/ql much/rb slept/vbn off/rp her/pp$ drunk/nn ./.\\nBut/cc there/ex was/bedz something/pn about/in her/ppo --/-- and/cc I/ppss felt/vbd my/pp$ lips/nns forming/vbg a/at name/nn ./.\\nAlice/np But/cc this/dt woman's/nn$ name/nn was/bedz Rose/np Bancroft/np !/. !/.\\n\\n\\n\\tI/ppss looked/vbd at/in the/at chart/nn for/in reassurance/nn ./.\\nYes/rb ,/, Rose/np Bancroft/np ,/, diagnosis/nn :/: acute/jj alcoholism/nn ./.\\nShe/pps looked/vbd about/rb sixty/cd ,/, though/cs I/ppss recalled/vbd that/cs the/at chart/nn gave/vbd her/pp$ age/nn as/cs forty-four/cd ./.\\nAn/at ugly/jj scar/nn disfigured/vbd the/at somewhat/ql familiar/jj puffy/jj face/nn ,/, already/rb marred/vbn by/in the/at tell-tale/jj network/nn of/in broken/vbn red/jj veins/nns that/wps heavy/jj drinkers/nns carry/vb ./.\\nHer/pp$ coarse/jj hair/nn was/bedz two-colored/jj --/-- bleached/vbn blonde/jj and/cc its/pp$ real/jj ,/, dirty/jj gray/jj ./.\\n\\n\\n\\tOh/uh ,/, could/md it/ppo be/be ?/. ?/.\\nNo/rb ,/, no/rb it/pps was/bedz an/at unfortunate/jj resemblance/nn ,/, that/dt was/bedz all/abn it/pps was/bedz ,/, and/cc I/ppss turned/vbd to/in Dick/np ,/, forcing/vbg myself/ppl to/to put/vb my/pp$ disquiet/nn out/in of/in my/pp$ mind/nn ./.\\n\\n\\n\\tIn/in a/at low/jj voice/nn ,/, Dick/np filled/vbd us/ppo in/rp \\n\\n\\n\\nshe'd/pps+hvd been/ben picked/vbn up/rp downtown/nr ,/, passed/vbn out/rp in/in the/at doorway/nn ./.\\nAlthough/cs quiet/jj when/wrb they/ppss brought/vbd her/ppo in/rp ,/, she'd/pps+hvd suddenly/rb turned/vbn violent/jj and/cc had/hvd to/to be/be knocked/vbn out/rp ./.\\nIt/pps was/bedz the/at old/jj story/nn ./.\\nWe'd/ppss+md keep/vb her/ppo a/at day/nn or/cc two/cd ,/, and/cc the/at AA/np-tl people/nns would/md talk/vb to/in her/ppo ./.\\nBut/cc if/cs she/pps wasn't/bedz* interested/vbn ,/, she'd/pps+md just/rb go/vb back/rb to/in the/at same/ap life/nn she'd/pps+hvd left/vbn ./.\\n\\n\\n\\tTurning/vbg toward/in the/at patient/nn again/rb ,/, I/ppss --/-- I/ppss can't/md* describe/vb what/wdt happened/vbd to/in me/ppo then/rb ,/, except/in to/to say/vb that/cs I/ppss felt/vbd sick/jj ./.\\nI/ppss tell/vb you/ppo ,/, it/pps took/vbd every/at ounce/nn of/in control/nn I/ppss had/hvd to/to be/be able/jj to/to speak/vb ./.\\n``/`` Now/rb ,/, Miss/np --/-- or/cc is/bez it/pps Mrs./np Bancroft/np ''/'' ?/. ?/.\\n\\n\\n\\tI/ppss never/rb liked/vbd going/vbg straight/rb into/in an/at examination/nn with/in patients/nns --/-- it/pps relaxes/vbz them/ppo ,/, I've/ppss+hv always/rb thought/vbn ,/, to/to chat/vb first/rb ./.\\nThis/dt was/bedz one/cd time/nn I'd/ppss+md have/hv gladly/rb broken/vbn my/pp$ own/jj rule/nn ,/, but/cc habit/nn was/bedz too/ql strong/jj ./.\\n\\n\\n\\t``/`` Hey/uh ''/'' !/. !/.\\nHer/pp$ voice/nn was/bedz flat/jj and/cc dull/jj ./.\\nBut/cc those/dts penetrating/jj eyes/nns --/-- I/ppss had/hvd to/to turn/vb my/pp$ head/nn away/rb ./.\\nIt/pps was/bedz then/rb that/cs I/ppss saw/vbd what/wdt the/at drawn-back/jj covers/nns revealed/vbd ./.\\nThere/ex were/bed bloodspots/nns on/in the/at sheet/nn ./.\\n\\n\\n\\t``/`` What's/wdt+bez this/dt ''/'' ?/. ?/.\\nI/ppss asked/vbd ./.\\n``/`` Your/pp$ period/nn ''/'' ?/. ?/.\\n\\n\\n\\tShe/pps shook/vbd her/pp$ head/nn ./.\\n``/`` I/ppss been/ben spotting/vbg a/at little/ap now/rb and/cc then/rb ''/'' ,/, she/pps said/vbd quietly/rb ,/, no/at emotion/nn in/in her/pp$ voice/nn ./.\\n\\n\\n\\t``/`` Have/hv you/ppss spoken/vbn to/in a/at doctor/nn about/in it/ppo ''/'' ?/. ?/.\\n\\n\\n\\tOnce/rb again/rb ,/, there/ex was/bedz a/at negative/jj shake/nn ./.\\nI/ppss told/vbd Miss/np Groggins/np to/to move/vb her/ppo down/in the/at hall/nn where/wrb we/ppss had/hvd an/at examining/vbg table/nn ./.\\n``/`` Better/rbr do/do a/at Papanicolaou/np ''/'' ,/, I/ppss told/vbd Pete/np ./.\\nIt/pps was/bedz only/rb a/at few/ap moments/nns before/cs Miss/np Groggins/np had/hvd her/ppo in/in the/at proper/jj position/nn for/in a/at vaginal/nn ,/, but/cc I/ppss couldn't/md* see/vb anything/pn wrong/jj on/in gross/jj examination/nn ./.\\nPete/np stood/vbd by/rb with/in a/at slide/nn and/cc took/vbd the/at smear/nn ,/, sent/vbd it/ppo down/rp to/in the/at lab/nn with/in a/at request/nn for/in the/at test/nn ./.\\nThat/dt done/vbn ,/, I/ppss told/vbd Miss/np Groggins/np to/to take/vb her/pp$ patient/nn back/rb to/in bed/nn and/cc again/rb put/vb her/ppo out/in of/in my/pp$ mind/nn ./.\\n\\n\\n\\tI/ppss was/bedz busy/jj the/at rest/nn of/in the/at day/nn ./.\\nLate/jj in/in the/at afternoon/nn ,/, I/ppss was/bedz up/rp on/in Seven/cd-tl again/rb ./.\\nOne/pn of/in my/pp$ private/jj patients/nns was/bedz being/beg admitted/vbn and/cc I/ppss went/vbd in/rp to/to see/vb her/ppo settled/vbn ./.\\nOn/in my/pp$ way/nn to/in the/at elevator/nn ,/, I/ppss ran/vbd into/in Pete/np ./.\\n``/`` I've/ppss+hv got/vbn the/at results/nns on/in the/at Bancroft/np smear/nn test/nn ''/'' ,/, he/pps said/vbd ./.\\n``/`` There's/ex+bez something/pn there/rb ,/, all/ql right/rb ./.\\nClass/nn-tl Three/cd-tl ,/, they/ppss said/vbd ./.\\nDo/do you/ppss want/vb to/to talk/vb to/in her/ppo ,/, Doctor/nn-tl ''/'' ?/. ?/.\\n\\n\\n\\t``/`` Well/uh ''/'' --/-- I/ppss didn't/dod* --/-- I/ppss didn't/dod* ever/rb want/vb to/to see/vb that/dt woman/nn again/rb ./.\\nBut/cc that/dt was/bedz ridiculous/jj ,/, of/in course/nn ./.\\n``/`` All/ql right/rb ./.\\nWe'll/ppss+md do/do a/at D./np-tl and/cc-tl C./np-tl and/cc get/vb her/pp$ permission/nn for/in a/at hysterectomy/nn ./.\\nMaybe/rb it's/pps+bez nothing/pn ,/, maybe/rb it's/pps+bez intraepithelial/jj or/cc in/fw-in situ/fw-nn --/-- can't/md* take/vb any/dti chances/nns ''/'' ./.\\n\\n\\n\\t``/`` If/cs you/ppss can/md keep/vb her/ppo here/rb that/dt long/jj ''/'' ,/, Pete/np said/vbd wryly/rb ./.\\n``/`` Groggins/np tells/vbz me/ppo she's/pps+hvz started/vbn badgering/vbg already/rb ,/, wants/vbz to/to get/vb out/rp ./.\\nWants/nns to/to get/vb to/in her/pp$ booze/nn ,/, I/ppss guess/vb ''/'' ./.\\n\\n\\n\\tI/ppss grimaced/vbd in/in distaste/nn ./.\\n``/`` Well/uh ,/, better/rbr see/vb what/wdt I/ppss can/md do/do ''/'' ./.\\n\\n\\n\\tWe'd/ppss+hvd been/ben standing/vbg right/ql outside/in Miss/np Bancroft's/np$ door/nn and/cc as/cs I/ppss went/vbd to/to turn/vb the/at knob/nn to/to enter/vb ,/, I/ppss was/bedz surprised/vbn to/to find/vb that/cs the/at door/nn was/bedz slightly/ql ajar/rb ./.\\nBut/cc she/pps seemed/vbd to/to be/be dozing/vbg and/cc in/in any/dti case/nn ,/, we'd/ppss+hvd been/ben talking/vbg in/in low/jj tones/nns ./.\\n\\n\\n\\tHer/pp$ eyes/nns opened/vbd as/ql soon/rb as/cs she/pps heard/vbd me/ppo ,/, though/cs ,/, and/cc once/rb again/rb ,/, I/ppss felt/vbd an/at inward/jj shiver/nn ./.\\n``/`` I/ppss sure/rb can't/md* complain/vb about/in the/at service/nn in/in this/dt place/nn ''/'' ,/, she/pps said/vbd ./.\\n``/`` I/ppss just/rb got/vbd through/in seeing/vbg one/cd of/in you/ppo guys/nns ./.\\nWhat/wdt do/do you/ppss want/vb ''/'' ?/. ?/.\\nThere/ex was/bedz something/pn almost/rb insulting/jj in/in her/pp$ tone/nn ,/, but/cc I/ppss disregarded/vbd it/ppo ./.\\n\\n\\n\\t``/`` I've/ppss+hv just/rb been/ben talking/vbg to/in Dr./nn-tl Michelson/np ''/'' ,/, I/ppss said/vbd ./.\\n``/`` We'd/ppss+md like/vb you/ppo to/to have/hv a/at dilatation/nn and/cc curettage/nn ./.\\nThat's/dt+bez quite/ql minor/jj ,/, nothing/pn to/to worry/vb about/rb ./.\\nBut/cc we/ppss would/md like/vb your/pp$ permission/nn to/to do/do --/-- that/dt is/bez ,/, to/to go/vb further/rbr if/cs it/pps proves/vbz necessary/jj ''/'' ./.\\n\\n\\n\\t``/`` No/rb ''/'' ./.\\nIt/pps was/bedz flat/jj ,/, definite/jj ./.\\n\\n\\n\\t``/`` Suppose/vb you/ppo let/vb me/ppo explain/vb ./.\\nActually/rb ,/, I/ppss rather/ql doubt/vb that/cs we'll/ppss+md have/hv to/to do/do this/dt ./.\\nEven/rb if/cs we/ppss do/do ,/, you'll/ppss+md be/be out/in of/in here/rb in/in a/at week/nn ,/, probably/rb ''/'' ./.\\n\\n\\n\\tI/ppss was/bedz sure/jj that/dt was/bedz the/at difficulty/nn --/-- she/pps just/rb didn't/dod* want/vb to/to stay/vb here/rb ,/, where/wrb she/pps couldn't/md* get/vb to/in the/at liquor/nn ./.\\n\\n\\n\\t``/`` No/rb ''/'' ./.\\n\\n\\n\\tI/ppss looked/vbd at/in her/ppo in/in amazement/nn ./.\\nI'd/ppss+hvd had/hvn patients/nns who'd/wps+hvd refused/vbn surgery/nn before/rb ,/, of/in course/nn ,/, but/cc never/rb one/pn who/wps didn't/dod* show/vb ,/, in/in one/cd way/nn or/cc another/dt ,/, the/at reason/nn why/wrb ./.\\nMostly/rb ,/, it/pps was/bedz fear/nn ,/, but/cc this/dt woman's/nn$ voice/nn didn't/dod* tremble/vb and/cc her/pp$ hands/nns were/bed still/rb on/in the/at coverlet/nn ./.\\n\\n\\n\\t``/`` Will/md you/ppss tell/vb me/ppo why/wrb ''/'' ?/. ?/.\\nI/ppss asked/vbd ./.\\n\\n\\n\\tShe/pps smiled/vbd ,/, a/at smile/nn without/in humor/nn ./.\\n``/`` You/ppss shouldn't/md* tell/vb your/pp$ little/ap secrets/nns outside/in of/in the/at patient's/nn$ door/nn ''/'' ,/, she/pps said/vbd ./.\\n``/`` I've/ppss+hv got/vbn cancer/nn ,/, haven't/hv* I/ppss ''/'' ?/. ?/.\\nShe/pps went/vbd on/rp ,/, disregarding/vbg my/pp$ protests/nns ./.\\n``/`` I'm/ppss+bem not/* going/vbg to/to be/be one/pn of/in your/pp$ guinea/nn pigs/nns ./.\\nLet/vb your/pp$ pupils/nns learn/vb on/in someone/pn else/rb ,/, Doctor/nn-tl ./.\\nJust/rb let/vb me/ppo die/vb in/in peace/nn ''/'' ./.\\n\\n\\n\\n\\nI/ppss stared/vbd at/in her/ppo ,/, almost/ql speechless/jj ./.\\nHer/pp$ little/ap speech/nn was/bedz totally/rb out/in of/in character/nn with/in the/at sort/nn of/in person/nn I/ppss thought/vbd she/pps was/bedz ./.\\nEven/rb her/pp$ voice/nn had/hvd taken/vbn on/rp a/at more/ql cultivated/vbn tone/nn ./.\\nThis/dt was/bedz someone/pn who'd/wps+hvd come/vbn down/rp in/in the/at world/nn ,/, I/ppss thought/vbd ./.\\nA/at long/jj ,/, long/jj way/nn down/rp ./.\\nAgain/rb there/ex was/bedz something/pn familiar/jj about/in her/ppo ,/, something/pn --/-- \\n\\n\\t``/`` You/ppss haven't/hv* got/vbn cancer/nn ''/'' ,/, I/ppss said/vbd as/ql strongly/rb as/cs I/ppss could/md ./.\\n``/`` I/ppss don't/do* know/vb what/wdt you/ppss heard/vbd that/dt would/md make/vb you/ppo think/vb so/rb ,/, but/cc I/ppss assure/vb you/ppo I/ppss don't/do* even/vb know/vb myself/ppl ,/, so/cs how/wrb can/md you/ppss be/be so/ql sure/jj ?/. ?/.\\nAnd/cc even/rb if/cs ''/'' --/-- \\n\\n\\t``/`` Don't/do* give/vb me/ppo a/at lot/nn of/in talk/nn ,/, Joe/np ''/'' ./.\\n\\n\\n\\tI/ppss gaped/vbd at/in her/ppo ./.\\nShe/pps could/md have/hv found/vbn out/rp my/pp$ first/od name/nn ,/, of/in course/nn --/-- that/dt wouldn't/md* be/be difficult/jj ./.\\nBut/cc there/ex was/bedz that/dt something/pn ,/, some/dti echo/nn in/in the/at way/nn she/pps spoke/vbd ./.\\n\\n\\n\\tShe/pps was/bedz watching/vbg me/ppo intently/rb ,/, a/at funny/jj little/ap half-smile/nn on/in her/pp$ lips/nns ./.\\n``/`` Surprised/vbn ,/, baby/nn ?/. ?/.\\nGuess/vb I've/ppss+hv changed/vbn ,/, haven't/hv* I/ppss ?/. ?/.\\nBut/cc you/ppss haven't/hv* changed/vbn much/rb ,/, Joe/np ''/'' ./.\\n\\n\\n\\tI/ppss knew/vbd then/rb ,/, knew/vbd with/in a/at heart-stopping/jj shock/nn ./.\\n``/`` Alice/np ''/'' --/-- I/ppss stammered/vbd through/in dry/jj lips/nns ./.\\n``/`` Alice/np ,/, for/in goodness/nn sake/nn ''/'' --/-- \\n\\n\\t``/`` Alice/np ''/'' ,/, she/pps echoed/vbd mockingly/rb ./.\\n``/`` What's/wdt+bez the/at matter/nn ,/, Joe/np ,/, you/ppss scared/vbd of/in me/ppo ?/. ?/.\\nThink/vb I'm/ppss+bem going/vbg to/to make/vb you/ppss introduce/vb a/at drunk/nn as/cs your/pp$ wife/nn ?/. ?/.\\nWell/uh ,/, don't/do* worry/vb ./.\\nJust/rb let/vb me/ppo outta/rp+in here/rn ''/'' --/-- \\n\\n\\t``/`` But/cc why/wrb did/dod you/ppss come/vb back/rb ''/'' ?/. ?/.\\nI'd/ppss+hvd found/vbn my/pp$ voice/nn ./.\\n``/`` Where/wrb have/hv you/ppss been/ben all/abn these/dts years/nns ''/'' ?/. ?/.\\n\\n\\n\\tShe/pps shrugged/vbd ./.\\n``/`` Here/rb and/cc there/rb ./.\\nAs/in for/in coming/vbg back/rb here/rb --/-- well/uh ,/, I'll/ppss+md tell/vb you/ppo the/at truth/nn ,/, I/ppss didn't/dod* even/rb know/vb where/wrb I/ppss was/bedz when/wrb I/ppss came/vbd to/in ./.\\nThe/at last/ap thing/nn I/ppss remember/vb is/bez a/at bar/nn in/in San/np Diego/np ''/'' --/-- \\n\\n\\tThe/at way/nn she/pps spoke/vbd ,/, her/pp$ flat/jj acceptance/nn of/in her/pp$ alcoholic/jj blackout/nn ,/, made/vbd me/ppo shudder/vb ./.\\nAnd/cc this/dt was/bedz Gladdy's/np$ mother/nn !/. !/.\\n\\n\\n\\t``/`` I/ppss never/rb asked/vbd you/ppo for/in any/dti favors/nns ,/, Joe/np ''/'' ,/, she/pps went/vbd on/rp ,/, ``/`` but/cc I'm/ppss+bem asking/vbg one/pn now/rb ./.\\nLet/vb me/ppo outta/rp+in here/rn !/. !/.\\nYou/ppss doctors/nns are/ber all/abn alike/jj --/-- all/abn you/ppss want/nn is/bez to/to cut/vb up/rp people/nns and/cc what's/wdt+bez the/at good/nn ?/. ?/.\\nNo/rb ,/, I/ppss want/vb out/rp ,/, Joe/np ''/'' !/. !/.\\n\\n\\n\\tI/ppss looked/vbd at/in the/at pathetic/jj wreck/nn of/in a/at woman/nn before/in me/ppo ./.\\nLet/vb her/ppo out/rp ,/, let/vb her/ppo out/rp --/-- that/dt would/md be/be the/at solution/nn ,/, wouldn't/md* it/ppo ?/. ?/.\\nWhat/wdt she'd/pps+hvd said/vbn was/bedz true/jj --/-- in/in all/abn these/dts years/nns ,/, she'd/pps+hvd never/rb asked/vbn for/in anything/pn from/in me/ppo ./.\\nIf/cs I/ppss let/vb her/ppo go/vb ,/, she'd/pps+md disappear/vb once/rb more/rbr ./.\\nAnd/cc Gladdy/np would/md be/be safe/jj !/. !/.\\n\\n\\n\\n\\tI/ppss was/bedz slowly/rb swimming/vbg down/rp to/in the/at bottom/nn of/in the/at sea/nn ./.\\nShe/pps made/vbd me/ppo welcome/jj ./.\\nHer/pp$ dark/jj cool/jj caresses/nns were/bed sweeter/jjr than/cs any/dti woman's/nn$ ;/. ;/.\\nthe/at many/ap little/ap tricks/nns she/pps knew/vbd made/vbn her/pp$ embrace/nn the/at ultimate/jj one/pn --/-- the/at ever/ql more/ql fantastic/jj pressures/nns deeper/jjr in/in her/pp$ body/nn squeezed/vbd not/* me/ppo but/cc the/at air/nn I/ppss breathed/vbd into/in a/at nitrogen/nn anesthetic/nn ./.\\nyielding-Mediterranian-woman-/nn ,/, she/pps soothed/vbd me/ppo ,/, and/cc drew/vbd me/ppo deeper/rbr into/in her/ppo ./.\\n\\n\\n\\tI/ppss no/at longer/jjr knew/vbd how/wrb deep/jj I/ppss was/bedz ,/, somewhere/nn under/in 230/cd feet/nns ,/, getting/vbg drunker/jjr ,/, happier/jjr and/cc more/rbr contented/vbn by/in the/at second/od ./.\\nThe/at reasons/nns for/in this/dt dive/nn seemed/vbd foolish/jj now/rb ./.\\nOnly/rb the/at dive/nn itself/ppl had/hvd any/dti meaning/nn ./.\\nThe/at metal-tasting/jj nitrogen/nn made/vbd me/ppo wonder/vb if/cs I/ppss should/md remove/vb the/at mouthpiece/nn and/cc suck/vb in/rp the/at sweet/jj water/nn ./.\\nPerhaps/rb if/cs I/ppss took/vbd off/rp the/at aqua-lung/nn I/ppss could/md swim/vb better/rbr ,/, love/vb my/pp$ woman/nn better/rbr ./.\\nI/ppss chuckled/vbd aloud/rb ,/, and/cc the/at mouthpiece/nn fell/vbd out/rp ./.\\n\\n\\n\\tWhile/cs a/at hazy/jj part/nn of/in my/pp$ mind/nn concentrated/vbd on/in swimming/vbg down/rp ,/, a/at clear/jj part/nn sorted/vbd over/rp recent/jj events/nns ,/, among/in them/ppo my/pp$ only/rb positive/jj act/nn in/in a/at long/jj time/nn ./.\\nIt/pps was/bedz when/wrb I/ppss packed/vbd up/rp what/wdt duds/nns I/ppss had/hvd and/cc went/vbd to/in Paris/np ./.\\nIt/pps was/bedz no/at vacation/nn ,/, just/rb me/ppo getting/vbg out/rp after/in a/at bellyfull/nn ./.\\nI/ppss knew/vbd it/pps wouldn't/md* be/be the/at same/ap ./.\\nWild/jj kicks/nns never/rb are/ber ,/, but/cc I/ppss hoped/vbd to/to dig/vb up/rp a/at better/jjr frame/nn of/in mind/nn ./.\\n\\n\\n\\tOnce/rb before/cs I/ppss had/hvd been/ben to/in Paris/np ,/, long/jj before/cs I/ppss married/vbd Valery/np ./.\\nThat/dt first/od time/nn was/bedz good/jj and/cc it/pps stuck/vbd with/in me/ppo ./.\\nI/ppss was/bedz twenty-one/cd back/rb then/rb ,/, in/in the/at army/nn ,/, and/cc fog/nn put/vbd our/pp$ plane/nn down/rp at/in Orly/np instead/rb of/in Rhine-Main/np ./.\\nIt/pps was/bedz a/at Saturday/nr evening/nn in/in April/np with/in a/at mist-like/jj rain/nn ,/, and/cc I/ppss was/bedz a/at little/ap high/jj on/in the/at good/jj taste/nn of/in life/nn ./.\\nI/ppss had/hvd a/at pocketful/nn of/in money/nn ,/, which/wdt was/bedz unusual/jj when/wrb I/ppss was/bedz in/in the/at army/nn ,/, and/cc the/at plane/nn would/md be/be grounded/vbn all/abn night/nn ./.\\nIn/in less/ap than/in an/at hour/nn I/ppss had/hvd gotten/vbn a/at hotel/nn ,/, showered/vbd ,/, shaved/vbd and/cc was/bedz out/rp on/in the/at Champs/fw-nns-tl Elysees/np in/in a/at fresh/jj uniform/nn ./.\\nI/ppss felt/vbd like/cs a/at Hun/np in/in Rome/np ./.\\n\\n\\n\\tAll/ql the/at women/nns were/bed beautiful/jj ,/, and/cc the/at men/nns were/bed equal/jj to/in them/ppo ;/. ;/.\\neverything/pn was/bedz glamorous/jj to/in my/pp$ dazzled/vbn eyes/nns ./.\\nThere/ex were/bed some/dti sweet/jj machines/nns other/ap than/in women/nns :/: an/at old/jj Bugatti/np ,/, a/at lean/jj Farina/np coachwork/nn on/in an/at American/jj chassis/nn ,/, a/at Swallow/nn-tl ,/, a/at type/nn A40-AjK/nn Mercedes/np and/cc lots/nns more/ap ./.\\nThere/ex was/bedz the/at Arc/fw-nn-tl de/fw-in-tl Triomphe/fw-nn-tl and/cc the/at Tour/fw-nn-tl d'Eiffel/fw-in+np-tl --/-- I/ppss was/bedz no/at yokel/nn ,/, but/cc I/ppss was/bedz young/jj ,/, and/cc this/dt was/bedz Paris/np !/. !/.\\n\\n\\n\\tI/ppss had/hvd champagne/nn at/in Maxim's/np$ ,/, then/rb went/vbd into/in a/at cafe/nn called/vbn the/at Jour/fw-nn-tl et/fw-cc-tl Nuit/fw-nn-tl to/to ask/vb the/at way/nn to/in Montmartre/np ./.\\nI/ppss never/rb got/vbd there/rb ./.\\nI/ppss met/vbd Claire/np ,/, which/wdt was/bedz better/jjr ./.\\nShe/pps was/bedz eating/vbg bread/nn and/cc cheese/nn just/rb as/ql fast/rb as/cs she/pps possibly/rb could/md ,/, and/cc washing/vbg it/ppo down/rp with/in red/jj wine/nn ./.\\nI/ppss stared/vbd ./.\\nI/ppss didn't/dod* know/vb a/at human/nn could/md feed/vb so/ql fast/rb and/cc still/rb be/be beautiful/jj ./.\\nShe/pps was/bedz blonde/jj ,/, and/cc young/jj ,/, and/cc nice/jj and/cc round/jj in/in a/at tight/jj white/jj dress/nn ./.\\nMaybe/rb her/pp$ ravenous/jj eating/nn wasn't/bedz* grotesque/jj because/cs she/pps was/bedz so/ql positive/jj about/in it/ppo ./.\\n\\n\\n\\tWhen/wrb she/pps had/hvd drained/vbn the/at last/ap of/in the/at bottle/nn and/cc paid/vbd her/pp$ bill/nn ,/, she/pps came/vbd directly/rb to/in my/pp$ table/nn and/cc said/vbd :/: \\n\\n\\t``/`` Handsome/jj soldier/nn ,/, I/ppss have/hv assuaged/vbn one/cd hunger/nn with/in food/nn ./.\\nI/ppss feel/vb another/dt of/in terrible/jj urgency/nn ./.\\nIs/bez your/pp$ evening/nn free/jj ''/'' ?/. ?/.\\n\\n\\n\\t``/`` Madame/np ''/'' ,/, I/ppss said/vbd with/in noblesse/nn oblige/nn because/cs of/in the/at ``/`` handsome/jj ''/'' --/-- ``/`` yeah/rb ''/'' ./.\\n\\n\\n\\tAnd/cc so/rb off/rp we/ppss went/vbd to/in her/pp$ apartment/nn ./.\\nShe/pps was/bedz a/at nymphomaniac/nn ,/, of/in course/nn ,/, the/at poor/jj girl/nn ./.\\nToward/in the/at break/nn of/in day/nn I/ppss waxed/vbd philosophical/jj ,/, and/cc drew/vbd analogies/nns about/in her/pp$ way/nn of/in eating/vbg bread/nn and/cc cheese/nn ./.\\n\\n\\n\\tNow/rb it/pps was/bedz nine/cd years/nns later/rbr ,/, and/cc it/pps wasn't/bedz* spring/nn but/cc winter/nn when/wrb I/ppss returned/vbd ./.\\n\\n\\n\\tI/ppss got/vbd there/rb on/in a/at Saturday/nr evening/nn ./.\\nI/ppss made/vbd the/at mistake/nn of/in going/vbg to/in the/at Jour/fw-nn-tl et/fw-cc-tl Nuit/fw-nn-tl ./.\\nThe/at place/nn was/bedz busy/jj but/cc I/ppss didn't/dod* feel/vb like/cs a/at Hun/np ./.\\nI/ppss sat/vbd waiting/vbg for/in Life/nn-tl to/to come/vb along/rb and/cc sweep/vb me/ppo up/rp ./.\\nI/ppss had/hvd part/nn of/in a/at bottle/nn of/in French/jj beer/nn called/vbn Panther/nn-tl Pils/nn-tl (/( so/rb help/vb me/ppo )/) ,/, then/rb switched/vbd to/in Tuborg/np ./.\\nAfter/in a/at few/ap hours/nns ,/, Life/nn-tl hadn't/hvd* showed/vbn ,/, and/cc I/ppss was/bedz crocked/vbn ./.\\nI/ppss went/vbd to/in my/pp$ hotel/nn and/cc slept/vbd ./.\\nThe/at next/ap morning/nn a/at little/ap cognac/nn made/vbd me/ppo feel/vb better/rbr --/-- but/cc what/wdt can/md you/ppss do/do in/in Paris/np on/in Sunday/nr morning/nn ?/. ?/.\\nSo/cs I/ppss drank/vbd more/ap cognac/nn ./.\\n\\n\\n\\tAll/ql that/dt day/nn and/cc Monday/nr I/ppss drank/vbd just/rb enough/ap to/to orbit/vb but/cc not/* make/vb deep/jj space/nn ./.\\nI/ppss read/vb the/at Tropic/nn-tl of/in-tl Capricorn/np-tl and/cc the/at Tropic/nn-tl of/in-tl Cancer/np-tl ./.\\nElemental/jj ,/, but/cc sex/nn ./.\\nThat's/dt+bez what/wdt was/bedz on/in my/pp$ mind/nn ./.\\nI/ppss was/bedz turning/vbg over/rp the/at idea/nn of/in a/at good/jj debauchery/nn when/wrb I/ppss dozed/vbd off/rp ./.\\n\\n\\n\\tI/ppss felt/vbd better/rbr Tuesday/nr evening/nn when/wrb I/ppss woke/vbd up/rp ./.\\nMy/pp$ head/nn was/bedz clear/jj ,/, my/pp$ thinking/nn sober/jj and/cc I/ppss was/bedz reconciled/vbn to/in this/dt Paris/np idea/nn as/cs a/at flop/nn on/in top/nn of/in all/abn my/pp$ others/nns ./.\\nA/at good/jj binge/nn has/hvz that/dt kind/nn of/in therapeutic/jj value/nn ./.\\n\\n\\n\\tSometime/rb earlier/rbr the/at weather/nn had/hvd turned/vbn cold/jj and/cc it/pps was/bedz snowing/vbg ./.\\nI/ppss went/vbd out/rp into/in it/ppo ./.\\nI/ppss walked/vbd around/rb breathing/vbg the/at cold/jj wine/nn of/in the/at air/nn until/cs I/ppss found/vbd a/at park/nn ,/, and/cc I/ppss sat/vbd down/rp on/in a/at snowy/jj bench/nn where/wrb the/at light/nn was/bedz dim/jj and/cc came/vbd from/in the/at sky/nn ./.\\nThere/ex was/bedz dignity/nn and/cc beauty/nn in/in the/at little/ql white/jj flakes/nns falling/vbg through/in the/at blue/jj night/nn ./.\\nI/ppss had/hvd on/rp only/rb a/at topcoat/nn ,/, but/cc I/ppss wasn't/bedz* cold/jj ./.\\nI/ppss was/bedz just/rb miserable/jj ./.\\n\\n\\n\\tPretty/ql soon/rb a/at woman/nn came/vbd along/rb carrying/vbg a/at folded/vbn umbrella/nn as/cs a/at walking/vbg stick/nn ./.\\nShe/pps saw/vbd me/ppo and/cc sat/vbd down/rp beside/in me/ppo ,/, three/cd feet/nns away/rb ./.\\nSuddenly/rb I/ppss understood/vbd why/wrb she/pps had/hvd the/at umbrella/nn ./.\\nIt/pps gave/vbd her/ppo poise/nn and/cc posture/nn ./.\\nWithout/in it/ppo she/pps would/md have/hv been/ben drab/jj and/cc limp/jj ./.\\nIt/pps gave/vbd her/ppo propriety/nn ./.\\nIt/pps gave/vbd her/ppo the/at right/nn to/to sit/vb down/rp beside/in me/ppo ,/, back/nn straight/jj ,/, one/cd hand/nn out/rp on/in the/at handle/nn ./.\\nI/ppss couldn't/md* imagine/vb her/ppo without/in it/ppo ./.\\nI/ppss knew/vbd all/abn about/in her/ppo ./.\\nShe/pps was/bedz another/dt human/nn being/nn and/cc happened/vbd to/to be/be a/at hustler/nn ./.\\nI/ppss didn't/dod* much/rb care/vb if/cs she/pps were/bed there/rb or/cc not/* ./.\\n\\n\\n\\tAfter/in a/at while/nn she/pps said/vbd with/in sort/nn of/in an/at unuttered/jj laugh/nn ,/, ``/`` You/ppss have/hv snow/nn in/in your/pp$ hair/nn and/cc ears/nns ''/'' ./.\\n(/( I/ppss didn't/dod* have/hv on/rp a/at hat/nn ./.\\n)/) \\n\\n\\tHardly/rb glancing/vbg at/in her/ppo ,/, I/ppss smiled/vbd a/at bleak/jj one/pn which/wdt said/vbd ,/, Thanks/nns ,/, baby/nn ,/, but/cc I'd/ppss+md rather/rb be/be alone/rb ./.\\n\\n\\n\\tShe/pps was/bedz silent/jj for/in a/at while/nn ,/, then/rb said/vbd ,/, ``/`` Why/wrb are/ber you/ppss so/ql unhappy/jj ''/'' ?/. ?/.\\n\\n\\n\\t``/`` I'm/ppss+bem not/* unhappy/jj ''/'' ,/, I/ppss lied/vbd ,/, staring/vbg at/in the/at snow/nn ./.\\nShe/pps was/bedz trying/vbg to/to make/vb a/at hole/nn in/in my/pp$ armor/nn ,/, and/cc I/ppss didn't/dod* want/vb it/ppo ./.\\n\\n\\n\\t``/`` Is/bez it/pps a/at woman/nn ''/'' ?/. ?/.\\nShe/pps asked/vbd gently/rb ./.\\nShe/pps must/md have/hv seen/vbn the/at ring/nn on/in my/pp$ left/jj hand/nn ./.\\n\\n\\n\\t``/`` Well/uh --/-- women/nns and/cc unhappiness/nn go/vb together/rb ''/'' ,/, I/ppss observed/vbd profoundly/rb ,/, adding/vbg ,/, ``/`` You/ppss can/md wager/vb your/pp$ derriere/nn on/in that/dt ''/'' ./.\\n\\n\\n\\t``/`` Ah/uh ,/, Monsieur/np ,/, it/pps is/bez not/* my/pp$ business/nn to/to wager/vb it/ppo ./.\\n''/'' \\n\\n\\tThis/dt took/vbd me/ppo so/ql funny/jj I/ppss had/hvd to/to look/vb at/in her/ppo ./.\\nI/ppss felt/vbd my/pp$ frozen/vbn sad/jj face/nn crumble/vb ,/, and/cc I/ppss grinned/vbd a/at silly/jj one/cd I/ppss couldn't/md* have/hv helped/vbn ./.\\nI/ppss even/rb snorted/vbd a/at chuckle/nn ./.\\n\\n\\n\\tShe/pps smiled/vbd at/in me/ppo ,/, but/cc it/pps was/bedz an/at awfully/ql sad/jj smile/nn ./.\\nShe/pps was/bedz even/rb more/ql miserable/jj than/cs me/ppo ./.\\nHer/pp$ eyes/nns were/bed smiling/vbg ,/, too/rb ,/, but/cc so/ql sadly/rb ,/, and/cc there/ex was/bedz tiredness/nn and/cc infinite/jj wisdom/nn in/in them/ppo ./.\\n``/`` Now/rb isn't/bez* it/pps better/jjr to/to smile/vb ''/'' ?/. ?/.\\nShe/pps asked/vbd ./.\\n\\n\\n\\tBecause/cs I/ppss liked/vbd this/dt sad/jj person/nn so/ql much/rb ,/, I/ppss said/vbd ,/, ``/`` Will/md you/ppss have/hv a/at drink/nn with/in me/ppo ''/'' ?/. ?/.\\n\\n\\n\\tI/ppss could/md see/vb the/at ancient/jj cynicism/nn reinforce/vb itself/ppl in/in her/pp$ eyes/nns ,/, and/cc I/ppss wondered/vbd how/wrb many/ap men/nns she/pps had/hvd picked/vbn up/rp with/in this/dt same/ap gambit/nn ./.\\n\\n\\n\\tAnyway/rb ,/, I/ppss pulled/vbd a/at bottle/nn of/in Remy/np Martin/np out/in of/in my/pp$ topcoat/nn ,/, drew/vbd the/at cork/nn ,/, and/cc passed/vbd it/ppo to/in her/ppo ./.\\n\\n\\n\\tI/ppss could/md see/vb she/pps was/bedz shocked/vbn ./.\\n\\n\\n\\t``/`` I'm/ppss+bem sorry/jj I/ppss haven't/hv* got/vbn a/at glass/nn ''/'' ,/, I/ppss said/vbd ./.\\n\\n\\n\\t``/`` Non/fw-rb ,/, non/fw-rb ''/'' ,/, she/pps said/vbd ,/, taking/vbg the/at bottle/nn ,/, ``/`` not/* for/in that/dt be/be sorry/jj ''/'' ./.\\n\\n\\n\\tShe/pps tilted/vbd up/rp and/cc drank/vbd ,/, and/cc then/rb I/ppss drank/vbd ./.\\nIt's/pps+bez really/ql rotten/jj to/to drink/vb good/jj cognac/nn like/cs that/dt ,/, but/cc I/ppss hadn't/hvd* cared/vbn before/rb ./.\\nI/ppss wasn't/bedz* going/vbg to/to lug/vb around/rb a/at glass/nn ./.\\n\\n\\n\\tThere/ex wasn't/bedz* much/ap light/nn in/in the/at blue/jj dark/nn ,/, but/cc I/ppss could/md see/vb her/ppo well/rb ./.\\nNo/at child/nn ,/, this/dt tart/nn ,/, she/pps must/md have/hv been/ben thirty-five/cd or/cc even/rb forty/cd ./.\\nI/ppss couldn't/md* be/be sure/jj ./.\\nSomehow/rb she/pps was/bedz attractive/jj ./.\\nNot/* good/jj looking/vbg ,/, but/cc self-confident/jj and/cc wise/jj so/cs that/cs it/pps made/vbd her/ppo attractive/jj ./.\\nI/ppss liked/vbd her/ppo ,/, and/cc all/abn at/in once/cs I/ppss was/bedz glad/jj she/pps was/bedz there/rb ./.\\n\\n\\n\\tWe/ppss finished/vbd the/at bottle/nn --/-- I/ppss hadn't/hvd* had/hvn a/at lot/nn out/in of/in it/ppo earlier/rbr --/-- not/* speaking/vbg much/rb to/in each/dt other/ap ,/, and/cc we/ppss stayed/vbd sober/jj ./.\\n\\n\\n\\tI/ppss suppose/vb we/ppss were/bed cold/jj ,/, but/cc we/ppss didn't/dod* feel/vb it/ppo ./.\\nWe/ppss seemed/vbd to/to be/be drowsing/vbg ,/, sadly/rb ,/, soberly/rb ,/, in/in the/at cold/jj ,/, cold/jj air/nn while/cs the/at snow/nn fell/vbd ./.\\nThen/rb she/pps said/vbd ,/, ``/`` Allons/fw-vb ''/'' ,/, and/cc we/ppss got/vbd up/rp and/cc went/vbd to/in my/pp$ hotel/nn without/in another/dt word/nn ./.\\n\\n\\n\\tI/ppss sensed/vbd no/at stranger/nn in/in her/ppo ./.\\nWe/ppss undressed/vbd and/cc made/vbd love/nn with/in the/at comfortable/jj acceptance/nn I/ppss had/hvd once/rb known/vbn with/in Valery/np ./.\\nI/ppss decided/vbd thirty-five/cd was/bedz the/at best/jjt estimate/nn of/in her/pp$ age/nn ./.\\nShe/pps had/hvd a/at funny/jj little/ap scar/nn on/in her/pp$ stomach/nn ,/, on/in the/at left/jj side/nn ./.\\n\\n\\n\\tI/ppss think/vb we/ppss were/bed very/ql tired/vbn ,/, for/cs we/ppss awoke/vbd at/in the/at same/ap moment/nn ,/, deeply/rb rested/vbn ,/, surprised/vbn to/to see/vb the/at late/jj morning/nn sun/nn on/in the/at windows/nns ,/, which/wdt were/bed wet/jj where/wrb the/at rime/nn had/hvd melted/vbn ./.\\n\\n\\n\\tI/ppss felt/vbd wonderful/jj ,/, the/at absolute/jj opposite/nn of/in last/ap night's/nn$ melancholy/nn ./.\\nMy/pp$ head/nn was/bedz clear/jj ./.\\nI/ppss was/bedz hungry/jj as/cs a/at wolf/nn ,/, and/cc my/pp$ body/nn felt/vbd lean/jj and/cc vital/jj ./.\\n\\n\\n\\t``/`` Bon/fw-jj jour/fw-nn ''/'' ,/, I/ppss said/vbd brightly/rb ,/, sitting/vbg up/rp ,/, which/wdt pulled/vbd the/at covers/nns to/in her/pp$ hips/nns ./.\\nShe/pps looked/vbd good/rb ,/, with/in her/pp$ short/jj tousled/vbn hair/nn and/cc no/at make-up/nn ./.\\nMaybe/rb closer/rbr to/in thirty/cd ,/, I/ppss thought/vbd ./.\\n\\n\\n\\t``/`` Bon/fw-jj jour/fw-nn ''/'' !/. !/.\\nShe/pps exclaimed/vbd ,/, smiling/vbg ./.\\n``/`` J'ai/fw-ppss+hv faim/fw-nn ''/'' !/. !/.\\n``/`` Yeah/rb ,/, but/cc breakfast/nn first/rb ''/'' ./.\\n\\n\\n\\tWith/in a/at laugh/nn she/pps beat/vbd me/ppo to/in the/at bathroom/nn ./.\\nI/ppss called/vbd downstairs/rb for/in food/nn and/cc a/at toothbrush/nn for/in her/ppo ./.\\nShe/pps came/vbd out/rp pink/jj from/in a/at hot/jj bath/nn ,/, and/cc I/ppss gave/vbd her/ppo my/pp$ robe/nn ./.\\nI/ppss had/hvd brushed/vbn my/pp$ teeth/nns ,/, showered/vbd ,/, shaved/vbd and/cc dressed/vbd by/in the/at time/nn a/at waiter/nn wheeled/vbd in/rp breakfast/nn ./.\\n\\n\\n\\t``/`` The/at toothbrush/nn Monsieur/np ''/'' ,/, he/pps said/vbd ,/, presenting/vbg it/ppo ./.\\nI/ppss gave/vbd it/ppo to/in the/at woman/nn ./.\\n\\n\\n\\t``/`` What/wdt is/bez this/dt for/in ''/'' ?/. ?/.\\nShe/pps asked/vbd innocently/rb ./.\\n\\n\\n\\t``/`` Why/wrb ,/, to/to brush/vb your/pp$ teeth/nns ''/'' ./.\\n\\n\\n\\t``/`` But/cc I/ppss already/rb have/hv !/. !/.\\nI/ppss used/vbd yours/pp$$ ''/'' ./.\\n\\n\\n\\t``/`` Oh/uh ''/'' ?/. ?/.\\nI/ppss said/vbd with/in round/jj eyes/nns ./.\\nI/ppss wondered/vbd if/cs I/ppss ought/md to/to go/vb use/vb the/at new/jj one/pn myself/ppl ./.\\nBut/cc I/ppss smelled/vbd the/at coffee/nn ,/, and/cc thinking/vbg ,/, What/wdt the/at hell/nn ,/, live/vb dangerously/rb ,/, I/ppss decided/vbd I/ppss would/md scald/vb my/pp$ worries/nns away/rb ./.\\nThe/at coffee/nn wasn't/bedz* very/ql hot/jj though/rb ,/, made/vbn in/in a/at filter/nn pot/nn ,/, but/cc it/pps was/bedz good/jj ./.\\nWe/ppss sent/vbd the/at waiter/nn away/rb and/cc ate/vbd a/at tremendous/jj amount/vb of/in cold/jj ham/nn ,/, hot/jj hard-boiled/jj eggs/nns and/cc hot/jj garlic/nn bread/nn ./.\\nAs/cs we/ppss ate/vbd ,/, we/ppss talked/vbd ./.\\nHer/pp$ name/nn was/bedz Suzanne/np ,/, and/cc mine/pp$$ Stephen/np ./.\\n\\n\\n\\tWe/ppss sat/vbd back/rb comfortably/rb on/in the/at bed/nn with/in our/pp$ last/ap cups/nns of/in coffee/nn ./.\\n\\n\\n\\t``/`` You/ppss are/ber very/ql tactful/jj ,/, do/do you/ppss know/vb ,/, Stephen/np ''/'' ,/, she/pps remarked/vbd ./.\\n\\n\\n\\t``/`` Um/uh ''/'' ?/. ?/.\\nI/ppss grunted/vbd ,/, sipping/vbg ./.\\n\\n\\n\\t``/`` Yes/rb ,/, because/cs you/ppss didn't/dod* run/vb off/rp to/to use/vb that/dt new/jj toothbrush/nn ''/'' ./.\\n\\n\\n\\tI/ppss raised/vbd my/pp$ eyes/nns to/to look/vb at/in her/ppo in/in the/at mirror/nn ./.\\n\\n\\n\\t``/`` I/ppss didn't/dod* really/rb use/vb yours/pp$$ ''/'' ,/, she/pps went/vbd on/rp ./.\\n``/`` I/ppss carry/vb one/cd in/in my/pp$ purse/nn ./.\\nI/ppss know/vb men/nns never/rb kiss/vb les/fw-at putains/fw-nns ''/'' ./.\\n\\n\\n\\tTo/in my/pp$ immense/jj relief/nn ,/, she/pps changed/vbd the/at subject/nn in/in the/at next/ap sentence/nn :/: ``/`` Shall/md we/ppss go/vb to/in the/at Louvre/np today/nr ''/'' ?/. ?/.\\n\\n\\n\\t``/`` All/ql right/rb ''/'' ./.\\nI/ppss said/vbd with/in enthusiasm/nn at/in the/at idea/nn ./.\\n``/`` But/cc not/* immediately/rb ''/'' ./.\\nI/ppss put/vbd aside/rb my/pp$ empty/jj cup/nn ./.\\nShe/pps smiled/vbd all/abn the/at way/nn to/in her/pp$ wise/jj ,/, sad/jj eyes/nns ,/, and/cc drained/vbd her/pp$ own/jj ./.\\n\\n\\n\\tWe/ppss were/bed not/* rushed/vbn ./.\\n\\n\\n\\t``/`` What/wdt is/bez this/dt from/in ''/'' ?/. ?/.\\nI/ppss asked/vbd ,/, touching/vbg the/at scar/nn on/in her/pp$ stomach/nn ./.\\nIt/pps was/bedz like/cs a/at long/jj thin/jj line/nn drawn/vbn through/in a/at pink/jj circle/nn ./.\\n\\n\\n\\t``/`` A/at bullet/nn ''/'' ,/, she/pps answered/vbd ./.\\nThe/at cynicism/nn was/bedz back/rb in/in her/pp$ eyes/nns ,/, a/at bitter/jj wisdom/nn ,/, and/cc I/ppss wondered/vbd if/cs forty/cd were/bed not/* so/ql far/ql wrong/jj after/in all/abn ./.\\nShe/pps understood/vbd sex/nn anyway/rb ,/, and/cc played/vbd at/in it/ppo well/rb ./.\\n\\n\\n\\tWe/ppss went/vbd to/in the/at Louvre/np for/in a/at few/ap hours/nns ,/, then/rb by/in Metro/np to/in a/at cabaret/nn in/in Montmartre/np ./.\\n\\n\\n\\tIt/pps was/bedz a/at nice/jj place/nn ,/, not/* filled/vbn with/in smoke/nn ./.\\nWe/ppss had/hvd champagne/nn and/cc steamed/vbn mussels/nns ./.\\nThe/at sommelier/nn brought/vbd the/at wine/nn first/rb ,/, a/at magnum/nn instead/rb of/in the/at bottle/nn I/ppss had/hvd ordered/vbn ./.\\nHe/pps must/md have/hv thought/vbn I/ppss was/bedz a/at tourist/nn ./.\\n\\n\\n\\tI/ppss fixed/vbd him/ppo with/in a/at steely/jj eye/nn and/cc said/vbd ,/, ``/`` What's/wdt+bez this/dt for/in ?/. ?/.\\nI/ppss didn't/dod* ask/vb for/in a/at Jeroboam/np of/in champagne/nn ''/'' ./.\\n\\n\\n\\tI/ppss thought/vbd that/dt was/bedz pretty/ql humorous/jj ,/, but/cc I/ppss didn't/dod* laugh/vb ./.\\n\\n\\n\\n\\tTwo/cd letters/nns had/hvd arrived/vbn for/in Miss/np Theresa/np Stubblefield/np :/: she/pps put/vbd them/ppo in/in her/pp$ bag/nn ./.\\nShe/pps would/md not/* stop/vb to/to read/vb them/ppo in/in American/jj-tl Express/nn-tl ,/, as/cs many/ap were/bed doing/vbg ,/, sitting/vbg on/in benches/nns or/cc leaning/vbg against/in the/at walls/nns ,/, but/cc pushed/vbd her/pp$ way/nn out/rp into/in the/at street/nn ./.\\nThis/dt was/bedz her/pp$ first/od day/nn in/in Rome/np and/cc it/pps was/bedz June/np ./.\\n\\n\\n\\tAn/at enormous/jj sky/nn of/in the/at most/ql delicate/jj blue/nn arched/vbd overhead/rb ./.\\nIn/in her/pp$ mind's/nn$ eye/nn --/-- her/pp$ imagination/nn responding/vbg fully/rb ,/, almost/ql exhaustingly/rb ,/, to/in these/dts shores'/nns$ peculiar/jj powers/nns of/in stimulation/nn --/-- she/pps saw/vbd the/at city/nn as/cs from/in above/rb ,/, telescoped/vbn on/in its/pp$ great/jj bare/jj plains/nns that/cs the/at ruins/nns marked/vbd ,/, aqueducts/nns and/cc tombs/nns ,/, here/rb a/at cypress/nn ,/, there/rb a/at pine/nn ,/, and/cc all/abn around/rb the/at low/jj blue/jj hills/nns ./.\\nPictures/nns in/in old/jj Latin/jj books/nns returned/vbd to/in her/ppo :/: the/at Appian/np-tl Way/nn-tl Today/nr ,/, the/at Colosseum/np ,/, the/at Arch/nn-tl of/in-tl Constantine/np-tl ./.\\nShe/pps would/md see/vb them/ppo ,/, looking/vbg just/rb as/cs they/ppss had/hvd in/in the/at books/nns ,/, and/cc this/dt would/md make/vb up/rp a/at part/nn of/in her/pp$ delight/nn ./.\\nMoreover/rb ,/, nursing/vbg various/jj Stubblefields/nps --/-- her/pp$ aunt/nn ,/, then/rb her/pp$ mother/nn ,/, then/rb her/pp$ father/nn --/-- through/in their/pp$ lengthy/jj illnesses/nns (/( everybody/pn could/md tell/vb you/ppo the/at Stubblefields/nps were/bed always/rb sick/jj )/) ,/, Theresa/np had/hvd had/hvn a/at chance/nn to/to read/vb quite/abl a/at lot/nn ./.\\nEngland/np ,/, France/np ,/, Germany/np ,/, Switzerland/np ,/, and/cc Italy/np had/hvd all/abn been/ben rendered/vbn for/in her/ppo time/nn and/cc again/rb ,/, and/cc between/in the/at prescribed/vbn hours/nns of/in pills/nns and/cc tonics/nns ,/, she/pps had/hvd conceived/vbn a/at dreamy/jj passion/nn by/in lamplight/nn ,/, to/to see/vb all/abn these/dts places/nns with/in her/pp$ own/jj eyes/nns ./.\\nThe/at very/ap night/nn after/in her/pp$ father's/nn$ funeral/nn she/pps had/hvd thought/vbn ,/, though/cs never/rb admitted/vbd to/in a/at soul/nn :/: Now/rb I/ppss can/md go/vb ./.\\nThere's/ex+bez nothing/pn to/to stop/vb me/ppo now/rb ./.\\nSo/cs here/rb it/pps was/bedz ,/, here/rb was/bedz Italy/np ,/, anyway/rb ,/, and/cc terribly/rb noisy/jj ./.\\n\\n\\n\\tIn/in the/at street/nn the/at traffic/nn was/bedz really/ql frightening/vbg ./.\\nCars/nns ,/, taxis/nns ,/, buses/nns ,/, and/cc motorscooters/nns all/abn went/vbd plunging/vbg at/in once/rb down/in the/at narrow/jj length/nn of/in it/ppo or/cc swerving/vbg perilously/rb around/in a/at fountain/nn ./.\\nShoals/nns of/in tourists/nns went/vbd by/in her/ppo in/in national/jj groups/nns --/-- English/jj school/nn girls/nns in/in blue/jj uniforms/nns ,/, German/jj boys/nns with/in cameras/nns attached/vbn ,/, smartly/rb dressed/vbn Americans/nps looking/vbg in/in shop/nn windows/nns ./.\\nGlad/jj to/to be/be alone/rb ,/, Theresa/np climbed/vbd the/at splendid/jj outdoor/jj staircase/nn that/wps opened/vbd to/in her/pp$ left/nr ./.\\nThe/at Spanish/jj-tl Steps/nns-tl ./.\\n\\n\\n\\tSomething/pn special/nn was/bedz going/vbg on/rp here/rb just/rb now/rb --/-- the/at annual/jj display/nn of/in azalea/nn plants/nns ./.\\nShe/pps had/hvd heard/vbn about/in it/ppo the/at night/nn before/rb at/in her/pp$ hotel/nn ./.\\nIt/pps was/bedz not/* yet/rb complete/jj :/: workmen/nns were/bed unloading/vbg the/at potted/vbn plants/nns from/in a/at truck/nn and/cc placing/vbg them/ppo in/in banked/vbn rows/nns on/in the/at steps/nns above/rb ./.\\nThe/at azaleas/nns were/bed as/ql large/jj as/cs shrubs/nns ,/, and/cc their/pp$ myriad/jj blooms/nns ,/, many/ap still/rb tight/jj in/in the/at bud/nn ,/, ranged/vbd in/in color/nn from/in purple/jj through/in fuchsia/nn and/cc rose/jj to/in the/at palest/jjt pink/jj ,/, along/in with/in many/ap white/jj ones/nns too/rb ./.\\nMarvelous/jj ,/, thought/vbd Theresa/np ,/, climbing/vbg in/in her/pp$ portly/jj ,/, well-bred/jj way/nn ,/, for/cs she/pps was/bedz someone/pn who/wps had/hvd learned/vbn that/cs if/cs you/ppss only/rb move/vb slowly/rb enough/qlp you/ppss have/hv time/nn to/to notice/vb everything/pn ./.\\nIn/in Rome/np ,/, all/abn over/in Europe/np ,/, she/pps intended/vbd to/to move/vb very/ql slowly/rb indeed/rb ./.\\n\\n\\n\\tHalfway/rb up/in the/at staircase/nn she/pps stopped/vbd and/cc sat/vbd down/rp ./.\\nOther/ap people/nns were/bed doing/vbg it/ppo ,/, too/rb ,/, sitting/vbg all/abn along/in the/at wide/jj banisters/nns and/cc leaning/vbg over/in the/at parapets/nns above/rb ,/, watching/vbg the/at azaleas/nns mass/vb ,/, or/cc just/rb enjoying/vbg the/at sun/nn ./.\\nTheresa/np sat/vbd with/in her/pp$ letters/nns in/in her/pp$ lap/nn ,/, breathing/vbg Mediterranean/np air/nn ./.\\nThe/at sun/nn warmed/vbd her/ppo ,/, as/cs it/pps seemed/vbd to/to be/be warming/vbg everything/pn ,/, perhaps/rb even/rb the/at underside/nn of/in stones/nns or/cc the/at chill/nn insides/nns of/in churches/nns ./.\\nShe/pps loosened/vbd her/ppo tweed/nn jacket/nn and/cc smoked/vbd a/at cigarette/nn ./.\\nContent/jj excited/vbn ;/. ;/.\\nhow/wrb could/md you/ppo be/be both/abx at/in once/rb ?/. ?/.\\nStrange/jj ,/, but/cc she/pps was/bedz ./.\\nPresently/rb ,/, she/pps picked/vbd up/rp the/at first/od of/in the/at letters/nns ./.\\n\\n\\n\\tA/at few/ap moments/nns later/rbr her/pp$ hands/nns were/bed trembling/vbg and/cc her/pp$ brow/nn had/hvd contracted/vbn with/in anxiety/nn and/cc dismay/nn ./.\\nOf/in course/nn ,/, one/pn of/in them/ppo would/md have/hv to/to go/vb and/cc do/do this/dt !/. !/.\\nPoor/jj Cousin/nn-tl Elec/np ,/, she/pps thought/vbd ,/, tears/nns rising/vbg to/to sting/vb in/in the/at sun/nn ,/, but/cc why/wrb couldn't/md* he/pps have/hv arranged/vbn to/to live/vb through/in the/at summer/nn ?/. ?/.\\nAnd/cc how/wrb on/in earth/nn did/dod I/ppss ever/rb get/vb this/dt letter/nn anyway/rb ?/. ?/.\\n\\n\\n\\tShe/pps had/hvd reason/nn indeed/rb to/to wonder/vb how/wrb the/at letter/nn had/hvd managed/vbn to/to find/vb her/ppo ./.\\nHer/pp$ Cousin/nn-tl Emma/np Carraway/np had/hvd written/vbn it/ppo ,/, in/in her/pp$ loose/jj high/jj old/jj lady's/nn$ script/nn --/-- t's/nn carefully/rb crossed/vbn ,/, but/cc l's/nn inclined/vbn to/to wobble/vb like/cs an/at old/jj car/nn on/in the/at downward/rb slope/nn ./.\\nCousin/nn-tl Emma/np had/hvd simply/rb put/vbn Miss/np Theresa/np Stubblefield/np ,/, Rome/np ,/, Italy/np ,/, on/in the/at envelope/nn ,/, had/hvd walked/vbn up/rp to/in the/at post/nn office/nn in/in Tuxapoka/np ,/, Alabama/np ,/, and/cc mailed/vbd it/ppo with/in as/ql much/ap confidence/nn as/cs if/cs it/pps had/hvd been/ben a/at birthday/nn card/nn to/in her/pp$ next-door/jj neighbor/nn ./.\\nNo/at return/nn address/nn whatsoever/wps ./.\\nSomebody/pn had/hvd scrawled/vbn American/jj-tl Express/nn-tl ,/, Piazza/fw-nn-tl di/fw-in-tl Spagna/fw-np-tl ?/. ?/.\\n,/, across/in the/at envelope/nn ,/, and/cc now/rb Theresa/np had/hvd it/ppo ,/, all/abn as/ql easily/rb as/cs if/cs she/pps had/hvd been/ben the/at President/nn-tl of/in-tl the/at-tl Republic/nn-tl or/cc the/at Pope/nn-tl ./.\\nInside/rb were/bed all/abn the/at things/nns they/ppss thought/vbd she/pps ought/md to/to know/vb concerning/in the/at last/ap illness/nn ,/, death/nn ,/, and/cc burial/nn of/in Cousin/nn-tl Alexander/np Carraway/np ./.\\n\\n\\n\\tCousin/nn-tl Emma/np and/cc Cousin/nn-tl Elec/np ,/, brother/nn and/cc sister/nn --/-- unmarried/jj ,/, devoted/vbn ,/, aging/vbg --/-- had/hvd lived/vbn next/ap door/nn to/in the/at Stubblefields/nps in/in Tuxapoka/np from/in time/nn immemorial/jj until/cs the/at Stubblefields/nps had/hvd moved/vbn to/in Montgomery/np fifteen/cd years/nns ago/rb ./.\\nTwo/cd days/nns before/cs he/pps was/bedz taken/vbn sick/jj ,/, Cousin/nn-tl Elec/np was/bedz out/rp worrying/vbg about/in what/wdt too/ql much/ap rain/nn might/md do/do to/in his/pp$ sweetpeas/nns ,/, and/cc Cousin/nn-tl Elec/np had/hvd always/rb preserved/vbn in/in the/at top/jjs drawer/nn of/in his/pp$ secretary/nn a/at mother-of-pearl/nn paper/nn knife/nn which/wdt Theresa/np had/hvd coveted/vbn as/cs a/at child/nn and/cc which/wdt he/pps had/hvd promised/vbn she/pps could/md have/hv when/wrb he/pps died/vbd ./.\\nI'm/ppss+bem supposed/vbn to/to care/vb as/ql much/rb now/rb as/cs then/rb ,/, as/ql much/rb here/rb as/cs there/rb ,/, she/pps realized/vbd ,/, with/in a/at sigh/nn ./.\\nThis/dt letter/nn would/md have/hv got/vbn to/in me/ppo if/cs she/pps hadn't/hvd* even/rb put/vbn Rome/np ,/, Italy/np ,/, on/in it/ppo ./.\\n\\n\\n\\tShe/pps refolded/vbd the/at letter/nn ,/, replaced/vbd it/ppo in/in its/pp$ envelope/nn ,/, and/cc turned/vbd with/in relief/nn to/in one/cd from/in her/pp$ brother/nn George/np ./.\\n\\n\\n\\tBut/cc alas/uh George/np ,/, when/wrb he/pps had/hvd written/vbn ,/, had/hvd only/rb just/rb returned/vbn from/in going/vbg to/in Tuxapoka/np to/in Cousin/nn-tl Elec's/np$ funeral/nn ./.\\nHe/pps was/bedz full/jj of/in heavy/jj family/nn reminiscence/nn ./.\\nAll/ql the/at fine/jj old/jj stock/nn was/bedz dying/vbg out/rp ,/, look/vb at/in the/at world/nn today/nr ./.\\nHis/pp$ own/jj children/nns had/hvd suffered/vbn from/in the/at weakening/nn of/in those/dts values/nns which/wdt he/pps and/cc Theresa/np had/hvd always/rb taken/vbn for/in granted/vbn ,/, and/cc as/in for/in his/pp$ grandchildren/nns (/( he/pps had/hvd one/cd so/ql far/rb ,/, still/rb in/in diapers/nns )/) ,/, he/pps shuddered/vbd to/to think/vb that/cs the/at true/jj meaning/nn of/in character/nn might/md never/rb dawn/vb on/in them/ppo at/in all/abn ./.\\nA/at life/nn of/in gentility/nn and/cc principle/nn such/jj as/cs Cousin/nn-tl Elec/np had/hvd lived/vbn had/hvd to/to be/be known/vbn at/in first/od hand/nn ./.\\n\\n\\n\\tPoor/jj George/np !/. !/.\\nThe/at only/ap boy/nn ,/, the/at family/nn darling/nn ./.\\nTogether/rb with/in her/pp$ mother/nn ,/, both/abx of/in them/ppo tense/jj with/in worry/nn lest/cs things/nns should/md somehow/rb go/vb wrong/jj ./.\\nTheresa/np had/hvd seen/vbn him/ppo through/in the/at right/jj college/nn ,/, into/in the/at right/jj fraternity/nn ,/, and/cc though/cs pursued/vbn by/in various/jj girls/nns and/cc various/jj mammas/nns of/in girls/nns ,/, safely/rb married/vbn to/in the/at right/jj sort/nn ,/, however/wql much/rb in/in the/at early/jj years/nns of/in that/dt match/nn his/pp$ wife/nn ,/, Anne/np ,/, had/hvd not/* seemed/vbn to/to understand/vb poor/jj George/np ./.\\nCould/md it/pps just/rb be/be ,/, Theresa/np wondered/vbd ,/, that/cs Anne/np had/hvd understood/vbn only/rb too/ql well/rb ,/, and/cc that/cs George/np all/abn along/rb was/bedz extraordinary/jj only/rb in/in the/at degree/nn to/in which/wdt he/pps was/bedz dull/jj ?/. ?/.\\n\\n\\n\\tAs/in for/in Cousin/nn-tl Alexander/np Carraway/np ,/, the/at only/ap thing/nn Theresa/np could/md remember/vb at/in the/at moment/nn about/in him/ppo (/( except/in his/pp$ paper/nn knife/nn )/) was/bedz that/cs he/pps had/hvd had/hvn exceptionally/ql long/jj hands/nns and/cc feet/nns and/cc one/cd night/nn about/in one/cd o'clock/rb in/in the/at morning/nn the/at whole/jj Stubblefield/np family/nn had/hvd been/ben aroused/vbn to/to go/vb next/ap door/nn at/in Cousin/nn-tl Emma's/np$ call/nn --/-- first/rb Papa/np ,/, then/rb Mother/nn-tl ,/, then/rb Theresa/np and/cc George/np ./.\\nThere/rb they/ppss all/abn did/dod their/pp$ uttermost/nn to/to help/vb Cousin/nn-tl Elec/np get/vb a/at cramp/nn out/in of/in his/pp$ foot/nn ./.\\nHe/pps had/hvd hobbled/vbn downstairs/rb into/in the/at parlor/nn ,/, in/in his/pp$ agony/nn ,/, and/cc was/bedz sitting/vbg ,/, wrapped/vbn in/in his/pp$ bathrobe/nn ,/, on/in a/at footstool/nn ./.\\nHe/pps held/vbd his/pp$ long/jj clenched/vbn foot/nn in/in both/abx hands/nns ,/, and/cc this/dt and/cc his/pp$ contorted/vbn face/nn --/-- he/pps was/bedz trying/vbg heroically/rb not/* to/to cry/vb out/rp --/-- made/vbd him/ppo look/vb like/cs a/at large/jj skinny/jj old/jj monkey/nn ./.\\nThey/ppss all/abn surrounded/vbd him/ppo ,/, the/at family/nn circle/nn ,/, Theresa/np and/cc George/np as/ql solemn/jj as/cs if/cs they/ppss were/bed watching/vbg the/at cat/nn have/hv kittens/nns ,/, and/cc Cousin/nn-tl Emma/np running/vbg back/rb and/cc forth/rb with/in a/at kettle/nn of/in hot/jj water/nn which/wdt she/pps poured/vbd steaming/vbg into/in a/at white/jj enamelled/vbn pan/nn ./.\\n``/`` Can/md you/ppss think/vb of/in anything/pn to/to do/do ''/'' ?/. ?/.\\nShe/pps kept/vbd repeating/vbg ./.\\n``/`` I/ppss hate/vb to/to call/vb the/at doctor/nn but/cc if/cs this/dt keeps/vbz up/rp I'll/ppss+md just/rb have/hv to/to !/. !/.\\nCan/md you/ppss think/vb of/in anything/pn to/to do/do ''/'' ?/. ?/.\\n``/`` You/ppss might/md treat/vb it/ppo like/cs the/at hiccups/nns ''/'' ,/, said/vbd Papa/np ./.\\n``/`` Drop/vb a/at cold/jj key/nn down/in his/pp$ back/nn ''/'' ./.\\n``/`` I/ppss just/rb hope/vb this/dt happens/vbz to/in you/ppo someday/rb ''/'' ,/, said/vbd Cousin/nn-tl Elec/np ,/, who/wps was/bedz not/* at/in his/pp$ best/jjt ./.\\n``/`` Poor/jj Cousin/nn-tl Elec/np ''/'' ,/, George/np said/vbd ./.\\nHe/pps was/bedz younger/jjr than/cs Theresa/np :/: she/pps remembered/vbd looking/vbg down/rp and/cc seeing/vbg his/pp$ great/jj round/jj eyes/nns ,/, while/cs at/in the/at same/ap time/nn she/pps was/bedz dimly/rb aware/jj that/cs her/pp$ mother/nn and/cc father/nn were/bed not/* unamused/jj ./.\\n``/`` Poor/jj Cousin/nn-tl Elec/np ''/'' ./.\\n\\n\\n\\tNow/rb ,/, here/rb they/ppss both/abx were/bed ,/, still/rb the/at same/ap ,/, George/np full/jj of/in round-eyed/jj woe/nn ,/, and/cc Cousin/nn-tl Emma/np in/in despair/nn ./.\\nTheresa/np shifted/vbd to/in a/at new/jj page/nn ./.\\n\\n\\n\\t``/`` Of/in course/nn (/( George's/np$ letter/nn continued/vbd )/) ,/, there/ex are/ber practical/jj problems/nns to/to be/be considered/vbn ./.\\nCousin/nn-tl Emma/np is/bez alone/rb in/in that/dt big/jj old/jj house/nn and/cc won't/md* hear/vb to/in parting/vbg from/in it/ppo ./.\\nRobbie/np and/cc Beryl/np tried/vbd their/pp$ best/jjt to/to persuade/vb her/ppo to/to come/vb and/cc stay/vb with/in them/ppo ,/, and/cc Anne/np and/cc I/ppss have/hv told/vbn her/ppo she's/pps+bez more/ap than/in welcome/jj here/rb ,/, but/cc I/ppss think/vb she/pps feels/vbz that/cs she/pps might/md be/be an/at imposition/nn ,/, especially/rb as/ql long/jj as/cs our/pp$ Rosie/np is/bez still/rb in/in high/jj school/nn ./.\\nThe/at other/ap possibility/nn is/bez to/to make/vb arrangements/nns for/in her/ppo to/to let/vb out/rp one/cd or/cc two/cd of/in the/at rooms/nns to/in some/dti teacher/nn of/in good/jj family/nn or/cc one/cd of/in those/dts solitary/jj old/jj ladies/nns that/wps Tuxapoka/np is/bez populated/vbn with/in --/-- Miss/np Edna/np Whittaker/np ,/, for/in example/nn ./.\\nBut/cc there/ex is/bez more/ap in/in this/dt than/cs meets/vbz the/at eye/nn ./.\\nA/at new/jj bathroom/nn would/md certainly/rb have/hv to/to be/be put/vbn in/rp ./.\\nThe/at wallpaper/nn in/in the/at back/jj bedroom/nn is/bez literally/rb crumbling/vbg off/rp ./.\\n''/'' (/( Theresa/np skipped/vbd a/at page/nn of/in details/nns about/in the/at house/nn ./.\\n)/) ``/`` I/ppss hope/vb if/cs you/ppss have/hv any/dti ideas/nns along/in these/dts lines/nns you/ppss will/md write/vb me/ppo about/in them/ppo ./.\\nI/ppss may/md settle/vb on/in some/dti makeshift/jj arrangements/nns for/in the/at summer/nn and/cc wait/vb until/cs you/ppss return/vb in/in the/at fall/nn so/cs we/ppss can/md work/vb out/rp together/rb the/at best/jjt ./.\\n''/'' \\n\\n\\tI/ppss really/rb shouldn't/md* have/hv smoked/vbn a/at cigarette/nn so/ql early/rb in/in the/at day/nn ,/, thought/vbd Theresa/np ,/, it/pps always/rb makes/vbz me/ppo sick/jj ./.\\nI'll/ppss+md start/vb sneezing/vbg in/in a/at minute/nn ,/, sitting/vbg on/in these/dts cold/jj steps/nns ./.\\nShe/pps got/vbd up/rp ,/, standing/vbg uncertainly/rb for/in a/at moment/nn ,/, then/rb moving/vbg aside/rb to/to let/vb go/vb past/in her/ppo ,/, talking/vbg ,/, a/at group/nn of/in young/jj men/nns ./.\\nThey/ppss wore/vbd shoes/nns with/in pointed/vbn toes/nns ,/, odd/jj to/in American/jj eyes/nns ,/, and/cc narrow/jj trousers/nns ,/, and/cc their/pp$ hair/nn looked/vbd unnaturally/rb black/jj and/cc slick/jj ./.\\nYet/rb here/rb they/ppss were/bed obviously/rb thought/vbn to/to be/be handsome/jj ,/, and/cc felt/vbd themselves/ppls to/to be/be so/rb ./.\\nJust/rb then/rb a/at man/nn approached/vbd her/ppo with/in a/at tray/nn of/in cheap/jj cameos/nns ,/, Parker/np fountain/nn pens/nns ,/, rosaries/nns ,/, papal/jj portraits/nns ./.\\n``/`` No/rb ''/'' ,/, said/vbd Theresa/np ./.\\n``/`` No/rb ,/, no/rb ''/'' !/. !/.\\nShe/pps said/vbd ./.\\nThe/at man/nn did/dod not/* wish/vb to/to leave/vb ./.\\nHe/pps knew/vbd how/wrb to/to spread/vb himself/ppl against/in the/at borders/nns of/in the/at space/nn that/wps had/hvd to/to separate/vb them/ppo ./.\\nCarrozza/fw-nn rides/nns in/in the/at park/nn ,/, the/at Colosseum/np by/in moonlight/nn ,/, he/pps specialized/vbd ./.\\nTheresa/np turned/vbd away/rb to/to escape/vb ,/, and/cc climbed/vbd to/in a/at higher/jjr landing/nn where/wrb the/at steps/nns divided/vbd in/in two/cd ./.\\nThere/rb she/pps walked/vbd to/in the/at far/ql left/nr and/cc leaned/vbd on/in a/at vacant/jj section/nn of/in banister/nn ,/, while/cs the/at vendor/nn picked/vbd himself/ppl another/dt well-dressed/jj American/jj lady/nn ,/, carrying/vbg a/at camera/nn and/cc a/at handsome/jj alligator/nn bag/nn ,/, ascending/vbg the/at steps/nns alone/rb ./.\\nWas/bedz he/pps ever/rb successful/jj ,/, Theresa/np wondered/vbd ./.\\nThe/at lady/nn with/in the/at alligator/nn bag/nn registered/vbd interest/nn ,/, doubt/nn ,/, then/jj indignation/nn ;/. ;/.\\nat/in last/rb ,/, alarm/nn ./.\\nShe/pps cast/vbd about/rb as/cs though/cs looking/vbg for/in a/at policeman/nn :/: this/dt really/rb shouldn't/md* be/be allowed/vbn !/. !/.\\nFinally/rb ,/, she/pps scurried/vbd away/rb up/in the/at steps/nns ./.\\n\\n\\n\\tTheresa/np Stubblefield/np ,/, still/rb holding/vbg the/at family/nn letters/nns in/in one/cd hand/nn ,/, realized/vbd that/cs her/pp$ whole/jj trip/nn to/in Europe/np was/bedz viewed/vbn in/in family/nn circles/nns as/cs an/at interlude/nn between/in Cousin/nn-tl Elec's/np$ death/nn and/cc ``/`` doing/vbg something/pn ''/'' about/in Cousin/nn-tl Emma/np ./.\\nThey/ppss were/bed even/rb ,/, Anne/np and/cc George/np ,/, probably/rb thinking/vbg themselves/ppls very/ql considerate/jj in/in not/* hinting/vbg that/cs she/pps really/rb should/md cut/vb out/rp ``/`` one/cd or/cc two/cd countries/nns ''/'' and/cc come/vb home/nr in/in August/np to/to get/vb Cousin/nn-tl Emma's/np$ house/nn ready/jj before/cs the/at teachers/nns came/vbd to/in Tuxapoka/np in/in September/np ./.\\nOf/in course/nn ,/, it/pps wasn't/bedz* Anne/np and/cc George's/np$ fault/nn that/cs one/cd family/nn crisis/nn seemed/vbd to/to follow/vb another/dt ,/, and/cc weren't/bed* they/ppss always/rb emphasizing/vbg that/cs they/ppss really/rb didn't/dod* know/vb what/wdt they/ppss would/md do/do without/in Theresa/np ?/. ?/.\\nThe/at trouble/nn is/bez ,/, Theresa/np thought/vbd ,/, that/cs while/cs everything/pn that/dt happens/vbz there/ex is/bez supposed/vbn to/to matter/vb supremely/rb ,/, nothing/pn here/rb is/bez supposed/vbn even/rb to/to exist/vb ./.\\nThey/ppss would/md not/* care/vb if/cs all/abn of/in Europe/np were/bed to/to sink/vb into/in the/at ocean/nn tomorrow/nr ./.\\nIt/pps never/rb registered/vbd with/in them/ppo that/cs I/ppss had/hvd time/nn to/to read/vb all/abn of/in Balzac/np ,/, Dickens/np ,/, and/cc Stendhal/np while/cs Papa/np was/bedz dying/vbg ,/, not/* to/to mention/vb everything/pn in/in the/at city/nn library/nn after/in Mother's/nn$-tl operation/nn ./.\\nIt/pps would/md have/hv been/ben exactly/rb the/at same/ap to/in them/ppo if/cs I/ppss had/hvd read/vbn through/in all/abn twenty-six/cd volumes/nns of/in Elsie/np Dinsmore/np ./.\\n\\n\\n\\tShe/pps arranged/vbd the/at letters/nns carefully/rb ,/, one/cd on/in top/nn of/in the/at other/ap ./.\\nThen/rb ,/, with/in a/at motion/nn so/ql suddenly/rb violent/jj that/cs she/pps amazed/vbd herself/ppl ,/, she/pps tore/vbd them/ppo in/in two/cd ./.\\n\\n\\n\\t``/`` Signora/fw-nn ''/'' ?/. ?/.\\n\\n\\n\\tShe/pps became/vbd aware/jj that/cs two/cd Italian/jj workmen/nns ,/, carrying/vbg a/at large/jj azalea/nn pot/nn ,/, were/bed standing/vbg before/in her/ppo and/cc wanted/vbd her/ppo to/to move/vb so/cs that/cs they/ppss could/md begin/vb arranging/vbg a/at new/jj row/nn of/in the/at display/nn ./.\\n\\n\\n\\t``/`` Mi/fw-ppo diapiace/fw-vbz ,/, Signora/np ,/, ma/fw-cs insomma/uh ./.\\n''/'' \\n\\n\\t``/`` Oh/uh put/vb it/ppo there/rb ''/'' !/. !/.\\nShe/pps indicated/vbd a/at spot/nn a/at little/ap distance/nn away/rb ./.\\n\\n\\n\\n\\n\\nI/ppss knew/vbd it/ppo as/ql surely/rb as/cs everybody/pn in/in Westfield/np --/-- that/cs Lucille/np was/bedz a/at husband/nn stealer/nn ./.\\nYou/ppss can't/md* keep/vb that/dt kind/nn of/in information/nn quiet/jj in/in a/at town/nn of/in only/rb 4000-plus/cd ./.\\nAnd/cc I've/ppss+hv been/ben told/vbn that/cs just/rb about/rb every/at town/nn ,/, no/at matter/nn what/wdt its/pp$ size/nn ,/, has/hvz its/pp$ Lucille/np Warren/np ./.\\n\\n\\n\\tJust/rb as/cs it/pps has/hvz its/pp$ Susan/np Dolan/np ,/, though/cs nobody'd/pn+hvd ever/rb bothered/vbn to/to tell/vb me/ppo that/dt ./.\\nSusan/np Dolan/np ,/, that's/dt+bez me/ppo ./.\\n\\n\\n\\tThey/ppss even/rb talked/vbd about/in Lucille/np down/rp at/in the/at Young/jj-tl Christians'/nps$-tl League/nn-tl where/wrb I/ppss spent/vbd a/at lot/nn of/in time/nn in/in Bible/np classes/nns and/cc helping/vbg out/rp with/in the/at office/nn work/nn for/in our/pp$ foreign/jj mission/nn ./.\\nI/ppss never/rb heard/vbd my/pp$ folks/nns talk/vb about/in her/ppo ,/, though/rb ./.\\nThey/ppss were/bed good-living/jj religious/jj people/nns ,/, and/cc I/ppss can/md truthfully/rb say/vb I/ppss never/rb heard/vbd them/ppo spread/vb any/dti gossip/nn about/in anybody/pn ./.\\nEven/rb if/cs they/ppss ever/rb did/dod say/vb anything/pn about/in people/nns like/vb Lucille/np Warren/np ,/, I/ppss know/vb they/ppss wouldn't/md* have/hv dreamed/vbn of/in saying/vbg it/ppo in/in front/nn of/in me/ppo ./.\\nMy/pp$ folks/nns and/cc my/pp$ faith/nn protected/vbd me/ppo from/in things/nns like/cs that/dt ./.\\n\\n\\n\\tAnd/cc so/cs I/ppss was/bedz really/rb upset/vbn the/at first/od time/nn I/ppss discovered/vbd that/cs my/pp$ boy/nn friend/nn Johnnie/np was/bedz seeing/vbg Mrs./np Warren/np ./.\\nI/ppss asked/vbd him/ppo about/in it/ppo one/cd night/nn while/cs we/ppss were/bed sitting/vbg in/in his/pp$ truck/nn ./.\\nI/ppss asked/vbd him/ppo if/cs it/pps was/bedz true/jj ./.\\n\\n\\n\\tHe/pps gave/vbd me/ppo a/at straight/jj ,/, honest/jj answer/nn ./.\\n``/`` Look/vb ,/, Sue/np baby/nn ''/'' ,/, he'd/pps+hvd said/vbn ./.\\nMuch/rb as/cs I/ppss love/vb you/ppo --/-- well/uh ,/, a/at guy's/nn+bez a/at guy/nn and/cc Lucille's/np+bez willing/jj to/to --/-- to/to come/vb across/rb ./.\\nHonest/jj ,/, kitten/nn ,/, that's/dt+bez all/abn it/pps is/bez --/-- I/ppss don't/do* even/rb like/vb Lucille/np much/rb ''/'' ./.\\n\\n\\n\\tI/ppss guess/vb it/pps was/bedz at/in that/dt moment/nn that/cs I/ppss realized/vbd what/wdt I/ppss was/bedz up/rp against/rb in/in the/at person/nn of/in Lucille/np Warren/np ./.\\nBut/cc it/pps didn't/dod* seem/vb fair/jj ./.\\nMy/pp$ love/nn for/in Johnnie/np was/bedz young/jj and/cc clean/jj --/-- how/wrb could/md I/ppss possibly/rb compete/vb with/in a/at woman/nn like/cs that/dt ,/, who/wps didn't/dod* hesitate/vb to/to use/vb her/pp$ sex/nn ./.\\n\\n\\n\\tJohnnie/np was/bedz a/at trucker/nn with/in a/at small/jj lumber/nn outfit/nn in/in a/at town/nn about/in twenty/cd miles/nns away/rb ,/, and/cc he/pps was/bedz also/rb pretty/ql good/jj at/in anything/pn in/in the/at carpentry/nn line/nn ./.\\nIt/pps was/bedz a/at vivid/jj ,/, sharp/jj February/np morning/nn that/cs Johnnie/np first/rb made/vbd his/pp$ appearance/nn in/in my/pp$ back/nn yard/nn ,/, bringing/vbg some/dti stuff/nn Dad/nn-tl had/hvd ordered/vbn ./.\\nI/ppss wasn't/bedz* in/in the/at habit/nn of/in batting/vbg my/pp$ eyes/nns at/in delivery/nn men/nns ,/, but/cc the/at moment/nn I/ppss saw/vbd Johnnie/np ,/, I/ppss knew/vbd he/pps was/bedz different/jj ./.\\nHe/pps wasn't/bedz* only/rb different/jj --/-- he/pps was/bedz it/pps ./.\\nHe/pps had/hvd an/at easy/jj masculine/jj grace/nn about/in him/ppo ,/, the/at kind/nn that/wps kids/nns don't/do* have/hv ,/, but/cc that/cs I/ppss had/hvd sometimes/rb admired/vbn in/in other/ap older/jjr men/nns ./.\\nHis/pp$ smile/nn was/bedz quick/jj ,/, and/cc his/pp$ eyes/nns held/vbd some/dti promised/vbn secret/nn that/wps made/vbd my/pp$ knees/nns go/vb limp/jj ./.\\n\\n\\n\\tThe/at most/ql unbelievable/jj thing/nn about/in the/at chance/nn meeting/nn was/bedz that/cs he/pps seemed/vbd interested/vbn in/in me/ppo ,/, too/rb ./.\\nI/ppss could/md hardly/rb believe/vb such/jj good/jj luck/nn was/bedz mine/pp$$ ./.\\n\\n\\n\\tAnd/cc now/rb Lucille/np Warren/np had/hvd gotten/vbn a/at look/nn at/in him/ppo ./.\\nI/ppss guess/vb she/pps was/bedz between/in affairs/nns or/cc something/pn ,/, but/cc anyway/rb ,/, she/pps had/hvd set/vbn her/pp$ sights/nns on/in Johnnie/np ,/, my/pp$ Johnnie/np ./.\\n\\n\\n\\tI/ppss didn't/dod* like/vb it/ppo one/cd bit/nn ./.\\nBut/cc what/wdt could/md I/ppss do/do ?/. ?/.\\nA/at man/nn had/hvd to/to have/hv his/pp$ release/nn --/-- at/in least/ap that's/dt+bez what/wdt the/at boys/nns used/vbd to/to say/vb in/in high/jj school/nn --/-- and/cc I/ppss wasn't/bedz* providing/vbg it/ppo for/in Johnnie/np ./.\\nNeither/cc was/bedz his/pp$ wife/nn ./.\\nShe/pps wouldn't/md* have/hv ,/, even/rb if/cs he'd/pps+hvd asked/vbn her/ppo ./.\\n\\n\\n\\tBut/cc he/pps wouldn't/md* ask/vb her/ppo --/-- he/pps wasn't/bedz* the/at kind/nn of/in man/nn who/wps would/md force/vb his/pp$ wife/nn to/to submit/vb to/in him/ppo against/in her/pp$ will/nn ./.\\nAnd/cc he/pps wouldn't/md* leave/vb her/ppo either/cc --/-- he'd/pps+hvd told/vbn me/ppo that/dt ./.\\nHe/pps was/bedz too/ql honorable/jj to/to leave/vb his/pp$ wife/nn penniless/jj and/cc leave/vb those/dts helpless/jj children/nns without/in their/pp$ daddy/nn ./.\\n\\n\\n\\tJohnnie/np loved/vbd me/ppo and/cc wanted/vbd me/ppo ./.\\nBut/cc the/at only/ap love/nn I/ppss was/bedz giving/vbg him/ppo was/bedz the/at pure/jj kind/nn ./.\\nIt/pps was/bedz weeks/nns before/cs we/ppss even/rb kissed/vbd for/in the/at first/od time/nn ./.\\n\\n\\n\\n\\nAgainst/in my/pp$ folks'/nns$ wishes/nns ,/, we'd/ppss+hvd been/ben seeing/vbg each/dt other/ap for/in short/jj rides/nns in/in the/at truck/nn ./.\\nThe/at rides/nns were/bed tame/jj enough/qlp --/-- mostly/rb we/ppss talked/vbd ./.\\nBut/cc by/in the/at time/nn the/at first/od crackling/nn of/in spring/nn came/vbd around/rb ,/, we/ppss both/abx knew/vbd we/ppss were/bed hopelessly/rb in/in love/nn ./.\\nYet/rb even/rb then/rb we/ppss did/dod nothing/pn much/ap but/in talk/vb ,/, and/cc maybe/rb neck/vb a/at little/ap ./.\\n\\n\\n\\t``/`` It's/pps+bez so/ql crazy/jj ''/'' ,/, I/ppss told/vbd him/ppo once/rb ./.\\n``/`` I/ppss always/rb imagined/vbd I/ppss would/md probably/rb end/vb up/rp marrying/vbg a/at minister/nn or/cc somebody/pn like/cs that/dt ./.\\nSomebody/pn with/in no/at vices/nns ./.\\nYou/ppss know/vb ''/'' ./.\\n\\n\\n\\t``/`` And/cc you/ppss fall/vb for/in a/at lumber/nn jockey/nn ''/'' ./.\\n\\n\\n\\t``/`` Who/wps drinks/vbz far/ql too/ql much/rb ''/'' ./.\\n\\n\\n\\t``/`` And/cc smokes/vbz too/ql much/rb ''/'' ./.\\n\\n\\n\\t``/`` And/cc ''/'' ,/, I/ppss was/bedz ticking/vbg off/rp the/at items/nns on/in my/pp$ fingers/nns ,/, ``/`` swears/vbz too/ql much/rb and/cc goes/vbz out/rp with/in the/at boys/nns ,/, whoever/wps they/ppss are/ber ,/, too/ql much/rb ,/, and/cc who/wps ever/rb goes/vbz to/in church/nn and/cc won't/md* even/rb listen/vb when/wrb I/ppss try/vb to/to persuade/vb him/ppo to/to come/vb back/rb to/in the/at fold/nn ''/'' ./.\\n\\n\\n\\tHe/pps examined/vbd his/pp$ nails/nns carefully/rb ./.\\n``/`` I/ppss could/md walk/vb out/in the/at door/nn ''/'' ./.\\n\\n\\n\\t``/`` Don't/do* you/ppss dare/vb ''/'' ./.\\n\\n\\n\\t``/`` And/cc never/rb show/vb my/pp$ face/nn or/cc my/pp$ truck/nn around/in here/rb again/rb ''/'' ./.\\nHe/pps still/rb wasn't/bedz* looking/vbg at/in me/ppo ./.\\n\\n\\n\\t``/`` You/ppss wouldn't/md* ''/'' ./.\\n\\n\\n\\t``/`` Or/cc I/ppss could/md visit/vb Lucille/np Warren/np ''/'' ./.\\n\\n\\n\\t``/`` You/ppss wouldn't/md* ./.\\nPlease/uh !/. !/.\\nYou/ppss wouldn't/md* ''/'' ./.\\n\\n\\n\\tHe/pps shrugged/vbd noncommittally/rb ./.\\n``/`` I/ppss might/md ''/'' ./.\\n\\n\\n\\tAnd/cc now/rb he/pps was/bedz seeing/vbg her/ppo ./.\\nHe'd/pps+hvd just/rb admitted/vbn it/ppo to/in me/ppo ./.\\nI/ppss huddled/vbd miserably/rb beside/in him/ppo in/in the/at truck/nn ./.\\nIt/pps was/bedz all/abn my/pp$ doing/nn --/-- his/pp$ seeing/vbg her/ppo ./.\\nJohnnie/np and/cc I/ppss had/hvd been/ben innocent/jj in/in our/pp$ love/nn ,/, and/cc that/dt was/bedz the/at way/nn I/ppss wanted/vbd to/to keep/vb it/ppo ./.\\nAt/in first/rb ,/, Johnnie/np hadn't/hvd* understood/vbn --/-- how/wrb could/md he/pps ,/, not/* being/beg a/at religious/jj person/nn like/cs me/ppo ?/. ?/.\\nBut/cc then/rb he/pps had/hvd said/vbn ,/, ``/`` All/ql right/rb ,/, kid/nn ,/, if/cs that's/dt+bez how/wrb you/ppss want/vb it/ppo ,/, that's/dt+bez how/wrb it'll/pps+md be/be ''/'' ./.\\n\\n\\n\\tBut/cc what/wdt had/hvd I/ppss done/vbn ,/, trying/vbg to/to keep/vb us/ppo pure/jj ?/. ?/.\\nI/ppss had/hvd driven/vbn him/ppo into/in the/at arms/nns of/in that/dt scheming/vbg woman/nn ./.\\nI/ppss had/hvd just/rb the/at same/ap as/cs delivered/vbd him/ppo into/in the/at hands/nns of/in the/at Devil/nn-tl !/. !/.\\n\\n\\n\\tSo/cs one/cd week/nn later/rbr ,/, I/ppss surrendered/vbd to/in him/ppo in/in the/at little/ap motel/nn on/in Route/nn-tl 10/cd-tl ./.\\nMy/pp$ very/ql first/od time/nn ./.\\nI/ppss was/bedz desperate/jj to/to hold/vb him/ppo ,/, to/to give/vb him/ppo whatever/wdt in/in this/dt world/nn he/pps wanted/vbd or/cc needed/vbd ,/, and/cc to/to keep/vb him/ppo from/in the/at clutches/nns of/in Lucille/np Warren/np ./.\\n\\n\\n\\tAnd/cc ,/, though/cs at/in the/at time/nn I/ppss blushed/vbd to/to admit/vb it/ppo even/rb to/in myself/ppl ,/, there/ex was/bedz in/in me/ppo a/at growing/vbg desire/nn ,/, a/at sexual/jj awareness/nn ,/, that/cs Johnnie/np had/hvd set/vbn in/in motion/nn ,/, an/at awareness/nn that/cs no/at other/ap man/nn had/hvd ever/rb triggered/vbn ./.\\nI/ppss wanted/vbd him/ppo ,/, with/in a/at terrifying/vbg fierceness/nn ./.\\n\\n\\n\\tAstonishingly/rb enough/qlp ,/, it/pps was/bedz my/pp$ own/jj voice/nn I/ppss heard/vbd there/rb in/in the/at darkness/nn ,/, begging/vbg this/dt man/nn to/to make/vb love/nn to/in me/ppo ./.\\n\\n\\n\\t``/`` Love/vb me/ppo ,/, Johnnie/np ''/'' ./.\\n\\n\\n\\t``/`` I/ppss will/md ,/, kitten/nn ''/'' !/. !/.\\n\\n\\n\\tOutside/rb ,/, in/in the/at summertime/nn fields/nns behind/in the/at motel/nn ,/, a/at thousand/cd crickets/nns serenaded/vbd us/ppo ./.\\n``/`` Will/md you/ppss always/rb love/vb me/ppo this/dt way/nn ''/'' ?/. ?/.\\n\\n\\n\\t``/`` Uh/uh huh/uh ./.\\nAlways/rb ''/'' ./.\\n\\n\\n\\t``/`` Mmm/uh ''/'' ./.\\nAnd/cc I/ppss snuggled/vbd closer/rbr to/in the/at man/nn I/ppss loved/vbd ./.\\n\\n\\n\\tIt/pps was/bedz as/ql blissful/jj and/cc fulfilling/vbg a/at night/nn as/cs any/dti bride/nn ever/rb experienced/vbd ./.\\nI/ppss had/hvd had/hvn no/at wedding/nn ceremony/nn ,/, no/at witnesses/nns ,/, no/at certificate/nn of/in marriage/nn ,/, but/cc I/ppss had/hvd all/abn the/at joy/nn that/dt goes/vbz with/in them/ppo ./.\\n\\n\\n\\t``/`` Johnnie/np ?/. ?/.\\n\\n\\n\\t``/`` It/pps can't/md* be/be wrong/jj ,/, can/md it/pps ?/. ?/.\\nNot/* really/rb ''/'' ./.\\n\\n\\n\\tJohnnie/np rose/vbd on/in one/cd elbow/nn ./.\\n``/`` Stop/vb worrying/vbg ./.\\nIt's/pps+bez never/rb wrong/jj if/cs love/nn is/bez real/jj ''/'' ./.\\n\\n\\n\\tI/ppss took/vbd great/jj comfort/nn from/in his/pp$ words/nns ,/, and/cc smiled/vbd to/in myself/ppl in/in the/at darkness/nn ./.\\nInfinite/jj peace/nn ,/, complete/jj contentment/nn ./.\\nIdiot's/nn$ delight/nn ,/, I/ppss later/rbr discovered/vbd ./.\\n\\n\\n\\n\\nI/ppss felt/vbd no/at conflict/nn between/in what/wdt I/ppss was/bedz doing/vbg and/cc my/pp$ strict/jj religious/jj upbringing/nn ./.\\nI/ppss had/hvd always/rb resisted/vbn the/at passes/nns made/vbn at/in me/ppo by/in other/ap kids/nns ,/, and/cc many/ap times/nns I/ppss had/hvd thought/vbn about/in my/pp$ love/nn for/in Johnnie/np who/wps ,/, being/beg thirty/cd ,/, brought/vbd a/at maturity/nn to/in love/nn that/cs the/at kids/nns around/in town/nn could/md know/vb nothing/pn about/rb ./.\\nI/ppss had/hvd also/rb thought/vbn a/at lot/nn about/in how/wrb God/np must/md look/vb on/in true/jj love/nn ,/, and/cc so/rb in/in a/at way/nn I/ppss was/bedz keeping/vbg my/pp$ promise/nn to/in God/np ,/, my/pp$ promise/nn to/to remain/vb pure/jj until/cs I/ppss was/bedz married/vbn ./.\\n\\n\\n\\tI/ppss was/bedz practically/rb a/at bride/nn ,/, after/in all/abn ./.\\n\\n\\n\\tThere/ex would/md have/hv been/ben a/at ceremony/nn if/cs it/pps had/hvd been/ben possible/jj ./.\\nOf/in this/dt ,/, I/ppss had/hvd no/at doubt/nn ./.\\nWouldn't/md* Johnnie/np do/do practically/rb anything/pn in/in the/at world/nn to/to insure/vb my/pp$ happiness/nn ?/. ?/.\\nOf/in course/nn he/pps would/md ./.\\nHe'd/pps+hvd not/* only/rb told/vbn me/ppo so/cs ,/, he'd/pps+hvd proved/vbn it/ppo ./.\\nIt/pps wasn't/bedz* Johnnie's/np$ fault/nn that/cs he/pps was/bedz hopelessly/rb tied/vbn down/rp to/in that/dt frightful/jj woman/nn who/wps did/dod her/pp$ best/jjt to/to make/vb his/pp$ life/nn unbearable/jj ./.\\nJust/rb because/cs he/pps was/bedz honorable/jj enough/qlp to/to want/vb to/to continue/vb supporting/vbg his/pp$ two/cd children/nns ,/, as/cs any/dti decent/jj man/nn would/md ,/, that/dt was/bedz no/at reason/nn he/pps should/md be/be denied/vbn his/pp$ own/jj small/jj share/nn of/in happiness/nn too/rb ./.\\nAnd/cc if/cs I/ppss could/md contribute/vb to/in that/dt ,/, I'd/ppss+md do/do it/ppo ./.\\nThe/at cost/nn didn't/dod* matter/vb ./.\\nNo/at price/nn is/bez too/ql high/jj when/wrb true/jj love/nn is/bez at/in stake/nn ./.\\n\\n\\n\\tAnd/cc I/ppss had/hvd no/at doubts/nns about/in how/ql true/jj this/dt love/nn was/bedz ./.\\nI'd/ppss+hvd never/rb even/rb petted/vbn with/in a/at boy/nn ,/, and/cc after/cs I/ppss met/vbd Johnnie/np he/pps never/rb touched/vbd me/ppo for/in the/at longest/jjt while/nn ,/, not/* until/cs I/ppss all/abn but/in threw/vbd myself/ppl at/in him/ppo ./.\\nHe/pps was/bedz plenty/rb attentive/jj ,/, all/ql right/rb ,/, but/cc he/pps behaved/vbd like/cs a/at gentleman/nn ,/, and/cc I/ppss figured/vbd that/cs ,/, emotionally/rb ,/, I/ppss was/bedz closer/rbr to/in his/pp$ age/nn than/cs to/in my/pp$ own/jj eighteen/cd and/cc a/at half/abn ./.\\nWhat/wdt could/md a/at mere/jj twelve/cd years/nns matter/vb ?/. ?/.\\nIt/pps wasn't/bedz* ,/, I/ppss was/bedz sure/jj ,/, a/at difference/nn in/in age/nn that/wps came/vbd between/in people/nns ,/, but/cc a/at difference/nn in/in maturity/nn ./.\\n\\n\\n\\tAnd/cc hadn't/hvd* I/ppss rescued/vbn him/ppo from/in Lucille/np Warren/np ?/. ?/.\\nShe'd/pps+md have/hv gotten/vbn him/ppo ,/, if/cs I/ppss hadn't/hvd* stopped/vbn her/ppo ./.\\nAfter/in all/abn ,/, Lucille/np Warren/np was/bedz a/at husband-stealer/nn from/in way/nn back/rb ./.\\n\\n\\n\\tBut/cc I'd/ppss+hvd been/ben a/at good/jj girl/nn and/cc now/rb God/np was/bedz blessing/vbg me/ppo with/in the/at gift/nn of/in this/dt magnificent/jj man/nn and/cc the/at wondrous/jj love/nn we/ppss shared/vbd ./.\\nIt/pps was/bedz only/rb fitting/vbg that/cs we/ppss seek/vb out/rp whatever/wdt joy/nn our/pp$ union/nn might/md bring/vb ./.\\n\\n\\n\\t``/`` Love/vb me/ppo ''/'' ?/. ?/.\\n\\n\\n\\t``/`` Uh-huh/uh ./.\\nLove/vb you/ppo ''/'' ./.\\n\\n\\n\\t``/`` Always/rb and/cc always/rb ,/, Johnnie/np ''/'' ?/. ?/.\\n\\n\\n\\t``/`` Always/rb ''/'' ./.\\n\\n\\n\\t``/`` Mmm/uh ''/'' ./.\\n\\n\\n\\tConvention/nn time/nn in/in Boston/np ./.\\nA/at chill/nn wind/nn in/in the/at air/nn and/cc the/at narrow/jj streets/nns packed/vbn with/in snow/nn ./.\\nFrom/in the/at entire/jj eastern/jj half/abn of/in the/at nation/nn they'd/ppss+md be/be coming/vbg ,/, members/nns of/in the/at Young/jj-tl Christians'/nps$-tl League/nn-tl ,/, and/cc I'd/ppss+hvd been/ben chosen/vbn to/to represent/vb our/pp$ chapter/nn ./.\\n\\n\\n\\tI/ppss had/hvd mixed/vbn emotions/nns about/in going/vbg ./.\\nI'd/ppss+hvd been/ben seeing/vbg Johnnie/np almost/rb a/at year/nn now/rb ,/, but/cc I/ppss still/rb didn't/dod* want/vb to/to leave/vb him/ppo for/in five/cd whole/jj days/nns ./.\\nBut/cc I/ppss had/hvd looked/vbn forward/rb so/ql much/rb to/in being/beg with/in this/dt church/nn group/nn ./.\\nI/ppss hadn't/hvd* been/ben doing/vbg as/ql much/ap work/nn as/cs I/ppss used/vbd to/to in/in Westfield/np and/cc I/ppss felt/vbd funny/jj about/in that/dt and/cc wanted/vbd to/to work/vb harder/rbr than/cs ever/rb ./.\\nI/ppss wanted/vbd to/to just/rb throw/vb myself/ppl into/in the/at good/jj works/nns of/in this/dt fine/jj group/nn ./.\\nSo/cs I/ppss went/vbd to/in Boston/np ./.\\n\\n\\n\\tThe/at first/od meeting/nn was/bedz held/vbn in/in Faneuil/np-tl Hall/nn-tl ,/, a/at great/ql big/jj place/nn where/wrb we/ppss were/bed able/jj to/to meet/vb members/nns from/in all/abn the/at other/ap states/nns ./.\\nMy/pp$ cousin/nn Alma/np ,/, at/in whose/wp$ home/nr I/ppss was/bedz staying/vbg during/in the/at convention/nn ,/, introduced/vbd me/ppo to/in a/at group/nn of/in young/jj people/nns from/in Rhode/np-tl Island/nn-tl ./.\\nOne/cd of/in them/ppo was/bedz a/at very/ql friendly/jj ,/, lovely/jj fellow/nn named/vbn Ronald/np ,/, a/at boy/nn about/in my/pp$ age/nn with/in slick/jj ,/, blond/jj hair/nn and/cc dancing/vbg blue/jj eyes/nns ./.\\nHe/pps looked/vbd very/ql different/jj from/in Johnnie/np --/-- in/in fact/nn ,/, he/pps looked/vbd sort/nn of/in like/in me/ppo ./.\\nI/ppss thought/vbd so/rb ,/, and/cc he/pps mentioned/vbd it/ppo ,/, and/cc Alma/np said/vbd so/rb too/rb ./.\\n\\n\\n\\tAfter/in the/at meeting/nn ,/, there/ex was/bedz going/vbg to/to be/be a/at party/nn at/in someone's/pn$ house/nn ./.\\nI/ppss assumed/vbd Alma/np would/md get/vb me/ppo there/rb ,/, but/cc in/in the/at confusion/nn of/in the/at meeting/nn breaking/vbg up/rp ,/, we/ppss were/bed separated/vbn ./.\\nOutside/in the/at hall/nn ,/, I/ppss anxiously/rb looked/vbd around/rb for/in her/ppo ,/, then/rb all/abn at/in once/rb there/ex was/bedz a/at hand/nn on/in my/pp$ elbow/nn ./.\\n\\n\\n\\t``/`` Hey/uh ,/, there/rb ,/, beautiful/jj twin/nn of/in mine/pp$$ ''/'' ,/, Ronald/np said/vbd ./.\\n``/`` Need/vb a/at pumpkin/nn to/to get/vb to/in the/at party/nn ''/'' ?/. ?/.\\n\\n\\n\\tI/ppss couldn't/md* help/vb laughing/vbg with/in him/ppo ./.\\n``/`` Well/uh ,/, I/ppss should/md find/vb Alma/np ''/'' --/-- I/ppss began/vbd ./.\\n\\n\\n\\t``/`` Alma/np ,/, Schmalma/np ./.\\nCome/vb along/rb with/in me/ppo ''/'' ./.\\nI/ppss went/vbd ./.\\n\\n\\n\\n\\nBy/in the/at time/nn we/ppss arrived/vbd ,/, the/at party/nn was/bedz already/rb going/vbg strong/jj ./.\\nA/at couple/nn of/in the/at girls/nns were/bed laughing/vbg rather/ql shrilly/rb and/cc I/ppss realized/vbd they/ppss were/bed drinking/vbg ./.\\nMy/pp$ folks/nns wouldn't/md* dream/vb of/in having/hvg alcohol/nn in/in the/at house/nn ,/, so/cs my/pp$ first/od taste/nn of/in it/ppo had/hvd been/ben --/-- of/in course/nn --/-- with/in Johnnie/np ./.\\nI/ppss hadn't/hvd* liked/vbn it/ppo at/in first/rb --/-- it/pps was/bedz bitter/jj and/cc burning/vbg ./.\\nBut/cc when/wrb Johnnie/np disguised/vbd the/at taste/nn with/in ginger/nn ale/nn ,/, I/ppss enjoyed/vbd it/ppo ./.\\nOf/in course/nn I/ppss enjoyed/vbd 'most/rb anything/pn if/cs I/ppss did/dod it/ppo with/in Johnnie/np ./.\\nJohnnie/np I/ppss suddenly/rb realized/vbd he'd/pps+hvd been/ben totally/rb out/in of/in my/pp$ thoughts/nns all/abn evening/nn ./.\\nBut/cc that/dt was/bedz only/rb natural/jj ,/, I/ppss decided/vbd ;/. ;/.\\nsurely/rb he/pps was/bedz still/rb resting/vbg snugly/rb in/in my/pp$ heart/nn ./.\\n\\n\\n\\t``/`` I/ppss don't/do* see/vb Alma/np anywhere/rb ''/'' ,/, I/ppss said/vbd ./.\\n\\n\\n\\t``/`` She's/pps+bez invisible/jj tonight/nr ./.\\nC'mon/uh ,/, let's/vb+ppo find/vb out/rp where/wrb they're/ppss+ber keeping/vbg the/at glasses/nns ''/'' ./.\\n\\n\\n\\tI/ppss drew/vbd back/rb ./.\\n``/`` I/ppss --/-- I/ppss don't/do* think/vb so/rb ,/, Ronald/np ./.\\nNot/* for/in me/ppo ''/'' ./.\\n\\n\\n\\t``/`` Aw/uh ,/, come/vb on/rp ''/'' ./.\\n\\n\\n\\t``/`` No/rb --/-- really/rb ''/'' ./.\\n\\n\\n\\tHe/pps shrugged/vbd ./.\\n``/`` Okay/uh ./.\\nBut/cc at/in least/ap come/vb along/rb while/cs I/ppss get/vb lubricated/vbn ''/'' ./.\\n\\n\\n\\tThe/at kitchen/nn was/bedz jammed/vbn ./.\\nStrange/jj faces/nns ,/, most/ap of/in them/ppo ,/, and/cc I/ppss wasn't/bedz* even/rb sure/jj all/abn of/in them/ppo had/hvd come/vbn from/in the/at League/nn-tl meeting/nn ./.\\n\\nUnder/in normal/jj circumstances/nns ,/, he/pps had/hvd a/at certain/jj bright-eyed/jj all-American-boy/jj charm/nn ,/, with/in great/jj appeal/nn for/in young/jj ladies/nns ,/, old/jj ladies/nns ,/, and/cc dogs/nns ./.\\nToday/nr ,/, he/pps looked/vbd like/cs an/at Astronaut/nn-tl who/wps had/hvd left/vbn his/pp$ vitamin/nn pills/nns on/in the/at bureau/nn and/cc spent/vbn six/cd months/nns in/in space/nn :/: hollow/jj eyes/nns ,/, hollow/jj cheeks/nns ,/, hollow/jj stomach/nn ./.\\nBreakfast/nn ,/, he/pps thought/vbd ./.\\nA/at shot/nn of/in orange/nn juice/nn would/md make/vb everything/pn seem/vb better/rbr ./.\\nHe/pps looked/vbd around/in his/pp$ little/ap Eden/np :/: bureau/nn ,/, bed/nn ,/, table/nn ,/, chair/nn ,/, two-burner/jj stove/nn ./.\\nThen/rb he/pps remembered/vbd ./.\\n\\n\\n\\t``/`` You/ppss share/vb a/at refrigerator/nn ''/'' ,/, Mrs./np Kirby/np had/hvd said/vbn ,/, and/cc somehow/rb ,/, at/in midnight/nn ,/, after/in the/at long/jj drive/nn from/in New/jj-tl York/np-tl in/in pelting/vbg rain/nn ,/, that/cs had/hvd sounded/vbn reasonable/jj ./.\\nIn/in the/at cold/jj light/nn of/in day/nn ,/, it/pps seemed/vbd a/at lunatic/jj arrangement/nn ./.\\nShare/vb bath/nn ,/, maybe/rb --/-- but/cc share/vb refrigerator/nn ?/. ?/.\\nShe/pps had/hvd explained/vbn it/ppo --/-- something/pn about/in summer/nn people's/nns$ eating/nn out/rp and/cc not/* enough/ap space/nn in/in the/at units/nns ./.\\nAnd/cc where/wrb was/bedz the/at thing/nn ?/. ?/.\\nHe/pps remembered/vbd seeing/vbg it/ppo last/ap night/nn ,/, when/wrb he/pps put/vbd away/rb his/pp$ small/jj store/nn of/in bachelor-type/jj eatables/nns ./.\\nAh/uh ,/, yes/rb --/-- his/pp$ half/abn of/in a/at refrigerator/nn stood/vbd outside/rb ,/, on/in the/at ``/`` curving/vbg veranda/nn ''/'' between/in Unit/nn-tl Number/nn-tl Three/cd-tl and/cc Unit/nn-tl Number/nn-tl Four/cd-tl ./.\\n\\n\\n\\tIt/pps was/bedz still/rb raining/vbg ,/, and/cc Mrs./np Kirby's/np$ cottages/nns bloomed/vbd through/in the/at gray/jj haze/nn like/cs the/at names/nns they/ppss bore/vbd ,/, vivid/jj blue/jj and/cc green/jj and/cc magenta/jj ./.\\nCharlie/np downed/vbd his/pp$ orange/nn juice/nn and/cc one/pn of/in the/at long/jj ,/, skinny/jj green/jj pills/nns ,/, his/pp$ spirits/nns as/ql damp/jj as/cs the/at day/nn ./.\\n\\n\\n\\tThis/dt vacation/nn had/hvd seemed/vbn like/cs a/at good/jj idea/nn last/ap week/nn ,/, when/wrb his/pp$ doctor/nn had/hvd prescribed/vbn it/ppo ./.\\n``/`` Take/vb a/at full/jj month/nn ''/'' ,/, the/at doctor/nn had/hvd said/vbn ./.\\n``/`` Lots/nns of/in sun/nn ,/, lots/nns of/in rest/nn ./.\\nThe/at red/jj pills/nns are/ber a/at vitamin-and-iron/nn compound/nn ./.\\nThis/dt is/bez a/at sleeping/vbg capsule/nn ./.\\nThe/at others/nns will/md make/vb you/ppo a/at little/ap more/ql comfortable/jj until/cs you/ppss get/vb it/ppo licked/vbn ./.\\nYou/ppss young/jj men/nns get/vb to/to be/be my/pp$ age/nn ,/, you/ppss won't/md* take/vb flu/nn so/ql lightly/rb ''/'' ./.\\n\\n\\n\\tCharlie/np had/hvd accepted/vbn the/at diagnosis/nn without/in comment/nn ./.\\nThe/at doctor/nn could/md call/vb it/ppo anything/pn from/in flu/nn to/in beriberi/nn ;/. ;/.\\nbut/cc Charlie/np knew/vbd what/wdt was/bedz wrong/jj with/in him/ppo and/cc knew/vbd ,/, too/rb ,/, that/cs there/ex was/bedz no/at pill/nn to/to cure/vb it/ppo ./.\\nHe/pps had/hvd loved/vbn and/cc lost/vbn Vivian/np Wayne/np to/in somebody/pn else/rb ,/, had/hvd watched/vbn her/ppo marry/vb the/at somebody/pn else/rb ,/, and/cc had/hvd caught/vbn a/at bear/nn of/in a/at cold/nn by/in kissing/vbg the/at bride/nn good-by/nn forever/rb ,/, which/wdt was/bedz really/rb piling/vbg it/ppo on/rp ./.\\nHe/pps had/hvd caught/vbn ,/, too/rb ,/, like/cs an/at ailment/nn ,/, a/at confirmed/vbn distrust/nn of/in women/nns ./.\\nOnce/rb burned/vbn --/-- scalded/vbn ,/, really/rb ,/, because/cs Vivian/np had/hvd given/vbn him/ppo every/at encouragement/nn --/-- forever/rb shy/jj ./.\\nFrom/in now/rb on/rp ,/, his/pp$$ was/bedz going/vbg to/to be/be a/at man's/nn$ world/nn :/: the/at North/jj-tl Woods/nns-tl ,/, duck/nn blinds/nns at/in dawning/vbg ,/, beer/nn and/cc poker/nn and/cc male/nn secretaries/nns ./.\\n\\n\\n\\tMeanwhile/rb ,/, he/pps had/hvd this/dt miserable/jj cold/nn ,/, and/cc as/cs he/pps leaned/vbd against/in the/at refrigerator/nn ,/, watching/vbg the/at rain/nn make/vb sandy/jj puddles/nns at/in his/pp$ feet/nns ,/, the/at doctor's/nn$ prescription/nn for/in lots/nns of/in sun/nn seemed/vbd like/cs a/at hollow/jj mockery/nn ./.\\nIn/in these/dts damp/jj circumstances/nns ,/, he/pps was/bedz an/at odds-on/jj bet/nn to/to develop/vb pneumonia/nn ./.\\n\\n\\n\\tHe/pps looked/vbd up/rp to/to see/vb Mrs./np Kirby/np ,/, awesome/jj in/in a/at black-and-yellow/jj polka-dotted/jj slicker/nn ,/, bearing/vbg down/rp on/in him/ppo ./.\\n``/`` Three-day/jj blow/nn ''/'' !/. !/.\\nShe/pps bellowed/vbd triumphantly/rb ./.\\nHe/pps had/hvd noticed/vbn before/rb that/cs the/at natives/nns seemed/vbd to/to regard/vb really/ql filthy/jj weather/nn as/cs a/at kind/nn of/in Pyhrric/jj victory/nn over/in the/at tourists/nns ./.\\n``/`` Fine/jj ,/, day/nn after/in tomorrow/nr ''/'' ,/, she/pps added/vbd ./.\\n\\n\\n\\t``/`` I/ppss hope/vb so/rb ''/'' ,/, he/pps said/vbd ./.\\n``/`` I've/ppss+hv got/vbn this/dt cold/nn ./.\\nThought/vbd I'd/ppss+md bake/vb it/ppo out/rp in/in the/at sun/nn ''/'' ./.\\n\\n\\n\\t``/`` Ah/uh ''/'' ./.\\nShe/pps studied/vbd him/ppo briefly/rb ./.\\n``/`` You've/ppss+hv got/vbn a/at peaked/jj look/nn ./.\\nBetter/rbr get/vb in/rp out/in of/in the/at wet/jj ''/'' ./.\\n\\n\\n\\tCharlie/np forbore/vbd to/to mention/vb that/cs the/at wet/vbn was/bedz somewhat/ql universal/jj ,/, Peony/np being/beg less/ap than/in weatherproof/jj ./.\\nAs/in for/in its/pp$ being/beg fine/jj ,/, day/nn after/in tomorrow/nr ,/, he/pps had/hvd the/at unhappy/jj conviction/nn that/cs it/pps would/md never/rb be/be fine/jj again/rb ,/, with/in Vivian/np lost/vbn to/in him/ppo forever/rb ./.\\nHe/pps could/md imagine/vb her/ppo at/in this/dt minute/nn ,/, honeymooning/vbg in/in Nassau/np with/in what's-his-name/nn ,/, lounging/vbg on/in golden/jj sands/nns ,/, looking/vbg forward/rb to/in a/at life/nn of/in unalloyed/jj bliss/nn ./.\\nAll/abn Charlie/np could/md look/vb forward/rb to/in was/bedz a/at yellow/jj pill/nn at/in noon/nn ,/, a/at salami/nn sandwich/nn for/in lunch/nn ,/, and/cc a/at lonely/jj old/jj age/nn --/-- if/cs he/pps lived/vbd that/dt long/jj ./.\\n\\n\\n\\tHe/pps leafed/vbd through/in the/at light/jj reading/nn provided/vbn by/in Mrs./np Kirby/np for/in her/pp$ guests/nns :/: four/cd separate/jj adventures/nns of/in the/at Bobbsey/np-tl Twins/nns-tl (/( At/in the/at Seashore/nn ,/, At/in the/at Mountains/nns-tl ,/, On/in the/at Farm/nn ,/, and/cc In/in Danger/nn )/) and/cc several/ap agricultural/jj bulletins/nns on/in the/at treatment/nn of/in hoof-and-mouth/nn disease/nn in/in cattle/nns ,/, hideously/rb illustrated/vbn ./.\\nHe/pps dozed/vbd ,/, only/rb to/to dream/vb of/in Vivian/np ,/, and/cc woke/vbd ,/, only/rb to/to crash/vb into/in the/at night/nn table/nn ,/, bruising/vbg his/pp$ other/ap shin/nn ./.\\nHe/pps took/vbd a/at yellow/jj pill/nn ,/, only/rb to/to choke/vb on/in it/ppo ,/, and/cc went/vbd for/in the/at salami/nn ,/, only/rb to/to find/vb something/pn alive/jj in/in the/at refrigerator/nn --/-- something/pn pink/jj and/cc fuzzy/jj ./.\\n\\n\\n\\tHis/pp$ first/od thought/nn was/bedz that/cs Mrs./np Kirby/np ,/, in/in her/pp$ mania/nn for/in color/nn ,/, had/hvd dyed/vbn a/at cat/nn and/cc that/dt cat/nn had/hvd somehow/rb managed/vbn to/to open/vb the/at refrigerator/nn door/nn and/cc climb/vb in/rp ;/. ;/.\\nbut/cc on/in further/jjr investigation/nn ,/, the/at thing/nn proved/vbd to/to be/be a/at sweater/nn ,/, of/in the/at long-hair/nn variety/nn that/wps sheds/vbz onto/in men's/nns$ jackets/nns --/-- pale/jj ,/, pale/jj pink/jj and/cc ,/, according/in to/in the/at label/nn ,/, size/nn thirty-four/cd ./.\\nHe/pps thought/vbd about/in it/ppo for/in a/at minute/nn ,/, could/md find/vb no/at reasonable/jj explanation/nn for/in the/at presence/nn of/in a/at sweater/nn in/in the/at refrigerator/nn ,/, got/vbd the/at salami/nn ,/, bread/nn ,/, and/cc a/at Bermuda/np onion/nn ,/, and/cc put/vbd the/at whole/jj thing/nn out/in of/in his/pp$ mind/nn ./.\\n\\n\\n\\n\\nNext/ap morning/nn ,/, he/pps found/vbd a/at note/nn in/in the/at refrigerator/nn ./.\\n``/`` Would/md you/ppss mind/vb wrapping/vbg your/pp$ onion/nn ''/'' ?/. ?/.\\nSaid/vbd this/dt note/nn ./.\\n``/`` The/at smell/nn permeates/vbz everything/pn ''/'' !/. !/.\\nEverything/pn being/beg the/at sweater/nn ,/, a/at lipstick/nn case/nn ,/, and/cc a/at squirt/nn bottle/nn of/in Kissin'/nn-tl Kare/nn-tl pink/jj hand/nn lotion/nn ./.\\nThe/at note/nn paper/nn was/bedz pink/jj ,/, too/rb ,/, and/cc the/at handwriting/nn small/jj and/cc dainty/jj and/cc utterly/rb feminine/jj ./.\\nNot/* that/cs he/pps had/hvd supposed/vbn ,/, considering/in the/at evidence/nn ,/, that/cs he/pps was/bedz sharing/vbg this/dt refrigerator/nn with/in a/at member/nn of/in the/at Beach/nn-tl Patrol/nn-tl ./.\\nHe/pps scrawled/vbd ``/`` Sorry/jj-nc ''/'' across/in the/at bottom/nn of/in the/at note/nn and/cc then/rb ,/, against/in his/pp$ better/jjr judgment/nn ,/, added/vbd :/: ``/`` Don't/do* you/ppss eat/vb ''/'' ?/. ?/.\\nHe/pps didn't/dod* want/vb to/to encourage/vb anything/pn here/rb ;/. ;/.\\nbut/cc on/in the/at other/ap hand/nn ,/, he/pps didn't/dod* want/vb her/ppo swiping/vbg his/pp$ salami/nn ./.\\n\\n\\n\\t``/`` Not/* onions/nns ''/'' ,/, came/vbd the/at answer/nn the/at following/vbg day/nn ./.\\n``/`` Ugh/uh ''/'' ./.\\n\\n\\n\\tMust/md have/hv really/rb smelled/vbn up/rp her/pp$ sweater/nn ,/, he/pps thought/vbd ,/, and/cc wondered/vbd idly/rb just/rb why/wrb she/pps kept/vbd the/at sweater/nn fast-frozen/jj ./.\\nBut/cc then/rb ,/, as/cs he/pps well/rb knew/vbd ,/, women/nns are/ber not/* guided/vbn by/in logic/nn or/cc common/nn sense/nn ./.\\nTake/vb Vivian/np ./.\\nYes/rb ,/, take/vb Vivian/np ./.\\nSomebody/pn had/hvd ./.\\n\\n\\n\\tNow/rb ,/, if/cs this/dt were/bed Vivian/np next/ap door/nn to/in him/ppo and/cc if/cs ,/, for/in some/dti obscure/jj female/nn reason/nn ,/, she/pps kept/vbd her/pp$ clothes/nns in/in the/at refrigerator/nn ,/, they/ppss would/md not/* be/be pink/jj ./.\\nThey/ppss would/md be/be black/jj or/cc white/jj or/cc horse-blanket/nn plaid/nn ,/, chic/jj and/cc splashy/jj ,/, like/cs Vivian/np herself/ppl ./.\\nPink/jj ,/, Vivian/np once/rb had/hvd told/vbn him/ppo ,/, was/bedz for/in baby/nn girls/nns ,/, and/cc grown-up/jj girls/nns who/wps wore/vbd pink/nn were/bed subconsciously/rb clinging/vbg to/in their/pp$ infancy/nn ./.\\n\\n\\n\\t``/`` Why/wrb does/doz this/dt girl/nn keep/vb a/at sweater/nn in/in the/at refrigerator/nn ''/'' ?/. ?/.\\nHe/pps mused/vbd aloud/rb ./.\\n\\n\\n\\n\\nEh/uh ''/'' ?/. ?/.\\nIt/pps was/bedz Mrs./np Kirby/np ,/, making/vbg her/pp$ toilsome/jj way/nn along/in the/at veranda/nn ,/, laden/jj with/in a/at clattery/jj collection/nn of/in mops/nns ,/, brushes/nns ,/, and/cc pails/nns ./.\\n``/`` What's/wdt+bez that/dt you/ppss say/vb ''/'' ?/. ?/.\\n\\n\\n\\t``/`` Oh/uh ,/, nothing/pn ./.\\nJust/rb glad/jj the/at rain's/nn+hvz stopped/vbn ''/'' ./.\\n\\n\\n\\t``/`` Oh/uh ,/, yes/rb ./.\\nJust/rb look/vb at/in that/dt sky/nn ./.\\nBe/be a/at scorcher/nn by/in afternoon/nn ''/'' ./.\\n\\n\\n\\t``/`` I/ppss hope/vb so/rb ./.\\nI've/ppss+hv got/vbn this/dt cold/nn ''/'' ./.\\n\\n\\n\\t``/`` So/rb you/ppss said/vbd ''/'' ./.\\nShe/pps scrutinized/vbd him/ppo ./.\\n``/`` My/pp$ ,/, you're/ppss+ber peaked/jj ./.\\nYou/ppss want/vb to/to watch/vb out/rp that/cs you/ppss don't/do* get/vb burned/vbn to/in an/at ash/nn ,/, first/od sunny/jj day/nn ./.\\nI/ppss must/md remember/vb to/to warn/vb the/at girl/nn next/in to/in you/ppo in/in Larkspur/nn-tl ./.\\nThat/dt pale/jj kind's/nn+bez the/at worst/jjt ''/'' ./.\\n\\n\\n\\tThat/dt pale/jj kind/nn ,/, Charlie/np thought/vbd ./.\\nHardly/rb an/at inviting/vbg description/nn ./.\\nBut/cc then/rb ,/, neither/dtx was/bedz peaked/jj ./.\\nHe/pps could/md hear/vb Mrs./np Kirby/np now/rb ,/, warning/vbg her/pp$ pale/jj guest/nn against/in sunburn/nn ./.\\n``/`` I/ppss spoke/vbd to/in the/at fellow/nn next/ap door/nn ,/, too/rb ''/'' ,/, she/pps might/md say/vb ./.\\n``/`` He's/pps+bez that/dt peaked/jj kind/nn ''/'' ./.\\n\\n\\n\\tSurely/rb there/ex was/bedz a/at better/jjr word/nn ./.\\nCharlie/np looked/vbd in/in the/at mirror/nn ./.\\nRun-down/jj ,/, iron-poor/jj ./.\\nHe/pps looked/vbd more/ql closely/rb ./.\\nFrail/jj ,/, feeble/jj --/-- peaked/jj ./.\\nClearly/rb ,/, two/cd damp/jj days/nns with/in the/at Bobbsey/np-tl Twins/nns-tl had/hvd done/vbn him/ppo no/at good/jj ./.\\n\\n\\n\\tThe/at sun/nn ,/, blazing/vbg hot/jj as/cs prophesied/vbn ,/, was/bedz far/rb from/in kind/jj to/in Mrs./np Kirby's/np$ varicolored/jj properties/nns ./.\\nWhen/wrb Charlie/np came/vbd up/rp from/in the/at beach/nn for/in his/pp$ four-o'clock/nn pill/nn ,/, the/at whole/jj establishment/nn (/( gaudy/jj enough/qlp when/wrb seen/vbn through/in mist/nn and/cc fog/nn )/) looked/vbd like/cs a/at floodlit/vbn modern/jj painting/nn --/-- great/jj blocks/nns of/in dizzy/jj color/nn ,/, punctuated/vbn at/in regular/jj intervals/nns by/in the/at glaring/vbg white/jj of/in five/cd community/nn refrigerators/nns ./.\\nThis/dt weekend/nn ,/, he/pps thought/vbd ,/, he/pps would/md look/vb around/rb for/in some/dti more/ql subdued/vbn retreat/nn ,/, with/in Cape/nn-tl roses/nns ,/, maybe/rb ,/, at/in the/at door/nn ./.\\nHe/pps could/md not/* imagine/vb a/at flower's/nn$ being/beg brave/jj enough/qlp to/to grow/vb beside/in Peony/np ,/, Larkspur/nn-tl ,/, and/cc the/at rest/nn ./.\\n\\n\\n\\tThe/at sweater/nn was/bedz gone/vbn from/in the/at refrigerator/nn ,/, and/cc in/in its/pp$ place/nn was/bedz a/at large/jj plastic/jj bag/nn ,/, full/jj of/in wet/jj pink/jj clothes/nns ./.\\nNo/at wonder/nn she/pps was/bedz so/ql pale/jj ,/, wearing/vbg all/abn those/dts cold/jj clothes/nns ./.\\n\\n\\n\\tHe/pps got/vbd a/at red/jj pill/nn and/cc a/at beer/nn and/cc then/rb ,/, on/in impulse/nn ,/, transferred/vbd the/at rest/nn of/in his/pp$ salami/nn to/in her/pp$ side/nn of/in the/at refrigerator/nn and/cc scrawled/vbd ``/`` Be/be my/pp$ guest/nn ''/'' on/in the/at wrapping/nn ./.\\nIt/pps gave/vbd him/ppo a/at good/jj feeling/nn ./.\\n\\n\\n\\t``/`` M-m-m/uh ./.\\nThanks/nns ''/'' ,/, was/bedz her/pp$ answer/nn the/at next/ap day/nn ./.\\nThe/at note/nn was/bedz propped/vbn against/in his/pp$ pill/nn bottles/nns and/cc bore/vbd a/at postscript/nn :/: ``/`` You're/ppss+ber not/* at/in all/ql well/rb ,/, are/ber you/ppss ''/'' ?/. ?/.\\n\\n\\n\\t``/`` I've/ppss+hv got/vbn this/dt cold/nn ''/'' ,/, he/pps wrote/vbd ./.\\nNot/* that/cs it/pps was/bedz any/dti of/in her/pp$ business/nn ./.\\n\\n\\n\\t``/`` It's/pps+bez none/pn of/in my/pp$ business/nn ''/'' ,/, said/vbd the/at next/ap note/nn ,/, ``/`` but/cc my/pp$ Aunt/nn-tl Elsie/np used/vbd to/to take/vb lemon/nn juice/nn and/cc honey/nn in/in hot/jj water/nn for/in a/at cold/nn ,/, and/cc she/pps lived/vbd to/to be/be ninety-six/cd ./.\\nI/ppss mean/vb ,/, she's/pps+bez still/rb living/vbg ,/, and/cc she's/pps+bez ninety-six/cd ./.\\nWhy/wrb don't/do* you/ppss try/vb that/dt ''/'' ?/. ?/.\\n\\n\\n\\t``/`` I/ppss don't/do* have/hv a/at lemon/nn ''/'' ./.\\nHe/pps had/hvd to/to write/vb very/ql small/jj to/to get/vb it/ppo on/in the/at bottom/nn of/in the/at scrap/nn of/in paper/nn ./.\\n\\n\\n\\tBy/in the/at next/ap morning/nn ,/, she/pps had/hvd turned/vbn the/at paper/nn over/rp ./.\\n``/`` Gee/uh ,/, neither/cc do/do I/ppss ''/'' ./.\\n\\n\\n\\tCharlie/np grinned/vbd ./.\\nShe/pps didn't/dod* sound/vb like/cs a/at pale/jj girl/nn ./.\\nShe/pps sounded/vbd a/at little/ap like/cs a/at redhead/nn ./.\\nBut/cc then/rb ,/, redheads/nns are/ber often/rb pale/jj ./.\\n\\n\\n\\tHe/pps stuck/vbd his/pp$ head/nn in/in Mrs./np Kirby's/np$ little/jj rental/jj office/nn ./.\\n``/`` I/ppss guess/vb that/dt redhead/nn next/in to/in me/ppo took/vbd your/pp$ advice/nn ./.\\nI/ppss haven't/hv* seen/vbn her/ppo on/in the/at beach/nn ''/'' ./.\\n\\n\\n\\t``/`` You/ppss won't/md* ,/, if/cs you're/ppss+ber looking/vbg for/in a/at redhead/nn ./.\\nShe's/pps+hvz got/vbn browny/jj hair/nn ''/'' ./.\\n\\n\\n\\tHe/pps spent/vbd that/cs afternoon/nn on/in the/at beach/nn ,/, looking/vbg for/in a/at pale/jj ,/, browny-haired/jj girl/nn in/in a/at pink/jj bathing/vbg suit/nn ./.\\nThere/ex were/bed pink/jj bathing/vbg suits/nns on/in blondes/nns ,/, and/cc browny-haired/jj girls/nns in/in red/jj or/cc black/jj or/cc green/jj bathing/vbg suits/nns ./.\\nThere/ex were/bed a/at sprinkling/nn of/in daring/vbg bikinis/nns and/cc a/at preponderance/nn of/in glorified/vbn tank/nn suits/nns ./.\\nUp/rp on/in a/at dune/nn ,/, he/pps saw/vbd a/at girl/nn ,/, all/abn by/in herself/ppl ,/, sitting/vbg on/in a/at camp/nn stool/nn before/in an/at easel/nn and/cc absorbed/vbn in/in her/pp$ painting/nn ./.\\nHe/pps paid/vbd little/ap attention/nn to/in her/ppo because/cs she/pps was/bedz a/at redhead/nn and/cc because/cs she/pps was/bedz wearing/vbg white/jj --/-- one/cd of/in those/dts bulky/jj ,/, turtle-neck/nn sweaters/nns ./.\\nOn/in the/at beach/nn ,/, there/ex were/bed pale/jj girls/nns and/cc not-so-pale/jj girls/nns ./.\\nAnd/cc he/pps saw/vbd them/ppo all/abn as/cs he/pps walked/vbd up/rp and/cc down/rp ./.\\n\\n\\n\\tAt/in two/cd that/dt morning/nn ,/, he/pps was/bedz still/rb walking/vbg --/-- up/in and/cc down/in Peony/np ,/, up/in and/cc down/in the/at veranda/nn ,/, up/in and/cc down/in the/at silent/jj ,/, moonlit/jj beach/nn ./.\\nFinally/rb ,/, in/in desperation/nn ,/, he/pps opened/vbd the/at refrigerator/nn ,/, filched/vbd her/pp$ hand/nn lotion/nn ,/, and/cc left/vbd a/at note/nn ./.\\n``/`` I've/ppss+hv got/vbn this/dt sunburn/nn ''/'' ,/, said/vbd the/at note/nn ,/, ``/`` and/cc I/ppss used/vbd some/dti of/in your/pp$ hand/nn lotion/nn ./.\\nHope/vb you/ppss don't/do* mind/vb ''/'' ./.\\n\\n\\n\\t``/`` Of/in course/nn I/ppss don't/do* mind/vb ''/'' ,/, she/pps answered/vbd ./.\\n``/`` You're/ppss+ber having/hvg a/at miserable/jj time/nn ,/, aren't/ber* you/ppss ?/. ?/.\\nUse/vb all/abn the/at lotion/nn you/ppss want/vb ,/, and/cc for/in goodness'/nn$ sake/nn ,/, stay/vb in/rp out/in of/in the/at sun/nn for/in a/at couple/nn of/in days/nns ''/'' ./.\\n\\n\\n\\tThis/dt was/bedz a/at very/ql warm/jj ,/, sympathetic/jj girl/nn ,/, he/pps decided/vbd ./.\\nSympathy/nn is/bez a/at fine/jj quality/nn in/in a/at woman/nn ./.\\nNow/rb Vivian/np ,/, for/in instance/nn ,/, was/bedz not/* too/ql long/jj on/in sympathy/nn ./.\\nShe/pps felt/vbd ,/, and/cc said/vbd ,/, that/dt sympathy/nn only/rb made/vbd people/nns feel/vb sorry/jj for/in themselves/ppls ;/. ;/.\\nit/pps was/bedz a/at tough/jj world/nn ,/, and/cc you/ppss had/hvd to/to be/be tough/jj to/to hold/vb your/pp$ own/jj ./.\\nHe/pps didn't/dod* know/vb what/wdt was/bedz so/ql tough/jj about/in Vivian's/np$ world/nn ,/, slopping/vbg around/in Nassau/np with/in what's-his-name/nn ./.\\nSuppose/vb what's-his-name/nn got/vbd a/at sunburn/nn ?/. ?/.\\nCharlie/np couldn't/md* see/vb Vivian/np offering/vbg any/dti hand/nn lotion/nn ./.\\nShe/pps might/md peel/vb him/ppo ,/, once/cs the/at worst/jjt of/in the/at agony/nn was/bedz over/rp ./.\\n\\n\\n\\n\\nCharlie/np spent/vbd the/at next/ap two/cd days/nns in/in his/pp$ pajama/nn bottoms/nns ,/, waiting/vbg for/in the/at fire/nn in/in his/pp$ back/nn to/to subside/vb ,/, and/cc used/vbd generous/jj quantities/nns of/in the/at hand/nn lotion/nn ./.\\n\\n\\n\\tCorrespondence/nn passed/vbd back/rb and/cc forth/rb ./.\\n\\n\\n\\t``/`` How's/wrb+bez your/pp$ sunburn/nn now/rb ?/. ?/.\\nThe/at only/jj thing/nn ,/, this/dt lotion/nn has/hvz glycerin/nn in/in it/ppo ,/, and/cc that/wps whitens/vbz the/at skin/nn ,/, so/cs if/cs you're/ppss+ber so/ql anxious/jj to/to get/vb a/at tan/nn ,/, you/ppss may/md not/* want/vb to/to use/vb it/ppo ''/'' ./.\\n\\n\\n\\t``/`` I'm/ppss+bem not/* that/ql anxious/jj ,/, but/cc maybe/rb that's/dt+bez why/wrb you're/ppss+ber so/ql fair/jj ''/'' ./.\\n\\n\\n\\t``/`` That/dt Mrs./np Kirby/np !/. !/.\\nI'll/ppss+md bet/vb she/pps told/vbd you/ppo I/ppss was/bedz puny/jj ,/, too/rb ./.\\nHow's/wrb+bez your/pp$ cold/nn ''/'' ?/. ?/.\\n\\n\\n\\t``/`` Broiled/vbn out/rp ./.\\nShe/pps didn't/dod* say/vb you/ppss were/bed puny/jj ./.\\nAre/ber you/ppss ?/. ?/.\\nWhat's/wdt+bez puny/jj ''/'' ?/. ?/.\\n\\n\\n\\t``/`` Puny/jj goes/vbz with/in pale/jj and/cc peaked/jj ./.\\nDo/do you/ppss have/hv anything/pn to/to read/vb while/cs you're/ppss+ber shut/vbn up/rp ?/. ?/.\\nThere/ex are/ber two/cd things/nns here/rb about/in Surviving/vbg-tl in/in-tl the/at-tl Wilderness/nn-tl ,/, and/cc a/at book/nn called/vbn '/' Tom/np Swift/np-tl and/cc-tl His/pp$-tl Speedy/jj-tl Canoe/nn-tl '/' ;/. ;/.\\nbut/cc the/at picture/nn of/in Tom/np Swift/np is/bez pretty/ql sinister/jj ./.\\nAlso/rb the/at canoe/nn ''/'' ./.\\n\\nThere/ex was/bedz a/at crowd/nn in/in the/at stands/nns for/in a/at change/nn and/cc the/at sun/nn was/bedz hot/jj ./.\\nThe/at new/jj Riverside/np pitcher/nn turned/vbd out/rp to/to have/hv an/at overhand/jj fast/jj ball/nn that/wps took/vbd a/at hop/nn ./.\\nFor/in a/at few/ap innings/nns the/at Anniston/np team/nn couldn't/md* figure/vb him/ppo out/rp ./.\\nThen/rb ,/, in/in the/at fifth/od ,/, Anniston's/np$ kid/nn catcher/nn caught/vbd onto/in a/at curve/nn and/cc smacked/vbd the/at ball/nn into/in left/jj center/nn field/nn ./.\\nEddie/np Lee/np ,/, Riverside's/np$ redheaded/jj playing/vbg manager/nn ,/, ran/vbd after/in the/at ball/nn but/cc it/pps rolled/vbd past/in him/ppo ./.\\nPhil/np Rossoff/np cut/vbd over/rp to/in center/nn from/in left/jj field/nn to/to get/vb the/at relay/nn ./.\\nEddie/np caught/vbd up/rp with/in the/at ball/nn near/in the/at fence/nn and/cc threw/vbd it/ppo to/in Phil/np ./.\\n``/`` Third/od !/. !/.\\nThird/od base/nn ''/'' !/. !/.\\nEddie/np shouted/vbd ./.\\nPhil/np spun/vbd around/rb and/cc made/vbd an/at accurate/jj throw/nn into/in Mike/np Deegan's/np$ hands/nns on/in third/od base/nn ./.\\nMike/np caught/vbd the/at ball/nn just/rb as/cs the/at catcher/nn slid/vbd into/in the/at bag/nn ./.\\nBut/cc the/at Anniston/np boy/nn had/hvd begun/vbn his/pp$ slide/nn too/ql late/rb ./.\\nHe/pps came/vbd into/in the/at bag/nn with/in his/pp$ body/nn and/cc Mike/np Deegan/np brought/vbd the/at ball/nn down/rp full/rb in/in his/pp$ face/nn ./.\\n``/`` You/ppss bastard/nn ''/'' !/. !/.\\nThe/at Anniston/np catcher/nn screamed/vbd ./.\\nHe/pps jumped/vbd to/in his/pp$ feet/nns and/cc started/vbd to/to throw/vb punches/nns ./.\\nMike/np Deegan/np tossed/vbd his/pp$ glove/nn away/rb and/cc began/vbd to/to swing/vb at/in the/at catcher/nn ./.\\nThis/dt brought/vbn in/rp everybody/pn from/in both/abx sides/nns ,/, while/cs the/at spectators/nns stood/vbd up/rp and/cc added/vbd to/in the/at uproar/nn ./.\\nThe/at fighters/nns were/bed separated/vbn in/in a/at few/ap minutes/nns ./.\\nThe/at game/nn was/bedz resumed/vbn ./.\\nBut/cc Mike/np Deegan/np was/bedz boiling/vbg mad/jj now/rb ./.\\nWhen/wrb the/at inning/nn was/bedz over/rp he/pps cursed/vbd the/at Anniston/np catcher/nn all/abn the/at way/nn into/in the/at dugout/nn ./.\\nPhil/np Rossoff/np ,/, coming/vbg in/rp from/in left/jj field/nn ,/, stopped/vbd at/in the/at water/nn fountain/nn for/in a/at drink/nn ./.\\nMike/np Deegan/np was/bedz standing/vbg beside/in it/ppo ,/, facing/vbg the/at field/nn ./.\\nHe/pps was/bedz eyeing/vbg the/at Anniston/np catcher/nn warming/vbg up/rp his/pp$ pitcher/nn before/cs the/at inning/nn began/vbd ./.\\n``/`` Keep/vb your/pp$ eyes/nns open/vb ,/, sonny/nn ''/'' !/. !/.\\nMike/np yelled/vbd to/in the/at catcher/nn ./.\\n``/`` You're/ppss+ber in/rp for/in trouble/nn ''/'' ./.\\nThe/at Anniston/np catcher/nn did/dod not/* reply/vb with/in words/nns ./.\\nHe/pps simply/rb turned/vbd to/in Mike/np and/cc smiled/vbd ./.\\nThis/dt so/ql infuriated/vbd Deegan/np that/cs he/pps spun/vbd around/rb and/cc said/vbd :/: ``/`` I'll/ppss+md get/vb that/dt little/ap bastard/nn ./.\\nSo/rb help/vb me/ppo God/np ,/, I'll/ppss+md get/vb him/ppo ''/'' ./.\\n\\n\\n\\tPhil/np Rossoff/np said/vbd :/: ``/`` Why/wrb don't/do* you/ppo leave/vb him/ppo alone/rb ''/'' ?/. ?/.\\n\\n\\n\\t``/`` Mind/vb your/pp$ own/jj goddamn/jj business/nn ''/'' ,/, Mike/np Deegan/np said/vbd ./.\\n\\n\\n\\tPhil/np shrugged/vbd ./.\\nHe/pps stepped/vbd into/in the/at dugout/nn ,/, wondering/vbg why/wrb Deegan/np was/bedz always/rb looking/vbg for/in trouble/nn ./.\\nMaybe/rb the/at answer/nn was/bedz in/in his/pp$ eyes/nns ./.\\nWhen/wrb Deegan/np smiled/vbd his/pp$ eyes/nns never/rb fit/vbd in/rp with/in his/pp$ lips/nns ./.\\n\\n\\n\\tIn/in the/at last/nn of/in the/at sixth/od inning/nn Mike/np Deegan/np got/vbd up/rp to/to bat/vb and/cc hit/vbd a/at fast/jj ball/nn over/in the/at left/jj fielder's/nn$ head/nn ./.\\nBy/in the/at time/nn the/at fielder/nn got/vbd his/pp$ hands/nns on/in the/at ball/nn Deegan/np was/bedz rounding/vbg third/od base/nn and/cc heading/vbg for/in home/nr ./.\\nThe/at left/jj fielder/nn threw/vbd and/cc it/pps was/bedz a/at good/jj one/pn ./.\\nBut/cc Mike/np had/hvd no/at chance/nn of/in being/beg tagged/vbn ./.\\nThe/at Anniston/np catcher/nn was/bedz straddling/vbg home/nr plate/nn ./.\\nAll/abn Deegan/np had/hvd to/to do/do was/bedz slide/vb ,/, fall/vb away/rb ,/, but/cc instead/rb ,/, he/pps rammed/vbd into/in the/at catcher/nn ./.\\n\\n\\n\\tBoth/abx fell/vbd heavily/rb to/in the/at ground/nn ./.\\n\\n\\n\\tOnly/rb Mike/np got/vbd to/in his/pp$ feet/nns ./.\\nHe/pps went/vbd back/rb to/to touch/vb home/nr plate/nn ,/, turned/vbd and/cc walked/vbd to/in the/at dugout/nn without/in looking/vbg back/rb ./.\\n\\n\\n\\tThe/at Anniston/np players/nns and/cc their/pp$ manager/nn ran/vbd out/rp on/in the/at field/nn ./.\\nThey/ppss poured/vbd water/nn over/in their/pp$ catcher's/nn$ face/nn ./.\\nHe/pps did/dod not/* move/vb ./.\\nThen/rb the/at manager/nn called/vbd for/in a/at doctor/nn ./.\\nThe/at Riverside/np physician/nn came/vbd down/rp to/to look/vb over/rp the/at injured/vbn ballplayer/nn ./.\\nThen/rb ,/, quickly/rb ,/, and/cc a/at little/ql nervously/rb ,/, the/at doctor/nn ordered/vbd a/at couple/nn of/in ballplayers/nns to/to carry/vb the/at catcher/nn into/in the/at dressing/vbg room/nn ./.\\n\\n\\n\\tMike/np Deegan/np was/bedz sitting/vbg on/in the/at bench/nn ,/, watching/vbg ./.\\nWhen/wrb the/at ballplayers/nns started/vbd to/to carry/vb the/at catcher/nn off/in the/at field/nn he/pps said/vbd :/: ``/`` That/dt ought/md to/to teach/vb the/at sonofabitch/nn ''/'' ./.\\n\\n\\n\\tPhil/np Rossoff/np ,/, seated/vbn next/in to/in Deegan/np ,/, got/vbd up/rp and/cc moved/vbd to/in the/at other/ap end/nn of/in the/at bench/nn ./.\\n\\n\\n\\tThe/at Anniston/np manager/nn was/bedz coming/vbg over/rp to/in the/at Riverside/np dugout/nn ./.\\nHe/pps was/bedz followed/vbn by/in four/cd of/in his/pp$ men/nns ./.\\nIt/pps began/vbd to/to look/vb as/cs if/cs something/pn was/bedz going/vbg to/to happen/vb ./.\\nMike/np sat/vbd quietly/rb watching/vbg the/at manager/nn come/vbn nearer/rbr ./.\\nEddie/np Lee/np moved/vbd over/rp to/in Mike/np Deegan's/np$ side/nn ./.\\nNo/at one/pn said/vbd a/at word/nn ./.\\n\\n\\n\\tThe/at Anniston/np manager/nn came/vbd right/ql up/rp to/in the/at dugout/nn in/in front/nn of/in Mike/np ./.\\nHis/pp$ face/nn was/bedz flushed/vbn ./.\\n\\n\\n\\t``/`` Deegan/np ''/'' ,/, the/at manager/nn said/vbd ,/, his/pp$ voice/nn pitched/vbn low/jj ,/, quivering/vbg ./.\\n``/`` That/dt was/bedz a/at rotten/jj thing/nn to/to do/do ''/'' ./.\\n\\n\\n\\t``/`` For/in God's/np$ sake/nn ''/'' ,/, Mike/np said/vbd ,/, waving/vbg the/at manager/nn away/rb ./.\\n``/`` Stop/vb it/ppo ,/, will/md you/ppss ?/. ?/.\\nTell/vb your/pp$ guys/nns not/* to/to block/vb the/at plate/nn ''/'' ./.\\n\\n\\n\\t``/`` You/ppss didn't/dod* have/hv to/to ram/vb him/ppo ''/'' ./.\\n\\n\\n\\t``/`` That's/dt+bez what/wdt you/ppss say/vb ''/'' ./.\\n\\n\\n\\tThe/at Anniston/np manager/nn looked/vbd at/in Eddie/np Lee/np ./.\\nIt/pps was/bedz a/at cold/jj and/cc calculated/vbn look/nn ./.\\nHe/pps turned/vbd and/cc went/vbd back/rb across/in the/at field/nn to/in his/pp$ dugout/nn ./.\\nHe/pps called/vbd in/rp the/at pitcher/nn who/wps had/hvd been/ben pitching/vbg ,/, and/cc a/at big/jj ,/, heavy/jj ,/, powerfully/rb built/vbn right/jj hander/nn moved/vbd out/rp to/in the/at mound/nn for/in Anniston/np ./.\\n\\n\\n\\tThe/at game/nn started/vbd again/rb and/cc in/in the/at eighth/od inning/nn Mike/np Deegan/np came/vbd up/rp to/to bat/vb ./.\\nEveryone/pn in/in the/at ball/nn park/nn seemed/vbd to/to be/be standing/vbg and/cc shouting/vbg ./.\\n\\n\\n\\tThe/at first/od ball/nn the/at hefty/jj pitcher/nn threw/vbd came/vbd in/rp for/in Mike's/np$ head/nn ./.\\nDeegan/np fell/vbd into/in the/at dirt/nn ,/, the/at ball/nn going/vbg over/in him/ppo ./.\\nHe/pps arose/vbd slowly/rb and/cc brushed/vbd himself/ppl off/rp ./.\\nHe/pps got/vbd back/rb into/in the/at batter's/nn$ box/nn and/cc on/in the/at next/ap pitch/nn dropped/vbd into/in the/at dirt/nn again/rb ./.\\n\\n\\n\\t``/`` Hit/vb the/at bum/nn ''/'' !/. !/.\\nSomebody/pn yelled/vbd from/in the/at Anniston/np bench/nn ./.\\n\\n\\n\\tIn/in the/at Riverside/np dugout/nn Frankie/np Ricco/np ,/, shortstop/nn ,/, whispered/vbd into/in Phil's/np$ ear/nn :/: ``/`` There's/ex+bez gonna/vbg+to be/be a/at fight/nn ''/'' ./.\\n\\n\\n\\t``/`` Look/vb at/in those/dts bastards/nns ''/'' !/. !/.\\nCharlie/np Haydon/np ,/, a/at pitcher/nn ,/, said/vbd ./.\\n``/`` They're/ppss+ber looking/vbg for/in trouble/nn ''/'' ./.\\n\\n\\n\\tMike/np was/bedz slow/rb getting/vbg into/in the/at box/nn this/dt time/nn ./.\\nWhen/wrb he/pps finally/rb did/dod he/pps had/hvd to/to duck/vb his/pp$ head/nn quickly/rb away/rb as/cs the/at pitch/nn came/vbd in/rp ./.\\n\\n\\n\\t``/`` Listen/vb ''/'' !/. !/.\\nHe/pps shouted/vbd to/in the/at pitcher/nn ./.\\n``/`` One/cd more/ap and/cc I'm/ppss+bem coming/vbg out/rp there/rb ''/'' !/. !/.\\n\\n\\n\\t``/`` I'll/ppss+md be/be waiting/vbg ''/'' !/. !/.\\nThe/at pitcher/nn yelled/vbd back/rb ./.\\n\\n\\n\\tMike/np Deegan/np pounded/vbd the/at rubber/nn plate/nn with/in the/at end/nn of/in his/pp$ bat/nn ./.\\nHe/pps stood/vbd flat-footed/jj in/in the/at box/nn ,/, but/cc not/* very/ql close/rb to/in the/at plate/nn now/rb ./.\\nThe/at pitcher/nn wound/vbd up/rp and/cc the/at ball/nn came/vbd in/rp straight/rb for/in Mike's/np$ head/nn ./.\\nDeegan/np dropped/vbd ,/, got/vbd up/rp ,/, turned/vbd and/cc ,/, holding/vbg the/at bat/nn with/in both/abx hands/nns up/rp against/in his/pp$ chest/nn ,/, began/vbd to/to walk/vb slowly/rb out/rp to/in the/at mound/nn ./.\\nThe/at pitcher/nn tossed/vbd his/pp$ glove/nn away/rb and/cc came/vbd towards/in Mike/np Deegan/np ./.\\nThey/ppss were/bed both/abx walking/vbg towards/in each/dt other/ap ,/, unhurried/jj ./.\\n\\n\\n\\tRiverside/np and/cc Anniston/np players/nns rushed/vbd out/rp on/in the/at field/nn ./.\\nIn/in the/at next/ap moment/nn ,/, it/pps seemed/vbd ,/, the/at infield/nn was/bedz crowded/vbn with/in spectators/nns ,/, ballplayers/nns ,/, cops/nns ,/, kids/nns and/cc a/at dog/nn ./.\\nThere/ex was/bedz much/ap shouting/nn and/cc screaming/nn ./.\\nFights/nns sprang/vbd up/rp and/cc were/bed quickly/rb squelched/vbn ./.\\nMike/np and/cc the/at Anniston/np pitcher/nn were/bed pulled/vbn away/rb before/cs they/ppss even/rb came/vbd together/rb ./.\\n\\n\\n\\tPhil/np Rossoff/np and/cc two/cd other/ap Riverside/np players/nns did/dod not/* go/vb out/rp on/in the/at field/nn when/wrb the/at fighting/nn started/vbd ./.\\n\\n\\n\\tAfter/in the/at game/nn ,/, Phil/np was/bedz taking/vbg off/rp his/pp$ sweatshirt/nn in/in the/at dressing/vbg room/nn when/wrb Mike/np Deegan/np came/vbd in/rp ./.\\n\\n\\n\\t``/`` It's/pps+bez a/at helluva/jj thing/nn ''/'' ,/, Mike/np said/vbd ,/, looking/vbg at/in Phil/np ,/, ``/`` when/wrb a/at guy's/nn$ own/jj team-mate/nn won't/md* come/vb out/rp and/cc help/vb him/ppo in/in a/at fight/nn ''/'' ./.\\n\\n\\n\\tPhil/np sighed/vbd and/cc pulled/vbd the/at wet/jj sweatshirt/nn over/in his/pp$ head/nn ./.\\nFrankie/np Ricco/np sat/vbd down/rp on/in the/at bench/nn near/in Phil/np ./.\\nThe/at other/ap players/nns were/bed undressing/vbg quietly/rb ./.\\nEddie/np Lee/np had/hvd not/* come/vbn in/rp yet/rb ./.\\n\\n\\n\\tMike/np went/vbd over/rp to/in Phil/np and/cc stood/vbd over/in him/ppo ./.\\n``/`` Why/wrb the/at hell/nn didn't/dod* you/ppss come/vb out/rp when/wrb you/ppss saw/vbd them/ppo gang/vb up/rp on/in me/ppo ''/'' ?/. ?/.\\n\\n\\n\\t``/`` I/ppss didn't/dod* think/vb it/pps was/bedz necessary/jj ''/'' ./.\\n\\n\\n\\t``/`` Well/uh !/. !/.\\nNow/rb that's/dt+bez just/rb fine/jj !/. !/.\\nYou/ppss didn't/dod* think/vb it/pps was/bedz necessary/jj ''/'' ./.\\nMike/np placed/vbd both/abx his/pp$ hands/nns on/in his/pp$ hips/nns ./.\\nHe/pps pushed/vbd his/pp$ jaw/nn forward/rb ./.\\n``/`` Listen/vb ,/, wise/jj guy/nn ,/, if/cs you/ppss think/vb I'm/ppss+bem gonna/vbg+to do/do all/abn the/at fighting/nn for/in this/dt ball/nn club/nn you're/ppss+ber crazy/jj ''/'' ./.\\n\\n\\n\\tMike/np had/hvd a/at good/jj two/cd inches/nns over/in Phil/np and/cc Phil/np had/hvd to/to look/vb up/rp into/in Mike's/np$ face/nn ./.\\n\\n\\n\\t``/`` I/ppss didn't/dod* ask/vb you/ppo to/to fight/vb for/in the/at ball/nn club/nn ''/'' ,/, Phil/np said/vbd slowly/rb ./.\\n``/`` Nobody/pn else/rb did/dod ,/, either/rb ''/'' ./.\\n\\n\\n\\t``/`` You/ppss trying/vbg to/to say/vb I/ppss started/vbd the/at fight/nn ''/'' ?/. ?/.\\n\\n\\n\\t``/`` I'm/ppss+bem not/* trying/vbg to/to say/vb anything/pn ''/'' ./.\\n\\n\\n\\tPhil/np turned/vbd away/rb and/cc opened/vbd his/pp$ locker/nn ,/, and/cc then/rb he/pps heard/vbd Mike/np Deegan/np say/vb :/: ``/`` You're/ppss+ber yellow/jj ,/, Rossoff/np ''/'' !/. !/.\\nAnd/cc Phil/np banged/vbd his/pp$ locker/nn door/nn shut/vbn and/cc spun/vbd around/rb ./.\\nBut/cc before/cs anything/pn could/md happen/vb Frankie/np Ricco/np was/bedz between/in them/ppo and/cc Eddie/np Lee/np had/hvd come/vbn into/in the/at dressing/vbg room/nn ./.\\n\\n\\n\\t``/`` Phil/np ,/, come/vb into/in my/pp$ office/nn ''/'' ,/, Eddie/np said/vbd ./.\\n\\n\\n\\tPhil/np followed/vbd Eddie/np into/in the/at office/nn and/cc shut/vbd the/at door/nn ./.\\nHe/pps sat/vbd down/rp before/in Eddie's/np$ desk/nn ./.\\n\\n\\n\\t``/`` I'm/ppss+bem doing/vbg you/ppo a/at favor/nn ''/'' ,/, Eddie/np said/vbd quickly/rb ./.\\n``/`` You/ppss get/vb your/pp$ unconditional/jj release/nn as/in of/in today/nr ''/'' ./.\\n\\n\\n\\tPhil's/np$ eyes/nns widened/vbd just/rb a/at trifle/nn ./.\\n\\n\\n\\t``/`` The/at best/jjt thing/nn for/in you/ppo to/to do/do ''/'' ,/, Eddie/np said/vbd ,/, ``/`` is/bez go/vb home/nr ./.\\nYou/ppss don't/do* belong/vb in/in professional/jj baseball/nn ''/'' ./.\\n\\n\\n\\tPhil/np had/hvd to/to clear/vb his/pp$ throat/nn ./.\\n``/`` Is/bez this/dt because/rb of/in what/wdt happened/vbd out/rp there/rb ''/'' ?/. ?/.\\n\\n\\n\\t``/`` No/rb ''/'' ,/, Eddie/np said/vbd ./.\\n``/`` But/cc it/pps does/doz confirm/vb what/wdt I've/ppss+hv suspected/vbn all/abn along/rb ''/'' ./.\\n\\n\\n\\tPhil/np stood/vbd up/rp ./.\\n``/`` Listen/vb !/. !/.\\nThis/dt is/bez the/at second/od time/nn ./.\\n''/'' \\n\\n\\t``/`` Sit/vb down/rp ,/, sit/vb down/rp ''/'' ,/, Eddie/np said/vbd ./.\\n``/`` I'm/ppss+bem not/* saying/vbg you're/ppss+ber yellow/jj ./.\\nI/ppss am/bem saying/vbg you're/ppss+ber not/* a/at professional/jj ballplayer/nn ''/'' ./.\\n\\n\\n\\tEddie/np Lee/np leaned/vbd forward/rb over/in the/at desk/nn ./.\\n``/`` Now/rb listen/vb to/in me/ppo ,/, Phil/np ./.\\nI'm/ppss+bem not/* steering/vbg you/ppo wrong/rb ./.\\nYou/ppss haven't/hv* got/vbn the/at heart/nn for/in baseball/nn ''/'' ./.\\n\\n\\n\\tPhil/np shook/vbd his/pp$ head/nn and/cc Eddie/np frowned/vbd ./.\\nSuddenly/rb his/pp$ voice/nn grew/vbd hard/jj ./.\\n``/`` What/wdt the/at hell/nn do/do you/ppss think/vb baseball/nn is/bez ?/. ?/.\\nYou're/ppss+ber not/* in/in the/at big/jj leagues/nns ,/, but/cc if/cs you/ppss can't/md* give/vb and/cc take/vb down/in here/rb what/wdt the/at hell/nn do/do you/ppss think/vb it'll/pps+md be/be like/cs up/in there/rb ''/'' ?/. ?/.\\n\\n\\n\\tPhil/np started/vbd to/to say/vb something/pn but/cc Eddie/np cut/vbd him/ppo short/rb ./.\\n``/`` Now/rb don't/do* tell/vb me/ppo what/wdt a/at good/jj ball/nn player/nn you/ppss are/ber ./.\\nI/ppss know/vb you've/ppss+hv got/vbn talent/nn ./.\\nBut/cc what/wdt you/ppss haven't/hv* got/vbn is/bez the/at heart/nn to/to back/vb up/rp that/dt talent/nn with/in ./.\\nThe/at heart/nn ,/, Phil/np ./.\\nYou/ppss just/rb haven't/hv* got/vbn the/at heart/nn for/in pro-ball/nn ,/, and/cc that's/dt+bez it/ppo ''/'' ./.\\n\\n\\n\\tDazed/vbn ,/, Phil/np said/vbd :/: ``/`` I/ppss don't/do* get/vb it/ppo ./.\\nMy/pp$ batting/vbg average/nn ''/'' \\n\\n\\tEddie/np stood/vbd up/rp abruptly/rb ,/, then/rb sat/vbd down/rp just/rb as/ql abruptly/rb ./.\\n``/`` What/wdt difference/nn does/doz your/pp$ batting/vbg average/nn make/vb ?/. ?/.\\nOr/cc your/pp$ fielding/vbg average/nn ./.\\nOr/cc even/rb the/at way/nn you/ppss run/vb bases/nns ./.\\nI/ppss tell/vb you/ppo when/wrb it's/pps+bez necessary/jj to/to hurt/vb in/in order/nn to/to win/vb --/-- you/ppss won't/md* do/do it/ppo ./.\\nThat's/dt+bez what/wdt I/ppss mean/vb by/in no/at heart/nn for/in the/at game/nn ./.\\nBaseball's/nn+bez no/at cinch/nn ./.\\nDeegan/np had/hvd no/at business/nn ramming/vbg into/in that/dt kid/nn out/in there/rb ./.\\nHe/pps did/dod it/ppo because/cs he/pps knows/vbz for/in each/dt guy/nn he/pps puts/vbz out/in of/in commission/nn that's/dt+bez one/cd less/ap who/wps might/md take/vb his/pp$ job/nn away/rb later/rbr on/rp ./.\\nWhat/wdt the/at hell/nn do/do you/ppo think/vb baseball/nn is/bez ?/. ?/.\\nA/at sport/nn ?/. ?/.\\nIt's/pps+bez a/at way/nn of/in life/nn ,/, goddamit/uh !/. !/.\\nAnd/cc you've/ppss+hv got/vbn to/to be/be ready/jj to/to cut/vb to/in ribbons/nns anybody/pn who/wps wants/vbz to/to take/vb your/pp$ way/nn of/in life/nn away/rb from/in you/ppo ''/'' !/. !/.\\n\\n\\n\\tHe's/pps+bez wrong/jj !/. !/.\\nPhil/np thought/vbd ./.\\nIt's/pps+bez only/rb his/pp$ opinion/nn ./.\\nThere/ex were/bed other/ap clubs/nns in/in this/dt league/nn ./.\\nHe/pps stood/vbd up/rp slowly/rb ./.\\nHe/pps was/bedz a/at little/ql pale/jj and/cc shaky/jj ./.\\nHis/pp$ lips/nns felt/vbd glued/vbn together/rb ./.\\n\\n\\n\\t``/`` I/ppss think/vb you're/ppss+ber wrong/jj ,/, Eddie/np ''/'' ,/, he/pps said/vbd finally/rb ./.\\n\\n\\n\\tEddie/np nodded/vbd ./.\\n``/`` Okay/uh ./.\\nYou'll/ppss+md get/vb your/pp$ pay/nn in/in the/at morning/nn ''/'' ./.\\n\\n\\n\\tPhil/np turned/vbd and/cc left/vbd the/at room/nn ,/, hearing/vbg Eddie/np say/vb :/: ``/`` Someday/rb you'll/ppss+md see/vb I/ppss was/bedz right/jj ''/'' ./.\\n\\n\\n\\tPhil/np shut/vbd the/at door/nn behind/in him/ppo ./.\\nOutside/rb in/in the/at dressing/vbg room/nn ,/, Frankie/np Ricco/np sat/vbd on/in the/at bench/nn dressed/vbn in/in his/pp$ street/nn clothes/nns ./.\\n\\n\\n\\t``/`` What/wdt happened/vbd ''/'' ?/. ?/.\\nFrankie/np asked/vbd ./.\\n\\n\\n\\tPhil/np said/vbd :/: ``/`` I/ppss got/vbd my/pp$ release/nn ''/'' ./.\\n\\n\\n\\t``/`` You/ppss crazy/jj ''/'' ?/. ?/.\\n\\n\\n\\tPhil/np shrugged/vbd ./.\\n\\n\\n\\t``/`` What/wdt for/in ''/'' ?/. ?/.\\n\\n\\n\\tPhil/np sighed/vbd ./.\\n\\n\\n\\tFrankie/np shook/vbd his/pp$ head/nn ./.\\n``/`` I/ppss don't/do* get/vb it/ppo ''/'' ./.\\n\\n\\n\\t``/`` I/ppss don't/do* know/vb ''/'' ,/, Phil/np said/vbd ./.\\n\\n\\n\\tThey/ppss were/bed silent/jj for/in a/at few/ap moments/nns ./.\\nThen/jj Frankie/np said/vbd :/: ``/`` What/wdt are/ber you/ppss gonna/vbg+to do/do ''/'' ?/. ?/.\\n\\n\\n\\tPhil/np started/vbd to/to take/vb his/pp$ clothes/nns off/rp and/cc Frankie/np sat/vbd down/rp on/in the/at bench/nn again/rb ./.\\nPhil/np took/vbd off/rp one/cd shoe/nn and/cc stared/vbd at/in it/ppo ./.\\n\\n\\n\\t``/`` Don't/do* take/vb it/ppo like/cs this/dt ''/'' ,/, Frankie/np said/vbd ./.\\n``/`` Hell/uh ,/, plenty/nn of/in guys/nns get/vb let/vb out/rp and/cc come/vb back/rb later/rbr ./.\\nThe/at leagues/nns are/ber full/jj of/in guys/nns like/cs that/dt ''/'' ./.\\n\\n\\n\\tPhil/np was/bedz very/ql quiet/jj ./.\\n\\n\\n\\t``/`` What/wdt are/ber you/ppss gonna/vbg+to do/do ,/, Phil/np ''/'' ?/. ?/.\\n\\n\\n\\tPhil/np did/dod not/* answer/vb ./.\\n\\n\\n\\t``/`` Why/wrb not/* try/vb another/dt club/nn ''/'' ?/. ?/.\\n\\n\\n\\tPhil/np looked/vbd up/rp ./.\\nWhat/wdt the/at hell/nn right/nn did/dod Eddie/np have/hv saying/vbg a/at thing/nn like/cs that/dt ?/. ?/.\\n\\n\\n\\t``/`` Springfield's/np+bez in/rp tomorrow/nr ''/'' ,/, Frankie/np said/vbd ./.\\n``/`` Talk/vb to/in Whitey/np Jackson/np ''/'' ./.\\n\\n\\n\\tHe/pps just/rb didn't/dod* know/vb what/wdt he/pps was/bedz talking/vbg about/rb ,/, saying/vbg a/at thing/nn like/in that/dt ./.\\n\\n\\n\\t``/`` Will/md you/ppss do/do it/ppo ,/, Phil/np ''/'' ?/. ?/.\\n\\n\\n\\t``/`` Do/do what/wdt ''/'' ?/. ?/.\\n\\n\\n\\t``/`` Ask/vb Whitey/np for/in a/at job/nn ''/'' ./.\\n\\n\\n\\tPhil/np nodded/vbd ./.\\n``/`` Sure/rb ''/'' ,/, he/pps said/vbd ./.\\n``/`` Springfield/np come/vb in/rp tomorrow/nr ''/'' ?/. ?/.\\n\\n\\n\\tFrankie/np nodded/vbd ./.\\n\\n\\n\\t``/`` I'll/ppss+md speak/vb to/in Whitey/np ''/'' ./.\\n\\n\\n\\t``/`` Atta/uh boy/uh ''/'' ./.\\n\\n\\n\\t``/`` I'll/ppss+md talk/vb to/in him/ppo ,/, all/ql right/rb ''/'' ./.\\n\\n\\n\\t``/`` Don't/do* worry/vb ''/'' ,/, Frankie/np said/vbd ./.\\n``/`` You'll/ppss+md get/vb a/at job/nn there/rb ./.\\nHe/pps needs/vbz outfielders/nns bad/rb ''/'' ./.\\n\\n\\n\\t``/`` I'm/ppss+bem not/* worried/vbn about/in it/ppo ''/'' ,/, Phil/np said/vbd ./.\\n\\n\\n\\t``/`` That's/dt+bez the/at way/nn to/to talk/vb ./.\\nWhat/wdt else/rb did/dod Eddie/np have/hv to/to say/vb ''/'' ?/. ?/.\\n\\n\\n\\t``/`` Nothing/pn ''/'' ,/, Phil/np said/vbd ./.\\n\\n\\n\\n\\tRichard's/np$ next/ap interest/nn seemed/vbd the/at product/nn of/in his/pp$ insularity/nn ./.\\nHis/pp$ broad/jj reading/nn took/vbd him/ppo into/in certain/jj by-ways/nns of/in religion/nn and/cc the/at subject/nn of/in religion/nn began/vbd to/to fascinate/vb him/ppo ./.\\nWhen/wrb he/pps was/bedz twelve/cd he/pps took/vbd to/in reading/vbg St./nn-tl Augustine/np and/cc Aquinas/np ,/, then/jj Lao-tse/np ,/, Confucius/np ,/, Mencius/np ,/, Suzuki/np ,/, Hindu/np tomes/nns by/in endless/jj Krishnaists/nps and/cc numerous/jj socio-archaeological/jj papers/nns ./.\\nFor/in his/pp$ birthday/nn ,/, because/cs Richard/np had/hvd seen/vbn them/ppo in/in a/at store/nn and/cc asked/vbd for/in them/ppo ,/, his/pp$ mother/nn bought/vbd him/ppo the/at Zend-Avesta/np and/cc a/at little/jj image/nn of/in the/at Indian/jj god/nn ,/, Acala/np ./.\\nAnd/cc one/cd day/nn ,/, on/in her/pp$ own/jj ,/, his/pp$ mother/nn came/vbd home/nr with/in a/at present/nn entitled/vbn The/at Book/nn-tl of/in-tl the/at-tl Dead/nn-tl ,/, which/wdt she/pps suspected/vbd Richard/np would/md enjoy/vb ./.\\nHe/pps was/bedz enormously/ql happy/jj with/in her/pp$ gift/nn and/cc smiled/vbd ,/, then/rb went/vbd to/in his/pp$ room/nn to/to read/vb ./.\\n\\n\\n\\tAt/in dinner/nn one/cd night/nn ,/, when/wrb he/pps was/bedz fourteen/cd ,/, Richard/np announced/vbd ,/, ``/`` There/ex is/bez only/rb one/cd god/nn ''/'' ./.\\n\\n\\n\\t``/`` Did/dod you/ppss think/vb there/ex were/bed two/cd ''/'' ?/. ?/.\\nGrinned/vbn his/pp$ father/nn ./.\\n\\n\\n\\t``/`` You/ppss don't/do* understand/vb ''/'' ,/, Richard/np said/vbd gloomily/rb ./.\\n\\n\\n\\tThrough/in quiet/jj laughter/nn his/pp$ mother/nn said/vbd ,/, ``/`` Don't/do* speak/vb to/in your/pp$ father/nn like/cs that/dt ,/, Richard/np ''/'' ./.\\n\\n\\n\\tRichard/np seldom/rb spoke/vbd anyhow/rb and/cc he/pps didn't/dod* speak/vb to/in his/pp$ parents/nns about/in religion/nn again/rb ./.\\n\\n\\n\\tHis/pp$ interest/nn in/in the/at formal/jj study/nn of/in religion/nn waned/vbd when/wrb he/pps was/bedz sixteen/cd and/cc he/pps substituted/vbd for/in it/ppo an/at interest/nn in/in Asian/jj affairs/nns ./.\\nAlthough/cs he/pps still/rb didn't/dod* speak/vb to/in anyone/pn ,/, he/pps grew/vbd fond/jj of/in saying/vbg ,/, ``/`` The/at future/nn lies/vbz in/in Asia/np ''/'' ,/, when/wrb the/at opportunity/nn arose/vbd ,/, and/cc when/wrb he/pps graduated/vbd from/in high/jj school/nn his/pp$ parents/nns sent/vbd him/ppo to/in New/jj-tl York/np-tl to/to give/vb him/ppo a/at foundation/nn ,/, they/ppss said/vbd ,/, for/in his/pp$ life/nn in/in Asian/jj studies/nns ./.\\n\\n\\n\\tRichard/np was/bedz a/at solitary/jj student/nn in/in New/jj-tl York/np-tl and/cc acquired/vbd ,/, in/in his/pp$ remoteness/nn ,/, a/at thorough/jj if/cs bookish/jj knowledge/nn of/in Asian/jj lore/nn ,/, literature/nn ,/, life/nn ,/, politics/nn and/cc history/nn ./.\\nHe/pps was/bedz awarded/vbn a/at fellowship/nn to/to continue/vb his/pp$ studies/nns in/in Tokyo/np and/cc he/pps packed/vbd up/rp his/pp$ clothes/nns ,/, the/at biwa/fw-nn upon/in which/wdt he/pps had/hvd been/ben practicing/vbg and/cc his/pp$ image/nn of/in Acala/np ,/, and/cc left/vbd to/to spend/vb a/at week/nn at/in home/nr before/cs leaving/vbg the/at country/nn ./.\\n\\n\\n\\tThe/at week/nn at/in home/nr was/bedz not/* comfortable/jj ./.\\nHis/pp$ mother/nn ,/, who/wps had/hvd seen/vbn little/ap of/in him/ppo for/in four/cd years/nns ,/, appeared/vbd worried/vbn about/in his/pp$ sailing/vbg off/rp by/in himself/ppl for/in an/at Orient/np which/wdt ,/, she/pps herself/ppl having/hvg slight/jj knowledge/nn of/in it/ppo ,/, had/hvd to/to be/be distrusted/vbn ./.\\nShe/pps seemed/vbd to/to work/vb to/to grow/vb close/jj to/in her/pp$ son/nn in/in the/at few/ap days/nns he/pps spent/vbd at/in home/nr ,/, talking/vbg to/in him/ppo about/in some/dti of/in the/at more/ql pleasant/jj moments/nns of/in his/pp$ childhood/nn and/cc then/rb trying/vbg to/to talk/vb to/in him/ppo about/in those/dts things/nns in/in which/wdt he/pps alone/rb was/bedz interested/vbn ./.\\n\\n\\n\\t``/`` Do/do you/ppss still/rb have/hv The/at Book/nn-tl of/in-tl the/at-tl Dead/nn-tl ''/'' ?/. ?/.\\nShe/pps asked/vbd him/ppo and/cc ,/, laughing/vbg ,/, she/pps added/vbd ,/, ``/`` I/ppss was/bedz nervous/jj about/in buying/vbg a/at book/nn with/in a/at title/nn like/cs that/dt ,/, but/cc I/ppss knew/vbd you'd/ppss+md like/vb it/ppo ''/'' ./.\\n\\n\\n\\t``/`` Yes/rb ''/'' ,/, he/pps lied/vbd to/to shorten/vb the/at conversation/nn ,/, ``/`` I/ppss still/rb have/hv it/ppo ''/'' ./.\\nHe/pps was/bedz no/at longer/rbr able/jj to/to relax/vb in/in the/at presence/nn of/in his/pp$ parents/nns and/cc found/vbd it/ppo difficult/jj to/to keep/vb up/rp a/at conversation/nn with/in his/pp$ mother/nn or/cc father/nn ,/, no/at matter/nn the/at subject/nn ./.\\nAs/in for/in The/at Book/nn-tl of/in-tl the/at-tl Dead/nn-tl ,/, it/pps along/in with/in his/pp$ other/ap books/nns on/in religion/nn had/hvd been/ben incarcerated/vbn in/in a/at furnace/nn in/in the/at basement/nn of/in the/at building/nn in/in which/wdt he/pps had/hvd lived/vbn in/in New/jj-tl York/np-tl ./.\\nHe/pps had/hvd dusted/vbn each/dt of/in the/at books/nns carefully/rb and/cc carried/vbd them/ppo all/abn to/in the/at basement/nn and/cc ,/, trembling/vbg at/in having/hvg to/to open/vb the/at big/jj furnace/nn ,/, given/vbn them/ppo up/rp to/in the/at flames/nns ./.\\nThen/rb he/pps sped/vbd from/in the/at dark/jj basement/nn and/cc returned/vbd to/in his/pp$ room/nn and/cc cried/vbd ./.\\n\\n\\n\\tRichard/np left/vbd America/np with/in his/pp$ clothes/nns ,/, his/pp$ biwa/fw-nn and/cc his/pp$ image/nn of/in Acala/np and/cc ,/, on/in the/at freighter/nn which/wdt took/vbd him/ppo to/in Japan/np ,/, he/pps plucked/vbd at/in the/at biwa/fw-nn ,/, trying/vbg to/to make/vb the/at sounds/nns he/pps wrought/vbd resemble/vb an/at ancient/jj Japanese/jj tune/nn he/pps had/hvd once/rb heard/vbn ./.\\nDuring/in his/pp$ second/od week/nn at/in sea/nn he/pps brought/vbd the/at curious/jj melody/nn out/in of/in the/at instrument/nn and/cc suddenly/rb wanted/vbd to/to force/vb the/at biwa/fw-nn to/to remain/vb at/in just/rb that/dt moment/nn in/in its/pp$ history/nn when/wrb it/pps had/hvd given/vbn him/ppo pleasure/nn ./.\\nHe/pps stole/vbd from/in his/pp$ cabin/nn late/jj that/dt night/nn and/cc crept/vbd out/rp into/in a/at gusty/jj North/jj-tl Pacific/np-tl wind/nn and/cc dropped/vbd the/at biwa/fw-nn into/in the/at water/nn ./.\\nIt/pps was/bedz so/ql dark/jj that/cs he/pps didn't/dod* see/vb it/ppo hit/vb the/at water/nn and/cc the/at noisy/jj rush/nn of/in the/at ocean/nn kept/vbd him/ppo from/in hearing/vbg it/ppo ./.\\nIt/pps was/bedz as/cs though/cs the/at biwa/fw-nn had/hvd been/ben eaten/vbn up/rp by/in the/at wind/nn ./.\\n\\n\\n\\tIn/in Tokyo/np Richard/np took/vbd up/rp a/at life/nn similar/jj to/in that/dt which/wdt he/pps had/hvd lived/vbn in/in New/jj-tl York/np-tl ,/, except/in that/cs he/pps had/hvd replaced/vbn his/pp$ biwa/fw-nn with/in a/at friend/nn ./.\\nAn/at American/jj student/nn named/vbn Charlotte/np Adams/np had/hvd refused/vbn to/to take/vb notice/nn of/in his/pp$ evident/jj aversion/nn to/in people/nns and/cc had/hvd at/in last/rb succeeded/vbd in/in getting/vbg him/ppo to/to talk/vb to/in her/ppo ./.\\nHe/pps had/hvd nothing/pn much/ap to/to say/vb to/in her/ppo but/cc that/cs he/pps said/vbd anything/pn seemed/vbd to/to please/vb her/ppo and/cc he/pps accompanied/vbd her/ppo on/in some/dti of/in her/pp$ unusually/rb searching/vbg tours/nns of/in Tokyo/np ./.\\nIn/in Charlotte/np ,/, Richard/np saw/vbd a/at frankness/nn and/cc a/at zest/nn for/in doing/vbg things/nns which/wdt ,/, after/in a/at fashion/nn ,/, he/pps envied/vbd ./.\\nIn/in time/nn ,/, he/pps grew/vbd to/to depend/vb upon/in her/pp$ occasional/jj company/nn and/cc she/pps at/in length/nn was/bedz able/jj to/to encourage/vb him/ppo to/to participate/vb in/in more/ql social/jj activity/nn ./.\\nShe/pps convinced/vbd him/ppo that/cs he/pps ought/md to/to be/be a/at member/nn of/in some/dti of/in the/at small/jj tea-drinking/jj parties/nns she/pps held/vbd at/in her/pp$ rooms/nns and/cc in/in the/at end/nn he/pps complied/vbd with/in her/pp$ wishes/nns ,/, although/cs it/pps was/bedz only/rb rarely/rb that/cs he/pps added/vbd anything/pn to/in the/at random/jj conversations/nns ./.\\n\\n\\n\\tAt/in one/cd such/jj gathering/nn Charlotte/np announced/vbd ,/, ``/`` I/ppss was/bedz at/in Ryusenji/np today/nr ./.\\nHave/hv you/ppss ever/rb been/ben to/in Ryusenji/np ''/'' ?/. ?/.\\nNo/at one/pn had/hvd ./.\\n``/`` Well/uh ,/, it's/pps+bez at/in Fudomae/np and/cc there/ex was/bedz a/at tan/jj young/jj man/nn ,/, quite/ql naked/jj ,/, taking/vbg a/at shower/nn in/in the/at pool/nn ./.\\nI/ppss was/bedz thoroughly/rb startled/vbn ''/'' ./.\\n\\n\\n\\tRichard/np thought/vbd it/ppo a/at more/ql promising/jj remark/nn than/cs any/dti made/vbn during/in the/at last/ap conversation/nn ,/, but/cc Charlotte's/np$ manner/nn during/in the/at gatherings/nns was/bedz more/ql flippant/jj and/cc superficial/jj than/cs when/wrb she/pps was/bedz alone/rb with/in him/ppo and/cc he/pps was/bedz sure/jj her/pp$ remark/nn would/md lead/vb to/in nothing/pn much/ql better/jjr than/cs the/at pointless/jj words/nns which/wdt had/hvd preceded/vbn it/ppo ./.\\nThree/cd of/in the/at four/cd persons/nns present/vb ,/, all/ql foreign/jj students/nns in/in Tokyo/np ,/, had/hvd been/ben playing/vbg a/at game/nn of/in judging/vbg popular/jj Japanese/jj foods/nns by/in the/at In/in-tl and/cc-tl Out/rb-tl system/nn ,/, an/at equation/nn in/in which/wdt Zen/np philosophy/nn was/bedz used/vbn as/cs the/at modifier/nn ./.\\nSoba/fw-nn ,/, udon/fw-nn and/cc tea/nn were/bed In/in-tl because/cs they/ppss could/md be/be taken/vbn noisily/rb ./.\\nSushi/fw-nn was/bedz Out/rb because/cs it/pps was/bedz pretentious/jj ./.\\nSashimi/nn was/bedz In/in-tl ,/, Samuel/np Burns/np had/hvd suggested/vbn ,/, because/cs it/pps was/bedz too/ql far/ql Out/rb to/to stay/vb Out/rb ,/, even/rb if/cs it/pps was/bedz a/at little/ql pretentious/jj ./.\\nRichard/np had/hvd kept/vbn his/pp$ eyes/nns down/rp throughout/in the/at game/nn ,/, the/at very/ap sound/nn of/in the/at chatter/nn nearly/ql painful/jj to/in his/pp$ ears/nns ./.\\n\\n\\n\\t``/`` He/pps wasn't/bedz* the/at least/ap bit/nn disturbed/vbn by/in my/pp$ watching/vbg him/ppo ''/'' ,/, said/vbd Charlotte/np ./.\\n\\n\\n\\t``/`` Did/dod you/ppo watch/vb him/ppo ''/'' ?/. ?/.\\nAsked/vbd a/at red-haired/jj girl/nn named/vbn Ceecee/np Witter/np ./.\\n``/`` I/ppss shouldn't/md* have/hv been/ben able/jj to/to do/do that/dt ''/'' ./.\\n\\n\\n\\t``/`` Well/uh I/ppss was/bedz able/jj to/to do/do it/ppo ''/'' ,/, Charlotte/np said/vbd with/in no/at sign/nn of/in irritation/nn ./.\\n``/`` For/in a/at minute/nn ,/, anyhow/rb ./.\\nI'm/ppss+bem surprised/vbn no/at one/pn has/hvz been/ben there/rb ./.\\nI've/ppss+hv been/ben there/rb a/at number/nn of/in times/nns ./.\\nSam/np ,/, I/ppss thought/vbd you/ppss knew/vbd everything/pn about/in Tokyo/np ./.\\nYou've/ppss+hv never/rb been/ben to/in Ryusenji/np ''/'' ?/. ?/.\\n\\n\\n\\t``/`` I've/ppss+hv heard/vbn about/in it/ppo ''/'' ,/, Samuel/np Burns/np said/vbd ./.\\n``/`` There's/ex+bez a/at little/ap place/nn there/rb called/vbn Lovers/nns-tl Mound/nn-tl dedicated/vbd to/in Gompachi/np and/cc Komurasaki/np ''/'' ./.\\n\\n\\n\\t``/`` Yes/rb ,/, a/at little/ap parkish/jj place/nn ''/'' ,/, Charlotte/np said/vbd ,/, and/cc concluded/vbd ,/, ``/`` Anyhow/rb ,/, it's/pps+bez all/abn very/ql nice/jj ./.\\nAnd/cc the/at man/nn who/wps brought/vbd sweet/jj potatoes/nns into/in Kanto/np is/bez buried/vbn there/rb ,/, next/in to/in a/at beautiful/jj seated/vbn statue/nn of/in Fudo/np ./.\\nOh/uh ,/, that's/dt+bez what/wdt I/ppss meant/vbd to/to tell/vb you/ppo ./.\\nThis/dt is/bez the/at interesting/jj part/nn ,/, Richard/np ''/'' ,/, she/pps had/hvd a/at bothersome/jj habit/nn of/in trying/vbg to/to pull/vb him/ppo into/in the/at talking/vbg ./.\\n``/`` There/ex was/bedz that/cs fellow/nn out/rp there/rb in/in the/at bitter/jj cold/jj ''/'' --/-- \\n\\n\\t``/`` My/pp$ God/np ,/, it/pps was/bedz cold/jj today/nr ''/'' ,/, said/vbd Samuel/np Burns/np ./.\\n``/`` Twenty-two/cd or/cc twenty-three/cd ''/'' ./.\\n\\n\\n\\t``/`` And/cc the/at water/nn would/md be/be still/ql colder/jjr ''/'' ,/, Ceecee/np seemed/vbd to/to shiver/vb at/in the/at thought/nn of/in it/ppo ./.\\n\\n\\n\\t``/`` And/cc your/pp$ golden/jj god/nn ''/'' ,/, said/vbd Samuel/np Burns/np ,/, ``/`` probably/rb went/vbd right/ql home/nr and/cc poured/vbd himself/ppl into/in a/at boiling/vbg bath/nn ./.\\nIt/pps would/md kill/vb one/cd of/in us/ppo ''/'' ./.\\n\\n\\n\\t``/`` But/cc the/at point/nn is/bez ''/'' ,/, Charlotte/np said/vbd ,/, ``/`` there/rb he/pps was/bedz ,/, freezing/vbg ,/, naked/jj in/in a/at little/ap stream/nn of/in water/nn at/in Ryusenji/np ,/, all/abn in/in worship/nn of/in Fudo/np ,/, the/at god/nn of/in fire/nn ''/'' ./.\\n\\n\\n\\tRichard's/np$ dark/jj eyes/nns came/vbd up/rp and/cc seemed/vbd for/in the/at tiniest/jjt moment/nn to/to reflect/vb sharp/jj light/nn ./.\\nIt/pps was/bedz true/jj ;/. ;/.\\nFudo/np ,/, the/at god/nn of/in wisdom/nn ,/, was/bedz also/rb thought/vbn of/in as/cs the/at Japanese/jj version/nn of/in Acala/np ./.\\nThe/at conversation/nn went/vbd on/rp but/cc Richard/np stopped/vbd listening/vbg ./.\\nHe/pps found/vbd himself/ppl trying/vbg to/to remember/vb something/pn ,/, but/cc he/pps couldn't/md* decide/vb even/rb the/at nature/nn of/in what/wdt it/pps was/bedz he/pps worked/vbd to/to recall/vb ./.\\nHe/pps had/hvd almost/rb given/vbn up/rp when/wrb he/pps realized/vbd that/cs the/at dropping/vbg of/in his/pp$ biwa/fw-nn into/in the/at icy/jj jowls/nns of/in the/at black/jj Pacific/jj-tl was/bedz the/at memory/nn for/in which/wdt he/pps had/hvd been/ben searching/vbg ./.\\nPerhaps/rb he/pps sensed/vbd some/dti connection/nn between/in the/at incident/nn on/in the/at freighter/nn and/cc the/at ascetic/nn at/in Ryusenji/np ,/, he/pps was/bedz unable/jj to/to put/vb it/ppo together/rb ./.\\n\\n\\n\\tThat/dt night/nn ,/, after/in leaving/vbg Charlotte's/np$ apartment/nn ,/, Richard/np walked/vbd about/rb for/in a/at time/nn before/in returning/vbg to/in his/pp$ room/nn ./.\\nWhen/wrb he/pps at/in last/rb did/dod go/vb to/in his/pp$ room/nn ,/, he/pps couldn't/md* sleep/vb and/cc instead/rb paced/vbd up/rp and/cc down/rp before/in his/pp$ little/jj image/nn of/in Acala/np ,/, thinking/vbg first/rb of/in Charlotte's/np$ tale/nn of/in the/at man/nn at/in Ryusenji/np ,/, then/rb of/in his/pp$ biwa/fw-nn and/cc the/at invisible/jj Pacific/np waters/nns ./.\\nAnd/cc the/at next/ap morning/nn ,/, not/* sure/jj of/in why/wrb he/pps went/vbd ,/, he/pps took/vbd the/at train/nn to/in Fudomae/np and/cc walked/vbd to/in Ryusenji/np ./.\\n\\n\\n\\tHe/pps was/bedz surprised/vbn by/in the/at sharp/jj sensation/nn he/pps experienced/vbd as/cs he/pps approached/vbd the/at pool/nn which/wdt Charlotte/np had/hvd mentioned/vbn ./.\\nHe/pps went/vbd through/in a/at gate/nn to/to stand/vb at/in the/at edge/nn of/in the/at water/nn and/cc gazed/vbd at/in the/at two/cd thin/jj falls/nns which/wdt dropped/vbd from/in large/jj spigots/nns high/jj at/in the/at back/nn of/in the/at pool/nn ./.\\nOn/in the/at hillside/nn above/rb was/bedz caged/vbn what/wdt might/md have/hv been/ben an/at incarnation/nn of/in Fudo/np ,/, or/cc perhaps/rb a/at demon/nn ./.\\nThe/at strange/jj creature/nn ,/, housed/vbn in/in wire/nn ,/, made/vbd him/ppo shudder/vb ./.\\nThe/at sensation/nn he/pps so/ql overwhelmingly/rb realized/vbn was/bedz one/pn which/wdt told/vbd him/ppo he/pps had/hvd been/ben there/rb before/rb but/cc he/pps knew/vbd he/pps had/hvd not/* ,/, and/cc could/md not/* recall/vb any/dti place/nn he/pps had/hvd visited/vbn to/to be/be likened/vbn to/in the/at limpid/jj green/jj water/nn or/cc the/at little/jj fountain-falls/nns or/cc the/at green/jj demon/nn imprisoned/vbn beyond/in his/pp$ reach/nn ./.\\n\\n\\n\\tHe/pps left/vbd the/at pool/nn and/cc climbed/vbd the/at steep/nn stone/nn stairs/nns to/in the/at temple/nn ,/, and/cc the/at sense/nn of/in familiarity/nn with/in the/at place/nn would/md not/* leave/vb him/ppo ./.\\nInto/in a/at little/jj well/nn before/in the/at temple/nn he/pps dropped/vbd a/at hundred-yen/jj coin/nn and/cc then/rb he/pps had/hvd an/at urge/nn to/to sound/vb the/at bell/nn before/in the/at temple/nn ,/, to/to take/vb hold/nn of/in the/at rope/nn and/cc crash/vb it/ppo against/in the/at circle/nn of/in bronze/nn ;/. ;/.\\nbut/cc the/at spirit/nn he/pps wished/vbd to/to call/vb out/rp would/md not/* ,/, he/pps knew/vbd ,/, come/vb in/in the/at person/nn of/in the/at temple/nn priest/nn ./.\\nInstead/rb ,/, he/pps walked/vbd around/in the/at temple/nn and/cc mounted/vbd still/rb another/dt flight/nn of/in stairs/nns and/cc stood/vbd before/in the/at seated/vbn Fudo/np at/in their/pp$ head/nn ./.\\nThe/at black/jj Fudo/np seemed/vbd to/to stare/vb rigidly/rb back/rb at/in him/ppo and/cc Richard's/np$ eyes/nns were/bed caught/vbn by/in the/at Fudo's/np$ in/in fascination/nn ,/, and/cc then/jj Richard/np was/bedz shocked/vbn as/cs ,/, all/abn at/in once/rb ,/, flames/nns shot/vbd out/rp from/in the/at sharp/jj features/nns of/in Fudo's/np$ face/nn and/cc there/ex was/bedz a/at terrible/jj metallic/jj scraping/vbg sound/nn ,/, as/cs if/cs the/at large/jj statue/nn were/bed about/rb to/to burst/vb from/in some/dti pressure/nn within/in it/ppo ./.\\nThen/rb the/at flames/nns were/bed gone/vbn ,/, the/at stillness/nn fell/vbd upon/in the/at severe/jj black/jj face/nn and/cc Richard/np began/vbd to/to tremble/vb violently/rb ./.\\nSuddenly/rb he/pps emptied/vbd his/pp$ pockets/nns of/in all/abn his/pp$ coins/nns and/cc dropped/vbd them/ppo into/in the/at box/nn before/in the/at seated/vbn Fudo/np and/cc hurried/vbd back/rb down/in both/abx stairways/nns and/cc away/rb from/in the/at temple/nn ,/, never/rb looking/vbg back/rb ./.\\nHe/pps walked/vbd all/abn the/at miles/nns back/rb to/in his/pp$ room/nn ./.\\n\\n\\n\\tHe/pps seemed/vbd to/to have/hv picked/vbn up/rp a/at virus/nn that/dt day/nn ,/, because/cs the/at next/ap morning/nn he/pps had/hvd a/at small/jj cough/nn and/cc felt/vbd a/at bit/nn hot/jj ./.\\nHe/pps stayed/vbd home/nr ,/, reading/vbg and/cc refusing/vbg to/to think/vb about/in his/pp$ frightening/vbg experience/nn at/in Ryusenji/np ./.\\nBut/cc the/at process/nn of/in refusing/vbg to/to think/vb about/in it/pps was/bedz an/at active/jj reminder/nn in/in itself/ppl and/cc he/pps couldn't/md* rid/vb himself/ppl of/in a/at consciousness/nn of/in it/ppo throughout/in the/at day/nn ./.\\nThe/at cold/nn lingered/vbd ,/, making/vbg sleep/nn difficult/jj that/dt night/nn ,/, and/cc he/pps remained/vbd in/in bed/nn still/rb the/at next/ap morning/nn ,/, now/rb unable/jj to/to keep/vb from/in thinking/vbg about/in the/at inexplicable/jj sight/nn of/in burning/vbg metal/nn ,/, the/at wretched/jj sound/nn ,/, the/at unbearable/jj feeling/nn of/in having/hvg been/ben to/in a/at remote/jj Tokyo/np temple/nn at/in some/dti earlier/jjr time/nn in/in his/pp$ life/nn ./.\\nAll/abn of/in the/at elements/nns of/in the/at experience/nn were/bed impossible/jj and/cc yet/rb the/at reality/nn of/in them/ppo was/bedz heavy/jj upon/in him/ppo and/cc he/pps resolved/vbd never/rb again/rb to/to visit/vb the/at temple/nn at/in Fudomae/np ./.\\n\\nI/ppss was/bedz thinking/vbg of/in the/at heat/nn and/cc of/in water/nn that/dt morning/nn when/wrb I/ppss was/bedz plowing/vbg the/at stubble/nn field/nn far/rb across/in the/at hill/nn from/in the/at farm/nn buildings/nns ./.\\nIt/pps had/hvd grown/vbn hot/jj early/rb that/dt day/nn ,/, and/cc I/ppss hoped/vbd that/cs the/at boy/nn ,/, my/pp$ brother's/nn$ son/nn ,/, would/md soon/rb come/vb across/in the/at broad/jj black/jj area/nn of/in plowed/vbn ground/nn ,/, carrying/vbg the/at jar/nn of/in cool/jj water/nn ./.\\nThe/at boy/nn usually/rb was/bedz sent/vbn out/rp at/in about/in that/dt time/nn with/in the/at water/nn ,/, and/cc he/pps always/rb dragged/vbd an/at old/jj snow-fence/nn lath/nn or/cc a/at stick/nn along/rb ,/, to/to play/vb with/in ./.\\nHe/pps pretended/vbd that/cs the/at lath/nn was/bedz a/at tractor/nn and/cc he/pps would/md drag/vb it/ppo through/in the/at dirt/nn and/cc make/vb buzzing/vbg ,/, tractor/nn sounds/nns with/in his/pp$ lips/nns ./.\\n\\n\\n\\tI/ppss almost/rb ran/vbd over/in the/at snake/nn before/cs I/ppss could/md stop/vb the/at tractor/nn in/in time/nn ./.\\nI/ppss had/hvd turned/vbn at/in the/at corner/nn of/in the/at field/nn and/cc I/ppss had/hvd to/to look/vb back/rb to/to raise/vb the/at plow/nn and/cc then/rb to/to drop/vb it/ppo again/rb into/in the/at earth/nn ,/, and/cc I/ppss was/bedz thinking/vbg of/in the/at boy/nn and/cc the/at water/nn anyway/rb ,/, and/cc when/wrb I/ppss looked/vbd again/rb down/in the/at furrow/nn ,/, the/at snake/nn was/bedz there/rb ./.\\nIt/pps lay/vbd half/abn in/in the/at furrow/nn and/cc half/abn out/rp ,/, and/cc the/at front/jj wheels/nns had/hvd rolled/vbn nearly/rb up/in to/in it/ppo when/wrb I/ppss put/vbd in/in the/at clutch/nn ./.\\nThe/at tractor/nn was/bedz heavily/rb loaded/vbn with/in the/at weight/nn of/in the/at plow/nn turning/vbg the/at earth/nn ,/, and/cc the/at tractor/nn stopped/vbd instantly/rb ./.\\n\\n\\n\\tThe/at snake/nn slid/vbd slowly/rb and/cc with/in great/jj care/nn from/in the/at new/jj ridge/nn the/at plow/nn had/hvd made/vbn ,/, into/in the/at furrow/nn and/cc did/dod not/* go/vb any/dti further/rbr ./.\\nI/ppss had/hvd never/rb liked/vbn snakes/nns much/rb ,/, I/ppss still/rb had/hvd that/dt kind/nn of/in quick/jj panic/nn that/wps I'd/ppss+hvd had/hvn as/cs a/at child/nn whenever/wrb I/ppss saw/vbd one/pn ,/, but/cc this/dt snake/nn was/bedz clean/jj and/cc bright/jj and/cc very/ql beautiful/jj ./.\\nHe/pps was/bedz multi-colored/jj and/cc graceful/jj and/cc he/pps lay/vbd in/in the/at furrow/nn and/cc moved/vbd his/pp$ arched/vbn and/cc tapered/vbn head/nn only/rb so/ql slightly/rb ./.\\nGo/vb out/in of/in the/at furrow/nn ,/, snake/nn ,/, I/ppss said/vbd ,/, but/cc it/pps did/dod not/* move/vb at/in all/abn ./.\\nI/ppss pulled/vbd the/at throttle/nn of/in the/at tractor/nn in/rp and/cc out/rp ,/, hoping/vbg to/to frighten/vb him/ppo with/in the/at noise/nn ,/, but/cc the/at snake/nn only/rb flicked/vbd its/pp$ black/jj ,/, forked/vbn tongue/nn and/cc faced/vbd the/at huge/jj tractor/nn wheel/nn ,/, without/in fright/nn or/cc concern/nn ./.\\n\\n\\n\\tI/ppss let/vbd the/at engine/nn idle/vb then/rb ,/, and/cc I/ppss got/vbd down/rp and/cc went/vbd around/in the/at wheel/nn and/cc stood/vbd beside/in it/ppo ./.\\nMy/pp$ movement/nn did/dod frighten/vb the/at snake/nn and/cc it/pps raised/vbd its/pp$ head/nn and/cc trailed/vbd delicately/rb a/at couple/nn of/in feet/nns and/cc stopped/vbd again/rb ,/, and/cc its/pp$ tongue/nn was/bedz working/vbg very/ql rapidly/rb ./.\\nI/ppss followed/vbd it/ppo ,/, looking/vbg at/in the/at brilliant/jj colors/nns on/in its/pp$ tubular/jj back/nn ,/, the/at colors/nns clear/vb and/cc sharp/jj and/cc perfect/jj ,/, in/in orange/jj and/cc green/jj and/cc brown/jj diamonds/nns the/at size/nn of/in a/at baby's/nn$ fist/nn down/in its/pp$ back/nn ,/, and/cc the/at diamonds/nns were/bed set/vbn one/pn within/in the/at other/ap and/cc interlaced/vbn with/in glistening/vbg jet-black/nn ./.\\nThe/at colors/nns were/bed astonishing/jj ,/, clear/jj and/cc bright/jj ,/, and/cc it/pps was/bedz as/cs if/cs the/at body/nn held/vbd a/at fire/nn of/in its/pp$ own/jj ,/, and/cc the/at colors/nns came/vbd through/in that/dt transparent/jj flesh/nn and/cc skin/nn ,/, vivid/jj and/cc alive/jj and/cc warm/jj ./.\\nThe/at eyes/nns were/bed clear/jj and/cc black/jj and/cc the/at slender/jj body/nn was/bedz arched/vbn slightly/rb ./.\\nHis/pp$ flat/jj and/cc gracefully/rb tapered/vbn head/nn lifted/vbd as/cs I/ppss looked/vbd at/in him/ppo and/cc the/at black/jj tongue/nn slipped/vbd in/in and/cc out/in of/in that/dt solemn/jj mouth/nn ./.\\n\\n\\n\\tYou/ppss beauty/nn ,/, I/ppss said/vbd ,/, I/ppss couldn't/md* kill/vb you/ppo ./.\\nYou/ppss are/ber much/ql too/ql beautiful/jj ./.\\nI/ppss had/hvd killed/vbn snakes/nns before/in ,/, when/wrb I/ppss was/bedz younger/jjr ,/, but/cc there/ex had/hvd been/ben no/at animal/nn like/cs this/dt one/pn ,/, and/cc I/ppss knew/vbd it/pps was/bedz unthinkable/jj that/cs an/at animal/nn such/jj as/cs that/dt should/md die/vb ./.\\nI/ppss picked/vbd him/ppo up/rp ,/, and/cc the/at length/nn of/in him/ppo arched/vbn very/ql carefully/rb and/cc gracefully/rb and/cc only/rb a/at little/ql wildly/rb ,/, and/cc I/ppss could/md feel/vb the/at coolness/nn of/in that/dt radiant/jj ,/, fire-colored/jj body/nn ,/, like/cs splendid/jj ice/nn ,/, and/cc I/ppss knew/vbd that/cs he/pps had/hvd eaten/vbn only/rb recently/rb because/cs there/ex were/bed two/cd whole/jj and/cc solid/jj little/jj lumps/nns in/in the/at forepart/nn of/in him/ppo ,/, like/cs fieldmice/nns swallowed/vbn whole/jj might/md make/vb ./.\\n\\n\\n\\tThe/at body/nn caressed/vbd through/in my/pp$ hands/nns like/cs cool/jj satin/nn ,/, and/cc my/pp$ hands/nns ,/, usually/rb tanned/vbn and/cc dark/jj ,/, were/bed pale/jj beside/in it/ppo ,/, and/cc I/ppss asked/vbd it/ppo where/wrb the/at fire/nn colors/nns could/md come/vb from/in the/at coolness/nn of/in that/dt body/nn ./.\\nI/ppss lowered/vbd him/ppo so/cs he/pps would/md not/* fall/vb and/cc his/pp$ body/nn slid/vbd out/rp onto/in the/at cool/jj ,/, newly-plowed/jj earth/nn ,/, from/in between/in my/pp$ pale/jj hands/nns ./.\\nThe/at snake/nn worked/vbd away/rb very/ql slowly/rb and/cc delicately/rb and/cc with/in a/at gorgeous/jj kind/nn of/in dignity/nn and/cc beauty/nn ,/, and/cc he/pps carried/vbd his/pp$ head/nn a/at little/ap above/in the/at rolled/vbn clods/nns ./.\\nThe/at sharp/jj ,/, burning/vbg colors/nns of/in his/pp$ body/nn stood/vbd brilliant/jj and/cc plain/jj against/in the/at black/jj soil/nn ,/, like/cs a/at target/nn ./.\\n\\n\\n\\tI/ppss felt/vbd good/jj and/cc satisfied/vbn ,/, looking/vbg at/in the/at snake/nn ./.\\nIt/pps shone/vbd in/in its/pp$ bright/jj diamond/nn color/nn against/in the/at sun-burned/jj stubble/nn and/cc the/at crumbled/vbn black/jj clods/nns of/in soil/nn and/cc against/in the/at paleness/nn of/in myself/ppl ./.\\nThe/at color/nn and/cc beauty/nn of/in it/ppo were/bed strange/jj and/cc wonderful/jj and/cc somehow/rb alien/jj ,/, too/rb ,/, in/in that/dt dry/jj and/cc dusty/jj and/cc uncolored/jj field/nn ./.\\n\\n\\n\\tI/ppss got/vbd on/in the/at tractor/nn again/rb and/cc I/ppss had/hvd to/to watch/vb the/at plow/nn closely/rb because/cs the/at field/nn was/bedz drawn/vbn across/in the/at long/jj hillside/nn and/cc even/rb in/in that/dt good/jj soil/nn there/ex was/bedz a/at danger/nn of/in rocks/nns ./.\\nI/ppss had/hvd my/pp$ back/nn to/in the/at corner/nn of/in the/at triangular/jj field/nn that/wps pointed/vbd towards/in the/at house/nn ./.\\nThe/at earth/nn was/bedz a/at little/ap heavy/jj and/cc I/ppss had/hvd to/to stop/vb once/rb and/cc clean/vb the/at plowshares/nns because/cs they/ppss were/bed not/* scouring/vbg properly/rb ,/, and/cc I/ppss did/dod not/* look/vb back/rb towards/in the/at place/nn until/cs I/ppss had/hvd turned/vbn the/at corner/nn and/cc was/bedz plowing/vbg across/in the/at upper/jj line/nn of/in the/at large/jj field/nn ,/, a/at long/jj way/nn from/in where/wrb I/ppss had/hvd stopped/vbn because/cs of/in the/at snake/nn ./.\\n\\n\\n\\tI/ppss saw/vbd it/ppo all/abn at/in a/at glance/nn ./.\\nThe/at boy/nn was/bedz there/rb at/in the/at lower/jjr corner/nn of/in the/at field/nn ,/, and/cc he/pps was/bedz in/in the/at plowed/vbn earth/nn ,/, stamping/vbg with/in ferocity/nn and/cc a/at kind/nn of/in frenzied/jj impatience/nn ./.\\nEven/rb at/in that/dt distance/nn ,/, with/in no/at sound/nn but/cc the/at sound/nn of/in the/at tractor/nn ,/, I/ppss could/md tell/vb the/at fierce/jj mark/nn of/in brutality/nn on/in the/at boy/nn ./.\\nI/ppss could/md see/vb the/at hunched-up/jj shoulders/nns ,/, the/at savage/jj determination/nn ,/, the/at dance/nn of/in his/pp$ feet/nns as/cs he/pps ground/vbd the/at snake/nn with/in his/pp$ heels/nns ,/, and/cc the/at pirouette/nn of/in his/pp$ arms/nns as/cs he/pps whipped/vbd at/in it/ppo with/in the/at stick/nn ./.\\n\\n\\n\\tStop/vb it/ppo ,/, I/ppss shouted/vbd ,/, but/cc the/at lumbering/vbg and/cc mighty/jj tractor/nn roared/vbd on/rp ,/, above/in anything/pn I/ppss could/md say/vb ./.\\nI/ppss stopped/vbd the/at tractor/nn and/cc I/ppss shouted/vbd down/rp to/in the/at boy/nn ,/, and/cc I/ppss knew/vbd he/pps could/md hear/vb me/ppo ,/, for/cs the/at morning/nn was/bedz clear/jj and/cc still/jj ,/, but/cc he/pps did/dod not/* even/rb hesitate/vb in/in that/dt brutal/jj ,/, murdering/vbg dance/nn ./.\\nIt/pps was/bedz no/at use/nn ./.\\nI/ppss felt/vbd myself/ppl tremble/vb ,/, thinking/vbg of/in the/at diamond/nn light/nn of/in that/dt beauty/nn I/ppss had/hvd held/vbn a/at few/ap moments/nns before/rb ,/, and/cc I/ppss wanted/vbd to/to run/vb down/rp there/rb and/cc halt/vb ,/, if/cs I/ppss could/md ,/, that/dt frenetic/jj pirouette/nn ,/, catch/vb the/at boy/nn in/in the/at moment/nn of/in his/pp$ savagery/nn ,/, and/cc save/vb a/at glimmer/nn ,/, a/at remnant/nn ,/, of/in that/dt which/wdt I/ppss remembered/vbd ,/, but/cc I/ppss knew/vbd it/pps was/bedz already/rb too/ql late/rb ./.\\nI/ppss drove/vbd the/at tractor/nn on/rp ,/, not/* looking/vbg down/rp there/rb ;/. ;/.\\nI/ppss was/bedz afraid/jj to/to look/vb for/in fear/nn the/at evil/nn might/md still/rb be/be going/vbg on/rp ./.\\nMy/pp$ head/nn began/vbd to/to ache/vb ,/, and/cc the/at fumes/nns of/in the/at tractor/nn began/vbd to/to bother/vb my/pp$ eyes/nns ,/, and/cc I/ppss hated/vbd the/at job/nn suddenly/rb ,/, and/cc I/ppss thought/vbd ,/, there/ex are/ber only/rb moments/nns when/wrb one/pn sees/vbz beautiful/jj things/nns ,/, and/cc these/dts are/ber soon/rb crushed/vbn ,/, or/cc they/ppss vanish/vb ./.\\nI/ppss felt/vbd the/at anger/nn mount/vb within/in me/ppo ./.\\n\\n\\n\\tThe/at boy/nn waited/vbd at/in the/at corner/nn ,/, with/in the/at jar/nn of/in water/nn held/vbn up/rp to/in me/ppo in/in his/pp$ hands/nns ,/, and/cc the/at water/nn had/hvd grown/vbn bubbly/jj in/in the/at heat/nn of/in the/at morning/nn ./.\\nI/ppss knew/vbd the/at boy/nn well/rb ./.\\nHe/pps was/bedz eleven/cd and/cc we/ppss had/hvd done/vbn many/ap things/nns together/rb ./.\\nHe/pps was/bedz a/at beautiful/jj boy/nn ,/, really/rb ,/, with/in finely-spun/jj blonde/jj hair/nn and/cc a/at smooth/jj and/cc still/rb effeminate/jj face/nn ,/, and/cc his/pp$ eyelashes/nns were/bed long/jj and/cc dark/jj and/cc brushlike/jj ,/, and/cc his/pp$ eyes/nns were/bed blue/jj ./.\\nHe/pps waited/vbd there/rb and/cc he/pps smiled/vbd as/cs the/at tractor/nn came/vbd up/rp ,/, as/cs he/pps would/md smile/vb on/in any/dti other/ap day/nn ./.\\nHe/pps was/bedz my/pp$ nephew/nn ,/, my/pp$ brother's/nn$ son/nn ,/, handsome/jj and/cc warm/jj and/cc newly-scrubbed/jj ,/, with/in happiness/nn upon/in his/pp$ face/nn and/cc his/pp$ face/nn resembled/vbd my/pp$ brother's/nn$ and/cc mine/pp$$ as/ql well/rb ./.\\n\\n\\n\\tI/ppss saw/vbd then/rb ,/, too/rb ,/, the/at stake/nn driven/vbn straight/rb and/cc hard/rb into/in the/at plowed/vbn soil/nn ,/, through/in something/pn there/rb where/wrb I/ppss had/hvd been/ben not/* long/jj before/rb ./.\\n\\n\\n\\tI/ppss stopped/vbd the/at tractor/nn and/cc climbed/vbd down/rp and/cc the/at boy/nn came/vbd eagerly/rb up/rp to/in me/ppo ./.\\n``/`` Can/md I/ppss ride/vb around/in with/in you/ppo ''/'' ?/. ?/.\\nHe/pps asked/vbd ,/, as/cs he/pps often/rb did/dod ,/, and/cc I/ppss had/hvd as/ql often/rb let/vb him/ppo be/be on/in the/at tractor/nn beside/in me/ppo ./.\\nI/ppss looked/vbd closely/rb at/in his/pp$ eyes/nns ,/, and/cc he/pps was/bedz already/rb innocent/jj ;/. ;/.\\nthe/at killing/nn was/bedz already/rb forgotten/vbn in/in that/dt clear/jj mind/nn of/in his/pp$$ ./.\\n\\n\\n\\t``/`` No/rb ,/, you/ppss cannot/md* ''/'' ,/, I/ppss said/vbd ,/, pushing/vbg aside/rb the/at water/nn jar/nn he/pps offered/vbd to/in me/ppo ./.\\nI/ppss pointed/vbd to/in the/at splintered/vbn ,/, upright/jj stake/nn ./.\\n``/`` Did/dod you/ppo do/do that/dt ''/'' ?/. ?/.\\nI/ppss asked/vbd ./.\\n\\n\\n\\t``/`` Yes/rb ''/'' ,/, he/pps said/vbd ,/, eagerly/rb ,/, beginning/vbg a/at kind/nn of/in dance/nn of/in excitement/nn ./.\\n``/`` I/ppss killed/vbd a/at snake/nn ;/. ;/.\\nit/pps was/bedz a/at big/jj one/pn ''/'' ./.\\nHe/pps tried/vbd to/to take/vb my/pp$ hand/nn to/to show/vb me/ppo ./.\\n\\n\\n\\t``/`` Why/wrb did/dod you/ppo kill/vb it/ppo ''/'' ?/. ?/.\\n\\n\\n\\t``/`` Snakes/nns are/ber ugly/jj and/cc bad/jj ''/'' ./.\\n\\n\\n\\t``/`` This/dt snake/nn was/bedz very/ql beautiful/jj ./.\\nDidn't/dod* you/ppo see/vb how/wrb beautiful/jj it/pps was/bedz ''/'' ?/. ?/.\\n\\n\\n\\t``/`` Snakes/nns are/ber ugly/jj ''/'' ,/, he/pps said/vbd again/rb ./.\\n\\n\\n\\t``/`` You/ppss saw/vbd the/at colors/nns of/in it/ppo ,/, didn't/dod* you/ppss ?/. ?/.\\nHave/hv you/ppss ever/rb seen/vbn anything/pn like/cs it/pps around/in here/rb ''/'' ?/. ?/.\\n\\n\\n\\t``/`` Snakes/nns are/ber ugly/jj and/cc bad/jj ,/, and/cc it/pps might/md have/hv bitten/vbn somebody/pn ,/, and/cc they/ppss would/md have/hv died/vbn ''/'' ./.\\n\\n\\n\\t``/`` You/ppss know/vb there/ex are/ber no/rb poisonous/jj snakes/nns in/in this/dt area/nn ./.\\nThis/dt snake/nn could/md not/* harm/vb anything/pn ''/'' ./.\\n\\n\\n\\t``/`` They/ppss eat/vb chickens/nns sometimes/rb ''/'' ,/, the/at boy/nn said/vbd ./.\\n``/`` They/ppss are/ber ugly/jj and/cc they/ppss eat/vb chickens/nns and/cc I/ppss hate/vb snakes/nns ''/'' ./.\\n\\n\\n\\t``/`` You/ppss are/ber talking/vbg foolishly/rb ''/'' ,/, I/ppss said/vbd ./.\\n``/`` You/ppss killed/vbd it/ppo because/cs you/ppss wanted/vbd to/to kill/vb it/ppo ,/, for/in no/at other/ap reason/nn ''/'' ./.\\n\\n\\n\\t``/`` They're/ppss+ber ugly/jj and/cc I/ppss hate/vb them/ppo ''/'' ,/, the/at boy/nn insisted/vbd ./.\\n``/`` Nobody/pn likes/vbz snakes/nns ''/'' ./.\\n\\n\\n\\t``/`` It/pps was/bedz beautiful/jj ''/'' ,/, I/ppss said/vbd ,/, half/abn to/in myself/ppl ./.\\n\\n\\n\\tThe/at boy/nn skipped/vbd along/rb beside/in me/ppo ,/, and/cc he/pps was/bedz contented/vbn with/in what/wdt he/pps had/hvd done/vbn ./.\\n\\n\\n\\tThe/at fire/nn of/in the/at colors/nns was/bedz gone/vbn ;/. ;/.\\nthere/ex was/bedz a/at contorted/vbn ugliness/nn now/rb ;/. ;/.\\nthe/at colors/nns of/in its/pp$ back/nn were/bed dull/jj and/cc gray-looking/jj ,/, torn/vbn and/cc smashed/vbn in/rp ,/, and/cc dirty/jj from/in the/at boy's/nn$ shoes/nns ./.\\nThe/at beautifully-tapered/jj head/nn ,/, so/ql delicate/jj and/cc so/ql cool/jj ,/, had/hvd been/ben flattened/vbn as/cs if/cs in/in a/at vise/nn ,/, and/cc the/at forked/vbn tongue/nn splayed/vbd out/in of/in the/at twisted/vbn ,/, torn/vbn mouth/nn ./.\\nThe/at snake/nn was/bedz hideous/jj ,/, and/cc I/ppss remembered/vbd ,/, even/rb then/rb ,/, the/at cool/jj ,/, bright/jj fire/nn of/in it/ppo only/rb a/at little/ap while/nn before/rb ,/, and/cc I/ppss thought/vbd perhaps/rb the/at boy/nn had/hvd always/rb seen/vbn it/ppo dead/jj and/cc hideous/jj like/cs that/dt ,/, and/cc had/hvd not/* even/rb stopped/vbd to/to see/vb the/at beauty/nn of/in it/ppo in/in its/pp$ life/nn ./.\\n\\n\\n\\tI/ppss wrenched/vbd the/at stake/nn out/rp ,/, that/cs the/at boy/nn had/hvd driven/vbn through/in it/ppo in/in the/at thickest/jjt part/nn of/in its/pp$ body/nn ,/, between/in the/at colored/vbn diamond/nn crystals/nns ./.\\nI/ppss touched/vbd it/ppo and/cc the/at coolness/nn ,/, the/at ice-feeling/jj ,/, was/bedz gone/vbn ,/, and/cc even/rb then/rb it/pps moved/vbd a/at little/ap ,/, perhaps/rb a/at tiny/jj spasm/nn of/in the/at dead/jj muscles/nns ,/, and/cc I/ppss hoped/vbd that/cs it/pps was/bedz truly/rb dead/jj ,/, so/cs that/cs I/ppss would/md not/* have/hv to/to kill/vb it/ppo ./.\\nAnd/cc then/rb it/pps moved/vbd a/at little/ql more/rbr ,/, and/cc I/ppss knew/vbd the/at snake/nn was/bedz dying/vbg ,/, and/cc I/ppss would/md have/hv to/to kill/vb it/ppo there/rb ./.\\nThe/at boy/nn stood/vbd off/rp a/at few/ap feet/nns and/cc he/pps had/hvd the/at stake/nn again/rb and/cc he/pps was/bedz racing/vbg innocently/rb in/in circles/nns ,/, making/vbg the/at buzzing/vbg tractor/nn sound/nn with/in his/pp$ lips/nns ./.\\n\\n\\n\\tI'm/ppss+bem sorry/jj ,/, I/ppss thought/vbd to/in the/at snake/nn ,/, for/cs you/ppss were/bed beautiful/jj ./.\\nI/ppss took/vbd the/at broken/vbn length/nn of/in it/ppo around/in the/at tractor/nn and/cc I/ppss took/vbd one/cd of/in the/at wrenches/nns from/in the/at tool-kit/nn and/cc I/ppss struck/vbd its/pp$ head/nn ,/, not/* looking/vbg at/in it/ppo ,/, to/to kill/vb it/ppo at/in last/rb ,/, for/cs it/pps could/md never/rb live/vb ./.\\n\\n\\n\\tThe/at boy/nn came/vbd around/rb behind/in me/ppo ,/, dragging/vbg the/at stake/nn ./.\\n``/`` It's/pps+bez a/at big/jj snake/nn ,/, isn't/bez* it/pps ''/'' ?/. ?/.\\nHe/pps said/vbd ./.\\n``/`` I'm/ppss+bem going/vbg to/to tell/vb everybody/pn how/wrb big/jj a/at snake/nn I/ppss killed/vbd ''/'' ./.\\n\\n\\n\\t``/`` Don't/do* you/ppo see/vb what/wdt you/ppss have/hv done/vbn ''/'' ?/. ?/.\\nI/ppss said/vbd ./.\\n``/`` Don't/do* you/ppo see/vb the/at difference/nn now/rb ''/'' ?/. ?/.\\n\\n\\n\\t``/`` It's/pps+bez an/at ugly/jj ,/, terrible/jj snake/nn ''/'' ,/, he/pps said/vbd ./.\\nHe/pps came/vbd up/rp and/cc was/bedz going/vbg to/to push/vb at/in it/ppo with/in his/pp$ heavy/jj shoes/nns ./.\\nI/ppss could/md see/vb the/at happiness/nn in/in the/at boy's/nn$ eyes/nns ,/, the/at gleeful/jj brutality/nn ./.\\n\\n\\n\\t``/`` Don't/do* ''/'' ,/, I/ppss said/vbd ./.\\nI/ppss could/md have/hv slapped/vbn the/at boy/nn ./.\\nHe/pps looked/vbd up/rp at/in me/ppo ,/, puzzled/vbn ,/, and/cc he/pps swayed/vbd his/pp$ head/nn from/in side/nn to/in side/nn ./.\\nI/ppss thought/vbd ,/, you/ppss little/ap brute/nn ,/, you/ppss nasty/jj ,/, selfish/jj ,/, little/ap beast/nn ,/, with/in brutality/nn already/rb developed/vbn within/in that/dt brain/nn and/cc in/in those/dts eyes/nns ./.\\nI/ppss wanted/vbd to/to slap/vb his/pp$ face/nn ,/, to/to wipe/vb forever/rb the/at insolence/nn and/cc brutal/jj glee/nn from/in his/pp$ mouth/nn ,/, and/cc I/ppss decided/vbd then/rb ,/, very/ql suddenly/rb ,/, what/wdt I/ppss would/md do/do ./.\\n\\n\\n\\n\\tCady/np didn't/dod* come/vb unglued/jj easily/rb ,/, but/cc this/dt had/hvd not/* been/ben a/at day/nn of/in glad/jj tidings/nns ./.\\nTax/nn worries/nns ,/, production/nn worries/nns ,/, personnel/nns worries/nns ,/, and/cc the/at letter/nn from/in Hanford/np-tl College/nn-tl ,/, his/pp$ own/jj alma/jj mater/fw-nn ,/, a/at real/jj snapper/nn ./.\\n\\n\\n\\tHanford/np realized/vbd he/pps had/hvd enrolled/vbn his/pp$ son/nn four/cd years/nns ago/rb ./.\\nYes/rb ,/, the/at boy's/nn$ credentials/nns were/bed in/in order/nn --/-- scholastic/jj transcript/nn ,/, character/nn references/nns ,/, picture/nn ,/, health/nn record/nn ,/, successful/jj college/nn boards/nns ./.\\nBut/cc due/rb to/in the/at many/ap applicants/nns on/in file/nn ,/, would/md he/pps co-operate/vb and/cc write/vb a/at personal/jj letter/nn giving/vbg them/ppo his/pp$ son's/nn$ motivation/nn ,/, interests/nns and/cc his/pp$ qualifications/nns for/in leadership/nn ?/. ?/.\\n\\n\\n\\tCady/np Partlow/np lit/vbd his/pp$ pipe/nn with/in no/at comfort/nn ./.\\nThis/dt was/bedz it/pps ./.\\nThis/dt was/bedz the/at letter/nn which/wdt would/md or/cc would/md not/* enroll/vb his/pp$ son/nn ,/, David/np ,/, in/in Hanford/np ./.\\nHis/pp$ son/nn who/wps had/hvd never/rb held/vbn an/at office/nn in/in any/dti organization/nn in/in the/at eighteen/cd years/nns of/in his/pp$ life/nn ./.\\nHis/pp$ son/nn who/wps did/dod not/* know/vb whether/cs he/pps wanted/vbd to/to be/be doctor/nn ,/, lawyer/nn ,/, merchant/nn or/cc chief/nn ./.\\n\\n\\n\\tHe/pps wondered/vbd if/cs he/pps had/hvd played/vbn it/ppo wrong/rb ./.\\nMaybe/rb he/pps should/md have/hv kept/vbn in/in touch/nn ./.\\nGone/vbn back/rb for/in reunions/nns ./.\\nBut/cc he/pps had/hvd been/ben busy/jj building/vbg a/at business/nn ,/, being/beg a/at big/jj man/nn in/in his/pp$ own/jj town/nn just/rb as/cs he/pps had/hvd been/ben a/at big/jj man/nn at/in Hanford/np ,/, Class/nn-tl of/in 1935/cd ./.\\nBesides/rb ,/, Cady/np Partlow/np knew/vbd he/pps wasn't/bedz* the/at old-grad-type/nn ./.\\n\\n\\n\\tIt/pps wouldn't/md* help/vb anyway/rb ./.\\nLook/vb at/in Pete/np Alcorn/np ,/, who/wps hadn't/hvd* missed/vbn a/at Hanford/np ball/nn game/nn in/in fifteen/cd years/nns ./.\\nPete's/np$ son/nn was/bedz rejected/vbn ./.\\nHanford/np-tl College/nn-tl ,/, Little/jj-tl Ivy/nn-tl League/nn-tl ,/, had/hvd no/at room/nn for/in football/nn players/nns with/in low/jj grades/nns ./.\\n\\n\\n\\tCady/np looked/vbd at/in his/pp$ own/jj son's/nn$ scholastic/jj record/nn with/in pride/nn ./.\\nGood/jj solid/jj B/np-tl average/nn with/in a/at sprinkling/nn of/in A's/np-tl in/in math/nn and/cc science/nn ./.\\nImagine/vb his/pp$ son/nn being/beg that/dt good/jj in/in science/nn !/. !/.\\nMr./np Partlow/np could/md still/rb feel/vb a/at cold/jj sweat/nn on/in his/pp$ slightly/ql gray/jj temples/nns as/cs he/pps remembered/vbd what/wdt a/at near/jj thing/nn chemistry/nn had/hvd been/ben for/in him/ppo at/in Hanford/np ./.\\nBut/cc then/rb ,/, he/pps hadn't/hvd* studied/vbn very/ql hard/rb ./.\\nGetting/vbg elected/vbn president/nn of/in the/at student/nn body/nn took/vbd a/at lot/nn of/in time/nn and/cc politicking/nn ./.\\n\\n\\n\\n\\nHe/pps put/vbd down/rp his/pp$ pipe/nn and/cc started/vbd to/to type/vb ./.\\n``/`` In/in response/nn to/in your/pp$ letter/nn ,/, I/ppss can/md in/in good/jj conscience/nn recommend/vb my/pp$ son/nn ,/, David/np ,/, in/in the/at field/nn of/in leadership/nn ''/'' ./.\\n\\n\\n\\tHe/pps stopped/vbd and/cc looked/vbd at/in the/at picture/nn of/in his/pp$ son/nn ,/, the/at picture/nn on/in his/pp$ desk/nn which/wdt had/hvd changed/vbn with/in the/at years/nns from/in a/at laughing/vbg baby/nn to/in a/at candidate/nn for/in Hanford/np-tl College/nn-tl ./.\\nHe/pps didn't/dod* have/hv to/to be/be told/vbn his/pp$ son/nn looked/vbd like/cs him/ppo ./.\\nDavid/np had/hvd the/at same/ap gray/jj eyes/nns ,/, high/jj cheekbones/nns ,/, dark/jj hair/nn and/cc a/at certain/jj rugged/jj ugliness/nn ./.\\nHeight/nn ,/, 6'/nn ./.\\nWeight/nn ,/, 160/cd ./.\\nHealth/nn ,/, excellent/jj ./.\\n\\n\\n\\tHe/pps turned/vbd back/rb to/in the/at typewriter/nn with/in a/at little/ql more/ap confidence/nn ./.\\n``/`` His/pp$ interests/nns range/vb from/in astronomy/nn and/cc geology/nn to/in electronics/nn ,/, tennis/nn and/cc swimming/vbg ./.\\nHis/pp$ chief/nn motivation/nn for/in enrolling/vbg at/in Hanford/np is/bez the/at desire/nn to/to ''/'' --/-- \\n\\n\\tMr./np Partlow/np banged/vbd his/pp$ fist/nn on/in the/at keyboard/nn ,/, ruining/vbg the/at letter/nn ./.\\nHe/pps paced/vbd to/in the/at window/nn and/cc looked/vbd at/in the/at city/nn he/pps had/hvd helped/vbn to/to build/vb ./.\\n\\n\\n\\tHow/wrb do/do you/ppo tell/vb a/at college/nn president/nn that/cs your/pp$ son/nn doesn't/doz* know/vb what/wdt he/pps wants/vbz to/to do/do ?/. ?/.\\nThat/cs you/ppss have/hv refused/vbn to/to drive/vb him/ppo into/in the/at family/nn business/nn or/cc push/vb him/ppo into/in a/at profession/nn so/cs you/ppss can/md say/vb at/in the/at club/nn ,/, ``/`` Of/in course/nn David/np has/hvz known/vbn since/cs he/pps was/bedz twelve/cd he/pps wanted/vbd to/to be/be an/at engineer/nn ''/'' --/-- or/cc a/at lawyer/nn ,/, or/cc an/at editor/nn ?/. ?/.\\n\\n\\n\\tHow/wrb do/do you/ppo tell/vb a/at college/nn like/cs Hanford/np that/cs your/pp$ son/nn has/hvz a/at vast/jj potential/nn ,/, that/cs he/pps will/md find/vb himself/ppl ?/. ?/.\\nJust/rb give/vb him/ppo time/nn ,/, give/vb him/ppo a/at chance/nn ./.\\n\\n\\n\\tCady/np snapped/vbd the/at Venetian/jj blind/nn shut/vbn and/cc slammed/vbd himself/ppl down/rp before/in the/at typewriter/nn ,/, rolled/vbd in/rp a/at fresh/jj sheet/nn ,/, and/cc gave/vbd his/pp$ letter/nn the/at same/ap savage/jj attention/nn he/pps bestowed/vbd on/in a/at salesman/nn who/wps needed/vbd to/to have/hv the/at bucket/nn taken/vbn off/rp his/pp$ thick/jj head/nn ./.\\n\\n\\n\\tWhat/wdt a/at production/nn to/to make/vb of/in a/at letter/nn commending/vbg your/pp$ own/jj son/nn !/. !/.\\nHis/pp$ eyebrow/nn went/vbd up/rp in/in amusement/nn at/in his/pp$ soul-searching/jj panic/nn ./.\\nHe/pps told/vbd Hanford/np his/pp$ son/nn wanted/vbd to/to go/vb into/in the/at field/nn of/in electronics/nn ./.\\nHe/pps told/vbd Hanford/np his/pp$ son/nn had/hvd participated/vbn in/in numerous/jj high-school/nn activities/nns ./.\\nHe/pps belonged/vbd to/in a/at social/jj club/nn ,/, a/at civic/jj group/nn ,/, little/ap theater/nn ,/, swimming/vbg team/nn ,/, and/cc had/hvd been/ben president/nn of/in the/at student/nn forum/nn as/ql well/rb as/cs treasurer/nn of/in the/at science/nn club/nn ./.\\n\\n\\n\\tHe/pps finished/vbd with/in a/at flurry/nn of/in good/jj wishes/nns to/in Hanford/np-tl College/nn-tl and/cc signed/vbd the/at letter/nn ./.\\nThere/rb ,/, that/dt did/dod it/ppo ./.\\nThen/rb he/pps met/vbd the/at grave/jj eyes/nns of/in his/pp$ wife/nn ,/, Anne/np ,/, from/in the/at photograph/nn next/in to/in David's/np$ ./.\\nHe/pps shoved/vbd the/at unsealed/vbn letter/nn into/in his/pp$ coat/nn pocket/nn ./.\\n\\n\\n\\tBetter/rbr show/vb it/ppo to/in Anne/np and/cc see/vb if/cs he/pps had/hvd omitted/vbn anything/pn ./.\\nAfter/in all/abn ,/, his/pp$ wife/nn had/hvd written/vbn most/ap of/in his/pp$ letters/nns for/in him/ppo in/in those/dts first/od lean/jj days/nns of/in Partlow/np-tl Products/nns-tl ./.\\nAnne/np had/hvd a/at way/nn with/in words/nns ./.\\nHalf/abn of/in it/ppo was/bedz natural/jj ,/, half/abn was/bedz Smith/np-tl College/nn-tl ./.\\n\\n\\n\\tYet/rb the/at whole/nn of/in Anne/np was/bedz something/pn she/pps had/hvd never/rb learned/vbn in/in any/dti college/nn ./.\\nA/at woman/nn had/hvd it/ppo or/cc she/pps didn't/dod* ./.\\nAnne/np had/hvd it/ppo ./.\\nShe/pps said/vbd what/wdt she/pps meant/vbd and/cc let/vbd it/pps be/be ./.\\nShe/pps never/rb got/vbd on/in his/pp$ back/nn ./.\\nHe/pps could/md take/vb the/at advice/nn or/cc leave/vb it/ppo ./.\\n\\n\\n\\tHe/pps whistled/vbd as/cs he/pps locked/vbd the/at office/nn and/cc grinned/vbd as/cs he/pps got/vbd on/in the/at elevator/nn ./.\\n\\n\\n\\t``/`` You/ppss look/vb like/cs you/ppss just/rb heard/vbd a/at real/jj gasser/nn ,/, Mr./np Partlow/np ''/'' ./.\\n\\n\\n\\tCady/np looked/vbd at/in Tom/np ,/, who/wps had/hvd taken/vbn him/ppo up/rp and/cc down/rp for/in fifteen/cd years/nns ./.\\n``/`` I/ppss was/bedz just/rb thinking/vbg how/wrb things/nns have/hv changed/vbn ./.\\nWhen/wrb I/ppss went/vbd to/in college/nn they/ppss begged/vbd you/ppo to/to come/vb ./.\\nBe/be our/pp$ guest/nn !/. !/.\\nIt's/pps+bez our/pp$ pleasure/nn !/. !/.\\nNow/rb you/ppss have/hv to/to be/be well/rb rounded/vbn ,/, firm/jj in/in motivation/nn and/cc pre-packed/jj with/in knowledge/nn ''/'' !/. !/.\\n\\n\\n\\tTom/np slid/vbd open/jj the/at door/nn to/in the/at lobby/nn ./.\\n``/`` That's/dt+bez a/at fact/nn ,/, Mr./np Partlow/np ./.\\nMy/pp$ John/np applied/vbd to/in six/cd colleges/nns before/cs he/pps got/vbd in/rp ''/'' ./.\\n\\n\\n\\t``/`` Going/vbg to/in State/nn-tl ''/'' ?/. ?/.\\n\\n\\n\\t``/`` No/rb ./.\\nHe's/pps+bez president/nn of/in the/at rocket/nn club/nn here/rb ,/, you/ppss know/vb ./.\\nAlways/rb messing/vbg around/rb with/in science/nn stuff/nn ./.\\nReal/ql bright/jj along/in those/dts lines/nns ,/, you/ppss might/md say/vb ./.\\nHe/pps got/vbd a/at science/nn scholarship/nn to/in Yale/np ''/'' ./.\\n\\n\\n\\t``/`` Oh/uh ''/'' ,/, said/vbd Mr./np Partlow/np ,/, ``/`` that's/dt+bez fine/jj ,/, Tom/np ./.\\nJust/rb fine/jj ''/'' ./.\\n\\n\\n\\tAs/cs he/pps drove/vbd home/nr through/in the/at thinning/vbg traffic/nn ,/, Cady/np felt/vbd the/at unease/nn growing/vbg ./.\\nHe/pps hadn't/hvd* told/vbn anyone/pn ,/, but/cc he/pps ,/, too/rb ,/, had/hvd applied/vbn to/in five/cd colleges/nns for/in David/np ./.\\nThey/ppss had/hvd all/abn turned/vbn down/rp his/pp$ son/nn ./.\\nWeakness/nn in/in leadership/nn ./.\\nSo/ql sorry/jj ./.\\nLimited/vbn interests/nns ./.\\nSo/ql sorry/jj ./.\\nNo/at clear/jj motivation/nn ./.\\nSo/ql sorry/jj ./.\\n\\n\\n\\tHe/pps suddenly/rb realized/vbd when/wrb he/pps walked/vbd into/in his/pp$ own/jj pretty/ql darned/vbn expensive/jj house/nn that/cs he/pps needed/vbd the/at Martini/np Anne/np had/hvd waiting/vbg for/in him/ppo ./.\\nBut/cc tonight/nr his/pp$ drink/nn tasted/vbd like/cs branch/nn water/nn and/cc even/rb his/pp$ favorite/jj meal/nn of/in steak/nn and/cc tossed/vbn salad/nn gave/vbd no/at surcease/nn from/in the/at growing/vbg weight/nn of/in the/at letter/nn in/in his/pp$ pocket/nn ./.\\n\\n\\n\\tNor/cc did/dod looking/vbg at/in Anne/np ease/vb the/at tension/nn as/cs it/pps usually/rb did/dod ./.\\nHe/pps liked/vbd looking/vbg at/in Anne/np ./.\\nMost/ap people/nns did/dod ./.\\nHe/pps liked/vbd her/pp$ blond/jj hair/nn and/cc the/at sprinkle/nn of/in freckles/nns across/in her/pp$ nose/nn ./.\\nFrom/in those/dts navy-blue/jj eyes/nns she/pps saw/vbd things/nns as/ql clearly/rb and/cc honestly/rb as/cs David/np did/dod ./.\\nShe/pps always/rb could/md sense/vb the/at shag/nn end/nn of/in a/at woolly/jj day/nn ./.\\n\\n\\n\\t``/`` Board/nn meeting/nn tonight/nr ,/, Cady/np ''/'' ?/. ?/.\\n\\n\\n\\t``/`` No/rb ,/, I/ppss begged/vbd off/rp ./.\\nWork/nn to/to do/do ''/'' ./.\\n\\n\\n\\t``/`` Can/md I/ppss have/hv the/at car/nn ,/, Dad/nn-tl ''/'' ?/. ?/.\\n\\n\\n\\t``/`` Why/wrb not/* let/vb him/ppo take/vb it/ppo ,/, Cady/np ?/. ?/.\\nI/ppss know/vb it/pps is/bez midweek/nn ,/, but/cc it's/pps+bez only/rb eight/cd days/nns before/in commencement/nn ./.\\nLet's/vb+ppo forget/vb the/at rules/nns ''/'' ./.\\n\\n\\n\\tCady/np ,/, deep/rb in/in thought/nn ,/, neither/cc heard/vbn nor/cc answered/vbd ./.\\n\\n\\n\\n\\nDavid/np grinned/vbd ./.\\nCarefully/rb he/pps put/vbd down/rp his/pp$ steak/nn knife/nn and/cc said/vbd loudly/rb ,/, ``/`` Mr./np Chairman/nn-tl ''/'' !/. !/.\\n\\n\\n\\tCady/np Partlow's/np$ head/nn came/vbd up/rp like/cs that/dt of/in the/at proverbial/jj fire/nn horse/nn ./.\\n``/`` I'm/ppss+bem sorry/jj ,/, Dave/np ./.\\nThe/at car/nn ?/. ?/.\\nOf/in course/nn you/ppss can/md have/hv it/ppo ''/'' ./.\\n\\n\\n\\tDave/np ate/vbd two/cd pieces/nns of/in pie/nn as/cs he/pps did/dod everything/pn else/rb ,/, slowly/rb ,/, methodically/rb and/cc with/in interest/nn ./.\\n``/`` Hear/vb anything/pn from/in Hanford/np yet/rb ,/, Dad/nn-tl ''/'' ?/. ?/.\\n\\n\\n\\tCady/np begged/vbd the/at question/nn ./.\\n``/`` Don't/do* worry/vb about/in it/ppo ,/, Dave/np ./.\\nYour/pp$ acceptance/nn will/md come/vb through/rp ''/'' ./.\\n\\n\\n\\tDave/np shrugged/vbd on/rp his/pp$ sports/nns coat/nn and/cc picked/vbd up/rp the/at car/nn keys/nns ./.\\n``/`` Don't/do* be/be too/ql sure/jj ,/, Dad/nn-tl ./.\\nCharles/np Burke/np got/vbd turned/vbn down/rp by/in Dartmouth/np and/cc he/pps is/bez a/at straight-A/jj student/nn ''/'' ./.\\n\\n\\n\\tAnne/np said/vbd it/pps wasn't/bedz* surprising/vbg because/cs Charles/np was/bedz antisocial/jj ,/, a/at lone/jj wolf/nn ,/, and/cc completely/rb one-sided/jj ./.\\n``/`` I/ppss can/md hardly/rb say/vb the/at same/ap about/in you/ppo ,/, Dave/np ''/'' !/. !/.\\n\\n\\n\\tDave/np kissed/vbd her/ppo lightly/rb ./.\\n``/`` Girls/nns ,/, my/pp$ dear/jj parent/nn ,/, are/ber here/rb to/to stay/vb !/. !/.\\nGet/vb my/pp$ old/jj man/nn to/in bed/nn early/rb ./.\\nHe/pps looks/vbz a/at little/ap bit/nn frayed/vbn ''/'' ./.\\n\\n\\n\\tAnne/np waited/vbd until/cs the/at door/nn had/hvd slammed/vbn and/cc picked/vbd up/rp the/at coffeepot/nn ./.\\n``/`` Let's/vb+ppo go/vb into/in the/at library/nn ./.\\nYou/ppss do/do seem/vb somewhat/ql tattered/vbn ''/'' ./.\\n\\n\\n\\tCady/np trailed/vbd her/ppo with/in the/at coffee/nn cups/nns and/cc settled/vbd into/in his/pp$ favorite/jj chair/nn in/in the/at comfortable/jj book-lined/jj room/nn ./.\\n``/`` I/ppss didn't/dod* know/vb I/ppss looked/vbd so/ql dilapidated/vbn ''/'' !/. !/.\\n\\n\\n\\t``/`` Wrong/jj word/nn ,/, darling/nn ./.\\nYour/pp$ fur/nn has/hvz been/ben rubbed/vbn the/at wrong/jj way/nn and/cc you/ppss show/vb it/ppo ./.\\nNeed/vb any/dti help/nn ''/'' ?/. ?/.\\n\\n\\n\\t``/`` In/in a/at way/nn ,/, yes/rb ./.\\nHanford/np-tl College/nn-tl hasn't/hvz* decided/vbn on/rp Dave's/np$ application/nn yet/rb ./.\\nThey/ppss want/vb a/at letter/nn from/in me/ppo on/in his/pp$ motives/nns ,/, interests/nns and/cc leadership/nn ./.\\nHere's/rb+bez what/wdt I/ppss wrote/vbd ''/'' ./.\\n\\n\\n\\tCady/np handed/vbd her/ppo the/at letter/nn ,/, drank/vbd his/pp$ coffee/nn and/cc waited/vbd with/in what/wdt he/pps suddenly/rb realized/vbd was/bedz belligerence/nn ./.\\nAlready/rb he/pps could/md feel/vb Anne's/np$ questioning/vbg eyes/nns ./.\\n\\n\\n\\t``/`` I/ppss know/vb you/ppss wrote/vbd this/dt in/in a/at hurry/nn ,/, but/cc ,/, Cady/np ,/, Dave/np was/bedz only/rb acting/vbg president/nn of/in the/at student/nn forum/nn for/in a/at few/ap days/nns ./.\\nThat/dt was/bedz when/wrb half/abn the/at school/nn was/bedz down/rp with/in flu/nn ''/'' ./.\\n\\n\\n\\t``/`` But/cc he/pps was/bedz president/nn ''/'' ./.\\n\\n\\n\\t``/`` And/cc he/pps wasn't/bedz* really/rb elected/vbn treasurer/nn of/in the/at science/nn club/nn ./.\\nHe/pps just/rb took/vbd over/rp the/at week/nn Bill/np Daley/np was/bedz in/in the/at state/nn basketball/nn play-off/nn ''/'' ./.\\n\\n\\n\\tCady/np stuck/vbd his/pp$ jaw/nn out/rp ./.\\n``/`` The/at fact/nn remains/vbz he/pps was/bedz treasurer/nn ''/'' ./.\\n\\n\\n\\t``/`` And/cc the/at swimming/vbg team/nn ./.\\nNo/rb ,/, Cady/np ,/, he/pps made/vbd second/od team/nn ./.\\nJust/rb missed/vbd the/at first/od ''/'' ./.\\n\\n\\n\\t``/`` A/at team/nn is/bez a/at team/nn ''/'' ,/, insisted/vbd Cady/np ./.\\n``/`` Anything/pn else/rb ''/'' ?/. ?/.\\n\\n\\n\\t``/`` Yes/rb ''/'' ,/, she/pps said/vbd quietly/rb ./.\\n``/`` I/ppss don't/do* think/vb you've/ppss+hv been/ben quite/ql honest/jj ,/, Cady/np ./.\\nIt/pps isn't/bez* like/cs you/ppo ./.\\nDavid's/np$ interests/nns ./.\\nAstronomy/nn ./.\\nHe/pps was/bedz mad/jj about/in stars/nns at/in the/at age/nn of/in nine/cd ./.\\nGeology/nn ,/, You/ppss and/cc Dave/np used/vbd his/pp$ rock/nn collection/nn for/in the/at bottom/nn of/in the/at fishpond/nn six/cd years/nns ago/rb !/. !/.\\nThose/dts aren't/ber* his/pp$ interests/nns now/rb ''/'' ./.\\n\\n\\n\\t``/`` What/wdt do/do you/ppo suggest/vb ''/'' ?/. ?/.\\n\\n\\n\\t``/`` Just/rb say/vb he/pps likes/vbz swimming/vbg ,/, tennis/nn ,/, chess/nn and/cc music/nn ''/'' ./.\\n\\n\\n\\t``/`` Music/nn !/. !/.\\nHe/pps hasn't/hvz* been/ben to/in a/at symphony/nn concert/nn all/abn season/nn ''/'' ./.\\n\\n\\n\\tAnne/np smiled/vbd ./.\\n``/`` But/cc he/pps plays/vbz bass/nn with/in Chief/nn-tl Crazy/jj-tl Horse/nn-tl and/cc-tl his/pp$-tl Five/cd-tl Colts/nns-tl ''/'' !/. !/.\\n\\n\\n\\t``/`` You/ppss mean/vb that/dt rock-and-roll/nn combo/nn ?/. ?/.\\nEven/rb in/in that/cs he/pps never/rb solos/vbz like/cs Jack/np on/in guitar/nn or/cc Rich/np on/in sax/nn ./.\\nHe's/pps+bez --/-- he's/pps+bez just/rb there/rb ,/, that's/dt+bez all/abn ''/'' ./.\\n\\n\\n\\t``/`` Yes/rb ,/, he's/pps+bez just/rb there/rb ./.\\nHe/pps keeps/vbz the/at beat/nn going/vbg ./.\\nHe/pps likes/vbz to/to play/vb bass/nn because/cs he/pps doesn't/doz* have/hv to/to solo/vb ./.\\nHe/pps doesn't/doz* like/vb to/to rise/vb and/cc shine/vb ./.\\nDon't/do* worry/vb ,/, Cady/np ,/, he'll/pps+md be/be back/rb in/in the/at Beethoven/np fold/nn by/in next/ap year/nn ''/'' ./.\\n\\n\\n\\tCady/np appeared/vbd slightly/rb mollified/vbn ./.\\n``/`` All/ql right/rb ./.\\nBut/cc I/ppss refuse/vb to/to be/be brutally/rb honest/jj and/cc mention/vb Chief/nn-tl Crazy/jj-tl Horse/nn-tl and/cc-tl his/pp$-tl Five/cd-tl Colts/nns-tl ''/'' ./.\\n\\n\\n\\tAnne/np laughed/vbd and/cc Cady/np felt/vbd the/at tension/nn loosen/vb its/pp$ grip/nn on/in the/at back/nn of/in his/pp$ neck/nn ./.\\n``/`` Maybe/rb I/ppss am/bem padding/vbg it/ppo a/at bit/nn ,/, Anne/np ''/'' ,/, he/pps said/vbd ./.\\n``/`` But/cc you/ppss know/vb how/ql hard/jj it/pps is/bez to/to get/vb a/at boy/nn into/in a/at good/jj college/nn ./.\\nHe/pps has/hvz to/to have/hv leadership/nn as/ql well/rb as/cs grades/nns ''/'' ./.\\n\\n\\n\\tAnne/np folded/vbd the/at worrisome/jj document/nn ./.\\n``/`` Did/dod you/ppss know/vb he/pps is/bez advertising/vbg his/pp$ ham-radio/nn equipment/nn for/in sale/nn this/dt weekend/nn ?/. ?/.\\nHe/pps hasn't/hvz* used/vbn it/ppo now/rb for/in several/ap years/nns ./.\\nCan/md you/ppss really/rb say/vb his/pp$ motivation/nn for/in college/nn is/bez electronics/nn ''/'' ?/. ?/.\\n\\n\\n\\tCady/np felt/vbd the/at jolt/nn as/cs though/cs he/pps had/hvd stepped/vbn off/in the/at curb/nn on/in his/pp$ heel/nn ./.\\n``/`` And/cc what/wdt would/md you/ppss say/vb he/pps wants/vbz to/to do/do ?/. ?/.\\nJust/rb what/wdt ''/'' ?/. ?/.\\n\\n\\n\\t``/`` It's/pps+bez Dave/np who/wps is/bez applying/vbg to/in Hanford/np-tl College/nn-tl ./.\\nWhy/wrb don't/do* you/ppo ask/vb him/ppo ''/'' ?/. ?/.\\n\\n\\n\\tFor/in once/rb Cady/np Partlow/np wished/vbd Anne/np would/md yell/vb at/in him/ppo so/cs he/pps could/md yell/vb back/rb ./.\\n``/`` I/ppss have/hv talked/vbn to/in him/ppo ,/, but/cc you/ppss know/vb I've/ppss+hv never/rb tried/vbn to/to push/vb him/ppo into/in any/dti profession/nn ./.\\nI/ppss won't/md* be/be guilty/jj of/in trying/vbg to/to run/vb his/pp$ life/nn ''/'' ./.\\n\\n\\n\\tAnne/np picked/vbd up/rp the/at towel/nn she/pps was/bedz hemming/vbg for/in the/at hospital/nn guild/nn ./.\\n``/`` Just/rb because/cs your/pp$ father/nn tried/vbd to/to make/vb a/at banker/nn out/in of/in you/ppo ,/, you've/ppss+hv leaned/vbn over/rp backward/rb to/to keep/vb your/pp$ hands/nns off/rp ./.\\nBut/cc subconsciously/rb you've/ppss+hv wanted/vbn him/ppo to/to conform/vb to/in your/pp$ mold/nn ./.\\nYou/ppss want/vb him/ppo to/to be/be a/at leader/nn of/in men/nns ,/, like/cs you/ppo ''/'' ./.\\n\\n\\n\\tCady/np put/vbd the/at well-worn/jj chip/nn back/rb on/in his/pp$ shoulder/nn ./.\\n``/`` Dave/np has/hvz qualities/nns of/in leadership/nn ./.\\nHe/pps just/rb hasn't/hvz* developed/vbn them/ppo yet/rb ./.\\nGive/vb him/ppo time/nn ''/'' ./.\\n\\n\\n\\tHe/pps never/rb will/md ,/, Cady/np ./.\\nNot/* the/at kind/nn of/in leadership/nn you/ppss mean/vb ,/, working/vbg with/in lots/nns of/in people/nns ./.\\nAll/abn your/pp$ wishful/jj thinking/nn won't/md* change/vb that/dt ./.\\nRemember/vb what/wdt you/ppss used/vbd to/to say/vb in/in the/at Army/nn-tl ?/. ?/.\\nYou/ppss can't/md* run/vb a/at war/nn with/in ninety-nine/cd generals/nns and/cc one/cd private/nn ''/'' !/. !/.\\n\\n\\n\\tCady/np walked/vbd the/at block/nn to/in the/at mailbox/nn ,/, almost/rb ashamed/jj of/in himself/ppl for/in arguing/vbg with/in Anne/np ./.\\n\\n\\n\\n\\tMartin/np felt/vbd it/pps was/bedz incredible/jj that/cs the/at situation/nn had/hvd come/vbn to/to exist/vb at/in all/abn ./.\\nAnd/cc once/rb begun/vbn ,/, had/hvd grown/vbn to/in such/jj monstrous/jj proportions/nns ./.\\nThe/at pair/nn of/in white/jj cotton/nn shorts/nns ruled/vbd his/pp$ life/nn ./.\\n\\n\\n\\tLying/vbg awake/jj at/in night/nn ,/, he/pps could/md see/vb them/ppo ,/, laid/vbn out/rp on/in the/at floor/nn of/in his/pp$ mind/nn ./.\\nWhen/wrb he/pps rose/vbd in/in the/at morning/nn ,/, the/at image/nn was/bedz still/rb there/rb ./.\\n\\n\\n\\tHe/pps had/hvd always/rb been/ben a/at messy/jj and/cc negligent/jj man/nn ./.\\nIn/in his/pp$ bachelor/nn days/nns ,/, his/pp$ bedroom/nn had/hvd been/ben strewn/vbn with/in clothes/nns which/wdt his/pp$ mother/nn ,/, or/cc later/rbr the/at hotel/nn maid/nn ,/, generally/rb saw/vbd fit/vbn to/to put/vb in/in order/nn ./.\\nNo/at doubt/nn Dolores/np resented/vbd following/vbg in/in their/pp$ footsteps/nns ./.\\n\\n\\n\\tBut/cc it/pps was/bedz fun/nn those/dts first/od days/nns ,/, kidding/vbg about/in the/at trail/nn of/in garments/nns he/pps left/vbd littered/vbn across/in the/at rug/nn ./.\\nThere/ex was/bedz an/at assertive/jj maleness/nn in/in his/pp$ grinning/vbg refusal/nn to/to pick/vb them/ppo up/rp ./.\\nHalf/ql slyly/rb he/pps enjoyed/vbd seeing/vbg her/ppo stoop/vb to/to lift/vb the/at things/nns ./.\\n\\n\\n\\tHe/pps remembered/vbd the/at first/od time/nn he/pps saw/vbd her/ppo ,/, standing/vbg across/in the/at room/nn at/in a/at party/nn ./.\\nThe/at smooth/jj curve/nn of/in her/pp$ neck/nn ,/, very/ql white/jj against/in hair/nn which/wdt curled/vbd against/in it/ppo like/cs petals/nns ./.\\nHer/pp$ hair/nn was/bedz the/at color/nn of/in those/dts blooms/nns which/wdt in/in seed/nn catalogues/nns are/ber referred/vbn to/in as/cs ``/`` black/jj ''/'' ,/, but/cc since/cs no/at flower/nn is/bez actually/rb without/in color/nn contain/vb always/rb a/at hint/nn of/in grape/nn or/cc purple/jj or/cc blue/jj --/-- he/pps wanted/vbd to/to draw/vb the/at broad/jj patina/nn of/in hair/nn through/in his/pp$ fingers/nns ,/, searching/vbg it/ppo slowly/rb for/in a/at trace/nn of/in veining/vbg which/wdt might/md reveal/vb its/pp$ true/jj shade/nn beneath/in the/at darkness/nn ./.\\n\\n\\n\\tSo/cs he/pps sought/vbd her/ppo out/rp ,/, and/cc spoke/vbd to/in her/ppo ,/, and/cc thought/vbd of/in his/pp$ hand/nn in/in her/pp$ hair/nn ./.\\nOr/cc against/in her/pp$ back/nn ,/, pressed/vbn on/in the/at column/nn of/in vertebrae/nns ,/, which/wdt held/vbd her/ppo so/ql magnificently/rb straight/rb and/cc unyielding/jj ,/, until/cs the/at segments/nns of/in bone/nn made/vbd tiny/jj sharp/jj cracking/vbg noises/nns ,/, like/cs the/at snapped/vbn stem/nn of/in a/at tulip/nn ./.\\n\\n\\n\\tBut/cc ,/, to/to put/vb it/ppo bluntly/rb ,/, nothing/pn snapped/vbd ./.\\nYet/rb that/dt had/hvd not/* seriously/rb troubled/vbn him/ppo ,/, not/* then/rb ./.\\nThey/ppss married/vbd ./.\\nMore/ap he/pps could/md take/vb at/in leisure/nn ./.\\nAll/abn Martin/np thought/vbd he/pps needed/vbd was/bedz time/nn :/: to/in what/wdt better/jjr use/nn could/md time/nn be/be put/vbn ?/. ?/.\\n\\n\\n\\tHe/pps saw/vbd later/rbr that/cs they/ppss had/hvd made/vbn their/pp$ marriage/nn too/ql quickly/rb ./.\\nThere/ex was/bedz too/ql little/ap occasion/nn beforehand/rb for/in resistance/nn ,/, the/at brave/jj strong/jj delights/nns of/in emotional/jj clash/nn and/cc meeting/nn ./.\\nThey/ppss had/hvd left/vbn themselves/ppls too/ql much/ap to/to discover/vb ./.\\n\\n\\n\\tBut/cc ,/, at/in the/at start/nn ,/, his/pp$ new/jj life/nn felt/vbd invigorating/vbg ./.\\nGood/jj ./.\\n\\n\\n\\tIt/pps was/bedz on/in the/at tenth/od day/nn after/in the/at wedding/nn (/( how/wrb could/md it/ppo have/hv been/ben so/ql soon/rb ?/. ?/.\\n)/) that/cs he/pps dropped/vbd the/at shorts/nns on/in the/at floor/nn ./.\\n\\n\\n\\t``/`` Now/rb ,/, I'm/ppss+bem not/* going/vbg to/to pick/vb up/rp those/dts shorts/nns ''/'' !/. !/.\\n\\n\\n\\tMartin/np gave/vbd her/ppo a/at teasing/vbg pat/nn ./.\\n``/`` I/ppss think/vb you'll/ppss+md get/vb tired/vbn of/in them/ppo there/rb ''/'' ./.\\n\\n\\n\\tIn/in the/at morning/nn the/at shorts/nns were/bed where/wrb he/pps had/hvd left/vbn them/ppo ./.\\nHe/pps smiled/vbd to/in himself/ppl ,/, and/cc decided/vbd not/* to/to mention/vb them/ppo till/cs Dolores/np did/dod ./.\\nIt/pps was/bedz almost/ql too/ql easy/jj ./.\\nFor/cs he/pps had/hvd just/rb remembered/vbn :/: tonight/nr they/ppss were/bed having/hvg their/pp$ first/od guests/nns ./.\\nThe/at shorts/nns would/md not/* be/be on/in the/at floor/nn when/wrb he/pps came/vbd home/nr that/dt evening/nn ./.\\n\\n\\n\\tHe/pps was/bedz wrong/jj ./.\\nThe/at rest/nn of/in the/at bedroom/nn had/hvd been/ben groomed/vbn to/in a/at superhuman/jj neatness/nn ,/, but/cc in/in the/at middle/nn of/in the/at carpet/nn lay/vbd the/at disheveled/vbn shorts/nns ./.\\nThey/ppss gave/vbd the/at room/nn a/at strange/jj note/nn of/in incongruity/nn ,/, like/cs a/at mole/nn on/in a/at beautiful/jj face/nn ./.\\n\\n\\n\\tHe/pps saw/vbd that/cs Dolores/np intended/vbd to/to wait/vb until/cs the/at last/ap minute/nn ,/, thinking/vbg he/pps would/md get/vb nervous/jj ./.\\nQuietly/rb he/pps determined/vbd to/to foil/vb her/ppo ./.\\nI/ppss can/md be/be as/ql stubborn/jj as/cs she/pps can/md ,/, he/pps thought/vbd ;/. ;/.\\nmy/pp$ nerves/nns are/ber as/ql strong/jj ./.\\nShe'll/pps+md rush/vb to/in the/at bedroom/nn when/wrb the/at doorbell/nn rings/vbz ./.\\n\\n\\n\\tIt/pps rang/vbd ./.\\nTen/cd minutes/nns early/jj ./.\\n\\n\\n\\tMartin/np was/bedz standing/vbg a/at few/ap feet/nns from/in the/at front/jj door/nn ./.\\nHe/pps swung/vbd around/rb ,/, eyes/nns toward/in the/at bedroom/nn ,/, some/dti fifteen/cd feet/nns away/rb ./.\\nDolores/np stood/vbd motionless/jj in/in the/at doorway/nn ./.\\n\\n\\n\\tHe/pps could/md not/* cross/vb the/at living/nn room/nn ,/, brush/vb past/in her/ppo ,/, and/cc bend/vb down/rp to/to retrieve/vb the/at shorts/nns ./.\\n\\n\\n\\tMartin/np turned/vbd his/pp$ back/nn ./.\\nHe/pps strode/vbd to/to answer/vb the/at bell/nn ./.\\n\\n\\n\\tBill's/np$ hat/nn was/bedz deposited/vbn in/in the/at hall/nn closet/nn ./.\\nWith/in the/at most/ql casual/jj and/cc relaxed/vbn manner/nn in/in the/at world/nn ,/, Dolores/np led/vbd Anthea/np to/in the/at bedroom/nn ./.\\nMartin/np strained/vbd his/pp$ ears/nns ./.\\n\\n\\n\\tAt/in first/rb he/pps could/md not/* be/be sure/jj ./.\\nThen/rb he/pps caught/vbd just/rb enough/qlp to/to know/vb that/cs the/at shorts/nns were/bed still/rb there/rb ./.\\nA/at glissade/nn of/in giggles/nns slid/vbd over/in their/pp$ voices/nns ./.\\n\\n\\n\\tAll/abn evening/nn Anthea/np favored/vbd him/ppo with/in odd/jj ,/, coy/jj looks/nns ./.\\nClearly/rb she/pps had/hvd been/ben instructed/vbn ``/`` not/* to/to say/vb a/at word/nn ''/'' ./.\\nFor/in some/dti reason/nn ,/, this/dt ellipsis/nn in/in the/at conversation/nn spread/vbd until/cs it/pps swallowed/vbd up/rp every/at other/ap topic/nn ./.\\nAt/in last/rb there/ex was/bedz a/at void/nn no/at one/pn could/md fill/vb ./.\\nThe/at Brainards/nps went/vbd home/nr early/rb ./.\\n\\n\\n\\tMartin/np realized/vbd ,/, later/rbr on/rp ,/, that/cs he/pps should/md have/hv ``/`` had/hvn it/ppo out/rp ''/'' with/in Dolores/np that/dt night/nn ./.\\nAs/ql violently/rb as/ql possible/jj ./.\\nBut/cc he/pps was/bedz so/ql taken/vbn aback/rb ,/, he/pps could/md not/* believe/vb any/dti rage/nn of/in his/pp$$ would/md make/vb her/ppo give/vb in/rp ./.\\nOn/in the/at contrary/nn ,/, it/pps would/md only/rb weaken/vb his/pp$ position/nn if/cs he/pps fumed/vbd ,/, while/cs she/pps stayed/vbd calm/jj and/cc adamant/jj ./.\\nAnd/cc if/cs he/pps surrendered/vbd after/cs raving/vbg at/in her/ppo ./.\\nHe/pps shivered/vbd ./.\\n\\n\\n\\tSuppose/vb he/pps ran/vbd up/rp the/at white/jj flag/nn altogether/rb ?/. ?/.\\nAt/in once/rb ./.\\nHe/pps considered/vbd the/at sober/jj possibility/nn ./.\\n\\n\\n\\tIn/in his/pp$ head/nn was/bedz the/at echo/nn of/in those/dts titters/nns with/in Anthea/np ./.\\n\\n\\n\\tThere/ex was/bedz something/pn about/in private/jj feminine/jj whisperings/nns which/wdt always/rb made/vbd him/ppo feel/vb scabrous/jj and/cc unclean/jj ./.\\nHe/pps remembered/vbd his/pp$ mother/nn gossiping/vbg with/in her/pp$ neighborhood/nn women/nns friends/nns ,/, lowering/vbg her/pp$ voice/nn to/in a/at penetrating/jj hoarseness/nn which/wdt might/md be/be trusted/vbn to/to carry/vb to/in the/at head/nn of/in the/at stairs/nns ,/, where/wrb he/pps crouched/vbd listening/vbg ./.\\nHe/pps could/md even/vb recall/vb the/at last/ap time/nn he/pps sat/vbd there/rb ./.\\nShe/pps was/bedz talking/vbg about/in him/ppo that/dt time/nn ,/, because/cs he/pps had/hvd done/vbn some/dti bad/jj thing/nn ,/, something/pn she/pps disliked/vbd ,/, but/cc ``/`` Afterwards/rb Martin/np said/vbd he/pps was/bedz sorry/jj ./.\\nHe/pps apologized/vbd so/ql sweetly/rb ,/, I/ppss couldn't/md* keep/vb being/beg annoyed/vbn with/in him/ppo ''/'' ./.\\nIt/pps wasn't/bedz* even/rb true/jj that/cs he'd/pps+hvd said/vbn he/pps was/bedz sorry/jj that/dt time/nn ;/. ;/.\\nhe/pps had/hvd in/in fact/nn said/vbd simply/rb that/cs he/pps wished/vbd the/at thing/nn hadn't/hvd* happened/vbn ,/, which/wdt was/bedz as/ql honest/jj as/cs he/pps could/md put/vb it/ppo ./.\\nBut/cc his/pp$ mother/nn told/vbd the/at story/nn over/rp and/cc over/rp ,/, till/cs her/pp$ ``/`` Martin/np said/vbd he/pps was/bedz sorry/jj ''/'' was/bedz as/ql much/ap a/at part/nn of/in her/ppo as/cs the/at shape/nn of/in her/pp$ thin/jj ,/, pallid/jj ears/nns ./.\\n\\n\\n\\tThe/at battle/nn had/hvd to/to be/be fought/vbn ./.\\nLet/vb the/at best/jjt sex/nn win/vb ./.\\n\\n\\n\\tBut/cc his/pp$ resolution/nn hardly/rb seemed/vbd to/to help/vb ./.\\nIf/cs the/at situation/nn had/hvd been/ben bad/jj ,/, it/pps now/rb got/vbd worse/jjr ./.\\nAbout/in this/dt time/nn people/nns began/vbd ``/`` dropping/vbg in/rp ''/'' ,/, considering/in that/cs the/at newly/rb married/vbn had/hvd been/ben left/vbn alone/rb long/jj enough/qlp ./.\\nAngrily/rb Martin/np wished/vbd they/ppss had/hvd delayed/vbn the/at wedding/nn and/cc gone/vbn on/in a/at trip/nn --/-- preferably/rb one/pn that/wps lasted/vbd months/nns --/-- instead/rb of/in deciding/vbg not/* to/to postpone/vb the/at date/nn until/cs he/pps could/md get/vb away/rb ./.\\nHere/rb they/ppss were/bed at/in the/at mercy/nn of/in anyone/pn who/wps chose/vbd to/to come/vb by/rb ./.\\nThese/dts stray/jj people/nns nearly/rb always/rb insisted/vbd on/in Dolores/np showing/vbg them/ppo around/in the/at apartment/nn ./.\\nOf/in course/nn ,/, the/at tours/nns of/in inspection/nn included/vbd the/at ever-present/jj shorts/nns ./.\\n\\n\\n\\tIt/pps was/bedz curious/jj how/wrb the/at different/jj visitors/nns took/vbd this/dt ./.\\nSome/dti tried/vbd to/to ignore/vb the/at blot/nn on/in the/at bedroom's/nn$ countenance/nn ./.\\nOthers/nns asked/vbd ./.\\nQuite/ql a/at few/ap laughed/vbn ./.\\nTo/in them/ppo all/abn Dolores/np told/vbd a/at lighthearted/jj and/cc witty/jj tale/nn ./.\\n\\n\\n\\t``/`` It's/pps+bez a/at little/ap contest/nn Martin/np and/cc I/ppss have/hv ''/'' ,/, she/pps would/md begin/vb gaily/rb ,/, carrying/vbg the/at anecdote/nn through/in a/at frothy/jj and/cc deceptive/jj course/nn ./.\\nWhile/cs he/pps waited/vbd in/in the/at living/nn room/nn ./.\\n\\n\\n\\tOnce/rb Martin/np went/vbd along/rb ./.\\nThey/ppss entered/vbd the/at bedroom/nn ,/, and/cc Dolores/np said/vbd nothing/pn ./.\\nThen/rb one/cd of/in the/at guests/nns showed/vbd his/pp$ merriment/nn ./.\\n``/`` You/ppss were/bed in/in a/at hurry/nn ,/, weren't/bed* you/ppss ''/'' ?/. ?/.\\nMartin/np would/md have/hv liked/vbn to/to break/vb the/at man's/nn$ neck/nn ./.\\nDolores/np smiled/vbd ;/. ;/.\\nshe/pps let/vbd the/at interpretation/nn stand/vb ./.\\nNow/rb Martin/np heard/vbd himself/ppl give/vb a/at snort/nn of/in mock/jj good/jj nature/nn ./.\\nWith/in her/pp$ eyes/nns Dolores/np dared/vbd him/ppo for/in the/at truth/nn ,/, ready/jj to/to begin/vb :/: It's/pps+bez a/at little/ap contest/nn --/-- \\n\\n\\tNever/rb again/rb did/dod he/pps enter/vb into/in the/at ritual/nn of/in showing/vbg the/at apartment/nn ./.\\n\\n\\n\\tThey/ppss kept/vbd up/rp a/at rigid/jj pretense/nn of/in speaking/vbg relations/nns ./.\\nBut/cc Martin/np seldom/rb felt/vbd the/at impulse/nn to/to talk/vb about/in anything/pn ./.\\nWhat/wdt to/to talk/vb about/in ?/. ?/.\\n\\n\\n\\tDolores/np kept/vbd picking/vbg up/rp any/dti of/in his/pp$ clothes/nns (/( except/in the/at fatal/jj shorts/nns )/) which/wdt he/pps left/vbd about/rb ,/, but/cc he/pps had/hvd been/ben robbed/vbn of/in pleasure/nn in/in scattering/vbg his/pp$ possessions/nns ./.\\nHe/pps fell/vbd into/in the/at habit/nn of/in putting/vbg his/pp$ clothes/nns in/in drawers/nns and/cc closets/nns ,/, so/cs his/pp$ life/nn might/md impinge/vb as/ql little/ql as/cs possible/jj on/in hers/pp$$ ./.\\nThe/at shorts/nns alone/rb remained/vbd ./.\\n\\n\\n\\tIn/in his/pp$ moments/nns of/in worst/jjt agony/nn ,/, Martin/np imagined/vbd what/wdt his/pp$ friends/nns were/bed saying/vbg ./.\\nThe/at sound/nn of/in their/pp$ amazement/nn ./.\\nBizarre/jj :/: He/pps could/md hear/vb the/at word/nn ./.\\nThe/at most/ql bizarre/jj situation/nn ./.\\nWe/ppss were/bed up/rp to/to visit/vb them/ppo and/cc \\n\\n\\tHe/pps had/hvd thought/vbn her/ppo exactly/rb what/wdt he/pps wanted/vbd ./.\\nSix/cd weeks/nns of/in marriage/nn and/cc I'm/ppss+bem using/vbg the/at past/jj tense/nn ,/, he/pps told/vbd himself/ppl furiously/rb ./.\\nPursuing/vbg his/pp$ idea/nn ,/, he/pps saw/vbd that/cs it/pps would/md be/be impossible/jj to/to leave/vb her/ppo now/rb ./.\\nEveryone/pn would/md know/vb why/wrb ;/. ;/.\\nhe/pps would/md cut/vb a/at supremely/ql ridiculous/jj figure/nn ./.\\n\\n\\n\\tHe/pps was/bedz trapped/vbn ./.\\n\\n\\n\\tDay/nn and/cc night/nn Martin/np could/md not/* drag/vb his/pp$ mind/nn from/in the/at dilemma/nn he/pps had/hvd made/vbn for/in himself/ppl ./.\\nHis/pp$ mind/nn scurried/vbd frantically/rb ,/, seeking/vbg an/at exit/nn ./.\\nAlternately/rb he/pps had/hvd periods/nns of/in hostile/jj defeatism/nn in/in which/wdt he/pps determined/vbd sullenly/rb ,/, morosely/rb ,/, to/to live/vb out/rp his/pp$ life/nn in/in this/dt fashion/nn ./.\\nNothing/pn would/md change/vb ,/, nothing/pn would/md ever/rb change/vb ./.\\n\\n\\n\\tWhen/wrb the/at solution/nn finally/rb came/vbd to/in him/ppo ,/, one/cd night/nn while/cs he/pps was/bedz in/in bed/nn ,/, he/pps was/bedz so/ql shaken/vbn by/in its/pp$ simplicity/nn that/cs he/pps could/md only/rb wonder/vb why/wrb it/pps had/hvd not/* occurred/vbn to/in him/ppo before/rb ./.\\n\\n\\n\\tIn/in a/at frenzy/nn of/in excitement/nn ,/, he/pps considered/vbd his/pp$ plan/nn ./.\\n\\n\\n\\tBeside/in his/pp$ shorts/nns ,/, he/pps would/md place/vb something/pn of/in hers/pp$$ ./.\\n\\n\\n\\tInstantaneously/rb he/pps would/md have/hv won/vbn an/at immeasurable/jj moral/jj victory/nn ,/, for/cs if/cs she/pps picked/vbd up/rp ,/, say/vb ,/, a/at pair/nn of/in her/pp$ panties/nns ,/, she/pps might/md just/rb as/ql well/rb lift/vb his/pp$ shorts/nns lying/vbg alongside/rb --/-- the/at expenditure/nn of/in energy/nn was/bedz almost/rb the/at same/ap ./.\\nHe/pps felt/vbd that/cs it/pps would/md be/be a/at particular/jj humiliation/nn to/in Dolores/np to/to pick/vb up/rp her/pp$ own/jj underwear/nn which/wdt he/pps had/hvd laid/vbn on/in the/at floor/nn ./.\\nFurthermore/rb ,/, he/pps could/md go/vb on/in repeating/vbg the/at maneuver/nn endlessly/rb :/: every/at time/nn he/pps went/vbd in/in the/at bedroom/nn ,/, he/pps could/md drop/vb a/at slip/nn or/cc a/at brassiere/nn ,/, or/cc maybe/rb a/at girdle/nn ,/, next/in to/in his/pp$ shorts/nns ./.\\nSooner/rbr or/cc later/rbr ,/, Dolores/np would/md crack/vb ./.\\nOn/in the/at other/ap hand/nn ,/, if/cs she/pps didn't/dod* remove/vb her/pp$ own/jj things/nns ,/, it/pps would/md be/be difficult/jj to/to explain/vb to/in the/at parade/nn of/in guests/nns which/wdt traversed/vbd the/at apartment/nn ./.\\n\\n\\n\\tMartin/np guessed/vbd that/cs Dolores/np would/md not/* be/be so/ql eager/jj to/to tell/vb the/at next/ap installment/nn of/in her/pp$ story/nn ./.\\nThe/at tale/nn ,/, he/pps thought/vbd ,/, would/md become/vb less/ql gay/jj ./.\\nShe/pps had/hvd used/vbn his/pp$ rumpled/vbn shorts/nns as/cs the/at very/ap image/nn of/in his/pp$ childishness/nn ,/, his/pp$ lack/nn of/in control/nn ,/, his/pp$ general/jj male/nn looseness/nn ,/, while/cs she/pps remained/vbd cool/jj ,/, airy/jj ,/, and/cc untouched/jj ,/, the/at charming/jj teacher/nn who/wps disciplined/vbd an/at unruly/jj body/nn ./.\\nTo/to have/hv her/pp$ underclothes/nns linked/vbn with/in his/pp$$ on/in the/at floor/nn would/md draw/vb her/ppo visibly/rb into/in a/at struggle/nn both/abx bitter/jj and/cc absurd/jj ./.\\n\\n\\n\\tSomething/pn in/in the/at back/nn of/in his/pp$ mind/nn was/bedz aware/jj that/cs the/at magnificence/nn of/in the/at plan/nn lay/vbd in/in his/pp$ faith/nn ,/, that/cs the/at idea/nn would/md work/vb because/cs he/pps believed/vbd in/in it/ppo ,/, since/cs his/pp$ courage/nn and/cc virility/nn were/bed involved/vbn ,/, because/cs it/pps was/bedz truly/rb his/pp$$ ./.\\nThe/at knowledge/nn kept/vbd him/ppo from/in analyzing/vbg his/pp$ scheme/nn to/in death/nn ,/, and/cc took/vbd him/ppo through/in the/at last/ap hours/nns of/in that/dt night/nn in/in a/at peace/nn of/in exalted/vbn fanaticism/nn ./.\\n\\n\\n\\tThe/at next/ap morning/nn ,/, while/cs Dolores/np was/bedz out/in of/in the/at room/nn ,/, he/pps went/vbd to/in her/pp$ bureau/nn drawer/nn ,/, took/vbd out/rp a/at pair/nn of/in nylon/nn lace/nn pants/nns ,/, and/cc tenderly/rb dropped/vbd them/ppo next/in to/in his/pp$ shorts/nns ./.\\nHe/pps sat/vbd down/rp on/in the/at bed/nn ./.\\n\\n\\n\\tIn/in a/at surprisingly/rb short/jj time/nn ,/, Dolores/np appeared/vbd ./.\\nTo/in his/pp$ delight/nn ,/, her/pp$ eyes/nns focused/vbd at/in once/rb upon/in the/at two/cd garments/nns ./.\\nSlowly/rb and/cc deliberately/rb she/pps reached/vbd down/rp and/cc touched/vbd the/at lace/nn with/in her/pp$ fingers/nns ,/, then/rb hesitated/vbd for/in about/rb a/at second/od ./.\\nAh/uh ,/, he/pps thought/vbd ,/, she's/pps+bez going/vbg through/in the/at chain/nn of/in reasoning/vbg which/wdt says/vbz she/pps might/md really/rb just/rb as/ql well/rb pick/vb up/rp my/pp$ shorts/nns too/rb ./.\\nHe/pps saw/vbd that/cs in/in a/at moment/nn she/pps had/hvd grasped/vbn all/abn the/at implications/nns of/in a/at plot/nn which/wdt had/hvd been/ben weeks/nns in/in occurring/vbg to/in him/ppo ./.\\nExtending/vbg her/pp$ fingers/nns another/dt inch/nn ,/, she/pps caught/vbd up/rp the/at shorts/nns ,/, and/cc swiftly/rb left/vbd the/at room/nn ./.\\nShe/pps did/dod not/* look/vb at/in him/ppo ,/, but/cc he/pps noticed/vbd that/cs her/pp$ face/nn was/bedz flushed/vbn and/cc her/pp$ eyes/nns unsteady/jj ./.\\n\\n\\n\\tThey/ppss breakfasted/vbd together/rb ,/, but/cc Martin/np did/dod not/* refer/vb to/in his/pp$ triumph/nn ,/, and/cc Dolores/np found/vbd a/at great/jj deal/nn to/to do/do in/in the/at kitchen/nn ,/, bobbing/vbg up/rp and/cc down/rp from/in the/at table/nn so/cs that/dt talk/nn was/bedz impossible/jj ./.\\nWell/uh ,/, Martin/np thought/vbd ,/, That'll/dt+md save/vb ./.\\nHe/pps left/vbd for/in work/nn in/in high/jj spirits/nns ./.\\n\\n\\n\\tAs/cs he/pps relaxed/vbd that/dt day/nn ,/, Martin/np realized/vbd how/wrb tense/jj he/pps had/hvd been/ben these/dts past/jj weeks/nns ./.\\nHe/pps found/vbd that/cs he/pps no/at longer/jjr hated/vbd Dolores/np (/( he/pps knew/vbd how/wrb much/ap he/pps had/hvd hated/vbn her/ppo )/) ,/, and/cc he/pps was/bedz surprised/vbn at/in a/at resurgence/nn of/in an/at affectionate/jj feeling/nn ./.\\n\\n\\n\\n\\t``/`` Good/jj old/jj A-Z/nn ''/'' ,/, Cap/np said/vbd ./.\\n``/`` You/ppss know/vb ,/, I've/ppss+hv got/vbn one/cd of/in your/pp$ cars/nns at/in home/nr ./.\\nAs/cs a/at prominent/jj industrialist/nn ,/, you/ppss ought/md to/to be/be interested/vbn in/in his/pp$ nibs'/nn$ support/nn group/nn ./.\\nIsn't/bez* his/pp$ racket/nn down/in your/pp$ alley/nn ''/'' ?/. ?/.\\n\\n\\n\\tOnce/cs it/pps was/bedz ,/, William/np thought/vbd ./.\\nBut/cc not/* any/dti more/rbr ./.\\n\\n\\n\\tA/at rush/nn of/in memory/nn swept/vbd him/ppo back/rb ,/, and/cc he/pps forgot/vbd Cap/np ./.\\nHow/wrb did/dod he/pps start/vb on/in such/abl a/at ride/nn to/in brief/jj glory/nn ?/. ?/.\\nSimply/rb enough/qlp ,/, through/in the/at inadvertent/jj agency/nn of/in his/pp$ brother-in-law/nn ./.\\nGeneral/nn-tl Hershey's/np$ draft/nn and/cc Doc/np Eddyman/np and/cc Cap/np were/bed responsible/jj for/in his/pp$ first/od eminence/nn ,/, but/cc Fearless/jj-tl Freddy/np Bryan/np could/md take/vb credit/nn ,/, if/cs he/pps cared/vbd to/in (/( and/cc he/pps did/dod )/) ,/, for/in the/at second/od time/nn ./.\\nFreddy/np needed/vbd a/at job/nn ,/, having/hvg been/ben detached/vbn from/in a/at rather/ql dangerous/jj career/nn in/in real/jj estate/nn and/cc skyscraper/nn financing/vbg by/in Gerry/np ,/, and/cc it/pps was/bedz up/in to/in Arthur/np Willis/np to/to provide/vb him/ppo with/in one/pn ./.\\n\\n\\n\\tMr./np Willis/np bought/vbd Zenith/nn-tl Plastic/nn-tl Products/nns-tl ,/, a/at skeleton/nn corporation/nn of/in sorts/nns which/wdt had/hvd undergone/vbn many/ap vicissitudes/nns and/cc whose/wp$ principal/jjs assets/nns were/bed a/at couple/nn of/in electronics/nn plants/nns on/in Long/jj-tl Island/nn-tl engaged/vbd in/in working/vbg out/rp government/nn contracts/nns ,/, and/cc installed/vbd Freddy/np in/in an/at executive/nn position/nn ./.\\nShortly/rb after/rb ,/, Freddy/np had/hvd his/pp$ usual/jj proliferation/nn of/in bold/jj ideas/nns ./.\\nWillis/np listened/vbd patiently/rb ,/, and/cc once/rb in/in a/at while/nn William/np was/bedz exposed/vbn to/in them/ppo at/in a/at family/nn gathering/nn ;/. ;/.\\nhe/pps generally/rb heard/vbd Freddy's/np$ suggestions/nns without/in interest/nn ,/, being/beg absorbed/vbn by/in his/pp$ own/jj prospering/vbg concerns/nns ./.\\n\\n\\n\\tProbably/rb Mr./np Willis/np was/bedz influenced/vbn toward/in deeper/jjr involvement/nn by/in familial/jj loyalty/nn and/cc a/at concern/nn for/in his/pp$ grandchildren/nns ./.\\nGerry/np began/vbd to/to aid/vb Freddy/np with/in her/pp$ father/nn ,/, prodded/vbn ,/, no/at doubt/nn ,/, by/in Joan's/np$ open/jj contempt/nn for/in Freddy/np and/cc William's/np$ irritating/jj competency/nn ./.\\nAnother/dt factor/nn must/md have/hv been/ben the/at eventual/jj disposal/nn of/in Willis'/np$ fortune/nn ;/. ;/.\\nshe/pps unquestionably/rb assumed/vbd that/cs the/at more/rbr he/pps was/bedz entwined/vbn with/in Freddy/np ,/, the/at more/ql likely/rb he/pps was/bedz to/to reward/vb Freddy/np richly/rb upon/in his/pp$ death/nn ./.\\n\\n\\n\\tWhatever/wdt the/at reasons/nns ,/, Willis/np and/cc Bryan/np started/vbd expanding/vbg Zenith/nn-tl ./.\\nThey/ppss acquired/vbd another/dt electronics/nn factory/nn ,/, a/at specialized/vbn ceramics/nn company/nn ,/, an/at organization/nn that/wps built/vbd --/-- very/ql experimentally/rb --/-- high-speed/nn research/nn calculators/nns ./.\\nSince/cs they/ppss were/bed hunting/vbg for/in national/jj defense/nn contracts/nns ,/, Adam/np Herberet/np ,/, a/at man/nn of/in surprising/vbg resources/nns ,/, entered/vbd the/at combination/nn as/cs a/at silent/jj partner/nn because/rb of/in his/pp$ political/jj connections/nns ./.\\n\\n\\n\\tFeeling/vbg his/pp$ power/nn ,/, Freddy/np looked/vbd for/in additional/jj worlds/nns to/to conquer/vb ./.\\nHeavy/jj industry/nn ,/, slanted/vbn toward/in inexhaustible/jj government/nn coffers/nns ,/, attracted/vbd him/ppo ./.\\nThe/at Allstates/nps-tl Auto/nn-tl Company/nn-tl ,/, a/at medium-sized/jj firm/nn which/wdt manufactured/vbd four-wheel-drive/nn vehicles/nns and/cc other/ap off-road/jj equipment/nn ,/, had/hvd recently/rb constructed/vbn an/at over-large/jj ,/, modern/jj plant/nn in/in a/at burst/nn of/in misguided/vbn optimism/nn ./.\\nCursed/vbn with/in a/at shaky/jj management/nn and/cc dissatisfied/vbn stockholders/nns ,/, it/pps was/bedz ripe/jj for/in amalgamation/nn ,/, and/cc Freddy's/np$ instinct/nn was/bedz to/to keep/vb growing/vbg by/in stock/nn mergers/nns and/cc small/jj expenditure/nn of/in cash/nn ,/, and/cc never/rb mind/vb inevitable/jj consequences/nns ./.\\nWith/in Herberet's/np$ blessing/nn ,/, he/pps was/bedz convinced/vbn that/cs Allstates'/nps$ Wisconsin/np folly/nn would/md be/be ideal/jj for/in conversion/nn to/in airplane/nn sub-assembly/nn ,/, tanks/nns ,/, missiles/nns or/cc ordnance/nn of/in some/dti kind/nn ./.\\n\\n\\n\\tAt/in that/dt point/nn William/np came/vbd into/in the/at picture/nn ./.\\nAlthough/cs not/* much/rb desiring/vbg the/at account/nn ,/, he/pps had/hvd been/ben appointed/vbn advertising/vbg head/nn of/in Zenith/nn-tl ./.\\nFreed/vbn of/in routine/nn by/in having/hvg his/pp$ own/jj firm/nn and/cc a/at complaisant/jj partner/nn ,/, his/pp$ work/nn in/in New/jj-tl York/np-tl had/hvd given/vbn him/ppo a/at broader/jjr overall/jj knowledge/nn of/in business/nn administration/nn and/cc corporate/jj structure/nn ;/. ;/.\\nand/cc if/cs he/pps wasn't/bedz* entirely/rb committed/vbn to/in what/wdt he/pps did/dod ,/, he/pps was/bedz at/in least/ap fascinated/vbd by/in the/at chance/nn of/in wider/jjr opportunities/nns ./.\\nMr./np Willis/np ,/, eager/jj to/to have/hv him/ppo allied/vbn with/in the/at family/nn ,/, wanted/vbd advice/nn beyond/in the/at confines/nns of/in his/pp$ field/nn ,/, and/cc William/np set/vbd out/rp on/in a/at serious/jj study/nn of/in the/at situation/nn ,/, including/in trips/nns to/in Wisconsin/np and/cc Washington/np ./.\\n\\n\\n\\tIn/in the/at end/nn ,/, he/pps said/vbd :/: ``/`` I'm/ppss+bem not/* enchanted/vbn by/in the/at proposition/nn ,/, sir/nn ./.\\nI/ppss know/vb a/at guy/nn named/vbn Jack/np Hamrick/np ,/, a/at very/ql bright/jj young/jj engineer/nn who/wps was/bedz with/in Chrysler/np ,/, and/cc I/ppss took/vbd him/ppo with/in me/ppo to/in Allstates/nps ./.\\nIt's/pps+bez his/pp$ expert/jj opinion/nn that/cs the/at plant/nn isn't/bez* well/rb suited/vbn to/in what/wdt you/ppss have/hv in/in mind/nn ./.\\nThe/at conversion/nn will/md cost/vb a/at fortune/nn ./.\\nBesides/in that/dt ,/, I'm/ppss+bem acquainted/vbn more/rbr or/cc less/rbr with/in the/at defense/nn hardware/nn situation/nn through/in my/pp$ contacts/nns in/in the/at Air/nn-tl Force/nn-tl ./.\\nI/ppss think/vb Adam/np Herberet/np is/bez guilty/jj of/in being/beg too/ql hopeful/jj and/cc better/rbr informed/vbn on/in defense/nn financing/nn than/cs on/in the/at technical/jj side/nn ./.\\nMissiles/nns have/hv thrown/vbn everything/pn up/rp for/in grabs/nns ,/, and/cc nobody/pn seems/vbz to/to be/be sure/jj where/wrb we/ppss go/vb from/in here/rb ./.\\nThe/at future/nn of/in manned/vbn aircraft/nn is/bez in/in doubt/nn ,/, which/wdt affects/vbz government/nn procurement/nn ,/, and/cc jet/nn transports/nns have/hv revolutionized/vbn the/at airline/nn trade/nn --/-- one/cd jet/nn can/md take/vb the/at place/nn of/in three/cd compound-engine/nn planes/nns ./.\\nThis/dt means/vbz the/at aircraft/nn companies/nns are/ber going/vbg to/to tear/vb into/in the/at government/nn market/nn ,/, looking/vbg for/in anything/pn they/ppss can/md get/vb and/cc making/vbg the/at competition/nn tough/jj ./.\\nHere/rb are/ber a/at few/ap facts/nns and/cc figures/nns I've/ppss+hv assembled/vbn ./.\\nCan't/md* you/ppss stay/vb with/in what/wdt you/ppss have/hv and/cc wait/vb till/cs the/at dust/nn settles/vbz ''/'' ?/. ?/.\\n\\n\\n\\tWillis/np glanced/vbd at/in the/at bound/vbn pages/nns given/vbn him/ppo and/cc shrugged/vbd ./.\\n``/`` Well/uh ''/'' ,/, he/pps said/vbd ,/, ``/`` there/ex is/bez Freddy/np ,/, you/ppss know/vb ./.\\nAnd/cc Gerry/np ./.\\nFreddy/np is/bez deeply/rb committed/vbn to/in our/pp$ plans/nns already/rb ./.\\nHe/pps assures/vbz me/ppo he/pps has/hvz people/nns to/to handle/vb the/at money/nn raising/nn ,/, and/cc Ham/np Richert/np ,/, my/pp$ lawyer/nn ,/, says/vbz the/at legal/jj aspects/nns of/in the/at wedding/nn of/in Zenith/nn-tl and/cc Allstates/nps are/ber no/at problem/nn ./.\\nI/ppss don't/do* like/vb to/to exhibit/vb the/at deadly/jj dampening/vbg effect/nn of/in an/at elderly/jj man's/nn$ caution/nn ''/'' ./.\\n\\n\\n\\t``/`` Yes/rb ,/, I/ppss appreciate/vb that/dt ./.\\nI/ppss wish/vb you/ppss wouldn't/md* tell/vb Freddy/np I'm/ppss+bem lukewarm/jj ;/. ;/.\\nI've/ppss+hv caused/vbd him/ppo trouble/nn before/rb ,/, and/cc he's/pps+bez beginning/vbg to/in resent/vb me/ppo ./.\\nIf/cs we/ppss don't/do* take/vb care/vb ,/, the/at sisters/nns will/md be/be entering/vbg the/at fray/nn on/in opposite/jj sides/nns ,/, brandishing/vbg their/pp$ cudgels/nns ''/'' ./.\\n\\n\\n\\t``/`` Which/wdt is/bez a/at frightful/jj prospect/nn ,/, Bill/np ''/'' ./.\\nWillis/np laughed/vbd ./.\\n``/`` One/pn shouldn't/md* mix/vb commercial/jj affairs/nns with/in patriarchy/nn ,/, but/cc in/in this/dt case/nn I/ppss have/hv no/at choice/nn ./.\\nLet/vb me/ppo think/vb about/in it/ppo ./.\\nI'm/ppss+bem most/ql grateful/jj to/in you/ppo ,/, so/ql grateful/jj I/ppss wish/vb you/ppss were/bed my/pp$ principal/jjs aide/nn instead/rb of/in Freddy/np ''/'' ./.\\n\\n\\n\\tNot/* to/in William's/np$ surprise/nn ,/, Freddy/np ,/, Adam/np and/cc Hamilton/np Richert/np prevailed/vbd ;/. ;/.\\nallied/vbn to/in them/ppo was/bedz Gerry/np ,/, devoting/vbg much/ap time/nn to/in swaying/vbg her/pp$ father/nn ,/, and/cc Joan/np dismissed/vbd all/abn thought/nn of/in the/at project/nn and/cc William/np was/bedz unwilling/jj to/to interfere/vb further/rbr ./.\\nZenith/nn-tl absorbed/vbd Allstates/nps ,/, stock/nn transfers/nns were/bed arranged/vbn ,/, and/cc Freddy/np became/vbd president/nn of/in the/at hyphenated/vbn combination/nn ./.\\nThrough/in Jack/np Hamrick/np ,/, William/np fell/vbd into/in the/at world/nn of/in automobile/nn promotion/nn and/cc got/vbd several/ap accounts/nns for/in Shoals/nns-tl and/cc-tl Clay/nn-tl ./.\\n\\n\\n\\tHe/pps forgot/vbd about/in A-Z/np-tl till/cs ,/, unhappily/rb ,/, he/pps and/cc Hamrick/np were/bed proved/vbn correct/jj ./.\\nFreddy's/np$ backing/nn dropped/vbd away/rb from/in him/ppo and/cc Mr./np Willis/np was/bedz forced/vbn to/to make/vb up/rp the/at deficit/nn ./.\\nAdam/np ,/, beset/vbn by/in changing/vbg defense/nn conditions/nns and/cc the/at open/jj secret/nn that/cs he/pps was/bedz part/nn of/in the/at new/jj corporation/nn ,/, couldn't/md* deliver/vb from/in his/pp$ end/nn ./.\\nThe/at Wisconsin/np plant/nn turned/vbd out/rp to/to be/be a/at white/jj elephant/nn ./.\\nStock/nn Willis/np held/vbd in/in abundance/nn fell/vbd sharply/rb in/in value/nn ./.\\nConfronted/vbn by/in a/at grim/jj future/nn ,/, Freddy/np lost/vbd his/pp$ nerve/nn and/cc plumped/vbd for/in a/at drastic/jj liquidation/nn ./.\\n\\n\\n\\tOnce/rb more/rbr Willis/np summoned/vbd William/np ./.\\n``/`` You/ppss were/bed right/jj ''/'' ,/, he/pps said/vbd --/-- ``/`` you/ppss and/cc your/pp$ engineer/nn --/-- and/cc I'm/ppss+bem in/in something/pn of/in a/at bind/nn ./.\\nFreddy's/np$ solution/nn doesn't/doz* appeal/vb to/in me/ppo ./.\\nIn/in addition/nn to/in other/ap defects/nns ,/, I'm/ppss+bem a/at stubborn/jj man/nn and/cc hate/vb to/to admit/vb to/in the/at common/jj garden/nn variety/nn of/in bad/jj judgment/nn ./.\\nWill/md you/ppss see/vb if/cs you/ppss can/md help/vb me/ppo ''/'' ?/. ?/.\\n\\n\\n\\tWilliam/np spent/vbd a/at long/jj week/nn end/nn closeted/vbn with/in Hamrick/np ./.\\nHis/pp$ recent/jj experience/nn in/in motor/nn car/nn advertising/nn ,/, a/at love/nn for/in cars/nns of/in themselves/ppls ,/, the/at existence/nn of/in A-Z's/np$ useless/jj Wisconsin/np set-up/nn ,/, exposure/nn to/in exciting/jj conceptions/nns of/in Hamrick's/np$ that/wps nobody/pn would/md buy/vb ,/, and/cc the/at coincidental/jj recent/jj failure/nn of/in a/at respected/vbn but/cc out-dated/jj small-car/nn manufacturer/nn called/vbd Ticonderoga/np-tl Motors/nns-tl had/hvd given/vbn him/ppo an/at idea/nn of/in such/jj dimensions/nns he/pps was/bedz almost/rb afraid/jj to/to broach/vb it/ppo ./.\\nInitially/rb ,/, Hamrick's/np$ reaction/nn to/in A-Z/np-tl going/vbg into/in the/at passenger/nn car/nn market/nn was/bedz discouraging/jj ./.\\nHe/pps thought/vbd the/at financing/nn ,/, the/at advertising/nn ,/, the/at production/nn of/in new/jj models/nns ,/, the/at founding/nn of/in a/at nationwide/jj chain/nn of/in dealerships/nns was/bedz simply/rb too/ql difficult/jj ./.\\nThen/rb he/pps caught/vbd fire/nn ./.\\nIf/cs A-Z/np-tl could/md buy/vb Ticonderoga/np cheaply/rb and/cc use/vb their/pp$ presses/nns and/cc dies/nns and/cc other/ap equipment/nn ,/, if/cs William/np could/md hit/vb precisely/rb the/at right/jj promotion/nn note/nn ,/, if/cs the/at money/nn hurdle/nn was/bedz not/* insurmountable/jj ./.\\n\\n\\n\\tThey/ppss took/vbd nearly/rb a/at month/nn to/to investigate/vb ,/, marshal/vb statistics/nns ,/, and/cc put/vb their/pp$ arguments/nns down/rp in/in black/jj and/cc white/jj ./.\\nTaking/vbg Hamrick/np with/in him/ppo ,/, William/np went/vbd to/in Mr./np Willis/np ./.\\nHe/pps was/bedz surprised/vbn and/cc dubious/jj ,/, but/cc impressed/vbn by/in the/at engineer/nn and/cc the/at report/nn ./.\\n\\n\\n\\t``/`` Your/pp$ alternative/nn is/bez breathtaking/jj ''/'' ,/, he/pps said/vbd ,/, ``/`` and/cc ,/, I'm/ppss+bem frank/jj in/in saying/vbg ,/, a/at bit/nn mad/jj ./.\\nI/ppss wish/vb I/ppss was/bedz younger/jjr and/cc less/ql timid/jj ./.\\nWell/uh ,/, I/ppss can't/md* resolve/vb this/dt myself/ppl ./.\\nI'll/ppss+md have/hv to/to call/vb in/rp the/at brain/nn trust/nn ./.\\nAre/ber you/ppss willing/jj to/to run/vb the/at gantlet/nn ?/. ?/.\\nI/ppss can't/md* guarantee/nn you/ppss a/at sympathetic/jj audience/nn ''/'' ./.\\n\\n\\n\\t``/`` We'll/ppss+md be/be in/in there/rb swinging/vbg ''/'' ,/, William/np said/vbd ,/, ``/`` but/cc in/in a/at way/nn ,/, sir/nn ,/, you've/ppss+hv got/vbn to/to decide/vb it/ppo yourself/ppl ./.\\nYou/ppss have/hv the/at controlling/vbg interest/nn and/cc the/at principal/jjs expenditure/nn is/bez yours/pp$$ --/-- and/cc ,/, besides/rb ,/, nobody/pn else/rb is/bez going/vbg to/to have/hv the/at courage/nn ./.\\nIf/cs they/ppss follow/vb anyone/pn ,/, it'll/pps+md have/hv to/to be/be you/ppo ''/'' ./.\\nHe/pps paused/vbd ./.\\n``/`` I/ppss should/md explain/vb :/: there's/ex+bez more/ap here/rb for/in me/ppo than/cs advocating/vbg my/pp$ little/ap dream/nn ,/, there's/ex+bez you/ppss ./.\\nYou/ppss mustn't/md* take/vb a/at fall/nn ,/, or/cc publicly/rb back/vb away/rb ./.\\nI/ppss hate/vb that/dt ./.\\nYou're/ppss+ber --/-- you're/ppss+ber Arthur/np Willis/np ./.\\nForgive/vb the/at hearts/nns and/cc flowers/nns theme/nn ''/'' ./.\\n\\n\\n\\t``/`` I/ppss rather/rb like/vb the/at music/nn ''/'' ,/, Willis/np replied/vbd quietly/rb ./.\\n``/`` Thank/vb you/ppo ''/'' ./.\\n\\n\\n\\tAt/in the/at meeting/nn ,/, attended/vbn by/in Freddy/np ,/, Richert/np ,/, Herberet/np and/cc the/at A-Z/np-tl executive/nn staff/nn ,/, with/in Mr./np Willis/np presiding/vbg ,/, William/np and/cc Hamrick/np did/dod indeed/rb run/vb the/at gantlet/nn ./.\\nFrom/in shock/nn and/cc incredulity/nn ,/, most/ap of/in the/at listeners/nns went/vbd on/rp to/in open/jj resistance/nn and/cc animosity/nn ./.\\n\\n\\n\\t``/`` Oh/uh ,/, my/pp$ God/np ''/'' ,/, Ham/np Richert/np said/vbd ,/, ``/`` a/at little/jj child/nn shall/md lead/vb them/ppo ./.\\nMove/vb over/rp ,/, General/nn-tl Motors/nns-tl ''/'' ./.\\n\\n\\n\\t``/`` It's/pps+bez absurd/jj ,/, Bill/np ''/'' ,/, Freddy/np said/vbd ,/, from/in a/at pale/jj face/nn ./.\\n``/`` You're/ppss+ber leading/vbg Dad/nn-tl down/in the/at garden/nn path/nn ''/'' ./.\\n\\n\\n\\t``/`` Your/pp$ garden/nn ,/, God/uh damn/uh it/uh ''/'' !/. !/.\\nWilliam/np said/vbd ./.\\n\\n\\n\\t``/`` I/ppss don't/do* enjoy/vb family/nn quarrels/nns ''/'' ,/, Adam/np said/vbd ./.\\n``/`` Nor/cc crazy/jj relatives/nns ./.\\nWe're/ppss+ber here/rb to/to transact/vb business/nn ./.\\nCan't/md* we/ppss put/vb an/at end/nn to/in this/dt ,/, Arthur/np ''/'' ?/. ?/.\\n\\n\\n\\t``/`` Hear/vb me/ppo out/rp ,/, please/uh ''/'' ,/, William/np begged/vbd ./.\\n``/`` I'm/ppss+bem an/at advertising/vbg hustler/nn ,/, I/ppss admit/vb ,/, but/cc I/ppss have/hv to/to get/vb hot/jj once/rb in/in a/at larger/jjr sphere/nn ./.\\nSure/rb ,/, Ticonderoga/np went/vbd broke/jj in/in the/at low-priced/jj market/nn bucking/vbg the/at Big/jj-tl Three/cd-tl ./.\\nTheir/pp$ cars/nns weren't/bed* small/jj enough/qlp ,/, they/ppss didn't/dod* have/hv the/at power/nn ,/, they/ppss were/bed old-fashioned/jj ./.\\nThey/ppss tried/vbd to/to sell/vb 'em/ppo on/in economy/nn and/cc simple/jj merit/nn ./.\\nWe've/ppss+hv arrived/vbn at/in an/at age/nn for/in romance/nn and/cc snobbery/nn ./.\\nWe've/ppss+hv all/abn been/ben rich/jj and/cc spoiled/vbn long/jj enough/qlp to/to hate/vb the/at machine/nn age/nn ./.\\nLook/vb what/wdt those/dts little/ap European/jj jobs/nns are/ber doing/vbg ./.\\nWe'll/ppss+md woo/vb the/at consumer/nn with/in a/at product/nn ,/, not/* bludgeon/vb him/ppo with/in chromed/vbn excess/jj length/nn and/cc weight/nn ./.\\nLet's/vb+ppo make/vb it/ppo moonlight/nn and/cc the/at call/nn of/in far/jj places/nns and/cc a/at seduction/nn ,/, at/in reasonable/jj rates/nns ./.\\nTiconderoga/np folded/vbd a/at few/ap minutes/nns too/ql soon/rb ,/, before/cs the/at tide/nn changed/vbd ,/, still/ql honest/jj and/cc stupid/jj --/-- and/cc the/at network/nn of/in dealers/nns the/at company/nn had/hvd is/bez around/rb waiting/vbg to/to be/be signed/vbn up/rp again/rb --/-- waiting/vbg for/in us/ppo ,/, ready-made/jj ./.\\nWe've/ppss+hv got/vbn rid/jj of/in the/at steam/nn yachts/nns and/cc Georgian/jj houses/nns ,/, and/cc the/at bloated/vbn ,/, too-expensive/jj automobile/nn is/bez next/ap ./.\\nWhy/wrb not/* come/vb down/rp smartly/rb in/in the/at world/nn ,/, in/in a/at chic/jj fashion/nn ,/, with/in an/at Allstates-Zenith/np ''/'' ?/. ?/.\\n\\n\\n\\tHe/pps swayed/vbd them/ppo somewhat/rb ,/, but/cc the/at debate/nn raged/vbd on/rp ./.\\nFinancing/vbg emerged/vbd as/cs the/at main/jjs obstacle/nn ./.\\nMr./np Willis/np made/vbd it/ppo evident/jj that/cs he/pps had/hvd contributed/vbn his/pp$ maximum/nn ./.\\n\\n\\n\\t``/`` Nobody/pn will/md underwrite/vb it/ppo ,/, I'm/ppss+bem telling/vbg you/ppo ''/'' ,/, Freddy/np said/vbd ./.\\n``/`` I/ppss know/vb what/wdt I'm/ppss+bem talking/vbg about/rb in/in that/dt department/nn ''/'' ./.\\n\\n\\n\\t``/`` There's/ex+bez plenty/nn of/in risk/nn money/nn ''/'' ,/, Ham/np Richert/np added/vbd ,/, ``/`` but/cc not/* for/in anything/pn this/dt risky/jj ''/'' ./.\\n\\n\\n\\t``/`` All/ql right/rb ''/'' ,/, William/np said/vbd ./.\\n``/`` We'll/ppss+md try/vb to/to swing/vb the/at deal/nn on/in that/dt basis/nn ./.\\nIf/cs we/ppss can't/md* raise/vb the/at capital/nn ,/, we're/ppss+ber through/rp ./.\\nNothing/pn has/hvz been/ben lost/vbn ./.\\nYou're/ppss+ber up/rp against/in it/ppo anyhow/rb ./.\\nWhy/wrb won't/md* you/ppss give/vb me/ppo a/at chance/nn ''/'' ?/. ?/.\\n\\n\\n\\tA/at silence/nn fell/vbd ./.\\nHeads/nns instinctively/rb turned/vbd in/in Willis'/np$ direction/nn ./.\\nHe/pps smiled/vbd at/in William/np and/cc slowly/rb rubbed/vbd his/pp$ hands/nns together/rb ./.\\n\\n\\n\\t``/`` I/ppss feel/vb I/ppss must/md answer/vb the/at question/nn ''/'' ,/, he/pps said/vbd ,/, ``/`` since/cs the/at onus/nn later/rbr ,/, if/cs any/dti ,/, should/md fall/vb on/in me/ppo --/-- I/ppss don't/do* relish/vb recriminations/nns spread/vbn broadcast/vbn outside/in my/pp$ family/nn ./.\\nI'm/ppss+bem not/* giving/vbg you/ppo a/at chance/nn ,/, Bill/np ,/, but/cc availing/vbg myself/ppl of/in your/pp$ generous/jj offer/nn of/in assistance/nn ./.\\nGood/jj luck/nn to/in you/ppo ''/'' ./.\\n\\n\\n\\t``/`` All/ql the/at in-laws/nns have/hv got/vbn to/to have/hv their/pp$ day/nn ''/'' ,/, Adam/np said/vbd ,/, and/cc glared/vbd at/in William/np and/cc Freddy/np in/in turn/nn ./.\\n\\n\\n\\tSweat/nn started/vbd out/rp on/in William's/np$ forehead/nn ,/, whether/cs from/in relief/nn or/cc disquietude/nn he/pps could/md not/* tell/vb ./.\\nAcross/in the/at table/nn ,/, Hamrick/np saluted/vbd him/ppo jubilantly/rb with/in an/at encircled/vbn thumb/nn and/cc forefinger/nn ./.\\nNobody/pn else/rb showed/vbd pleasure/nn ./.\\n\\n\\n\\n\\nSpike-haired/jj ,/, burly/jj ,/, red-faced/jj ,/, decked/vbn with/in horn-rimmed/jj glasses/nns and/cc an/at Ivy/nn-tl League/nn-tl suit/nn ,/, Jack/np Hamrick/np awaited/vbd William/np at/in the/at officers'/nns$ club/nn ./.\\n``/`` Hello/uh ,/, boss/nn ''/'' ,/, he/pps said/vbd ,/, and/cc grinned/vbd ./.\\n``/`` I/ppss suppose/vb I/ppss can/md never/rb expect/vb to/to call/vb you/ppo '/' General/nn-tl '/' after/in that/dt Washington/np episode/nn ''/'' ./.\\n\\n\\n\\t``/`` I'm/ppss+bem afraid/jj not/* ''/'' ./.\\n\\n\""
      ]
     },
     "execution_count": 233,
     "metadata": {},
     "output_type": "execute_result"
    }
   ],
   "source": [
    "corpus.raw(categories='romance')"
   ]
  },
  {
   "cell_type": "code",
   "execution_count": 234,
   "metadata": {
    "collapsed": true
   },
   "outputs": [],
   "source": [
    "days_of_week = ['monday', 'tuesday','wednesday','thursday','friday','saturday','sunday']"
   ]
  },
  {
   "cell_type": "code",
   "execution_count": 235,
   "metadata": {
    "collapsed": false
   },
   "outputs": [],
   "source": [
    "cfd = nltk.ConditionalFreqDist(\n",
    "        (category,target)\n",
    "    for category in ['news','romance']\n",
    "    for word in corpus.words(categories=category)\n",
    "    for target in days_of_week\n",
    "    if word.lower().startswith(target)\n",
    "    )"
   ]
  },
  {
   "cell_type": "code",
   "execution_count": 236,
   "metadata": {
    "collapsed": false
   },
   "outputs": [
    {
     "data": {
      "text/plain": [
       "['romance', 'news']"
      ]
     },
     "execution_count": 236,
     "metadata": {},
     "output_type": "execute_result"
    }
   ],
   "source": [
    "cfd.conditions()"
   ]
  },
  {
   "cell_type": "code",
   "execution_count": 237,
   "metadata": {
    "collapsed": false
   },
   "outputs": [
    {
     "name": "stdout",
     "output_type": "stream",
     "text": [
      "        monday tuesday wednesday thursday friday saturday sunday \n",
      "   news   57   44   23   21   43   35   55 \n",
      "romance    2    3    3    1    3    5    6 \n"
     ]
    }
   ],
   "source": [
    "cfd.tabulate(samples = days_of_week)"
   ]
  },
  {
   "cell_type": "code",
   "execution_count": 238,
   "metadata": {
    "collapsed": true
   },
   "outputs": [],
   "source": [
    "def generate_model(cfdist, word, num=15):\n",
    "    for i in range(num):\n",
    "        print(word, end=' ')\n",
    "        word = cfdist[word].max()\n",
    "\n",
    "text = nltk.corpus.genesis.words('english-kjv.txt')\n",
    "bigrams = nltk.bigrams(text)\n",
    "cfd = nltk.ConditionalFreqDist(bigrams) # [_bigram-condition]"
   ]
  },
  {
   "cell_type": "code",
   "execution_count": 239,
   "metadata": {
    "collapsed": false
   },
   "outputs": [
    {
     "name": "stdout",
     "output_type": "stream",
     "text": [
      "living creature that he said , and the land of the land of the land "
     ]
    }
   ],
   "source": [
    "generate_model(cfd,'living')"
   ]
  },
  {
   "cell_type": "code",
   "execution_count": 240,
   "metadata": {
    "collapsed": true
   },
   "outputs": [],
   "source": [
    "def unusual_words(text):\n",
    "    text_vocab = set(w.lower() for w in text if w.isalpha())\n",
    "    english_vocab = set(w.lower() for w in nltk.corpus.words.words())\n",
    "    unusual = text_vocab - english_vocab\n",
    "    return sorted(unusual)"
   ]
  },
  {
   "cell_type": "code",
   "execution_count": 241,
   "metadata": {
    "collapsed": false
   },
   "outputs": [
    {
     "data": {
      "text/plain": [
       "['aaaaaaaaaaaaaaaaa',\n",
       " 'aaahhhh',\n",
       " 'abortions',\n",
       " 'abou',\n",
       " 'abourted',\n",
       " 'abs',\n",
       " 'ack',\n",
       " 'acros',\n",
       " 'actualy',\n",
       " 'adams',\n",
       " 'adds',\n",
       " 'adduser',\n",
       " 'adjusts',\n",
       " 'adoted',\n",
       " 'adreniline',\n",
       " 'ads',\n",
       " 'adults',\n",
       " 'afe',\n",
       " 'affairs',\n",
       " 'affari',\n",
       " 'affects',\n",
       " 'afk',\n",
       " 'agaibn',\n",
       " 'ages',\n",
       " 'aggravated',\n",
       " 'agurlwithbigguns',\n",
       " 'ahah',\n",
       " 'ahahah',\n",
       " 'ahahh',\n",
       " 'ahahha',\n",
       " 'ahh',\n",
       " 'ahhah',\n",
       " 'ahhahahaha',\n",
       " 'ahhh',\n",
       " 'ahhhh',\n",
       " 'ahhhhhh',\n",
       " 'ahhhhhhhhhhhhhh',\n",
       " 'aiiiiiiiiiiiiiiiiiiiiiiii',\n",
       " 'aiken',\n",
       " 'aime',\n",
       " 'akdt',\n",
       " 'akon',\n",
       " 'akron',\n",
       " 'akst',\n",
       " 'aligator',\n",
       " 'allergies',\n",
       " 'allo',\n",
       " 'allowed',\n",
       " 'aloha',\n",
       " 'alohaaa',\n",
       " 'alohas',\n",
       " 'alot',\n",
       " 'alotta',\n",
       " 'alternatives',\n",
       " 'alterz',\n",
       " 'alwys',\n",
       " 'alzheimers',\n",
       " 'amazingness',\n",
       " 'americans',\n",
       " 'anithing',\n",
       " 'ans',\n",
       " 'answering',\n",
       " 'answers',\n",
       " 'antidepressants',\n",
       " 'anygirl',\n",
       " 'anymore',\n",
       " 'anythin',\n",
       " 'anytime',\n",
       " 'anyyyyyyyyyyyyyyyyy',\n",
       " 'aok',\n",
       " 'apoligize',\n",
       " 'appearently',\n",
       " 'appears',\n",
       " 'applaudes',\n",
       " 'appleton',\n",
       " 'appologise',\n",
       " 'appologize',\n",
       " 'aqwesome',\n",
       " 'arggghhh',\n",
       " 'argh',\n",
       " 'armtnpeat',\n",
       " 'arrested',\n",
       " 'arrived',\n",
       " 'arround',\n",
       " 'asked',\n",
       " 'askin',\n",
       " 'asking',\n",
       " 'asks',\n",
       " 'asl',\n",
       " 'asnwer',\n",
       " 'asses',\n",
       " 'asshole',\n",
       " 'assholes',\n",
       " 'asss',\n",
       " 'assumes',\n",
       " 'aterry',\n",
       " 'atl',\n",
       " 'attempted',\n",
       " 'attracted',\n",
       " 'aussies',\n",
       " 'awesomee',\n",
       " 'awesomes',\n",
       " 'awrighty',\n",
       " 'awsome',\n",
       " 'aww',\n",
       " 'awww',\n",
       " 'awwww',\n",
       " 'awwwwww',\n",
       " 'awwwwwww',\n",
       " 'awwwwwwwwww',\n",
       " 'aynawy',\n",
       " 'az',\n",
       " 'azerbaijan',\n",
       " 'baaaaalllllllliiiiiiinnnnnnnnnnn',\n",
       " 'babay',\n",
       " 'babblein',\n",
       " 'babes',\n",
       " 'babies',\n",
       " 'babiess',\n",
       " 'babycakeses',\n",
       " 'bachelorette',\n",
       " 'backatchya',\n",
       " 'backfrontsidewaysandallaroundtheworld',\n",
       " 'backroom',\n",
       " 'bacl',\n",
       " 'bagels',\n",
       " 'bahahahaa',\n",
       " 'bak',\n",
       " 'balad',\n",
       " 'balck',\n",
       " 'ballin',\n",
       " 'balls',\n",
       " 'bandito',\n",
       " 'bandsaw',\n",
       " 'banjoes',\n",
       " 'banned',\n",
       " 'baord',\n",
       " 'barbie',\n",
       " 'barbieee',\n",
       " 'bares',\n",
       " 'barfights',\n",
       " 'barks',\n",
       " 'bbbbbyyyyyyyeeeeeeeee',\n",
       " 'bbiam',\n",
       " 'bbl',\n",
       " 'bbs',\n",
       " 'bc',\n",
       " 'beachhhh',\n",
       " 'beams',\n",
       " 'beans',\n",
       " 'bears',\n",
       " 'beatles',\n",
       " 'beats',\n",
       " 'beattles',\n",
       " 'beckley',\n",
       " 'beeeeehave',\n",
       " 'beeehave',\n",
       " 'bein',\n",
       " 'beleive',\n",
       " 'belongings',\n",
       " 'benz',\n",
       " 'beuty',\n",
       " 'bf',\n",
       " 'bi',\n",
       " 'biatch',\n",
       " 'biebsa',\n",
       " 'bied',\n",
       " 'bigest',\n",
       " 'biiiatch',\n",
       " 'biiiiiitch',\n",
       " 'bikes',\n",
       " 'bio',\n",
       " 'biographys',\n",
       " 'birdgang',\n",
       " 'birfday',\n",
       " 'bishes',\n",
       " 'bitches',\n",
       " 'bitdh',\n",
       " 'bites',\n",
       " 'biyatch',\n",
       " 'bj',\n",
       " 'blankie',\n",
       " 'blazed',\n",
       " 'blech',\n",
       " 'blessings',\n",
       " 'blew',\n",
       " 'bloe',\n",
       " 'blondes',\n",
       " 'bloooooooood',\n",
       " 'bloooooooooood',\n",
       " 'bloooooooooooood',\n",
       " 'blowjob',\n",
       " 'bodies',\n",
       " 'boed',\n",
       " 'boght',\n",
       " 'boi',\n",
       " 'boing',\n",
       " 'boinked',\n",
       " 'bones',\n",
       " 'boning',\n",
       " 'booboo',\n",
       " 'boobs',\n",
       " 'books',\n",
       " 'boooooooooooglyyyyyy',\n",
       " 'bootay',\n",
       " 'booyah',\n",
       " 'borat',\n",
       " 'bored',\n",
       " 'bothering',\n",
       " 'bounced',\n",
       " 'bouncers',\n",
       " 'bouts',\n",
       " 'boyfriend',\n",
       " 'boys',\n",
       " 'boyz',\n",
       " 'brady',\n",
       " 'brakes',\n",
       " 'brb',\n",
       " 'brbbb',\n",
       " 'breaks',\n",
       " 'brightened',\n",
       " 'brings',\n",
       " 'bro',\n",
       " 'brooklyn',\n",
       " 'brothers',\n",
       " 'brrrrrrr',\n",
       " 'bruises',\n",
       " 'brwn',\n",
       " 'btw',\n",
       " 'bucks',\n",
       " 'buddyyyyyy',\n",
       " 'bugs',\n",
       " 'buh',\n",
       " 'builds',\n",
       " 'bulls',\n",
       " 'bumber',\n",
       " 'bumped',\n",
       " 'burger',\n",
       " 'burito',\n",
       " 'burns',\n",
       " 'burpin',\n",
       " 'burps',\n",
       " 'burried',\n",
       " 'burryed',\n",
       " 'buses',\n",
       " 'buying',\n",
       " 'bwahahahahahahahahahaha',\n",
       " 'bwhaha',\n",
       " 'byb',\n",
       " 'byeee',\n",
       " 'byeeee',\n",
       " 'byeeeeeeee',\n",
       " 'byeeeeeeeeeeeee',\n",
       " 'byes',\n",
       " 'caan',\n",
       " 'caint',\n",
       " 'caiuse',\n",
       " 'cakes',\n",
       " 'cali',\n",
       " 'called',\n",
       " 'callifornia',\n",
       " 'calls',\n",
       " 'cams',\n",
       " 'canadaian',\n",
       " 'canadain',\n",
       " 'canehda',\n",
       " 'caps',\n",
       " 'cardinals',\n",
       " 'cardnials',\n",
       " 'cards',\n",
       " 'cares',\n",
       " 'cars',\n",
       " 'casts',\n",
       " 'catches',\n",
       " 'categories',\n",
       " 'catterick',\n",
       " 'caused',\n",
       " 'cdt',\n",
       " 'cepn',\n",
       " 'cereals',\n",
       " 'chamillionaire',\n",
       " 'changed',\n",
       " 'changing',\n",
       " 'chanop',\n",
       " 'chanowner',\n",
       " 'chathide',\n",
       " 'chatland',\n",
       " 'chatr',\n",
       " 'chatroom',\n",
       " 'chats',\n",
       " 'chatt',\n",
       " 'chatted',\n",
       " 'chattin',\n",
       " 'chcken',\n",
       " 'cheaking',\n",
       " 'checkin',\n",
       " 'checking',\n",
       " 'checks',\n",
       " 'cheeeez',\n",
       " 'cheers',\n",
       " 'cheking',\n",
       " 'chews',\n",
       " 'chica',\n",
       " 'chickens',\n",
       " 'chics',\n",
       " 'chik',\n",
       " 'children',\n",
       " 'chineese',\n",
       " 'chingy',\n",
       " 'choc',\n",
       " 'chocha',\n",
       " 'chococake',\n",
       " 'choices',\n",
       " 'chokes',\n",
       " 'chops',\n",
       " 'chp',\n",
       " 'chuckles',\n",
       " 'chunks',\n",
       " 'churches',\n",
       " 'ciao',\n",
       " 'ciara',\n",
       " 'cigars',\n",
       " 'ciggareets',\n",
       " 'ck',\n",
       " 'claws',\n",
       " 'cleared',\n",
       " 'cleveland',\n",
       " 'clicked',\n",
       " 'clients',\n",
       " 'clinicals',\n",
       " 'clooney',\n",
       " 'closes',\n",
       " 'clubs',\n",
       " 'cmon',\n",
       " 'cnnecticut',\n",
       " 'co',\n",
       " 'coconuts',\n",
       " 'coem',\n",
       " 'coffe',\n",
       " 'coggieeee',\n",
       " 'com',\n",
       " 'combo',\n",
       " 'comenting',\n",
       " 'comin',\n",
       " 'commanded',\n",
       " 'comments',\n",
       " 'comon',\n",
       " 'comp',\n",
       " 'complains',\n",
       " 'completly',\n",
       " 'compliments',\n",
       " 'compoud',\n",
       " 'comprende',\n",
       " 'comps',\n",
       " 'computers',\n",
       " 'computor',\n",
       " 'concernin',\n",
       " 'confessed',\n",
       " 'confusing',\n",
       " 'confusting',\n",
       " 'congrat',\n",
       " 'congrats',\n",
       " 'connecticutt',\n",
       " 'constituents',\n",
       " 'contast',\n",
       " 'contemplating',\n",
       " 'controll',\n",
       " 'controllers',\n",
       " 'controllin',\n",
       " 'controlling',\n",
       " 'convo',\n",
       " 'conway',\n",
       " 'cookie',\n",
       " 'cookies',\n",
       " 'coolcat',\n",
       " 'coonarsee',\n",
       " 'cooooooooookiiiiiiiiiiiieeeeeeeeeeee',\n",
       " 'copone',\n",
       " 'cops',\n",
       " 'costumes',\n",
       " 'cottons',\n",
       " 'coudl',\n",
       " 'coughed',\n",
       " 'coughs',\n",
       " 'cougs',\n",
       " 'couldnt',\n",
       " 'counts',\n",
       " 'coupons',\n",
       " 'courst',\n",
       " 'covers',\n",
       " 'coworkers',\n",
       " 'cpr',\n",
       " 'cramps',\n",
       " 'crashed',\n",
       " 'creme',\n",
       " 'cries',\n",
       " 'cripos',\n",
       " 'crosses',\n",
       " 'csi',\n",
       " 'cst',\n",
       " 'ct',\n",
       " 'ctrl',\n",
       " 'cuddlicious',\n",
       " 'cuffed',\n",
       " 'cums',\n",
       " 'cuppers',\n",
       " 'curls',\n",
       " 'currious',\n",
       " 'cus',\n",
       " 'cusion',\n",
       " 'cutes',\n",
       " 'cuz',\n",
       " 'cya',\n",
       " 'cyas',\n",
       " 'cyber',\n",
       " 'czeching',\n",
       " 'daamn',\n",
       " 'dahlin',\n",
       " 'damnit',\n",
       " 'dances',\n",
       " 'danes',\n",
       " 'dangit',\n",
       " 'darlin',\n",
       " 'darlings',\n",
       " 'darwin',\n",
       " 'dat',\n",
       " 'dated',\n",
       " 'daughters',\n",
       " 'daveeee',\n",
       " 'davis',\n",
       " 'dawg',\n",
       " 'dawnstar',\n",
       " 'dayum',\n",
       " 'dd',\n",
       " 'deals',\n",
       " 'deaths',\n",
       " 'decades',\n",
       " 'deceived',\n",
       " 'deciding',\n",
       " 'declaw',\n",
       " 'declawed',\n",
       " 'deeper',\n",
       " 'definately',\n",
       " 'definitley',\n",
       " 'defragging',\n",
       " 'defrags',\n",
       " 'degrees',\n",
       " 'deleware',\n",
       " 'delivers',\n",
       " 'dem',\n",
       " 'democrats',\n",
       " 'denver',\n",
       " 'denzel',\n",
       " 'deop',\n",
       " 'depeche',\n",
       " 'depends',\n",
       " 'descriminate',\n",
       " 'despie',\n",
       " 'despises',\n",
       " 'detroit',\n",
       " 'didnts',\n",
       " 'died',\n",
       " 'dies',\n",
       " 'diggin',\n",
       " 'dik',\n",
       " 'dipset',\n",
       " 'dirrrrty',\n",
       " 'diseast',\n",
       " 'disocvered',\n",
       " 'dissing',\n",
       " 'divorced',\n",
       " 'dj',\n",
       " 'dl',\n",
       " 'dman',\n",
       " 'docs',\n",
       " 'doggies',\n",
       " 'doin',\n",
       " 'dojn',\n",
       " 'dokey',\n",
       " 'dokken',\n",
       " 'dollars',\n",
       " 'dolls',\n",
       " 'donno',\n",
       " 'dontcha',\n",
       " 'donuts',\n",
       " 'dood',\n",
       " 'doody',\n",
       " 'doors',\n",
       " 'dork',\n",
       " 'dotn',\n",
       " 'doublewide',\n",
       " 'douchebag',\n",
       " 'doupt',\n",
       " 'downloaded',\n",
       " 'downloading',\n",
       " 'downnnnnn',\n",
       " 'downs',\n",
       " 'dr',\n",
       " 'drags',\n",
       " 'dratts',\n",
       " 'dreaded',\n",
       " 'dreammm',\n",
       " 'dreams',\n",
       " 'drinks',\n",
       " 'driveby',\n",
       " 'drivers',\n",
       " 'drivin',\n",
       " 'drools',\n",
       " 'dropped',\n",
       " 'drops',\n",
       " 'drugs',\n",
       " 'dryer',\n",
       " 'dsklgjsdk',\n",
       " 'du',\n",
       " 'duh',\n",
       " 'dumbass',\n",
       " 'dummmm',\n",
       " 'dunkin',\n",
       " 'dunno',\n",
       " 'dvd',\n",
       " 'dya',\n",
       " 'dyed',\n",
       " 'dyslexic',\n",
       " 'earplugs',\n",
       " 'earrings',\n",
       " 'ears',\n",
       " 'eay',\n",
       " 'ebay',\n",
       " 'edgewood',\n",
       " 'edmonton',\n",
       " 'eeeeeeeeewwwwwwww',\n",
       " 'eeeek',\n",
       " 'eeek',\n",
       " 'eeekk',\n",
       " 'eeewww',\n",
       " 'eeewwwwww',\n",
       " 'eeww',\n",
       " 'eggs',\n",
       " 'ehh',\n",
       " 'eitther',\n",
       " 'elbows',\n",
       " 'elected',\n",
       " 'elections',\n",
       " 'elev',\n",
       " 'ello',\n",
       " 'elo',\n",
       " 'email',\n",
       " 'eng',\n",
       " 'england',\n",
       " 'enjoys',\n",
       " 'enters',\n",
       " 'entitled',\n",
       " 'enuf',\n",
       " 'enuff',\n",
       " 'ep',\n",
       " 'erics',\n",
       " 'erm',\n",
       " 'eroticaust',\n",
       " 'errrrr',\n",
       " 'escaped',\n",
       " 'est',\n",
       " 'este',\n",
       " 'estefan',\n",
       " 'estra',\n",
       " 'eticket',\n",
       " 'euphamisms',\n",
       " 'evah',\n",
       " 'everbody',\n",
       " 'everone',\n",
       " 'evertonr',\n",
       " 'everytime',\n",
       " 'ewedding',\n",
       " 'eww',\n",
       " 'ewww',\n",
       " 'ewwww',\n",
       " 'ewwwww',\n",
       " 'ewwwwww',\n",
       " 'ewwwwwww',\n",
       " 'exchanged',\n",
       " 'exchanging',\n",
       " 'excitin',\n",
       " 'excuuuuuuse',\n",
       " 'experimenting',\n",
       " 'extensions',\n",
       " 'extras',\n",
       " 'exwife',\n",
       " 'eyes',\n",
       " 'facilitated',\n",
       " 'fails',\n",
       " 'fairbanks',\n",
       " 'fallout',\n",
       " 'falls',\n",
       " 'fallz',\n",
       " 'farms',\n",
       " 'fart',\n",
       " 'farting',\n",
       " 'farts',\n",
       " 'fav',\n",
       " 'fawk',\n",
       " 'fawked',\n",
       " 'fawker',\n",
       " 'fck',\n",
       " 'febe',\n",
       " 'feeds',\n",
       " 'feelings',\n",
       " 'feels',\n",
       " 'feet',\n",
       " 'fella',\n",
       " 'fellows',\n",
       " 'females',\n",
       " 'femine',\n",
       " 'fer',\n",
       " 'fergalicious',\n",
       " 'fergie',\n",
       " 'fetterline',\n",
       " 'fettish',\n",
       " 'ff',\n",
       " 'fiddles',\n",
       " 'files',\n",
       " 'fillin',\n",
       " 'finds',\n",
       " 'finers',\n",
       " 'fingers',\n",
       " 'firs',\n",
       " 'fishercat',\n",
       " 'fishercats',\n",
       " 'fishers',\n",
       " 'fishin',\n",
       " 'fits',\n",
       " 'fkajslf',\n",
       " 'fl',\n",
       " 'flames',\n",
       " 'flashed',\n",
       " 'flattered',\n",
       " 'flatts',\n",
       " 'flavors',\n",
       " 'flippin',\n",
       " 'flirts',\n",
       " 'fliuds',\n",
       " 'flops',\n",
       " 'fluids',\n",
       " 'fock',\n",
       " 'foley',\n",
       " 'folks',\n",
       " 'fongul',\n",
       " 'foothills',\n",
       " 'footprints',\n",
       " 'foreplay',\n",
       " 'forgets',\n",
       " 'forwads',\n",
       " 'foxes',\n",
       " 'foxwoods',\n",
       " 'fractured',\n",
       " 'fragged',\n",
       " 'fraggle',\n",
       " 'frags',\n",
       " 'freaing',\n",
       " 'freaked',\n",
       " 'freakin',\n",
       " 'freaking',\n",
       " 'freaks',\n",
       " 'freeeezinggg',\n",
       " 'freeezinggggg',\n",
       " 'freesbee',\n",
       " 'freind',\n",
       " 'frenchkiss',\n",
       " 'friends',\n",
       " 'fries',\n",
       " 'frm',\n",
       " 'froogle',\n",
       " 'frst',\n",
       " 'frustrating',\n",
       " 'ft',\n",
       " 'fuck',\n",
       " 'fucker',\n",
       " 'fuckin',\n",
       " 'fucking',\n",
       " 'fucks',\n",
       " 'fuddahnut',\n",
       " 'fuked',\n",
       " 'fulfilling',\n",
       " 'futurama',\n",
       " 'fwd',\n",
       " 'gaaaaaaay',\n",
       " 'gagas',\n",
       " 'gags',\n",
       " 'gained',\n",
       " 'gals',\n",
       " 'gamefly',\n",
       " 'games',\n",
       " 'garciae',\n",
       " 'gaspppp',\n",
       " 'gawd',\n",
       " 'gayoholic',\n",
       " 'gays',\n",
       " 'geeks',\n",
       " 'gees',\n",
       " 'geesh',\n",
       " 'geeshh',\n",
       " 'geeshhh',\n",
       " 'geessh',\n",
       " 'geeze',\n",
       " 'gente',\n",
       " 'gentlemen',\n",
       " 'gets',\n",
       " 'gettign',\n",
       " 'gettin',\n",
       " 'gettysburg',\n",
       " 'gezzz',\n",
       " 'gf',\n",
       " 'gguyyyzzzz',\n",
       " 'ghet',\n",
       " 'giggles',\n",
       " 'girlfriend',\n",
       " 'girls',\n",
       " 'giva',\n",
       " 'gives',\n",
       " 'givs',\n",
       " 'glitches',\n",
       " 'gm',\n",
       " 'gn',\n",
       " 'gng',\n",
       " 'goddamn',\n",
       " 'goin',\n",
       " 'goneee',\n",
       " 'gonna',\n",
       " 'goodbye',\n",
       " 'goodie',\n",
       " 'goodnight',\n",
       " 'goodnite',\n",
       " 'google',\n",
       " 'gooo',\n",
       " 'goooooo',\n",
       " 'gorda',\n",
       " 'gotaa',\n",
       " 'goths',\n",
       " 'gotta',\n",
       " 'gottsa',\n",
       " 'grabs',\n",
       " 'gracemont',\n",
       " 'grea',\n",
       " 'greetings',\n",
       " 'gret',\n",
       " 'grettings',\n",
       " 'grilfriend',\n",
       " 'grins',\n",
       " 'gritt',\n",
       " 'grlz',\n",
       " 'groups',\n",
       " 'grrl',\n",
       " 'grrr',\n",
       " 'grrrrrring',\n",
       " 'grrrrrrrr',\n",
       " 'grrrrrrrrr',\n",
       " 'grrrrrrrrrrrrrrrrr',\n",
       " 'gs',\n",
       " 'gtg',\n",
       " 'guns',\n",
       " 'gurlie',\n",
       " 'gurls',\n",
       " 'gurrrrl',\n",
       " 'guts',\n",
       " 'guys',\n",
       " 'guyz',\n",
       " 'guyzz',\n",
       " 'haaa',\n",
       " 'hafta',\n",
       " 'haha',\n",
       " 'hahaaa',\n",
       " 'hahaaaa',\n",
       " 'hahah',\n",
       " 'hahaha',\n",
       " 'hahahaa',\n",
       " 'hahahah',\n",
       " 'hahahaha',\n",
       " 'hahahahaaa',\n",
       " 'hahahahahaha',\n",
       " 'hahahahahahaha',\n",
       " 'hahahahahahahahahahahahahahahaha',\n",
       " 'hahahhahah',\n",
       " 'hahhaa',\n",
       " 'hahhahahaha',\n",
       " 'hairs',\n",
       " 'halfa',\n",
       " 'hallo',\n",
       " 'handheld',\n",
       " 'handing',\n",
       " 'hands',\n",
       " 'handyman',\n",
       " 'hang',\n",
       " 'hangin',\n",
       " 'hangs',\n",
       " 'happend',\n",
       " 'happened',\n",
       " 'happens',\n",
       " 'happpy',\n",
       " 'harley',\n",
       " 'hartford',\n",
       " 'has',\n",
       " 'haters',\n",
       " 'hates',\n",
       " 'hav',\n",
       " 'havin',\n",
       " 'having',\n",
       " 'hawaii',\n",
       " 'hawt',\n",
       " 'hb',\n",
       " 'headach',\n",
       " 'headlights',\n",
       " 'heads',\n",
       " 'heard',\n",
       " 'hearin',\n",
       " 'hearthechatters',\n",
       " 'heee',\n",
       " 'heeee',\n",
       " 'heeeey',\n",
       " 'heeheeheeheeheehee',\n",
       " 'heh',\n",
       " 'heheh',\n",
       " 'hehehe',\n",
       " 'hehehee',\n",
       " 'hehehehe',\n",
       " 'hel',\n",
       " 'helloooo',\n",
       " 'hellos',\n",
       " 'helped',\n",
       " 'hendrix',\n",
       " 'heroes',\n",
       " 'hertory',\n",
       " 'hes',\n",
       " 'heya',\n",
       " 'heyheyhey',\n",
       " 'heys',\n",
       " 'heyy',\n",
       " 'heyyy',\n",
       " 'heyyyy',\n",
       " 'heyyyyy',\n",
       " 'heyyyyyy',\n",
       " 'heyyyyyyy',\n",
       " 'heyyyyyyyy',\n",
       " 'heyyyyyyyyy',\n",
       " 'heyyyyyyyyyy',\n",
       " 'heyyyyyyyyyyyyyy',\n",
       " 'hfglhs',\n",
       " 'hgey',\n",
       " 'hgfhgfjgf',\n",
       " 'hhaaaaatttee',\n",
       " 'hheeyy',\n",
       " 'hheeyyy',\n",
       " 'hheeyyyyyyyyyyyyyyyyyyyyyyyyyyyyyyyyyyyyyyyyyyyyyyy',\n",
       " 'hhehe',\n",
       " 'hiding',\n",
       " 'hih',\n",
       " 'hii',\n",
       " 'hiii',\n",
       " 'hiiii',\n",
       " 'hio',\n",
       " 'hiom',\n",
       " 'hissy',\n",
       " 'hits',\n",
       " 'hitting',\n",
       " 'hix',\n",
       " 'hiy',\n",
       " 'hiya',\n",
       " 'hiyas',\n",
       " 'hm',\n",
       " 'hmm',\n",
       " 'hmmm',\n",
       " 'hmmmm',\n",
       " 'hmmmmm',\n",
       " 'hmmmmmmm',\n",
       " 'hmmmmmmmm',\n",
       " 'hmmmmmmmmmm',\n",
       " 'hmph',\n",
       " 'hogs',\n",
       " 'hohohohhohhoo',\n",
       " 'hola',\n",
       " 'holdin',\n",
       " 'holds',\n",
       " 'holocaustyourmom',\n",
       " 'hom',\n",
       " 'homeade',\n",
       " 'homeboys',\n",
       " 'homes',\n",
       " 'homies',\n",
       " 'homophobic',\n",
       " 'hoo',\n",
       " 'hooo',\n",
       " 'hooooo',\n",
       " 'hopin',\n",
       " 'hoping',\n",
       " 'horace',\n",
       " 'horriable',\n",
       " 'horrified',\n",
       " 'hots',\n",
       " 'hott',\n",
       " 'hottie',\n",
       " 'hotties',\n",
       " 'hours',\n",
       " 'houses',\n",
       " 'hows',\n",
       " 'howz',\n",
       " 'hpa',\n",
       " 'hr',\n",
       " 'hrs',\n",
       " 'http',\n",
       " 'hubbys',\n",
       " 'hugggs',\n",
       " 'huggs',\n",
       " 'huggss',\n",
       " 'hugs',\n",
       " 'hugss',\n",
       " 'hugsss',\n",
       " 'hugsssss',\n",
       " 'hugsssssssss',\n",
       " 'hugzzzzzzz',\n",
       " 'humm',\n",
       " 'hummmm',\n",
       " 'humple',\n",
       " 'hunters',\n",
       " 'huskers',\n",
       " 'husteling',\n",
       " 'huuuuuuuuuuuuuuuuuuuuuuuuuuuuuuuuuuugz',\n",
       " 'hx',\n",
       " 'hyy',\n",
       " 'iamahotnip',\n",
       " 'iamahotniplickme',\n",
       " 'iamahotnipwithhotnippics',\n",
       " 'iamahotnipwithpics',\n",
       " 'icky',\n",
       " 'ico',\n",
       " 'idiots',\n",
       " 'idnt',\n",
       " 'ifr',\n",
       " 'ignored',\n",
       " 'ignoring',\n",
       " 'ihavehotnips',\n",
       " 'ii',\n",
       " 'il',\n",
       " 'illin',\n",
       " 'im',\n",
       " 'images',\n",
       " 'imhave',\n",
       " 'imma',\n",
       " 'immersed',\n",
       " 'impaired',\n",
       " 'impared',\n",
       " 'impressed',\n",
       " 'indiantown',\n",
       " 'infor',\n",
       " 'inhales',\n",
       " 'injureis',\n",
       " 'innit',\n",
       " 'innocense',\n",
       " 'insuklting',\n",
       " 'internet',\n",
       " 'intersting',\n",
       " 'invisiable',\n",
       " 'involves',\n",
       " 'irc',\n",
       " 'irl',\n",
       " 'isnt',\n",
       " 'issues',\n",
       " 'italians',\n",
       " 'italy',\n",
       " 'itches',\n",
       " 'items',\n",
       " 'itz',\n",
       " 'ive',\n",
       " 'iz',\n",
       " 'ja',\n",
       " 'jackie',\n",
       " 'jacking',\n",
       " 'jajajaaa',\n",
       " 'jammed',\n",
       " 'jammers',\n",
       " 'jammies',\n",
       " 'jayse',\n",
       " 'jerimiah',\n",
       " 'jerkettes',\n",
       " 'jerketts',\n",
       " 'jerks',\n",
       " 'jeter',\n",
       " 'jk',\n",
       " 'johnson',\n",
       " 'johny',\n",
       " 'joined',\n",
       " 'jokes',\n",
       " 'joking',\n",
       " 'jonesboro',\n",
       " 'jordison',\n",
       " 'joshy',\n",
       " 'jr',\n",
       " 'jrz',\n",
       " 'jto',\n",
       " 'jucilicious',\n",
       " 'judges',\n",
       " 'jujubees',\n",
       " 'jumpin',\n",
       " 'jumps',\n",
       " ...]"
      ]
     },
     "execution_count": 241,
     "metadata": {},
     "output_type": "execute_result"
    }
   ],
   "source": [
    "unusual_words(nltk.corpus.nps_chat.words())"
   ]
  },
  {
   "cell_type": "code",
   "execution_count": 242,
   "metadata": {
    "collapsed": true
   },
   "outputs": [],
   "source": [
    "from nltk.corpus import stopwords"
   ]
  },
  {
   "cell_type": "code",
   "execution_count": 243,
   "metadata": {
    "collapsed": false
   },
   "outputs": [
    {
     "data": {
      "text/plain": [
       "151"
      ]
     },
     "execution_count": 243,
     "metadata": {},
     "output_type": "execute_result"
    }
   ],
   "source": [
    "w = stopwords.words('russian')\n",
    "len(w)"
   ]
  },
  {
   "cell_type": "code",
   "execution_count": 244,
   "metadata": {
    "collapsed": false
   },
   "outputs": [
    {
     "data": {
      "text/plain": [
       "['и',\n",
       " 'в',\n",
       " 'во',\n",
       " 'не',\n",
       " 'что',\n",
       " 'он',\n",
       " 'на',\n",
       " 'я',\n",
       " 'с',\n",
       " 'со',\n",
       " 'как',\n",
       " 'а',\n",
       " 'то',\n",
       " 'все',\n",
       " 'она',\n",
       " 'так',\n",
       " 'его',\n",
       " 'но',\n",
       " 'да',\n",
       " 'ты',\n",
       " 'к',\n",
       " 'у',\n",
       " 'же',\n",
       " 'вы',\n",
       " 'за',\n",
       " 'бы',\n",
       " 'по',\n",
       " 'только',\n",
       " 'ее',\n",
       " 'мне',\n",
       " 'было',\n",
       " 'вот',\n",
       " 'от',\n",
       " 'меня',\n",
       " 'еще',\n",
       " 'нет',\n",
       " 'о',\n",
       " 'из',\n",
       " 'ему',\n",
       " 'теперь',\n",
       " 'когда',\n",
       " 'даже',\n",
       " 'ну',\n",
       " 'вдруг',\n",
       " 'ли',\n",
       " 'если',\n",
       " 'уже',\n",
       " 'или',\n",
       " 'ни',\n",
       " 'быть',\n",
       " 'был',\n",
       " 'него',\n",
       " 'до',\n",
       " 'вас',\n",
       " 'нибудь',\n",
       " 'опять',\n",
       " 'уж',\n",
       " 'вам',\n",
       " 'ведь',\n",
       " 'там',\n",
       " 'потом',\n",
       " 'себя',\n",
       " 'ничего',\n",
       " 'ей',\n",
       " 'может',\n",
       " 'они',\n",
       " 'тут',\n",
       " 'где',\n",
       " 'есть',\n",
       " 'надо',\n",
       " 'ней',\n",
       " 'для',\n",
       " 'мы',\n",
       " 'тебя',\n",
       " 'их',\n",
       " 'чем',\n",
       " 'была',\n",
       " 'сам',\n",
       " 'чтоб',\n",
       " 'без',\n",
       " 'будто',\n",
       " 'чего',\n",
       " 'раз',\n",
       " 'тоже',\n",
       " 'себе',\n",
       " 'под',\n",
       " 'будет',\n",
       " 'ж',\n",
       " 'тогда',\n",
       " 'кто',\n",
       " 'этот',\n",
       " 'того',\n",
       " 'потому',\n",
       " 'этого',\n",
       " 'какой',\n",
       " 'совсем',\n",
       " 'ним',\n",
       " 'здесь',\n",
       " 'этом',\n",
       " 'один',\n",
       " 'почти',\n",
       " 'мой',\n",
       " 'тем',\n",
       " 'чтобы',\n",
       " 'нее',\n",
       " 'сейчас',\n",
       " 'были',\n",
       " 'куда',\n",
       " 'зачем',\n",
       " 'всех',\n",
       " 'никогда',\n",
       " 'можно',\n",
       " 'при',\n",
       " 'наконец',\n",
       " 'два',\n",
       " 'об',\n",
       " 'другой',\n",
       " 'хоть',\n",
       " 'после',\n",
       " 'над',\n",
       " 'больше',\n",
       " 'тот',\n",
       " 'через',\n",
       " 'эти',\n",
       " 'нас',\n",
       " 'про',\n",
       " 'всего',\n",
       " 'них',\n",
       " 'какая',\n",
       " 'много',\n",
       " 'разве',\n",
       " 'три',\n",
       " 'эту',\n",
       " 'моя',\n",
       " 'впрочем',\n",
       " 'хорошо',\n",
       " 'свою',\n",
       " 'этой',\n",
       " 'перед',\n",
       " 'иногда',\n",
       " 'лучше',\n",
       " 'чуть',\n",
       " 'том',\n",
       " 'нельзя',\n",
       " 'такой',\n",
       " 'им',\n",
       " 'более',\n",
       " 'всегда',\n",
       " 'конечно',\n",
       " 'всю',\n",
       " 'между']"
      ]
     },
     "execution_count": 244,
     "metadata": {},
     "output_type": "execute_result"
    }
   ],
   "source": [
    "w"
   ]
  },
  {
   "cell_type": "code",
   "execution_count": 246,
   "metadata": {
    "collapsed": false
   },
   "outputs": [
    {
     "data": {
      "text/plain": [
       "127"
      ]
     },
     "execution_count": 246,
     "metadata": {},
     "output_type": "execute_result"
    }
   ],
   "source": [
    "w=nltk.corpus.stopwords.words('english')\n",
    "len(w)"
   ]
  },
  {
   "cell_type": "code",
   "execution_count": 247,
   "metadata": {
    "collapsed": true
   },
   "outputs": [],
   "source": [
    "def content_fraction(text):\n",
    "    stopwords = nltk.corpus.stopwords.words('english')\n",
    "    content = [w for w in text if w.lower() not in stopwords]\n",
    "    return len(content) / len(text)"
   ]
  },
  {
   "cell_type": "code",
   "execution_count": 248,
   "metadata": {
    "collapsed": false
   },
   "outputs": [
    {
     "data": {
      "text/plain": [
       "0.400000"
      ]
     },
     "execution_count": 248,
     "metadata": {},
     "output_type": "execute_result"
    }
   ],
   "source": [
    "content_fraction(['he','once','saw','a','mountain'])"
   ]
  },
  {
   "cell_type": "code",
   "execution_count": 249,
   "metadata": {
    "collapsed": false
   },
   "outputs": [
    {
     "data": {
      "text/plain": [
       "(<Text: Chat Corpus>, 0.713264)"
      ]
     },
     "execution_count": 249,
     "metadata": {},
     "output_type": "execute_result"
    }
   ],
   "source": [
    "text5,content_fraction(text5)"
   ]
  },
  {
   "cell_type": "code",
   "execution_count": 250,
   "metadata": {
    "collapsed": false
   },
   "outputs": [
    {
     "data": {
      "text/plain": [
       "(<Text: Moby Dick by Herman Melville 1851>, 0.587998)"
      ]
     },
     "execution_count": 250,
     "metadata": {},
     "output_type": "execute_result"
    }
   ],
   "source": [
    "text1,content_fraction(text1)"
   ]
  },
  {
   "cell_type": "code",
   "execution_count": 251,
   "metadata": {
    "collapsed": false
   },
   "outputs": [
    {
     "data": {
      "text/plain": [
       "(<Text: Sense and Sensibility by Jane Austen 1811>, 0.529165)"
      ]
     },
     "execution_count": 251,
     "metadata": {},
     "output_type": "execute_result"
    }
   ],
   "source": [
    "text2,content_fraction(text2)"
   ]
  },
  {
   "cell_type": "code",
   "execution_count": 252,
   "metadata": {
    "collapsed": false
   },
   "outputs": [
    {
     "data": {
      "text/plain": [
       "(<Text: The Book of Genesis>, 0.550264)"
      ]
     },
     "execution_count": 252,
     "metadata": {},
     "output_type": "execute_result"
    }
   ],
   "source": [
    "text3,content_fraction(text3)"
   ]
  },
  {
   "cell_type": "code",
   "execution_count": 253,
   "metadata": {
    "collapsed": false
   },
   "outputs": [
    {
     "data": {
      "text/plain": [
       "(<Text: Inaugural Address Corpus>, 0.522956)"
      ]
     },
     "execution_count": 253,
     "metadata": {},
     "output_type": "execute_result"
    }
   ],
   "source": [
    "text4,content_fraction(text4)"
   ]
  },
  {
   "cell_type": "code",
   "execution_count": 254,
   "metadata": {
    "collapsed": false
   },
   "outputs": [
    {
     "data": {
      "text/plain": [
       "0.540532"
      ]
     },
     "execution_count": 254,
     "metadata": {},
     "output_type": "execute_result"
    }
   ],
   "source": [
    "words = nltk.corpus.gutenberg.words('austen-emma.txt')\n",
    "content_fraction(words)"
   ]
  },
  {
   "cell_type": "code",
   "execution_count": null,
   "metadata": {
    "collapsed": false
   },
   "outputs": [],
   "source": [
    "words = nltk.corpus.gutenberg.words('shakespeare-macbeth.txt')\n",
    "content_fraction(words)"
   ]
  },
  {
   "cell_type": "code",
   "execution_count": null,
   "metadata": {
    "collapsed": false
   },
   "outputs": [],
   "source": [
    "words = nltk.corpus.brown.words(categories='news')\n",
    "content_fraction(words), type(words)"
   ]
  },
  {
   "cell_type": "code",
   "execution_count": 256,
   "metadata": {
    "collapsed": false
   },
   "outputs": [
    {
     "data": {
      "text/plain": [
       "['female.txt', 'male.txt']"
      ]
     },
     "execution_count": 256,
     "metadata": {},
     "output_type": "execute_result"
    }
   ],
   "source": [
    "names = nltk.corpus.names\n",
    "names.fileids()"
   ]
  },
  {
   "cell_type": "code",
   "execution_count": 257,
   "metadata": {
    "collapsed": false
   },
   "outputs": [
    {
     "data": {
      "text/plain": [
       "['Abbey',\n",
       " 'Abbie',\n",
       " 'Abby',\n",
       " 'Addie',\n",
       " 'Adrian',\n",
       " 'Adrien',\n",
       " 'Ajay',\n",
       " 'Alex',\n",
       " 'Alexis',\n",
       " 'Alfie',\n",
       " 'Ali',\n",
       " 'Alix',\n",
       " 'Allie',\n",
       " 'Allyn',\n",
       " 'Andie',\n",
       " 'Andrea',\n",
       " 'Andy',\n",
       " 'Angel',\n",
       " 'Angie',\n",
       " 'Ariel',\n",
       " 'Ashley',\n",
       " 'Aubrey',\n",
       " 'Augustine',\n",
       " 'Austin',\n",
       " 'Averil',\n",
       " 'Barrie',\n",
       " 'Barry',\n",
       " 'Beau',\n",
       " 'Bennie',\n",
       " 'Benny',\n",
       " 'Bernie',\n",
       " 'Bert',\n",
       " 'Bertie',\n",
       " 'Bill',\n",
       " 'Billie',\n",
       " 'Billy',\n",
       " 'Blair',\n",
       " 'Blake',\n",
       " 'Bo',\n",
       " 'Bobbie',\n",
       " 'Bobby',\n",
       " 'Brandy',\n",
       " 'Brett',\n",
       " 'Britt',\n",
       " 'Brook',\n",
       " 'Brooke',\n",
       " 'Brooks',\n",
       " 'Bryn',\n",
       " 'Cal',\n",
       " 'Cam',\n",
       " 'Cammy',\n",
       " 'Carey',\n",
       " 'Carlie',\n",
       " 'Carlin',\n",
       " 'Carmine',\n",
       " 'Carroll',\n",
       " 'Cary',\n",
       " 'Caryl',\n",
       " 'Casey',\n",
       " 'Cass',\n",
       " 'Cat',\n",
       " 'Cecil',\n",
       " 'Chad',\n",
       " 'Chris',\n",
       " 'Chrissy',\n",
       " 'Christian',\n",
       " 'Christie',\n",
       " 'Christy',\n",
       " 'Clair',\n",
       " 'Claire',\n",
       " 'Clare',\n",
       " 'Claude',\n",
       " 'Clem',\n",
       " 'Clemmie',\n",
       " 'Cody',\n",
       " 'Connie',\n",
       " 'Constantine',\n",
       " 'Corey',\n",
       " 'Corrie',\n",
       " 'Cory',\n",
       " 'Courtney',\n",
       " 'Cris',\n",
       " 'Daffy',\n",
       " 'Dale',\n",
       " 'Dallas',\n",
       " 'Dana',\n",
       " 'Dani',\n",
       " 'Daniel',\n",
       " 'Dannie',\n",
       " 'Danny',\n",
       " 'Darby',\n",
       " 'Darcy',\n",
       " 'Darryl',\n",
       " 'Daryl',\n",
       " 'Deane',\n",
       " 'Del',\n",
       " 'Dell',\n",
       " 'Demetris',\n",
       " 'Dennie',\n",
       " 'Denny',\n",
       " 'Devin',\n",
       " 'Devon',\n",
       " 'Dion',\n",
       " 'Dionis',\n",
       " 'Dominique',\n",
       " 'Donnie',\n",
       " 'Donny',\n",
       " 'Dorian',\n",
       " 'Dory',\n",
       " 'Drew',\n",
       " 'Eddie',\n",
       " 'Eddy',\n",
       " 'Edie',\n",
       " 'Elisha',\n",
       " 'Emmy',\n",
       " 'Erin',\n",
       " 'Esme',\n",
       " 'Evelyn',\n",
       " 'Felice',\n",
       " 'Fran',\n",
       " 'Francis',\n",
       " 'Frank',\n",
       " 'Frankie',\n",
       " 'Franky',\n",
       " 'Fred',\n",
       " 'Freddie',\n",
       " 'Freddy',\n",
       " 'Gabriel',\n",
       " 'Gabriell',\n",
       " 'Gail',\n",
       " 'Gale',\n",
       " 'Gay',\n",
       " 'Gayle',\n",
       " 'Gene',\n",
       " 'George',\n",
       " 'Georgia',\n",
       " 'Georgie',\n",
       " 'Geri',\n",
       " 'Germaine',\n",
       " 'Gerri',\n",
       " 'Gerry',\n",
       " 'Gill',\n",
       " 'Ginger',\n",
       " 'Glen',\n",
       " 'Glenn',\n",
       " 'Grace',\n",
       " 'Gretchen',\n",
       " 'Gus',\n",
       " 'Haleigh',\n",
       " 'Haley',\n",
       " 'Hannibal',\n",
       " 'Harley',\n",
       " 'Hazel',\n",
       " 'Heath',\n",
       " 'Henrie',\n",
       " 'Hilary',\n",
       " 'Hillary',\n",
       " 'Holly',\n",
       " 'Ike',\n",
       " 'Ikey',\n",
       " 'Ira',\n",
       " 'Isa',\n",
       " 'Isador',\n",
       " 'Isadore',\n",
       " 'Jackie',\n",
       " 'Jaime',\n",
       " 'Jamie',\n",
       " 'Jan',\n",
       " 'Jean',\n",
       " 'Jere',\n",
       " 'Jermaine',\n",
       " 'Jerrie',\n",
       " 'Jerry',\n",
       " 'Jess',\n",
       " 'Jesse',\n",
       " 'Jessie',\n",
       " 'Jo',\n",
       " 'Jodi',\n",
       " 'Jodie',\n",
       " 'Jody',\n",
       " 'Joey',\n",
       " 'Jordan',\n",
       " 'Juanita',\n",
       " 'Jude',\n",
       " 'Judith',\n",
       " 'Judy',\n",
       " 'Julie',\n",
       " 'Justin',\n",
       " 'Karel',\n",
       " 'Kellen',\n",
       " 'Kelley',\n",
       " 'Kelly',\n",
       " 'Kelsey',\n",
       " 'Kerry',\n",
       " 'Kim',\n",
       " 'Kip',\n",
       " 'Kirby',\n",
       " 'Kit',\n",
       " 'Kris',\n",
       " 'Kyle',\n",
       " 'Lane',\n",
       " 'Lanny',\n",
       " 'Lauren',\n",
       " 'Laurie',\n",
       " 'Lee',\n",
       " 'Leigh',\n",
       " 'Leland',\n",
       " 'Lesley',\n",
       " 'Leslie',\n",
       " 'Lin',\n",
       " 'Lind',\n",
       " 'Lindsay',\n",
       " 'Lindsey',\n",
       " 'Lindy',\n",
       " 'Lonnie',\n",
       " 'Loren',\n",
       " 'Lorne',\n",
       " 'Lorrie',\n",
       " 'Lou',\n",
       " 'Luce',\n",
       " 'Lyn',\n",
       " 'Lynn',\n",
       " 'Maddie',\n",
       " 'Maddy',\n",
       " 'Marietta',\n",
       " 'Marion',\n",
       " 'Marlo',\n",
       " 'Martie',\n",
       " 'Marty',\n",
       " 'Mattie',\n",
       " 'Matty',\n",
       " 'Maurise',\n",
       " 'Max',\n",
       " 'Maxie',\n",
       " 'Mead',\n",
       " 'Meade',\n",
       " 'Mel',\n",
       " 'Meredith',\n",
       " 'Merle',\n",
       " 'Merrill',\n",
       " 'Merry',\n",
       " 'Meryl',\n",
       " 'Michal',\n",
       " 'Michel',\n",
       " 'Michele',\n",
       " 'Mickie',\n",
       " 'Micky',\n",
       " 'Millicent',\n",
       " 'Morgan',\n",
       " 'Morlee',\n",
       " 'Muffin',\n",
       " 'Nat',\n",
       " 'Nichole',\n",
       " 'Nickie',\n",
       " 'Nicky',\n",
       " 'Niki',\n",
       " 'Nikki',\n",
       " 'Noel',\n",
       " 'Ollie',\n",
       " 'Page',\n",
       " 'Paige',\n",
       " 'Pat',\n",
       " 'Patrice',\n",
       " 'Patsy',\n",
       " 'Pattie',\n",
       " 'Patty',\n",
       " 'Pen',\n",
       " 'Pennie',\n",
       " 'Penny',\n",
       " 'Perry',\n",
       " 'Phil',\n",
       " 'Pooh',\n",
       " 'Quentin',\n",
       " 'Quinn',\n",
       " 'Randi',\n",
       " 'Randie',\n",
       " 'Randy',\n",
       " 'Ray',\n",
       " 'Regan',\n",
       " 'Reggie',\n",
       " 'Rene',\n",
       " 'Rey',\n",
       " 'Ricki',\n",
       " 'Rickie',\n",
       " 'Ricky',\n",
       " 'Rikki',\n",
       " 'Robbie',\n",
       " 'Robin',\n",
       " 'Ronnie',\n",
       " 'Ronny',\n",
       " 'Rory',\n",
       " 'Ruby',\n",
       " 'Sal',\n",
       " 'Sam',\n",
       " 'Sammy',\n",
       " 'Sandy',\n",
       " 'Sascha',\n",
       " 'Sasha',\n",
       " 'Saundra',\n",
       " 'Sayre',\n",
       " 'Scotty',\n",
       " 'Sean',\n",
       " 'Shaine',\n",
       " 'Shane',\n",
       " 'Shannon',\n",
       " 'Shaun',\n",
       " 'Shawn',\n",
       " 'Shay',\n",
       " 'Shayne',\n",
       " 'Shea',\n",
       " 'Shelby',\n",
       " 'Shell',\n",
       " 'Shelley',\n",
       " 'Sibyl',\n",
       " 'Simone',\n",
       " 'Sonnie',\n",
       " 'Sonny',\n",
       " 'Stacy',\n",
       " 'Sunny',\n",
       " 'Sydney',\n",
       " 'Tabbie',\n",
       " 'Tabby',\n",
       " 'Tallie',\n",
       " 'Tally',\n",
       " 'Tammie',\n",
       " 'Tammy',\n",
       " 'Tate',\n",
       " 'Ted',\n",
       " 'Teddie',\n",
       " 'Teddy',\n",
       " 'Terri',\n",
       " 'Terry',\n",
       " 'Theo',\n",
       " 'Tim',\n",
       " 'Timmie',\n",
       " 'Timmy',\n",
       " 'Tobe',\n",
       " 'Tobie',\n",
       " 'Toby',\n",
       " 'Tommie',\n",
       " 'Tommy',\n",
       " 'Tony',\n",
       " 'Torey',\n",
       " 'Trace',\n",
       " 'Tracey',\n",
       " 'Tracie',\n",
       " 'Tracy',\n",
       " 'Val',\n",
       " 'Vale',\n",
       " 'Valentine',\n",
       " 'Van',\n",
       " 'Vin',\n",
       " 'Vinnie',\n",
       " 'Vinny',\n",
       " 'Virgie',\n",
       " 'Wallie',\n",
       " 'Wallis',\n",
       " 'Wally',\n",
       " 'Whitney',\n",
       " 'Willi',\n",
       " 'Willie',\n",
       " 'Willy',\n",
       " 'Winnie',\n",
       " 'Winny',\n",
       " 'Wynn']"
      ]
     },
     "execution_count": 257,
     "metadata": {},
     "output_type": "execute_result"
    }
   ],
   "source": [
    "male_names = names.words('male.txt')\n",
    "female_names = names.words('female.txt')\n",
    "[w for w in male_names if w in female_names]"
   ]
  },
  {
   "cell_type": "code",
   "execution_count": 258,
   "metadata": {
    "collapsed": false
   },
   "outputs": [
    {
     "data": {
      "image/png": "[encoded data removed]",
      "text/plain": [
       "<matplotlib.figure.Figure at 0x22f07ac8>"
      ]
     },
     "metadata": {},
     "output_type": "display_data"
    }
   ],
   "source": [
    "cfd = nltk.ConditionalFreqDist(\n",
    "    (fileid, name[-1])\n",
    "    for fileid in names.fileids()\n",
    "    for name in names.words(fileid))\n",
    "cfd.plot()"
   ]
  },
  {
   "cell_type": "code",
   "execution_count": 259,
   "metadata": {
    "collapsed": true
   },
   "outputs": [],
   "source": [
    "from nltk.corpus import swadesh"
   ]
  },
  {
   "cell_type": "code",
   "execution_count": 260,
   "metadata": {
    "collapsed": false
   },
   "outputs": [
    {
     "data": {
      "text/plain": [
       "['be',\n",
       " 'bg',\n",
       " 'bs',\n",
       " 'ca',\n",
       " 'cs',\n",
       " 'cu',\n",
       " 'de',\n",
       " 'en',\n",
       " 'es',\n",
       " 'fr',\n",
       " 'hr',\n",
       " 'it',\n",
       " 'la',\n",
       " 'mk',\n",
       " 'nl',\n",
       " 'pl',\n",
       " 'pt',\n",
       " 'ro',\n",
       " 'ru',\n",
       " 'sk',\n",
       " 'sl',\n",
       " 'sr',\n",
       " 'sw',\n",
       " 'uk']"
      ]
     },
     "execution_count": 260,
     "metadata": {},
     "output_type": "execute_result"
    }
   ],
   "source": [
    "swadesh.fileids()"
   ]
  },
  {
   "cell_type": "code",
   "execution_count": 261,
   "metadata": {
    "collapsed": false
   },
   "outputs": [
    {
     "data": {
      "text/plain": [
       "['I',\n",
       " 'you (singular), thou',\n",
       " 'he',\n",
       " 'we',\n",
       " 'you (plural)',\n",
       " 'they',\n",
       " 'this',\n",
       " 'that',\n",
       " 'here',\n",
       " 'there',\n",
       " 'who',\n",
       " 'what',\n",
       " 'where',\n",
       " 'when',\n",
       " 'how',\n",
       " 'not',\n",
       " 'all',\n",
       " 'many',\n",
       " 'some',\n",
       " 'few',\n",
       " 'other',\n",
       " 'one',\n",
       " 'two',\n",
       " 'three',\n",
       " 'four',\n",
       " 'five',\n",
       " 'big',\n",
       " 'long',\n",
       " 'wide',\n",
       " 'thick',\n",
       " 'heavy',\n",
       " 'small',\n",
       " 'short',\n",
       " 'narrow',\n",
       " 'thin',\n",
       " 'woman',\n",
       " 'man (adult male)',\n",
       " 'man (human being)',\n",
       " 'child',\n",
       " 'wife',\n",
       " 'husband',\n",
       " 'mother',\n",
       " 'father',\n",
       " 'animal',\n",
       " 'fish',\n",
       " 'bird',\n",
       " 'dog',\n",
       " 'louse',\n",
       " 'snake',\n",
       " 'worm',\n",
       " 'tree',\n",
       " 'forest',\n",
       " 'stick',\n",
       " 'fruit',\n",
       " 'seed',\n",
       " 'leaf',\n",
       " 'root',\n",
       " 'bark (from tree)',\n",
       " 'flower',\n",
       " 'grass',\n",
       " 'rope',\n",
       " 'skin',\n",
       " 'meat',\n",
       " 'blood',\n",
       " 'bone',\n",
       " 'fat (noun)',\n",
       " 'egg',\n",
       " 'horn',\n",
       " 'tail',\n",
       " 'feather',\n",
       " 'hair',\n",
       " 'head',\n",
       " 'ear',\n",
       " 'eye',\n",
       " 'nose',\n",
       " 'mouth',\n",
       " 'tooth',\n",
       " 'tongue',\n",
       " 'fingernail',\n",
       " 'foot',\n",
       " 'leg',\n",
       " 'knee',\n",
       " 'hand',\n",
       " 'wing',\n",
       " 'belly',\n",
       " 'guts',\n",
       " 'neck',\n",
       " 'back',\n",
       " 'breast',\n",
       " 'heart',\n",
       " 'liver',\n",
       " 'drink',\n",
       " 'eat',\n",
       " 'bite',\n",
       " 'suck',\n",
       " 'spit',\n",
       " 'vomit',\n",
       " 'blow',\n",
       " 'breathe',\n",
       " 'laugh',\n",
       " 'see',\n",
       " 'hear',\n",
       " 'know (a fact)',\n",
       " 'think',\n",
       " 'smell',\n",
       " 'fear',\n",
       " 'sleep',\n",
       " 'live',\n",
       " 'die',\n",
       " 'kill',\n",
       " 'fight',\n",
       " 'hunt',\n",
       " 'hit',\n",
       " 'cut',\n",
       " 'split',\n",
       " 'stab',\n",
       " 'scratch',\n",
       " 'dig',\n",
       " 'swim',\n",
       " 'fly (verb)',\n",
       " 'walk',\n",
       " 'come',\n",
       " 'lie',\n",
       " 'sit',\n",
       " 'stand',\n",
       " 'turn',\n",
       " 'fall',\n",
       " 'give',\n",
       " 'hold',\n",
       " 'squeeze',\n",
       " 'rub',\n",
       " 'wash',\n",
       " 'wipe',\n",
       " 'pull',\n",
       " 'push',\n",
       " 'throw',\n",
       " 'tie',\n",
       " 'sew',\n",
       " 'count',\n",
       " 'say',\n",
       " 'sing',\n",
       " 'play',\n",
       " 'float',\n",
       " 'flow',\n",
       " 'freeze',\n",
       " 'swell',\n",
       " 'sun',\n",
       " 'moon',\n",
       " 'star',\n",
       " 'water',\n",
       " 'rain',\n",
       " 'river',\n",
       " 'lake',\n",
       " 'sea',\n",
       " 'salt',\n",
       " 'stone',\n",
       " 'sand',\n",
       " 'dust',\n",
       " 'earth',\n",
       " 'cloud',\n",
       " 'fog',\n",
       " 'sky',\n",
       " 'wind',\n",
       " 'snow',\n",
       " 'ice',\n",
       " 'smoke',\n",
       " 'fire',\n",
       " 'ashes',\n",
       " 'burn',\n",
       " 'road',\n",
       " 'mountain',\n",
       " 'red',\n",
       " 'green',\n",
       " 'yellow',\n",
       " 'white',\n",
       " 'black',\n",
       " 'night',\n",
       " 'day',\n",
       " 'year',\n",
       " 'warm',\n",
       " 'cold',\n",
       " 'full',\n",
       " 'new',\n",
       " 'old',\n",
       " 'good',\n",
       " 'bad',\n",
       " 'rotten',\n",
       " 'dirty',\n",
       " 'straight',\n",
       " 'round',\n",
       " 'sharp',\n",
       " 'dull',\n",
       " 'smooth',\n",
       " 'wet',\n",
       " 'dry',\n",
       " 'correct',\n",
       " 'near',\n",
       " 'far',\n",
       " 'right',\n",
       " 'left',\n",
       " 'at',\n",
       " 'in',\n",
       " 'with',\n",
       " 'and',\n",
       " 'if',\n",
       " 'because',\n",
       " 'name']"
      ]
     },
     "execution_count": 261,
     "metadata": {},
     "output_type": "execute_result"
    }
   ],
   "source": [
    "swadesh.words('en')"
   ]
  },
  {
   "cell_type": "code",
   "execution_count": 262,
   "metadata": {
    "collapsed": false
   },
   "outputs": [],
   "source": [
    "inds = [i for i,w in enumerate(swadesh.words('en')) if w in ['man (adult male)',\n",
    "                                                      'woman',\n",
    "                                                      'mother',\n",
    "                                                      'father',\n",
    "                                                      'husband',\n",
    "                                                      'wife']]"
   ]
  },
  {
   "cell_type": "code",
   "execution_count": 263,
   "metadata": {
    "collapsed": false
   },
   "outputs": [
    {
     "name": "stdout",
     "output_type": "stream",
     "text": [
      "['en', 'fr', 'de', 'ru', 'uk', 'sk', 'sl']\n",
      "\n",
      "('woman', 'femme', 'Frau', 'женщина', 'жінка', 'žena', 'ženska')\n",
      "('man (adult male)', 'homme', 'Mann', 'мужчина', 'чоловік', 'muž', 'moški')\n",
      "('wife', 'femme, épouse', 'Frau, Ehefrau', 'супруга', 'жінка', 'žena', 'žena')\n",
      "('husband', 'mari, époux', 'Mann, Ehemann', 'супруг', 'чоловік', 'manžel', 'mož')\n",
      "('mother', 'mère', 'Mutter', 'мать', 'мати', 'matka', 'mati')\n",
      "('father', 'père', 'Vater', 'отец', 'батько', 'otec', 'oče')\n"
     ]
    }
   ],
   "source": [
    "languages = ['en','fr','de','ru','uk','sk','sl']\n",
    "print(languages)\n",
    "print()\n",
    "for ind in inds:\n",
    "    print(swadesh.entries(languages)[ind])"
   ]
  },
  {
   "cell_type": "code",
   "execution_count": null,
   "metadata": {
    "collapsed": false
   },
   "outputs": [],
   "source": [
    "languages = swadesh.fileids()\n",
    "for language in languages:\n",
    "    swadesh.entries(languages)['dog']"
   ]
  },
  {
   "cell_type": "code",
   "execution_count": null,
   "metadata": {
    "collapsed": false
   },
   "outputs": [],
   "source": [
    "from nltk.corpus import toolbox\n",
    "toolbox.entries('rotokas.dic')"
   ]
  },
  {
   "cell_type": "code",
   "execution_count": 264,
   "metadata": {
    "collapsed": false
   },
   "outputs": [],
   "source": [
    "from nltk.corpus import wordnet as wn"
   ]
  },
  {
   "cell_type": "code",
   "execution_count": 265,
   "metadata": {
    "collapsed": false
   },
   "outputs": [
    {
     "data": {
      "text/plain": [
       "<WordNetCorpusReader in 'C:\\\\Users\\\\Apogentus\\\\AppData\\\\Roaming\\\\nltk_data\\\\corpora\\\\wordnet'>"
      ]
     },
     "execution_count": 265,
     "metadata": {},
     "output_type": "execute_result"
    }
   ],
   "source": [
    "wordnet"
   ]
  },
  {
   "cell_type": "code",
   "execution_count": 269,
   "metadata": {
    "collapsed": false
   },
   "outputs": [
    {
     "data": {
      "text/plain": [
       "[Synset('car.n.01'),\n",
       " Synset('car.n.02'),\n",
       " Synset('car.n.03'),\n",
       " Synset('car.n.04'),\n",
       " Synset('cable_car.n.01')]"
      ]
     },
     "execution_count": 269,
     "metadata": {},
     "output_type": "execute_result"
    }
   ],
   "source": [
    "wn.synsets('car')"
   ]
  },
  {
   "cell_type": "code",
   "execution_count": 267,
   "metadata": {
    "collapsed": false
   },
   "outputs": [
    {
     "data": {
      "text/plain": [
       "['car', 'auto', 'automobile', 'machine', 'motorcar']"
      ]
     },
     "execution_count": 267,
     "metadata": {},
     "output_type": "execute_result"
    }
   ],
   "source": [
    "wn.synset('car.n.01').lemma_names()"
   ]
  },
  {
   "cell_type": "code",
   "execution_count": 270,
   "metadata": {
    "collapsed": false
   },
   "outputs": [
    {
     "data": {
      "text/plain": [
       "['car', 'railcar', 'railway_car', 'railroad_car']"
      ]
     },
     "execution_count": 270,
     "metadata": {},
     "output_type": "execute_result"
    }
   ],
   "source": [
    "wn.synset('car.n.02').lemma_names()"
   ]
  },
  {
   "cell_type": "code",
   "execution_count": 268,
   "metadata": {
    "collapsed": false
   },
   "outputs": [
    {
     "data": {
      "text/plain": [
       "'a motor vehicle with four wheels; usually propelled by an internal combustion engine'"
      ]
     },
     "execution_count": 268,
     "metadata": {},
     "output_type": "execute_result"
    }
   ],
   "source": [
    "wn.synset('car.n.01').definition()"
   ]
  },
  {
   "cell_type": "code",
   "execution_count": null,
   "metadata": {
    "collapsed": false
   },
   "outputs": [],
   "source": [
    "wn.synset('car.n.01').examples()"
   ]
  },
  {
   "cell_type": "code",
   "execution_count": null,
   "metadata": {
    "collapsed": false
   },
   "outputs": [],
   "source": [
    "wn.synset('car.n.01').lemmas()"
   ]
  },
  {
   "cell_type": "code",
   "execution_count": null,
   "metadata": {
    "collapsed": false
   },
   "outputs": [],
   "source": [
    "wn.synset('car.n.01').examples()"
   ]
  },
  {
   "cell_type": "code",
   "execution_count": null,
   "metadata": {
    "collapsed": false
   },
   "outputs": [],
   "source": [
    "wn.lemmas('car')"
   ]
  },
  {
   "cell_type": "code",
   "execution_count": null,
   "metadata": {
    "collapsed": false
   },
   "outputs": [],
   "source": [
    "wn.lemma('car.n.04.car').synset()"
   ]
  },
  {
   "cell_type": "code",
   "execution_count": null,
   "metadata": {
    "collapsed": false
   },
   "outputs": [],
   "source": [
    "wn.lemmas('dish')"
   ]
  },
  {
   "cell_type": "code",
   "execution_count": null,
   "metadata": {
    "collapsed": false
   },
   "outputs": [],
   "source": [
    "wn.synset('dish.n.01').definition()"
   ]
  },
  {
   "cell_type": "code",
   "execution_count": null,
   "metadata": {
    "collapsed": false
   },
   "outputs": [],
   "source": [
    "wn.synset('dish.n.02').definition()"
   ]
  },
  {
   "cell_type": "code",
   "execution_count": null,
   "metadata": {
    "collapsed": false
   },
   "outputs": [],
   "source": [
    "wn.synset('dish.n.04').definition()"
   ]
  },
  {
   "cell_type": "code",
   "execution_count": null,
   "metadata": {
    "collapsed": false
   },
   "outputs": [],
   "source": [
    "wn.synset('dish.n.04').lemmas()"
   ]
  },
  {
   "cell_type": "code",
   "execution_count": null,
   "metadata": {
    "collapsed": false
   },
   "outputs": [],
   "source": [
    "wn.synset('dish.n.05').definition()"
   ]
  },
  {
   "cell_type": "code",
   "execution_count": null,
   "metadata": {
    "collapsed": false
   },
   "outputs": [],
   "source": [
    "wn.synset('dish.n.05').lemmas()"
   ]
  },
  {
   "cell_type": "code",
   "execution_count": null,
   "metadata": {
    "collapsed": true
   },
   "outputs": [],
   "source": [
    "motorcar = wn.synset('car.n.01')\n",
    "types_of_motorcar = motorcar.hyponyms()"
   ]
  },
  {
   "cell_type": "code",
   "execution_count": null,
   "metadata": {
    "collapsed": false
   },
   "outputs": [],
   "source": [
    "wn.lemmas('dish')"
   ]
  },
  {
   "cell_type": "code",
   "execution_count": null,
   "metadata": {
    "collapsed": false
   },
   "outputs": [],
   "source": [
    "wn.synsets('dish')"
   ]
  },
  {
   "cell_type": "code",
   "execution_count": null,
   "metadata": {
    "collapsed": false
   },
   "outputs": [],
   "source": [
    "wn.synset('dish.n.01').definition()"
   ]
  },
  {
   "cell_type": "code",
   "execution_count": null,
   "metadata": {
    "collapsed": false
   },
   "outputs": [],
   "source": [
    "wn.synset('dish.n.01').examples()"
   ]
  },
  {
   "cell_type": "code",
   "execution_count": null,
   "metadata": {
    "collapsed": false
   },
   "outputs": [],
   "source": [
    "wn.lemma('dish.n.01.dish').name()"
   ]
  },
  {
   "cell_type": "code",
   "execution_count": null,
   "metadata": {
    "collapsed": false
   },
   "outputs": [],
   "source": [
    "motorcar = wn.synset('car.n.01')\n",
    "types_of_motorcar = motorcar.hyponyms()\n",
    "types_of_motorcar[0]"
   ]
  },
  {
   "cell_type": "code",
   "execution_count": null,
   "metadata": {
    "collapsed": false
   },
   "outputs": [],
   "source": [
    "sorted(lemma.name() for synset in types_of_motorcar for lemma in synset.lemmas())"
   ]
  },
  {
   "cell_type": "code",
   "execution_count": null,
   "metadata": {
    "collapsed": false
   },
   "outputs": [],
   "source": [
    "motorcar.hypernyms()"
   ]
  },
  {
   "cell_type": "code",
   "execution_count": null,
   "metadata": {
    "collapsed": false
   },
   "outputs": [],
   "source": [
    "paths = motorcar.hypernym_paths()\n",
    "len(paths)"
   ]
  },
  {
   "cell_type": "code",
   "execution_count": null,
   "metadata": {
    "collapsed": false
   },
   "outputs": [],
   "source": [
    "[synset.name() for synset in paths[0]]"
   ]
  },
  {
   "cell_type": "code",
   "execution_count": null,
   "metadata": {
    "collapsed": false
   },
   "outputs": [],
   "source": [
    "[synset.name() for synset in paths[1]]"
   ]
  },
  {
   "cell_type": "code",
   "execution_count": null,
   "metadata": {
    "collapsed": false
   },
   "outputs": [],
   "source": [
    "wn.synset('eat.v.01').entailments()"
   ]
  },
  {
   "cell_type": "code",
   "execution_count": null,
   "metadata": {
    "collapsed": false
   },
   "outputs": [],
   "source": [
    "word = 'house'\n",
    "wn.synsets('building')\n",
    "#synset.part_meronyms(), synset.substance_meronyms()"
   ]
  },
  {
   "cell_type": "code",
   "execution_count": null,
   "metadata": {
    "collapsed": false
   },
   "outputs": [],
   "source": [
    "wn.synset('building.n.01').part_meronyms()"
   ]
  },
  {
   "cell_type": "code",
   "execution_count": null,
   "metadata": {
    "collapsed": false
   },
   "outputs": [],
   "source": [
    "wn.synsets('water')"
   ]
  },
  {
   "cell_type": "code",
   "execution_count": null,
   "metadata": {
    "collapsed": false
   },
   "outputs": [],
   "source": [
    "wn.synset('water.n.01').substance_meronyms()"
   ]
  },
  {
   "cell_type": "code",
   "execution_count": null,
   "metadata": {
    "collapsed": false
   },
   "outputs": [],
   "source": [
    "wn.synset('eat.v.01').entailments()"
   ]
  },
  {
   "cell_type": "code",
   "execution_count": null,
   "metadata": {
    "collapsed": false
   },
   "outputs": [],
   "source": [
    "wn.lemma('supply.n.02.supply').antonyms()"
   ]
  },
  {
   "cell_type": "code",
   "execution_count": null,
   "metadata": {
    "collapsed": true
   },
   "outputs": [],
   "source": []
  }
 ],
 "metadata": {
  "kernelspec": {
   "display_name": "Python 3",
   "language": "python",
   "name": "python3"
  },
  "language_info": {
   "codemirror_mode": {
    "name": "ipython",
    "version": 3
   },
   "file_extension": ".py",
   "mimetype": "text/x-python",
   "name": "python",
   "nbconvert_exporter": "python",
   "pygments_lexer": "ipython3",
   "version": "3.5.1"
  }
 },
 "nbformat": 4,
 "nbformat_minor": 0
}
