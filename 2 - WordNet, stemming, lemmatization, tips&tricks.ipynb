{
 "cells": [
  {
   "cell_type": "code",
   "execution_count": 57,
   "metadata": {
    "collapsed": false
   },
   "outputs": [
    {
     "name": "stdout",
     "output_type": "stream",
     "text": [
      "Populating the interactive namespace from numpy and matplotlib\n"
     ]
    },
    {
     "name": "stderr",
     "output_type": "stream",
     "text": [
      "WARNING: pylab import has clobbered these variables: ['f']\n",
      "`%matplotlib` prevents importing * from pylab and numpy\n"
     ]
    },
    {
     "data": {
      "text/plain": [
       "'%.6f'"
      ]
     },
     "execution_count": 57,
     "metadata": {},
     "output_type": "execute_result"
    }
   ],
   "source": [
    "%pylab inline\n",
    "%precision 6"
   ]
  },
  {
   "cell_type": "code",
   "execution_count": 58,
   "metadata": {
    "collapsed": true
   },
   "outputs": [],
   "source": [
    "import pandas as pd\n",
    "import sklearn as skl\n",
    "import nltk"
   ]
  },
  {
   "cell_type": "code",
   "execution_count": 59,
   "metadata": {
    "collapsed": true
   },
   "outputs": [],
   "source": [
    "pd.options.display.max_colwidth=100\n",
    "np.set_printoptions(linewidth=140,edgeitems=10)\n",
    "pd.set_option('display.max_rows', 500)\n",
    "pd.set_option('display.max_columns', 500)\n",
    "pd.set_option('display.width', 1000)\n",
    "rcParams['figure.figsize'] = (8.0, 5.0)"
   ]
  },
  {
   "cell_type": "markdown",
   "metadata": {},
   "source": [
    "# Wordnet"
   ]
  },
  {
   "cell_type": "code",
   "execution_count": 60,
   "metadata": {
    "collapsed": true
   },
   "outputs": [],
   "source": [
    "from nltk.corpus import wordnet as wn"
   ]
  },
  {
   "cell_type": "markdown",
   "metadata": {},
   "source": [
    "## We can extract meanings of particular word"
   ]
  },
  {
   "cell_type": "code",
   "execution_count": 61,
   "metadata": {
    "collapsed": false
   },
   "outputs": [
    {
     "data": {
      "text/plain": [
       "[Synset('dish.n.01'),\n",
       " Synset('dish.n.02'),\n",
       " Synset('dish.n.03'),\n",
       " Synset('smasher.n.02'),\n",
       " Synset('dish.n.05'),\n",
       " Synset('cup_of_tea.n.01'),\n",
       " Synset('serve.v.06'),\n",
       " Synset('dish.v.02')]"
      ]
     },
     "execution_count": 61,
     "metadata": {},
     "output_type": "execute_result"
    }
   ],
   "source": [
    "wn.synsets('dish')"
   ]
  },
  {
   "cell_type": "markdown",
   "metadata": {},
   "source": [
    "## and explore each particular meaning"
   ]
  },
  {
   "cell_type": "code",
   "execution_count": 62,
   "metadata": {
    "collapsed": false
   },
   "outputs": [
    {
     "data": {
      "text/plain": [
       "['dish']"
      ]
     },
     "execution_count": 62,
     "metadata": {},
     "output_type": "execute_result"
    }
   ],
   "source": [
    "wn.synset('dish.n.01').lemma_names()"
   ]
  },
  {
   "cell_type": "code",
   "execution_count": 63,
   "metadata": {
    "collapsed": false
   },
   "outputs": [
    {
     "data": {
      "text/plain": [
       "'a piece of dishware normally used as a container for holding or serving food'"
      ]
     },
     "execution_count": 63,
     "metadata": {},
     "output_type": "execute_result"
    }
   ],
   "source": [
    "wn.synset('dish.n.01').definition()"
   ]
  },
  {
   "cell_type": "code",
   "execution_count": 64,
   "metadata": {
    "collapsed": false
   },
   "outputs": [
    {
     "data": {
      "text/plain": [
       "['we gave them a set of dishes for a wedding present']"
      ]
     },
     "execution_count": 64,
     "metadata": {},
     "output_type": "execute_result"
    }
   ],
   "source": [
    "wn.synset('dish.n.01').examples()"
   ]
  },
  {
   "cell_type": "code",
   "execution_count": 65,
   "metadata": {
    "collapsed": false
   },
   "outputs": [
    {
     "data": {
      "text/plain": [
       "'a particular item of prepared food'"
      ]
     },
     "execution_count": 65,
     "metadata": {},
     "output_type": "execute_result"
    }
   ],
   "source": [
    "wn.synset('dish.n.02').definition()"
   ]
  },
  {
   "cell_type": "code",
   "execution_count": 66,
   "metadata": {
    "collapsed": false
   },
   "outputs": [
    {
     "data": {
      "text/plain": [
       "['she prepared a special dish for dinner']"
      ]
     },
     "execution_count": 66,
     "metadata": {},
     "output_type": "execute_result"
    }
   ],
   "source": [
    "wn.synset('dish.n.02').examples()"
   ]
  },
  {
   "cell_type": "markdown",
   "metadata": {},
   "source": [
    "## Semantic relationships"
   ]
  },
  {
   "cell_type": "markdown",
   "metadata": {},
   "source": [
    "Applications:\n",
    "    * search: by searching car return pages, containing lumousine, jeep, etc.\n",
    "    * document classification: if word votes for particular class, then similar vote should be given to synonims and words with related \n",
    "      meaning"
   ]
  },
  {
   "cell_type": "markdown",
   "metadata": {},
   "source": [
    "### Hyponims - subtypes of given object"
   ]
  },
  {
   "cell_type": "code",
   "execution_count": 67,
   "metadata": {
    "collapsed": true
   },
   "outputs": [],
   "source": [
    "motorcar = wn.synset('car.n.01')\n",
    "types_of_motorcar = motorcar.hyponyms()"
   ]
  },
  {
   "cell_type": "code",
   "execution_count": 68,
   "metadata": {
    "collapsed": false
   },
   "outputs": [
    {
     "data": {
      "text/plain": [
       "[Synset('ambulance.n.01'),\n",
       " Synset('beach_wagon.n.01'),\n",
       " Synset('bus.n.04'),\n",
       " Synset('cab.n.03'),\n",
       " Synset('compact.n.03'),\n",
       " Synset('convertible.n.01'),\n",
       " Synset('coupe.n.01'),\n",
       " Synset('cruiser.n.01'),\n",
       " Synset('electric.n.01'),\n",
       " Synset('gas_guzzler.n.01'),\n",
       " Synset('hardtop.n.01'),\n",
       " Synset('hatchback.n.01'),\n",
       " Synset('horseless_carriage.n.01'),\n",
       " Synset('hot_rod.n.01'),\n",
       " Synset('jeep.n.01'),\n",
       " Synset('limousine.n.01'),\n",
       " Synset('loaner.n.02'),\n",
       " Synset('minicar.n.01'),\n",
       " Synset('minivan.n.01'),\n",
       " Synset('model_t.n.01'),\n",
       " Synset('pace_car.n.01'),\n",
       " Synset('racer.n.02'),\n",
       " Synset('roadster.n.01'),\n",
       " Synset('sedan.n.01'),\n",
       " Synset('sport_utility.n.01'),\n",
       " Synset('sports_car.n.01'),\n",
       " Synset('stanley_steamer.n.01'),\n",
       " Synset('stock_car.n.01'),\n",
       " Synset('subcompact.n.01'),\n",
       " Synset('touring_car.n.01'),\n",
       " Synset('used-car.n.01')]"
      ]
     },
     "execution_count": 68,
     "metadata": {},
     "output_type": "execute_result"
    }
   ],
   "source": [
    "types_of_motorcar"
   ]
  },
  {
   "cell_type": "code",
   "execution_count": 69,
   "metadata": {
    "collapsed": false
   },
   "outputs": [
    {
     "data": {
      "text/plain": [
       "['ambulance']"
      ]
     },
     "execution_count": 69,
     "metadata": {},
     "output_type": "execute_result"
    }
   ],
   "source": [
    "wn.synset('ambulance.n.01').lemma_names()"
   ]
  },
  {
   "cell_type": "code",
   "execution_count": 70,
   "metadata": {
    "collapsed": false
   },
   "outputs": [
    {
     "data": {
      "text/plain": [
       "['sports_car', 'sport_car']"
      ]
     },
     "execution_count": 70,
     "metadata": {},
     "output_type": "execute_result"
    }
   ],
   "source": [
    "wn.synset('sports_car.n.01').lemma_names()"
   ]
  },
  {
   "cell_type": "code",
   "execution_count": 71,
   "metadata": {
    "collapsed": false
   },
   "outputs": [
    {
     "data": {
      "text/plain": [
       "['electric', 'electric_automobile', 'electric_car']"
      ]
     },
     "execution_count": 71,
     "metadata": {},
     "output_type": "execute_result"
    }
   ],
   "source": [
    "wn.synset('electric.n.01').lemma_names()"
   ]
  },
  {
   "cell_type": "code",
   "execution_count": 72,
   "metadata": {
    "collapsed": false
   },
   "outputs": [
    {
     "data": {
      "text/plain": [
       "['Model_T',\n",
       " 'S.U.V.',\n",
       " 'SUV',\n",
       " 'Stanley_Steamer',\n",
       " 'ambulance',\n",
       " 'beach_waggon',\n",
       " 'beach_wagon',\n",
       " 'bus',\n",
       " 'cab',\n",
       " 'compact',\n",
       " 'compact_car',\n",
       " 'convertible',\n",
       " 'coupe',\n",
       " 'cruiser',\n",
       " 'electric',\n",
       " 'electric_automobile',\n",
       " 'electric_car',\n",
       " 'estate_car',\n",
       " 'gas_guzzler',\n",
       " 'hack',\n",
       " 'hardtop',\n",
       " 'hatchback',\n",
       " 'heap',\n",
       " 'horseless_carriage',\n",
       " 'hot-rod',\n",
       " 'hot_rod',\n",
       " 'jalopy',\n",
       " 'jeep',\n",
       " 'landrover',\n",
       " 'limo',\n",
       " 'limousine',\n",
       " 'loaner',\n",
       " 'minicar',\n",
       " 'minivan',\n",
       " 'pace_car',\n",
       " 'patrol_car',\n",
       " 'phaeton',\n",
       " 'police_car',\n",
       " 'police_cruiser',\n",
       " 'prowl_car',\n",
       " 'race_car',\n",
       " 'racer',\n",
       " 'racing_car',\n",
       " 'roadster',\n",
       " 'runabout',\n",
       " 'saloon',\n",
       " 'secondhand_car',\n",
       " 'sedan',\n",
       " 'sport_car',\n",
       " 'sport_utility',\n",
       " 'sport_utility_vehicle',\n",
       " 'sports_car',\n",
       " 'squad_car',\n",
       " 'station_waggon',\n",
       " 'station_wagon',\n",
       " 'stock_car',\n",
       " 'subcompact',\n",
       " 'subcompact_car',\n",
       " 'taxi',\n",
       " 'taxicab',\n",
       " 'tourer',\n",
       " 'touring_car',\n",
       " 'two-seater',\n",
       " 'used-car',\n",
       " 'waggon',\n",
       " 'wagon']"
      ]
     },
     "execution_count": 72,
     "metadata": {},
     "output_type": "execute_result"
    }
   ],
   "source": [
    "sorted(lemma.name() for synset in types_of_motorcar for lemma in synset.lemmas())"
   ]
  },
  {
   "cell_type": "markdown",
   "metadata": {},
   "source": [
    "### Hypernyms - more general concepts"
   ]
  },
  {
   "cell_type": "code",
   "execution_count": 73,
   "metadata": {
    "collapsed": false
   },
   "outputs": [
    {
     "data": {
      "text/plain": [
       "[Synset('motor_vehicle.n.01')]"
      ]
     },
     "execution_count": 73,
     "metadata": {},
     "output_type": "execute_result"
    }
   ],
   "source": [
    "motorcar = wn.synset('car.n.01')\n",
    "motorcar.hypernyms()"
   ]
  },
  {
   "cell_type": "code",
   "execution_count": 74,
   "metadata": {
    "collapsed": false
   },
   "outputs": [
    {
     "data": {
      "text/plain": [
       "[Synset('self-propelled_vehicle.n.01')]"
      ]
     },
     "execution_count": 74,
     "metadata": {},
     "output_type": "execute_result"
    }
   ],
   "source": [
    "wn.synset('motor_vehicle.n.01').hypernyms()"
   ]
  },
  {
   "cell_type": "code",
   "execution_count": 75,
   "metadata": {
    "collapsed": false
   },
   "outputs": [
    {
     "data": {
      "text/plain": [
       "'a wheeled vehicle that carries in itself a means of propulsion'"
      ]
     },
     "execution_count": 75,
     "metadata": {},
     "output_type": "execute_result"
    }
   ],
   "source": [
    "wn.synset('self-propelled_vehicle.n.01').definition()"
   ]
  },
  {
   "cell_type": "code",
   "execution_count": 76,
   "metadata": {
    "collapsed": false
   },
   "outputs": [
    {
     "data": {
      "text/plain": [
       "[Synset('wheeled_vehicle.n.01')]"
      ]
     },
     "execution_count": 76,
     "metadata": {},
     "output_type": "execute_result"
    }
   ],
   "source": [
    "wn.synset('self-propelled_vehicle.n.01').hypernyms()"
   ]
  },
  {
   "cell_type": "code",
   "execution_count": 77,
   "metadata": {
    "collapsed": false
   },
   "outputs": [
    {
     "data": {
      "text/plain": [
       "[Synset('container.n.01'), Synset('vehicle.n.01')]"
      ]
     },
     "execution_count": 77,
     "metadata": {},
     "output_type": "execute_result"
    }
   ],
   "source": [
    "wn.synset('wheeled_vehicle.n.01').hypernyms()"
   ]
  },
  {
   "cell_type": "code",
   "execution_count": 78,
   "metadata": {
    "collapsed": false
   },
   "outputs": [
    {
     "data": {
      "text/plain": [
       "'any object that can be used to hold things (especially a large metal boxlike object of standardized dimensions that can be loaded from one form of transport to another)'"
      ]
     },
     "execution_count": 78,
     "metadata": {},
     "output_type": "execute_result"
    }
   ],
   "source": [
    "wn.synset('container.n.01').definition()"
   ]
  },
  {
   "cell_type": "markdown",
   "metadata": {},
   "source": [
    "### Holonyms - things a particular word is part of "
   ]
  },
  {
   "cell_type": "code",
   "execution_count": 85,
   "metadata": {
    "collapsed": false
   },
   "outputs": [
    {
     "data": {
      "text/plain": [
       "[Synset('animalia.n.01')]"
      ]
     },
     "execution_count": 85,
     "metadata": {},
     "output_type": "execute_result"
    }
   ],
   "source": [
    "wn.synset('animal.n.01').member_holonyms()"
   ]
  },
  {
   "cell_type": "code",
   "execution_count": 81,
   "metadata": {
    "collapsed": false
   },
   "outputs": [
    {
     "data": {
      "text/plain": [
       "[]"
      ]
     },
     "execution_count": 81,
     "metadata": {},
     "output_type": "execute_result"
    }
   ],
   "source": [
    "wn.synset('car.n.01').substance_holonyms()"
   ]
  },
  {
   "cell_type": "markdown",
   "metadata": {},
   "source": [
    "### Meronyms - things a particular word contains"
   ]
  },
  {
   "cell_type": "markdown",
   "metadata": {},
   "source": [
    "#### Substance meronims"
   ]
  },
  {
   "cell_type": "code",
   "execution_count": 86,
   "metadata": {
    "collapsed": false
   },
   "outputs": [
    {
     "data": {
      "text/plain": [
       "[Synset('hydrogen.n.01'), Synset('oxygen.n.01')]"
      ]
     },
     "execution_count": 86,
     "metadata": {},
     "output_type": "execute_result"
    }
   ],
   "source": [
    "wn.synset('water.n.01').substance_meronyms()"
   ]
  },
  {
   "cell_type": "code",
   "execution_count": 87,
   "metadata": {
    "collapsed": false
   },
   "outputs": [
    {
     "data": {
      "text/plain": [
       "[Synset('heartwood.n.01'), Synset('sapwood.n.01')]"
      ]
     },
     "execution_count": 87,
     "metadata": {},
     "output_type": "execute_result"
    }
   ],
   "source": [
    "wn.synset('tree.n.01').substance_meronyms()"
   ]
  },
  {
   "cell_type": "code",
   "execution_count": 90,
   "metadata": {
    "collapsed": false
   },
   "outputs": [
    {
     "data": {
      "text/plain": [
       "[]"
      ]
     },
     "execution_count": 90,
     "metadata": {},
     "output_type": "execute_result"
    }
   ],
   "source": [
    "wn.synset('house.n.01').substance_meronyms()"
   ]
  },
  {
   "cell_type": "code",
   "execution_count": 88,
   "metadata": {
    "collapsed": false,
    "scrolled": true
   },
   "outputs": [
    {
     "data": {
      "text/plain": [
       "'the older inactive central wood of a tree or woody plant; usually darker and denser than the surrounding sapwood'"
      ]
     },
     "execution_count": 88,
     "metadata": {},
     "output_type": "execute_result"
    }
   ],
   "source": [
    "wn.synset('heartwood.n.01').definition()"
   ]
  },
  {
   "cell_type": "code",
   "execution_count": 89,
   "metadata": {
    "collapsed": false
   },
   "outputs": [
    {
     "data": {
      "text/plain": [
       "'newly formed outer wood lying between the cambium and the heartwood of a tree or woody plant; usually light colored; active in water conduction'"
      ]
     },
     "execution_count": 89,
     "metadata": {},
     "output_type": "execute_result"
    }
   ],
   "source": [
    "wn.synset('sapwood.n.01').definition()"
   ]
  },
  {
   "cell_type": "markdown",
   "metadata": {},
   "source": [
    "#### Part meronims"
   ]
  },
  {
   "cell_type": "code",
   "execution_count": null,
   "metadata": {
    "collapsed": false
   },
   "outputs": [],
   "source": [
    "wn.synset('house.n.01').definition()"
   ]
  },
  {
   "cell_type": "code",
   "execution_count": 91,
   "metadata": {
    "collapsed": false
   },
   "outputs": [
    {
     "data": {
      "text/plain": [
       "[Synset('library.n.01'),\n",
       " Synset('loft.n.02'),\n",
       " Synset('porch.n.01'),\n",
       " Synset('study.n.05')]"
      ]
     },
     "execution_count": 91,
     "metadata": {},
     "output_type": "execute_result"
    }
   ],
   "source": [
    "wn.synset('house.n.01').part_meronyms()"
   ]
  },
  {
   "cell_type": "code",
   "execution_count": 92,
   "metadata": {
    "collapsed": false
   },
   "outputs": [
    {
     "data": {
      "text/plain": [
       "'a tall perennial woody plant having a main trunk and branches forming a distinct elevated crown; includes both gymnosperms and angiosperms'"
      ]
     },
     "execution_count": 92,
     "metadata": {},
     "output_type": "execute_result"
    }
   ],
   "source": [
    "wn.synset('tree.n.01').definition()"
   ]
  },
  {
   "cell_type": "code",
   "execution_count": 93,
   "metadata": {
    "collapsed": false
   },
   "outputs": [
    {
     "data": {
      "text/plain": [
       "[Synset('burl.n.02'),\n",
       " Synset('crown.n.07'),\n",
       " Synset('limb.n.02'),\n",
       " Synset('stump.n.01'),\n",
       " Synset('trunk.n.01')]"
      ]
     },
     "execution_count": 93,
     "metadata": {},
     "output_type": "execute_result"
    }
   ],
   "source": [
    "wn.synset('tree.n.01').part_meronyms()"
   ]
  },
  {
   "cell_type": "markdown",
   "metadata": {},
   "source": [
    "### Entailments - acts that a given verb is composed of"
   ]
  },
  {
   "cell_type": "code",
   "execution_count": 94,
   "metadata": {
    "collapsed": false
   },
   "outputs": [
    {
     "data": {
      "text/plain": [
       "[Synset('chew.v.01'), Synset('swallow.v.01')]"
      ]
     },
     "execution_count": 94,
     "metadata": {},
     "output_type": "execute_result"
    }
   ],
   "source": [
    "wn.synset('eat.v.01').entailments()"
   ]
  },
  {
   "cell_type": "code",
   "execution_count": 95,
   "metadata": {
    "collapsed": false
   },
   "outputs": [
    {
     "data": {
      "text/plain": [
       "[Synset('exhale.v.01'), Synset('inhale.v.02')]"
      ]
     },
     "execution_count": 95,
     "metadata": {},
     "output_type": "execute_result"
    }
   ],
   "source": [
    "wn.synset('breathe.v.01').entailments()"
   ]
  },
  {
   "cell_type": "markdown",
   "metadata": {},
   "source": [
    "### Find out more relations"
   ]
  },
  {
   "cell_type": "code",
   "execution_count": 96,
   "metadata": {
    "collapsed": false
   },
   "outputs": [
    {
     "data": {
      "text/plain": [
       "['__class__',\n",
       " '__delattr__',\n",
       " '__dict__',\n",
       " '__dir__',\n",
       " '__doc__',\n",
       " '__eq__',\n",
       " '__format__',\n",
       " '__ge__',\n",
       " '__getattribute__',\n",
       " '__gt__',\n",
       " '__hash__',\n",
       " '__init__',\n",
       " '__le__',\n",
       " '__lt__',\n",
       " '__module__',\n",
       " '__ne__',\n",
       " '__new__',\n",
       " '__reduce__',\n",
       " '__reduce_ex__',\n",
       " '__repr__',\n",
       " '__setattr__',\n",
       " '__sizeof__',\n",
       " '__slots__',\n",
       " '__str__',\n",
       " '__subclasshook__',\n",
       " '__unicode__',\n",
       " '__weakref__',\n",
       " '_all_hypernyms',\n",
       " '_definition',\n",
       " '_examples',\n",
       " '_frame_ids',\n",
       " '_hypernyms',\n",
       " '_instance_hypernyms',\n",
       " '_iter_hypernym_lists',\n",
       " '_lemma_names',\n",
       " '_lemma_pointers',\n",
       " '_lemmas',\n",
       " '_lexname',\n",
       " '_max_depth',\n",
       " '_min_depth',\n",
       " '_name',\n",
       " '_needs_root',\n",
       " '_offset',\n",
       " '_pointers',\n",
       " '_pos',\n",
       " '_related',\n",
       " '_shortest_hypernym_paths',\n",
       " '_wordnet_corpus_reader',\n",
       " 'also_sees',\n",
       " 'attributes',\n",
       " 'causes',\n",
       " 'closure',\n",
       " 'common_hypernyms',\n",
       " 'definition',\n",
       " 'entailments',\n",
       " 'examples',\n",
       " 'frame_ids',\n",
       " 'hypernym_distances',\n",
       " 'hypernym_paths',\n",
       " 'hypernyms',\n",
       " 'hyponyms',\n",
       " 'instance_hypernyms',\n",
       " 'instance_hyponyms',\n",
       " 'jcn_similarity',\n",
       " 'lch_similarity',\n",
       " 'lemma_names',\n",
       " 'lemmas',\n",
       " 'lexname',\n",
       " 'lin_similarity',\n",
       " 'lowest_common_hypernyms',\n",
       " 'max_depth',\n",
       " 'member_holonyms',\n",
       " 'member_meronyms',\n",
       " 'min_depth',\n",
       " 'name',\n",
       " 'offset',\n",
       " 'part_holonyms',\n",
       " 'part_meronyms',\n",
       " 'path_similarity',\n",
       " 'pos',\n",
       " 'region_domains',\n",
       " 'res_similarity',\n",
       " 'root_hypernyms',\n",
       " 'shortest_path_distance',\n",
       " 'similar_tos',\n",
       " 'substance_holonyms',\n",
       " 'substance_meronyms',\n",
       " 'topic_domains',\n",
       " 'tree',\n",
       " 'unicode_repr',\n",
       " 'usage_domains',\n",
       " 'verb_groups',\n",
       " 'wup_similarity']"
      ]
     },
     "execution_count": 96,
     "metadata": {},
     "output_type": "execute_result"
    }
   ],
   "source": [
    "dir(wn.synset('harmony.n.02'))"
   ]
  },
  {
   "cell_type": "markdown",
   "metadata": {},
   "source": [
    "### Measure semantic similarity between words by finding closest common hypernym"
   ]
  },
  {
   "cell_type": "code",
   "execution_count": 97,
   "metadata": {
    "collapsed": false
   },
   "outputs": [
    {
     "data": {
      "text/plain": [
       "[Synset('car.n.01')]"
      ]
     },
     "execution_count": 97,
     "metadata": {},
     "output_type": "execute_result"
    }
   ],
   "source": [
    "syn1 = wn.synset('jeep.n.01')\n",
    "syn2 = wn.synset('ambulance.n.01')\n",
    "\n",
    "syn1.lowest_common_hypernyms(syn2)"
   ]
  },
  {
   "cell_type": "code",
   "execution_count": 98,
   "metadata": {
    "collapsed": false
   },
   "outputs": [
    {
     "data": {
      "text/plain": [
       "[Synset('conveyance.n.03')]"
      ]
     },
     "execution_count": 98,
     "metadata": {},
     "output_type": "execute_result"
    }
   ],
   "source": [
    "syn1 = wn.synset('jeep.n.01')\n",
    "syn2 = wn.synset('train.n.01')\n",
    "\n",
    "syn1.lowest_common_hypernyms(syn2)"
   ]
  },
  {
   "cell_type": "code",
   "execution_count": 99,
   "metadata": {
    "collapsed": false
   },
   "outputs": [
    {
     "data": {
      "text/plain": [
       "'something that serves as a means of transportation'"
      ]
     },
     "execution_count": 99,
     "metadata": {},
     "output_type": "execute_result"
    }
   ],
   "source": [
    "wn.synset('conveyance.n.03').definition()"
   ]
  },
  {
   "cell_type": "code",
   "execution_count": 100,
   "metadata": {
    "collapsed": false
   },
   "outputs": [
    {
     "data": {
      "text/plain": [
       "[Synset('whole.n.02')]"
      ]
     },
     "execution_count": 100,
     "metadata": {},
     "output_type": "execute_result"
    }
   ],
   "source": [
    "syn1 = wn.synset('jeep.n.01')\n",
    "syn2 = wn.synset('cat.n.01')\n",
    "\n",
    "syn1.lowest_common_hypernyms(syn2)"
   ]
  },
  {
   "cell_type": "code",
   "execution_count": 103,
   "metadata": {
    "collapsed": false
   },
   "outputs": [
    {
     "data": {
      "text/plain": [
       "'an assemblage of parts that is regarded as a single entity'"
      ]
     },
     "execution_count": 103,
     "metadata": {},
     "output_type": "execute_result"
    }
   ],
   "source": [
    "wn.synset('whole.n.02').definition()"
   ]
  },
  {
   "cell_type": "code",
   "execution_count": 104,
   "metadata": {
    "collapsed": false
   },
   "outputs": [
    {
     "data": {
      "text/plain": [
       "[Synset('object.n.01')]"
      ]
     },
     "execution_count": 104,
     "metadata": {},
     "output_type": "execute_result"
    }
   ],
   "source": [
    "wn.synset('whole.n.02').hypernyms()"
   ]
  },
  {
   "cell_type": "code",
   "execution_count": 109,
   "metadata": {
    "collapsed": false
   },
   "outputs": [
    {
     "data": {
      "text/plain": [
       "[]"
      ]
     },
     "execution_count": 109,
     "metadata": {},
     "output_type": "execute_result"
    }
   ],
   "source": [
    "wn.synset('entity.n.01').hypernyms()"
   ]
  },
  {
   "cell_type": "markdown",
   "metadata": {},
   "source": [
    "## How abstract a word is?"
   ]
  },
  {
   "cell_type": "code",
   "execution_count": 105,
   "metadata": {
    "collapsed": false
   },
   "outputs": [
    {
     "data": {
      "text/plain": [
       "6"
      ]
     },
     "execution_count": 105,
     "metadata": {},
     "output_type": "execute_result"
    }
   ],
   "source": [
    "wn.synset('conveyance.n.03').min_depth()"
   ]
  },
  {
   "cell_type": "code",
   "execution_count": 106,
   "metadata": {
    "collapsed": false
   },
   "outputs": [
    {
     "data": {
      "text/plain": [
       "3"
      ]
     },
     "execution_count": 106,
     "metadata": {},
     "output_type": "execute_result"
    }
   ],
   "source": [
    "wn.synset('whole.n.02').min_depth()"
   ]
  },
  {
   "cell_type": "code",
   "execution_count": 110,
   "metadata": {
    "collapsed": false
   },
   "outputs": [
    {
     "data": {
      "text/plain": [
       "10"
      ]
     },
     "execution_count": 110,
     "metadata": {},
     "output_type": "execute_result"
    }
   ],
   "source": [
    "wn.synset('car.n.01').min_depth()"
   ]
  },
  {
   "cell_type": "code",
   "execution_count": 111,
   "metadata": {
    "collapsed": false
   },
   "outputs": [
    {
     "data": {
      "text/plain": [
       "0.052632"
      ]
     },
     "execution_count": 111,
     "metadata": {},
     "output_type": "execute_result"
    }
   ],
   "source": [
    "syn1 = wn.synset('jeep.n.01')\n",
    "syn2 = wn.synset('cat.n.01')\n",
    "syn1.path_similarity(syn2)"
   ]
  },
  {
   "cell_type": "code",
   "execution_count": 112,
   "metadata": {
    "collapsed": false
   },
   "outputs": [
    {
     "data": {
      "text/plain": [
       "0.333333"
      ]
     },
     "execution_count": 112,
     "metadata": {},
     "output_type": "execute_result"
    }
   ],
   "source": [
    "syn1 = wn.synset('jeep.n.01')\n",
    "syn2 = wn.synset('ambulance.n.01')\n",
    "syn1.path_similarity(syn2)"
   ]
  },
  {
   "cell_type": "markdown",
   "metadata": {},
   "source": [
    "# Reading external sources"
   ]
  },
  {
   "cell_type": "code",
   "execution_count": 113,
   "metadata": {
    "collapsed": true
   },
   "outputs": [],
   "source": [
    "import nltk, re, pprint\n",
    "from nltk import word_tokenize"
   ]
  },
  {
   "cell_type": "code",
   "execution_count": 114,
   "metadata": {
    "collapsed": true
   },
   "outputs": [],
   "source": [
    "from urllib import request\n",
    "url = \"http://www.gutenberg.org/files/2554/2554.txt\"\n",
    "response = request.urlopen(url)\n",
    "raw = response.read().decode('utf8')"
   ]
  },
  {
   "cell_type": "code",
   "execution_count": 115,
   "metadata": {
    "collapsed": false
   },
   "outputs": [
    {
     "data": {
      "text/plain": [
       "str"
      ]
     },
     "execution_count": 115,
     "metadata": {},
     "output_type": "execute_result"
    }
   ],
   "source": [
    "type(raw)"
   ]
  },
  {
   "cell_type": "code",
   "execution_count": 116,
   "metadata": {
    "collapsed": false
   },
   "outputs": [
    {
     "data": {
      "text/plain": [
       "1176896"
      ]
     },
     "execution_count": 116,
     "metadata": {},
     "output_type": "execute_result"
    }
   ],
   "source": [
    "len(raw)"
   ]
  },
  {
   "cell_type": "code",
   "execution_count": 117,
   "metadata": {
    "collapsed": false
   },
   "outputs": [
    {
     "data": {
      "text/plain": [
       "'The Project Gutenberg EBook of Crime and Punishment, by Fyodor Dostoevsky\\r\\n'"
      ]
     },
     "execution_count": 117,
     "metadata": {},
     "output_type": "execute_result"
    }
   ],
   "source": [
    "raw[:75]"
   ]
  },
  {
   "cell_type": "code",
   "execution_count": 118,
   "metadata": {
    "collapsed": true
   },
   "outputs": [],
   "source": [
    "tokens = word_tokenize(raw)"
   ]
  },
  {
   "cell_type": "code",
   "execution_count": 119,
   "metadata": {
    "collapsed": false
   },
   "outputs": [
    {
     "data": {
      "text/plain": [
       "list"
      ]
     },
     "execution_count": 119,
     "metadata": {},
     "output_type": "execute_result"
    }
   ],
   "source": [
    "type(tokens)"
   ]
  },
  {
   "cell_type": "code",
   "execution_count": 120,
   "metadata": {
    "collapsed": false
   },
   "outputs": [
    {
     "data": {
      "text/plain": [
       "254352"
      ]
     },
     "execution_count": 120,
     "metadata": {},
     "output_type": "execute_result"
    }
   ],
   "source": [
    "len(tokens)"
   ]
  },
  {
   "cell_type": "code",
   "execution_count": 121,
   "metadata": {
    "collapsed": false
   },
   "outputs": [
    {
     "data": {
      "text/plain": [
       "['The',\n",
       " 'Project',\n",
       " 'Gutenberg',\n",
       " 'EBook',\n",
       " 'of',\n",
       " 'Crime',\n",
       " 'and',\n",
       " 'Punishment',\n",
       " ',',\n",
       " 'by',\n",
       " 'Fyodor',\n",
       " 'Dostoevsky',\n",
       " 'This',\n",
       " 'eBook',\n",
       " 'is',\n",
       " 'for',\n",
       " 'the',\n",
       " 'use',\n",
       " 'of',\n",
       " 'anyone',\n",
       " 'anywhere',\n",
       " 'at',\n",
       " 'no',\n",
       " 'cost',\n",
       " 'and',\n",
       " 'with',\n",
       " 'almost',\n",
       " 'no',\n",
       " 'restrictions',\n",
       " 'whatsoever',\n",
       " '.',\n",
       " 'You',\n",
       " 'may',\n",
       " 'copy',\n",
       " 'it',\n",
       " ',',\n",
       " 'give',\n",
       " 'it',\n",
       " 'away',\n",
       " 'or',\n",
       " 're-use',\n",
       " 'it',\n",
       " 'under',\n",
       " 'the',\n",
       " 'terms',\n",
       " 'of',\n",
       " 'the',\n",
       " 'Project',\n",
       " 'Gutenberg',\n",
       " 'License',\n",
       " 'included',\n",
       " 'with',\n",
       " 'this',\n",
       " 'eBook',\n",
       " 'or',\n",
       " 'online',\n",
       " 'at',\n",
       " 'www.gutenberg.org',\n",
       " 'Title',\n",
       " ':',\n",
       " 'Crime',\n",
       " 'and',\n",
       " 'Punishment',\n",
       " 'Author',\n",
       " ':',\n",
       " 'Fyodor',\n",
       " 'Dostoevsky',\n",
       " 'Release',\n",
       " 'Date',\n",
       " ':',\n",
       " 'March',\n",
       " '28',\n",
       " ',',\n",
       " '2006',\n",
       " '[',\n",
       " 'EBook',\n",
       " '#',\n",
       " '2554',\n",
       " ']',\n",
       " '[',\n",
       " 'Last',\n",
       " 'updated',\n",
       " ':',\n",
       " 'November',\n",
       " '15',\n",
       " ',',\n",
       " '2011',\n",
       " ']',\n",
       " 'Language',\n",
       " ':',\n",
       " 'English',\n",
       " 'Character',\n",
       " 'set',\n",
       " 'encoding',\n",
       " ':',\n",
       " 'ASCII',\n",
       " '***',\n",
       " 'START',\n",
       " 'OF',\n",
       " 'THIS',\n",
       " 'PROJECT',\n",
       " 'GUTENBERG',\n",
       " 'EBOOK',\n",
       " 'CRIME',\n",
       " 'AND',\n",
       " 'PUNISHMENT',\n",
       " '***',\n",
       " 'Produced',\n",
       " 'by',\n",
       " 'John',\n",
       " 'Bickers',\n",
       " ';',\n",
       " 'and',\n",
       " 'Dagny',\n",
       " 'CRIME',\n",
       " 'AND',\n",
       " 'PUNISHMENT',\n",
       " 'By',\n",
       " 'Fyodor',\n",
       " 'Dostoevsky',\n",
       " 'Translated',\n",
       " 'By',\n",
       " 'Constance',\n",
       " 'Garnett',\n",
       " 'TRANSLATOR',\n",
       " \"'S\",\n",
       " 'PREFACE',\n",
       " 'A',\n",
       " 'few',\n",
       " 'words']"
      ]
     },
     "execution_count": 121,
     "metadata": {},
     "output_type": "execute_result"
    }
   ],
   "source": [
    "tokens[:130]"
   ]
  },
  {
   "cell_type": "code",
   "execution_count": 122,
   "metadata": {
    "collapsed": true
   },
   "outputs": [],
   "source": [
    "text = nltk.Text(tokens)"
   ]
  },
  {
   "cell_type": "code",
   "execution_count": 123,
   "metadata": {
    "collapsed": false
   },
   "outputs": [
    {
     "data": {
      "text/plain": [
       "nltk.text.Text"
      ]
     },
     "execution_count": 123,
     "metadata": {},
     "output_type": "execute_result"
    }
   ],
   "source": [
    "type(text)"
   ]
  },
  {
   "cell_type": "code",
   "execution_count": 124,
   "metadata": {
    "collapsed": false
   },
   "outputs": [
    {
     "data": {
      "text/plain": [
       "['CHAPTER',\n",
       " 'I',\n",
       " 'On',\n",
       " 'an',\n",
       " 'exceptionally',\n",
       " 'hot',\n",
       " 'evening',\n",
       " 'early',\n",
       " 'in',\n",
       " 'July',\n",
       " 'a',\n",
       " 'young',\n",
       " 'man',\n",
       " 'came',\n",
       " 'out',\n",
       " 'of',\n",
       " 'the',\n",
       " 'garret',\n",
       " 'in',\n",
       " 'which',\n",
       " 'he',\n",
       " 'lodged',\n",
       " 'in',\n",
       " 'S.',\n",
       " 'Place',\n",
       " 'and',\n",
       " 'walked',\n",
       " 'slowly',\n",
       " ',',\n",
       " 'as',\n",
       " 'though',\n",
       " 'in',\n",
       " 'hesitation',\n",
       " ',',\n",
       " 'towards',\n",
       " 'K.',\n",
       " 'bridge',\n",
       " '.']"
      ]
     },
     "execution_count": 124,
     "metadata": {},
     "output_type": "execute_result"
    }
   ],
   "source": [
    "text[1024:1062]"
   ]
  },
  {
   "cell_type": "code",
   "execution_count": 125,
   "metadata": {
    "collapsed": false
   },
   "outputs": [
    {
     "name": "stdout",
     "output_type": "stream",
     "text": [
      "Katerina Ivanovna; Pyotr Petrovitch; Pulcheria Alexandrovna; Avdotya\n",
      "Romanovna; Rodion Romanovitch; Marfa Petrovna; Sofya Semyonovna; old\n",
      "woman; Project Gutenberg-tm; Porfiry Petrovitch; Amalia Ivanovna;\n",
      "great deal; Nikodim Fomitch; young man; Ilya Petrovitch; n't know;\n",
      "Project Gutenberg; Dmitri Prokofitch; Andrey Semyonovitch; Hay Market\n"
     ]
    }
   ],
   "source": [
    "text.collocations()"
   ]
  },
  {
   "cell_type": "code",
   "execution_count": 126,
   "metadata": {
    "collapsed": true
   },
   "outputs": [],
   "source": [
    "pure_text = [w.lower() for w in text if w.isalpha()]"
   ]
  },
  {
   "cell_type": "code",
   "execution_count": 127,
   "metadata": {
    "collapsed": false
   },
   "outputs": [],
   "source": [
    "bigram_measures = nltk.collocations.BigramAssocMeasures()\n",
    "finder = nltk.collocations.BigramCollocationFinder.from_words(pure_text)"
   ]
  },
  {
   "cell_type": "code",
   "execution_count": 128,
   "metadata": {
    "collapsed": true
   },
   "outputs": [],
   "source": [
    "finder.apply_freq_filter(10)"
   ]
  },
  {
   "cell_type": "code",
   "execution_count": 129,
   "metadata": {
    "collapsed": false
   },
   "outputs": [
    {
     "data": {
      "text/plain": [
       "[('o', 'u'),\n",
       " ('united', 'states'),\n",
       " ('arkady', 'ivanovitch'),\n",
       " ('literary', 'archive'),\n",
       " ('andrey', 'semyonovitch'),\n",
       " ('nikodim', 'fomitch'),\n",
       " ('archive', 'foundation'),\n",
       " ('hay', 'market'),\n",
       " ('dmitri', 'prokofitch'),\n",
       " ('gutenberg', 'literary'),\n",
       " ('electronic', 'works'),\n",
       " ('honoured', 'sir'),\n",
       " ('sofya', 'semyonovna'),\n",
       " ('marfa', 'petrovna'),\n",
       " ('police', 'station'),\n",
       " ('project', 'gutenberg'),\n",
       " ('fresh', 'air'),\n",
       " ('rodion', 'romanovitch'),\n",
       " ('avdotya', 'romanovna'),\n",
       " ('twenty', 'copecks'),\n",
       " ('pulcheria', 'alexandrovna'),\n",
       " ('project', 'electronic'),\n",
       " ('several', 'times'),\n",
       " ('stopped', 'short'),\n",
       " ('police', 'office'),\n",
       " ('thank', 'god'),\n",
       " ('great', 'deal'),\n",
       " ('ten', 'minutes'),\n",
       " ('five', 'minutes'),\n",
       " ('wide', 'open')]"
      ]
     },
     "execution_count": 129,
     "metadata": {},
     "output_type": "execute_result"
    }
   ],
   "source": [
    "finder.nbest(bigram_measures.pmi, 30)"
   ]
  },
  {
   "cell_type": "code",
   "execution_count": 130,
   "metadata": {
    "collapsed": false
   },
   "outputs": [
    {
     "data": {
      "text/plain": [
       "[('in', 'the'),\n",
       " ('i', 'am'),\n",
       " ('he', 'had'),\n",
       " ('he', 'was'),\n",
       " ('on', 'the'),\n",
       " ('of', 'the'),\n",
       " ('it', 'was'),\n",
       " ('at', 'the'),\n",
       " ('you', 'are'),\n",
       " ('do', 'you'),\n",
       " ('to', 'be'),\n",
       " ('did', 'not'),\n",
       " ('at', 'once'),\n",
       " ('as', 'though'),\n",
       " ('katerina', 'ivanovna'),\n",
       " ('that', 'he'),\n",
       " ('with', 'a'),\n",
       " ('there', 'was'),\n",
       " ('in', 'a'),\n",
       " ('i', 'have'),\n",
       " ('to', 'the'),\n",
       " ('had', 'been'),\n",
       " ('out', 'of'),\n",
       " ('from', 'the'),\n",
       " ('pyotr', 'petrovitch'),\n",
       " ('could', 'not'),\n",
       " ('you', 'know'),\n",
       " ('the', 'door'),\n",
       " ('she', 'was'),\n",
       " ('the', 'same')]"
      ]
     },
     "execution_count": 130,
     "metadata": {},
     "output_type": "execute_result"
    }
   ],
   "source": [
    "finder.nbest(bigram_measures.student_t, 30)"
   ]
  },
  {
   "cell_type": "code",
   "execution_count": 131,
   "metadata": {
    "collapsed": false
   },
   "outputs": [
    {
     "data": {
      "text/plain": [
       "[('avdotya', 'romanovna'),\n",
       " ('nikodim', 'fomitch'),\n",
       " ('o', 'u'),\n",
       " ('pulcheria', 'alexandrovna'),\n",
       " ('marfa', 'petrovna'),\n",
       " ('sofya', 'semyonovna'),\n",
       " ('rodion', 'romanovitch'),\n",
       " ('andrey', 'semyonovitch'),\n",
       " ('katerina', 'ivanovna'),\n",
       " ('united', 'states'),\n",
       " ('literary', 'archive'),\n",
       " ('hay', 'market'),\n",
       " ('arkady', 'ivanovitch'),\n",
       " ('pyotr', 'petrovitch'),\n",
       " ('dmitri', 'prokofitch'),\n",
       " ('archive', 'foundation'),\n",
       " ('project', 'gutenberg'),\n",
       " ('electronic', 'works'),\n",
       " ('gutenberg', 'literary'),\n",
       " ('great', 'deal'),\n",
       " ('honoured', 'sir'),\n",
       " ('police', 'station'),\n",
       " ('old', 'woman'),\n",
       " ('amalia', 'ivanovna'),\n",
       " ('project', 'electronic'),\n",
       " ('ilya', 'petrovitch'),\n",
       " ('fresh', 'air'),\n",
       " ('porfiry', 'petrovitch'),\n",
       " ('good', 'heavens'),\n",
       " ('sat', 'down')]"
      ]
     },
     "execution_count": 131,
     "metadata": {},
     "output_type": "execute_result"
    }
   ],
   "source": [
    "finder.nbest(bigram_measures.chi_sq, 30)"
   ]
  },
  {
   "cell_type": "code",
   "execution_count": 132,
   "metadata": {
    "collapsed": false
   },
   "outputs": [
    {
     "data": {
      "text/plain": [
       "[('i', 'am'),\n",
       " ('katerina', 'ivanovna'),\n",
       " ('pyotr', 'petrovitch'),\n",
       " ('pulcheria', 'alexandrovna'),\n",
       " ('avdotya', 'romanovna'),\n",
       " ('he', 'had'),\n",
       " ('at', 'once'),\n",
       " ('in', 'the'),\n",
       " ('as', 'though'),\n",
       " ('did', 'not'),\n",
       " ('you', 'are'),\n",
       " ('rodion', 'romanovitch'),\n",
       " ('on', 'the'),\n",
       " ('marfa', 'petrovna'),\n",
       " ('do', 'you'),\n",
       " ('he', 'was'),\n",
       " ('of', 'course'),\n",
       " ('sofya', 'semyonovna'),\n",
       " ('it', 'was'),\n",
       " ('the', 'same'),\n",
       " ('had', 'been'),\n",
       " ('old', 'woman'),\n",
       " ('could', 'not'),\n",
       " ('the', 'door'),\n",
       " ('to', 'be'),\n",
       " ('at', 'the'),\n",
       " ('there', 'was'),\n",
       " ('of', 'the'),\n",
       " ('porfiry', 'petrovitch'),\n",
       " ('you', 'know')]"
      ]
     },
     "execution_count": 132,
     "metadata": {},
     "output_type": "execute_result"
    }
   ],
   "source": [
    "finder.nbest(bigram_measures.likelihood_ratio, 30)"
   ]
  },
  {
   "cell_type": "markdown",
   "metadata": {},
   "source": [
    "## HTML reading"
   ]
  },
  {
   "cell_type": "code",
   "execution_count": 141,
   "metadata": {
    "collapsed": false
   },
   "outputs": [
    {
     "data": {
      "text/plain": [
       "'<!DOCTYPE html>\\n<html>\\n<head itemscope itemtype=\"http://sche'"
      ]
     },
     "execution_count": 141,
     "metadata": {},
     "output_type": "execute_result"
    }
   ],
   "source": [
    "url = \"http://www.space.com/16159-first-man-in-space.html\"\n",
    "html = request.urlopen(url).read().decode('utf8')\n",
    "html[:60]"
   ]
  },
  {
   "cell_type": "code",
   "execution_count": 144,
   "metadata": {
    "collapsed": false
   },
   "outputs": [
    {
     "name": "stdout",
     "output_type": "stream",
     "text": [
      "\n",
      "\n",
      "\n",
      "\n",
      "\n",
      "\n",
      "Yuri Gagarin: First Man in Space\n",
      "\n",
      "\n",
      "\n",
      "\n",
      "\n",
      "\n",
      "\n",
      "\n",
      "            var image_server = 'http://www.space.com';\n",
      "        \n",
      "\n",
      "\n",
      "\n",
      "        var jqueryUrl = 'http://www.space.com/resources/js/jquery.min.js?efd4e28';\n",
      "    \n",
      "\n",
      "\n",
      "\n",
      "\n",
      "\n",
      "\n",
      "\n",
      "\n",
      "\n",
      "\n",
      "\n",
      "\n",
      "\n",
      "\n",
      "\n",
      "\n",
      "\n",
      "\n",
      "\n",
      "\n",
      "\n",
      "\n",
      "    var om_info = { 'env' : 'production', 'site' :'space', 'suite' : 'ttrglobalproduction', \"display_name\": \"Space\" };\n",
      "\n",
      "\n",
      "\n",
      "<!--\n",
      "/* You may give each page an identifying name, server, and channel on\n",
      "the next lines. */\n",
      "            s.pageName = \"sdc:spaceflight:reference:16159\";\n",
      "                s.channel = \"spaceflight\";\n",
      "                s.prop2 = \"sdc\";\n",
      "                s.prop4 = \"reference\";\n",
      "                s.prop5 = \"yuri gagarin: first man in space\";\n",
      "                s.prop6 = \"sdc-16159\";\n",
      "    \n",
      "    \n",
      " /* Hierarchy Variables */\n",
      "s.hier1=\"\";\n",
      "s.eVar15=s.prop15;\n",
      "s.eVar16=s.prop16;\n",
      "s.eVar17=s.prop17;\n",
      "s.eVar18=s.prop18;\n",
      "\n",
      "/************* DO NOT ALTER ANYTHING BELOW THIS LINE ! **************/\n",
      "var s_code=s.t();if(s_code)document.write(s_code)//-->\n",
      "<!--\n",
      "if(navigator.appVersion.indexOf('MSIE')>=0)document.write(unescape('%3C')+'\\!-'+'-')\n",
      "//-->\n",
      "\n",
      "\n",
      "    var pageAccount = '/10518929/tmn.sdc';\n",
      "    var pageAdZone = '/reference/spaceflight';\n",
      "    var siteName = 'tmn.sdc';\n",
      "    var ccat = 'spaceflight';\n",
      "    var ctype = 'reference';\n",
      "    var keywords = [\"\"];\n",
      "\n",
      "\n",
      "\n",
      "\n",
      "    if (typeof tmntag != 'undefined') {\n",
      "        if (document.location.hash.indexOf('#xtor=') != -1) tmntag.target(\n",
      "                {'xtor': document.location.hash.substr((document.location.hash.indexOf('#xtor=') + 6), document.location.hash.length)}\n",
      "        );\n",
      "\n",
      "                \t\t\t\t\n",
      "\t\t\t\t\t\t\t\ttmntag.placement('2520');\n",
      "\t\t\t\t\n",
      "        tmntag.target({\"kw\": keywords, \"site\": siteName, \"ctype\": ctype, \"ccat1\": ccat, \"partner\": \"n\"});\n",
      "        tmntag.account(pageAdZone);\n",
      "        tmntag.start();\n",
      "    }\n",
      "\n",
      "\n",
      "\n",
      "    var _gaq = _gaq || [];\n",
      "\n",
      "                _gaq.push(['_setAccount', 'UA-11681412-1'],\n",
      "            ['_setDomainName', 'space.com'],\n",
      "            ['_setCustomVar', 1, 'Section', 'home', 3],\n",
      "            ['_trackPageview']);\n",
      "        \n",
      "    (function() {\n",
      "        var ga = document.createElement('script'); ga.type = 'text/javascript'; ga.async = true;\n",
      "        ga.src = ('https:' == document.location.protocol ? 'https://ssl' : 'http://www') + '.google-analytics.com/ga.js';\n",
      "        var s = document.getElementsByTagName('script')[0]; s.parentNode.insertBefore(ga, s);\n",
      "    })();\n",
      "\n",
      "\n",
      "\n",
      "\n",
      "\n",
      "\n",
      "if (typeof tmntag != 'undefined') tmntag.adTag('out-of-page');\n",
      "\n",
      "\n",
      "\n",
      "\n",
      "\n",
      "\n",
      "\n",
      "\n",
      "\n",
      "\n",
      "\n",
      "\n",
      "\n",
      "tech\n",
      "spaceflight\n",
      "science & astronomy\n",
      "search for life\n",
      "skywatching\n",
      "entertainment\n",
      "video\n",
      "shop\n",
      "\n",
      "\n",
      "\n",
      "\n",
      "\n",
      "\n",
      "\n",
      "\n",
      "\n",
      "\n",
      "\n",
      "if (typeof tmntag != 'undefined') tmntag.adTag('header_leaderboard', false);\n",
      "\n",
      "\n",
      "\n",
      "\n",
      "\n",
      "\n",
      "\n",
      "\n",
      "\n",
      "\n",
      "\n",
      "\n",
      "\n",
      "\n",
      "\n",
      "\n",
      "\n",
      "\n",
      "\n",
      "\n",
      "\n",
      "\n",
      "tech\n",
      "spaceflight\n",
      "science & astronomy\n",
      "search for life\n",
      "skywatching\n",
      "entertainment\n",
      "video\n",
      "shop\n",
      "\n",
      "\n",
      "\n",
      "\n",
      "\n",
      "\n",
      "\n",
      "\n",
      "\n",
      "\n",
      "\n",
      "\n",
      "tech\n",
      "spaceflight\n",
      "science & astronomy\n",
      "search for life\n",
      "skywatching\n",
      "entertainment\n",
      "video\n",
      "shop\n",
      "\n",
      "\n",
      "\n",
      "\n",
      "\n",
      "\n",
      "\n",
      "\n",
      "\n",
      "\n",
      "\n",
      "\n",
      "\n",
      "\n",
      "\n",
      "\n",
      "\n",
      "\n",
      "\n",
      "\n",
      "\n",
      "\n",
      "\n",
      "\n",
      "Reference:\n",
      "Yuri Gagarin: First Man in Space | The Greatest Moments in Flight\n",
      "\n",
      "                    By Nola Taylor Redd, Space.com Contributor |\n",
      "\n",
      "                     July 24, 2012 02:00pm ET\n",
      "\n",
      "\n",
      "\n",
      "\n",
      "\n",
      "\n",
      "\n",
      "\n",
      "\n",
      "\n",
      "\n",
      "\n",
      "\n",
      "\n",
      "\n",
      "\n",
      "\n",
      "\n",
      "\n",
      "\n",
      "\n",
      "MORE\n",
      "\n",
      "\n",
      "\n",
      "    stLight.options({publisher: \"44826d50-86b3-4690-b68d-df4ee65d1526\", doNotHash: false, doNotCopy: false, hashAddressBar: false, nativeCount:true, onhover:false});\n",
      "    \n",
      "    //sharePage = \"http://www.space.com/16159-first-man-in-space.html\";\n",
      "    //test url \n",
      "    sharePage = 'http://www.space.com/16159-first-man-in-space.html';\n",
      "    \n",
      "    stButtons.getCount(sharePage, \"facebook\", document.getElementById('fbCount'));\n",
      "    stButtons.getCount(sharePage, \"twitter\", document.getElementById('twtrCount'));\n",
      "    stButtons.getCount(sharePage, \"googleplus\", document.getElementById('gPlusCount'));\n",
      "    stButtons.getCount(sharePage, \"stumbleupon\", document.getElementById('stumbleCount'));\n",
      "    stButtons.getCount(sharePage, \"reddit\", document.getElementById('redditCount'));\n",
      "\n",
      "\n",
      "\n",
      "\n",
      "\n",
      "\n",
      "\n",
      "\n",
      "\n",
      "\n",
      "\n",
      "\n",
      "On 12 April 1961, Russian cosmonaut Yuri Gagarin became the first human to travel into space when he launched into orbit on the Vostok 3KA-3 spacecraft (Vostok 1).\n",
      "Credit: ESA \n",
      "\n",
      "\n",
      "\n",
      "This is part of a SPACE.com series of articles on the Greatest Moments in Flight, the breakthrough events that paved the way for human spaceflight and its next steps: asteroid mining and bases on the moon and Mars.\n",
      "\r\n",
      "\tThe United States and the Soviet Union vigorously competed to push the boundaries of mankind's exploration of space. The Russians scored a victory when they launched a small craft carrying cosmonaut Yuri Gagarin to new heights. His 108-minute flight gave him a permanent place in the history books as the first man in space.\n",
      "\n",
      "The race to the stars\n",
      "\r\n",
      "\tWith the 1957 launch of Sputnik 1, the world's first manmade satellite, the Russians took an early lead in the space race. The next step was to send a human off the planet.\n",
      "\r\n",
      "\tThe American plan to send a man into space by 1961 created a deadline that the Russian team worked hard to beat. The development of the Vostok spacecraft became paramount. Prior to Gagarin’s historic flight, the Soviets sent a prototype of his spaceship, along with a life-size dummy called Ivan Ivanovich and a dog called Zvezdochka. With these successes, the vessel was considered ready to take a living, breathing human into space. [INFOGRAPHIC: How the First Human Spaceflight Worked]\n",
      "\n",
      "The right stuff\n",
      "\r\n",
      "\tMore than 200 Russian Air Force fighter pilots were selected as cosmonaut candidates. Such pilots were considered optimum because they had exposure to the forces of acceleration and the ejection process, as well as experience with high-stress situations. Among the pilots was 27-year-old Senior Lieutenant Yuri Alexeyevich Gagarin.\n",
      "\r\n",
      "\tThe third of four children, Gagarin was born on March 9, 1934, in a small village a hundred miles from Moscow. As a teenager, Gagarin witnessed a Russian Yak fighter plane make an emergency landing near his home. When offered a chance years later to join a flying club, he eagerly accepted, making his first solo flight in 1955. Only a few years later, he submitted his request to be considered as a cosmonaut. [PHOTOS: Yuri Gagarin & 50 Years of Human Spaceflight]\n",
      "\n",
      "First in (space) flight\n",
      "\r\n",
      "\tOn April 12, 1961, at 9:07 a.m. Moscow time, the Vostok 1 spacecraft blasted off from the Soviets' launch site. Because no one was certain how weightlessness would affect a pilot, the spherical capsule had little in the way of onboard controls; the work was done either automatically or from the ground. If an emergency arose, Gagarin was supposed to receive an override code that would allow him to take manual control, but Sergei Korolov, chief designer of the Soviet space program, disregarded protocol and gave it to the pilot prior to the flight.\n",
      "\r\n",
      "\tOver the course of 108 minutes, Vostok 1 traveled around the Earth once, reaching a maximum height of 203 miles (327 kilometers). Over Africa, the engines fired to bring Gagarin back to Earth. The craft carried ten days worth of provisions in case the engines failed and Gagarin was required to wait for the orbit to naturally decay, but they were unnecessary. Gagarin re-entered Earth's atmosphere, experiencing forces up to eight times the pull of gravity, but remained consciousness.\n",
      "\r\n",
      "\tVostok 1 had no engines to slow its re-entry or a way to land safely. About four miles up (seven kilometers), Gagarin ejected and parachuted to Earth. In order for the mission to be counted as an official spaceflight, the Fédération Aéronautique Internationale (FAI), the governing body for aerospace records, had determined that the pilot must land with the spacecraft. Soviet leaders indicated that Gagarin had touched down with the Vostok 1, and did not reveal that he had ejected until 1971. Regardless, Gagarin still set the record as the first man to leave Earth's orbit and travel into space. [Milestones in Human Spaceflight: Pictures]\n",
      "\n",
      "After the mission\n",
      "\r\n",
      "\tUpon his return to Earth, Gagarin was an international hero. He was cheered in Red Square by a crowd of hundreds of thousands. A national treasure, he traveled around the world to celebrate the historical Soviet achievement.\n",
      "\r\n",
      "\tOn returning home, he became a deputy of the Supreme Soviet and was appointed Commander of the Cosmonauts' Detachment. Because Russia did not want to risk such a public figure, they were hesitant to allow him back into space. He continued to make test flights for the Air Force, however.\n",
      "\r\n",
      "\tOn March 27, 1968, Gagarin was killed in while test-piloting a MiG-15. He was survived by his wife, Valentina Ivanovna Goryacheva, and two daughters.\n",
      "\r\n",
      "\tWhen Apollo 11 touched down on the moon in July 1969, the crew left behind a commemorative medallion bearing Gagarin’s name, as well as medallions for another cosmonaut and three Apollo astronauts who lost their lives in accidents.\n",
      "\n",
      "First Americans in space\n",
      "\n",
      "\n",
      "\n",
      "\n",
      "\n",
      "\n",
      "\n",
      "\n",
      "Alan Shepard flew in space on May 5, 1961, the first American to do so. He launched aboard a Mercury-Redstone 3 rocket named Freedom 7. The suborbital flight lasted 15 minutes.\n",
      "Credit: NASA \n",
      "\n",
      "\n",
      "\n",
      "Alan Shepard was the first American in space and the second person in space, launching on a suborbital flight in a Mercury capsule called Freedom 7 on May 5, 1961 — just three weeks after Gagarin's flight. [Pictures of the First American in Space]\n",
      "\r\n",
      "\tShepard is said to have been frustrated that the United States did not win the race. The Soviet victory could have been prevented, Shepard reportedly felt, had NASA not delayed his mission multiple times for tests.\n",
      "\r\n",
      "\t\"I think he was a little bit frustrated with NASA for, in his mind, being a little bit overly cautious,\" according to Neal Thompson, author of \"Light This Candle: The Life and Times of Alan Shepard\" (Three Rivers Press, 2005). \"He was a little bit pissed off that they delayed it so much that the Russians were able to get up there first.\"\n",
      "\n",
      "John Glenn was the first American in orbit, launching in the Friendship 7 Mercury capsule on Feb. 20, 1962. Glenn orbited Earth three times during the flight, which took place 10 months after Gagarin’s mission. [Pictures of the First American in Orbit]\n",
      "\r\n",
      "\tThe first woman in space was Valentina Tereshkova, a Soviet cosmonaut who flew the Vostok 6 mission on June 16, 1963.\n",
      "\r\n",
      "\tThe first American woman in space was Sally Ride, who was a mission specialist aboard the Space Shuttle Challenger on flight STS-7 on June 18, 1983.\n",
      "\n",
      "—Nola Taylor Redd & Robert Roy Britt\n",
      "\n",
      "Related:\n",
      "\n",
      "The Greatest Moments in Flight\n",
      "\n",
      "\n",
      "The First Hot-Air Balloon\n",
      "\n",
      "The First Powered Airship\n",
      "\n",
      "The Wright Brothers & the First Flight\n",
      "\n",
      "World's First Commercial Airline\n",
      "\n",
      "Charles Lindbergh & the First Solo Transatlantic Flight\n",
      "\n",
      "Breaking the Sound Barrier\n",
      "\n",
      "\n",
      "The Most Amazing Flying Machines Ever\n",
      "\n",
      "\n",
      "The First Airplane: Wright Flyer\n",
      "\n",
      "The Red Baron & Aerial Weapons of World War I\n",
      "\n",
      "The Zeppelin Hindenburg: When Airships Ruled\n",
      "\n",
      "The First Fighter Jet: Me 262 Schwalbe\n",
      "\n",
      "SR-71 Blackbird: Supersonic Spy Aircraft\n",
      "\n",
      "Saturn V Rocket & Apollo Spacecraft\n",
      "\n",
      "Space Shuttle: The First Reusable Spacecraft\n",
      "\n",
      "\n",
      "Image galleries:\n",
      "\n",
      "\n",
      "Breaking the Sound Barrier\n",
      "\n",
      "Airplanes of Tomorrow, NASA's Vision of Future Air Travel\n",
      "\n",
      "Amazing X-Planes from the X-1 to XV-15\n",
      "\n",
      "\n",
      "\n",
      "\n",
      "if (typeof tmntag != 'undefined') tmntag.adTag('below_article', false);\n",
      "\n",
      "\n",
      "\n",
      "\n",
      "More from Space.com\n",
      "\n",
      "\n",
      "\n",
      "\n",
      "\n",
      "Air Force Says DMSP-19 Weather Satellite Is 'About Dead'\n",
      "\n",
      "\n",
      "\n",
      "\n",
      "\n",
      "\n",
      "\n",
      "'Flight, We Are Docked!' Gemini 8 Achieved 1st Space Docking 50 Years Ago\n",
      "\n",
      "\n",
      "\n",
      "\n",
      "\n",
      "\n",
      "\n",
      "Mars Radiation Risk: How Would 'The Martian' Hero Fare?\n",
      "\n",
      "\n",
      "\n",
      "\n",
      "\n",
      "\n",
      "\n",
      "Photos: Dwarf Planet Ceres, the Solar System's Largest Asteroid\n",
      "\n",
      "\n",
      "\n",
      "\n",
      "\n",
      "\n",
      "\n",
      "Is Iran Preparing for a Satellite Launch? (Video)\n",
      "\n",
      "\n",
      "\n",
      "\n",
      "\n",
      "\n",
      "\n",
      "'Year of Yuri Gagarin' Logo Added to Rocket Launching Next Space Station Crew\n",
      "\n",
      "\n",
      "\n",
      "\n",
      "\n",
      "\n",
      "\n",
      "SPACE NEWS WEBCASTS: Space Station Supply Mission Science Briefing\n",
      "\n",
      "\n",
      "\n",
      "\n",
      "\n",
      "\n",
      "\n",
      "Iran Space Launch Center Activated? | Video\n",
      "\n",
      "\n",
      "\n",
      "\n",
      "\n",
      "\n",
      "Author Bio \n",
      "\n",
      "\n",
      "\n",
      "Nola Taylor Redd, Space.com Contributor\n",
      "\n",
      "\r\n",
      "\tNola Taylor Redd is a contributing writer for Space.com. She loves all things space and astronomy-related, and enjoys the opportunity to learn more. She has a Bachelor’s degree in English and Astrophysics from Agnes Scott college and served as an intern at Sky & Telescope magazine. In her free time, she homeschools her four children. Follow her on Twitter at @NolaTRedd\n",
      "\n",
      "\n",
      "Nola Taylor Redd, Space.com Contributor\n",
      "                                            on\n",
      "                        \n",
      "                                                    \n",
      "\n",
      "\n",
      "\n",
      "\n",
      "\n",
      " \n",
      "\n",
      "\n",
      "\n",
      "\n",
      "if (typeof tmntag != 'undefined') tmntag.adTag('rightcol_top', false);\n",
      "\n",
      "\n",
      "Latest on Yuri Gagarin: First Man in Space\n",
      "\n",
      "\n",
      "\n",
      "\n",
      "\n",
      "if (typeof tmntag != 'undefined') tmntag.adTag('rightcol_mid', false);\n",
      "\n",
      "\n",
      "\n",
      "if (typeof tmntag != 'undefined') tmntag.adTag('rightcol_bottom', false);\n",
      "\n",
      "\n",
      "\n",
      "\n",
      "\n",
      "\n",
      "\n",
      "\n",
      "HomeAbout Us\n",
      "\n",
      "\n",
      "Company\n",
      "\n",
      "Company Info\n",
      "About Us\n",
      "Contact Us\n",
      "Advertise with Us\n",
      "Using Our Content\n",
      "Licensing & Reprints\n",
      "Terms of Use and Sale\n",
      "Copyright Policy\n",
      "Privacy Policy\n",
      "\n",
      "\n",
      "\n",
      "Network\n",
      "\n",
      "Top Ten Reviews\n",
      "Tom's Guide\n",
      "Laptop Mag\n",
      "Tom's Hardware\n",
      "Business News Daily\n",
      "Tom's IT Pro\n",
      "Space.com\n",
      "Live Science\n",
      "Active Junky\n",
      "ShopSavvy\n",
      "AnandTech\n",
      "\n",
      "\n",
      "\n",
      "\n",
      "\n",
      "FOLLOW US\n",
      "\n",
      "\n",
      "\n",
      "\n",
      "\n",
      "\n",
      "\n",
      "\n",
      "\n",
      "\n",
      "SUBSCRIBE TO SPACE\n",
      "\n",
      "\n",
      "SUBMIT\n",
      "\n",
      "\n",
      "\n",
      "\n",
      "\n",
      "\n",
      "Copyright ©\n",
      "\t\t\t\t\t\t\t\t\tdocument.write(new Date().getFullYear());\n",
      "\t\t\t\t\t\t\t\t\tAll Rights Reserved.\n",
      "\t\t\t\t\t\t\t\n",
      "\n",
      "\n",
      "\n",
      "if (typeof tmntag != 'undefined') tmntag.adTag('in-article-1', false);\n",
      "if (typeof tmntag != 'undefined') tmntag.adTag('m-in-article-1', false);\n",
      "if (typeof tmntag != 'undefined') tmntag.adTag('m-in-article-2', false);\n",
      "if (typeof tmntag != 'undefined') tmntag.adTag('m-in-article-3', false);\n",
      "if (typeof tmntag != 'undefined') tmntag.adTag('mobile-anchor');\n",
      "if (typeof tmntag != 'undefined') tmntag.adTag('interstitial');\n",
      "\n",
      "\n",
      "        var Purch = Purch || {};\n",
      "                requirejs.config({\n",
      "            baseUrl: '/bundles/purchcommon/js',\n",
      "            urlArgs: 'v=2016-03-17-11',\n",
      "            paths:   {\n",
      "                jquery: jqueryUrl\n",
      "            }\n",
      "        });\n",
      "\n",
      "        \n",
      "        require(['Purch/UI/Zoom'], function (Zoom) {\n",
      "            Zoom.initModule({targets: '.magnify-wrapper img[big-src]', closeOnScroll: false});\n",
      "        });\n",
      "    \n",
      "\n",
      "\n",
      "\n",
      "\n",
      "(function(w,d,s,l,i){w[l]=w[l]||[];w[l].push({'gtm.start':\n",
      "new Date().getTime(),event:'gtm.js'});var f=d.getElementsByTagName(s)[0],\n",
      "j=d.createElement(s),dl=l!='dataLayer'?'&l='+l:'';j.async=true;j.src=\n",
      "'//www.googletagmanager.com/gtm.js?id='+i+dl;f.parentNode.insertBefore(j,f);\n",
      "})(window,document,'script','dataLayer','GTM-MTRGH3');\n",
      "\n",
      "\n",
      "\n",
      "\n",
      "\n",
      "\n",
      "    (function(s, p, d) {\n",
      "        var h=d.location.protocol, i=p+\"-\"+s,\n",
      "                e=d.getElementById(i), r=d.getElementById(p+\"-root\"),\n",
      "                u=h===\"https:\"?\"d1z2jf7jlzjs58.cloudfront.net\"\n",
      "                        :\"static.\"+p+\".com\";\n",
      "        if (e) return;\n",
      "        e = d.createElement(s); e.id = i; e.async = true;\n",
      "        e.src = h+\"//\"+u+\"/p.js\"; r.appendChild(e);\n",
      "    })(\"script\", \"parsely\", document);\n",
      "\n",
      "\n",
      "\n",
      "\n",
      "    _bizo_data_partner_id = \"1319\";\n",
      "\n",
      "\n",
      "    (function() {\n",
      "        var s = document.getElementsByTagName(\"script\")[0];\n",
      "        var b = document.createElement(\"script\");\n",
      "        b.type = \"text/javascript\";\n",
      "        b.async = true;\n",
      "        b.src = (window.location.protocol === \"https:\" ? \"https://sjs\" : \"http://js\") + \".bizographics.com/insight.min.js\";\n",
      "        s.parentNode.insertBefore(b, s);\n",
      "    })();\n",
      "\n",
      "\n",
      "\n",
      "\n",
      "\n",
      "\n",
      "\n",
      "\n",
      "            var tmnramp = {\"id\":\"4567541814462446\",\"server\":\"us-east1-rtb-adserver3\",\"ip\":\"188.44.42.210\",\"page\":\"http:\\/\\/www.space.com\\/16159-first-man-in-space.html\",\"placement\":\"2520\",\"geo\":{\"dma\":0,\"ctr\":\"RU\",\"stt\":\"48\",\"ct\":\"Moscow\",\"ac\":0,\"tz\":\"Europe\\/Moscow\"},\"categories\":[\"i211\",\"p27\",\"i261\"],\"ts\":1458229557081,\"user_agent\":{\"device\":\"UNKNOWN\",\"os\":\"Unknown\",\"browser\":\"Unknown\"},\"page_id\":\"73b1938b\"};\n",
      "            /* RAAS JS Renderer 1.1 */\r\n",
      "!function(t){function e(){if(!o){o=!0;for(var t=0;t<a.length;t++)a[t].fn.call(window,a[t].ctx);a=[]}}function n(){\"complete\"===document.readyState&&e()}baseObj=window;var a=[],o=!1,d=!1;baseObj[t]=function(t,c){return o?void setTimeout(function(){t(c)},1):(a.push({fn:t,ctx:c}),void(\"complete\"===document.readyState||!document.attachEvent&&\"interactive\"===document.readyState?setTimeout(e,1):d||(document.addEventListener?(document.addEventListener(\"DOMContentLoaded\",e,!1),window.addEventListener(\"load\",e,!1)):(document.attachEvent(\"onreadystatechange\",n),window.attachEvent(\"onload\",e)),d=!0)))}}(\"tmntag_ready_2\");\r\n",
      "var tmntag_raascallback = function() {\r\n",
      "   var p = ('https:'==document.location.protocol)?'https://':'http://';\r\n",
      "   var s = document.getElementsByTagName('script');\r\n",
      "   for (var i=0; s && i<s.length; i++) {\r\n",
      "      if (s[i].src.indexOf('tmnhead.js')>0 && (typeof tmntagCache==='undefined' || typeof googletag==='undefined' || typeof TMNTAG_READY==='undefined')) {\r\n",
      "    \t var rnd = Math.floor(Math.random() * 11000);\r\n",
      "         var e   = document.createElement('script');\r\n",
      "         e.type  = 'text/javascript';\r\n",
      "         e.src = p+'ramp.purch.com/event.js?t=AB&id=0&bid=&cp=0&bdrid=&crid=&ad=&r='+rnd+'l='+encodeURIComponent(window.top.document.location.href);\r\n",
      "         var scripts = document.getElementsByTagName('script')[0];\r\n",
      "         if (scripts) scripts.parentNode.insertBefore(e, scripts);\r\n",
      "         if (typeof tmnramp!='undefined') {\r\n",
      "        \t window.top.tmntag_redirect = function(doc, url, macro, anchorId) {\r\n",
      "    \t\t\tvar rnd = Math.floor(Math.random() * 11000);\r\n",
      "    \t\t\tvar tr = p+'ramp.purch.com/event.js?t=CL&id='+((top.window.requestid)?top.window.requestid:0)+'&cp=__CP__&bdrid=__BDRID__&crid=__CRID__&ad=__AD__&r='+rnd;\r\n",
      "    \t\t\tif (macro) for (var k in macro) {\r\n",
      "    \t\t\t\tif (macro.hasOwnProperty(k)) {\r\n",
      "    \t\t\t\t\ttr = tr.replace(k, macro[k]);\r\n",
      "    \t\t\t\t\turl = url.replace(k, macro[k]);\r\n",
      "    \t\t\t    }\r\n",
      "    \t\t    }\r\n",
      "    \t\t\tvar a = doc.getElementById(anchorId);\r\n",
      "    \t\t\tif (a) a.href=url;\r\n",
      "    \t\t\tvar s = document.createElement('script');\r\n",
      "    \t\t\ts.type = 'text/javascript';\r\n",
      "    \t\t    s.src = tr;\r\n",
      "    \t\t    var r = document.getElementsByTagName('script')[0];\r\n",
      "    \t\t    if (r) r.parentNode.insertBefore(s, r);\r\n",
      "    \t\t\treturn true;\r\n",
      "    \t\t};\r\n",
      "            if(tmnramp.creatives) {\r\n",
      "\t\t\t\tfor (var i in tmnramp.creatives) {\r\n",
      "\t\t\t\t\tvar markupinfo = tmnramp.creatives[i];\r\n",
      "\t\t\t\t\tif (markupinfo && markupinfo.div && markupinfo.markup) {\r\n",
      "\t\t\t\t\t\tvar markup = markupinfo.markup.replace(/\\\\n|\\\\r/g, '');\r\n",
      "\t\t\t\t\t\tmarkup = markup.replace(/\\\\/g, '');\r\n",
      "\t\t\t\t\t\tvar div = markupinfo.div;\r\n",
      "\t\t\t\t\t\tvar e = document.getElementById(div);\r\n",
      "\t\t\t\t\t\tif (!e) continue;\r\n",
      "\t\t\t\t\t\tif (markupinfo['iframe']) {\r\n",
      "\t\t\t\t\t\t\tvar iframe = document.createElement(\"iframe\");\r\n",
      "\t\t\t\t\t\t\tiframe.frameBorder=0;\r\n",
      "\t\t\t\t\t\t\tiframe.name=markupinfo.campaign_id+\"/\"+markupinfo.creative_id;\r\n",
      "\t\t\t\t\t\t\tiframe.scrolling=\"no\";\r\n",
      "\t\t\t\t\t\t\tiframe.marginwidth=0;\r\n",
      "\t\t\t\t\t\t\tiframe.marginheight=0;\r\n",
      "\t\t\t\t\t\t\tiframe.style.width=(markupinfo.width || 0)+\"px\";\r\n",
      "\t\t\t\t\t\t\tiframe.style.height=(markupinfo.height || 0)+\"px\";\r\n",
      "\t\t\t\t\t\t\tiframe.style.border=\"0pt none\";\r\n",
      "\t\t\t\t\t\t\tiframe.style.margin=\"0px 0 0\";\r\n",
      "\t\t\t\t\t\t\tiframe.width = markupinfo.width || 0;\r\n",
      "\t\t\t\t\t\t\tiframe.height = markupinfo.height || 0;\r\n",
      "\t\t\t\t\t\t\te.appendChild(iframe);\r\n",
      "\t\t\t\t\t\t\tvar content = '<!DOCTYPE ht'+'ml><bo'+'dy marginheight=\"0\" marginwidth=\"0\">'+markup+'</bo'+'dy></ht'+'ml>';\r\n",
      "\t\t\t\t\t\t\tiframe.contentWindow.contents = content;\r\n",
      "\t\t\t\t\t\t\tiframe.src = 'javascript:window[\"contents\"]';\r\n",
      "\t\t\t\t\t\t} else {\r\n",
      "\t\t\t\t\t\t\tvar rnd = Math.floor(Math.random() * 11000);\r\n",
      "\t\t\t\t\t\t\te.id = div+rnd;\r\n",
      "\t\t\t\t\t\t\te.innerHTML = markup;\r\n",
      "\t\t\t\t\t\t}\r\n",
      "\t\t\t\t\t}\r\n",
      "\t\t\t\t}\r\n",
      "            }\r\n",
      "    \t}\r\n",
      "        break;\r\n",
      "      }\r\n",
      "   }\r\n",
      "   if (typeof tmnramp!='undefined' && tmnramp.pixels) {\r\n",
      "      for (var i in tmnramp.pixels) {\r\n",
      "         var pixel = tmnramp.pixels[i];\r\n",
      "         if (pixel && !pixel.donotrender && pixel.content && !pixel.onready) {\r\n",
      "            eval(pixel.content);\r\n",
      "         }\r\n",
      "      }\r\n",
      "   }\r\n",
      "}\r\n",
      "function tmntag_raascallback_0() {\r\n",
      "\tsetTimeout(tmntag_raascallback, 2000);\r\n",
      "}\r\n",
      "tmntag_ready_2(tmntag_raascallback_0);\r\n",
      "if (typeof tmnramp!='undefined' && tmnramp.pixels) {\r\n",
      "\tfor (var i in tmnramp.pixels) {\r\n",
      "\t\tvar pixel = tmnramp.pixels[i];\r\n",
      "\t\tif (pixel && !pixel.donotrender && pixel.content && pixel.onready) {\r\n",
      "\t\t\teval(pixel.content);\r\n",
      "\t\t}\r\n",
      "\t}\r\n",
      "}\r\n",
      "/* /RAAS JS Renderer 1.1 */\n",
      "        \n",
      "\n",
      "\n"
     ]
    }
   ],
   "source": [
    "soup = BeautifulSoup(html, 'lxml')\n",
    "map(lambda x: x.extract(), soup('script'))\n",
    "print(soup.text)\n"
   ]
  },
  {
   "cell_type": "code",
   "execution_count": 134,
   "metadata": {
    "collapsed": false
   },
   "outputs": [
    {
     "data": {
      "text/plain": [
       "['Yuri',\n",
       " 'Gagarin',\n",
       " ':',\n",
       " 'First',\n",
       " 'Man',\n",
       " 'in',\n",
       " 'Space',\n",
       " 'var',\n",
       " 'image_server',\n",
       " '=',\n",
       " \"'http\",\n",
       " ':',\n",
       " '//www.space.com',\n",
       " \"'\",\n",
       " ';',\n",
       " 'var',\n",
       " 'jqueryUrl',\n",
       " '=',\n",
       " \"'http\",\n",
       " ':',\n",
       " '//www.space.com/resources/js/jquery.min.js',\n",
       " '?',\n",
       " 'efd4e28',\n",
       " \"'\",\n",
       " ';',\n",
       " 'var',\n",
       " 'om_info',\n",
       " '=',\n",
       " '{',\n",
       " \"'env\",\n",
       " \"'\",\n",
       " ':',\n",
       " \"'production\",\n",
       " \"'\",\n",
       " ',',\n",
       " \"'site\",\n",
       " \"'\",\n",
       " ':',\n",
       " \"'space\",\n",
       " \"'\",\n",
       " ',',\n",
       " \"'suite\",\n",
       " \"'\",\n",
       " ':',\n",
       " \"'ttrglobalproduction\",\n",
       " \"'\",\n",
       " ',',\n",
       " '``',\n",
       " 'display_name',\n",
       " \"''\",\n",
       " ':',\n",
       " '``',\n",
       " 'Space',\n",
       " \"''\",\n",
       " '}',\n",
       " ';',\n",
       " '<',\n",
       " '!',\n",
       " '--',\n",
       " '/*',\n",
       " 'You',\n",
       " 'may',\n",
       " 'give',\n",
       " 'each',\n",
       " 'page',\n",
       " 'an',\n",
       " 'identifying',\n",
       " 'name',\n",
       " ',',\n",
       " 'server',\n",
       " ',',\n",
       " 'and',\n",
       " 'channel',\n",
       " 'on',\n",
       " 'the',\n",
       " 'next',\n",
       " 'lines',\n",
       " '.',\n",
       " '*/',\n",
       " 's.pageName',\n",
       " '=',\n",
       " '``',\n",
       " 'sdc',\n",
       " ':',\n",
       " 'spaceflight',\n",
       " ':',\n",
       " 'reference:16159',\n",
       " \"''\",\n",
       " ';',\n",
       " 's.channel',\n",
       " '=',\n",
       " '``',\n",
       " 'spaceflight',\n",
       " \"''\",\n",
       " ';',\n",
       " 's.prop2',\n",
       " '=',\n",
       " '``',\n",
       " 'sdc',\n",
       " \"''\",\n",
       " ';',\n",
       " 's.prop4',\n",
       " '=',\n",
       " '``',\n",
       " 'reference',\n",
       " \"''\",\n",
       " ';',\n",
       " 's.prop5',\n",
       " '=',\n",
       " '``',\n",
       " 'yuri',\n",
       " 'gagarin',\n",
       " ':',\n",
       " 'first',\n",
       " 'man',\n",
       " 'in',\n",
       " 'space',\n",
       " \"''\",\n",
       " ';',\n",
       " 's.prop6',\n",
       " '=',\n",
       " '``',\n",
       " 'sdc-16159',\n",
       " \"''\",\n",
       " ';',\n",
       " '/*',\n",
       " 'Hierarchy',\n",
       " 'Variables',\n",
       " '*/',\n",
       " 's.hier1=',\n",
       " \"''\",\n",
       " \"''\",\n",
       " ';',\n",
       " 's.eVar15=s.prop15',\n",
       " ';',\n",
       " 's.eVar16=s.prop16',\n",
       " ';',\n",
       " 's.eVar17=s.prop17',\n",
       " ';',\n",
       " 's.eVar18=s.prop18',\n",
       " ';',\n",
       " '/*************',\n",
       " 'DO',\n",
       " 'NOT',\n",
       " 'ALTER',\n",
       " 'ANYTHING',\n",
       " 'BELOW',\n",
       " 'THIS',\n",
       " 'LINE',\n",
       " '!',\n",
       " '**************/',\n",
       " 'var',\n",
       " 's_code=s.t',\n",
       " '(',\n",
       " ')',\n",
       " ';',\n",
       " 'if',\n",
       " '(',\n",
       " 's_code',\n",
       " ')',\n",
       " 'document.write',\n",
       " '(',\n",
       " 's_code',\n",
       " ')',\n",
       " '//',\n",
       " '--',\n",
       " '>',\n",
       " '<',\n",
       " '!',\n",
       " '--',\n",
       " 'if',\n",
       " '(',\n",
       " 'navigator.appVersion.indexOf',\n",
       " '(',\n",
       " \"'MSIE\",\n",
       " \"'\",\n",
       " ')',\n",
       " '>',\n",
       " '=0',\n",
       " ')',\n",
       " 'document.write',\n",
       " '(',\n",
       " 'unescape',\n",
       " '(',\n",
       " \"'\",\n",
       " '%',\n",
       " '3C',\n",
       " \"'\",\n",
       " ')',\n",
       " \"+'\\\\\",\n",
       " '!',\n",
       " \"-'+'-\",\n",
       " \"'\",\n",
       " ')',\n",
       " '//',\n",
       " '--',\n",
       " '>',\n",
       " 'var',\n",
       " 'pageAccount',\n",
       " '=',\n",
       " \"'/10518929/tmn.sdc\",\n",
       " \"'\",\n",
       " ';',\n",
       " 'var',\n",
       " 'pageAdZone',\n",
       " '=',\n",
       " \"'/reference/spaceflight\",\n",
       " \"'\",\n",
       " ';',\n",
       " 'var',\n",
       " 'siteName',\n",
       " '=',\n",
       " \"'tmn.sdc\",\n",
       " \"'\",\n",
       " ';',\n",
       " 'var',\n",
       " 'ccat',\n",
       " '=',\n",
       " \"'spaceflight\",\n",
       " \"'\",\n",
       " ';',\n",
       " 'var',\n",
       " 'ctype',\n",
       " '=',\n",
       " \"'reference\",\n",
       " \"'\",\n",
       " ';',\n",
       " 'var',\n",
       " 'keywords',\n",
       " '=',\n",
       " '[',\n",
       " '``',\n",
       " \"''\",\n",
       " ']',\n",
       " ';',\n",
       " 'if',\n",
       " '(',\n",
       " 'typeof',\n",
       " 'tmntag',\n",
       " '!',\n",
       " '=',\n",
       " \"'undefined\",\n",
       " \"'\",\n",
       " ')',\n",
       " '{',\n",
       " 'if',\n",
       " '(',\n",
       " 'document.location.hash.indexOf',\n",
       " '(',\n",
       " \"'\",\n",
       " '#',\n",
       " 'xtor=',\n",
       " \"'\",\n",
       " ')',\n",
       " '!',\n",
       " '=',\n",
       " '-1',\n",
       " ')',\n",
       " 'tmntag.target',\n",
       " '(',\n",
       " '{',\n",
       " \"'xtor\",\n",
       " \"'\",\n",
       " ':',\n",
       " 'document.location.hash.substr',\n",
       " '(',\n",
       " '(',\n",
       " 'document.location.hash.indexOf',\n",
       " '(',\n",
       " \"'\",\n",
       " '#',\n",
       " 'xtor=',\n",
       " \"'\",\n",
       " ')',\n",
       " '+',\n",
       " '6',\n",
       " ')',\n",
       " ',',\n",
       " 'document.location.hash.length',\n",
       " ')',\n",
       " '}',\n",
       " ')',\n",
       " ';',\n",
       " 'tmntag.placement',\n",
       " '(',\n",
       " \"'2520\",\n",
       " \"'\",\n",
       " ')',\n",
       " ';',\n",
       " 'tmntag.target',\n",
       " '(',\n",
       " '{',\n",
       " '``',\n",
       " 'kw',\n",
       " \"''\",\n",
       " ':',\n",
       " 'keywords',\n",
       " ',',\n",
       " '``',\n",
       " 'site',\n",
       " \"''\",\n",
       " ':',\n",
       " 'siteName',\n",
       " ',',\n",
       " '``',\n",
       " 'ctype',\n",
       " \"''\",\n",
       " ':',\n",
       " 'ctype',\n",
       " ',',\n",
       " '``',\n",
       " 'ccat1',\n",
       " \"''\",\n",
       " ':',\n",
       " 'ccat',\n",
       " ',',\n",
       " '``',\n",
       " 'partner',\n",
       " \"''\",\n",
       " ':',\n",
       " '``',\n",
       " 'n',\n",
       " \"''\",\n",
       " '}',\n",
       " ')',\n",
       " ';',\n",
       " 'tmntag.account',\n",
       " '(',\n",
       " 'pageAdZone',\n",
       " ')',\n",
       " ';',\n",
       " 'tmntag.start',\n",
       " '(',\n",
       " ')',\n",
       " ';',\n",
       " '}',\n",
       " 'var',\n",
       " '_gaq',\n",
       " '=',\n",
       " '_gaq',\n",
       " '||',\n",
       " '[',\n",
       " ']',\n",
       " ';',\n",
       " '_gaq.push',\n",
       " '(',\n",
       " '[',\n",
       " \"'_setAccount\",\n",
       " \"'\",\n",
       " ',',\n",
       " \"'UA-11681412-1\",\n",
       " \"'\",\n",
       " ']',\n",
       " ',',\n",
       " '[',\n",
       " \"'_setDomainName\",\n",
       " \"'\",\n",
       " ',',\n",
       " \"'space.com\",\n",
       " \"'\",\n",
       " ']',\n",
       " ',',\n",
       " '[',\n",
       " \"'_setCustomVar\",\n",
       " \"'\",\n",
       " ',',\n",
       " '1',\n",
       " ',',\n",
       " \"'Section\",\n",
       " \"'\",\n",
       " ',',\n",
       " \"'home\",\n",
       " \"'\",\n",
       " ',',\n",
       " '3',\n",
       " ']',\n",
       " ',',\n",
       " '[',\n",
       " \"'_trackPageview\",\n",
       " \"'\",\n",
       " ']',\n",
       " ')',\n",
       " ';',\n",
       " '(',\n",
       " 'function',\n",
       " '(',\n",
       " ')',\n",
       " '{',\n",
       " 'var',\n",
       " 'ga',\n",
       " '=',\n",
       " 'document.createElement',\n",
       " '(',\n",
       " \"'script\",\n",
       " \"'\",\n",
       " ')',\n",
       " ';',\n",
       " 'ga.type',\n",
       " '=',\n",
       " \"'text/javascript\",\n",
       " \"'\",\n",
       " ';',\n",
       " 'ga.async',\n",
       " '=',\n",
       " 'true',\n",
       " ';',\n",
       " 'ga.src',\n",
       " '=',\n",
       " '(',\n",
       " \"'https\",\n",
       " ':',\n",
       " \"'\",\n",
       " '==',\n",
       " 'document.location.protocol',\n",
       " '?',\n",
       " \"'https\",\n",
       " ':',\n",
       " '//ssl',\n",
       " \"'\",\n",
       " ':',\n",
       " \"'http\",\n",
       " ':',\n",
       " '//www',\n",
       " \"'\",\n",
       " ')',\n",
       " '+',\n",
       " \"'.google-analytics.com/ga.js\",\n",
       " \"'\",\n",
       " ';',\n",
       " 'var',\n",
       " 's',\n",
       " '=',\n",
       " 'document.getElementsByTagName',\n",
       " '(',\n",
       " \"'script\",\n",
       " \"'\",\n",
       " ')',\n",
       " '[',\n",
       " '0',\n",
       " ']',\n",
       " ';',\n",
       " 's.parentNode.insertBefore',\n",
       " '(',\n",
       " 'ga',\n",
       " ',',\n",
       " 's',\n",
       " ')',\n",
       " ';',\n",
       " '}',\n",
       " ')',\n",
       " '(',\n",
       " ')',\n",
       " ';',\n",
       " 'if',\n",
       " '(',\n",
       " 'typeof',\n",
       " 'tmntag',\n",
       " '!',\n",
       " '=',\n",
       " \"'undefined\",\n",
       " \"'\",\n",
       " ')',\n",
       " 'tmntag.adTag',\n",
       " '(',\n",
       " \"'out-of-page\",\n",
       " \"'\",\n",
       " ')',\n",
       " ';',\n",
       " 'tech',\n",
       " 'spaceflight',\n",
       " 'science',\n",
       " '&',\n",
       " 'astronomy',\n",
       " 'search',\n",
       " 'for',\n",
       " 'life',\n",
       " 'skywatching',\n",
       " 'entertainment',\n",
       " 'video',\n",
       " 'shop',\n",
       " 'if',\n",
       " '(',\n",
       " 'typeof',\n",
       " 'tmntag',\n",
       " '!',\n",
       " '=',\n",
       " \"'undefined\",\n",
       " \"'\",\n",
       " ')',\n",
       " 'tmntag.adTag',\n",
       " '(',\n",
       " \"'header_leaderboard\",\n",
       " \"'\",\n",
       " ',',\n",
       " 'false',\n",
       " ')',\n",
       " ';',\n",
       " 'tech',\n",
       " 'spaceflight',\n",
       " 'science',\n",
       " '&',\n",
       " 'astronomy',\n",
       " 'search',\n",
       " 'for',\n",
       " 'life',\n",
       " 'skywatching',\n",
       " 'entertainment',\n",
       " 'video',\n",
       " 'shop',\n",
       " 'tech',\n",
       " 'spaceflight',\n",
       " 'science',\n",
       " '&',\n",
       " 'astronomy',\n",
       " 'search',\n",
       " 'for',\n",
       " 'life',\n",
       " 'skywatching',\n",
       " 'entertainment',\n",
       " 'video',\n",
       " 'shop',\n",
       " 'Reference',\n",
       " ':',\n",
       " 'Yuri',\n",
       " 'Gagarin',\n",
       " ':',\n",
       " 'First',\n",
       " 'Man',\n",
       " 'in',\n",
       " 'Space',\n",
       " '|',\n",
       " 'The',\n",
       " 'Greatest',\n",
       " 'Moments',\n",
       " 'in',\n",
       " 'Flight',\n",
       " 'By',\n",
       " 'Nola',\n",
       " 'Taylor',\n",
       " 'Redd',\n",
       " ',',\n",
       " 'Space.com',\n",
       " 'Contributor',\n",
       " '|',\n",
       " 'July',\n",
       " '24',\n",
       " ',',\n",
       " '2012',\n",
       " '02:00pm',\n",
       " 'ET',\n",
       " 'MORE',\n",
       " 'stLight.options',\n",
       " '(',\n",
       " '{',\n",
       " 'publisher',\n",
       " ':',\n",
       " '``',\n",
       " '44826d50-86b3-4690-b68d-df4ee65d1526',\n",
       " \"''\",\n",
       " ',',\n",
       " 'doNotHash',\n",
       " ':',\n",
       " 'false',\n",
       " ',',\n",
       " 'doNotCopy',\n",
       " ':',\n",
       " 'false',\n",
       " ',',\n",
       " 'hashAddressBar',\n",
       " ':',\n",
       " 'false',\n",
       " ',',\n",
       " 'nativeCount',\n",
       " ':',\n",
       " 'true',\n",
       " ',',\n",
       " 'onhover',\n",
       " ':',\n",
       " 'false',\n",
       " '}',\n",
       " ')',\n",
       " ';',\n",
       " '//sharePage',\n",
       " '=',\n",
       " '``',\n",
       " 'http',\n",
       " ':',\n",
       " '//www.space.com/16159-first-man-in-space.html',\n",
       " \"''\",\n",
       " ';',\n",
       " '//test',\n",
       " 'url',\n",
       " 'sharePage',\n",
       " '=',\n",
       " \"'http\",\n",
       " ':',\n",
       " '//www.space.com/16159-first-man-in-space.html',\n",
       " \"'\",\n",
       " ';',\n",
       " 'stButtons.getCount',\n",
       " '(',\n",
       " 'sharePage',\n",
       " ',',\n",
       " '``',\n",
       " 'facebook',\n",
       " \"''\",\n",
       " ',',\n",
       " 'document.getElementById',\n",
       " '(',\n",
       " \"'fbCount\",\n",
       " \"'\",\n",
       " ')',\n",
       " ')',\n",
       " ';',\n",
       " 'stButtons.getCount',\n",
       " '(',\n",
       " 'sharePage',\n",
       " ',',\n",
       " '``',\n",
       " 'twitter',\n",
       " \"''\",\n",
       " ',',\n",
       " 'document.getElementById',\n",
       " '(',\n",
       " \"'twtrCount\",\n",
       " \"'\",\n",
       " ')',\n",
       " ')',\n",
       " ';',\n",
       " 'stButtons.getCount',\n",
       " '(',\n",
       " 'sharePage',\n",
       " ',',\n",
       " '``',\n",
       " 'googleplus',\n",
       " \"''\",\n",
       " ',',\n",
       " 'document.getElementById',\n",
       " '(',\n",
       " \"'gPlusCount\",\n",
       " \"'\",\n",
       " ')',\n",
       " ')',\n",
       " ';',\n",
       " 'stButtons.getCount',\n",
       " '(',\n",
       " 'sharePage',\n",
       " ',',\n",
       " '``',\n",
       " 'stumbleupon',\n",
       " \"''\",\n",
       " ',',\n",
       " 'document.getElementById',\n",
       " '(',\n",
       " \"'stumbleCount\",\n",
       " \"'\",\n",
       " ')',\n",
       " ')',\n",
       " ';',\n",
       " 'stButtons.getCount',\n",
       " '(',\n",
       " 'sharePage',\n",
       " ',',\n",
       " '``',\n",
       " 'reddit',\n",
       " \"''\",\n",
       " ',',\n",
       " 'document.getElementById',\n",
       " '(',\n",
       " \"'redditCount\",\n",
       " \"'\",\n",
       " ')',\n",
       " ')',\n",
       " ';',\n",
       " 'On',\n",
       " '12',\n",
       " 'April',\n",
       " '1961',\n",
       " ',',\n",
       " 'Russian',\n",
       " 'cosmonaut',\n",
       " 'Yuri',\n",
       " 'Gagarin',\n",
       " 'became',\n",
       " 'the',\n",
       " 'first',\n",
       " 'human',\n",
       " 'to',\n",
       " 'travel',\n",
       " 'into',\n",
       " 'space',\n",
       " 'when',\n",
       " 'he',\n",
       " 'launched',\n",
       " 'into',\n",
       " 'orbit',\n",
       " 'on',\n",
       " 'the',\n",
       " 'Vostok',\n",
       " '3KA-3',\n",
       " 'spacecraft',\n",
       " '(',\n",
       " 'Vostok',\n",
       " '1',\n",
       " ')',\n",
       " '.',\n",
       " 'Credit',\n",
       " ':',\n",
       " 'ESA',\n",
       " 'This',\n",
       " 'is',\n",
       " 'part',\n",
       " 'of',\n",
       " 'a',\n",
       " 'SPACE.com',\n",
       " 'series',\n",
       " 'of',\n",
       " 'articles',\n",
       " 'on',\n",
       " 'the',\n",
       " 'Greatest',\n",
       " 'Moments',\n",
       " 'in',\n",
       " 'Flight',\n",
       " ',',\n",
       " 'the',\n",
       " 'breakthrough',\n",
       " 'events',\n",
       " 'that',\n",
       " 'paved',\n",
       " 'the',\n",
       " 'way',\n",
       " 'for',\n",
       " 'human',\n",
       " 'spaceflight',\n",
       " 'and',\n",
       " 'its',\n",
       " 'next',\n",
       " 'steps',\n",
       " ':',\n",
       " 'asteroid',\n",
       " 'mining',\n",
       " 'and',\n",
       " 'bases',\n",
       " 'on',\n",
       " 'the',\n",
       " 'moon',\n",
       " 'and',\n",
       " 'Mars',\n",
       " '.',\n",
       " 'The',\n",
       " 'United',\n",
       " 'States',\n",
       " 'and',\n",
       " 'the',\n",
       " 'Soviet',\n",
       " 'Union',\n",
       " 'vigorously',\n",
       " 'competed',\n",
       " 'to',\n",
       " 'push',\n",
       " 'the',\n",
       " 'boundaries',\n",
       " 'of',\n",
       " 'mankind',\n",
       " \"'s\",\n",
       " 'exploration',\n",
       " 'of',\n",
       " 'space',\n",
       " '.',\n",
       " 'The',\n",
       " 'Russians',\n",
       " 'scored',\n",
       " 'a',\n",
       " 'victory',\n",
       " 'when',\n",
       " 'they',\n",
       " 'launched',\n",
       " 'a',\n",
       " 'small',\n",
       " 'craft',\n",
       " 'carrying',\n",
       " 'cosmonaut',\n",
       " 'Yuri',\n",
       " 'Gagarin',\n",
       " 'to',\n",
       " 'new',\n",
       " 'heights',\n",
       " '.',\n",
       " 'His',\n",
       " '108-minute',\n",
       " 'flight',\n",
       " 'gave',\n",
       " 'him',\n",
       " 'a',\n",
       " 'permanent',\n",
       " 'place',\n",
       " 'in',\n",
       " 'the',\n",
       " 'history',\n",
       " 'books',\n",
       " 'as',\n",
       " 'the',\n",
       " 'first',\n",
       " 'man',\n",
       " 'in',\n",
       " 'space',\n",
       " '.',\n",
       " 'The',\n",
       " 'race',\n",
       " 'to',\n",
       " 'the',\n",
       " 'stars',\n",
       " 'With',\n",
       " 'the',\n",
       " '1957',\n",
       " 'launch',\n",
       " 'of',\n",
       " 'Sputnik',\n",
       " '1',\n",
       " ',',\n",
       " 'the',\n",
       " 'world',\n",
       " \"'s\",\n",
       " 'first',\n",
       " 'manmade',\n",
       " 'satellite',\n",
       " ',',\n",
       " 'the',\n",
       " 'Russians',\n",
       " 'took',\n",
       " 'an',\n",
       " 'early',\n",
       " 'lead',\n",
       " 'in',\n",
       " 'the',\n",
       " 'space',\n",
       " 'race',\n",
       " '.',\n",
       " 'The',\n",
       " 'next',\n",
       " 'step',\n",
       " 'was',\n",
       " 'to',\n",
       " 'send',\n",
       " 'a',\n",
       " 'human',\n",
       " 'off',\n",
       " 'the',\n",
       " 'planet',\n",
       " '.',\n",
       " 'The',\n",
       " 'American',\n",
       " 'plan',\n",
       " 'to',\n",
       " 'send',\n",
       " 'a',\n",
       " 'man',\n",
       " 'into',\n",
       " 'space',\n",
       " 'by',\n",
       " '1961',\n",
       " 'created',\n",
       " 'a',\n",
       " 'deadline',\n",
       " 'that',\n",
       " 'the',\n",
       " 'Russian',\n",
       " 'team',\n",
       " 'worked',\n",
       " 'hard',\n",
       " 'to',\n",
       " 'beat',\n",
       " '.',\n",
       " 'The',\n",
       " 'development',\n",
       " 'of',\n",
       " 'the',\n",
       " 'Vostok',\n",
       " 'spacecraft',\n",
       " 'became',\n",
       " 'paramount',\n",
       " '.',\n",
       " 'Prior',\n",
       " 'to',\n",
       " 'Gagarin’s',\n",
       " 'historic',\n",
       " 'flight',\n",
       " ',',\n",
       " 'the',\n",
       " 'Soviets',\n",
       " 'sent',\n",
       " 'a',\n",
       " 'prototype',\n",
       " 'of',\n",
       " 'his',\n",
       " 'spaceship',\n",
       " ',',\n",
       " 'along',\n",
       " 'with',\n",
       " 'a',\n",
       " 'life-size',\n",
       " 'dummy',\n",
       " 'called',\n",
       " 'Ivan',\n",
       " 'Ivanovich',\n",
       " 'and',\n",
       " 'a',\n",
       " 'dog',\n",
       " 'called',\n",
       " 'Zvezdochka',\n",
       " '.',\n",
       " 'With',\n",
       " 'these',\n",
       " 'successes',\n",
       " ',',\n",
       " 'the',\n",
       " 'vessel',\n",
       " 'was',\n",
       " 'considered',\n",
       " 'ready',\n",
       " 'to',\n",
       " 'take',\n",
       " 'a',\n",
       " 'living',\n",
       " ',',\n",
       " 'breathing',\n",
       " 'human',\n",
       " 'into',\n",
       " 'space',\n",
       " '.',\n",
       " '[',\n",
       " 'INFOGRAPHIC',\n",
       " ':',\n",
       " 'How',\n",
       " 'the',\n",
       " 'First',\n",
       " 'Human',\n",
       " 'Spaceflight',\n",
       " 'Worked',\n",
       " ']',\n",
       " 'The',\n",
       " 'right',\n",
       " 'stuff',\n",
       " 'More',\n",
       " 'than',\n",
       " '200',\n",
       " 'Russian',\n",
       " 'Air',\n",
       " 'Force',\n",
       " 'fighter',\n",
       " 'pilots',\n",
       " 'were',\n",
       " 'selected',\n",
       " 'as',\n",
       " 'cosmonaut',\n",
       " 'candidates',\n",
       " '.',\n",
       " 'Such',\n",
       " 'pilots',\n",
       " 'were',\n",
       " 'considered',\n",
       " 'optimum',\n",
       " 'because',\n",
       " 'they',\n",
       " 'had',\n",
       " 'exposure',\n",
       " 'to',\n",
       " 'the',\n",
       " 'forces',\n",
       " 'of',\n",
       " 'acceleration',\n",
       " 'and',\n",
       " 'the',\n",
       " 'ejection',\n",
       " 'process',\n",
       " ',',\n",
       " 'as',\n",
       " 'well',\n",
       " 'as',\n",
       " 'experience',\n",
       " 'with',\n",
       " 'high-stress',\n",
       " 'situations',\n",
       " '.',\n",
       " 'Among',\n",
       " 'the',\n",
       " 'pilots',\n",
       " 'was',\n",
       " '27-year-old',\n",
       " 'Senior',\n",
       " 'Lieutenant',\n",
       " 'Yuri',\n",
       " 'Alexeyevich',\n",
       " 'Gagarin',\n",
       " '.',\n",
       " 'The',\n",
       " 'third',\n",
       " 'of',\n",
       " 'four',\n",
       " ...]"
      ]
     },
     "execution_count": 134,
     "metadata": {},
     "output_type": "execute_result"
    }
   ],
   "source": [
    "from bs4 import BeautifulSoup\n",
    "raw = BeautifulSoup(html,'lxml').get_text()\n",
    "tokens = word_tokenize(raw)\n",
    "tokens"
   ]
  },
  {
   "cell_type": "code",
   "execution_count": 135,
   "metadata": {
    "collapsed": false
   },
   "outputs": [
    {
     "data": {
      "text/plain": [
       "'\\n\\n\\n\\n\\n\\nYuri Gagarin: First Man in Space\\n\\n\\n\\n\\n\\n\\n\\n\\n            var image_server = \\'http://www.space.com\\';\\n        \\n\\n\\n\\n        var jqueryUrl = \\'http://www.space.com/resources/js/jquery.min.js?efd4e28\\';\\n    \\n\\n\\n\\n\\n\\n\\n\\n\\n\\n\\n\\n\\n\\n\\n\\n\\n\\n\\n\\n\\n\\n\\n    var om_info = { \\'env\\' : \\'production\\', \\'site\\' :\\'space\\', \\'suite\\' : \\'ttrglobalproduction\\', \"display_name\": \"Space\" };\\n\\n\\n\\n<!--\\n/* You may give each page an identifying name, server, and channel on\\nthe next lines. */\\n            s.pageName = \"sdc:spaceflight:reference:16159\";\\n                s.channel = \"spaceflight\";\\n                s.prop2 = \"sdc\";\\n                s.prop4 = \"reference\";\\n                s.prop5 = \"yuri gagarin: first man in space\";\\n                s.prop6 = \"sdc-16159\";\\n    \\n    \\n /* Hierarchy Variables */\\ns.hier1=\"\";\\ns.eVar15=s.prop15;\\ns.eVar16=s.prop16;\\ns.eVar17=s.prop17;\\ns.eVar18=s.prop18;\\n\\n/************* DO NOT ALTER ANYTHING BELOW THIS LINE ! **************/\\nvar s_code=s.t();if(s_code)document.write(s_code)//-->\\n<!--\\nif(navigator.appVersion.indexOf(\\'MSIE\\')>=0)document.write(unescape(\\'%3C\\')+\\'\\\\!-\\'+\\'-\\')\\n//-->\\n\\n\\n    var pageAccount = \\'/10518929/tmn.sdc\\';\\n    var pageAdZone = \\'/reference/spaceflight\\';\\n    var siteName = \\'tmn.sdc\\';\\n    var ccat = \\'spaceflight\\';\\n    var ctype = \\'reference\\';\\n    var keywords = [\"\"];\\n\\n\\n\\n\\n    if (typeof tmntag != \\'undefined\\') {\\n        if (document.location.hash.indexOf(\\'#xtor=\\') != -1) tmntag.target(\\n                {\\'xtor\\': document.location.hash.substr((document.location.hash.indexOf(\\'#xtor=\\') + 6), document.location.hash.length)}\\n        );\\n\\n                \\t\\t\\t\\t\\n\\t\\t\\t\\t\\t\\t\\t\\ttmntag.placement(\\'2520\\');\\n\\t\\t\\t\\t\\n        tmntag.target({\"kw\": keywords, \"site\": siteName, \"ctype\": ctype, \"ccat1\": ccat, \"partner\": \"n\"});\\n        tmntag.account(pageAdZone);\\n        tmntag.start();\\n    }\\n\\n\\n\\n    var _gaq = _gaq || [];\\n\\n                _gaq.push([\\'_setAccount\\', \\'UA-11681412-1\\'],\\n            [\\'_setDomainName\\', \\'space.com\\'],\\n            [\\'_setCustomVar\\', 1, \\'Section\\', \\'home\\', 3],\\n            [\\'_trackPageview\\']);\\n        \\n    (function() {\\n        var ga = document.createElement(\\'script\\'); ga.type = \\'text/javascript\\'; ga.async = true;\\n        ga.src = (\\'https:\\' == document.location.protocol ? \\'https://ssl\\' : \\'http://www\\') + \\'.google-analytics.com/ga.js\\';\\n        var s = document.getElementsByTagName(\\'script\\')[0]; s.parentNode.insertBefore(ga, s);\\n    })();\\n\\n\\n\\n\\n\\n\\nif (typeof tmntag != \\'undefined\\') tmntag.adTag(\\'out-of-page\\');\\n\\n\\n\\n\\n\\n\\n\\n\\n\\n\\n\\n\\n\\ntech\\nspaceflight\\nscience & astronomy\\nsearch for life\\nskywatching\\nentertainment\\nvideo\\nshop\\n\\n\\n\\n\\n\\n\\n\\n\\n\\n\\n\\nif (typeof tmntag != \\'undefined\\') tmntag.adTag(\\'header_leaderboard\\', false);\\n\\n\\n\\n\\n\\n\\n\\n\\n\\n\\n\\n\\n\\n\\n\\n\\n\\n\\n\\n\\n\\n\\ntech\\nspaceflight\\nscience & astronomy\\nsearch for life\\nskywatching\\nentertainment\\nvideo\\nshop\\n\\n\\n\\n\\n\\n\\n\\n\\n\\n\\n\\n\\ntech\\nspaceflight\\nscience & astronomy\\nsearch for life\\nskywatching\\nentertainment\\nvideo\\nshop\\n\\n\\n\\n\\n\\n\\n\\n\\n\\n\\n\\n\\n\\n\\n\\n\\n\\n\\n\\n\\n\\n\\n\\n\\nReference:\\nYuri Gagarin: First Man in Space | The Greatest Moments in Flight\\n\\n                    By Nola Taylor Redd, Space.com Contributor |\\n\\n                     July 24, 2012 02:00pm ET\\n\\n\\n\\n\\n\\n\\n\\n\\n\\n\\n\\n\\n\\n\\n\\n\\n\\n\\n\\n\\n\\nMORE\\n\\n\\n\\n    stLight.options({publisher: \"44826d50-86b3-4690-b68d-df4ee65d1526\", doNotHash: false, doNotCopy: false, hashAddressBar: false, nativeCount:true, onhover:false});\\n    \\n    //sharePage = \"http://www.space.com/16159-first-man-in-space.html\";\\n    //test url \\n    sharePage = \\'http://www.space.com/16159-first-man-in-space.html\\';\\n    \\n    stButtons.getCount(sharePage, \"facebook\", document.getElementById(\\'fbCount\\'));\\n    stButtons.getCount(sharePage, \"twitter\", document.getElementById(\\'twtrCount\\'));\\n    stButtons.getCount(sharePage, \"googleplus\", document.getElementById(\\'gPlusCount\\'));\\n    stButtons.getCount(sharePage, \"stumbleupon\", document.getElementById(\\'stumbleCount\\'));\\n    stButtons.getCount(sharePage, \"reddit\", document.getElementById(\\'redditCount\\'));\\n\\n\\n\\n\\n\\n\\n\\n\\n\\n\\n\\n\\nOn 12 April 1961, Russian cosmonaut Yuri Gagarin became the first human to travel into space when he launched into orbit on the Vostok 3KA-3 spacecraft (Vostok 1).'"
      ]
     },
     "execution_count": 135,
     "metadata": {},
     "output_type": "execute_result"
    }
   ],
   "source": [
    "raw[:4000]"
   ]
  },
  {
   "cell_type": "code",
   "execution_count": 136,
   "metadata": {
    "collapsed": false
   },
   "outputs": [
    {
     "data": {
      "text/plain": [
       "4235"
      ]
     },
     "execution_count": 136,
     "metadata": {},
     "output_type": "execute_result"
    }
   ],
   "source": [
    "raw.find('The United States')"
   ]
  },
  {
   "cell_type": "code",
   "execution_count": 137,
   "metadata": {
    "collapsed": false
   },
   "outputs": [
    {
     "data": {
      "text/plain": [
       "10264"
      ]
     },
     "execution_count": 137,
     "metadata": {},
     "output_type": "execute_result"
    }
   ],
   "source": [
    "raw.rfind('June 18, 1983.')"
   ]
  },
  {
   "cell_type": "code",
   "execution_count": 138,
   "metadata": {
    "collapsed": true
   },
   "outputs": [],
   "source": [
    "raw = raw[4235:10264]"
   ]
  },
  {
   "cell_type": "code",
   "execution_count": 139,
   "metadata": {
    "collapsed": false
   },
   "outputs": [
    {
     "data": {
      "text/plain": [
       "['The',\n",
       " 'United',\n",
       " 'States',\n",
       " 'and',\n",
       " 'the',\n",
       " 'Soviet',\n",
       " 'Union',\n",
       " 'vigorously',\n",
       " 'competed',\n",
       " 'to',\n",
       " 'push',\n",
       " 'the',\n",
       " 'boundaries',\n",
       " 'of',\n",
       " 'mankind',\n",
       " \"'s\",\n",
       " 'exploration',\n",
       " 'of',\n",
       " 'space',\n",
       " '.',\n",
       " 'The',\n",
       " 'Russians',\n",
       " 'scored',\n",
       " 'a',\n",
       " 'victory',\n",
       " 'when',\n",
       " 'they',\n",
       " 'launched',\n",
       " 'a',\n",
       " 'small',\n",
       " 'craft',\n",
       " 'carrying',\n",
       " 'cosmonaut',\n",
       " 'Yuri',\n",
       " 'Gagarin',\n",
       " 'to',\n",
       " 'new',\n",
       " 'heights',\n",
       " '.',\n",
       " 'His',\n",
       " '108-minute',\n",
       " 'flight',\n",
       " 'gave',\n",
       " 'him',\n",
       " 'a',\n",
       " 'permanent',\n",
       " 'place',\n",
       " 'in',\n",
       " 'the',\n",
       " 'history',\n",
       " 'books',\n",
       " 'as',\n",
       " 'the',\n",
       " 'first',\n",
       " 'man',\n",
       " 'in',\n",
       " 'space',\n",
       " '.',\n",
       " 'The',\n",
       " 'race',\n",
       " 'to',\n",
       " 'the',\n",
       " 'stars',\n",
       " 'With',\n",
       " 'the',\n",
       " '1957',\n",
       " 'launch',\n",
       " 'of',\n",
       " 'Sputnik',\n",
       " '1',\n",
       " ',',\n",
       " 'the',\n",
       " 'world',\n",
       " \"'s\",\n",
       " 'first',\n",
       " 'manmade',\n",
       " 'satellite',\n",
       " ',',\n",
       " 'the',\n",
       " 'Russians',\n",
       " 'took',\n",
       " 'an',\n",
       " 'early',\n",
       " 'lead',\n",
       " 'in',\n",
       " 'the',\n",
       " 'space',\n",
       " 'race',\n",
       " '.',\n",
       " 'The',\n",
       " 'next',\n",
       " 'step',\n",
       " 'was',\n",
       " 'to',\n",
       " 'send',\n",
       " 'a',\n",
       " 'human',\n",
       " 'off',\n",
       " 'the',\n",
       " 'planet',\n",
       " '.',\n",
       " 'The',\n",
       " 'American',\n",
       " 'plan',\n",
       " 'to',\n",
       " 'send',\n",
       " 'a',\n",
       " 'man',\n",
       " 'into',\n",
       " 'space',\n",
       " 'by',\n",
       " '1961',\n",
       " 'created',\n",
       " 'a',\n",
       " 'deadline',\n",
       " 'that',\n",
       " 'the',\n",
       " 'Russian',\n",
       " 'team',\n",
       " 'worked',\n",
       " 'hard',\n",
       " 'to',\n",
       " 'beat',\n",
       " '.',\n",
       " 'The',\n",
       " 'development',\n",
       " 'of',\n",
       " 'the',\n",
       " 'Vostok',\n",
       " 'spacecraft',\n",
       " 'became',\n",
       " 'paramount',\n",
       " '.',\n",
       " 'Prior',\n",
       " 'to',\n",
       " 'Gagarin’s',\n",
       " 'historic',\n",
       " 'flight',\n",
       " ',',\n",
       " 'the',\n",
       " 'Soviets',\n",
       " 'sent',\n",
       " 'a',\n",
       " 'prototype',\n",
       " 'of',\n",
       " 'his',\n",
       " 'spaceship',\n",
       " ',',\n",
       " 'along',\n",
       " 'with',\n",
       " 'a',\n",
       " 'life-size',\n",
       " 'dummy',\n",
       " 'called',\n",
       " 'Ivan',\n",
       " 'Ivanovich',\n",
       " 'and',\n",
       " 'a',\n",
       " 'dog',\n",
       " 'called',\n",
       " 'Zvezdochka',\n",
       " '.',\n",
       " 'With',\n",
       " 'these',\n",
       " 'successes',\n",
       " ',',\n",
       " 'the',\n",
       " 'vessel',\n",
       " 'was',\n",
       " 'considered',\n",
       " 'ready',\n",
       " 'to',\n",
       " 'take',\n",
       " 'a',\n",
       " 'living',\n",
       " ',',\n",
       " 'breathing',\n",
       " 'human',\n",
       " 'into',\n",
       " 'space',\n",
       " '.',\n",
       " '[',\n",
       " 'INFOGRAPHIC',\n",
       " ':',\n",
       " 'How',\n",
       " 'the',\n",
       " 'First',\n",
       " 'Human',\n",
       " 'Spaceflight',\n",
       " 'Worked',\n",
       " ']',\n",
       " 'The',\n",
       " 'right',\n",
       " 'stuff',\n",
       " 'More',\n",
       " 'than',\n",
       " '200',\n",
       " 'Russian',\n",
       " 'Air',\n",
       " 'Force',\n",
       " 'fighter',\n",
       " 'pilots',\n",
       " 'were',\n",
       " 'selected',\n",
       " 'as',\n",
       " 'cosmonaut',\n",
       " 'candidates',\n",
       " '.',\n",
       " 'Such',\n",
       " 'pilots',\n",
       " 'were',\n",
       " 'considered',\n",
       " 'optimum',\n",
       " 'because',\n",
       " 'they',\n",
       " 'had',\n",
       " 'exposure',\n",
       " 'to',\n",
       " 'the',\n",
       " 'forces',\n",
       " 'of',\n",
       " 'acceleration',\n",
       " 'and',\n",
       " 'the',\n",
       " 'ejection',\n",
       " 'process',\n",
       " ',',\n",
       " 'as',\n",
       " 'well',\n",
       " 'as',\n",
       " 'experience',\n",
       " 'with',\n",
       " 'high-stress',\n",
       " 'situations',\n",
       " '.',\n",
       " 'Among',\n",
       " 'the',\n",
       " 'pilots',\n",
       " 'was',\n",
       " '27-year-old',\n",
       " 'Senior',\n",
       " 'Lieutenant',\n",
       " 'Yuri',\n",
       " 'Alexeyevich',\n",
       " 'Gagarin',\n",
       " '.',\n",
       " 'The',\n",
       " 'third',\n",
       " 'of',\n",
       " 'four',\n",
       " 'children',\n",
       " ',',\n",
       " 'Gagarin',\n",
       " 'was',\n",
       " 'born',\n",
       " 'on',\n",
       " 'March',\n",
       " '9',\n",
       " ',',\n",
       " '1934',\n",
       " ',',\n",
       " 'in',\n",
       " 'a',\n",
       " 'small',\n",
       " 'village',\n",
       " 'a',\n",
       " 'hundred',\n",
       " 'miles',\n",
       " 'from',\n",
       " 'Moscow',\n",
       " '.',\n",
       " 'As',\n",
       " 'a',\n",
       " 'teenager',\n",
       " ',',\n",
       " 'Gagarin',\n",
       " 'witnessed',\n",
       " 'a',\n",
       " 'Russian',\n",
       " 'Yak',\n",
       " 'fighter',\n",
       " 'plane',\n",
       " 'make',\n",
       " 'an',\n",
       " 'emergency',\n",
       " 'landing',\n",
       " 'near',\n",
       " 'his',\n",
       " 'home',\n",
       " '.',\n",
       " 'When',\n",
       " 'offered',\n",
       " 'a',\n",
       " 'chance',\n",
       " 'years',\n",
       " 'later',\n",
       " 'to',\n",
       " 'join',\n",
       " 'a',\n",
       " 'flying',\n",
       " 'club',\n",
       " ',',\n",
       " 'he',\n",
       " 'eagerly',\n",
       " 'accepted',\n",
       " ',',\n",
       " 'making',\n",
       " 'his',\n",
       " 'first',\n",
       " 'solo',\n",
       " 'flight',\n",
       " 'in',\n",
       " '1955',\n",
       " '.',\n",
       " 'Only',\n",
       " 'a',\n",
       " 'few',\n",
       " 'years',\n",
       " 'later',\n",
       " ',',\n",
       " 'he',\n",
       " 'submitted',\n",
       " 'his',\n",
       " 'request',\n",
       " 'to',\n",
       " 'be',\n",
       " 'considered',\n",
       " 'as',\n",
       " 'a',\n",
       " 'cosmonaut',\n",
       " '.',\n",
       " '[',\n",
       " 'PHOTOS',\n",
       " ':',\n",
       " 'Yuri',\n",
       " 'Gagarin',\n",
       " '&',\n",
       " '50',\n",
       " 'Years',\n",
       " 'of',\n",
       " 'Human',\n",
       " 'Spaceflight',\n",
       " ']',\n",
       " 'First',\n",
       " 'in',\n",
       " '(',\n",
       " 'space',\n",
       " ')',\n",
       " 'flight',\n",
       " 'On',\n",
       " 'April',\n",
       " '12',\n",
       " ',',\n",
       " '1961',\n",
       " ',',\n",
       " 'at',\n",
       " '9:07',\n",
       " 'a.m.',\n",
       " 'Moscow',\n",
       " 'time',\n",
       " ',',\n",
       " 'the',\n",
       " 'Vostok',\n",
       " '1',\n",
       " 'spacecraft',\n",
       " 'blasted',\n",
       " 'off',\n",
       " 'from',\n",
       " 'the',\n",
       " 'Soviets',\n",
       " \"'\",\n",
       " 'launch',\n",
       " 'site',\n",
       " '.',\n",
       " 'Because',\n",
       " 'no',\n",
       " 'one',\n",
       " 'was',\n",
       " 'certain',\n",
       " 'how',\n",
       " 'weightlessness',\n",
       " 'would',\n",
       " 'affect',\n",
       " 'a',\n",
       " 'pilot',\n",
       " ',',\n",
       " 'the',\n",
       " 'spherical',\n",
       " 'capsule',\n",
       " 'had',\n",
       " 'little',\n",
       " 'in',\n",
       " 'the',\n",
       " 'way',\n",
       " 'of',\n",
       " 'onboard',\n",
       " 'controls',\n",
       " ';',\n",
       " 'the',\n",
       " 'work',\n",
       " 'was',\n",
       " 'done',\n",
       " 'either',\n",
       " 'automatically',\n",
       " 'or',\n",
       " 'from',\n",
       " 'the',\n",
       " 'ground',\n",
       " '.',\n",
       " 'If',\n",
       " 'an',\n",
       " 'emergency',\n",
       " 'arose',\n",
       " ',',\n",
       " 'Gagarin',\n",
       " 'was',\n",
       " 'supposed',\n",
       " 'to',\n",
       " 'receive',\n",
       " 'an',\n",
       " 'override',\n",
       " 'code',\n",
       " 'that',\n",
       " 'would',\n",
       " 'allow',\n",
       " 'him',\n",
       " 'to',\n",
       " 'take',\n",
       " 'manual',\n",
       " 'control',\n",
       " ',',\n",
       " 'but',\n",
       " 'Sergei',\n",
       " 'Korolov',\n",
       " ',',\n",
       " 'chief',\n",
       " 'designer',\n",
       " 'of',\n",
       " 'the',\n",
       " 'Soviet',\n",
       " 'space',\n",
       " 'program',\n",
       " ',',\n",
       " 'disregarded',\n",
       " 'protocol',\n",
       " 'and',\n",
       " 'gave',\n",
       " 'it',\n",
       " 'to',\n",
       " 'the',\n",
       " 'pilot',\n",
       " 'prior',\n",
       " 'to',\n",
       " 'the',\n",
       " 'flight',\n",
       " '.',\n",
       " 'Over',\n",
       " 'the',\n",
       " 'course',\n",
       " 'of',\n",
       " '108',\n",
       " 'minutes',\n",
       " ',',\n",
       " 'Vostok',\n",
       " '1',\n",
       " 'traveled',\n",
       " 'around',\n",
       " 'the',\n",
       " 'Earth',\n",
       " 'once',\n",
       " ',',\n",
       " 'reaching',\n",
       " 'a',\n",
       " 'maximum',\n",
       " 'height',\n",
       " 'of',\n",
       " '203',\n",
       " 'miles',\n",
       " '(',\n",
       " '327',\n",
       " 'kilometers',\n",
       " ')',\n",
       " '.',\n",
       " 'Over',\n",
       " 'Africa',\n",
       " ',',\n",
       " 'the',\n",
       " 'engines',\n",
       " 'fired',\n",
       " 'to',\n",
       " 'bring',\n",
       " 'Gagarin',\n",
       " 'back',\n",
       " 'to',\n",
       " 'Earth',\n",
       " '.',\n",
       " 'The',\n",
       " 'craft',\n",
       " 'carried',\n",
       " 'ten',\n",
       " 'days',\n",
       " 'worth',\n",
       " 'of',\n",
       " 'provisions',\n",
       " 'in',\n",
       " 'case',\n",
       " 'the',\n",
       " 'engines',\n",
       " 'failed',\n",
       " 'and',\n",
       " 'Gagarin',\n",
       " 'was',\n",
       " 'required',\n",
       " 'to',\n",
       " 'wait',\n",
       " 'for',\n",
       " 'the',\n",
       " 'orbit',\n",
       " 'to',\n",
       " 'naturally',\n",
       " 'decay',\n",
       " ',',\n",
       " 'but',\n",
       " 'they',\n",
       " 'were',\n",
       " 'unnecessary',\n",
       " '.',\n",
       " 'Gagarin',\n",
       " 're-entered',\n",
       " 'Earth',\n",
       " \"'s\",\n",
       " 'atmosphere',\n",
       " ',',\n",
       " 'experiencing',\n",
       " 'forces',\n",
       " 'up',\n",
       " 'to',\n",
       " 'eight',\n",
       " 'times',\n",
       " 'the',\n",
       " 'pull',\n",
       " 'of',\n",
       " 'gravity',\n",
       " ',',\n",
       " 'but',\n",
       " 'remained',\n",
       " 'consciousness',\n",
       " '.',\n",
       " 'Vostok',\n",
       " '1',\n",
       " 'had',\n",
       " 'no',\n",
       " 'engines',\n",
       " 'to',\n",
       " 'slow',\n",
       " 'its',\n",
       " 're-entry',\n",
       " 'or',\n",
       " 'a',\n",
       " 'way',\n",
       " 'to',\n",
       " 'land',\n",
       " 'safely',\n",
       " '.',\n",
       " 'About',\n",
       " 'four',\n",
       " 'miles',\n",
       " 'up',\n",
       " '(',\n",
       " 'seven',\n",
       " 'kilometers',\n",
       " ')',\n",
       " ',',\n",
       " 'Gagarin',\n",
       " 'ejected',\n",
       " 'and',\n",
       " 'parachuted',\n",
       " 'to',\n",
       " 'Earth',\n",
       " '.',\n",
       " 'In',\n",
       " 'order',\n",
       " 'for',\n",
       " 'the',\n",
       " 'mission',\n",
       " 'to',\n",
       " 'be',\n",
       " 'counted',\n",
       " 'as',\n",
       " 'an',\n",
       " 'official',\n",
       " 'spaceflight',\n",
       " ',',\n",
       " 'the',\n",
       " 'Fédération',\n",
       " 'Aéronautique',\n",
       " 'Internationale',\n",
       " '(',\n",
       " 'FAI',\n",
       " ')',\n",
       " ',',\n",
       " 'the',\n",
       " 'governing',\n",
       " 'body',\n",
       " 'for',\n",
       " 'aerospace',\n",
       " 'records',\n",
       " ',',\n",
       " 'had',\n",
       " 'determined',\n",
       " 'that',\n",
       " 'the',\n",
       " 'pilot',\n",
       " 'must',\n",
       " 'land',\n",
       " 'with',\n",
       " 'the',\n",
       " 'spacecraft',\n",
       " '.',\n",
       " 'Soviet',\n",
       " 'leaders',\n",
       " 'indicated',\n",
       " 'that',\n",
       " 'Gagarin',\n",
       " 'had',\n",
       " 'touched',\n",
       " 'down',\n",
       " 'with',\n",
       " 'the',\n",
       " 'Vostok',\n",
       " '1',\n",
       " ',',\n",
       " 'and',\n",
       " 'did',\n",
       " 'not',\n",
       " 'reveal',\n",
       " 'that',\n",
       " 'he',\n",
       " 'had',\n",
       " 'ejected',\n",
       " 'until',\n",
       " '1971',\n",
       " '.',\n",
       " 'Regardless',\n",
       " ',',\n",
       " 'Gagarin',\n",
       " 'still',\n",
       " 'set',\n",
       " 'the',\n",
       " 'record',\n",
       " 'as',\n",
       " 'the',\n",
       " 'first',\n",
       " 'man',\n",
       " 'to',\n",
       " 'leave',\n",
       " 'Earth',\n",
       " \"'s\",\n",
       " 'orbit',\n",
       " 'and',\n",
       " 'travel',\n",
       " 'into',\n",
       " 'space',\n",
       " '.',\n",
       " '[',\n",
       " 'Milestones',\n",
       " 'in',\n",
       " 'Human',\n",
       " 'Spaceflight',\n",
       " ':',\n",
       " 'Pictures',\n",
       " ']',\n",
       " 'After',\n",
       " 'the',\n",
       " 'mission',\n",
       " 'Upon',\n",
       " 'his',\n",
       " 'return',\n",
       " 'to',\n",
       " 'Earth',\n",
       " ',',\n",
       " 'Gagarin',\n",
       " 'was',\n",
       " 'an',\n",
       " 'international',\n",
       " 'hero',\n",
       " '.',\n",
       " 'He',\n",
       " 'was',\n",
       " 'cheered',\n",
       " 'in',\n",
       " 'Red',\n",
       " 'Square',\n",
       " 'by',\n",
       " 'a',\n",
       " 'crowd',\n",
       " 'of',\n",
       " 'hundreds',\n",
       " 'of',\n",
       " 'thousands',\n",
       " '.',\n",
       " 'A',\n",
       " 'national',\n",
       " 'treasure',\n",
       " ',',\n",
       " 'he',\n",
       " 'traveled',\n",
       " 'around',\n",
       " 'the',\n",
       " 'world',\n",
       " 'to',\n",
       " 'celebrate',\n",
       " 'the',\n",
       " 'historical',\n",
       " 'Soviet',\n",
       " 'achievement',\n",
       " '.',\n",
       " 'On',\n",
       " 'returning',\n",
       " 'home',\n",
       " ',',\n",
       " 'he',\n",
       " 'became',\n",
       " 'a',\n",
       " 'deputy',\n",
       " 'of',\n",
       " 'the',\n",
       " 'Supreme',\n",
       " 'Soviet',\n",
       " 'and',\n",
       " 'was',\n",
       " 'appointed',\n",
       " 'Commander',\n",
       " 'of',\n",
       " 'the',\n",
       " 'Cosmonauts',\n",
       " \"'\",\n",
       " 'Detachment',\n",
       " '.',\n",
       " 'Because',\n",
       " 'Russia',\n",
       " 'did',\n",
       " 'not',\n",
       " 'want',\n",
       " 'to',\n",
       " 'risk',\n",
       " 'such',\n",
       " 'a',\n",
       " 'public',\n",
       " 'figure',\n",
       " ',',\n",
       " 'they',\n",
       " 'were',\n",
       " 'hesitant',\n",
       " 'to',\n",
       " 'allow',\n",
       " 'him',\n",
       " 'back',\n",
       " 'into',\n",
       " 'space',\n",
       " '.',\n",
       " 'He',\n",
       " 'continued',\n",
       " 'to',\n",
       " 'make',\n",
       " 'test',\n",
       " 'flights',\n",
       " 'for',\n",
       " 'the',\n",
       " 'Air',\n",
       " 'Force',\n",
       " ',',\n",
       " 'however',\n",
       " '.',\n",
       " 'On',\n",
       " 'March',\n",
       " '27',\n",
       " ',',\n",
       " '1968',\n",
       " ',',\n",
       " 'Gagarin',\n",
       " 'was',\n",
       " 'killed',\n",
       " 'in',\n",
       " 'while',\n",
       " 'test-piloting',\n",
       " 'a',\n",
       " 'MiG-15',\n",
       " '.',\n",
       " 'He',\n",
       " 'was',\n",
       " 'survived',\n",
       " 'by',\n",
       " 'his',\n",
       " 'wife',\n",
       " ',',\n",
       " 'Valentina',\n",
       " 'Ivanovna',\n",
       " 'Goryacheva',\n",
       " ',',\n",
       " 'and',\n",
       " 'two',\n",
       " 'daughters',\n",
       " '.',\n",
       " 'When',\n",
       " 'Apollo',\n",
       " '11',\n",
       " 'touched',\n",
       " 'down',\n",
       " 'on',\n",
       " 'the',\n",
       " 'moon',\n",
       " 'in',\n",
       " 'July',\n",
       " '1969',\n",
       " ',',\n",
       " 'the',\n",
       " 'crew',\n",
       " 'left',\n",
       " 'behind',\n",
       " 'a',\n",
       " 'commemorative',\n",
       " 'medallion',\n",
       " 'bearing',\n",
       " 'Gagarin’s',\n",
       " 'name',\n",
       " ',',\n",
       " 'as',\n",
       " 'well',\n",
       " 'as',\n",
       " 'medallions',\n",
       " 'for',\n",
       " 'another',\n",
       " 'cosmonaut',\n",
       " 'and',\n",
       " 'three',\n",
       " 'Apollo',\n",
       " 'astronauts',\n",
       " 'who',\n",
       " 'lost',\n",
       " 'their',\n",
       " 'lives',\n",
       " 'in',\n",
       " 'accidents',\n",
       " '.',\n",
       " 'First',\n",
       " 'Americans',\n",
       " 'in',\n",
       " 'space',\n",
       " 'Alan',\n",
       " 'Shepard',\n",
       " 'flew',\n",
       " 'in',\n",
       " 'space',\n",
       " 'on',\n",
       " 'May',\n",
       " '5',\n",
       " ',',\n",
       " '1961',\n",
       " ',',\n",
       " 'the',\n",
       " 'first',\n",
       " 'American',\n",
       " 'to',\n",
       " 'do',\n",
       " 'so',\n",
       " '.',\n",
       " 'He',\n",
       " 'launched',\n",
       " 'aboard',\n",
       " 'a',\n",
       " 'Mercury-Redstone',\n",
       " '3',\n",
       " 'rocket',\n",
       " 'named',\n",
       " 'Freedom',\n",
       " '7',\n",
       " '.',\n",
       " 'The',\n",
       " 'suborbital',\n",
       " 'flight',\n",
       " 'lasted',\n",
       " '15',\n",
       " 'minutes',\n",
       " '.',\n",
       " 'Credit',\n",
       " ':',\n",
       " 'NASA',\n",
       " 'Alan',\n",
       " 'Shepard',\n",
       " 'was',\n",
       " 'the',\n",
       " 'first',\n",
       " 'American',\n",
       " 'in',\n",
       " 'space',\n",
       " 'and',\n",
       " 'the',\n",
       " 'second',\n",
       " 'person',\n",
       " 'in',\n",
       " 'space',\n",
       " ',',\n",
       " 'launching',\n",
       " 'on',\n",
       " 'a',\n",
       " 'suborbital',\n",
       " 'flight',\n",
       " 'in',\n",
       " 'a',\n",
       " 'Mercury',\n",
       " 'capsule',\n",
       " 'called',\n",
       " 'Freedom',\n",
       " '7',\n",
       " 'on',\n",
       " 'May',\n",
       " '5',\n",
       " ',',\n",
       " '1961',\n",
       " '—',\n",
       " 'just',\n",
       " 'three',\n",
       " 'weeks',\n",
       " 'after',\n",
       " 'Gagarin',\n",
       " \"'s\",\n",
       " 'flight',\n",
       " '.',\n",
       " '[',\n",
       " 'Pictures',\n",
       " 'of',\n",
       " 'the',\n",
       " 'First',\n",
       " 'American',\n",
       " 'in',\n",
       " 'Space',\n",
       " ']',\n",
       " 'Shepard',\n",
       " 'is',\n",
       " 'said',\n",
       " 'to',\n",
       " 'have',\n",
       " 'been',\n",
       " 'frustrated',\n",
       " 'that',\n",
       " 'the',\n",
       " 'United',\n",
       " 'States',\n",
       " 'did',\n",
       " 'not',\n",
       " 'win',\n",
       " 'the',\n",
       " 'race',\n",
       " '.',\n",
       " 'The',\n",
       " 'Soviet',\n",
       " 'victory',\n",
       " 'could',\n",
       " 'have',\n",
       " 'been',\n",
       " 'prevented',\n",
       " ',',\n",
       " 'Shepard',\n",
       " 'reportedly',\n",
       " 'felt',\n",
       " ',',\n",
       " 'had',\n",
       " 'NASA',\n",
       " 'not',\n",
       " 'delayed',\n",
       " 'his',\n",
       " 'mission',\n",
       " 'multiple',\n",
       " 'times',\n",
       " 'for',\n",
       " 'tests',\n",
       " '.',\n",
       " '``',\n",
       " 'I',\n",
       " 'think',\n",
       " 'he',\n",
       " 'was',\n",
       " 'a',\n",
       " 'little',\n",
       " 'bit',\n",
       " 'frustrated',\n",
       " 'with',\n",
       " 'NASA',\n",
       " 'for',\n",
       " ',',\n",
       " 'in',\n",
       " 'his',\n",
       " 'mind',\n",
       " ',',\n",
       " 'being',\n",
       " 'a',\n",
       " 'little',\n",
       " 'bit',\n",
       " 'overly',\n",
       " ...]"
      ]
     },
     "execution_count": 139,
     "metadata": {},
     "output_type": "execute_result"
    }
   ],
   "source": [
    "tokens = word_tokenize(raw)\n",
    "tokens"
   ]
  },
  {
   "cell_type": "code",
   "execution_count": 140,
   "metadata": {
    "collapsed": false
   },
   "outputs": [
    {
     "name": "stdout",
     "output_type": "stream",
     "text": [
      "Displaying 17 of 17 matches:\n",
      "                                     space . The Russians scored a victory when\n",
      "he history books as the first man in space . The race to the stars With the 195\n",
      "e Russians took an early lead in the space race . The next step was to send a h\n",
      "The American plan to send a man into space by 1961 created a deadline that the \n",
      "take a living , breathing human into space . [ INFOGRAPHIC : How the First Huma\n",
      "rs of Human Spaceflight ] First in ( space ) flight On April 12 , 1961 , at 9:0\n",
      "rolov , chief designer of the Soviet space program , disregarded protocol and g\n",
      "leave Earth 's orbit and travel into space . [ Milestones in Human Spaceflight \n",
      "were hesitant to allow him back into space . He continued to make test flights \n",
      "es in accidents . First Americans in space Alan Shepard flew in space on May 5 \n",
      "ricans in space Alan Shepard flew in space on May 5 , 1961 , the first American\n",
      "an Shepard was the first American in space and the second person in space , lau\n",
      "an in space and the second person in space , launching on a suborbital flight i\n",
      " [ Pictures of the First American in Space ] Shepard is said to have been frust\n",
      "erican in Orbit ] The first woman in space was Valentina Tereshkova , a Soviet \n",
      ", 1963 . The first American woman in space was Sally Ride , who was a mission s\n",
      " was a mission specialist aboard the Space Shuttle Challenger on flight STS-7 o\n"
     ]
    }
   ],
   "source": [
    "text = nltk.Text(tokens)\n",
    "text.concordance('space')"
   ]
  },
  {
   "cell_type": "code",
   "execution_count": 145,
   "metadata": {
    "collapsed": false
   },
   "outputs": [],
   "source": [
    "import feedparser\n",
    "log = feedparser.parse(\"http://languagelog.ldc.upenn.edu/nll/?feed=atom\")"
   ]
  },
  {
   "cell_type": "code",
   "execution_count": 146,
   "metadata": {
    "collapsed": false
   },
   "outputs": [
    {
     "data": {
      "text/plain": [
       "'Language Log'"
      ]
     },
     "execution_count": 146,
     "metadata": {},
     "output_type": "execute_result"
    }
   ],
   "source": [
    "log['feed']['title']"
   ]
  },
  {
   "cell_type": "code",
   "execution_count": 147,
   "metadata": {
    "collapsed": false
   },
   "outputs": [
    {
     "data": {
      "text/plain": [
       "13"
      ]
     },
     "execution_count": 147,
     "metadata": {},
     "output_type": "execute_result"
    }
   ],
   "source": [
    "len(log.entries)"
   ]
  },
  {
   "cell_type": "code",
   "execution_count": 148,
   "metadata": {
    "collapsed": false
   },
   "outputs": [
    {
     "data": {
      "text/plain": [
       "'Of precious swords and Old Sinitic reconstructions, part 3'"
      ]
     },
     "execution_count": 148,
     "metadata": {},
     "output_type": "execute_result"
    }
   ],
   "source": [
    "post = log.entries[2]\n",
    "post.title"
   ]
  },
  {
   "cell_type": "code",
   "execution_count": 149,
   "metadata": {
    "collapsed": false
   },
   "outputs": [
    {
     "data": {
      "text/plain": [
       "'<p>Previous posts in the series:</p>\\n<p style=\"padding-left: 30px;\">\"<'"
      ]
     },
     "execution_count": 149,
     "metadata": {},
     "output_type": "execute_result"
    }
   ],
   "source": [
    "content = post.content[0].value\n",
    "content[:70]"
   ]
  },
  {
   "cell_type": "code",
   "execution_count": 150,
   "metadata": {
    "collapsed": false
   },
   "outputs": [
    {
     "data": {
      "text/plain": [
       "1"
      ]
     },
     "execution_count": 150,
     "metadata": {},
     "output_type": "execute_result"
    }
   ],
   "source": [
    "len(post.content)"
   ]
  },
  {
   "cell_type": "code",
   "execution_count": 151,
   "metadata": {
    "collapsed": false,
    "scrolled": true
   },
   "outputs": [
    {
     "name": "stdout",
     "output_type": "stream",
     "text": [
      "1\n",
      "1\n",
      "1\n",
      "1\n",
      "1\n",
      "1\n",
      "1\n",
      "1\n",
      "1\n",
      "1\n",
      "1\n",
      "1\n",
      "1\n"
     ]
    }
   ],
   "source": [
    "for e in log.entries:\n",
    "    print(len(e.content))"
   ]
  },
  {
   "cell_type": "markdown",
   "metadata": {},
   "source": [
    "Libraries for reading pdf, doc and other common formats also exist"
   ]
  },
  {
   "cell_type": "markdown",
   "metadata": {},
   "source": [
    "### Reading files"
   ]
  },
  {
   "cell_type": "code",
   "execution_count": 155,
   "metadata": {
    "collapsed": false
   },
   "outputs": [
    {
     "name": "stdout",
     "output_type": "stream",
     "text": [
      " ’®¬ ў гбва®©бвўҐ D ­Ґ Ё¬ҐҐв ¬ҐвЄЁ.\n",
      " ‘ҐаЁ©­л© ­®¬Ґа в®¬ : 34C9-0349\n",
      "\n",
      " ‘®¤Ґа¦Ё¬®Ґ Ї ЇЄЁ D:\\Projects\\Natural language processing\n",
      "\n",
      "17.03.2016  18:51    <DIR>          .\n",
      "17.03.2016  18:51    <DIR>          ..\n",
      "17.03.2016  17:29    <DIR>          .ipynb_checkpoints\n",
      "09.03.2016  14:06            28я281 Collocations.ipynb\n",
      "09.03.2016  15:05                54 demo.txt\n",
      "09.03.2016  20:24               162 lexicon.csv\n",
      "03.03.2016  16:44        22я083я072 mystem.exe\n",
      "25.02.2016  19:33           994я549 NLTK-intro.ipynb\n",
      "17.03.2016  17:20            40я747 Part of speech tagging.ipynb\n",
      "17.03.2016  18:09             7я792 Part of speech tagging.zip\n",
      "03.03.2016  17:03    <DIR>          Paustovskiy_Corpus\n",
      "17.03.2016  18:51           140я480 WordNet, stemming, lemmatization, tips&tricks.ipynb\n",
      "17.03.2016  18:10             4я601 WordNet, stemming, lemmatization, tips&tricks.zip\n",
      "03.03.2016  16:53            49я509 Ї ¤Ґ¦Ё.gif\n",
      "              10 д ©«®ў     23я349я247 Ў ©в\n",
      "               4 Ї Ї®Є  269я805я809я664 Ў ©в бў®Ў®¤­®\n"
     ]
    }
   ],
   "source": [
    "!dir"
   ]
  },
  {
   "cell_type": "code",
   "execution_count": 153,
   "metadata": {
    "collapsed": false
   },
   "outputs": [
    {
     "data": {
      "text/plain": [
       "['.ipynb_checkpoints',\n",
       " 'Collocations.ipynb',\n",
       " 'demo.txt',\n",
       " 'lexicon.csv',\n",
       " 'mystem.exe',\n",
       " 'NLTK-intro.ipynb',\n",
       " 'Part of speech tagging.ipynb',\n",
       " 'Part of speech tagging.zip',\n",
       " 'Paustovskiy_Corpus',\n",
       " 'WordNet, stemming, lemmatization, tips&tricks.ipynb',\n",
       " 'WordNet, stemming, lemmatization, tips&tricks.zip',\n",
       " 'падежи.gif']"
      ]
     },
     "execution_count": 153,
     "metadata": {},
     "output_type": "execute_result"
    }
   ],
   "source": [
    "import os  # browse files in path\n",
    "os.listdir('.')"
   ]
  },
  {
   "cell_type": "code",
   "execution_count": 156,
   "metadata": {
    "collapsed": false
   },
   "outputs": [],
   "source": [
    "f = open('demo.txt')\n",
    "raw = f.read()"
   ]
  },
  {
   "cell_type": "code",
   "execution_count": 157,
   "metadata": {
    "collapsed": true
   },
   "outputs": [],
   "source": [
    "f.close()"
   ]
  },
  {
   "cell_type": "code",
   "execution_count": 158,
   "metadata": {
    "collapsed": false
   },
   "outputs": [
    {
     "data": {
      "text/plain": [
       "'Some sample contents \\nfor demonstrative \\npurposes.\\n'"
      ]
     },
     "execution_count": 158,
     "metadata": {},
     "output_type": "execute_result"
    }
   ],
   "source": [
    "raw"
   ]
  },
  {
   "cell_type": "code",
   "execution_count": 159,
   "metadata": {
    "collapsed": false
   },
   "outputs": [
    {
     "name": "stdout",
     "output_type": "stream",
     "text": [
      "Enter some text: hi\n",
      "You typed 1 words.\n"
     ]
    }
   ],
   "source": [
    "s = input(\"Enter some text: \")\n",
    "print(\"You typed\", len(word_tokenize(s)), \"words.\")"
   ]
  },
  {
   "cell_type": "markdown",
   "metadata": {},
   "source": [
    "# Operations on strings"
   ]
  },
  {
   "cell_type": "code",
   "execution_count": null,
   "metadata": {
    "collapsed": false
   },
   "outputs": [],
   "source": [
    "'some'+'string'"
   ]
  },
  {
   "cell_type": "code",
   "execution_count": null,
   "metadata": {
    "collapsed": false
   },
   "outputs": [],
   "source": [
    "'text'*3"
   ]
  },
  {
   "cell_type": "code",
   "execution_count": null,
   "metadata": {
    "collapsed": false
   },
   "outputs": [],
   "source": [
    "print('text')"
   ]
  },
  {
   "cell_type": "code",
   "execution_count": 160,
   "metadata": {
    "collapsed": false
   },
   "outputs": [
    {
     "name": "stdout",
     "output_type": "stream",
     "text": [
      "sometext\n"
     ]
    }
   ],
   "source": [
    "print('some'+'text')"
   ]
  },
  {
   "cell_type": "code",
   "execution_count": 161,
   "metadata": {
    "collapsed": false
   },
   "outputs": [
    {
     "name": "stdout",
     "output_type": "stream",
     "text": [
      "some text\n"
     ]
    }
   ],
   "source": [
    "print('some','text')"
   ]
  },
  {
   "cell_type": "code",
   "execution_count": 162,
   "metadata": {
    "collapsed": false
   },
   "outputs": [
    {
     "data": {
      "text/plain": [
       "[('e', 117092), ('t', 87996), ('a', 77916), ('o', 69326), ('n', 65617)]"
      ]
     },
     "execution_count": 162,
     "metadata": {},
     "output_type": "execute_result"
    }
   ],
   "source": [
    "from nltk.corpus import gutenberg\n",
    "raw = gutenberg.raw('melville-moby_dick.txt')\n",
    "fdist = nltk.FreqDist(ch.lower() for ch in raw if ch.isalpha())\n",
    "fdist.most_common(5)"
   ]
  },
  {
   "cell_type": "code",
   "execution_count": 163,
   "metadata": {
    "collapsed": false
   },
   "outputs": [
    {
     "data": {
      "text/plain": [
       "True"
      ]
     },
     "execution_count": 163,
     "metadata": {},
     "output_type": "execute_result"
    }
   ],
   "source": [
    "'hottest' in 'the hottest summer'"
   ]
  },
  {
   "cell_type": "code",
   "execution_count": 164,
   "metadata": {
    "collapsed": false
   },
   "outputs": [
    {
     "data": {
      "text/plain": [
       "8"
      ]
     },
     "execution_count": 164,
     "metadata": {},
     "output_type": "execute_result"
    }
   ],
   "source": [
    "'this is the hottest day of the summer'.find('the')"
   ]
  },
  {
   "cell_type": "code",
   "execution_count": 165,
   "metadata": {
    "collapsed": false
   },
   "outputs": [
    {
     "data": {
      "text/plain": [
       "27"
      ]
     },
     "execution_count": 165,
     "metadata": {},
     "output_type": "execute_result"
    }
   ],
   "source": [
    "'this is the hottest day of the summer'.rfind('the')"
   ]
  },
  {
   "cell_type": "code",
   "execution_count": 166,
   "metadata": {
    "collapsed": false
   },
   "outputs": [
    {
     "data": {
      "text/plain": [
       "'bunch of words'"
      ]
     },
     "execution_count": 166,
     "metadata": {},
     "output_type": "execute_result"
    }
   ],
   "source": [
    "' '.join(['bunch','of','words'])"
   ]
  },
  {
   "cell_type": "code",
   "execution_count": 167,
   "metadata": {
    "collapsed": false
   },
   "outputs": [
    {
     "data": {
      "text/plain": [
       "'bunch-of-words'"
      ]
     },
     "execution_count": 167,
     "metadata": {},
     "output_type": "execute_result"
    }
   ],
   "source": [
    "'-'.join(['bunch','of','words'])"
   ]
  },
  {
   "cell_type": "code",
   "execution_count": 168,
   "metadata": {
    "collapsed": false
   },
   "outputs": [
    {
     "data": {
      "text/plain": [
       "['bunch', 'of', 'words']"
      ]
     },
     "execution_count": 168,
     "metadata": {},
     "output_type": "execute_result"
    }
   ],
   "source": [
    "'bunch of words'.split(' ')"
   ]
  },
  {
   "cell_type": "code",
   "execution_count": 169,
   "metadata": {
    "collapsed": false
   },
   "outputs": [
    {
     "data": {
      "text/plain": [
       "['line', 'new line', 'one more line']"
      ]
     },
     "execution_count": 169,
     "metadata": {},
     "output_type": "execute_result"
    }
   ],
   "source": [
    "'line\\nnew line\\none more line'.splitlines()"
   ]
  },
  {
   "cell_type": "code",
   "execution_count": 170,
   "metadata": {
    "collapsed": false
   },
   "outputs": [
    {
     "data": {
      "text/plain": [
       "'moscow state university'"
      ]
     },
     "execution_count": 170,
     "metadata": {},
     "output_type": "execute_result"
    }
   ],
   "source": [
    "'Moscow State University'.lower()"
   ]
  },
  {
   "cell_type": "code",
   "execution_count": 171,
   "metadata": {
    "collapsed": false
   },
   "outputs": [
    {
     "data": {
      "text/plain": [
       "'some line beginning and ending with whitespace characters'"
      ]
     },
     "execution_count": 171,
     "metadata": {},
     "output_type": "execute_result"
    }
   ],
   "source": [
    "'  some line beginning and ending with whitespace characters   \\r\\n'.strip()"
   ]
  },
  {
   "cell_type": "markdown",
   "metadata": {},
   "source": [
    "## Encodings"
   ]
  },
  {
   "cell_type": "markdown",
   "metadata": {},
   "source": [
    "<b>Encode</b>: arbitrary encoding->unicode\n",
    "\n",
    "<b>Decode</b>: unicode->arbitrary encoding"
   ]
  },
  {
   "cell_type": "code",
   "execution_count": 172,
   "metadata": {
    "collapsed": false
   },
   "outputs": [
    {
     "name": "stdout",
     "output_type": "stream",
     "text": [
      "Pruska Biblioteka Państwowa. Jej dawne zbiory znane pod nazwą\n",
      "\"Berlinka\" to skarb kultury i sztuki niemieckiej. Przewiezione przez\n",
      "Niemców pod koniec II wojny światowej na Dolny Śląsk, zostały\n",
      "odnalezione po 1945 r. na terytorium Polski. Trafiły do Biblioteki\n",
      "Jagiellońskiej w Krakowie, obejmują ponad 500 tys. zabytkowych\n",
      "archiwaliów, m.in. manuskrypty Goethego, Mozarta, Beethovena, Bacha.\n"
     ]
    }
   ],
   "source": [
    "path = nltk.data.find('corpora/unicode_samples/polish-lat2.txt')\n",
    "\n",
    "f = open(path, encoding='latin2')\n",
    "for line in f:\n",
    "    line = line.strip()\n",
    "    print(line)"
   ]
  },
  {
   "cell_type": "code",
   "execution_count": 173,
   "metadata": {
    "collapsed": false
   },
   "outputs": [
    {
     "data": {
      "text/plain": [
       "['Pierre', 'Vinken', ',', '61', 'years', 'old', ',', ...]"
      ]
     },
     "execution_count": 173,
     "metadata": {},
     "output_type": "execute_result"
    }
   ],
   "source": [
    "nltk.corpus.treebank.words()"
   ]
  },
  {
   "cell_type": "code",
   "execution_count": 174,
   "metadata": {
    "collapsed": false
   },
   "outputs": [
    {
     "data": {
      "text/plain": [
       "[('c', 'carrot'),\n",
       " ('ca', 'carrot'),\n",
       " ('car', 'carrot'),\n",
       " ('a', 'carrot'),\n",
       " ('ar', 'carrot'),\n",
       " ('arr', 'carrot'),\n",
       " ('r', 'carrot'),\n",
       " ('rr', 'carrot'),\n",
       " ('rro', 'carrot'),\n",
       " ('r', 'carrot'),\n",
       " ('ro', 'carrot'),\n",
       " ('rot', 'carrot')]"
      ]
     },
     "execution_count": 174,
     "metadata": {},
     "output_type": "execute_result"
    }
   ],
   "source": [
    "n=3\n",
    "cv_word_pairs = [(w[i:i+j], w) for w in ['carrot']\n",
    "                         for i in range(len(w)-n+1) for j in range(1,n+1)]\n",
    "cv_word_pairs"
   ]
  },
  {
   "cell_type": "code",
   "execution_count": 175,
   "metadata": {
    "collapsed": false
   },
   "outputs": [
    {
     "ename": "NameError",
     "evalue": "name 'english_vocab' is not defined",
     "output_type": "error",
     "traceback": [
      "\u001b[1;31m---------------------------------------------------------------------------\u001b[0m",
      "\u001b[1;31mNameError\u001b[0m                                 Traceback (most recent call last)",
      "\u001b[1;32m<ipython-input-175-1a1c71ae1d68>\u001b[0m in \u001b[0;36m<module>\u001b[1;34m()\u001b[0m\n\u001b[0;32m      1\u001b[0m \u001b[0mn\u001b[0m\u001b[1;33m=\u001b[0m\u001b[1;36m3\u001b[0m\u001b[1;33m\u001b[0m\u001b[0m\n\u001b[1;32m----> 2\u001b[1;33m cv_word_pairs = nltk.Index([(w[i:i+j], w) for w in english_vocab\n\u001b[0m\u001b[0;32m      3\u001b[0m                            for i in range(len(w)-n+1) for j in range(1,n+1)])\n",
      "\u001b[1;31mNameError\u001b[0m: name 'english_vocab' is not defined"
     ]
    }
   ],
   "source": [
    "n=3\n",
    "cv_word_pairs = nltk.Index([(w[i:i+j], w) for w in english_vocab\n",
    "                           for i in range(len(w)-n+1) for j in range(1,n+1)])"
   ]
  },
  {
   "cell_type": "code",
   "execution_count": 176,
   "metadata": {
    "collapsed": false
   },
   "outputs": [
    {
     "ename": "TypeError",
     "evalue": "list indices must be integers or slices, not str",
     "output_type": "error",
     "traceback": [
      "\u001b[1;31m---------------------------------------------------------------------------\u001b[0m",
      "\u001b[1;31mTypeError\u001b[0m                                 Traceback (most recent call last)",
      "\u001b[1;32m<ipython-input-176-ed5d31840a29>\u001b[0m in \u001b[0;36m<module>\u001b[1;34m()\u001b[0m\n\u001b[1;32m----> 1\u001b[1;33m \u001b[0mcv_word_pairs\u001b[0m\u001b[1;33m[\u001b[0m\u001b[1;34m'xen'\u001b[0m\u001b[1;33m]\u001b[0m\u001b[1;33m\u001b[0m\u001b[0m\n\u001b[0m",
      "\u001b[1;31mTypeError\u001b[0m: list indices must be integers or slices, not str"
     ]
    }
   ],
   "source": [
    "cv_word_pairs['xen']"
   ]
  },
  {
   "cell_type": "markdown",
   "metadata": {},
   "source": [
    "## findall() on nltk.Text object"
   ]
  },
  {
   "cell_type": "markdown",
   "metadata": {},
   "source": [
    "<> selects a token"
   ]
  },
  {
   "cell_type": "code",
   "execution_count": 177,
   "metadata": {
    "collapsed": true
   },
   "outputs": [],
   "source": [
    "from nltk.corpus import gutenberg"
   ]
  },
  {
   "cell_type": "code",
   "execution_count": 178,
   "metadata": {
    "collapsed": true
   },
   "outputs": [],
   "source": [
    "moby = nltk.Text(gutenberg.words('melville-moby_dick.txt'))"
   ]
  },
  {
   "cell_type": "code",
   "execution_count": 179,
   "metadata": {
    "collapsed": false
   },
   "outputs": [
    {
     "data": {
      "text/plain": [
       "['[', 'Moby', 'Dick', 'by', 'Herman']"
      ]
     },
     "execution_count": 179,
     "metadata": {},
     "output_type": "execute_result"
    }
   ],
   "source": [
    "moby[:5]"
   ]
  },
  {
   "cell_type": "code",
   "execution_count": 180,
   "metadata": {
    "collapsed": false
   },
   "outputs": [
    {
     "name": "stdout",
     "output_type": "stream",
     "text": [
      "monied; nervous; dangerous; white; white; white; pious; queer; good;\n",
      "mature; white; Cape; great; wise; wise; butterless; white; fiendish;\n",
      "pale; furious; better; certain; complete; dismasted; younger; brave;\n",
      "brave; brave; brave\n"
     ]
    }
   ],
   "source": [
    "moby.findall(r\"<a> (<.*>) <man>\")"
   ]
  },
  {
   "cell_type": "code",
   "execution_count": 181,
   "metadata": {
    "collapsed": false
   },
   "outputs": [
    {
     "name": "stdout",
     "output_type": "stream",
     "text": [
      "nervous; dangerous; pious; furious\n"
     ]
    }
   ],
   "source": [
    "moby.findall(r\"<a> (<.*ous>) <man>\")"
   ]
  },
  {
   "cell_type": "code",
   "execution_count": 184,
   "metadata": {
    "collapsed": true
   },
   "outputs": [],
   "source": [
    "from nltk.corpus import nps_chat\n",
    "chat = nltk.Text(nps_chat.words())"
   ]
  },
  {
   "cell_type": "code",
   "execution_count": 185,
   "metadata": {
    "collapsed": false
   },
   "outputs": [
    {
     "name": "stdout",
     "output_type": "stream",
     "text": [
      "lol lol lol; lmao lol lol; lol lol lol; la la la la la; la la la; la\n",
      "la la; lovely lol lol love; lol lol lol.; la la la; la la la\n"
     ]
    }
   ],
   "source": [
    "chat.findall(r\"<l.*>{3,}\")"
   ]
  },
  {
   "cell_type": "code",
   "execution_count": 186,
   "metadata": {
    "collapsed": true
   },
   "outputs": [],
   "source": [
    "nltk.app.nemo()  # tool for tuning regular expressions"
   ]
  },
  {
   "cell_type": "code",
   "execution_count": 187,
   "metadata": {
    "collapsed": false
   },
   "outputs": [
    {
     "name": "stdout",
     "output_type": "stream",
     "text": [
      "{ some }extravagant{ news }here\n"
     ]
    }
   ],
   "source": [
    "nltk.re_show('\\W\\w{4}\\W', ' some extravagant news here') # highlight matched regular expressions in the string"
   ]
  },
  {
   "cell_type": "code",
   "execution_count": 188,
   "metadata": {
    "collapsed": false
   },
   "outputs": [
    {
     "name": "stdout",
     "output_type": "stream",
     "text": [
      "speed and other activities; water and other liquids; tomb and other\n",
      "landmarks; Statues and other monuments; pearls and other jewels;\n",
      "charts and other items; roads and other features; figures and other\n",
      "objects; military and other areas; demands and other factors;\n",
      "abstracts and other compilations; iron and other metals\n"
     ]
    }
   ],
   "source": [
    "#find word and hypernyms\n",
    "from nltk.corpus import brown\n",
    "hobbies_learned = nltk.Text(brown.words(categories=['hobbies', 'learned']))\n",
    "hobbies_learned.findall(r\"<\\w*> <and> <other> <\\w*s>\")"
   ]
  },
  {
   "cell_type": "markdown",
   "metadata": {},
   "source": [
    "demands and other factors - false positive!"
   ]
  },
  {
   "cell_type": "markdown",
   "metadata": {},
   "source": [
    "## Stemming"
   ]
  },
  {
   "cell_type": "code",
   "execution_count": 189,
   "metadata": {
    "collapsed": false
   },
   "outputs": [
    {
     "data": {
      "text/plain": [
       "['grow', 'popularit', 'of', 'the', 'advertize']"
      ]
     },
     "execution_count": 189,
     "metadata": {},
     "output_type": "execute_result"
    }
   ],
   "source": [
    "def stem(word):\n",
    "    regexp = r'^(.*?)(ing|ly|ed|ious|ies|ive|es|s|ment)?$'\n",
    "    stem, suffix = re.findall(regexp, word)[0]\n",
    "    return stem\n",
    "\n",
    "raw = \"\"\"growing popularities of the advertizement\"\"\"\n",
    "tokens = word_tokenize(raw)\n",
    "[stem(t) for t in tokens]"
   ]
  },
  {
   "cell_type": "code",
   "execution_count": 190,
   "metadata": {
    "collapsed": true
   },
   "outputs": [],
   "source": [
    "porter = nltk.PorterStemmer()\n",
    "lancaster = nltk.LancasterStemmer()"
   ]
  },
  {
   "cell_type": "code",
   "execution_count": 192,
   "metadata": {
    "collapsed": false
   },
   "outputs": [
    {
     "data": {
      "text/plain": [
       "['Разные', 'интересные', 'новости']"
      ]
     },
     "execution_count": 192,
     "metadata": {},
     "output_type": "execute_result"
    }
   ],
   "source": [
    "raw=\"Разные интересные новости\"\n",
    "tokens = word_tokenize(raw)\n",
    "tokens"
   ]
  },
  {
   "cell_type": "code",
   "execution_count": 194,
   "metadata": {
    "collapsed": false
   },
   "outputs": [
    {
     "data": {
      "text/plain": [
       "['Ignoring', 'these', 'factors', 'could', 'lead', 'to', 'many', 'troubles']"
      ]
     },
     "execution_count": 194,
     "metadata": {},
     "output_type": "execute_result"
    }
   ],
   "source": [
    "raw=\"Ignoring these factors could lead to many troubles\"\n",
    "tokens = word_tokenize(raw)\n",
    "tokens"
   ]
  },
  {
   "cell_type": "code",
   "execution_count": 195,
   "metadata": {
    "collapsed": false
   },
   "outputs": [
    {
     "data": {
      "text/plain": [
       "['Ignor', 'these', 'factor', 'could', 'lead', 'to', 'mani', 'troubl']"
      ]
     },
     "execution_count": 195,
     "metadata": {},
     "output_type": "execute_result"
    }
   ],
   "source": [
    "[porter.stem(t) for t in tokens]"
   ]
  },
  {
   "cell_type": "code",
   "execution_count": 196,
   "metadata": {
    "collapsed": false
   },
   "outputs": [
    {
     "data": {
      "text/plain": [
       "['ign', 'thes', 'fact', 'could', 'lead', 'to', 'many', 'troubl']"
      ]
     },
     "execution_count": 196,
     "metadata": {},
     "output_type": "execute_result"
    }
   ],
   "source": [
    "[lancaster.stem(t) for t in tokens]"
   ]
  },
  {
   "cell_type": "code",
   "execution_count": 197,
   "metadata": {
    "collapsed": false
   },
   "outputs": [],
   "source": [
    "def find_word(word,raw_text):\n",
    "    tokens = word_tokenize(raw_text)\n",
    "    stemmed_tokens = [porter.stem(token) for token in tokens]\n",
    "    stemmed_word = porter.stem(word)\n",
    "    inds = [i for i,stemmed_token in enumerate(stemmed_tokens) if stemmed_token==stemmed_word]\n",
    "    matching_tokens = [tokens[ind] for ind in inds]\n",
    "    return matching_tokens"
   ]
  },
  {
   "cell_type": "code",
   "execution_count": 198,
   "metadata": {
    "collapsed": false
   },
   "outputs": [
    {
     "name": "stdout",
     "output_type": "stream",
     "text": [
      "['boys', 'boy']\n"
     ]
    }
   ],
   "source": [
    "print( find_word('boys', 'Many boys play in the garden and one boy is playing indoors') )  "
   ]
  },
  {
   "cell_type": "code",
   "execution_count": 199,
   "metadata": {
    "collapsed": false
   },
   "outputs": [
    {
     "name": "stdout",
     "output_type": "stream",
     "text": [
      "['play', 'playing']\n"
     ]
    }
   ],
   "source": [
    "print( find_word('played', 'Many boys play in the garden and one boy is playing indoors') )  "
   ]
  },
  {
   "cell_type": "markdown",
   "metadata": {},
   "source": [
    "## Lemmatizer"
   ]
  },
  {
   "cell_type": "code",
   "execution_count": 200,
   "metadata": {
    "collapsed": true
   },
   "outputs": [],
   "source": [
    "lemmatizer = nltk.WordNetLemmatizer()"
   ]
  },
  {
   "cell_type": "code",
   "execution_count": 201,
   "metadata": {
    "collapsed": false
   },
   "outputs": [
    {
     "data": {
      "text/plain": [
       "['women', 'have', 'gone', 'to', 'the', 'field']"
      ]
     },
     "execution_count": 201,
     "metadata": {},
     "output_type": "execute_result"
    }
   ],
   "source": [
    "raw=\"women have gone to the fields\"\n",
    "tokens = word_tokenize(raw)\n",
    "\n",
    "[porter.stem(t) for t in tokens]"
   ]
  },
  {
   "cell_type": "code",
   "execution_count": 202,
   "metadata": {
    "collapsed": false
   },
   "outputs": [
    {
     "data": {
      "text/plain": [
       "['woman', 'have', 'gone', 'to', 'the', 'field']"
      ]
     },
     "execution_count": 202,
     "metadata": {},
     "output_type": "execute_result"
    }
   ],
   "source": [
    "raw=\"women have gone to the fields\"\n",
    "tokens = word_tokenize(raw)\n",
    "\n",
    "[lemmatizer.lemmatize(t) for t in tokens]"
   ]
  },
  {
   "cell_type": "markdown",
   "metadata": {},
   "source": [
    "## Segmenting text into words and sentences"
   ]
  },
  {
   "cell_type": "code",
   "execution_count": 203,
   "metadata": {
    "collapsed": true
   },
   "outputs": [],
   "source": [
    "text = nltk.corpus.gutenberg.raw('chesterton-thursday.txt')\n",
    "sents = nltk.sent_tokenize(text)"
   ]
  },
  {
   "cell_type": "code",
   "execution_count": 204,
   "metadata": {
    "collapsed": false
   },
   "outputs": [
    {
     "data": {
      "text/plain": [
       "['I went home.',\n",
       " 'Then I read a book about F.B.I.',\n",
       " 'B.H.Obama is the current president of the U.S.']"
      ]
     },
     "execution_count": 204,
     "metadata": {},
     "output_type": "execute_result"
    }
   ],
   "source": [
    "S='I went home. Then I read a book about F.B.I. B.H.Obama is the current president of the U.S.'\n",
    "nltk.sent_tokenize(S)"
   ]
  },
  {
   "cell_type": "markdown",
   "metadata": {},
   "source": [
    "# Python tips and tricks"
   ]
  },
  {
   "cell_type": "code",
   "execution_count": 205,
   "metadata": {
    "collapsed": false
   },
   "outputs": [
    {
     "name": "stdout",
     "output_type": "stream",
     "text": [
      "C:\\Development\\Anaconda3\\lib\\site-packages\\nltk\\translate\\metrics.py\n"
     ]
    }
   ],
   "source": [
    "print(nltk.metrics.__file__) # show file corresponding to particular module"
   ]
  },
  {
   "cell_type": "code",
   "execution_count": 208,
   "metadata": {
    "collapsed": false
   },
   "outputs": [],
   "source": [
    "sin??"
   ]
  },
  {
   "cell_type": "markdown",
   "metadata": {},
   "source": [
    "## Debugging"
   ]
  },
  {
   "cell_type": "code",
   "execution_count": 209,
   "metadata": {
    "collapsed": false
   },
   "outputs": [],
   "source": [
    "def fun_with_error():\n",
    "    a=1\n",
    "    b=0\n",
    "    return a/b"
   ]
  },
  {
   "cell_type": "code",
   "execution_count": 210,
   "metadata": {
    "collapsed": false
   },
   "outputs": [
    {
     "name": "stdout",
     "output_type": "stream",
     "text": [
      "> <string>(1)<module>()\n",
      "(Pdb) l\n",
      "[EOF]\n",
      "(Pdb) u\n",
      "> c:\\development\\anaconda3\\lib\\bdb.py(431)run()\n",
      "-> exec(cmd, globals, locals)\n",
      "(Pdb) u\n",
      "*** Oldest frame\n",
      "(Pdb) u\n",
      "*** Oldest frame\n",
      "(Pdb) q\n"
     ]
    }
   ],
   "source": [
    "import pdb\n",
    "pdb.run('fun_with_error()')"
   ]
  },
  {
   "cell_type": "code",
   "execution_count": 211,
   "metadata": {
    "collapsed": false
   },
   "outputs": [
    {
     "name": "stdout",
     "output_type": "stream",
     "text": [
      "> <ipython-input-211-d6cf5207c297>(5)fun_with_error()\n",
      "-> a=1\n",
      "(Pdb) l\n",
      "  1  \tfrom pdb import set_trace as bp\n",
      "  2  \t\n",
      "  3  \tdef fun_with_error():\n",
      "  4  \t    bp()  # put breakpoint here\n",
      "  5  ->\t    a=1\n",
      "  6  \t    b=0\n",
      "  7  \t    return a/b\n",
      "  8  \t\n",
      "  9  \tfun_with_error()\n",
      "[EOF]\n",
      "(Pdb) n\n",
      "> <ipython-input-211-d6cf5207c297>(6)fun_with_error()\n",
      "-> b=0\n",
      "(Pdb) n\n",
      "> <ipython-input-211-d6cf5207c297>(7)fun_with_error()\n",
      "-> return a/b\n",
      "(Pdb) a\n",
      "(Pdb) p a\n",
      "1\n",
      "(Pdb) p b\n",
      "0\n",
      "(Pdb) a/b\n",
      "(Pdb) p a/b\n",
      "*** ZeroDivisionError: division by zero\n",
      "(Pdb) n\n",
      "ZeroDivisionError: division by zero\n",
      "> <ipython-input-211-d6cf5207c297>(7)fun_with_error()\n",
      "-> return a/b\n",
      "(Pdb) q\n"
     ]
    },
    {
     "ename": "BdbQuit",
     "evalue": "",
     "output_type": "error",
     "traceback": [
      "\u001b[1;31m---------------------------------------------------------------------------\u001b[0m",
      "\u001b[1;31mBdbQuit\u001b[0m                                   Traceback (most recent call last)",
      "\u001b[1;32m<ipython-input-211-d6cf5207c297>\u001b[0m in \u001b[0;36m<module>\u001b[1;34m()\u001b[0m\n\u001b[0;32m      7\u001b[0m     \u001b[1;32mreturn\u001b[0m \u001b[0ma\u001b[0m\u001b[1;33m/\u001b[0m\u001b[0mb\u001b[0m\u001b[1;33m\u001b[0m\u001b[0m\n\u001b[0;32m      8\u001b[0m \u001b[1;33m\u001b[0m\u001b[0m\n\u001b[1;32m----> 9\u001b[1;33m \u001b[0mfun_with_error\u001b[0m\u001b[1;33m(\u001b[0m\u001b[1;33m)\u001b[0m\u001b[1;33m\u001b[0m\u001b[0m\n\u001b[0m",
      "\u001b[1;32m<ipython-input-211-d6cf5207c297>\u001b[0m in \u001b[0;36mfun_with_error\u001b[1;34m()\u001b[0m\n\u001b[0;32m      5\u001b[0m     \u001b[0ma\u001b[0m\u001b[1;33m=\u001b[0m\u001b[1;36m1\u001b[0m\u001b[1;33m\u001b[0m\u001b[0m\n\u001b[0;32m      6\u001b[0m     \u001b[0mb\u001b[0m\u001b[1;33m=\u001b[0m\u001b[1;36m0\u001b[0m\u001b[1;33m\u001b[0m\u001b[0m\n\u001b[1;32m----> 7\u001b[1;33m     \u001b[1;32mreturn\u001b[0m \u001b[0ma\u001b[0m\u001b[1;33m/\u001b[0m\u001b[0mb\u001b[0m\u001b[1;33m\u001b[0m\u001b[0m\n\u001b[0m\u001b[0;32m      8\u001b[0m \u001b[1;33m\u001b[0m\u001b[0m\n\u001b[0;32m      9\u001b[0m \u001b[0mfun_with_error\u001b[0m\u001b[1;33m(\u001b[0m\u001b[1;33m)\u001b[0m\u001b[1;33m\u001b[0m\u001b[0m\n",
      "\u001b[1;32mC:\\Development\\Anaconda3\\lib\\bdb.py\u001b[0m in \u001b[0;36mtrace_dispatch\u001b[1;34m(self, frame, event, arg)\u001b[0m\n\u001b[0;32m     52\u001b[0m             \u001b[1;32mreturn\u001b[0m \u001b[0mself\u001b[0m\u001b[1;33m.\u001b[0m\u001b[0mdispatch_return\u001b[0m\u001b[1;33m(\u001b[0m\u001b[0mframe\u001b[0m\u001b[1;33m,\u001b[0m \u001b[0marg\u001b[0m\u001b[1;33m)\u001b[0m\u001b[1;33m\u001b[0m\u001b[0m\n\u001b[0;32m     53\u001b[0m         \u001b[1;32mif\u001b[0m \u001b[0mevent\u001b[0m \u001b[1;33m==\u001b[0m \u001b[1;34m'exception'\u001b[0m\u001b[1;33m:\u001b[0m\u001b[1;33m\u001b[0m\u001b[0m\n\u001b[1;32m---> 54\u001b[1;33m             \u001b[1;32mreturn\u001b[0m \u001b[0mself\u001b[0m\u001b[1;33m.\u001b[0m\u001b[0mdispatch_exception\u001b[0m\u001b[1;33m(\u001b[0m\u001b[0mframe\u001b[0m\u001b[1;33m,\u001b[0m \u001b[0marg\u001b[0m\u001b[1;33m)\u001b[0m\u001b[1;33m\u001b[0m\u001b[0m\n\u001b[0m\u001b[0;32m     55\u001b[0m         \u001b[1;32mif\u001b[0m \u001b[0mevent\u001b[0m \u001b[1;33m==\u001b[0m \u001b[1;34m'c_call'\u001b[0m\u001b[1;33m:\u001b[0m\u001b[1;33m\u001b[0m\u001b[0m\n\u001b[0;32m     56\u001b[0m             \u001b[1;32mreturn\u001b[0m \u001b[0mself\u001b[0m\u001b[1;33m.\u001b[0m\u001b[0mtrace_dispatch\u001b[0m\u001b[1;33m\u001b[0m\u001b[0m\n",
      "\u001b[1;32mC:\\Development\\Anaconda3\\lib\\bdb.py\u001b[0m in \u001b[0;36mdispatch_exception\u001b[1;34m(self, frame, arg)\u001b[0m\n\u001b[0;32m    108\u001b[0m                     and arg[0] is StopIteration and arg[2] is None):\n\u001b[0;32m    109\u001b[0m                 \u001b[0mself\u001b[0m\u001b[1;33m.\u001b[0m\u001b[0muser_exception\u001b[0m\u001b[1;33m(\u001b[0m\u001b[0mframe\u001b[0m\u001b[1;33m,\u001b[0m \u001b[0marg\u001b[0m\u001b[1;33m)\u001b[0m\u001b[1;33m\u001b[0m\u001b[0m\n\u001b[1;32m--> 110\u001b[1;33m                 \u001b[1;32mif\u001b[0m \u001b[0mself\u001b[0m\u001b[1;33m.\u001b[0m\u001b[0mquitting\u001b[0m\u001b[1;33m:\u001b[0m \u001b[1;32mraise\u001b[0m \u001b[0mBdbQuit\u001b[0m\u001b[1;33m\u001b[0m\u001b[0m\n\u001b[0m\u001b[0;32m    111\u001b[0m         \u001b[1;31m# Stop at the StopIteration or GeneratorExit exception when the user\u001b[0m\u001b[1;33m\u001b[0m\u001b[1;33m\u001b[0m\u001b[0m\n\u001b[0;32m    112\u001b[0m         \u001b[1;31m# has set stopframe in a generator by issuing a return command, or a\u001b[0m\u001b[1;33m\u001b[0m\u001b[1;33m\u001b[0m\u001b[0m\n",
      "\u001b[1;31mBdbQuit\u001b[0m: "
     ]
    }
   ],
   "source": [
    "from pdb import set_trace as bp\n",
    "\n",
    "def fun_with_error():\n",
    "    bp()  # put breakpoint here\n",
    "    a=1\n",
    "    b=0\n",
    "    return a/b\n",
    "\n",
    "fun_with_error()"
   ]
  },
  {
   "cell_type": "code",
   "execution_count": null,
   "metadata": {
    "collapsed": false
   },
   "outputs": [],
   "source": [
    "1+1"
   ]
  },
  {
   "cell_type": "code",
   "execution_count": 212,
   "metadata": {
    "collapsed": false
   },
   "outputs": [
    {
     "ename": "ZeroDivisionError",
     "evalue": "division by zero",
     "output_type": "error",
     "traceback": [
      "\u001b[1;31m---------------------------------------------------------------------------\u001b[0m",
      "\u001b[1;31mZeroDivisionError\u001b[0m                         Traceback (most recent call last)",
      "\u001b[1;32m<ipython-input-212-18b7d942f28c>\u001b[0m in \u001b[0;36m<module>\u001b[1;34m()\u001b[0m\n\u001b[0;32m      4\u001b[0m     \u001b[1;32mreturn\u001b[0m \u001b[0ma\u001b[0m\u001b[1;33m/\u001b[0m\u001b[0mb\u001b[0m\u001b[1;33m\u001b[0m\u001b[0m\n\u001b[0;32m      5\u001b[0m \u001b[1;33m\u001b[0m\u001b[0m\n\u001b[1;32m----> 6\u001b[1;33m \u001b[0mfun_with_error\u001b[0m\u001b[1;33m(\u001b[0m\u001b[1;33m)\u001b[0m\u001b[1;33m\u001b[0m\u001b[0m\n\u001b[0m",
      "\u001b[1;32m<ipython-input-212-18b7d942f28c>\u001b[0m in \u001b[0;36mfun_with_error\u001b[1;34m()\u001b[0m\n\u001b[0;32m      2\u001b[0m     \u001b[0ma\u001b[0m\u001b[1;33m=\u001b[0m\u001b[1;36m1\u001b[0m\u001b[1;33m\u001b[0m\u001b[0m\n\u001b[0;32m      3\u001b[0m     \u001b[0mb\u001b[0m\u001b[1;33m=\u001b[0m\u001b[1;36m0\u001b[0m\u001b[1;33m\u001b[0m\u001b[0m\n\u001b[1;32m----> 4\u001b[1;33m     \u001b[1;32mreturn\u001b[0m \u001b[0ma\u001b[0m\u001b[1;33m/\u001b[0m\u001b[0mb\u001b[0m\u001b[1;33m\u001b[0m\u001b[0m\n\u001b[0m\u001b[0;32m      5\u001b[0m \u001b[1;33m\u001b[0m\u001b[0m\n\u001b[0;32m      6\u001b[0m \u001b[0mfun_with_error\u001b[0m\u001b[1;33m(\u001b[0m\u001b[1;33m)\u001b[0m\u001b[1;33m\u001b[0m\u001b[0m\n",
      "\u001b[1;31mZeroDivisionError\u001b[0m: division by zero"
     ]
    }
   ],
   "source": [
    "def fun_with_error():\n",
    "    a=1\n",
    "    b=0\n",
    "    return a/b\n",
    "\n",
    "fun_with_error()"
   ]
  },
  {
   "cell_type": "code",
   "execution_count": 213,
   "metadata": {
    "collapsed": false
   },
   "outputs": [
    {
     "name": "stdout",
     "output_type": "stream",
     "text": [
      "> \u001b[1;32m<ipython-input-212-18b7d942f28c>\u001b[0m(4)\u001b[0;36mfun_with_error\u001b[1;34m()\u001b[0m\n",
      "\u001b[1;32m      3 \u001b[1;33m    \u001b[0mb\u001b[0m\u001b[1;33m=\u001b[0m\u001b[1;36m0\u001b[0m\u001b[1;33m\u001b[0m\u001b[0m\n",
      "\u001b[0m\u001b[1;32m----> 4 \u001b[1;33m    \u001b[1;32mreturn\u001b[0m \u001b[0ma\u001b[0m\u001b[1;33m/\u001b[0m\u001b[0mb\u001b[0m\u001b[1;33m\u001b[0m\u001b[0m\n",
      "\u001b[0m\u001b[1;32m      5 \u001b[1;33m\u001b[1;33m\u001b[0m\u001b[0m\n",
      "\u001b[0m\n",
      "ipdb> l\n",
      "\u001b[0;32m      1 \u001b[0m\u001b[1;32mdef\u001b[0m \u001b[0mfun_with_error\u001b[0m\u001b[1;33m(\u001b[0m\u001b[1;33m)\u001b[0m\u001b[1;33m:\u001b[0m\u001b[1;33m\u001b[0m\u001b[0m\n",
      "\u001b[0;32m      2 \u001b[0m    \u001b[0ma\u001b[0m\u001b[1;33m=\u001b[0m\u001b[1;36m1\u001b[0m\u001b[1;33m\u001b[0m\u001b[0m\n",
      "\u001b[0;32m      3 \u001b[0m    \u001b[0mb\u001b[0m\u001b[1;33m=\u001b[0m\u001b[1;36m0\u001b[0m\u001b[1;33m\u001b[0m\u001b[0m\n",
      "\u001b[1;32m----> 4 \u001b[1;33m    \u001b[1;32mreturn\u001b[0m \u001b[0ma\u001b[0m\u001b[1;33m/\u001b[0m\u001b[0mb\u001b[0m\u001b[1;33m\u001b[0m\u001b[0m\n",
      "\u001b[0m\u001b[0;32m      5 \u001b[0m\u001b[1;33m\u001b[0m\u001b[0m\n",
      "\u001b[0;32m      6 \u001b[0m\u001b[0mfun_with_error\u001b[0m\u001b[1;33m(\u001b[0m\u001b[1;33m)\u001b[0m\u001b[1;33m\u001b[0m\u001b[0m\n",
      "\n",
      "ipdb> q\n"
     ]
    }
   ],
   "source": [
    "%debug"
   ]
  },
  {
   "cell_type": "markdown",
   "metadata": {},
   "source": [
    "List of debugging commands [here](http://web.stanford.edu/class/physics91si/2013/handouts/Pdb_Commands.pdf)"
   ]
  },
  {
   "cell_type": "code",
   "execution_count": 214,
   "metadata": {
    "collapsed": false
   },
   "outputs": [
    {
     "name": "stdout",
     "output_type": "stream",
     "text": [
      "sleep, sli:p, v.i, a condition of body and mind ...\n",
      "walk, wo:k, v.intr, progress by lifting and setting down each foot ...\n",
      "wake, weik, intrans, cease to sleep\n"
     ]
    }
   ],
   "source": [
    "for l in open(\"lexicon.csv\", \"r\"):\n",
    "    print(l,end='')"
   ]
  },
  {
   "cell_type": "code",
   "execution_count": 215,
   "metadata": {
    "collapsed": false
   },
   "outputs": [
    {
     "name": "stdout",
     "output_type": "stream",
     "text": [
      "['sleep', ' sli:p', ' v.i', ' a condition of body and mind ...']\n",
      "['walk', ' wo:k', ' v.intr', ' progress by lifting and setting down each foot ...']\n",
      "['wake', ' weik', ' intrans', ' cease to sleep']\n"
     ]
    }
   ],
   "source": [
    "import csv\n",
    "input_file = open(\"lexicon.csv\", \"r\") \n",
    "for row in csv.reader(input_file):\n",
    "    print(row)"
   ]
  },
  {
   "cell_type": "code",
   "execution_count": null,
   "metadata": {
    "collapsed": true
   },
   "outputs": [],
   "source": [
    "csv.reader?"
   ]
  }
 ],
 "metadata": {
  "kernelspec": {
   "display_name": "Python 3",
   "language": "python",
   "name": "python3"
  },
  "language_info": {
   "codemirror_mode": {
    "name": "ipython",
    "version": 3
   },
   "file_extension": ".py",
   "mimetype": "text/x-python",
   "name": "python",
   "nbconvert_exporter": "python",
   "pygments_lexer": "ipython3",
   "version": "3.5.1"
  }
 },
 "nbformat": 4,
 "nbformat_minor": 0
}
